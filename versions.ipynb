{
 "cells": [
  {
   "cell_type": "code",
   "execution_count": 2,
   "metadata": {},
   "outputs": [],
   "source": [
    "library(phyloseq)\n",
    "library(picante)\n",
    "library(ggplot2)\n",
    "library(multcomp)\n",
    "library(nlme)\n",
    "library(vegan)\n",
    "library(DAtest)\n",
    "library(edgeR)\n",
    "library(DESeq2)\n",
    "library(metagenomeSeq)\n",
    "library(limma)\n",
    "library(baySeq)\n",
    "library(ALDEx2)"
   ]
  },
  {
   "cell_type": "code",
   "execution_count": 3,
   "metadata": {},
   "outputs": [
    {
     "data": {
      "text/plain": [
       "R version 3.6.1 (2019-07-05)\n",
       "Platform: x86_64-w64-mingw32/x64 (64-bit)\n",
       "Running under: Windows 10 x64 (build 16299)\n",
       "\n",
       "Matrix products: default\n",
       "\n",
       "locale:\n",
       "[1] LC_COLLATE=Danish_Denmark.1252  LC_CTYPE=Danish_Denmark.1252   \n",
       "[3] LC_MONETARY=Danish_Denmark.1252 LC_NUMERIC=C                   \n",
       "[5] LC_TIME=Danish_Denmark.1252    \n",
       "\n",
       "attached base packages:\n",
       "[1] parallel  stats4    stats     graphics  grDevices utils     datasets \n",
       "[8] methods   base     \n",
       "\n",
       "other attached packages:\n",
       " [1] ALDEx2_1.18.0               baySeq_2.20.0              \n",
       " [3] abind_1.4-5                 metagenomeSeq_1.28.0       \n",
       " [5] RColorBrewer_1.1-2          glmnet_3.0-2               \n",
       " [7] Matrix_1.2-18               DESeq2_1.26.0              \n",
       " [9] SummarizedExperiment_1.16.1 DelayedArray_0.12.1        \n",
       "[11] BiocParallel_1.20.1         matrixStats_0.55.0         \n",
       "[13] Biobase_2.46.0              GenomicRanges_1.38.0       \n",
       "[15] GenomeInfoDb_1.22.0         IRanges_2.20.1             \n",
       "[17] S4Vectors_0.24.1            BiocGenerics_0.32.0        \n",
       "[19] edgeR_3.28.0                limma_3.42.0               \n",
       "[21] DAtest_2.7.15               multcomp_1.4-11            \n",
       "[23] TH.data_1.0-10              MASS_7.3-51.5              \n",
       "[25] survival_3.1-8              mvtnorm_1.0-11             \n",
       "[27] ggplot2_3.2.1               picante_1.8                \n",
       "[29] nlme_3.1-143                vegan_2.5-6                \n",
       "[31] lattice_0.20-38             permute_0.9-5              \n",
       "[33] ape_5.3                     phyloseq_1.30.0            \n",
       "\n",
       "loaded via a namespace (and not attached):\n",
       "  [1] uuid_0.1-2             snow_0.4-3             backports_1.1.5       \n",
       "  [4] Hmisc_4.3-0            plyr_1.8.5             igraph_1.2.4.2        \n",
       "  [7] repr_0.19.2            lazyeval_0.2.2         splines_3.6.1         \n",
       " [10] lpsymphony_1.14.0      digest_0.6.23          foreach_1.4.7         \n",
       " [13] htmltools_0.4.0        gdata_2.18.0           magrittr_1.5          \n",
       " [16] checkmate_1.9.4        memoise_1.1.0          cluster_2.1.0         \n",
       " [19] doParallel_1.0.15      Biostrings_2.54.0      annotate_1.64.0       \n",
       " [22] sandwich_2.5-1         jpeg_0.1-8.1           colorspace_1.4-1      \n",
       " [25] blob_1.2.0             xfun_0.11              dplyr_0.8.3           \n",
       " [28] crayon_1.3.4           RCurl_1.95-4.12        jsonlite_1.6          \n",
       " [31] genefilter_1.68.0      lme4_1.1-21            zeallot_0.1.0         \n",
       " [34] zoo_1.8-6              iterators_1.0.12       glue_1.3.1            \n",
       " [37] gtable_0.3.0           zlibbioc_1.32.0        XVector_0.26.0        \n",
       " [40] Rhdf5lib_1.8.0         shape_1.4.4            scales_1.1.0          \n",
       " [43] DBI_1.1.0              IHW_1.14.0             Rcpp_1.0.3            \n",
       " [46] xtable_1.8-4           htmlTable_1.13.3       foreign_0.8-74        \n",
       " [49] bit_1.1-14             Formula_1.2-3          htmlwidgets_1.5.1     \n",
       " [52] gplots_3.0.1.1         acepack_1.4.1          pkgconfig_2.0.3       \n",
       " [55] XML_3.98-1.20          nnet_7.3-12            locfit_1.5-9.1        \n",
       " [58] tidyselect_0.2.5       rlang_0.4.2            reshape2_1.4.3        \n",
       " [61] AnnotationDbi_1.48.0   munsell_0.5.0          tools_3.6.1           \n",
       " [64] RSQLite_2.1.5          ade4_1.7-13            fdrtool_1.2.15        \n",
       " [67] evaluate_0.14          biomformat_1.14.0      stringr_1.4.0         \n",
       " [70] knitr_1.26             bit64_0.9-7            caTools_1.17.1.3      \n",
       " [73] purrr_0.3.3            slam_0.1-47            compiler_3.6.1        \n",
       " [76] rstudioapi_0.10        png_0.1-7              tibble_2.1.3          \n",
       " [79] geneplotter_1.64.0     stringi_1.4.5          IRdisplay_0.7.0       \n",
       " [82] nloptr_1.2.1           multtest_2.42.0        vctrs_0.2.1           \n",
       " [85] pillar_1.4.3           lifecycle_0.1.0        data.table_1.12.8     \n",
       " [88] cowplot_1.0.0          bitops_1.0-6           R6_2.4.1              \n",
       " [91] latticeExtra_0.6-29    KernSmooth_2.23-16     gridExtra_2.3         \n",
       " [94] codetools_0.2-16       boot_1.3-24            gtools_3.8.1          \n",
       " [97] assertthat_0.2.1       Wrench_1.4.0           rhdf5_2.30.1          \n",
       "[100] withr_2.1.2            GenomeInfoDbData_1.2.2 mgcv_1.8-31           \n",
       "[103] doSNOW_1.0.18          grid_3.6.1             rpart_4.1-15          \n",
       "[106] IRkernel_0.8.15        minqa_1.2.4            pbdZMQ_0.3-3          \n",
       "[109] pROC_1.15.3            base64enc_0.1-3       "
      ]
     },
     "metadata": {},
     "output_type": "display_data"
    }
   ],
   "source": [
    "sessionInfo()"
   ]
  },
  {
   "cell_type": "code",
   "execution_count": null,
   "metadata": {},
   "outputs": [],
   "source": []
  }
 ],
 "metadata": {
  "kernelspec": {
   "display_name": "R",
   "language": "R",
   "name": "ir"
  },
  "language_info": {
   "codemirror_mode": "r",
   "file_extension": ".r",
   "mimetype": "text/x-r-source",
   "name": "R",
   "pygments_lexer": "r",
   "version": "3.6.1"
  }
 },
 "nbformat": 4,
 "nbformat_minor": 2
}
