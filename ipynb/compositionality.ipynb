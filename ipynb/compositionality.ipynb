{
 "cells": [
  {
   "cell_type": "markdown",
   "metadata": {},
   "source": [
    "# Compositionality and rarefaction\n",
    "Amplicon data is relative, AKA compositional. The number of reads for a given taxa in a given sample is in itself arbitrary and can only be interpreted relative to the rest of the taxa in the sample. Unless you have some quantitative measure on microbial cells for your samples, for example by qPCR, flow cytometry, or an added reference culture, this compositional nature of the data has to be accounted for in the analysis. \n",
    "\n",
    "The issue of varying read depth (AKA library size) in different samples gives rise to two separate problems:\n",
    "### 1) Abundance estimation\n",
    "##### 1.1) The problem with relative data\n",
    "Let's assume 200 reads are assigned to taxa A in a sample 1 and 200 reads are assigned to taxa A in sample 2. Taxa A is not necessarily equally abundant in these two samples, unless the read depth is similar in the two samples. The easy solution to this problem is to normalize (for example divide by) the total read depth of the sample. However, a taxa assigned to 10 out of 1000 reads has a relative abundance of 1%. A taxa assigned to 100 reads out of 10000 reads has a relative abundance of 1%. The first measure is much more prone to noise due to lower counts. \n",
    "##### 1.2) The problem with count data\n",
    "Variance increases with the number of read counts (AKA heteroscdasticity), which is a problem for common statistical analysis (see notebook Statistics 101).\n",
    "\n",
    "### 2) Detection threshold\n",
    "We will almost never detect all taxa in a given sample; if they are too rare they will go undetected. Samples with higher read depth will be more likely to include the rare taxa. Therefore, especially if we are interested in the presence/absence of certain taxa, varying read depth across samples can have a large impact."
   ]
  },
  {
   "cell_type": "markdown",
   "metadata": {},
   "source": [
    "## Rarefaction curves\n",
    "A rarefaction curve is a way to estimate how much of the diversity in a sample you have captured. The idea is straightforward: Take random subsamples of reads from your sample and calculate the diversity in this subsample, while you increase the number of reads you subsample the diversity increases, and if it at some point reaches a platau (before you run out of reads) we can to some extend assume that the diversity in the sample is covered.\n",
    "\n",
    "### Let's try it out in R:"
   ]
  },
  {
   "cell_type": "code",
   "execution_count": 2,
   "metadata": {},
   "outputs": [],
   "source": [
    "# Load phyloseq object\n",
    "library(phyloseq)\n",
    "library(ggplot2)\n",
    "load(\"physeq.RData\")"
   ]
  },
  {
   "cell_type": "markdown",
   "metadata": {},
   "source": [
    "We use a function from the MicEco package to calculate the curves"
   ]
  },
  {
   "cell_type": "code",
   "execution_count": 3,
   "metadata": {
    "collapsed": true
   },
   "outputs": [
    {
     "name": "stderr",
     "output_type": "stream",
     "text": [
      "Warning message:\n",
      "\"package 'MicEco' was built under R version 3.6.2\""
     ]
    },
    {
     "name": "stdout",
     "output_type": "stream",
     "text": [
      "  |======                                                                |   8%"
     ]
    },
    {
     "name": "stderr",
     "output_type": "stream",
     "text": [
      "Warning message in vegan::rarefy(otu, sample = subsamp[i], MARGIN = 2):\n",
      "\"requested 'sample' was larger than smallest site maximum (3910)\""
     ]
    },
    {
     "name": "stdout",
     "output_type": "stream",
     "text": [
      "\r",
      "  |                                                                            \r",
      "  |=======                                                               |  10%"
     ]
    },
    {
     "name": "stderr",
     "output_type": "stream",
     "text": [
      "Warning message in vegan::rarefy(otu, sample = subsamp[i], MARGIN = 2):\n",
      "\"requested 'sample' was larger than smallest site maximum (3910)\""
     ]
    },
    {
     "name": "stdout",
     "output_type": "stream",
     "text": [
      "\r",
      "  |                                                                            \r",
      "  |========                                                              |  12%"
     ]
    },
    {
     "name": "stderr",
     "output_type": "stream",
     "text": [
      "Warning message in vegan::rarefy(otu, sample = subsamp[i], MARGIN = 2):\n",
      "\"requested 'sample' was larger than smallest site maximum (3910)\""
     ]
    },
    {
     "name": "stdout",
     "output_type": "stream",
     "text": [
      "\r",
      "  |                                                                            \r",
      "  |==========                                                            |  14%"
     ]
    },
    {
     "name": "stderr",
     "output_type": "stream",
     "text": [
      "Warning message in vegan::rarefy(otu, sample = subsamp[i], MARGIN = 2):\n",
      "\"requested 'sample' was larger than smallest site maximum (3910)\""
     ]
    },
    {
     "name": "stdout",
     "output_type": "stream",
     "text": [
      "\r",
      "  |                                                                            \r",
      "  |===========                                                           |  16%"
     ]
    },
    {
     "name": "stderr",
     "output_type": "stream",
     "text": [
      "Warning message in vegan::rarefy(otu, sample = subsamp[i], MARGIN = 2):\n",
      "\"requested 'sample' was larger than smallest site maximum (3910)\""
     ]
    },
    {
     "name": "stdout",
     "output_type": "stream",
     "text": [
      "\r",
      "  |                                                                            \r",
      "  |=============                                                         |  18%"
     ]
    },
    {
     "name": "stderr",
     "output_type": "stream",
     "text": [
      "Warning message in vegan::rarefy(otu, sample = subsamp[i], MARGIN = 2):\n",
      "\"requested 'sample' was larger than smallest site maximum (3910)\""
     ]
    },
    {
     "name": "stdout",
     "output_type": "stream",
     "text": [
      "\r",
      "  |                                                                            \r",
      "  |==============                                                        |  20%"
     ]
    },
    {
     "name": "stderr",
     "output_type": "stream",
     "text": [
      "Warning message in vegan::rarefy(otu, sample = subsamp[i], MARGIN = 2):\n",
      "\"requested 'sample' was larger than smallest site maximum (3910)\""
     ]
    },
    {
     "name": "stdout",
     "output_type": "stream",
     "text": [
      "\r",
      "  |                                                                            \r",
      "  |===============                                                       |  22%"
     ]
    },
    {
     "name": "stderr",
     "output_type": "stream",
     "text": [
      "Warning message in vegan::rarefy(otu, sample = subsamp[i], MARGIN = 2):\n",
      "\"requested 'sample' was larger than smallest site maximum (3910)\""
     ]
    },
    {
     "name": "stdout",
     "output_type": "stream",
     "text": [
      "\r",
      "  |                                                                            \r",
      "  |=================                                                     |  24%"
     ]
    },
    {
     "name": "stderr",
     "output_type": "stream",
     "text": [
      "Warning message in vegan::rarefy(otu, sample = subsamp[i], MARGIN = 2):\n",
      "\"requested 'sample' was larger than smallest site maximum (3910)\""
     ]
    },
    {
     "name": "stdout",
     "output_type": "stream",
     "text": [
      "\r",
      "  |                                                                            \r",
      "  |==================                                                    |  26%"
     ]
    },
    {
     "name": "stderr",
     "output_type": "stream",
     "text": [
      "Warning message in vegan::rarefy(otu, sample = subsamp[i], MARGIN = 2):\n",
      "\"requested 'sample' was larger than smallest site maximum (3910)\""
     ]
    },
    {
     "name": "stdout",
     "output_type": "stream",
     "text": [
      "\r",
      "  |                                                                            \r",
      "  |====================                                                  |  28%"
     ]
    },
    {
     "name": "stderr",
     "output_type": "stream",
     "text": [
      "Warning message in vegan::rarefy(otu, sample = subsamp[i], MARGIN = 2):\n",
      "\"requested 'sample' was larger than smallest site maximum (3910)\""
     ]
    },
    {
     "name": "stdout",
     "output_type": "stream",
     "text": [
      "\r",
      "  |                                                                            \r",
      "  |=====================                                                 |  30%"
     ]
    },
    {
     "name": "stderr",
     "output_type": "stream",
     "text": [
      "Warning message in vegan::rarefy(otu, sample = subsamp[i], MARGIN = 2):\n",
      "\"requested 'sample' was larger than smallest site maximum (3910)\""
     ]
    },
    {
     "name": "stdout",
     "output_type": "stream",
     "text": [
      "\r",
      "  |                                                                            \r",
      "  |======================                                                |  32%"
     ]
    },
    {
     "name": "stderr",
     "output_type": "stream",
     "text": [
      "Warning message in vegan::rarefy(otu, sample = subsamp[i], MARGIN = 2):\n",
      "\"requested 'sample' was larger than smallest site maximum (3910)\""
     ]
    },
    {
     "name": "stdout",
     "output_type": "stream",
     "text": [
      "\r",
      "  |                                                                            \r",
      "  |========================                                              |  34%"
     ]
    },
    {
     "name": "stderr",
     "output_type": "stream",
     "text": [
      "Warning message in vegan::rarefy(otu, sample = subsamp[i], MARGIN = 2):\n",
      "\"requested 'sample' was larger than smallest site maximum (3910)\""
     ]
    },
    {
     "name": "stdout",
     "output_type": "stream",
     "text": [
      "\r",
      "  |                                                                            \r",
      "  |=========================                                             |  36%"
     ]
    },
    {
     "name": "stderr",
     "output_type": "stream",
     "text": [
      "Warning message in vegan::rarefy(otu, sample = subsamp[i], MARGIN = 2):\n",
      "\"requested 'sample' was larger than smallest site maximum (3910)\""
     ]
    },
    {
     "name": "stdout",
     "output_type": "stream",
     "text": [
      "\r",
      "  |                                                                            \r",
      "  |===========================                                           |  38%"
     ]
    },
    {
     "name": "stderr",
     "output_type": "stream",
     "text": [
      "Warning message in vegan::rarefy(otu, sample = subsamp[i], MARGIN = 2):\n",
      "\"requested 'sample' was larger than smallest site maximum (3910)\""
     ]
    },
    {
     "name": "stdout",
     "output_type": "stream",
     "text": [
      "\r",
      "  |                                                                            \r",
      "  |============================                                          |  40%"
     ]
    },
    {
     "name": "stderr",
     "output_type": "stream",
     "text": [
      "Warning message in vegan::rarefy(otu, sample = subsamp[i], MARGIN = 2):\n",
      "\"requested 'sample' was larger than smallest site maximum (3910)\""
     ]
    },
    {
     "name": "stdout",
     "output_type": "stream",
     "text": [
      "\r",
      "  |                                                                            \r",
      "  |=============================                                         |  42%"
     ]
    },
    {
     "name": "stderr",
     "output_type": "stream",
     "text": [
      "Warning message in vegan::rarefy(otu, sample = subsamp[i], MARGIN = 2):\n",
      "\"requested 'sample' was larger than smallest site maximum (3910)\""
     ]
    },
    {
     "name": "stdout",
     "output_type": "stream",
     "text": [
      "\r",
      "  |                                                                            \r",
      "  |===============================                                       |  44%"
     ]
    },
    {
     "name": "stderr",
     "output_type": "stream",
     "text": [
      "Warning message in vegan::rarefy(otu, sample = subsamp[i], MARGIN = 2):\n",
      "\"requested 'sample' was larger than smallest site maximum (3910)\""
     ]
    },
    {
     "name": "stdout",
     "output_type": "stream",
     "text": [
      "\r",
      "  |                                                                            \r",
      "  |================================                                      |  46%"
     ]
    },
    {
     "name": "stderr",
     "output_type": "stream",
     "text": [
      "Warning message in vegan::rarefy(otu, sample = subsamp[i], MARGIN = 2):\n",
      "\"requested 'sample' was larger than smallest site maximum (3910)\""
     ]
    },
    {
     "name": "stdout",
     "output_type": "stream",
     "text": [
      "\r",
      "  |                                                                            \r",
      "  |==================================                                    |  48%"
     ]
    },
    {
     "name": "stderr",
     "output_type": "stream",
     "text": [
      "Warning message in vegan::rarefy(otu, sample = subsamp[i], MARGIN = 2):\n",
      "\"requested 'sample' was larger than smallest site maximum (3910)\""
     ]
    },
    {
     "name": "stdout",
     "output_type": "stream",
     "text": [
      "\r",
      "  |                                                                            \r",
      "  |===================================                                   |  50%"
     ]
    },
    {
     "name": "stderr",
     "output_type": "stream",
     "text": [
      "Warning message in vegan::rarefy(otu, sample = subsamp[i], MARGIN = 2):\n",
      "\"requested 'sample' was larger than smallest site maximum (3910)\""
     ]
    },
    {
     "name": "stdout",
     "output_type": "stream",
     "text": [
      "\r",
      "  |                                                                            \r",
      "  |====================================                                  |  52%"
     ]
    },
    {
     "name": "stderr",
     "output_type": "stream",
     "text": [
      "Warning message in vegan::rarefy(otu, sample = subsamp[i], MARGIN = 2):\n",
      "\"requested 'sample' was larger than smallest site maximum (3910)\""
     ]
    },
    {
     "name": "stdout",
     "output_type": "stream",
     "text": [
      "\r",
      "  |                                                                            \r",
      "  |======================================                                |  54%"
     ]
    },
    {
     "name": "stderr",
     "output_type": "stream",
     "text": [
      "Warning message in vegan::rarefy(otu, sample = subsamp[i], MARGIN = 2):\n",
      "\"requested 'sample' was larger than smallest site maximum (3910)\""
     ]
    },
    {
     "name": "stdout",
     "output_type": "stream",
     "text": [
      "\r",
      "  |                                                                            \r",
      "  |=======================================                               |  56%"
     ]
    },
    {
     "name": "stderr",
     "output_type": "stream",
     "text": [
      "Warning message in vegan::rarefy(otu, sample = subsamp[i], MARGIN = 2):\n",
      "\"requested 'sample' was larger than smallest site maximum (3910)\""
     ]
    },
    {
     "name": "stdout",
     "output_type": "stream",
     "text": [
      "\r",
      "  |                                                                            \r",
      "  |=========================================                             |  58%"
     ]
    },
    {
     "name": "stderr",
     "output_type": "stream",
     "text": [
      "Warning message in vegan::rarefy(otu, sample = subsamp[i], MARGIN = 2):\n",
      "\"requested 'sample' was larger than smallest site maximum (3910)\""
     ]
    },
    {
     "name": "stdout",
     "output_type": "stream",
     "text": [
      "\r",
      "  |                                                                            \r",
      "  |==========================================                            |  60%"
     ]
    },
    {
     "name": "stderr",
     "output_type": "stream",
     "text": [
      "Warning message in vegan::rarefy(otu, sample = subsamp[i], MARGIN = 2):\n",
      "\"requested 'sample' was larger than smallest site maximum (3910)\""
     ]
    },
    {
     "name": "stdout",
     "output_type": "stream",
     "text": [
      "\r",
      "  |                                                                            \r",
      "  |===========================================                           |  62%"
     ]
    },
    {
     "name": "stderr",
     "output_type": "stream",
     "text": [
      "Warning message in vegan::rarefy(otu, sample = subsamp[i], MARGIN = 2):\n",
      "\"requested 'sample' was larger than smallest site maximum (3910)\""
     ]
    },
    {
     "name": "stdout",
     "output_type": "stream",
     "text": [
      "\r",
      "  |                                                                            \r",
      "  |=============================================                         |  64%"
     ]
    },
    {
     "name": "stderr",
     "output_type": "stream",
     "text": [
      "Warning message in vegan::rarefy(otu, sample = subsamp[i], MARGIN = 2):\n",
      "\"requested 'sample' was larger than smallest site maximum (3910)\""
     ]
    },
    {
     "name": "stdout",
     "output_type": "stream",
     "text": [
      "\r",
      "  |                                                                            \r",
      "  |==============================================                        |  66%"
     ]
    },
    {
     "name": "stderr",
     "output_type": "stream",
     "text": [
      "Warning message in vegan::rarefy(otu, sample = subsamp[i], MARGIN = 2):\n",
      "\"requested 'sample' was larger than smallest site maximum (3910)\""
     ]
    },
    {
     "name": "stdout",
     "output_type": "stream",
     "text": [
      "\r",
      "  |                                                                            \r",
      "  |================================================                      |  68%"
     ]
    },
    {
     "name": "stderr",
     "output_type": "stream",
     "text": [
      "Warning message in vegan::rarefy(otu, sample = subsamp[i], MARGIN = 2):\n",
      "\"requested 'sample' was larger than smallest site maximum (3910)\""
     ]
    },
    {
     "name": "stdout",
     "output_type": "stream",
     "text": [
      "\r",
      "  |                                                                            \r",
      "  |=================================================                     |  70%"
     ]
    },
    {
     "name": "stderr",
     "output_type": "stream",
     "text": [
      "Warning message in vegan::rarefy(otu, sample = subsamp[i], MARGIN = 2):\n",
      "\"requested 'sample' was larger than smallest site maximum (3910)\""
     ]
    },
    {
     "name": "stdout",
     "output_type": "stream",
     "text": [
      "\r",
      "  |                                                                            \r",
      "  |==================================================                    |  72%"
     ]
    },
    {
     "name": "stderr",
     "output_type": "stream",
     "text": [
      "Warning message in vegan::rarefy(otu, sample = subsamp[i], MARGIN = 2):\n",
      "\"requested 'sample' was larger than smallest site maximum (3910)\""
     ]
    },
    {
     "name": "stdout",
     "output_type": "stream",
     "text": [
      "\r",
      "  |                                                                            \r",
      "  |====================================================                  |  74%"
     ]
    },
    {
     "name": "stderr",
     "output_type": "stream",
     "text": [
      "Warning message in vegan::rarefy(otu, sample = subsamp[i], MARGIN = 2):\n",
      "\"requested 'sample' was larger than smallest site maximum (3910)\""
     ]
    },
    {
     "name": "stdout",
     "output_type": "stream",
     "text": [
      "\r",
      "  |                                                                            \r",
      "  |=====================================================                 |  76%"
     ]
    },
    {
     "name": "stderr",
     "output_type": "stream",
     "text": [
      "Warning message in vegan::rarefy(otu, sample = subsamp[i], MARGIN = 2):\n",
      "\"requested 'sample' was larger than smallest site maximum (3910)\""
     ]
    },
    {
     "name": "stdout",
     "output_type": "stream",
     "text": [
      "\r",
      "  |                                                                            \r",
      "  |=======================================================               |  78%"
     ]
    },
    {
     "name": "stderr",
     "output_type": "stream",
     "text": [
      "Warning message in vegan::rarefy(otu, sample = subsamp[i], MARGIN = 2):\n",
      "\"requested 'sample' was larger than smallest site maximum (3910)\""
     ]
    },
    {
     "name": "stdout",
     "output_type": "stream",
     "text": [
      "\r",
      "  |                                                                            \r",
      "  |========================================================              |  80%"
     ]
    },
    {
     "name": "stderr",
     "output_type": "stream",
     "text": [
      "Warning message in vegan::rarefy(otu, sample = subsamp[i], MARGIN = 2):\n",
      "\"requested 'sample' was larger than smallest site maximum (3910)\""
     ]
    },
    {
     "name": "stdout",
     "output_type": "stream",
     "text": [
      "\r",
      "  |                                                                            \r",
      "  |=========================================================             |  82%"
     ]
    },
    {
     "name": "stderr",
     "output_type": "stream",
     "text": [
      "Warning message in vegan::rarefy(otu, sample = subsamp[i], MARGIN = 2):\n",
      "\"requested 'sample' was larger than smallest site maximum (3910)\""
     ]
    },
    {
     "name": "stdout",
     "output_type": "stream",
     "text": [
      "\r",
      "  |                                                                            \r",
      "  |===========================================================           |  84%"
     ]
    },
    {
     "name": "stderr",
     "output_type": "stream",
     "text": [
      "Warning message in vegan::rarefy(otu, sample = subsamp[i], MARGIN = 2):\n",
      "\"requested 'sample' was larger than smallest site maximum (3910)\""
     ]
    },
    {
     "name": "stdout",
     "output_type": "stream",
     "text": [
      "\r",
      "  |                                                                            \r",
      "  |============================================================          |  86%"
     ]
    },
    {
     "name": "stderr",
     "output_type": "stream",
     "text": [
      "Warning message in vegan::rarefy(otu, sample = subsamp[i], MARGIN = 2):\n",
      "\"requested 'sample' was larger than smallest site maximum (3910)\""
     ]
    },
    {
     "name": "stdout",
     "output_type": "stream",
     "text": [
      "\r",
      "  |                                                                            \r",
      "  |==============================================================        |  88%"
     ]
    },
    {
     "name": "stderr",
     "output_type": "stream",
     "text": [
      "Warning message in vegan::rarefy(otu, sample = subsamp[i], MARGIN = 2):\n",
      "\"requested 'sample' was larger than smallest site maximum (3910)\""
     ]
    },
    {
     "name": "stdout",
     "output_type": "stream",
     "text": [
      "\r",
      "  |                                                                            \r",
      "  |===============================================================       |  90%"
     ]
    },
    {
     "name": "stderr",
     "output_type": "stream",
     "text": [
      "Warning message in vegan::rarefy(otu, sample = subsamp[i], MARGIN = 2):\n",
      "\"requested 'sample' was larger than smallest site maximum (3910)\""
     ]
    },
    {
     "name": "stdout",
     "output_type": "stream",
     "text": [
      "\r",
      "  |                                                                            \r",
      "  |================================================================      |  92%"
     ]
    },
    {
     "name": "stderr",
     "output_type": "stream",
     "text": [
      "Warning message in vegan::rarefy(otu, sample = subsamp[i], MARGIN = 2):\n",
      "\"requested 'sample' was larger than smallest site maximum (3910)\""
     ]
    },
    {
     "name": "stdout",
     "output_type": "stream",
     "text": [
      "\r",
      "  |                                                                            \r",
      "  |==================================================================    |  94%"
     ]
    },
    {
     "name": "stderr",
     "output_type": "stream",
     "text": [
      "Warning message in vegan::rarefy(otu, sample = subsamp[i], MARGIN = 2):\n",
      "\"requested 'sample' was larger than smallest site maximum (3910)\""
     ]
    },
    {
     "name": "stdout",
     "output_type": "stream",
     "text": [
      "\r",
      "  |                                                                            \r",
      "  |===================================================================   |  96%"
     ]
    },
    {
     "name": "stderr",
     "output_type": "stream",
     "text": [
      "Warning message in vegan::rarefy(otu, sample = subsamp[i], MARGIN = 2):\n",
      "\"requested 'sample' was larger than smallest site maximum (3910)\""
     ]
    },
    {
     "name": "stdout",
     "output_type": "stream",
     "text": [
      "\r",
      "  |                                                                            \r",
      "  |===================================================================== |  98%"
     ]
    },
    {
     "name": "stderr",
     "output_type": "stream",
     "text": [
      "Warning message in vegan::rarefy(otu, sample = subsamp[i], MARGIN = 2):\n",
      "\"requested 'sample' was larger than smallest site maximum (3910)\""
     ]
    },
    {
     "name": "stdout",
     "output_type": "stream",
     "text": [
      "\r",
      "  |                                                                            \r",
      "  |======================================================================| 100%"
     ]
    },
    {
     "name": "stderr",
     "output_type": "stream",
     "text": [
      "Warning message in vegan::rarefy(otu, sample = subsamp[i], MARGIN = 2):\n",
      "\"requested 'sample' was larger than smallest site maximum (3910)\""
     ]
    }
   ],
   "source": [
    "library(MicEco)\n",
    "rc_data <- rcurve(phy, subsamp = seq(from = 1000, to = 50000, by = 1000))"
   ]
  },
  {
   "cell_type": "markdown",
   "metadata": {},
   "source": [
    "In this plot below, each sample is a line. We do see that most samples seem to reach a platau, however, some are still rising until the end. The lines end at different number of reads due to their varying read depth"
   ]
  },
  {
   "cell_type": "code",
   "execution_count": 4,
   "metadata": {},
   "outputs": [
    {
     "data": {
      "image/png": "[encoded data removed]",
      "text/plain": [
       "plot without title"
      ]
     },
     "metadata": {},
     "output_type": "display_data"
    }
   ],
   "source": [
    "ggplot(rc_data, aes(Reads, Richness, group = Sample)) +\n",
    "    theme_bw() +\n",
    "    geom_line() +\n",
    "    facet_grid(~Time)"
   ]
  },
  {
   "cell_type": "markdown",
   "metadata": {},
   "source": [
    "## How to solve the problems\n",
    "### For presence/absence analysis (for example alpha diversity)\n",
    "There are overall two solutions to this problem:\n",
    "* 1) Rarefy data\n",
    "* 2) Include read depth in statistical analysis\n",
    "\n",
    "### For relative abundance analysis (for example beta diversity, differential abundance)\n",
    "There are overall three solutions to this problem:\n",
    "* 1) Rarefy data\n",
    "* 2) Include read depth in statistical analysis\n",
    "* 3) Compositional normalization\n",
    "\n",
    "\n",
    "### 1) Rarefy data\n",
    "Rarefying data is very popular in the literature and is a way to normalize the data. Basically, you choose a common read depth across all samples. All samples that have fewer reads than this threshold are thrown away. For all samples that have more reads than the threshold you randomly subsample the chosen common read depth (as with the rarefaction curve above). \n",
    "\n",
    "**Advantages:** Simple. \"Solves\" both the presence/absence and relative abundance problems stated above.\n",
    "\n",
    "**Disadvantages:** Removing valuable data. Relative abundances become less precise (as per 1.2 above). Producing false zeroes: After rarefying some taxa are suddenly not present in a sample anymore, because the reads were removed, even though these taxa were actually detected. [There are strong opponents against rarefying data](https://journals.plos.org/ploscompbiol/article?id=10.1371/journal.pcbi.1003531) (Disclaimer: Including this author).\n",
    "\n",
    "### 2) Include read depth in statistical analysis\n",
    "With this method you let the statistical analysis correct for the biases which varying read depth creates. For example, for alpha diversity you would include log10(read depth) in your ANOVA or linear model. For differential abundance there are multiple methods which accounts for read depth without discarding data (See for example the link above, or the notebook Differential abundance).\n",
    "\n",
    "**Advantanges:** Accurate analyses. Estimate effect of read depth on alpha diversity\n",
    "\n",
    "**Disadvantages:** Can be more tedious. No simple solution for beta diversity\n",
    "\n",
    "### 3) Compositional normalization\n",
    "With this method we normalize the data to remove the compositional biases. Here three different methods will be covered:\n",
    "\n",
    "#### 3.1) Total sum scaling (TSS)\n",
    "Simply divide the read count with the total number of reads for the sample.\n",
    "\n",
    "**Advantanges:** Simple. Log-transformation after TSS often works well for Differential abundance. Works well prior to common beta diversity calculations, e.g. Bray-Curtis or weighted UniFrac.\n",
    "\n",
    "**Disadvantages:** Does not solve the problem of heteroscedasticity (although log-transformation partially solves this)\n",
    "\n",
    "#### 3.2) Centered log-ratio transformation (CLR)\n",
    "A dedicated compositional transformation, which will not be explained in detail here.\n",
    "\n",
    "**Advantanges:** Normalizes data, such that common statistical analyses tools can be applied.\n",
    "\n",
    "**Disadvantages:** Does not work well with any zeroes in the dataset, unless pseudocounts are added (change zeroes to an arbitrary small number)\n",
    "\n",
    "#### 3.3) Variance stabilizing transformation (VST)\n",
    "Transformation to solve problem of heteroscedasticity. Used in the DESeq2 method (More on this in the Differential abundance notebook)\n",
    "\n",
    "**Advantanges:** Normalizes data, such that common statistical analyses tools can be applied.\n",
    "\n",
    "**Disadvantages:** Does not work well with many zeroes in the dataset, unless pseudocounts are added (change zeroes to an arbitrary small number)"
   ]
  },
  {
   "cell_type": "code",
   "execution_count": null,
   "metadata": {},
   "outputs": [],
   "source": []
  }
 ],
 "metadata": {
  "kernelspec": {
   "display_name": "R",
   "language": "R",
   "name": "ir"
  },
  "language_info": {
   "codemirror_mode": "r",
   "file_extension": ".r",
   "mimetype": "text/x-r-source",
   "name": "R",
   "pygments_lexer": "r",
   "version": "3.6.1"
  }
 },
 "nbformat": 4,
 "nbformat_minor": 2
}
