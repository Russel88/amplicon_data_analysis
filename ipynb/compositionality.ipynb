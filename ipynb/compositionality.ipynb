{
 "cells": [
  {
   "cell_type": "markdown",
   "metadata": {},
   "source": [
    "# Compositionality and rarefaction\n",
    "Amplicon data is relative, AKA compositional. The number of reads for a given taxa in a given sample is in itself arbitrary and can only be interpreted relative to the rest of the taxa in the sample. Unless you have some quantitative estimate on microbial cells for your samples, for example by qPCR, flow cytometry, or an added reference culture in each sample, this compositional nature of the data has to be accounted for in the analysis. \n",
    "\n",
    "The issue of varying read depth (AKA library size) in different samples also gives rise to two separate problems:\n",
    "### 1) Abundance estimation\n",
    "Let's assume 200 reads are assigned to taxa A in sample 1 and 200 reads are assigned to taxa A in sample 2. Taxa A is not necessarily equally abundant in these two samples, unless the read depth is similar in the two samples. The easy solution to this problem is to normalize (for example divide by) the total read depth of the sample.\n",
    "\n",
    "### 2) Detection threshold\n",
    "We will almost never detect all taxa in a given sample; if they are too rare they will go undetected. Samples with higher read depth will be more likely to include the rare taxa. Therefore, especially if we are interested in the presence/absence of certain taxa, varying read depth across samples can have a large impact."
   ]
  },
  {
   "cell_type": "markdown",
   "metadata": {},
   "source": [
    "## Rarefaction curves\n",
    "A rarefaction curve is a way to estimate how much of the diversity in a sample you have captured. The idea is straightforward: Take random subsamples of reads from your sample and calculate the diversity in this subsample, while you increase the number of reads you subsample the diversity increases, and if it at some point reaches a platau (before you run out of reads) we can to some extend assume that the diversity in the sample is covered.\n",
    "\n",
    "### Let's try it out in R:"
   ]
  },
  {
   "cell_type": "code",
   "execution_count": 1,
   "metadata": {},
   "outputs": [],
   "source": [
    "# Load phyloseq object and packages\n",
    "library(phyloseq)\n",
    "library(ggplot2)\n",
    "load(\"../data/physeq.RData\")"
   ]
  },
  {
   "cell_type": "markdown",
   "metadata": {},
   "source": [
    "We use a function from the MicEco package to calculate the curves"
   ]
  },
  {
   "cell_type": "code",
   "execution_count": null,
   "metadata": {},
   "outputs": [],
   "source": [
    "library(MicEco)\n",
    "rc_data <- rcurve(phy, subsamp = seq(from = 1000, to = 50000, by = 1000))"
   ]
  },
  {
   "cell_type": "markdown",
   "metadata": {},
   "source": [
    "In this plot below, each sample is a line. We see that most samples seem to reach a platau, however, some are still rising until the end. The lines end at different number of reads due to their varying read depth"
   ]
  },
  {
   "cell_type": "code",
   "execution_count": 3,
   "metadata": {},
   "outputs": [
    {
     "data": {
      "image/png": "[encoded data removed]",
      "text/plain": [
       "plot without title"
      ]
     },
     "metadata": {},
     "output_type": "display_data"
    }
   ],
   "source": [
    "ggplot(rc_data, aes(Reads, Richness, group = Sample)) +\n",
    "    theme_bw() +\n",
    "    geom_line() +\n",
    "    facet_grid(~Time)"
   ]
  },
  {
   "cell_type": "markdown",
   "metadata": {},
   "source": [
    "## How to solve the problems\n",
    "### For presence/absence analysis (for example alpha diversity)\n",
    "There are overall two solutions to this problem:\n",
    "* 1) Rarefy data\n",
    "* 2) Include read depth in statistical analysis\n",
    "\n",
    "### For relative abundance analysis (for example beta diversity, differential abundance)\n",
    "There are overall three solutions to this problem:\n",
    "* 1) Rarefy data\n",
    "* 2) Include read depth in statistical analysis\n",
    "* 3) Compositional normalization"
   ]
  },
  {
   "cell_type": "markdown",
   "metadata": {},
   "source": [
    "### 1) Rarefy data\n",
    "Rarefying data is very popular in the literature and is a way to normalize the data. Basically, you choose a common read depth across all samples. All samples that have fewer reads than this threshold are thrown away. For all samples that have more reads than the threshold you randomly subsample the chosen common read depth (as with the rarefaction curve above). Formally, rarefying is a random subsampling without replacement.\n",
    "\n",
    "**Advantages:** Simple. \"Solves\" both the presence/absence and relative abundance problems stated above.\n",
    "\n",
    "**Disadvantages:** Removing valuable data. Relative abundances become less precise. Producing false zeroes: After rarefying some taxa are suddenly not present in a sample anymore, because the reads were removed, even though these taxa were actually detected. [There are strong opponents against rarefying data](https://journals.plos.org/ploscompbiol/article?id=10.1371/journal.pcbi.1003531) (Disclaimer: Including this author).\n",
    "\n",
    "#### In R:"
   ]
  },
  {
   "cell_type": "code",
   "execution_count": 4,
   "metadata": {},
   "outputs": [
    {
     "name": "stderr",
     "output_type": "stream",
     "text": [
      "`set.seed(42)` was used to initialize repeatable random subsampling.\n",
      "Please record this for your records so others can reproduce.\n",
      "Try `set.seed(42); .Random.seed` for the full vector\n",
      "...\n",
      "20 samples removedbecause they contained fewer reads than `sample.size`.\n",
      "Up to first five removed samples are: \n",
      "\n",
      "S21S28S29S30S46\n",
      "...\n",
      "258OTUs were removed because they are no longer \n",
      "present in any sample after random subsampling\n",
      "\n",
      "...\n"
     ]
    }
   ],
   "source": [
    "phy_r <- rarefy_even_depth(phy, sample.size=10000, rngseed=42)"
   ]
  },
  {
   "cell_type": "markdown",
   "metadata": {},
   "source": [
    "### 2) Include read depth in statistical analysis\n",
    "With this method you let the statistical analysis correct for the biases which varying read depth creates. For example, for alpha diversity you would include log10(read depth) in your linear model. For differential abundance there are multiple methods which accounts for read depth without discarding data (See for example the link above, or the [notebook Differential abundance](https://microucph.github.io/amplicon_data_analysis/html/da.html)).\n",
    "\n",
    "**Advantanges:** Accurate analyses. Estimate effect of read depth on alpha diversity\n",
    "\n",
    "**Disadvantages:** Can be more tedious. No simple solution for beta diversity\n",
    "\n",
    "#### In R:\n",
    "See notebooks on [Alpha diversity](https://microucph.github.io/amplicon_data_analysis/html/alpha.html) and [Differential Abundance analysis](https://microucph.github.io/amplicon_data_analysis/html/da.html)"
   ]
  },
  {
   "cell_type": "markdown",
   "metadata": {},
   "source": [
    "### 3) Compositional normalization\n",
    "With this method we normalize the data to remove the compositional biases. Here just two different methods will be covered:\n",
    "\n",
    "#### 3.1) Total sum scaling (TSS)\n",
    "Simply divide the read count with the total number of reads for the sample.\n",
    "\n",
    "**Advantanges:** Simple. Log-transformation after TSS often works well for Differential abundance. Works well prior to common beta diversity calculations, e.g. Bray-Curtis or weighted UniFrac.\n",
    "\n",
    "**Disadvantages:** Does not solve the problem of heterogeneity of variance (although log-transformation might solves this).\n",
    "\n",
    "##### In R:"
   ]
  },
  {
   "cell_type": "code",
   "execution_count": 5,
   "metadata": {},
   "outputs": [],
   "source": [
    "phy_r <- transform_sample_counts(phy, function(x) x/sum(x))"
   ]
  },
  {
   "cell_type": "markdown",
   "metadata": {},
   "source": [
    "#### 3.2) Centered log-ratio transformation (CLR)\n",
    "A dedicated compositional transformation, which uses log-ratio to the geometric mean of the total abundance.\n",
    "\n",
    "**Advantanges:** Normalizes data, such that common statistical analyses tools can be applied.\n",
    "\n",
    "**Disadvantages:** Does not work well with any zeroes in the dataset, unless pseudocounts are added (change zeroes to an arbitrary small number)\n",
    "\n",
    "##### In R:"
   ]
  },
  {
   "cell_type": "code",
   "execution_count": 6,
   "metadata": {},
   "outputs": [],
   "source": [
    "# Multiplicative replacement of zeroes:\n",
    "# If there is a 0, insert a 1\n",
    "# All non-zero values are corrected such that log-ratios before and after correction are the same for non-zero ASVs\n",
    "phy_zc <- transform_sample_counts(phy, function(y) sapply(y, function(x) ifelse(x==0, 1, (1-(sum(y==0)*1)/sum(y))*x)))\n",
    "                                                          \n",
    "# CLR transform\n",
    "phy_clr <- transform_sample_counts(phy_zc, function(x) log(x/exp(mean(log(x)))))"
   ]
  }
 ],
 "metadata": {
  "kernelspec": {
   "display_name": "R",
   "language": "R",
   "name": "ir"
  },
  "language_info": {
   "codemirror_mode": "r",
   "file_extension": ".r",
   "mimetype": "text/x-r-source",
   "name": "R",
   "pygments_lexer": "r",
   "version": "3.6.3"
  }
 },
 "nbformat": 4,
 "nbformat_minor": 2
}
