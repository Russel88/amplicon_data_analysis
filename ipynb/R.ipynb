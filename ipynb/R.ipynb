{
 "cells": [
  {
   "cell_type": "markdown",
   "metadata": {},
   "source": [
    "# R - statistical programming\n",
    "This is a short introduction to the basic syntax of the R programming language. This notebook contains the basics for understanding most of the amplicon data analysis workflow.\n",
    "\n",
    "### Install\n",
    "If you are a KU student, it is advised to run RStudio through [ERDA](http://www.erda.dk/), where all the packages are already pre-installed. However, if you want to run R locally on your laptop, you have to install it first.\n",
    "* [First install R](https://www.r-project.org/)\n",
    "* [Then install RStudio](https://rstudio.com/products/rstudio/download/)\n",
    "\n",
    "### Learn R\n",
    "There are many ways to learn R:\n",
    "* [DataCamp](https://www.datacamp.com/)\n",
    "* [Code academy](https://www.codecademy.com/learn/learn-r)\n",
    "* [Coursera](https://www.coursera.org/learn/r-programming)\n",
    "* [or one of the many youtube videos](https://www.youtube.com/watch?v=fDRa82lxzaU)\n",
    "\n",
    "* **But most importantly:** Experiment! It takes many(!) hours to become a confindent R user. The most efficient way to get there, is playing around, experimenting."
   ]
  },
  {
   "cell_type": "code",
   "execution_count": 1,
   "metadata": {},
   "outputs": [],
   "source": [
    "# This is a comment. The # at the beginning ensures that R will ignore it."
   ]
  },
  {
   "cell_type": "markdown",
   "metadata": {},
   "source": [
    "## Working directory\n",
    "The working directory is the place where R will read and write files/plots to and from.\n",
    "\n",
    "It is easiest if this is the same place as where the script is located.\n",
    "\n",
    "In Rstudio, set this by clicking \"Session\" then \"Set Working Directory\" then \"To Source File Location\".\n",
    "\n",
    "Now R looks for datafiles and saves plots in the same location as where your script is located."
   ]
  },
  {
   "cell_type": "markdown",
   "metadata": {},
   "source": [
    "## Basic data types\n",
    "* **Numerics:** Numbers, e.g 1, 2, 1e3, 0.7, -5.4\n",
    "* **Characters:** Strings, e.g. \"Hello\", \"world\"\n",
    "* **Logicals:** Boolean, TRUE or FALSE"
   ]
  },
  {
   "cell_type": "markdown",
   "metadata": {},
   "source": [
    "## Simple arithmetics\n",
    "R understands simple arithmetics"
   ]
  },
  {
   "cell_type": "code",
   "execution_count": 2,
   "metadata": {},
   "outputs": [
    {
     "data": {
      "text/html": [
       "4"
      ],
      "text/latex": [
       "4"
      ],
      "text/markdown": [
       "4"
      ],
      "text/plain": [
       "[1] 4"
      ]
     },
     "metadata": {},
     "output_type": "display_data"
    }
   ],
   "source": [
    "2+2"
   ]
  },
  {
   "cell_type": "code",
   "execution_count": 3,
   "metadata": {},
   "outputs": [
    {
     "data": {
      "text/html": [
       "-10"
      ],
      "text/latex": [
       "-10"
      ],
      "text/markdown": [
       "-10"
      ],
      "text/plain": [
       "[1] -10"
      ]
     },
     "metadata": {},
     "output_type": "display_data"
    }
   ],
   "source": [
    "5*2/(1-2)^3"
   ]
  },
  {
   "cell_type": "markdown",
   "metadata": {},
   "source": [
    "## Objects\n",
    "We can save things in objects (in this case x and y)"
   ]
  },
  {
   "cell_type": "code",
   "execution_count": 4,
   "metadata": {},
   "outputs": [],
   "source": [
    "x <- 2\n",
    "y <- \"Hello\""
   ]
  },
  {
   "cell_type": "code",
   "execution_count": 5,
   "metadata": {},
   "outputs": [
    {
     "ename": "ERROR",
     "evalue": "Error in eval(expr, envir, enclos): objekt 'Hello' blev ikke fundet\n",
     "output_type": "error",
     "traceback": [
      "Error in eval(expr, envir, enclos): objekt 'Hello' blev ikke fundet\nTraceback:\n"
     ]
    }
   ],
   "source": [
    "# Characters, such as \"Hello\" are always quoted\n",
    "# Look what happens if we forget the quotation:\n",
    "y <- Hello\n",
    "# It looks for an object called Hello, which does not exist"
   ]
  },
  {
   "cell_type": "code",
   "execution_count": 6,
   "metadata": {},
   "outputs": [
    {
     "data": {
      "text/html": [
       "6"
      ],
      "text/latex": [
       "6"
      ],
      "text/markdown": [
       "6"
      ],
      "text/plain": [
       "[1] 6"
      ]
     },
     "metadata": {},
     "output_type": "display_data"
    }
   ],
   "source": [
    "# We can then use the objects\n",
    "x * 3"
   ]
  },
  {
   "cell_type": "code",
   "execution_count": 7,
   "metadata": {},
   "outputs": [
    {
     "name": "stdout",
     "output_type": "stream",
     "text": [
      "[1] \"Hello\"\n"
     ]
    }
   ],
   "source": [
    "print(y)"
   ]
  },
  {
   "cell_type": "code",
   "execution_count": 8,
   "metadata": {},
   "outputs": [
    {
     "name": "stdout",
     "output_type": "stream",
     "text": [
      "[1] 10\n"
     ]
    }
   ],
   "source": [
    "# We can change objects\n",
    "x <- 2 * 5\n",
    "print(x)"
   ]
  },
  {
   "cell_type": "code",
   "execution_count": 9,
   "metadata": {},
   "outputs": [
    {
     "name": "stdout",
     "output_type": "stream",
     "text": [
      "[1] 10\n"
     ]
    }
   ],
   "source": [
    "# We can copy objects\n",
    "k <- x\n",
    "print(k)"
   ]
  },
  {
   "cell_type": "markdown",
   "metadata": {},
   "source": [
    "## Functions\n",
    "Functions take the form of functionName(inputToFunction).\n",
    "\n",
    "You can always find help on how a function works by typing ?functionName"
   ]
  },
  {
   "cell_type": "code",
   "execution_count": 10,
   "metadata": {},
   "outputs": [],
   "source": [
    "?mean"
   ]
  },
  {
   "cell_type": "markdown",
   "metadata": {},
   "source": [
    "## Vectors\n",
    "We can make vectors with more than one number, character, or logical"
   ]
  },
  {
   "cell_type": "code",
   "execution_count": 11,
   "metadata": {},
   "outputs": [],
   "source": [
    "# Use the function c() to create a vector\n",
    "nums <- c(1, 4, 6, 10, 12, 5, 2)\n",
    "test <- c(\"Hello\", \"world.\", \"Anybody\", \"there?\")"
   ]
  },
  {
   "cell_type": "markdown",
   "metadata": {},
   "source": [
    "We can do simple operations on these vectors"
   ]
  },
  {
   "cell_type": "code",
   "execution_count": 12,
   "metadata": {},
   "outputs": [
    {
     "data": {
      "text/html": [
       "1"
      ],
      "text/latex": [
       "1"
      ],
      "text/markdown": [
       "1"
      ],
      "text/plain": [
       "[1] 1"
      ]
     },
     "metadata": {},
     "output_type": "display_data"
    }
   ],
   "source": [
    "# Minimum\n",
    "min(nums)"
   ]
  },
  {
   "cell_type": "code",
   "execution_count": 13,
   "metadata": {},
   "outputs": [
    {
     "data": {
      "text/html": [
       "12"
      ],
      "text/latex": [
       "12"
      ],
      "text/markdown": [
       "12"
      ],
      "text/plain": [
       "[1] 12"
      ]
     },
     "metadata": {},
     "output_type": "display_data"
    }
   ],
   "source": [
    "# Maximum\n",
    "max(nums)"
   ]
  },
  {
   "cell_type": "code",
   "execution_count": 14,
   "metadata": {},
   "outputs": [
    {
     "data": {
      "text/html": [
       "40"
      ],
      "text/latex": [
       "40"
      ],
      "text/markdown": [
       "40"
      ],
      "text/plain": [
       "[1] 40"
      ]
     },
     "metadata": {},
     "output_type": "display_data"
    }
   ],
   "source": [
    "# Sum\n",
    "sum(nums)"
   ]
  },
  {
   "cell_type": "code",
   "execution_count": 15,
   "metadata": {},
   "outputs": [
    {
     "data": {
      "text/html": [
       "<ol class=list-inline>\n",
       "\t<li>0</li>\n",
       "\t<li>0.602059991327962</li>\n",
       "\t<li>0.778151250383644</li>\n",
       "\t<li>1</li>\n",
       "\t<li>1.07918124604762</li>\n",
       "\t<li>0.698970004336019</li>\n",
       "\t<li>0.301029995663981</li>\n",
       "</ol>\n"
      ],
      "text/latex": [
       "\\begin{enumerate*}\n",
       "\\item 0\n",
       "\\item 0.602059991327962\n",
       "\\item 0.778151250383644\n",
       "\\item 1\n",
       "\\item 1.07918124604762\n",
       "\\item 0.698970004336019\n",
       "\\item 0.301029995663981\n",
       "\\end{enumerate*}\n"
      ],
      "text/markdown": [
       "1. 0\n",
       "2. 0.602059991327962\n",
       "3. 0.778151250383644\n",
       "4. 1\n",
       "5. 1.07918124604762\n",
       "6. 0.698970004336019\n",
       "7. 0.301029995663981\n",
       "\n",
       "\n"
      ],
      "text/plain": [
       "[1] 0.0000000 0.6020600 0.7781513 1.0000000 1.0791812 0.6989700 0.3010300"
      ]
     },
     "metadata": {},
     "output_type": "display_data"
    }
   ],
   "source": [
    "# Log10\n",
    "log10(nums)"
   ]
  },
  {
   "cell_type": "code",
   "execution_count": 16,
   "metadata": {},
   "outputs": [
    {
     "data": {
      "text/html": [
       "6"
      ],
      "text/latex": [
       "6"
      ],
      "text/markdown": [
       "6"
      ],
      "text/plain": [
       "[1] 6"
      ]
     },
     "metadata": {},
     "output_type": "display_data"
    },
    {
     "data": {
      "text/html": [
       "'Anybody'"
      ],
      "text/latex": [
       "'Anybody'"
      ],
      "text/markdown": [
       "'Anybody'"
      ],
      "text/plain": [
       "[1] \"Anybody\""
      ]
     },
     "metadata": {},
     "output_type": "display_data"
    }
   ],
   "source": [
    "# Access the third element\n",
    "nums[3]\n",
    "test[3]"
   ]
  },
  {
   "cell_type": "code",
   "execution_count": 17,
   "metadata": {},
   "outputs": [
    {
     "data": {
      "text/html": [
       "<ol class=list-inline>\n",
       "\t<li>'before Hello after'</li>\n",
       "\t<li>'before world. after'</li>\n",
       "\t<li>'before Anybody after'</li>\n",
       "\t<li>'before there? after'</li>\n",
       "</ol>\n"
      ],
      "text/latex": [
       "\\begin{enumerate*}\n",
       "\\item 'before Hello after'\n",
       "\\item 'before world. after'\n",
       "\\item 'before Anybody after'\n",
       "\\item 'before there? after'\n",
       "\\end{enumerate*}\n"
      ],
      "text/markdown": [
       "1. 'before Hello after'\n",
       "2. 'before world. after'\n",
       "3. 'before Anybody after'\n",
       "4. 'before there? after'\n",
       "\n",
       "\n"
      ],
      "text/plain": [
       "[1] \"before Hello after\"   \"before world. after\"  \"before Anybody after\"\n",
       "[4] \"before there? after\" "
      ]
     },
     "metadata": {},
     "output_type": "display_data"
    }
   ],
   "source": [
    "# Append strings\n",
    "paste(\"before\", test, \"after\")"
   ]
  },
  {
   "cell_type": "code",
   "execution_count": 60,
   "metadata": {},
   "outputs": [
    {
     "data": {
      "text/html": [
       "<ol class=list-inline>\n",
       "\t<li>'Number:1'</li>\n",
       "\t<li>'Number:4'</li>\n",
       "\t<li>'Number:6'</li>\n",
       "\t<li>'Number:10'</li>\n",
       "\t<li>'Number:12'</li>\n",
       "\t<li>'Number:5'</li>\n",
       "\t<li>'Number:2'</li>\n",
       "</ol>\n"
      ],
      "text/latex": [
       "\\begin{enumerate*}\n",
       "\\item 'Number:1'\n",
       "\\item 'Number:4'\n",
       "\\item 'Number:6'\n",
       "\\item 'Number:10'\n",
       "\\item 'Number:12'\n",
       "\\item 'Number:5'\n",
       "\\item 'Number:2'\n",
       "\\end{enumerate*}\n"
      ],
      "text/markdown": [
       "1. 'Number:1'\n",
       "2. 'Number:4'\n",
       "3. 'Number:6'\n",
       "4. 'Number:10'\n",
       "5. 'Number:12'\n",
       "6. 'Number:5'\n",
       "7. 'Number:2'\n",
       "\n",
       "\n"
      ],
      "text/plain": [
       "[1] \"Number:1\"  \"Number:4\"  \"Number:6\"  \"Number:10\" \"Number:12\" \"Number:5\" \n",
       "[7] \"Number:2\" "
      ]
     },
     "metadata": {},
     "output_type": "display_data"
    }
   ],
   "source": [
    "paste(\"Number\", nums, sep=\":\")"
   ]
  },
  {
   "cell_type": "markdown",
   "metadata": {},
   "source": [
    "## Factors\n",
    "Factors are a special type of vector. In a factor the strings/numbers are given \"levels\" which by default are alphabetical. These levels for example determine the order categorical variables are plotted (as we will see later), and changing this order, means changing the factor levels"
   ]
  },
  {
   "cell_type": "code",
   "execution_count": 18,
   "metadata": {},
   "outputs": [],
   "source": [
    "x <- factor(c(\"A\", \"A\", \"B\", \"B\"))"
   ]
  },
  {
   "cell_type": "code",
   "execution_count": 19,
   "metadata": {},
   "outputs": [
    {
     "data": {
      "text/html": [
       "<ol class=list-inline>\n",
       "\t<li>A</li>\n",
       "\t<li>A</li>\n",
       "\t<li>B</li>\n",
       "\t<li>B</li>\n",
       "</ol>\n",
       "\n",
       "<details>\n",
       "\t<summary style=display:list-item;cursor:pointer>\n",
       "\t\t<strong>Levels</strong>:\n",
       "\t</summary>\n",
       "\t<ol class=list-inline>\n",
       "\t\t<li>'A'</li>\n",
       "\t\t<li>'B'</li>\n",
       "\t</ol>\n",
       "</details>"
      ],
      "text/latex": [
       "\\begin{enumerate*}\n",
       "\\item A\n",
       "\\item A\n",
       "\\item B\n",
       "\\item B\n",
       "\\end{enumerate*}\n",
       "\n",
       "\\emph{Levels}: \\begin{enumerate*}\n",
       "\\item 'A'\n",
       "\\item 'B'\n",
       "\\end{enumerate*}\n"
      ],
      "text/markdown": [
       "1. A\n",
       "2. A\n",
       "3. B\n",
       "4. B\n",
       "\n",
       "\n",
       "\n",
       "**Levels**: 1. 'A'\n",
       "2. 'B'\n",
       "\n",
       "\n"
      ],
      "text/plain": [
       "[1] A A B B\n",
       "Levels: A B"
      ]
     },
     "metadata": {},
     "output_type": "display_data"
    }
   ],
   "source": [
    "x"
   ]
  },
  {
   "cell_type": "code",
   "execution_count": 20,
   "metadata": {},
   "outputs": [
    {
     "data": {
      "text/html": [
       "<ol class=list-inline>\n",
       "\t<li>A</li>\n",
       "\t<li>A</li>\n",
       "\t<li>B</li>\n",
       "\t<li>B</li>\n",
       "</ol>\n",
       "\n",
       "<details>\n",
       "\t<summary style=display:list-item;cursor:pointer>\n",
       "\t\t<strong>Levels</strong>:\n",
       "\t</summary>\n",
       "\t<ol class=list-inline>\n",
       "\t\t<li>'B'</li>\n",
       "\t\t<li>'A'</li>\n",
       "\t</ol>\n",
       "</details>"
      ],
      "text/latex": [
       "\\begin{enumerate*}\n",
       "\\item A\n",
       "\\item A\n",
       "\\item B\n",
       "\\item B\n",
       "\\end{enumerate*}\n",
       "\n",
       "\\emph{Levels}: \\begin{enumerate*}\n",
       "\\item 'B'\n",
       "\\item 'A'\n",
       "\\end{enumerate*}\n"
      ],
      "text/markdown": [
       "1. A\n",
       "2. A\n",
       "3. B\n",
       "4. B\n",
       "\n",
       "\n",
       "\n",
       "**Levels**: 1. 'B'\n",
       "2. 'A'\n",
       "\n",
       "\n"
      ],
      "text/plain": [
       "[1] A A B B\n",
       "Levels: B A"
      ]
     },
     "metadata": {},
     "output_type": "display_data"
    }
   ],
   "source": [
    "x <- factor(c(\"A\", \"A\", \"B\", \"B\"), levels = c(\"B\", \"A\"))\n",
    "x"
   ]
  },
  {
   "cell_type": "markdown",
   "metadata": {},
   "source": [
    "## Convert between types\n",
    "You can convert between types with as.type. Always check the output! Converting might do something unexpected, and is not always reversible"
   ]
  },
  {
   "cell_type": "code",
   "execution_count": 21,
   "metadata": {},
   "outputs": [
    {
     "data": {
      "text/html": [
       "<ol class=list-inline>\n",
       "\t<li>'1'</li>\n",
       "\t<li>'2'</li>\n",
       "\t<li>'3'</li>\n",
       "</ol>\n"
      ],
      "text/latex": [
       "\\begin{enumerate*}\n",
       "\\item '1'\n",
       "\\item '2'\n",
       "\\item '3'\n",
       "\\end{enumerate*}\n"
      ],
      "text/markdown": [
       "1. '1'\n",
       "2. '2'\n",
       "3. '3'\n",
       "\n",
       "\n"
      ],
      "text/plain": [
       "[1] \"1\" \"2\" \"3\""
      ]
     },
     "metadata": {},
     "output_type": "display_data"
    }
   ],
   "source": [
    "as.character(c(1, 2, 3))"
   ]
  },
  {
   "cell_type": "code",
   "execution_count": 22,
   "metadata": {},
   "outputs": [
    {
     "data": {
      "text/html": [
       "<ol class=list-inline>\n",
       "\t<li>1</li>\n",
       "\t<li>2</li>\n",
       "</ol>\n"
      ],
      "text/latex": [
       "\\begin{enumerate*}\n",
       "\\item 1\n",
       "\\item 2\n",
       "\\end{enumerate*}\n"
      ],
      "text/markdown": [
       "1. 1\n",
       "2. 2\n",
       "\n",
       "\n"
      ],
      "text/plain": [
       "[1] 1 2"
      ]
     },
     "metadata": {},
     "output_type": "display_data"
    }
   ],
   "source": [
    "as.numeric(c(\"1\", \"2\"))"
   ]
  },
  {
   "cell_type": "code",
   "execution_count": 23,
   "metadata": {},
   "outputs": [
    {
     "data": {
      "text/html": [
       "<ol class=list-inline>\n",
       "\t<li>A</li>\n",
       "\t<li>B</li>\n",
       "\t<li>C</li>\n",
       "</ol>\n",
       "\n",
       "<details>\n",
       "\t<summary style=display:list-item;cursor:pointer>\n",
       "\t\t<strong>Levels</strong>:\n",
       "\t</summary>\n",
       "\t<ol class=list-inline>\n",
       "\t\t<li>'A'</li>\n",
       "\t\t<li>'B'</li>\n",
       "\t\t<li>'C'</li>\n",
       "\t</ol>\n",
       "</details>"
      ],
      "text/latex": [
       "\\begin{enumerate*}\n",
       "\\item A\n",
       "\\item B\n",
       "\\item C\n",
       "\\end{enumerate*}\n",
       "\n",
       "\\emph{Levels}: \\begin{enumerate*}\n",
       "\\item 'A'\n",
       "\\item 'B'\n",
       "\\item 'C'\n",
       "\\end{enumerate*}\n"
      ],
      "text/markdown": [
       "1. A\n",
       "2. B\n",
       "3. C\n",
       "\n",
       "\n",
       "\n",
       "**Levels**: 1. 'A'\n",
       "2. 'B'\n",
       "3. 'C'\n",
       "\n",
       "\n"
      ],
      "text/plain": [
       "[1] A B C\n",
       "Levels: A B C"
      ]
     },
     "metadata": {},
     "output_type": "display_data"
    }
   ],
   "source": [
    "as.factor(c(\"A\", \"B\", \"C\"))"
   ]
  },
  {
   "cell_type": "code",
   "execution_count": 24,
   "metadata": {},
   "outputs": [
    {
     "data": {
      "text/html": [
       "<ol class=list-inline>\n",
       "\t<li>1</li>\n",
       "\t<li>0</li>\n",
       "</ol>\n"
      ],
      "text/latex": [
       "\\begin{enumerate*}\n",
       "\\item 1\n",
       "\\item 0\n",
       "\\end{enumerate*}\n"
      ],
      "text/markdown": [
       "1. 1\n",
       "2. 0\n",
       "\n",
       "\n"
      ],
      "text/plain": [
       "[1] 1 0"
      ]
     },
     "metadata": {},
     "output_type": "display_data"
    }
   ],
   "source": [
    "as.numeric(c(TRUE, FALSE))"
   ]
  },
  {
   "cell_type": "code",
   "execution_count": 25,
   "metadata": {},
   "outputs": [
    {
     "data": {
      "text/html": [
       "<ol class=list-inline>\n",
       "\t<li>'TRUE'</li>\n",
       "\t<li>'FALSE'</li>\n",
       "</ol>\n"
      ],
      "text/latex": [
       "\\begin{enumerate*}\n",
       "\\item 'TRUE'\n",
       "\\item 'FALSE'\n",
       "\\end{enumerate*}\n"
      ],
      "text/markdown": [
       "1. 'TRUE'\n",
       "2. 'FALSE'\n",
       "\n",
       "\n"
      ],
      "text/plain": [
       "[1] \"TRUE\"  \"FALSE\""
      ]
     },
     "metadata": {},
     "output_type": "display_data"
    }
   ],
   "source": [
    "as.character(c(TRUE, FALSE))"
   ]
  },
  {
   "cell_type": "code",
   "execution_count": 26,
   "metadata": {},
   "outputs": [
    {
     "data": {
      "text/html": [
       "<ol class=list-inline>\n",
       "\t<li>'A'</li>\n",
       "\t<li>'B'</li>\n",
       "</ol>\n"
      ],
      "text/latex": [
       "\\begin{enumerate*}\n",
       "\\item 'A'\n",
       "\\item 'B'\n",
       "\\end{enumerate*}\n"
      ],
      "text/markdown": [
       "1. 'A'\n",
       "2. 'B'\n",
       "\n",
       "\n"
      ],
      "text/plain": [
       "[1] \"A\" \"B\""
      ]
     },
     "metadata": {},
     "output_type": "display_data"
    }
   ],
   "source": [
    "as.character(factor(c(\"A\", \"B\")))"
   ]
  },
  {
   "cell_type": "code",
   "execution_count": 27,
   "metadata": {},
   "outputs": [
    {
     "data": {
      "text/html": [
       "<ol class=list-inline>\n",
       "\t<li>1</li>\n",
       "\t<li>2</li>\n",
       "</ol>\n"
      ],
      "text/latex": [
       "\\begin{enumerate*}\n",
       "\\item 1\n",
       "\\item 2\n",
       "\\end{enumerate*}\n"
      ],
      "text/markdown": [
       "1. 1\n",
       "2. 2\n",
       "\n",
       "\n"
      ],
      "text/plain": [
       "[1] 1 2"
      ]
     },
     "metadata": {},
     "output_type": "display_data"
    }
   ],
   "source": [
    "as.numeric(factor(c(\"A\", \"B\")))"
   ]
  },
  {
   "cell_type": "code",
   "execution_count": 28,
   "metadata": {},
   "outputs": [
    {
     "data": {
      "text/html": [
       "<ol class=list-inline>\n",
       "\t<li>TRUE</li>\n",
       "\t<li>TRUE</li>\n",
       "\t<li>TRUE</li>\n",
       "\t<li>FALSE</li>\n",
       "</ol>\n"
      ],
      "text/latex": [
       "\\begin{enumerate*}\n",
       "\\item TRUE\n",
       "\\item TRUE\n",
       "\\item TRUE\n",
       "\\item FALSE\n",
       "\\end{enumerate*}\n"
      ],
      "text/markdown": [
       "1. TRUE\n",
       "2. TRUE\n",
       "3. TRUE\n",
       "4. FALSE\n",
       "\n",
       "\n"
      ],
      "text/plain": [
       "[1]  TRUE  TRUE  TRUE FALSE"
      ]
     },
     "metadata": {},
     "output_type": "display_data"
    }
   ],
   "source": [
    "as.logical(c(1, 2.1, -3, 0))"
   ]
  },
  {
   "cell_type": "code",
   "execution_count": 29,
   "metadata": {},
   "outputs": [
    {
     "name": "stderr",
     "output_type": "stream",
     "text": [
      "Warning message in eval(expr, envir, enclos):\n",
      "\"NAs introduced by coercion\""
     ]
    },
    {
     "data": {
      "text/html": [
       "<ol class=list-inline>\n",
       "\t<li>&lt;NA&gt;</li>\n",
       "\t<li>&lt;NA&gt;</li>\n",
       "</ol>\n"
      ],
      "text/latex": [
       "\\begin{enumerate*}\n",
       "\\item <NA>\n",
       "\\item <NA>\n",
       "\\end{enumerate*}\n"
      ],
      "text/markdown": [
       "1. &lt;NA&gt;\n",
       "2. &lt;NA&gt;\n",
       "\n",
       "\n"
      ],
      "text/plain": [
       "[1] NA NA"
      ]
     },
     "metadata": {},
     "output_type": "display_data"
    }
   ],
   "source": [
    "as.numeric(c(\"A\", \"B\"))"
   ]
  },
  {
   "cell_type": "markdown",
   "metadata": {},
   "source": [
    "## Missing data\n",
    "Missing data is represented by NA. NAs can be mixed with any data type"
   ]
  },
  {
   "cell_type": "code",
   "execution_count": 30,
   "metadata": {},
   "outputs": [
    {
     "data": {
      "text/html": [
       "<ol class=list-inline>\n",
       "\t<li>1</li>\n",
       "\t<li>2</li>\n",
       "\t<li>4</li>\n",
       "\t<li>&lt;NA&gt;</li>\n",
       "</ol>\n"
      ],
      "text/latex": [
       "\\begin{enumerate*}\n",
       "\\item 1\n",
       "\\item 2\n",
       "\\item 4\n",
       "\\item <NA>\n",
       "\\end{enumerate*}\n"
      ],
      "text/markdown": [
       "1. 1\n",
       "2. 2\n",
       "3. 4\n",
       "4. &lt;NA&gt;\n",
       "\n",
       "\n"
      ],
      "text/plain": [
       "[1]  1  2  4 NA"
      ]
     },
     "metadata": {},
     "output_type": "display_data"
    }
   ],
   "source": [
    "c(1, 2, 4, NA)"
   ]
  },
  {
   "cell_type": "code",
   "execution_count": 31,
   "metadata": {},
   "outputs": [
    {
     "data": {
      "text/html": [
       "<ol class=list-inline>\n",
       "\t<li>1</li>\n",
       "\t<li>2</li>\n",
       "\t<li>4</li>\n",
       "\t<li>&lt;NA&gt;</li>\n",
       "</ol>\n",
       "\n",
       "<details>\n",
       "\t<summary style=display:list-item;cursor:pointer>\n",
       "\t\t<strong>Levels</strong>:\n",
       "\t</summary>\n",
       "\t<ol class=list-inline>\n",
       "\t\t<li>'1'</li>\n",
       "\t\t<li>'2'</li>\n",
       "\t\t<li>'4'</li>\n",
       "\t</ol>\n",
       "</details>"
      ],
      "text/latex": [
       "\\begin{enumerate*}\n",
       "\\item 1\n",
       "\\item 2\n",
       "\\item 4\n",
       "\\item <NA>\n",
       "\\end{enumerate*}\n",
       "\n",
       "\\emph{Levels}: \\begin{enumerate*}\n",
       "\\item '1'\n",
       "\\item '2'\n",
       "\\item '4'\n",
       "\\end{enumerate*}\n"
      ],
      "text/markdown": [
       "1. 1\n",
       "2. 2\n",
       "3. 4\n",
       "4. &lt;NA&gt;\n",
       "\n",
       "\n",
       "\n",
       "**Levels**: 1. '1'\n",
       "2. '2'\n",
       "3. '4'\n",
       "\n",
       "\n"
      ],
      "text/plain": [
       "[1] 1    2    4    <NA>\n",
       "Levels: 1 2 4"
      ]
     },
     "metadata": {},
     "output_type": "display_data"
    }
   ],
   "source": [
    "# Factors ignore NAs\n",
    "factor(c(1, 2, 4, NA))"
   ]
  },
  {
   "cell_type": "markdown",
   "metadata": {},
   "source": [
    "## Lists\n",
    "We can make lists, which can contain both numbers, strings, and anything else in the same list"
   ]
  },
  {
   "cell_type": "code",
   "execution_count": 32,
   "metadata": {},
   "outputs": [],
   "source": [
    "# Use the function list() to create list\n",
    "mylist <- list(this = 2,\n",
    "               these = c(\"salmon\", \"herring\"),\n",
    "               WhatEverYouWantToCallIt = c(TRUE, TRUE, FALSE))"
   ]
  },
  {
   "cell_type": "code",
   "execution_count": 33,
   "metadata": {},
   "outputs": [
    {
     "data": {
      "text/html": [
       "<ol class=list-inline>\n",
       "\t<li>TRUE</li>\n",
       "\t<li>TRUE</li>\n",
       "\t<li>FALSE</li>\n",
       "</ol>\n"
      ],
      "text/latex": [
       "\\begin{enumerate*}\n",
       "\\item TRUE\n",
       "\\item TRUE\n",
       "\\item FALSE\n",
       "\\end{enumerate*}\n"
      ],
      "text/markdown": [
       "1. TRUE\n",
       "2. TRUE\n",
       "3. FALSE\n",
       "\n",
       "\n"
      ],
      "text/plain": [
       "[1]  TRUE  TRUE FALSE"
      ]
     },
     "metadata": {},
     "output_type": "display_data"
    }
   ],
   "source": [
    "# Access by name\n",
    "mylist[[\"WhatEverYouWantToCallIt\"]]"
   ]
  },
  {
   "cell_type": "code",
   "execution_count": 34,
   "metadata": {},
   "outputs": [
    {
     "data": {
      "text/html": [
       "<ol class=list-inline>\n",
       "\t<li>'salmon'</li>\n",
       "\t<li>'herring'</li>\n",
       "</ol>\n"
      ],
      "text/latex": [
       "\\begin{enumerate*}\n",
       "\\item 'salmon'\n",
       "\\item 'herring'\n",
       "\\end{enumerate*}\n"
      ],
      "text/markdown": [
       "1. 'salmon'\n",
       "2. 'herring'\n",
       "\n",
       "\n"
      ],
      "text/plain": [
       "[1] \"salmon\"  \"herring\""
      ]
     },
     "metadata": {},
     "output_type": "display_data"
    }
   ],
   "source": [
    "# or by the order (index)\n",
    "mylist[[2]]"
   ]
  },
  {
   "cell_type": "markdown",
   "metadata": {},
   "source": [
    "## Matrix\n",
    "A matrix is a two-dimensional array. A bit like an excel spreadsheet with rows and columns. However, all the cells has to contain the same type of data. Either all are numerics, all are characters, or all are logicals."
   ]
  },
  {
   "cell_type": "code",
   "execution_count": 35,
   "metadata": {},
   "outputs": [
    {
     "data": {
      "text/html": [
       "<table>\n",
       "<tbody>\n",
       "\t<tr><td>1</td><td>4</td><td>7</td></tr>\n",
       "\t<tr><td>2</td><td>5</td><td>8</td></tr>\n",
       "\t<tr><td>3</td><td>6</td><td>9</td></tr>\n",
       "</tbody>\n",
       "</table>\n"
      ],
      "text/latex": [
       "\\begin{tabular}{lll}\n",
       "\t 1 & 4 & 7\\\\\n",
       "\t 2 & 5 & 8\\\\\n",
       "\t 3 & 6 & 9\\\\\n",
       "\\end{tabular}\n"
      ],
      "text/markdown": [
       "\n",
       "| 1 | 4 | 7 |\n",
       "| 2 | 5 | 8 |\n",
       "| 3 | 6 | 9 |\n",
       "\n"
      ],
      "text/plain": [
       "     [,1] [,2] [,3]\n",
       "[1,] 1    4    7   \n",
       "[2,] 2    5    8   \n",
       "[3,] 3    6    9   "
      ]
     },
     "metadata": {},
     "output_type": "display_data"
    }
   ],
   "source": [
    "mat <- matrix(1:9, nrow = 3, ncol = 3)\n",
    "mat"
   ]
  },
  {
   "cell_type": "markdown",
   "metadata": {},
   "source": [
    "## Dataframes\n",
    "Dataframes are objects with columns and rows like a matrix. However, in a data.frame the columns can contain different data.types. This is a very common way to store data, where each row is a sample, and each column is a variable."
   ]
  },
  {
   "cell_type": "code",
   "execution_count": 37,
   "metadata": {},
   "outputs": [
    {
     "name": "stdout",
     "output_type": "stream",
     "text": [
      "   var1 var2 group\n",
      "1     1   32     A\n",
      "2     2   54     A\n",
      "3     3   56     A\n",
      "4     4   10     A\n",
      "5     5   12     A\n",
      "6     6   76     B\n",
      "7     7   65     B\n",
      "8     8   80     B\n",
      "9     9   97     B\n",
      "10   10   92     B\n"
     ]
    }
   ],
   "source": [
    "# When we read data from a text file it will be imported as a data.frame\n",
    "# Lets load an external text file with data\n",
    "df <- read.table(\"data/mydata.csv\", header = TRUE, sep = \";\")\n",
    "# header = TRUE means that the first line in our text file contains the names of the columns\n",
    "# sep = \";\" is because semicolons seperate the columns\n",
    "print(df)"
   ]
  },
  {
   "cell_type": "code",
   "execution_count": 38,
   "metadata": {},
   "outputs": [
    {
     "name": "stdout",
     "output_type": "stream",
     "text": [
      "'data.frame':\t10 obs. of  3 variables:\n",
      " $ var1 : int  1 2 3 4 5 6 7 8 9 10\n",
      " $ var2 : int  32 54 56 10 12 76 65 80 97 92\n",
      " $ group: Factor w/ 2 levels \"A\",\"B\": 1 1 1 1 1 2 2 2 2 2\n"
     ]
    }
   ],
   "source": [
    "# Use the str() function to check the structure of the dataframe\n",
    "str(df)"
   ]
  },
  {
   "cell_type": "code",
   "execution_count": 39,
   "metadata": {},
   "outputs": [
    {
     "data": {
      "text/html": [
       "<ol class=list-inline>\n",
       "\t<li>A</li>\n",
       "\t<li>A</li>\n",
       "\t<li>A</li>\n",
       "\t<li>A</li>\n",
       "\t<li>A</li>\n",
       "\t<li>B</li>\n",
       "\t<li>B</li>\n",
       "\t<li>B</li>\n",
       "\t<li>B</li>\n",
       "\t<li>B</li>\n",
       "</ol>\n",
       "\n",
       "<details>\n",
       "\t<summary style=display:list-item;cursor:pointer>\n",
       "\t\t<strong>Levels</strong>:\n",
       "\t</summary>\n",
       "\t<ol class=list-inline>\n",
       "\t\t<li>'A'</li>\n",
       "\t\t<li>'B'</li>\n",
       "\t</ol>\n",
       "</details>"
      ],
      "text/latex": [
       "\\begin{enumerate*}\n",
       "\\item A\n",
       "\\item A\n",
       "\\item A\n",
       "\\item A\n",
       "\\item A\n",
       "\\item B\n",
       "\\item B\n",
       "\\item B\n",
       "\\item B\n",
       "\\item B\n",
       "\\end{enumerate*}\n",
       "\n",
       "\\emph{Levels}: \\begin{enumerate*}\n",
       "\\item 'A'\n",
       "\\item 'B'\n",
       "\\end{enumerate*}\n"
      ],
      "text/markdown": [
       "1. A\n",
       "2. A\n",
       "3. A\n",
       "4. A\n",
       "5. A\n",
       "6. B\n",
       "7. B\n",
       "8. B\n",
       "9. B\n",
       "10. B\n",
       "\n",
       "\n",
       "\n",
       "**Levels**: 1. 'A'\n",
       "2. 'B'\n",
       "\n",
       "\n"
      ],
      "text/plain": [
       " [1] A A A A A B B B B B\n",
       "Levels: A B"
      ]
     },
     "metadata": {},
     "output_type": "display_data"
    }
   ],
   "source": [
    "# Access a column in a dataframe with the $ sign\n",
    "df$group"
   ]
  },
  {
   "cell_type": "markdown",
   "metadata": {},
   "source": [
    "In data.frames strings are converted to factors, as you can see from the output above. "
   ]
  },
  {
   "cell_type": "markdown",
   "metadata": {},
   "source": [
    "### Access data in dataframes\n",
    "Rows and columns can be accessed with [rows, columns]\n",
    "\n",
    "Nothing after the comma means that all rows are selected\n",
    "\n",
    "Nothing before the comma means that all columns are selected"
   ]
  },
  {
   "cell_type": "code",
   "execution_count": 40,
   "metadata": {},
   "outputs": [
    {
     "data": {
      "text/html": [
       "32"
      ],
      "text/latex": [
       "32"
      ],
      "text/markdown": [
       "32"
      ],
      "text/plain": [
       "[1] 32"
      ]
     },
     "metadata": {},
     "output_type": "display_data"
    }
   ],
   "source": [
    "# First row, second column:\n",
    "df[1, 2]"
   ]
  },
  {
   "cell_type": "code",
   "execution_count": 41,
   "metadata": {},
   "outputs": [
    {
     "data": {
      "text/html": [
       "<table>\n",
       "<thead><tr><th scope=col>var1</th><th scope=col>var2</th><th scope=col>group</th></tr></thead>\n",
       "<tbody>\n",
       "\t<tr><td>1 </td><td>32</td><td>A </td></tr>\n",
       "</tbody>\n",
       "</table>\n"
      ],
      "text/latex": [
       "\\begin{tabular}{r|lll}\n",
       " var1 & var2 & group\\\\\n",
       "\\hline\n",
       "\t 1  & 32 & A \\\\\n",
       "\\end{tabular}\n"
      ],
      "text/markdown": [
       "\n",
       "| var1 | var2 | group |\n",
       "|---|---|---|\n",
       "| 1  | 32 | A  |\n",
       "\n"
      ],
      "text/plain": [
       "  var1 var2 group\n",
       "1 1    32   A    "
      ]
     },
     "metadata": {},
     "output_type": "display_data"
    }
   ],
   "source": [
    "# First row, all columns:\n",
    "df[1, ]"
   ]
  },
  {
   "cell_type": "code",
   "execution_count": 42,
   "metadata": {},
   "outputs": [
    {
     "data": {
      "text/html": [
       "<ol class=list-inline>\n",
       "\t<li>1</li>\n",
       "\t<li>2</li>\n",
       "\t<li>3</li>\n",
       "\t<li>4</li>\n",
       "\t<li>5</li>\n",
       "\t<li>6</li>\n",
       "\t<li>7</li>\n",
       "\t<li>8</li>\n",
       "\t<li>9</li>\n",
       "\t<li>10</li>\n",
       "</ol>\n"
      ],
      "text/latex": [
       "\\begin{enumerate*}\n",
       "\\item 1\n",
       "\\item 2\n",
       "\\item 3\n",
       "\\item 4\n",
       "\\item 5\n",
       "\\item 6\n",
       "\\item 7\n",
       "\\item 8\n",
       "\\item 9\n",
       "\\item 10\n",
       "\\end{enumerate*}\n"
      ],
      "text/markdown": [
       "1. 1\n",
       "2. 2\n",
       "3. 3\n",
       "4. 4\n",
       "5. 5\n",
       "6. 6\n",
       "7. 7\n",
       "8. 8\n",
       "9. 9\n",
       "10. 10\n",
       "\n",
       "\n"
      ],
      "text/plain": [
       " [1]  1  2  3  4  5  6  7  8  9 10"
      ]
     },
     "metadata": {},
     "output_type": "display_data"
    }
   ],
   "source": [
    "# All rows, first column\n",
    "df[, 1]"
   ]
  },
  {
   "cell_type": "code",
   "execution_count": 43,
   "metadata": {},
   "outputs": [
    {
     "data": {
      "text/html": [
       "<ol class=list-inline>\n",
       "\t<li>32</li>\n",
       "\t<li>54</li>\n",
       "</ol>\n"
      ],
      "text/latex": [
       "\\begin{enumerate*}\n",
       "\\item 32\n",
       "\\item 54\n",
       "\\end{enumerate*}\n"
      ],
      "text/markdown": [
       "1. 32\n",
       "2. 54\n",
       "\n",
       "\n"
      ],
      "text/plain": [
       "[1] 32 54"
      ]
     },
     "metadata": {},
     "output_type": "display_data"
    }
   ],
   "source": [
    "# First and second row, column named 'var2'\n",
    "df[c(1, 2), \"var2\"]"
   ]
  },
  {
   "cell_type": "code",
   "execution_count": 44,
   "metadata": {},
   "outputs": [
    {
     "data": {
      "text/html": [
       "<table>\n",
       "<thead><tr><th scope=col>var1</th><th scope=col>var2</th></tr></thead>\n",
       "<tbody>\n",
       "\t<tr><td>1 </td><td>32</td></tr>\n",
       "\t<tr><td>2 </td><td>54</td></tr>\n",
       "\t<tr><td>3 </td><td>56</td></tr>\n",
       "\t<tr><td>4 </td><td>10</td></tr>\n",
       "</tbody>\n",
       "</table>\n"
      ],
      "text/latex": [
       "\\begin{tabular}{r|ll}\n",
       " var1 & var2\\\\\n",
       "\\hline\n",
       "\t 1  & 32\\\\\n",
       "\t 2  & 54\\\\\n",
       "\t 3  & 56\\\\\n",
       "\t 4  & 10\\\\\n",
       "\\end{tabular}\n"
      ],
      "text/markdown": [
       "\n",
       "| var1 | var2 |\n",
       "|---|---|\n",
       "| 1  | 32 |\n",
       "| 2  | 54 |\n",
       "| 3  | 56 |\n",
       "| 4  | 10 |\n",
       "\n"
      ],
      "text/plain": [
       "  var1 var2\n",
       "1 1    32  \n",
       "2 2    54  \n",
       "3 3    56  \n",
       "4 4    10  "
      ]
     },
     "metadata": {},
     "output_type": "display_data"
    }
   ],
   "source": [
    "# First four rows, columns named 'var1' and 'var2'\n",
    "df[1:4, c(\"var1\", \"var2\")]\n",
    "# 1:4 means integers 1 to 4"
   ]
  },
  {
   "cell_type": "markdown",
   "metadata": {},
   "source": [
    "### Add and change data in dataframes"
   ]
  },
  {
   "cell_type": "code",
   "execution_count": 45,
   "metadata": {},
   "outputs": [],
   "source": [
    "# New columns can be made with the $ sign\n",
    "df$var2_log10 <- log10(df$var2)"
   ]
  },
  {
   "cell_type": "code",
   "execution_count": 46,
   "metadata": {},
   "outputs": [],
   "source": [
    "# Change the data in 10th row and second column\n",
    "df[10, 2] <- 50"
   ]
  },
  {
   "cell_type": "code",
   "execution_count": 47,
   "metadata": {},
   "outputs": [],
   "source": [
    "# Add 1 to the entire first column\n",
    "df[, 1] <- df[, 1] + 1"
   ]
  },
  {
   "cell_type": "code",
   "execution_count": 48,
   "metadata": {},
   "outputs": [
    {
     "data": {
      "text/html": [
       "<table>\n",
       "<thead><tr><th scope=col>var1</th><th scope=col>var2</th><th scope=col>group</th><th scope=col>var2_log10</th></tr></thead>\n",
       "<tbody>\n",
       "\t<tr><td> 2      </td><td>20      </td><td>A       </td><td>1.505150</td></tr>\n",
       "\t<tr><td> 3      </td><td>20      </td><td>A       </td><td>1.732394</td></tr>\n",
       "\t<tr><td> 4      </td><td>20      </td><td>A       </td><td>1.748188</td></tr>\n",
       "\t<tr><td> 5      </td><td>20      </td><td>A       </td><td>1.000000</td></tr>\n",
       "\t<tr><td> 6      </td><td>20      </td><td>A       </td><td>1.079181</td></tr>\n",
       "\t<tr><td> 7      </td><td>76      </td><td>B       </td><td>1.880814</td></tr>\n",
       "\t<tr><td> 8      </td><td>65      </td><td>B       </td><td>1.812913</td></tr>\n",
       "\t<tr><td> 9      </td><td>80      </td><td>B       </td><td>1.903090</td></tr>\n",
       "\t<tr><td>10      </td><td>97      </td><td>B       </td><td>1.986772</td></tr>\n",
       "\t<tr><td>11      </td><td>50      </td><td>B       </td><td>1.963788</td></tr>\n",
       "</tbody>\n",
       "</table>\n"
      ],
      "text/latex": [
       "\\begin{tabular}{r|llll}\n",
       " var1 & var2 & group & var2\\_log10\\\\\n",
       "\\hline\n",
       "\t  2       & 20       & A        & 1.505150\\\\\n",
       "\t  3       & 20       & A        & 1.732394\\\\\n",
       "\t  4       & 20       & A        & 1.748188\\\\\n",
       "\t  5       & 20       & A        & 1.000000\\\\\n",
       "\t  6       & 20       & A        & 1.079181\\\\\n",
       "\t  7       & 76       & B        & 1.880814\\\\\n",
       "\t  8       & 65       & B        & 1.812913\\\\\n",
       "\t  9       & 80       & B        & 1.903090\\\\\n",
       "\t 10       & 97       & B        & 1.986772\\\\\n",
       "\t 11       & 50       & B        & 1.963788\\\\\n",
       "\\end{tabular}\n"
      ],
      "text/markdown": [
       "\n",
       "| var1 | var2 | group | var2_log10 |\n",
       "|---|---|---|---|\n",
       "|  2       | 20       | A        | 1.505150 |\n",
       "|  3       | 20       | A        | 1.732394 |\n",
       "|  4       | 20       | A        | 1.748188 |\n",
       "|  5       | 20       | A        | 1.000000 |\n",
       "|  6       | 20       | A        | 1.079181 |\n",
       "|  7       | 76       | B        | 1.880814 |\n",
       "|  8       | 65       | B        | 1.812913 |\n",
       "|  9       | 80       | B        | 1.903090 |\n",
       "| 10       | 97       | B        | 1.986772 |\n",
       "| 11       | 50       | B        | 1.963788 |\n",
       "\n"
      ],
      "text/plain": [
       "   var1 var2 group var2_log10\n",
       "1   2   20   A     1.505150  \n",
       "2   3   20   A     1.732394  \n",
       "3   4   20   A     1.748188  \n",
       "4   5   20   A     1.000000  \n",
       "5   6   20   A     1.079181  \n",
       "6   7   76   B     1.880814  \n",
       "7   8   65   B     1.812913  \n",
       "8   9   80   B     1.903090  \n",
       "9  10   97   B     1.986772  \n",
       "10 11   50   B     1.963788  "
      ]
     },
     "metadata": {},
     "output_type": "display_data"
    }
   ],
   "source": [
    "# Input 20 in the second column, only if \"group\" column is equal to \"A\"\n",
    "df[df$group == \"A\", 2] <- 20\n",
    "# There are two = signs!\n",
    "\n",
    "df"
   ]
  },
  {
   "cell_type": "markdown",
   "metadata": {},
   "source": [
    "## Saving data\n",
    "When you click Ctrl+s or you go to File -> Save, you only save the script\n",
    "\n",
    "You don't save the data (what you see in the upper right corner of RStudio)\n",
    "\n",
    "If you have run an analysis that took a long time to run, it is nice to save the results so you don't have to rerun the whole thing again."
   ]
  },
  {
   "cell_type": "code",
   "execution_count": 49,
   "metadata": {},
   "outputs": [],
   "source": [
    "# To save all data run this:\n",
    "save.image(\"Mydata.RData\")"
   ]
  },
  {
   "cell_type": "code",
   "execution_count": 50,
   "metadata": {},
   "outputs": [],
   "source": [
    "# When you open R another day, you load it with the load function\n",
    "load(\"Mydata.RData\")"
   ]
  },
  {
   "cell_type": "markdown",
   "metadata": {},
   "source": [
    "## Simple plots"
   ]
  },
  {
   "cell_type": "code",
   "execution_count": 51,
   "metadata": {},
   "outputs": [
    {
     "data": {
      "image/png": "[encoded data removed]",
      "text/plain": [
       "plot without title"
      ]
     },
     "metadata": {},
     "output_type": "display_data"
    }
   ],
   "source": [
    "# A simple scatter plot\n",
    "plot(df$var1, df$var2)"
   ]
  },
  {
   "cell_type": "code",
   "execution_count": 52,
   "metadata": {},
   "outputs": [
    {
     "data": {
      "image/png": "[encoded data removed]",
      "text/plain": [
       "Plot with title \"Histogram of df$var2\""
      ]
     },
     "metadata": {},
     "output_type": "display_data"
    }
   ],
   "source": [
    "# Histogram\n",
    "hist(df$var2)"
   ]
  },
  {
   "cell_type": "markdown",
   "metadata": {},
   "source": [
    "## Packages\n",
    "#### Load packages\n",
    "\n",
    "These contain convenient functions.\n",
    "\n",
    "When library(package name) is run, we can use functions from the package\n",
    "\n",
    "It has to be run each time we start up R"
   ]
  },
  {
   "cell_type": "code",
   "execution_count": 53,
   "metadata": {},
   "outputs": [
    {
     "name": "stderr",
     "output_type": "stream",
     "text": [
      "Warning message:\n",
      "\"package 'ggplot2' was built under R version 3.6.2\""
     ]
    }
   ],
   "source": [
    "# ggplot2 is a package for making nice plots.\n",
    "library(ggplot2)"
   ]
  },
  {
   "cell_type": "markdown",
   "metadata": {},
   "source": [
    "#### Install packages\n",
    "Packages are usually installed with install.packages(\"PackageName\"). This only has to be done one time."
   ]
  },
  {
   "cell_type": "code",
   "execution_count": null,
   "metadata": {},
   "outputs": [],
   "source": [
    "install.packages(\"car\")"
   ]
  },
  {
   "cell_type": "markdown",
   "metadata": {},
   "source": [
    "The above only works for packages on [CRAN](https://cran.r-project.org/web/packages/available_packages_by_name.html). However, some bioinformatics packages are on [BioConductor](https://www.bioconductor.org/install/), which has to be installed differently (see link). Some packages are only on GitHub and has to be installed through there (see for example [this one](https://github.com/Russel88/MicEco))."
   ]
  },
  {
   "cell_type": "markdown",
   "metadata": {},
   "source": [
    "## Simple ggplotting\n",
    "ggplot2 is a great packages for making neat plots. There is a notebook on the details of ggplot2, but below is described how to make a simple plot.\n",
    "\n",
    "Let's make a similar scatterplot as above, but with ggplot2\n",
    "\n",
    "A ggplot is always made by starting with the ggplot(data, aes(...)) line\n",
    "* data is a data.frame that contains the data to plot.\n",
    "* The aes() function are the aesthetics. Here we tell ggplot which columns in the data.frame to use for plotting.\n",
    "* geom_point() tells ggplot to plot data as points."
   ]
  },
  {
   "cell_type": "code",
   "execution_count": 55,
   "metadata": {},
   "outputs": [],
   "source": [
    "# First define and save the plot:\n",
    "p <- ggplot(df, aes(x = var1, y = var2)) +\n",
    "  geom_point()"
   ]
  },
  {
   "cell_type": "code",
   "execution_count": 56,
   "metadata": {},
   "outputs": [
    {
     "data": {
      "image/png": "[encoded data removed]",
      "text/plain": [
       "plot without title"
      ]
     },
     "metadata": {},
     "output_type": "display_data"
    }
   ],
   "source": [
    "# Then view the plot:\n",
    "p"
   ]
  },
  {
   "cell_type": "code",
   "execution_count": 57,
   "metadata": {},
   "outputs": [
    {
     "data": {
      "image/png": "[encoded data removed]",
      "text/plain": [
       "plot without title"
      ]
     },
     "metadata": {},
     "output_type": "display_data"
    }
   ],
   "source": [
    "# Extra things can be added with +'s\n",
    "p <- ggplot(df, aes(x = var1, y = var2)) +\n",
    "  geom_point() +\n",
    "  xlab(\"First variable\") +\n",
    "  ylab(\"Second variable\") +\n",
    "  theme_bw() # Remove the grey background\n",
    "p"
   ]
  },
  {
   "cell_type": "code",
   "execution_count": 58,
   "metadata": {},
   "outputs": [
    {
     "data": {
      "image/png": "[encoded data removed]",
      "text/plain": [
       "plot without title"
      ]
     },
     "metadata": {},
     "output_type": "display_data"
    }
   ],
   "source": [
    "# Color by group\n",
    "p <- ggplot(df, aes(x = var1, y = var2, color = group)) +\n",
    "  geom_point() +\n",
    "  xlab(\"First variable\") +\n",
    "  ylab(\"Second variable\") +\n",
    "  theme_bw()\n",
    "p"
   ]
  },
  {
   "cell_type": "code",
   "execution_count": 59,
   "metadata": {},
   "outputs": [],
   "source": [
    "# Save the plot\n",
    "ggsave(filename = \"MyFirstGGplot.png\", plot = p, \n",
    "       width = 10, height = 6, units = \"cm\")"
   ]
  }
 ],
 "metadata": {
  "kernelspec": {
   "display_name": "R",
   "language": "R",
   "name": "ir"
  },
  "language_info": {
   "codemirror_mode": "r",
   "file_extension": ".r",
   "mimetype": "text/x-r-source",
   "name": "R",
   "pygments_lexer": "r",
   "version": "3.6.1"
  }
 },
 "nbformat": 4,
 "nbformat_minor": 2
}
