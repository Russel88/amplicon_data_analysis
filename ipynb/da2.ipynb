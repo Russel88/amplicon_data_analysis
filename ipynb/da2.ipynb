{
 "cells": [
  {
   "cell_type": "markdown",
   "metadata": {},
   "source": [
    "# Differential abundance - Extended"
   ]
  },
  {
   "cell_type": "markdown",
   "metadata": {},
   "source": [
    "The notebook on 'Differential abundance - Basics' only explained two different methods for doing DA analysis. There are however many different methods, and choosing the best is not a simple task. Benchmark studies have shown that different methods have different strengths, and the choice of methods therefore in part relies on the specific dataset in question. The [DAtest package](https://github.com/russel88/datest) tries to solve this problem by testing a lot if different methods on your own dataset and provide some statistics on their performance. The details can be found in the [wiki](https://github.com/russel88/datest/wiki), but the basic idea is that the predictor if interest (e.g. treatment/control) is shuffled. Then some random features (ASVs) we multiply the abundance of with some number (e.g. 5), AKA spiked, but only for the shuffled treatment samples. We then apply the diferent DA methods and check if they can find the ASVs which were increased in abundance for the shuffled predictor. The predictor is shuffled to remove any true effect present in the dataset. This procedure is repeated several times, by default 20, to evaluate the consistency of the performance.\n",
    "\n",
    "Another feature of DAtest is that it is easy to run several different methods and compare their output. One could for example run 3 methods known to perform well, and then use their combined results for a less biased DA analysis."
   ]
  },
  {
   "cell_type": "code",
   "execution_count": 1,
   "metadata": {},
   "outputs": [],
   "source": [
    "# Load phyloseq object and phyloseq package\n",
    "library(phyloseq)\n",
    "load(\"../data/physeq.RData\")"
   ]
  },
  {
   "cell_type": "code",
   "execution_count": 2,
   "metadata": {},
   "outputs": [
    {
     "name": "stderr",
     "output_type": "stream",
     "text": [
      "DAtest version 2.7.15\n"
     ]
    }
   ],
   "source": [
    "library(DAtest)"
   ]
  },
  {
   "cell_type": "markdown",
   "metadata": {},
   "source": [
    "# Contents\n",
    "* [preDA](#pre)\n",
    "* [testDA](#test)\n",
    "* [allDA](#all)"
   ]
  },
  {
   "cell_type": "markdown",
   "metadata": {},
   "source": [
    "## preDA<a class=\"anchor\" id=\"pre\"></a>"
   ]
  },
  {
   "cell_type": "markdown",
   "metadata": {},
   "source": [
    "As explained in the Basics notebook, we always want to prepare our data first, especially by pruning low abundant taxa\n",
    "\n",
    "#### In R:"
   ]
  },
  {
   "cell_type": "code",
   "execution_count": 3,
   "metadata": {},
   "outputs": [
    {
     "name": "stderr",
     "output_type": "stream",
     "text": [
      "213 features grouped as 'Others' in the output\n"
     ]
    }
   ],
   "source": [
    "# Agglomorate to Genus level\n",
    "phy_genus <- tax_glom(phy, \"Genus\")\n",
    "\n",
    "# Only keep genera present in at least 10 samples\n",
    "phy_genus_pre <- preDA(phy_genus, min.samples = 10)"
   ]
  },
  {
   "cell_type": "markdown",
   "metadata": {},
   "source": [
    "## testDA<a class=\"anchor\" id=\"test\"></a>\n",
    "testDA runs all the different methods and compares them by their empirical power (ability to detect spiked features), their False Discovery Rate (FDR, fraction of significant features which are false positives), and their AUC (area under the ROC curve, ability to rank the features from most to least associated to the predictor). This is all combined into a score, which ranks the different methods. The method with the highest score should perform best.\n",
    "\n",
    "It is important to note that DAtest assumes that most features are NOT associated with the predictor. Therefore, if for example your control and treatment samples are very different (clearly separated in a PCoA ordination), then only the False Positive Rate (FPR) can be used to weed out bad methods, but the other measures are not trustworthy.\n",
    "\n",
    "\n",
    "#### In R:"
   ]
  },
  {
   "cell_type": "code",
   "execution_count": null,
   "metadata": {},
   "outputs": [],
   "source": [
    "res <- testDA(phy_genus_pre, predictor = \"Delivery\")"
   ]
  },
  {
   "cell_type": "code",
   "execution_count": 5,
   "metadata": {},
   "outputs": [
    {
     "name": "stdout",
     "output_type": "stream",
     "text": [
      "                     Method  AUC  FPR  FDR Power Score Score.5% Score.95%  \n",
      "        MgSeq Feature (msf) 0.73 0.04 0.00  0.07  0.02    -0.12      0.04 *\n",
      "          LIMMA - CLR (lic) 0.62 0.04 0.00  0.00  0.00     0.00      0.01 *\n",
      "               Wilcox (wil) 0.54 0.04 0.00  0.00  0.00     0.00      0.01 *\n",
      "               t-test (ttt) 0.53 0.04 0.00  0.00  0.00     0.00      0.00 *\n",
      "         t-test - ALR (tta) 0.62 0.03 0.00  0.00  0.00    -1.08      0.00 *\n",
      "          LIMMA - ALR (lia) 0.64 0.03 0.00  0.00  0.00    -1.01      0.01 *\n",
      "            Log LIMMA (lli) 0.61 0.04 0.00  0.00  0.00    -1.00      0.02 *\n",
      "    Quasi-Poisson GLM (qpo) 0.60 0.08 0.00  0.00  0.00    -1.00      0.01 *\n",
      "           Log t-test (ltt) 0.59 0.07 0.00  0.00  0.00    -1.00      0.01 *\n",
      "         t-test - CLR (ttc) 0.57 0.05 0.00  0.00  0.00    -1.00      0.01 *\n",
      "           LIMMA voom (vli) 0.57 0.07 0.00  0.00  0.00    -1.00      0.00 *\n",
      "         Log t-test2 (ltt2) 0.59 0.08 0.00  0.00  0.00    -1.00      0.00 *\n",
      "          Permutation (per) 0.62 0.04 0.00  0.00  0.00    -0.32      0.01 *\n",
      "         Log LIMMA 2 (lli2) 0.64 0.04 0.00  0.00  0.00    -0.29      0.01 *\n",
      "            MgSeq ZIG (zig) 0.68 0.41 0.83  0.67 -0.71    -0.90     -0.52  \n",
      "    EdgeR exact - TMM (ere) 0.53 0.38 0.85  0.40 -0.84    -0.95     -0.76  \n",
      "       ZI-Poisson GLM (zpo) 0.54 0.98 0.89  1.00 -0.85    -0.95     -0.74  \n",
      "          Poisson GLM (poi) 0.54 0.98 0.89  1.00 -0.85    -0.93     -0.79  \n",
      "         Negbinom GLM (neb) 0.46 0.18 0.85  0.20 -0.85    -1.00     -0.70  \n",
      "      EdgeR qll - TMM (erq) 0.51 0.48 0.88  0.53 -0.87    -0.93     -0.75  \n",
      " DESeq2 man. geoMeans (ds2) 0.51 0.19 0.89  0.07 -0.89    -1.00     -0.77  \n",
      "        ZI-NegBin GLM (znb) 0.51 0.23 0.91  0.13 -0.91    -1.00     -0.76  \n"
     ]
    }
   ],
   "source": [
    "summary(res)"
   ]
  },
  {
   "cell_type": "markdown",
   "metadata": {},
   "source": [
    "MetagenomeSeq Feature (msf) method appears to be the best. However, the bootstrapped confidence interval (Score.5% and Score.95%) show that many methods are indistugishiable from msf (\\*). \n",
    "\n",
    "Let's run the msf method:"
   ]
  },
  {
   "cell_type": "code",
   "execution_count": 6,
   "metadata": {},
   "outputs": [
    {
     "name": "stderr",
     "output_type": "stream",
     "text": [
      "Default value being used.\n",
      "Warning message:\n",
      "\"Partial NA coefficients for 1 probe(s)\""
     ]
    }
   ],
   "source": [
    "res_msf <- DA.msf(phy_genus_pre, predictor = \"Delivery\")"
   ]
  },
  {
   "cell_type": "code",
   "execution_count": 9,
   "metadata": {},
   "outputs": [
    {
     "data": {
      "text/html": [
       "<table>\n",
       "<thead><tr><th scope=col>Feature</th><th scope=col>+samples in group 0</th><th scope=col>+samples in group 1</th><th scope=col>counts in group 0</th><th scope=col>counts in group 1</th><th scope=col>logFC</th><th scope=col>se</th><th scope=col>pval</th><th scope=col>adjPvalues</th><th scope=col>pval.adj</th><th scope=col>ordering</th><th scope=col>Method</th><th scope=col>Kingdom</th><th scope=col>Phylum</th><th scope=col>Class</th><th scope=col>Order</th><th scope=col>Family</th><th scope=col>Genus</th><th scope=col>asv_hash</th></tr></thead>\n",
       "<tbody>\n",
       "</tbody>\n",
       "</table>\n"
      ],
      "text/latex": [
       "\\begin{tabular}{r|lllllllllllllllllll}\n",
       " Feature & +samples in group 0 & +samples in group 1 & counts in group 0 & counts in group 1 & logFC & se & pval & adjPvalues & pval.adj & ordering & Method & Kingdom & Phylum & Class & Order & Family & Genus & asv\\_hash\\\\\n",
       "\\hline\n",
       "\\end{tabular}\n"
      ],
      "text/markdown": [
       "\n",
       "| Feature | +samples in group 0 | +samples in group 1 | counts in group 0 | counts in group 1 | logFC | se | pval | adjPvalues | pval.adj | ordering | Method | Kingdom | Phylum | Class | Order | Family | Genus | asv_hash |\n",
       "|---|---|---|---|---|---|---|---|---|---|---|---|---|---|---|---|---|---|---|\n",
       "\n"
      ],
      "text/plain": [
       "     Feature +samples in group 0 +samples in group 1 counts in group 0\n",
       "     counts in group 1 logFC se pval adjPvalues pval.adj ordering Method\n",
       "     Kingdom Phylum Class Order Family Genus asv_hash"
      ]
     },
     "metadata": {},
     "output_type": "display_data"
    }
   ],
   "source": [
    "res_msf[res_msf$pval.adj <= 0.05, ]"
   ]
  },
  {
   "cell_type": "markdown",
   "metadata": {},
   "source": [
    "Nothing significant..."
   ]
  },
  {
   "cell_type": "markdown",
   "metadata": {},
   "source": [
    "## allDA<a class=\"anchor\" id=\"all\"></a>\n",
    "allDA runs the different methods on the actual dataset. This way you can easily compare the different methods. Let's try it out."
   ]
  },
  {
   "cell_type": "code",
   "execution_count": 10,
   "metadata": {},
   "outputs": [
    {
     "name": "stderr",
     "output_type": "stream",
     "text": [
      "Running on 7 cores\n",
      "predictor is assumed to be a categorical variable with 2 levels: Normal, Sectio\n"
     ]
    },
    {
     "name": "stdout",
     "output_type": "stream",
     "text": [
      "Running 25 methods...\n",
      "  |======================================================================| 100%"
     ]
    },
    {
     "name": "stderr",
     "output_type": "stream",
     "text": [
      "ds2x, erq2, ere2 were excluded due to failure\n"
     ]
    }
   ],
   "source": [
    "res_all <- allDA(phy_genus_pre, predictor = \"Delivery\")"
   ]
  },
  {
   "cell_type": "markdown",
   "metadata": {},
   "source": [
    "An easy comparison is by creating Euler (Venn) diagrams of features which are found significant. \n",
    "\n",
    "As our best method did not find any significant features, let's try to create a diagram with 3 methods which all seem to find a lot of false positives."
   ]
  },
  {
   "cell_type": "code",
   "execution_count": 16,
   "metadata": {},
   "outputs": [
    {
     "data": {
      "image/png": "[encoded data removed]",
      "text/plain": [
       "plot without title"
      ]
     },
     "metadata": {},
     "output_type": "display_data"
    }
   ],
   "source": [
    "vennDA(res_all, tests = c(\"zig\", \"ds2\", \"erq\"))"
   ]
  },
  {
   "cell_type": "markdown",
   "metadata": {},
   "source": [
    "The 11 features found significant by all 3 methods might be truly differentially abundant, but let's ensure that the sign of the log fold change is similar:"
   ]
  },
  {
   "cell_type": "code",
   "execution_count": 17,
   "metadata": {},
   "outputs": [
    {
     "data": {
      "image/png": "[encoded data removed]",
      "text/plain": [
       "plot without title"
      ]
     },
     "metadata": {},
     "output_type": "display_data"
    }
   ],
   "source": [
    "vennDA(res_all, tests = c(\"zig\", \"ds2\", \"erq\"), split = TRUE)"
   ]
  },
  {
   "cell_type": "markdown",
   "metadata": {},
   "source": [
    "Argh! Doesn't look too good. 8 features are significant with a negative log fold change, but 3 features have a positive log fold change with ds2 and erq but negative with zig. If the signs are not matching, then we would not know in which group the features have the highest abundance."
   ]
  }
 ],
 "metadata": {
  "kernelspec": {
   "display_name": "R",
   "language": "R",
   "name": "ir"
  },
  "language_info": {
   "codemirror_mode": "r",
   "file_extension": ".r",
   "mimetype": "text/x-r-source",
   "name": "R",
   "pygments_lexer": "r",
   "version": "3.6.3"
  }
 },
 "nbformat": 4,
 "nbformat_minor": 2
}
