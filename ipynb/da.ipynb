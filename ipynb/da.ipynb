{
 "cells": [
  {
   "cell_type": "markdown",
   "metadata": {},
   "source": [
    "# Differential abundance"
   ]
  },
  {
   "cell_type": "markdown",
   "metadata": {},
   "source": [
    "Neither alpha or beta diversity analysis, tells us which taxa are different in our treatment groups. For this, we use differential abundance (DA) analysis. DA methods compare the abundance of each taxa between our treatment groups, to tell which are differentially abundant.\n",
    "\n",
    "There are many different tools for conducting DA analysis, and no gold standard. The problem is that there are many statistical challenges with analysing amplicon data, which the different tools solve in different ways:\n",
    "* Compositionality: The abundances of taxa are not indepedent of each other (see also the [Compositionality](https://russel88.github.io/amplicon_data_analysis/html/compositionality.html) notebook)\n",
    "* Zero-inflation: There are many zeroes; that is, most taxa are absent in most samples\n",
    "* Skewed distributions: Few taxa are abundant, and most taxa are rare\n",
    "* Counts: Abundances are represented by counts of reads, which changes the statistical assumptions\n",
    "* Multiple hypothesis problem: Conducting many statistical tests require corrections (See [Statistics 102](https://russel88.github.io/amplicon_data_analysis/html/stats2.html#multiple) notebook)"
   ]
  },
  {
   "cell_type": "code",
   "execution_count": 1,
   "metadata": {},
   "outputs": [],
   "source": [
    "# Load phyloseq object and phyloseq package\n",
    "library(phyloseq)\n",
    "load(\"../data/physeq.RData\")"
   ]
  },
  {
   "cell_type": "markdown",
   "metadata": {},
   "source": [
    "Here we will use the DAtest package for DA analysis. The advantage with DAtest is that all the different methods require the same standardized input, also making it simple to conduct many analysis and compare them."
   ]
  },
  {
   "cell_type": "code",
   "execution_count": 2,
   "metadata": {},
   "outputs": [
    {
     "name": "stderr",
     "output_type": "stream",
     "text": [
      "DAtest version 2.7.15\n"
     ]
    }
   ],
   "source": [
    "library(DAtest)"
   ]
  },
  {
   "cell_type": "markdown",
   "metadata": {},
   "source": [
    "# Contents\n",
    "* [Agglomoration and data preparation](#pre)\n",
    "* [Wilcoxon](#wil)\n",
    "* [DESEq2](#ds2)\n",
    "* [Plotting](#plot)"
   ]
  },
  {
   "cell_type": "markdown",
   "metadata": {},
   "source": [
    "## Data preparation and agglomoration<a class=\"anchor\" id=\"pre\"></a>"
   ]
  },
  {
   "cell_type": "markdown",
   "metadata": {},
   "source": [
    "#### Agglomoration\n",
    "First step before doing differential abundance analysis is to decide at which taxonomic/phylogenetic level you want to test your hypothesis. Do you want to be specific and do it at the ASV level, or is it more fitting with your hypothesis to test at a higher taxonomic level.\n",
    "\n",
    "Things to consider when choosing whether to agglomorate:\n",
    "* Agglomoration makes the tests less specific, and might hide large variations at the ASV level. For example, maybe one Staphylococcus ASV is highly abundant in the control, and another Staphylococcus is highly abundant in the treatment group. Agglomrating to the genus level will hide this variation.\n",
    "* Agglomoration combines the reads of the ASVs, and will therefore give better estimations of abundances\n",
    "* Agglomoration will give less hypotheses to test and hence more power to detect differences, because of multiple hypothesis correction\n",
    "\n",
    "The choice depends entirely on the hypotheses of the study.\n",
    "\n",
    "#### Filtering\n",
    "Removing low abundant taxa (ASVs or another level, depending on agglomoration), is a useful and widely used preparation step before performing DA analysis. The reason is that many taxa in microbiome studies are rare, and often many are so rare that there is no way they would be statistically significant. An obvious example is an ASV only present in one sample. Depending on your sample size and experimental setup we would often want at least 5 samples (unless your treatment groups is less than this size). Another threshold to filter by is the abundance/reads; if an ASV only have few reads the estimation of its abundance will be poor. \n",
    "\n",
    "There are, unfortunately, no gold standard on how to set the thresholds when pruning low abundant ASVs. It is a trade-off between keeping rare ASVs which could be interesting to test, and removing ASVs to increase statistical power. \n",
    "\n",
    "#### In R:\n",
    "We use the preDA function to filter, which is also presented in the [phyloseq operations notebook](https://russel88.github.io/amplicon_data_analysis/html/phyloseq_operations.html#prunetax)."
   ]
  },
  {
   "cell_type": "code",
   "execution_count": 3,
   "metadata": {},
   "outputs": [
    {
     "name": "stderr",
     "output_type": "stream",
     "text": [
      "213 features grouped as 'Others' in the output\n"
     ]
    }
   ],
   "source": [
    "# Agglomorate to Genus level\n",
    "phy_genus <- tax_glom(phy, \"Genus\")\n",
    "\n",
    "# Only keep genera present in at least 10 samples\n",
    "phy_genus_pre <- preDA(phy_genus, min.samples = 10)"
   ]
  },
  {
   "cell_type": "markdown",
   "metadata": {},
   "source": [
    "## Wilcoxon<a class=\"anchor\" id=\"wil\"></a>\n",
    "Wilcoxon Rank Sum test is used to test if the median of two statistical samples are different (See more in the [Statistics 101](https://russel88.github.io/amplicon_data_analysis/html/stats.html#wilcoxon) notebook). If we have a simple experimental design with for example a control and treatment group, we can conduct a Wilcoxon Rank Sum test for each taxa, comparing whether they are different in control versus treatment group.\n",
    "\n",
    "In R:"
   ]
  },
  {
   "cell_type": "code",
   "execution_count": 4,
   "metadata": {},
   "outputs": [],
   "source": [
    "res_wil <- DA.wil(phy_genus_pre, predictor = \"Delivery\")"
   ]
  },
  {
   "cell_type": "code",
   "execution_count": 5,
   "metadata": {},
   "outputs": [
    {
     "data": {
      "text/html": [
       "<table>\n",
       "<thead><tr><th scope=col>Feature</th><th scope=col>pval</th><th scope=col>pval.adj</th><th scope=col>log2FC</th><th scope=col>ordering</th><th scope=col>Method</th><th scope=col>Kingdom</th><th scope=col>Phylum</th><th scope=col>Class</th><th scope=col>Order</th><th scope=col>Family</th><th scope=col>Genus</th><th scope=col>asv_hash</th></tr></thead>\n",
       "<tbody>\n",
       "\t<tr><td>ASV_101                                                               </td><td>0.2150980                                                             </td><td>0.8483352                                                             </td><td> 0.93291689                                                           </td><td>Sectio&gt;Normal                                                      </td><td>Wilcox (wil)                                                          </td><td>Bacteria                                                              </td><td>Bacteroidetes                                                         </td><td>Bacteroidia                                                           </td><td>Bacteroidales                                                         </td><td><span style=white-space:pre-wrap>Muribaculaceae         </span>       </td><td><span style=white-space:pre-wrap>Family_Muribaculaceae         </span></td><td>NA                                                                    </td></tr>\n",
       "\t<tr><td>ASV_1022                                                       </td><td>0.9363737                                                      </td><td>0.9946204                                                      </td><td> 0.06585990                                                    </td><td>Sectio&gt;Normal                                               </td><td>Wilcox (wil)                                                   </td><td>Bacteria                                                       </td><td><span style=white-space:pre-wrap>Firmicutes   </span>          </td><td>Clostridia                                                     </td><td>Clostridiales                                                  </td><td><span style=white-space:pre-wrap>Lachnospiraceae        </span></td><td>_Eubacterium_ventriosum_group                                  </td><td>NA                                                             </td></tr>\n",
       "\t<tr><td>ASV_1061                                                              </td><td>0.7732571                                                             </td><td>0.9946204                                                             </td><td> 0.83635765                                                           </td><td>Sectio&gt;Normal                                                      </td><td>Wilcox (wil)                                                          </td><td>Bacteria                                                              </td><td><span style=white-space:pre-wrap>Firmicutes   </span>                 </td><td>Clostridia                                                            </td><td>Clostridiales                                                         </td><td><span style=white-space:pre-wrap>Ruminococcaceae        </span>       </td><td><span style=white-space:pre-wrap>Ruminiclostridium             </span></td><td>NA                                                                    </td></tr>\n",
       "\t<tr><td>ASV_1067                                                              </td><td>0.5244529                                                             </td><td>0.9946204                                                             </td><td> 1.26315835                                                           </td><td>Sectio&gt;Normal                                                      </td><td>Wilcox (wil)                                                          </td><td>Bacteria                                                              </td><td><span style=white-space:pre-wrap>Firmicutes   </span>                 </td><td>Clostridia                                                            </td><td>Clostridiales                                                         </td><td><span style=white-space:pre-wrap>Christensenellaceae    </span>       </td><td><span style=white-space:pre-wrap>Christensenellaceae_R_7       </span></td><td>NA                                                                    </td></tr>\n",
       "\t<tr><td>ASV_1068                                                              </td><td>0.6200989                                                             </td><td>0.9946204                                                             </td><td>-0.04915273                                                           </td><td>Normal&gt;Sectio                                                      </td><td>Wilcox (wil)                                                          </td><td>Bacteria                                                              </td><td><span style=white-space:pre-wrap>Firmicutes   </span>                 </td><td>Clostridia                                                            </td><td>Clostridiales                                                         </td><td><span style=white-space:pre-wrap>Ruminococcaceae        </span>       </td><td><span style=white-space:pre-wrap>Ruminococcaceae_UCG_013       </span></td><td>NA                                                                    </td></tr>\n",
       "\t<tr><td>ASV_1072                                             </td><td>0.4279367                                            </td><td>0.9946204                                            </td><td> 0.87143933                                          </td><td>Sectio&gt;Normal                                     </td><td>Wilcox (wil)                                         </td><td>Bacteria                                             </td><td><span style=white-space:pre-wrap>Firmicutes   </span></td><td>Clostridia                                           </td><td>Clostridiales                                        </td><td>Clostridiales_vadinBB60                              </td><td>Family_Clostridiales_vadinBB60                       </td><td>NA                                                   </td></tr>\n",
       "</tbody>\n",
       "</table>\n"
      ],
      "text/latex": [
       "\\begin{tabular}{r|lllllllllllll}\n",
       " Feature & pval & pval.adj & log2FC & ordering & Method & Kingdom & Phylum & Class & Order & Family & Genus & asv\\_hash\\\\\n",
       "\\hline\n",
       "\t ASV\\_101                        & 0.2150980                        & 0.8483352                        &  0.93291689                      & Sectio>Normal                    & Wilcox (wil)                     & Bacteria                         & Bacteroidetes                    & Bacteroidia                      & Bacteroidales                    & Muribaculaceae                   & Family\\_Muribaculaceae          & NA                              \\\\\n",
       "\t ASV\\_1022                           & 0.9363737                            & 0.9946204                            &  0.06585990                          & Sectio>Normal                        & Wilcox (wil)                         & Bacteria                             & Firmicutes                           & Clostridia                           & Clostridiales                        & Lachnospiraceae                      & \\_Eubacterium\\_ventriosum\\_group  & NA                                  \\\\\n",
       "\t ASV\\_1061                     & 0.7732571                      & 0.9946204                      &  0.83635765                    & Sectio>Normal                  & Wilcox (wil)                   & Bacteria                       & Firmicutes                     & Clostridia                     & Clostridiales                  & Ruminococcaceae                & Ruminiclostridium              & NA                            \\\\\n",
       "\t ASV\\_1067                         & 0.5244529                          & 0.9946204                          &  1.26315835                        & Sectio>Normal                      & Wilcox (wil)                       & Bacteria                           & Firmicutes                         & Clostridia                         & Clostridiales                      & Christensenellaceae                & Christensenellaceae\\_R\\_7        & NA                                \\\\\n",
       "\t ASV\\_1068                         & 0.6200989                          & 0.9946204                          & -0.04915273                        & Normal>Sectio                      & Wilcox (wil)                       & Bacteria                           & Firmicutes                         & Clostridia                         & Clostridiales                      & Ruminococcaceae                    & Ruminococcaceae\\_UCG\\_013        & NA                                \\\\\n",
       "\t ASV\\_1072                         & 0.4279367                          & 0.9946204                          &  0.87143933                        & Sectio>Normal                      & Wilcox (wil)                       & Bacteria                           & Firmicutes                         & Clostridia                         & Clostridiales                      & Clostridiales\\_vadinBB60          & Family\\_Clostridiales\\_vadinBB60 & NA                                \\\\\n",
       "\\end{tabular}\n"
      ],
      "text/markdown": [
       "\n",
       "| Feature | pval | pval.adj | log2FC | ordering | Method | Kingdom | Phylum | Class | Order | Family | Genus | asv_hash |\n",
       "|---|---|---|---|---|---|---|---|---|---|---|---|---|\n",
       "| ASV_101                        | 0.2150980                      | 0.8483352                      |  0.93291689                    | Sectio>Normal                  | Wilcox (wil)                   | Bacteria                       | Bacteroidetes                  | Bacteroidia                    | Bacteroidales                  | Muribaculaceae                 | Family_Muribaculaceae          | NA                             |\n",
       "| ASV_1022                       | 0.9363737                      | 0.9946204                      |  0.06585990                    | Sectio>Normal                  | Wilcox (wil)                   | Bacteria                       | Firmicutes                     | Clostridia                     | Clostridiales                  | Lachnospiraceae                | _Eubacterium_ventriosum_group  | NA                             |\n",
       "| ASV_1061                       | 0.7732571                      | 0.9946204                      |  0.83635765                    | Sectio>Normal                  | Wilcox (wil)                   | Bacteria                       | Firmicutes                     | Clostridia                     | Clostridiales                  | Ruminococcaceae                | Ruminiclostridium              | NA                             |\n",
       "| ASV_1067                       | 0.5244529                      | 0.9946204                      |  1.26315835                    | Sectio>Normal                  | Wilcox (wil)                   | Bacteria                       | Firmicutes                     | Clostridia                     | Clostridiales                  | Christensenellaceae            | Christensenellaceae_R_7        | NA                             |\n",
       "| ASV_1068                       | 0.6200989                      | 0.9946204                      | -0.04915273                    | Normal>Sectio                  | Wilcox (wil)                   | Bacteria                       | Firmicutes                     | Clostridia                     | Clostridiales                  | Ruminococcaceae                | Ruminococcaceae_UCG_013        | NA                             |\n",
       "| ASV_1072                       | 0.4279367                      | 0.9946204                      |  0.87143933                    | Sectio>Normal                  | Wilcox (wil)                   | Bacteria                       | Firmicutes                     | Clostridia                     | Clostridiales                  | Clostridiales_vadinBB60        | Family_Clostridiales_vadinBB60 | NA                             |\n",
       "\n"
      ],
      "text/plain": [
       "  Feature  pval      pval.adj  log2FC      ordering      Method       Kingdom \n",
       "1 ASV_101  0.2150980 0.8483352  0.93291689 Sectio>Normal Wilcox (wil) Bacteria\n",
       "2 ASV_1022 0.9363737 0.9946204  0.06585990 Sectio>Normal Wilcox (wil) Bacteria\n",
       "3 ASV_1061 0.7732571 0.9946204  0.83635765 Sectio>Normal Wilcox (wil) Bacteria\n",
       "4 ASV_1067 0.5244529 0.9946204  1.26315835 Sectio>Normal Wilcox (wil) Bacteria\n",
       "5 ASV_1068 0.6200989 0.9946204 -0.04915273 Normal>Sectio Wilcox (wil) Bacteria\n",
       "6 ASV_1072 0.4279367 0.9946204  0.87143933 Sectio>Normal Wilcox (wil) Bacteria\n",
       "  Phylum        Class       Order         Family                 \n",
       "1 Bacteroidetes Bacteroidia Bacteroidales Muribaculaceae         \n",
       "2 Firmicutes    Clostridia  Clostridiales Lachnospiraceae        \n",
       "3 Firmicutes    Clostridia  Clostridiales Ruminococcaceae        \n",
       "4 Firmicutes    Clostridia  Clostridiales Christensenellaceae    \n",
       "5 Firmicutes    Clostridia  Clostridiales Ruminococcaceae        \n",
       "6 Firmicutes    Clostridia  Clostridiales Clostridiales_vadinBB60\n",
       "  Genus                          asv_hash\n",
       "1 Family_Muribaculaceae          NA      \n",
       "2 _Eubacterium_ventriosum_group  NA      \n",
       "3 Ruminiclostridium              NA      \n",
       "4 Christensenellaceae_R_7        NA      \n",
       "5 Ruminococcaceae_UCG_013        NA      \n",
       "6 Family_Clostridiales_vadinBB60 NA      "
      ]
     },
     "metadata": {},
     "output_type": "display_data"
    }
   ],
   "source": [
    "head(res_wil)"
   ]
  },
  {
   "cell_type": "markdown",
   "metadata": {},
   "source": [
    "Output explanation:\n",
    "* Each row is a test of one ASV\n",
    "* Feature: This is the ASV id\n",
    "* pval: The p-value\n",
    "* pval.adj: The adjusted p-value. This is the p-value to use!\n",
    "* log2FC: Log2 fold change. The log ratio of abundance between the two groups\n",
    "* ordering: In which group is it high abundant, and in which group low abundant\n",
    "* Method: Name of our method\n",
    "* The rest are taxonomy information of the ASV\n",
    "\n",
    "Usually we are only interested in those that are significantly abundant. So we can subset the data.frame with results:"
   ]
  },
  {
   "cell_type": "code",
   "execution_count": 6,
   "metadata": {},
   "outputs": [
    {
     "data": {
      "text/html": [
       "<table>\n",
       "<thead><tr><th scope=col>Feature</th><th scope=col>pval</th><th scope=col>pval.adj</th><th scope=col>log2FC</th><th scope=col>ordering</th><th scope=col>Method</th><th scope=col>Kingdom</th><th scope=col>Phylum</th><th scope=col>Class</th><th scope=col>Order</th><th scope=col>Family</th><th scope=col>Genus</th><th scope=col>asv_hash</th></tr></thead>\n",
       "<tbody>\n",
       "</tbody>\n",
       "</table>\n"
      ],
      "text/latex": [
       "\\begin{tabular}{r|lllllllllllll}\n",
       " Feature & pval & pval.adj & log2FC & ordering & Method & Kingdom & Phylum & Class & Order & Family & Genus & asv\\_hash\\\\\n",
       "\\hline\n",
       "\\end{tabular}\n"
      ],
      "text/markdown": [
       "\n",
       "| Feature | pval | pval.adj | log2FC | ordering | Method | Kingdom | Phylum | Class | Order | Family | Genus | asv_hash |\n",
       "|---|---|---|---|---|---|---|---|---|---|---|---|---|\n",
       "\n"
      ],
      "text/plain": [
       "     Feature pval pval.adj log2FC ordering Method Kingdom Phylum Class Order\n",
       "     Family Genus asv_hash"
      ]
     },
     "metadata": {},
     "output_type": "display_data"
    }
   ],
   "source": [
    "res_wil[res_wil$pval.adj <= 0.05, ]"
   ]
  },
  {
   "cell_type": "markdown",
   "metadata": {},
   "source": [
    "It's empty! Nothing is significant!\n",
    "\n",
    "We can also order it, and see which have the lowest p-value:"
   ]
  },
  {
   "cell_type": "code",
   "execution_count": 7,
   "metadata": {},
   "outputs": [],
   "source": [
    "res_wil_ordered <- res_wil[order(res_wil$pval), ]"
   ]
  },
  {
   "cell_type": "code",
   "execution_count": 8,
   "metadata": {},
   "outputs": [
    {
     "data": {
      "text/html": [
       "<table>\n",
       "<thead><tr><th></th><th scope=col>Feature</th><th scope=col>pval</th><th scope=col>pval.adj</th><th scope=col>log2FC</th><th scope=col>ordering</th><th scope=col>Method</th><th scope=col>Kingdom</th><th scope=col>Phylum</th><th scope=col>Class</th><th scope=col>Order</th><th scope=col>Family</th><th scope=col>Genus</th><th scope=col>asv_hash</th></tr></thead>\n",
       "<tbody>\n",
       "\t<tr><th scope=row>113</th><td>ASV_775                                                  </td><td>0.001402802                                              </td><td>0.1893783                                                </td><td> 2.751017                                                </td><td>Sectio&gt;Normal                                         </td><td>Wilcox (wil)                                             </td><td>Bacteria                                                 </td><td><span style=white-space:pre-wrap>Firmicutes    </span>   </td><td><span style=white-space:pre-wrap>Clostridia    </span>   </td><td><span style=white-space:pre-wrap>Clostridiales    </span></td><td>Clostridiales_family_XI                                  </td><td><span style=white-space:pre-wrap>Gallicola        </span></td><td>NA                                                       </td></tr>\n",
       "\t<tr><th scope=row>81</th><td>ASV_507                                                  </td><td>0.006991071                                              </td><td>0.4718973                                                </td><td>-2.116995                                                </td><td>Normal&gt;Sectio                                         </td><td>Wilcox (wil)                                             </td><td>Bacteria                                                 </td><td>Acidobacteria                                            </td><td>Acidobacteriia                                           </td><td><span style=white-space:pre-wrap>Solibacterales   </span></td><td>Solibacteraceae_subgrp_3                                 </td><td><span style=white-space:pre-wrap>Ca_Solibacter    </span></td><td>NA                                                       </td></tr>\n",
       "\t<tr><th scope=row>49</th><td>ASV_1422                                                        </td><td>0.011180431                                                     </td><td>0.5031194                                                       </td><td>-3.289834                                                       </td><td>Normal&gt;Sectio                                                </td><td>Wilcox (wil)                                                    </td><td>Bacteria                                                        </td><td><span style=white-space:pre-wrap>Firmicutes    </span>          </td><td><span style=white-space:pre-wrap>Clostridia    </span>          </td><td><span style=white-space:pre-wrap>Clostridiales    </span>       </td><td><span style=white-space:pre-wrap>Lachnospiraceae         </span></td><td>Lachnoclostridium                                               </td><td>NA                                                              </td></tr>\n",
       "\t<tr><th scope=row>110</th><td>ASV_730                                                         </td><td>0.027742293                                                     </td><td>0.6961533                                                       </td><td>-2.023270                                                       </td><td>Normal&gt;Sectio                                                </td><td>Wilcox (wil)                                                    </td><td>Bacteria                                                        </td><td>Actinobacteria                                                  </td><td>Actinobacteria                                                  </td><td>Corynebacteriales                                               </td><td><span style=white-space:pre-wrap>Corynebacteriaceae      </span></td><td><span style=white-space:pre-wrap>Corynebacterium  </span>       </td><td>NA                                                              </td></tr>\n",
       "\t<tr><th scope=row>50</th><td>ASV_143                                                         </td><td>0.033230772                                                     </td><td>0.6961533                                                       </td><td>-1.475749                                                       </td><td>Normal&gt;Sectio                                                </td><td>Wilcox (wil)                                                    </td><td>Bacteria                                                        </td><td>Bacteroidetes                                                   </td><td><span style=white-space:pre-wrap>Bacteroidia   </span>          </td><td><span style=white-space:pre-wrap>Bacteroidales    </span>       </td><td><span style=white-space:pre-wrap>Barnesiellaceae         </span></td><td><span style=white-space:pre-wrap>Coprobacter      </span>       </td><td>NA                                                              </td></tr>\n",
       "\t<tr><th scope=row>121</th><td>ASV_850                                                         </td><td>0.033805764                                                     </td><td>0.6961533                                                       </td><td> 1.377340                                                       </td><td>Sectio&gt;Normal                                                </td><td>Wilcox (wil)                                                    </td><td>Bacteria                                                        </td><td><span style=white-space:pre-wrap>Firmicutes    </span>          </td><td><span style=white-space:pre-wrap>Clostridia    </span>          </td><td><span style=white-space:pre-wrap>Clostridiales    </span>       </td><td><span style=white-space:pre-wrap>Clostridiaceae_1        </span></td><td>Clostridium_ss_1                                                </td><td>NA                                                              </td></tr>\n",
       "</tbody>\n",
       "</table>\n"
      ],
      "text/latex": [
       "\\begin{tabular}{r|lllllllllllll}\n",
       "  & Feature & pval & pval.adj & log2FC & ordering & Method & Kingdom & Phylum & Class & Order & Family & Genus & asv\\_hash\\\\\n",
       "\\hline\n",
       "\t113 & ASV\\_775                    & 0.001402802                  & 0.1893783                    &  2.751017                    & Sectio>Normal                & Wilcox (wil)                 & Bacteria                     & Firmicutes                   & Clostridia                   & Clostridiales                & Clostridiales\\_family\\_XI  & Gallicola                    & NA                          \\\\\n",
       "\t81 & ASV\\_507                    & 0.006991071                  & 0.4718973                    & -2.116995                    & Normal>Sectio                & Wilcox (wil)                 & Bacteria                     & Acidobacteria                & Acidobacteriia               & Solibacterales               & Solibacteraceae\\_subgrp\\_3 & Ca\\_Solibacter              & NA                          \\\\\n",
       "\t49 & ASV\\_1422               & 0.011180431              & 0.5031194                & -3.289834                & Normal>Sectio            & Wilcox (wil)             & Bacteria                 & Firmicutes               & Clostridia               & Clostridiales            & Lachnospiraceae          & Lachnoclostridium        & NA                      \\\\\n",
       "\t110 & ASV\\_730                & 0.027742293              & 0.6961533                & -2.023270                & Normal>Sectio            & Wilcox (wil)             & Bacteria                 & Actinobacteria           & Actinobacteria           & Corynebacteriales        & Corynebacteriaceae       & Corynebacterium          & NA                      \\\\\n",
       "\t50 & ASV\\_143                & 0.033230772              & 0.6961533                & -1.475749                & Normal>Sectio            & Wilcox (wil)             & Bacteria                 & Bacteroidetes            & Bacteroidia              & Bacteroidales            & Barnesiellaceae          & Coprobacter              & NA                      \\\\\n",
       "\t121 & ASV\\_850                  & 0.033805764                & 0.6961533                  &  1.377340                  & Sectio>Normal              & Wilcox (wil)               & Bacteria                   & Firmicutes                 & Clostridia                 & Clostridiales              & Clostridiaceae\\_1         & Clostridium\\_ss\\_1       & NA                        \\\\\n",
       "\\end{tabular}\n"
      ],
      "text/markdown": [
       "\n",
       "| <!--/--> | Feature | pval | pval.adj | log2FC | ordering | Method | Kingdom | Phylum | Class | Order | Family | Genus | asv_hash |\n",
       "|---|---|---|---|---|---|---|---|---|---|---|---|---|---|\n",
       "| 113 | ASV_775                  | 0.001402802              | 0.1893783                |  2.751017                | Sectio>Normal            | Wilcox (wil)             | Bacteria                 | Firmicutes               | Clostridia               | Clostridiales            | Clostridiales_family_XI  | Gallicola                | NA                       |\n",
       "| 81 | ASV_507                  | 0.006991071              | 0.4718973                | -2.116995                | Normal>Sectio            | Wilcox (wil)             | Bacteria                 | Acidobacteria            | Acidobacteriia           | Solibacterales           | Solibacteraceae_subgrp_3 | Ca_Solibacter            | NA                       |\n",
       "| 49 | ASV_1422                 | 0.011180431              | 0.5031194                | -3.289834                | Normal>Sectio            | Wilcox (wil)             | Bacteria                 | Firmicutes               | Clostridia               | Clostridiales            | Lachnospiraceae          | Lachnoclostridium        | NA                       |\n",
       "| 110 | ASV_730                  | 0.027742293              | 0.6961533                | -2.023270                | Normal>Sectio            | Wilcox (wil)             | Bacteria                 | Actinobacteria           | Actinobacteria           | Corynebacteriales        | Corynebacteriaceae       | Corynebacterium          | NA                       |\n",
       "| 50 | ASV_143                  | 0.033230772              | 0.6961533                | -1.475749                | Normal>Sectio            | Wilcox (wil)             | Bacteria                 | Bacteroidetes            | Bacteroidia              | Bacteroidales            | Barnesiellaceae          | Coprobacter              | NA                       |\n",
       "| 121 | ASV_850                  | 0.033805764              | 0.6961533                |  1.377340                | Sectio>Normal            | Wilcox (wil)             | Bacteria                 | Firmicutes               | Clostridia               | Clostridiales            | Clostridiaceae_1         | Clostridium_ss_1         | NA                       |\n",
       "\n"
      ],
      "text/plain": [
       "    Feature  pval        pval.adj  log2FC    ordering      Method      \n",
       "113 ASV_775  0.001402802 0.1893783  2.751017 Sectio>Normal Wilcox (wil)\n",
       "81  ASV_507  0.006991071 0.4718973 -2.116995 Normal>Sectio Wilcox (wil)\n",
       "49  ASV_1422 0.011180431 0.5031194 -3.289834 Normal>Sectio Wilcox (wil)\n",
       "110 ASV_730  0.027742293 0.6961533 -2.023270 Normal>Sectio Wilcox (wil)\n",
       "50  ASV_143  0.033230772 0.6961533 -1.475749 Normal>Sectio Wilcox (wil)\n",
       "121 ASV_850  0.033805764 0.6961533  1.377340 Sectio>Normal Wilcox (wil)\n",
       "    Kingdom  Phylum         Class          Order            \n",
       "113 Bacteria Firmicutes     Clostridia     Clostridiales    \n",
       "81  Bacteria Acidobacteria  Acidobacteriia Solibacterales   \n",
       "49  Bacteria Firmicutes     Clostridia     Clostridiales    \n",
       "110 Bacteria Actinobacteria Actinobacteria Corynebacteriales\n",
       "50  Bacteria Bacteroidetes  Bacteroidia    Bacteroidales    \n",
       "121 Bacteria Firmicutes     Clostridia     Clostridiales    \n",
       "    Family                   Genus             asv_hash\n",
       "113 Clostridiales_family_XI  Gallicola         NA      \n",
       "81  Solibacteraceae_subgrp_3 Ca_Solibacter     NA      \n",
       "49  Lachnospiraceae          Lachnoclostridium NA      \n",
       "110 Corynebacteriaceae       Corynebacterium   NA      \n",
       "50  Barnesiellaceae          Coprobacter       NA      \n",
       "121 Clostridiaceae_1         Clostridium_ss_1  NA      "
      ]
     },
     "metadata": {},
     "output_type": "display_data"
    }
   ],
   "source": [
    "head(res_wil_ordered)"
   ]
  },
  {
   "cell_type": "markdown",
   "metadata": {},
   "source": [
    "No ASV is close to being significant here."
   ]
  },
  {
   "cell_type": "markdown",
   "metadata": {},
   "source": [
    "## DESeq2<a class=\"anchor\" id=\"ds2\"></a>\n",
    "DEseq2 was originally developed for RNA-seq (transcriptomic) data, but this is very similar to 16S rRNA gene amplicon data, and DESeq2 has been shown to perform well on this kind of data. Furthermore, with DESeq2 you can create more complicated models, with for example multiple variables both categorical and quantitative.\n",
    "\n",
    "Let's run DESeq2 to test the effect of Time:"
   ]
  },
  {
   "cell_type": "code",
   "execution_count": 11,
   "metadata": {},
   "outputs": [
    {
     "name": "stderr",
     "output_type": "stream",
     "text": [
      "converting counts to integer mode\n",
      "using pre-existing size factors\n",
      "estimating dispersions\n",
      "gene-wise dispersion estimates\n",
      "mean-dispersion relationship\n",
      "-- note: fitType='parametric', but the dispersion trend was not well captured by the\n",
      "   function: y = a/x + b, and a local regression fit was automatically substituted.\n",
      "   specify fitType='local' or 'mean' to avoid this message next time.\n",
      "final dispersion estimates\n",
      "fitting model and testing\n",
      "-- replacing outliers and refitting for 132 genes\n",
      "-- DESeq argument 'minReplicatesForReplace' = 7 \n",
      "-- original counts are preserved in counts(dds)\n",
      "estimating dispersions\n",
      "fitting model and testing\n"
     ]
    }
   ],
   "source": [
    "res_ds2 <- DA.ds2(phy_genus_pre, predictor = \"Time\")"
   ]
  },
  {
   "cell_type": "code",
   "execution_count": 12,
   "metadata": {},
   "outputs": [
    {
     "data": {
      "text/html": [
       "<table>\n",
       "<thead><tr><th scope=col>Feature</th><th scope=col>baseMean</th><th scope=col>log2FoldChange</th><th scope=col>lfcSE</th><th scope=col>stat</th><th scope=col>pval</th><th scope=col>ordering</th><th scope=col>pval.adj</th><th scope=col>Method</th><th scope=col>Kingdom</th><th scope=col>Phylum</th><th scope=col>Class</th><th scope=col>Order</th><th scope=col>Family</th><th scope=col>Genus</th><th scope=col>asv_hash</th></tr></thead>\n",
       "<tbody>\n",
       "\t<tr><td>ASV_101                                                               </td><td><span style=white-space:pre-wrap>  7.360589</span>                    </td><td>-0.06124897                                                           </td><td>2.005445                                                              </td><td>6.0853915                                                             </td><td>0.04770611                                                            </td><td>1w&gt;1m                                                              </td><td>0.3287414                                                             </td><td>DESeq2 man. geoMeans (ds2)                                            </td><td>Bacteria                                                              </td><td>Bacteroidetes                                                         </td><td>Bacteroidia                                                           </td><td>Bacteroidales                                                         </td><td><span style=white-space:pre-wrap>Muribaculaceae         </span>       </td><td><span style=white-space:pre-wrap>Family_Muribaculaceae         </span></td><td>NA                                                                    </td></tr>\n",
       "\t<tr><td>ASV_1022                                                       </td><td><span style=white-space:pre-wrap>  7.211684</span>             </td><td> 3.41543826                                                    </td><td>2.119998                                                       </td><td>3.9457740                                                      </td><td>0.13905483                                                     </td><td>1m&gt;1w                                                       </td><td>0.3994128                                                      </td><td>DESeq2 man. geoMeans (ds2)                                     </td><td>Bacteria                                                       </td><td><span style=white-space:pre-wrap>Firmicutes   </span>          </td><td>Clostridia                                                     </td><td>Clostridiales                                                  </td><td><span style=white-space:pre-wrap>Lachnospiraceae        </span></td><td>_Eubacterium_ventriosum_group                                  </td><td>NA                                                             </td></tr>\n",
       "\t<tr><td>ASV_1061                                                              </td><td>212.804181                                                            </td><td>-3.51901026                                                           </td><td>1.198453                                                              </td><td>7.0867130                                                             </td><td>0.02891611                                                            </td><td>1w&gt;1m                                                              </td><td>0.2456016                                                             </td><td>DESeq2 man. geoMeans (ds2)                                            </td><td>Bacteria                                                              </td><td><span style=white-space:pre-wrap>Firmicutes   </span>                 </td><td>Clostridia                                                            </td><td>Clostridiales                                                         </td><td><span style=white-space:pre-wrap>Ruminococcaceae        </span>       </td><td><span style=white-space:pre-wrap>Ruminiclostridium             </span></td><td>NA                                                                    </td></tr>\n",
       "\t<tr><td>ASV_1067                                                              </td><td><span style=white-space:pre-wrap>  7.812411</span>                    </td><td>-2.24954258                                                           </td><td>2.151254                                                              </td><td>1.0031455                                                             </td><td>0.60557749                                                            </td><td>1w&gt;1m                                                              </td><td>0.7888034                                                             </td><td>DESeq2 man. geoMeans (ds2)                                            </td><td>Bacteria                                                              </td><td><span style=white-space:pre-wrap>Firmicutes   </span>                 </td><td>Clostridia                                                            </td><td>Clostridiales                                                         </td><td><span style=white-space:pre-wrap>Christensenellaceae    </span>       </td><td><span style=white-space:pre-wrap>Christensenellaceae_R_7       </span></td><td>NA                                                                    </td></tr>\n",
       "\t<tr><td>ASV_1068                                                              </td><td><span style=white-space:pre-wrap>  2.306586</span>                    </td><td>-2.47710242                                                           </td><td>2.535754                                                              </td><td>0.3974942                                                             </td><td>0.81975717                                                            </td><td>1w&gt;1m                                                              </td><td>0.8786740                                                             </td><td>DESeq2 man. geoMeans (ds2)                                            </td><td>Bacteria                                                              </td><td><span style=white-space:pre-wrap>Firmicutes   </span>                 </td><td>Clostridia                                                            </td><td>Clostridiales                                                         </td><td><span style=white-space:pre-wrap>Ruminococcaceae        </span>       </td><td><span style=white-space:pre-wrap>Ruminococcaceae_UCG_013       </span></td><td>NA                                                                    </td></tr>\n",
       "\t<tr><td>ASV_1072                                             </td><td> 12.962955                                           </td><td>-4.06219837                                          </td><td>1.797113                                             </td><td>4.8049715                                            </td><td>0.09049273                                           </td><td>1w&gt;1m                                             </td><td>0.3570007                                            </td><td>DESeq2 man. geoMeans (ds2)                           </td><td>Bacteria                                             </td><td><span style=white-space:pre-wrap>Firmicutes   </span></td><td>Clostridia                                           </td><td>Clostridiales                                        </td><td>Clostridiales_vadinBB60                              </td><td>Family_Clostridiales_vadinBB60                       </td><td>NA                                                   </td></tr>\n",
       "</tbody>\n",
       "</table>\n"
      ],
      "text/latex": [
       "\\begin{tabular}{r|llllllllllllllll}\n",
       " Feature & baseMean & log2FoldChange & lfcSE & stat & pval & ordering & pval.adj & Method & Kingdom & Phylum & Class & Order & Family & Genus & asv\\_hash\\\\\n",
       "\\hline\n",
       "\t ASV\\_101                        &   7.360589                       & -0.06124897                      & 2.005445                         & 6.0853915                        & 0.04770611                       & 1w>1m                            & 0.3287414                        & DESeq2 man. geoMeans (ds2)       & Bacteria                         & Bacteroidetes                    & Bacteroidia                      & Bacteroidales                    & Muribaculaceae                   & Family\\_Muribaculaceae          & NA                              \\\\\n",
       "\t ASV\\_1022                           &   7.211684                           &  3.41543826                          & 2.119998                             & 3.9457740                            & 0.13905483                           & 1m>1w                                & 0.3994128                            & DESeq2 man. geoMeans (ds2)           & Bacteria                             & Firmicutes                           & Clostridia                           & Clostridiales                        & Lachnospiraceae                      & \\_Eubacterium\\_ventriosum\\_group  & NA                                  \\\\\n",
       "\t ASV\\_1061                     & 212.804181                     & -3.51901026                    & 1.198453                       & 7.0867130                      & 0.02891611                     & 1w>1m                          & 0.2456016                      & DESeq2 man. geoMeans (ds2)     & Bacteria                       & Firmicutes                     & Clostridia                     & Clostridiales                  & Ruminococcaceae                & Ruminiclostridium              & NA                            \\\\\n",
       "\t ASV\\_1067                         &   7.812411                         & -2.24954258                        & 2.151254                           & 1.0031455                          & 0.60557749                         & 1w>1m                              & 0.7888034                          & DESeq2 man. geoMeans (ds2)         & Bacteria                           & Firmicutes                         & Clostridia                         & Clostridiales                      & Christensenellaceae                & Christensenellaceae\\_R\\_7        & NA                                \\\\\n",
       "\t ASV\\_1068                         &   2.306586                         & -2.47710242                        & 2.535754                           & 0.3974942                          & 0.81975717                         & 1w>1m                              & 0.8786740                          & DESeq2 man. geoMeans (ds2)         & Bacteria                           & Firmicutes                         & Clostridia                         & Clostridiales                      & Ruminococcaceae                    & Ruminococcaceae\\_UCG\\_013        & NA                                \\\\\n",
       "\t ASV\\_1072                         &  12.962955                         & -4.06219837                        & 1.797113                           & 4.8049715                          & 0.09049273                         & 1w>1m                              & 0.3570007                          & DESeq2 man. geoMeans (ds2)         & Bacteria                           & Firmicutes                         & Clostridia                         & Clostridiales                      & Clostridiales\\_vadinBB60          & Family\\_Clostridiales\\_vadinBB60 & NA                                \\\\\n",
       "\\end{tabular}\n"
      ],
      "text/markdown": [
       "\n",
       "| Feature | baseMean | log2FoldChange | lfcSE | stat | pval | ordering | pval.adj | Method | Kingdom | Phylum | Class | Order | Family | Genus | asv_hash |\n",
       "|---|---|---|---|---|---|---|---|---|---|---|---|---|---|---|---|\n",
       "| ASV_101                        |   7.360589                     | -0.06124897                    | 2.005445                       | 6.0853915                      | 0.04770611                     | 1w>1m                          | 0.3287414                      | DESeq2 man. geoMeans (ds2)     | Bacteria                       | Bacteroidetes                  | Bacteroidia                    | Bacteroidales                  | Muribaculaceae                 | Family_Muribaculaceae          | NA                             |\n",
       "| ASV_1022                       |   7.211684                     |  3.41543826                    | 2.119998                       | 3.9457740                      | 0.13905483                     | 1m>1w                          | 0.3994128                      | DESeq2 man. geoMeans (ds2)     | Bacteria                       | Firmicutes                     | Clostridia                     | Clostridiales                  | Lachnospiraceae                | _Eubacterium_ventriosum_group  | NA                             |\n",
       "| ASV_1061                       | 212.804181                     | -3.51901026                    | 1.198453                       | 7.0867130                      | 0.02891611                     | 1w>1m                          | 0.2456016                      | DESeq2 man. geoMeans (ds2)     | Bacteria                       | Firmicutes                     | Clostridia                     | Clostridiales                  | Ruminococcaceae                | Ruminiclostridium              | NA                             |\n",
       "| ASV_1067                       |   7.812411                     | -2.24954258                    | 2.151254                       | 1.0031455                      | 0.60557749                     | 1w>1m                          | 0.7888034                      | DESeq2 man. geoMeans (ds2)     | Bacteria                       | Firmicutes                     | Clostridia                     | Clostridiales                  | Christensenellaceae            | Christensenellaceae_R_7        | NA                             |\n",
       "| ASV_1068                       |   2.306586                     | -2.47710242                    | 2.535754                       | 0.3974942                      | 0.81975717                     | 1w>1m                          | 0.8786740                      | DESeq2 man. geoMeans (ds2)     | Bacteria                       | Firmicutes                     | Clostridia                     | Clostridiales                  | Ruminococcaceae                | Ruminococcaceae_UCG_013        | NA                             |\n",
       "| ASV_1072                       |  12.962955                     | -4.06219837                    | 1.797113                       | 4.8049715                      | 0.09049273                     | 1w>1m                          | 0.3570007                      | DESeq2 man. geoMeans (ds2)     | Bacteria                       | Firmicutes                     | Clostridia                     | Clostridiales                  | Clostridiales_vadinBB60        | Family_Clostridiales_vadinBB60 | NA                             |\n",
       "\n"
      ],
      "text/plain": [
       "  Feature  baseMean   log2FoldChange lfcSE    stat      pval       ordering\n",
       "1 ASV_101    7.360589 -0.06124897    2.005445 6.0853915 0.04770611 1w>1m   \n",
       "2 ASV_1022   7.211684  3.41543826    2.119998 3.9457740 0.13905483 1m>1w   \n",
       "3 ASV_1061 212.804181 -3.51901026    1.198453 7.0867130 0.02891611 1w>1m   \n",
       "4 ASV_1067   7.812411 -2.24954258    2.151254 1.0031455 0.60557749 1w>1m   \n",
       "5 ASV_1068   2.306586 -2.47710242    2.535754 0.3974942 0.81975717 1w>1m   \n",
       "6 ASV_1072  12.962955 -4.06219837    1.797113 4.8049715 0.09049273 1w>1m   \n",
       "  pval.adj  Method                     Kingdom  Phylum        Class      \n",
       "1 0.3287414 DESeq2 man. geoMeans (ds2) Bacteria Bacteroidetes Bacteroidia\n",
       "2 0.3994128 DESeq2 man. geoMeans (ds2) Bacteria Firmicutes    Clostridia \n",
       "3 0.2456016 DESeq2 man. geoMeans (ds2) Bacteria Firmicutes    Clostridia \n",
       "4 0.7888034 DESeq2 man. geoMeans (ds2) Bacteria Firmicutes    Clostridia \n",
       "5 0.8786740 DESeq2 man. geoMeans (ds2) Bacteria Firmicutes    Clostridia \n",
       "6 0.3570007 DESeq2 man. geoMeans (ds2) Bacteria Firmicutes    Clostridia \n",
       "  Order         Family                  Genus                          asv_hash\n",
       "1 Bacteroidales Muribaculaceae          Family_Muribaculaceae          NA      \n",
       "2 Clostridiales Lachnospiraceae         _Eubacterium_ventriosum_group  NA      \n",
       "3 Clostridiales Ruminococcaceae         Ruminiclostridium              NA      \n",
       "4 Clostridiales Christensenellaceae     Christensenellaceae_R_7        NA      \n",
       "5 Clostridiales Ruminococcaceae         Ruminococcaceae_UCG_013        NA      \n",
       "6 Clostridiales Clostridiales_vadinBB60 Family_Clostridiales_vadinBB60 NA      "
      ]
     },
     "metadata": {},
     "output_type": "display_data"
    }
   ],
   "source": [
    "head(res_ds2)"
   ]
  },
  {
   "cell_type": "markdown",
   "metadata": {},
   "source": [
    "It is important to remember that our time variable has three levels: 1w, 1m, and 1y. By default we only get the log fold change of the second level (1m here) against the first level (1w here). The p-value is an overall p-value telling us whether any of the levels (timepoints) are different.\n",
    "\n",
    "Output explanation:\n",
    "* Each row is a test of one ASV\n",
    "* Feature: This is the ASV id\n",
    "* baseMean: The average abundance of the first level in the predictor\n",
    "* log2FoldChange: The log ratio of the abundance in second level of the predictor compared to the first level\n",
    "* lfcSE: Standard error of the log2 fold change\n",
    "* stat: Wald statistic\n",
    "* pval: The p-value\n",
    "* pval.adj: The adjusted p-value. This is the p-value to use!\n",
    "* ordering: In which group is it high abundant, and in which group low abundant\n",
    "* Method: Name of our method\n",
    "* The rest are taxonomy information of the ASV\n",
    "\n",
    "Let's see if there any significant:"
   ]
  },
  {
   "cell_type": "code",
   "execution_count": 14,
   "metadata": {},
   "outputs": [
    {
     "data": {
      "text/html": [
       "<table>\n",
       "<thead><tr><th></th><th scope=col>Feature</th><th scope=col>baseMean</th><th scope=col>log2FoldChange</th><th scope=col>lfcSE</th><th scope=col>stat</th><th scope=col>pval</th><th scope=col>ordering</th><th scope=col>pval.adj</th><th scope=col>Method</th><th scope=col>Kingdom</th><th scope=col>Phylum</th><th scope=col>Class</th><th scope=col>Order</th><th scope=col>Family</th><th scope=col>Genus</th><th scope=col>asv_hash</th></tr></thead>\n",
       "<tbody>\n",
       "\t<tr><th scope=row>30</th><td>ASV_1242                                                         </td><td>236.91558                                                        </td><td> 6.17369055                                                      </td><td>1.6247007                                                        </td><td>12.40859                                                         </td><td>0.0020207303                                                     </td><td>1m&gt;1w                                                         </td><td>0.034099823                                                      </td><td>DESeq2 man. geoMeans (ds2)                                       </td><td>Bacteria                                                         </td><td><span style=white-space:pre-wrap>Firmicutes    </span>           </td><td><span style=white-space:pre-wrap>Negativicutes      </span>      </td><td><span style=white-space:pre-wrap>Selenomonadales      </span>    </td><td><span style=white-space:pre-wrap>Veillonellaceae         </span> </td><td><span style=white-space:pre-wrap>Dialister                </span></td><td>NA                                                               </td></tr>\n",
       "\t<tr><th scope=row>46</th><td>ASV_1399                                                         </td><td>640.75337                                                        </td><td>-2.86043279                                                      </td><td>0.7224206                                                        </td><td>14.39660                                                         </td><td>0.0007478571                                                     </td><td>1w&gt;1m                                                         </td><td>0.025584397                                                      </td><td>DESeq2 man. geoMeans (ds2)                                       </td><td>Bacteria                                                         </td><td><span style=white-space:pre-wrap>Firmicutes    </span>           </td><td><span style=white-space:pre-wrap>Clostridia         </span>      </td><td><span style=white-space:pre-wrap>Clostridiales        </span>    </td><td><span style=white-space:pre-wrap>Lachnospiraceae         </span> </td><td><span style=white-space:pre-wrap>Family_Lachnospiraceae   </span></td><td>NA                                                               </td></tr>\n",
       "\t<tr><th scope=row>49</th><td>ASV_1422                                                         </td><td>513.73052                                                        </td><td> 3.84973481                                                      </td><td>1.1203128                                                        </td><td>15.86284                                                         </td><td>0.0003592760                                                     </td><td>1m&gt;1w                                                         </td><td>0.024251131                                                      </td><td>DESeq2 man. geoMeans (ds2)                                       </td><td>Bacteria                                                         </td><td><span style=white-space:pre-wrap>Firmicutes    </span>           </td><td><span style=white-space:pre-wrap>Clostridia         </span>      </td><td><span style=white-space:pre-wrap>Clostridiales        </span>    </td><td><span style=white-space:pre-wrap>Lachnospiraceae         </span> </td><td><span style=white-space:pre-wrap>Lachnoclostridium        </span></td><td>NA                                                               </td></tr>\n",
       "\t<tr><th scope=row>80</th><td>ASV_495                                                          </td><td> 70.25141                                                        </td><td> 4.89627651                                                      </td><td>1.5717227                                                        </td><td>13.35234                                                         </td><td>0.0012605988                                                     </td><td>1m&gt;1w                                                         </td><td>0.031936346                                                      </td><td>DESeq2 man. geoMeans (ds2)                                       </td><td>Bacteria                                                         </td><td>Acidobacteria                                                    </td><td><span style=white-space:pre-wrap>Acidobacteriia     </span>      </td><td><span style=white-space:pre-wrap>Solibacterales       </span>    </td><td>Solibacteraceae_subgrp_3                                         </td><td><span style=white-space:pre-wrap>Bryobacter               </span></td><td>NA                                                               </td></tr>\n",
       "\t<tr><th scope=row>86</th><td><span style=white-space:pre-wrap>ASV_53  </span>                 </td><td>109.69400                                                        </td><td>-0.24206367                                                      </td><td>1.2940555                                                        </td><td>14.36951                                                         </td><td>0.0007580562                                                     </td><td>1w&gt;1m                                                         </td><td>0.025584397                                                      </td><td>DESeq2 man. geoMeans (ds2)                                       </td><td>Bacteria                                                         </td><td>Proteobacteria                                                   </td><td>Gammaproteobacteria                                              </td><td>Betaproteobacteriales                                            </td><td><span style=white-space:pre-wrap>Burkholderiaceae        </span> </td><td><span style=white-space:pre-wrap>Sutterella               </span></td><td>NA                                                               </td></tr>\n",
       "\t<tr><th scope=row>108</th><td>ASV_708                                                          </td><td>295.66437                                                        </td><td>-3.02131421                                                      </td><td>0.9396722                                                        </td><td>13.11505                                                         </td><td>0.0014193932                                                     </td><td>1w&gt;1m                                                         </td><td>0.031936346                                                      </td><td>DESeq2 man. geoMeans (ds2)                                       </td><td>Bacteria                                                         </td><td>Actinobacteria                                                   </td><td><span style=white-space:pre-wrap>Actinobacteria     </span>      </td><td><span style=white-space:pre-wrap>Bifidobacteriales    </span>    </td><td><span style=white-space:pre-wrap>Bifidobacteriaceae      </span> </td><td><span style=white-space:pre-wrap>Bifidobacterium          </span></td><td>NA                                                               </td></tr>\n",
       "\t<tr><th scope=row>109</th><td>ASV_719                                                          </td><td> 97.72334                                                        </td><td>-0.66519682                                                      </td><td>1.1672434                                                        </td><td>12.61287                                                         </td><td>0.0018245289                                                     </td><td>1w&gt;1m                                                         </td><td>0.034099823                                                      </td><td>DESeq2 man. geoMeans (ds2)                                       </td><td>Bacteria                                                         </td><td>Actinobacteria                                                   </td><td><span style=white-space:pre-wrap>Actinobacteria     </span>      </td><td><span style=white-space:pre-wrap>Actinomycetales      </span>    </td><td><span style=white-space:pre-wrap>Actinomycetaceae        </span> </td><td><span style=white-space:pre-wrap>Actinomyces              </span></td><td>NA                                                               </td></tr>\n",
       "\t<tr><th scope=row>128</th><td>ASV_941                                                         </td><td> 80.13316                                                       </td><td> 0.03571871                                                     </td><td>1.4948927                                                       </td><td>19.96418                                                        </td><td>0.0000462204                                                    </td><td>1m&gt;1w                                                        </td><td>0.006239753                                                     </td><td>DESeq2 man. geoMeans (ds2)                                      </td><td>Bacteria                                                        </td><td><span style=white-space:pre-wrap>Firmicutes    </span>          </td><td><span style=white-space:pre-wrap>Clostridia         </span>     </td><td><span style=white-space:pre-wrap>Clostridiales        </span>   </td><td><span style=white-space:pre-wrap>Lachnospiraceae         </span></td><td>_Eubacterium_hallii_group                                       </td><td>NA                                                              </td></tr>\n",
       "</tbody>\n",
       "</table>\n"
      ],
      "text/latex": [
       "\\begin{tabular}{r|llllllllllllllll}\n",
       "  & Feature & baseMean & log2FoldChange & lfcSE & stat & pval & ordering & pval.adj & Method & Kingdom & Phylum & Class & Order & Family & Genus & asv\\_hash\\\\\n",
       "\\hline\n",
       "\t30 & ASV\\_1242                 & 236.91558                  &  6.17369055                & 1.6247007                  & 12.40859                   & 0.0020207303               & 1m>1w                      & 0.034099823                & DESeq2 man. geoMeans (ds2) & Bacteria                   & Firmicutes                 & Negativicutes              & Selenomonadales            & Veillonellaceae            & Dialister                  & NA                        \\\\\n",
       "\t46 & ASV\\_1399                  & 640.75337                   & -2.86043279                 & 0.7224206                   & 14.39660                    & 0.0007478571                & 1w>1m                       & 0.025584397                 & DESeq2 man. geoMeans (ds2)  & Bacteria                    & Firmicutes                  & Clostridia                  & Clostridiales               & Lachnospiraceae             & Family\\_Lachnospiraceae    & NA                         \\\\\n",
       "\t49 & ASV\\_1422                 & 513.73052                  &  3.84973481                & 1.1203128                  & 15.86284                   & 0.0003592760               & 1m>1w                      & 0.024251131                & DESeq2 man. geoMeans (ds2) & Bacteria                   & Firmicutes                 & Clostridia                 & Clostridiales              & Lachnospiraceae            & Lachnoclostridium          & NA                        \\\\\n",
       "\t80 & ASV\\_495                    &  70.25141                    &  4.89627651                  & 1.5717227                    & 13.35234                     & 0.0012605988                 & 1m>1w                        & 0.031936346                  & DESeq2 man. geoMeans (ds2)   & Bacteria                     & Acidobacteria                & Acidobacteriia               & Solibacterales               & Solibacteraceae\\_subgrp\\_3 & Bryobacter                   & NA                          \\\\\n",
       "\t86 & ASV\\_53                   & 109.69400                  & -0.24206367                & 1.2940555                  & 14.36951                   & 0.0007580562               & 1w>1m                      & 0.025584397                & DESeq2 man. geoMeans (ds2) & Bacteria                   & Proteobacteria             & Gammaproteobacteria        & Betaproteobacteriales      & Burkholderiaceae           & Sutterella                 & NA                        \\\\\n",
       "\t108 & ASV\\_708                  & 295.66437                  & -3.02131421                & 0.9396722                  & 13.11505                   & 0.0014193932               & 1w>1m                      & 0.031936346                & DESeq2 man. geoMeans (ds2) & Bacteria                   & Actinobacteria             & Actinobacteria             & Bifidobacteriales          & Bifidobacteriaceae         & Bifidobacterium            & NA                        \\\\\n",
       "\t109 & ASV\\_719                  &  97.72334                  & -0.66519682                & 1.1672434                  & 12.61287                   & 0.0018245289               & 1w>1m                      & 0.034099823                & DESeq2 man. geoMeans (ds2) & Bacteria                   & Actinobacteria             & Actinobacteria             & Actinomycetales            & Actinomycetaceae           & Actinomyces                & NA                        \\\\\n",
       "\t128 & ASV\\_941                       &  80.13316                       &  0.03571871                     & 1.4948927                       & 19.96418                        & 0.0000462204                    & 1m>1w                           & 0.006239753                     & DESeq2 man. geoMeans (ds2)      & Bacteria                        & Firmicutes                      & Clostridia                      & Clostridiales                   & Lachnospiraceae                 & \\_Eubacterium\\_hallii\\_group & NA                             \\\\\n",
       "\\end{tabular}\n"
      ],
      "text/markdown": [
       "\n",
       "| <!--/--> | Feature | baseMean | log2FoldChange | lfcSE | stat | pval | ordering | pval.adj | Method | Kingdom | Phylum | Class | Order | Family | Genus | asv_hash |\n",
       "|---|---|---|---|---|---|---|---|---|---|---|---|---|---|---|---|---|\n",
       "| 30 | ASV_1242                   | 236.91558                  |  6.17369055                | 1.6247007                  | 12.40859                   | 0.0020207303               | 1m>1w                      | 0.034099823                | DESeq2 man. geoMeans (ds2) | Bacteria                   | Firmicutes                 | Negativicutes              | Selenomonadales            | Veillonellaceae            | Dialister                  | NA                         |\n",
       "| 46 | ASV_1399                   | 640.75337                  | -2.86043279                | 0.7224206                  | 14.39660                   | 0.0007478571               | 1w>1m                      | 0.025584397                | DESeq2 man. geoMeans (ds2) | Bacteria                   | Firmicutes                 | Clostridia                 | Clostridiales              | Lachnospiraceae            | Family_Lachnospiraceae     | NA                         |\n",
       "| 49 | ASV_1422                   | 513.73052                  |  3.84973481                | 1.1203128                  | 15.86284                   | 0.0003592760               | 1m>1w                      | 0.024251131                | DESeq2 man. geoMeans (ds2) | Bacteria                   | Firmicutes                 | Clostridia                 | Clostridiales              | Lachnospiraceae            | Lachnoclostridium          | NA                         |\n",
       "| 80 | ASV_495                    |  70.25141                  |  4.89627651                | 1.5717227                  | 13.35234                   | 0.0012605988               | 1m>1w                      | 0.031936346                | DESeq2 man. geoMeans (ds2) | Bacteria                   | Acidobacteria              | Acidobacteriia             | Solibacterales             | Solibacteraceae_subgrp_3   | Bryobacter                 | NA                         |\n",
       "| 86 | ASV_53                     | 109.69400                  | -0.24206367                | 1.2940555                  | 14.36951                   | 0.0007580562               | 1w>1m                      | 0.025584397                | DESeq2 man. geoMeans (ds2) | Bacteria                   | Proteobacteria             | Gammaproteobacteria        | Betaproteobacteriales      | Burkholderiaceae           | Sutterella                 | NA                         |\n",
       "| 108 | ASV_708                    | 295.66437                  | -3.02131421                | 0.9396722                  | 13.11505                   | 0.0014193932               | 1w>1m                      | 0.031936346                | DESeq2 man. geoMeans (ds2) | Bacteria                   | Actinobacteria             | Actinobacteria             | Bifidobacteriales          | Bifidobacteriaceae         | Bifidobacterium            | NA                         |\n",
       "| 109 | ASV_719                    |  97.72334                  | -0.66519682                | 1.1672434                  | 12.61287                   | 0.0018245289               | 1w>1m                      | 0.034099823                | DESeq2 man. geoMeans (ds2) | Bacteria                   | Actinobacteria             | Actinobacteria             | Actinomycetales            | Actinomycetaceae           | Actinomyces                | NA                         |\n",
       "| 128 | ASV_941                    |  80.13316                  |  0.03571871                | 1.4948927                  | 19.96418                   | 0.0000462204               | 1m>1w                      | 0.006239753                | DESeq2 man. geoMeans (ds2) | Bacteria                   | Firmicutes                 | Clostridia                 | Clostridiales              | Lachnospiraceae            | _Eubacterium_hallii_group  | NA                         |\n",
       "\n"
      ],
      "text/plain": [
       "    Feature  baseMean  log2FoldChange lfcSE     stat     pval         ordering\n",
       "30  ASV_1242 236.91558  6.17369055    1.6247007 12.40859 0.0020207303 1m>1w   \n",
       "46  ASV_1399 640.75337 -2.86043279    0.7224206 14.39660 0.0007478571 1w>1m   \n",
       "49  ASV_1422 513.73052  3.84973481    1.1203128 15.86284 0.0003592760 1m>1w   \n",
       "80  ASV_495   70.25141  4.89627651    1.5717227 13.35234 0.0012605988 1m>1w   \n",
       "86  ASV_53   109.69400 -0.24206367    1.2940555 14.36951 0.0007580562 1w>1m   \n",
       "108 ASV_708  295.66437 -3.02131421    0.9396722 13.11505 0.0014193932 1w>1m   \n",
       "109 ASV_719   97.72334 -0.66519682    1.1672434 12.61287 0.0018245289 1w>1m   \n",
       "128 ASV_941   80.13316  0.03571871    1.4948927 19.96418 0.0000462204 1m>1w   \n",
       "    pval.adj    Method                     Kingdom  Phylum        \n",
       "30  0.034099823 DESeq2 man. geoMeans (ds2) Bacteria Firmicutes    \n",
       "46  0.025584397 DESeq2 man. geoMeans (ds2) Bacteria Firmicutes    \n",
       "49  0.024251131 DESeq2 man. geoMeans (ds2) Bacteria Firmicutes    \n",
       "80  0.031936346 DESeq2 man. geoMeans (ds2) Bacteria Acidobacteria \n",
       "86  0.025584397 DESeq2 man. geoMeans (ds2) Bacteria Proteobacteria\n",
       "108 0.031936346 DESeq2 man. geoMeans (ds2) Bacteria Actinobacteria\n",
       "109 0.034099823 DESeq2 man. geoMeans (ds2) Bacteria Actinobacteria\n",
       "128 0.006239753 DESeq2 man. geoMeans (ds2) Bacteria Firmicutes    \n",
       "    Class               Order                 Family                  \n",
       "30  Negativicutes       Selenomonadales       Veillonellaceae         \n",
       "46  Clostridia          Clostridiales         Lachnospiraceae         \n",
       "49  Clostridia          Clostridiales         Lachnospiraceae         \n",
       "80  Acidobacteriia      Solibacterales        Solibacteraceae_subgrp_3\n",
       "86  Gammaproteobacteria Betaproteobacteriales Burkholderiaceae        \n",
       "108 Actinobacteria      Bifidobacteriales     Bifidobacteriaceae      \n",
       "109 Actinobacteria      Actinomycetales       Actinomycetaceae        \n",
       "128 Clostridia          Clostridiales         Lachnospiraceae         \n",
       "    Genus                     asv_hash\n",
       "30  Dialister                 NA      \n",
       "46  Family_Lachnospiraceae    NA      \n",
       "49  Lachnoclostridium         NA      \n",
       "80  Bryobacter                NA      \n",
       "86  Sutterella                NA      \n",
       "108 Bifidobacterium           NA      \n",
       "109 Actinomyces               NA      \n",
       "128 _Eubacterium_hallii_group NA      "
      ]
     },
     "metadata": {},
     "output_type": "display_data"
    }
   ],
   "source": [
    "res_ds2[res_ds2$pval.adj <= 0.05, ]"
   ]
  },
  {
   "cell_type": "markdown",
   "metadata": {},
   "source": [
    "8 genera are significantly differentially abundant between the different time points"
   ]
  },
  {
   "cell_type": "markdown",
   "metadata": {},
   "source": [
    "We can see that Dialister, the first one, is more abundant in 1 month than in 1 week, but what about 1 year?\n",
    "\n",
    "We can change the coeff argument. If we set coeff=3 then we will compare the third level (1 year) with the first level (1 week). The p-value is the same, but the fold change and ordering will change."
   ]
  },
  {
   "cell_type": "code",
   "execution_count": 15,
   "metadata": {},
   "outputs": [
    {
     "name": "stderr",
     "output_type": "stream",
     "text": [
      "converting counts to integer mode\n",
      "using pre-existing size factors\n",
      "estimating dispersions\n",
      "gene-wise dispersion estimates\n",
      "mean-dispersion relationship\n",
      "-- note: fitType='parametric', but the dispersion trend was not well captured by the\n",
      "   function: y = a/x + b, and a local regression fit was automatically substituted.\n",
      "   specify fitType='local' or 'mean' to avoid this message next time.\n",
      "final dispersion estimates\n",
      "fitting model and testing\n",
      "-- replacing outliers and refitting for 132 genes\n",
      "-- DESeq argument 'minReplicatesForReplace' = 7 \n",
      "-- original counts are preserved in counts(dds)\n",
      "estimating dispersions\n",
      "fitting model and testing\n"
     ]
    }
   ],
   "source": [
    "res2 <- DA.ds2(phy_genus_pre, predictor = \"Time\", coeff = 3)"
   ]
  },
  {
   "cell_type": "markdown",
   "metadata": {},
   "source": [
    "See results for the Dialister:"
   ]
  },
  {
   "cell_type": "code",
   "execution_count": 16,
   "metadata": {},
   "outputs": [
    {
     "data": {
      "text/html": [
       "<table>\n",
       "<thead><tr><th></th><th scope=col>Feature</th><th scope=col>baseMean</th><th scope=col>log2FoldChange</th><th scope=col>lfcSE</th><th scope=col>stat</th><th scope=col>pval</th><th scope=col>ordering</th><th scope=col>pval.adj</th><th scope=col>Method</th><th scope=col>Kingdom</th><th scope=col>Phylum</th><th scope=col>Class</th><th scope=col>Order</th><th scope=col>Family</th><th scope=col>Genus</th><th scope=col>asv_hash</th></tr></thead>\n",
       "<tbody>\n",
       "\t<tr><th scope=row>30</th><td>ASV_1242                  </td><td>236.9156                  </td><td>2.256275                  </td><td>1.624899                  </td><td>12.40859                  </td><td>0.00202073                </td><td>1y&gt;1w                  </td><td>0.03409982                </td><td>DESeq2 man. geoMeans (ds2)</td><td>Bacteria                  </td><td>Firmicutes                </td><td>Negativicutes             </td><td>Selenomonadales           </td><td>Veillonellaceae           </td><td>Dialister                 </td><td>NA                        </td></tr>\n",
       "</tbody>\n",
       "</table>\n"
      ],
      "text/latex": [
       "\\begin{tabular}{r|llllllllllllllll}\n",
       "  & Feature & baseMean & log2FoldChange & lfcSE & stat & pval & ordering & pval.adj & Method & Kingdom & Phylum & Class & Order & Family & Genus & asv\\_hash\\\\\n",
       "\\hline\n",
       "\t30 & ASV\\_1242                 & 236.9156                   & 2.256275                   & 1.624899                   & 12.40859                   & 0.00202073                 & 1y>1w                      & 0.03409982                 & DESeq2 man. geoMeans (ds2) & Bacteria                   & Firmicutes                 & Negativicutes              & Selenomonadales            & Veillonellaceae            & Dialister                  & NA                        \\\\\n",
       "\\end{tabular}\n"
      ],
      "text/markdown": [
       "\n",
       "| <!--/--> | Feature | baseMean | log2FoldChange | lfcSE | stat | pval | ordering | pval.adj | Method | Kingdom | Phylum | Class | Order | Family | Genus | asv_hash |\n",
       "|---|---|---|---|---|---|---|---|---|---|---|---|---|---|---|---|---|\n",
       "| 30 | ASV_1242                   | 236.9156                   | 2.256275                   | 1.624899                   | 12.40859                   | 0.00202073                 | 1y>1w                      | 0.03409982                 | DESeq2 man. geoMeans (ds2) | Bacteria                   | Firmicutes                 | Negativicutes              | Selenomonadales            | Veillonellaceae            | Dialister                  | NA                         |\n",
       "\n"
      ],
      "text/plain": [
       "   Feature  baseMean log2FoldChange lfcSE    stat     pval       ordering\n",
       "30 ASV_1242 236.9156 2.256275       1.624899 12.40859 0.00202073 1y>1w   \n",
       "   pval.adj   Method                     Kingdom  Phylum     Class        \n",
       "30 0.03409982 DESeq2 man. geoMeans (ds2) Bacteria Firmicutes Negativicutes\n",
       "   Order           Family          Genus     asv_hash\n",
       "30 Selenomonadales Veillonellaceae Dialister NA      "
      ]
     },
     "metadata": {},
     "output_type": "display_data"
    }
   ],
   "source": [
    "res2[res2$Feature == \"ASV_1242\", ]"
   ]
  },
  {
   "cell_type": "markdown",
   "metadata": {},
   "source": [
    "We can in the same way change the reference level for calculating the fold change. Let's change it to two (1 month):"
   ]
  },
  {
   "cell_type": "code",
   "execution_count": 17,
   "metadata": {},
   "outputs": [
    {
     "name": "stderr",
     "output_type": "stream",
     "text": [
      "converting counts to integer mode\n",
      "using pre-existing size factors\n",
      "estimating dispersions\n",
      "gene-wise dispersion estimates\n",
      "mean-dispersion relationship\n",
      "-- note: fitType='parametric', but the dispersion trend was not well captured by the\n",
      "   function: y = a/x + b, and a local regression fit was automatically substituted.\n",
      "   specify fitType='local' or 'mean' to avoid this message next time.\n",
      "final dispersion estimates\n",
      "fitting model and testing\n",
      "-- replacing outliers and refitting for 132 genes\n",
      "-- DESeq argument 'minReplicatesForReplace' = 7 \n",
      "-- original counts are preserved in counts(dds)\n",
      "estimating dispersions\n",
      "fitting model and testing\n"
     ]
    }
   ],
   "source": [
    "res3 <- DA.ds2(phy_genus_pre, predictor = \"Time\", coeff = 3, coeff.ref = 2)"
   ]
  },
  {
   "cell_type": "code",
   "execution_count": 18,
   "metadata": {},
   "outputs": [
    {
     "data": {
      "text/html": [
       "<table>\n",
       "<thead><tr><th></th><th scope=col>Feature</th><th scope=col>baseMean</th><th scope=col>log2FoldChange</th><th scope=col>lfcSE</th><th scope=col>stat</th><th scope=col>pval</th><th scope=col>ordering</th><th scope=col>pval.adj</th><th scope=col>Method</th><th scope=col>Kingdom</th><th scope=col>Phylum</th><th scope=col>Class</th><th scope=col>Order</th><th scope=col>Family</th><th scope=col>Genus</th><th scope=col>asv_hash</th></tr></thead>\n",
       "<tbody>\n",
       "\t<tr><th scope=row>30</th><td>ASV_1242                  </td><td>236.9156                  </td><td>-3.917416                 </td><td>1.62313                   </td><td>12.40859                  </td><td>0.00202073                </td><td>1m&gt;1y                  </td><td>0.03409982                </td><td>DESeq2 man. geoMeans (ds2)</td><td>Bacteria                  </td><td>Firmicutes                </td><td>Negativicutes             </td><td>Selenomonadales           </td><td>Veillonellaceae           </td><td>Dialister                 </td><td>NA                        </td></tr>\n",
       "</tbody>\n",
       "</table>\n"
      ],
      "text/latex": [
       "\\begin{tabular}{r|llllllllllllllll}\n",
       "  & Feature & baseMean & log2FoldChange & lfcSE & stat & pval & ordering & pval.adj & Method & Kingdom & Phylum & Class & Order & Family & Genus & asv\\_hash\\\\\n",
       "\\hline\n",
       "\t30 & ASV\\_1242                 & 236.9156                   & -3.917416                  & 1.62313                    & 12.40859                   & 0.00202073                 & 1m>1y                      & 0.03409982                 & DESeq2 man. geoMeans (ds2) & Bacteria                   & Firmicutes                 & Negativicutes              & Selenomonadales            & Veillonellaceae            & Dialister                  & NA                        \\\\\n",
       "\\end{tabular}\n"
      ],
      "text/markdown": [
       "\n",
       "| <!--/--> | Feature | baseMean | log2FoldChange | lfcSE | stat | pval | ordering | pval.adj | Method | Kingdom | Phylum | Class | Order | Family | Genus | asv_hash |\n",
       "|---|---|---|---|---|---|---|---|---|---|---|---|---|---|---|---|---|\n",
       "| 30 | ASV_1242                   | 236.9156                   | -3.917416                  | 1.62313                    | 12.40859                   | 0.00202073                 | 1m>1y                      | 0.03409982                 | DESeq2 man. geoMeans (ds2) | Bacteria                   | Firmicutes                 | Negativicutes              | Selenomonadales            | Veillonellaceae            | Dialister                  | NA                         |\n",
       "\n"
      ],
      "text/plain": [
       "   Feature  baseMean log2FoldChange lfcSE   stat     pval       ordering\n",
       "30 ASV_1242 236.9156 -3.917416      1.62313 12.40859 0.00202073 1m>1y   \n",
       "   pval.adj   Method                     Kingdom  Phylum     Class        \n",
       "30 0.03409982 DESeq2 man. geoMeans (ds2) Bacteria Firmicutes Negativicutes\n",
       "   Order           Family          Genus     asv_hash\n",
       "30 Selenomonadales Veillonellaceae Dialister NA      "
      ]
     },
     "metadata": {},
     "output_type": "display_data"
    }
   ],
   "source": [
    "res3[res3$Feature == \"ASV_1242\", ]"
   ]
  },
  {
   "cell_type": "markdown",
   "metadata": {},
   "source": [
    "Based on this we can conclude that Dialister is most abundant at 1 month, hereafter at 1 year, and least abundant at 1 week."
   ]
  },
  {
   "cell_type": "markdown",
   "metadata": {},
   "source": [
    "### How to interpret fold change\n",
    "The log2 fold change (log2FC) is the log2 ratio between the abundance in one group versus another group. For example, in the above analysis it is the ratio in abundance of Dialister at 1 year versus at 1 month. We can see that it is -3.9. A negative log2FC means that Dialister is in higher abundance in the reference group (1 month). Since it is on a log2 scale, a log2FC of 1 means the abundance is double compared to the reference, 2 means it is quadruple that of the reference, -1 means half, and -2 means a quarter, and so on. It is quite common to ignore log2FC between -2 and 2, and only focus on large differences. This choice, however, depends on the hypothesis in question. "
   ]
  },
  {
   "cell_type": "markdown",
   "metadata": {},
   "source": [
    "### Include covariates\n",
    "With DESeq2 we can include covariates in the analysis. If we want to test the effect of mode of Delivery, we can take into account the differences across time points. Here we would say that we \"control\" for the effect of time, when testing the effect of Delivery."
   ]
  },
  {
   "cell_type": "code",
   "execution_count": 19,
   "metadata": {},
   "outputs": [
    {
     "name": "stderr",
     "output_type": "stream",
     "text": [
      "converting counts to integer mode\n",
      "using pre-existing size factors\n",
      "estimating dispersions\n",
      "gene-wise dispersion estimates\n",
      "mean-dispersion relationship\n",
      "-- note: fitType='parametric', but the dispersion trend was not well captured by the\n",
      "   function: y = a/x + b, and a local regression fit was automatically substituted.\n",
      "   specify fitType='local' or 'mean' to avoid this message next time.\n",
      "final dispersion estimates\n",
      "fitting model and testing\n",
      "-- replacing outliers and refitting for 126 genes\n",
      "-- DESeq argument 'minReplicatesForReplace' = 7 \n",
      "-- original counts are preserved in counts(dds)\n",
      "estimating dispersions\n",
      "fitting model and testing\n"
     ]
    }
   ],
   "source": [
    "res_covar <- DA.ds2(phy_genus_pre, predictor = \"Delivery\", covars = \"Time\")"
   ]
  },
  {
   "cell_type": "code",
   "execution_count": 20,
   "metadata": {},
   "outputs": [
    {
     "data": {
      "text/html": [
       "<table>\n",
       "<thead><tr><th></th><th scope=col>Feature</th><th scope=col>baseMean</th><th scope=col>log2FoldChange</th><th scope=col>lfcSE</th><th scope=col>stat</th><th scope=col>pval</th><th scope=col>ordering</th><th scope=col>pval.adj</th><th scope=col>Method</th><th scope=col>Kingdom</th><th scope=col>Phylum</th><th scope=col>Class</th><th scope=col>Order</th><th scope=col>Family</th><th scope=col>Genus</th><th scope=col>asv_hash</th></tr></thead>\n",
       "<tbody>\n",
       "\t<tr><th scope=row>16</th><td>ASV_1122                                                                   </td><td><span style=white-space:pre-wrap>  203.280943</span>                       </td><td>-28.680812                                                                 </td><td>2.8794762                                                                  </td><td>-9.960427                                                                  </td><td>2.270855e-23                                                               </td><td>Normal&gt;Sectio                                                           </td><td>3.065655e-21                                                               </td><td>DESeq2 man. geoMeans (ds2)                                                 </td><td>Bacteria                                                                   </td><td><span style=white-space:pre-wrap>Firmicutes        </span>                 </td><td><span style=white-space:pre-wrap>Clostridia         </span>                </td><td><span style=white-space:pre-wrap>Clostridiales        </span>              </td><td><span style=white-space:pre-wrap>Ruminococcaceae             </span>       </td><td><span style=white-space:pre-wrap>Flavonifractor                     </span></td><td>NA                                                                         </td></tr>\n",
       "\t<tr><th scope=row>34</th><td>ASV_128                                                                    </td><td><span style=white-space:pre-wrap>   11.460960</span>                       </td><td>-24.826505                                                                 </td><td>2.5490796                                                                  </td><td>-9.739399                                                                  </td><td>2.047610e-22                                                               </td><td>Normal&gt;Sectio                                                           </td><td>1.382136e-20                                                               </td><td>DESeq2 man. geoMeans (ds2)                                                 </td><td>Bacteria                                                                   </td><td><span style=white-space:pre-wrap>Bacteroidetes     </span>                 </td><td><span style=white-space:pre-wrap>Bacteroidia        </span>                </td><td><span style=white-space:pre-wrap>Bacteroidales        </span>              </td><td><span style=white-space:pre-wrap>Marinifilaceae              </span>       </td><td><span style=white-space:pre-wrap>Odoribacter                        </span></td><td>NA                                                                         </td></tr>\n",
       "\t<tr><th scope=row>41</th><td>ASV_1329                                                                   </td><td><span style=white-space:pre-wrap>  109.172907</span>                       </td><td> -3.915805                                                                 </td><td>1.2332714                                                                  </td><td>-3.175136                                                                  </td><td>1.497662e-03                                                               </td><td>Normal&gt;Sectio                                                           </td><td>1.444174e-02                                                               </td><td>DESeq2 man. geoMeans (ds2)                                                 </td><td>Bacteria                                                                   </td><td><span style=white-space:pre-wrap>Firmicutes        </span>                 </td><td><span style=white-space:pre-wrap>Clostridia         </span>                </td><td><span style=white-space:pre-wrap>Clostridiales        </span>              </td><td><span style=white-space:pre-wrap>Lachnospiraceae             </span>       </td><td><span style=white-space:pre-wrap>Roseburia                          </span></td><td>NA                                                                         </td></tr>\n",
       "\t<tr><th scope=row>44</th><td>ASV_1373                                                                   </td><td><span style=white-space:pre-wrap>   53.428061</span>                       </td><td> -6.907350                                                                 </td><td>1.8051738                                                                  </td><td>-3.826419                                                                  </td><td>1.300212e-04                                                               </td><td>Normal&gt;Sectio                                                           </td><td>1.595714e-03                                                               </td><td>DESeq2 man. geoMeans (ds2)                                                 </td><td>Bacteria                                                                   </td><td><span style=white-space:pre-wrap>Firmicutes        </span>                 </td><td><span style=white-space:pre-wrap>Clostridia         </span>                </td><td><span style=white-space:pre-wrap>Clostridiales        </span>              </td><td><span style=white-space:pre-wrap>Lachnospiraceae             </span>       </td><td><span style=white-space:pre-wrap>Lachnospiraceae_NK4A136            </span></td><td>NA                                                                         </td></tr>\n",
       "\t<tr><th scope=row>50</th><td>ASV_143                                                                    </td><td><span style=white-space:pre-wrap>    6.255158</span>                       </td><td>-23.898353                                                                 </td><td>2.6680288                                                                  </td><td>-8.957307                                                                  </td><td>3.327051e-19                                                               </td><td>Normal&gt;Sectio                                                           </td><td>8.983038e-18                                                               </td><td>DESeq2 man. geoMeans (ds2)                                                 </td><td>Bacteria                                                                   </td><td><span style=white-space:pre-wrap>Bacteroidetes     </span>                 </td><td><span style=white-space:pre-wrap>Bacteroidia        </span>                </td><td><span style=white-space:pre-wrap>Bacteroidales        </span>              </td><td><span style=white-space:pre-wrap>Barnesiellaceae             </span>       </td><td><span style=white-space:pre-wrap>Coprobacter                        </span></td><td>NA                                                                         </td></tr>\n",
       "\t<tr><th scope=row>52</th><td>ASV_166                                                      </td><td><span style=white-space:pre-wrap>   12.281076</span>         </td><td> 11.524047                                                   </td><td>2.1528942                                                    </td><td> 5.352816                                                    </td><td>8.659576e-08                                                 </td><td>Sectio&gt;Normal                                             </td><td>1.670061e-06                                                 </td><td>DESeq2 man. geoMeans (ds2)                                   </td><td>Bacteria                                                     </td><td><span style=white-space:pre-wrap>Bacteroidetes     </span>   </td><td><span style=white-space:pre-wrap>Bacteroidia        </span>  </td><td><span style=white-space:pre-wrap>Sphingobacteriales   </span></td><td>Sphingobacteriales_S15A_MN91                                 </td><td>Family_Sphingobacteriales_S15A_MN91                          </td><td>NA                                                           </td></tr>\n",
       "\t<tr><th scope=row>53</th><td><span style=white-space:pre-wrap>ASV_20  </span>                           </td><td><span style=white-space:pre-wrap>   19.976497</span>                       </td><td><span style=white-space:pre-wrap>  9.413117</span>                         </td><td>2.4751419                                                                  </td><td> 3.803061                                                                  </td><td>1.429190e-04                                                               </td><td>Sectio&gt;Normal                                                           </td><td>1.607838e-03                                                               </td><td>DESeq2 man. geoMeans (ds2)                                                 </td><td>Bacteria                                                                   </td><td><span style=white-space:pre-wrap>Spirochaetes      </span>                 </td><td><span style=white-space:pre-wrap>Spirochaetia       </span>                </td><td><span style=white-space:pre-wrap>Brevinematales       </span>              </td><td><span style=white-space:pre-wrap>Brevinemataceae             </span>       </td><td><span style=white-space:pre-wrap>Brevinema                          </span></td><td>NA                                                                         </td></tr>\n",
       "\t<tr><th scope=row>56</th><td><span style=white-space:pre-wrap>ASV_24  </span>                           </td><td><span style=white-space:pre-wrap>   64.321166</span>                       </td><td><span style=white-space:pre-wrap>  8.867509</span>                         </td><td>2.2816752                                                                  </td><td> 3.886403                                                                  </td><td>1.017407e-04                                                               </td><td>Sectio&gt;Normal                                                           </td><td>1.595714e-03                                                               </td><td>DESeq2 man. geoMeans (ds2)                                                 </td><td>Bacteria                                                                   </td><td>Epsilonbacteraeota                                                         </td><td><span style=white-space:pre-wrap>Campylobacteria    </span>                </td><td><span style=white-space:pre-wrap>Campylobacterales    </span>              </td><td><span style=white-space:pre-wrap>Campylobacteraceae          </span>       </td><td><span style=white-space:pre-wrap>Campylobacter                      </span></td><td>NA                                                                         </td></tr>\n",
       "\t<tr><th scope=row>73</th><td>ASV_436                                                                    </td><td><span style=white-space:pre-wrap>    7.378522</span>                       </td><td>-24.329688                                                                 </td><td>2.5340912                                                                  </td><td>-9.600952                                                                  </td><td>7.920944e-22                                                               </td><td>Normal&gt;Sectio                                                           </td><td>2.673319e-20                                                               </td><td>DESeq2 man. geoMeans (ds2)                                                 </td><td>Bacteria                                                                   </td><td><span style=white-space:pre-wrap>Proteobacteria    </span>                 </td><td>Alphaproteobacteria                                                        </td><td><span style=white-space:pre-wrap>Rhodospirillales     </span>              </td><td><span style=white-space:pre-wrap>Order_Rhodospirillales      </span>       </td><td><span style=white-space:pre-wrap>Order_Rhodospirillales             </span></td><td>NA                                                                         </td></tr>\n",
       "\t<tr><th scope=row>81</th><td>ASV_507                                                                    </td><td><span style=white-space:pre-wrap>  406.927588</span>                       </td><td> -4.174412                                                                 </td><td>1.0896373                                                                  </td><td>-3.831010                                                                  </td><td>1.276181e-04                                                               </td><td>Normal&gt;Sectio                                                           </td><td>1.595714e-03                                                               </td><td>DESeq2 man. geoMeans (ds2)                                                 </td><td>Bacteria                                                                   </td><td><span style=white-space:pre-wrap>Acidobacteria     </span>                 </td><td><span style=white-space:pre-wrap>Acidobacteriia     </span>                </td><td><span style=white-space:pre-wrap>Solibacterales       </span>              </td><td><span style=white-space:pre-wrap>Solibacteraceae_subgrp_3    </span>       </td><td><span style=white-space:pre-wrap>Ca_Solibacter                      </span></td><td>NA                                                                         </td></tr>\n",
       "\t<tr><th scope=row>86</th><td><span style=white-space:pre-wrap>ASV_53  </span>                           </td><td><span style=white-space:pre-wrap>  288.689956</span>                       </td><td><span style=white-space:pre-wrap>  4.534981</span>                         </td><td>1.1752501                                                                  </td><td> 3.858737                                                                  </td><td>1.139744e-04                                                               </td><td>Sectio&gt;Normal                                                           </td><td>1.595714e-03                                                               </td><td>DESeq2 man. geoMeans (ds2)                                                 </td><td>Bacteria                                                                   </td><td><span style=white-space:pre-wrap>Proteobacteria    </span>                 </td><td>Gammaproteobacteria                                                        </td><td>Betaproteobacteriales                                                      </td><td><span style=white-space:pre-wrap>Burkholderiaceae            </span>       </td><td><span style=white-space:pre-wrap>Sutterella                         </span></td><td>NA                                                                         </td></tr>\n",
       "\t<tr><th scope=row>102</th><td>ASV_672                                                                    </td><td><span style=white-space:pre-wrap>   16.188594</span>                       </td><td>-25.168806                                                                 </td><td>2.6157511                                                                  </td><td>-9.622019                                                                  </td><td>6.455173e-22                                                               </td><td>Normal&gt;Sectio                                                           </td><td>2.673319e-20                                                               </td><td>DESeq2 man. geoMeans (ds2)                                                 </td><td>Bacteria                                                                   </td><td><span style=white-space:pre-wrap>Actinobacteria    </span>                 </td><td><span style=white-space:pre-wrap>Coriobacteriia     </span>                </td><td><span style=white-space:pre-wrap>Coriobacteriales     </span>              </td><td><span style=white-space:pre-wrap>Atopobiaceae                </span>       </td><td><span style=white-space:pre-wrap>Atopobium                          </span></td><td>NA                                                                         </td></tr>\n",
       "\t<tr><th scope=row>103</th><td>ASV_678                                                                    </td><td><span style=white-space:pre-wrap>   11.240197</span>                       </td><td> -6.692233                                                                 </td><td>2.4631138                                                                  </td><td>-2.716981                                                                  </td><td>6.588044e-03                                                               </td><td>Normal&gt;Sectio                                                           </td><td>4.941033e-02                                                               </td><td>DESeq2 man. geoMeans (ds2)                                                 </td><td>Bacteria                                                                   </td><td><span style=white-space:pre-wrap>Actinobacteria    </span>                 </td><td><span style=white-space:pre-wrap>Coriobacteriia     </span>                </td><td><span style=white-space:pre-wrap>Coriobacteriales     </span>              </td><td><span style=white-space:pre-wrap>Coriobacteriaceae           </span>       </td><td><span style=white-space:pre-wrap>Collinsella                        </span></td><td>NA                                                                         </td></tr>\n",
       "\t<tr><th scope=row>104</th><td>ASV_684                                                                    </td><td><span style=white-space:pre-wrap>   15.209696</span>                       </td><td>-25.070382                                                                 </td><td>3.0112944                                                                  </td><td>-8.325451                                                                  </td><td>8.400857e-17                                                               </td><td>Normal&gt;Sectio                                                           </td><td>1.890193e-15                                                               </td><td>DESeq2 man. geoMeans (ds2)                                                 </td><td>Bacteria                                                                   </td><td><span style=white-space:pre-wrap>Actinobacteria    </span>                 </td><td><span style=white-space:pre-wrap>Coriobacteriia     </span>                </td><td><span style=white-space:pre-wrap>Coriobacteriales     </span>              </td><td><span style=white-space:pre-wrap>Eggerthellaceae             </span>       </td><td><span style=white-space:pre-wrap>Slackia                            </span></td><td>NA                                                                         </td></tr>\n",
       "\t<tr><th scope=row>109</th><td>ASV_719                                                                    </td><td><span style=white-space:pre-wrap>  159.864788</span>                       </td><td> -3.343525                                                                 </td><td>1.1000693                                                                  </td><td>-3.039377                                                                  </td><td>2.370682e-03                                                               </td><td>Normal&gt;Sectio                                                           </td><td>2.000263e-02                                                               </td><td>DESeq2 man. geoMeans (ds2)                                                 </td><td>Bacteria                                                                   </td><td><span style=white-space:pre-wrap>Actinobacteria    </span>                 </td><td><span style=white-space:pre-wrap>Actinobacteria     </span>                </td><td><span style=white-space:pre-wrap>Actinomycetales      </span>              </td><td><span style=white-space:pre-wrap>Actinomycetaceae            </span>       </td><td><span style=white-space:pre-wrap>Actinomyces                        </span></td><td>NA                                                                         </td></tr>\n",
       "\t<tr><th scope=row>121</th><td>ASV_850                                                                    </td><td> 2071.301309                                                               </td><td><span style=white-space:pre-wrap>  2.242941</span>                         </td><td>0.7368953                                                                  </td><td> 3.043771                                                                  </td><td>2.336327e-03                                                               </td><td>Sectio&gt;Normal                                                           </td><td>2.000263e-02                                                               </td><td>DESeq2 man. geoMeans (ds2)                                                 </td><td>Bacteria                                                                   </td><td><span style=white-space:pre-wrap>Firmicutes        </span>                 </td><td><span style=white-space:pre-wrap>Clostridia         </span>                </td><td><span style=white-space:pre-wrap>Clostridiales        </span>              </td><td><span style=white-space:pre-wrap>Clostridiaceae_1            </span>       </td><td><span style=white-space:pre-wrap>Clostridium_ss_1                   </span></td><td>NA                                                                         </td></tr>\n",
       "\t<tr><th scope=row>132</th><td>ASV_974                                                                    </td><td><span style=white-space:pre-wrap>    7.906359</span>                       </td><td> -6.804497                                                                 </td><td>2.0613183                                                                  </td><td>-3.301041                                                                  </td><td>9.632667e-04                                                               </td><td>Normal&gt;Sectio                                                           </td><td>1.000315e-02                                                               </td><td>DESeq2 man. geoMeans (ds2)                                                 </td><td>Bacteria                                                                   </td><td><span style=white-space:pre-wrap>Firmicutes        </span>                 </td><td><span style=white-space:pre-wrap>Clostridia         </span>                </td><td><span style=white-space:pre-wrap>Clostridiales        </span>              </td><td><span style=white-space:pre-wrap>Lachnospiraceae             </span>       </td><td><span style=white-space:pre-wrap>Eisenbergiella                     </span></td><td>NA                                                                         </td></tr>\n",
       "\t<tr><th scope=row>135</th><td><span style=white-space:pre-wrap>Others  </span>                           </td><td>12524.149120                                                               </td><td> -1.063715                                                                 </td><td>0.3622885                                                                  </td><td>-2.936098                                                                  </td><td>3.323691e-03                                                               </td><td>Normal&gt;Sectio                                                           </td><td>2.639402e-02                                                               </td><td>DESeq2 man. geoMeans (ds2)                                                 </td><td><span style=white-space:pre-wrap>NA      </span>                           </td><td><span style=white-space:pre-wrap>NA                </span>                 </td><td><span style=white-space:pre-wrap>NA                 </span>                </td><td><span style=white-space:pre-wrap>NA                   </span>              </td><td><span style=white-space:pre-wrap>NA                          </span>       </td><td><span style=white-space:pre-wrap>NA                                 </span></td><td>NA                                                                         </td></tr>\n",
       "</tbody>\n",
       "</table>\n"
      ],
      "text/latex": [
       "\\begin{tabular}{r|llllllllllllllll}\n",
       "  & Feature & baseMean & log2FoldChange & lfcSE & stat & pval & ordering & pval.adj & Method & Kingdom & Phylum & Class & Order & Family & Genus & asv\\_hash\\\\\n",
       "\\hline\n",
       "\t16 & ASV\\_1122                          &   203.280943                        & -28.680812                          & 2.8794762                           & -9.960427                           & 2.270855e-23                        & Normal>Sectio                       & 3.065655e-21                        & DESeq2 man. geoMeans (ds2)          & Bacteria                            & Firmicutes                          & Clostridia                          & Clostridiales                       & Ruminococcaceae                     & Flavonifractor                      & NA                                 \\\\\n",
       "\t34 & ASV\\_128                           &    11.460960                        & -24.826505                          & 2.5490796                           & -9.739399                           & 2.047610e-22                        & Normal>Sectio                       & 1.382136e-20                        & DESeq2 man. geoMeans (ds2)          & Bacteria                            & Bacteroidetes                       & Bacteroidia                         & Bacteroidales                       & Marinifilaceae                      & Odoribacter                         & NA                                 \\\\\n",
       "\t41 & ASV\\_1329                          &   109.172907                        &  -3.915805                          & 1.2332714                           & -3.175136                           & 1.497662e-03                        & Normal>Sectio                       & 1.444174e-02                        & DESeq2 man. geoMeans (ds2)          & Bacteria                            & Firmicutes                          & Clostridia                          & Clostridiales                       & Lachnospiraceae                     & Roseburia                           & NA                                 \\\\\n",
       "\t44 & ASV\\_1373                            &    53.428061                          &  -6.907350                            & 1.8051738                             & -3.826419                             & 1.300212e-04                          & Normal>Sectio                         & 1.595714e-03                          & DESeq2 man. geoMeans (ds2)            & Bacteria                              & Firmicutes                            & Clostridia                            & Clostridiales                         & Lachnospiraceae                       & Lachnospiraceae\\_NK4A136             & NA                                   \\\\\n",
       "\t50 & ASV\\_143                           &     6.255158                        & -23.898353                          & 2.6680288                           & -8.957307                           & 3.327051e-19                        & Normal>Sectio                       & 8.983038e-18                        & DESeq2 man. geoMeans (ds2)          & Bacteria                            & Bacteroidetes                       & Bacteroidia                         & Bacteroidales                       & Barnesiellaceae                     & Coprobacter                         & NA                                 \\\\\n",
       "\t52 & ASV\\_166                                 &    12.281076                              &  11.524047                                & 2.1528942                                 &  5.352816                                 & 8.659576e-08                              & Sectio>Normal                             & 1.670061e-06                              & DESeq2 man. geoMeans (ds2)                & Bacteria                                  & Bacteroidetes                             & Bacteroidia                               & Sphingobacteriales                        & Sphingobacteriales\\_S15A\\_MN91          & Family\\_Sphingobacteriales\\_S15A\\_MN91 & NA                                       \\\\\n",
       "\t53 & ASV\\_20                            &    19.976497                        &   9.413117                          & 2.4751419                           &  3.803061                           & 1.429190e-04                        & Sectio>Normal                       & 1.607838e-03                        & DESeq2 man. geoMeans (ds2)          & Bacteria                            & Spirochaetes                        & Spirochaetia                        & Brevinematales                      & Brevinemataceae                     & Brevinema                           & NA                                 \\\\\n",
       "\t56 & ASV\\_24                            &    64.321166                        &   8.867509                          & 2.2816752                           &  3.886403                           & 1.017407e-04                        & Sectio>Normal                       & 1.595714e-03                        & DESeq2 man. geoMeans (ds2)          & Bacteria                            & Epsilonbacteraeota                  & Campylobacteria                     & Campylobacterales                   & Campylobacteraceae                  & Campylobacter                       & NA                                 \\\\\n",
       "\t73 & ASV\\_436                             &     7.378522                          & -24.329688                            & 2.5340912                             & -9.600952                             & 7.920944e-22                          & Normal>Sectio                         & 2.673319e-20                          & DESeq2 man. geoMeans (ds2)            & Bacteria                              & Proteobacteria                        & Alphaproteobacteria                   & Rhodospirillales                      & Order\\_Rhodospirillales              & Order\\_Rhodospirillales              & NA                                   \\\\\n",
       "\t81 & ASV\\_507                             &   406.927588                          &  -4.174412                            & 1.0896373                             & -3.831010                             & 1.276181e-04                          & Normal>Sectio                         & 1.595714e-03                          & DESeq2 man. geoMeans (ds2)            & Bacteria                              & Acidobacteria                         & Acidobacteriia                        & Solibacterales                        & Solibacteraceae\\_subgrp\\_3          & Ca\\_Solibacter                       & NA                                   \\\\\n",
       "\t86 & ASV\\_53                            &   288.689956                        &   4.534981                          & 1.1752501                           &  3.858737                           & 1.139744e-04                        & Sectio>Normal                       & 1.595714e-03                        & DESeq2 man. geoMeans (ds2)          & Bacteria                            & Proteobacteria                      & Gammaproteobacteria                 & Betaproteobacteriales               & Burkholderiaceae                    & Sutterella                          & NA                                 \\\\\n",
       "\t102 & ASV\\_672                           &    16.188594                        & -25.168806                          & 2.6157511                           & -9.622019                           & 6.455173e-22                        & Normal>Sectio                       & 2.673319e-20                        & DESeq2 man. geoMeans (ds2)          & Bacteria                            & Actinobacteria                      & Coriobacteriia                      & Coriobacteriales                    & Atopobiaceae                        & Atopobium                           & NA                                 \\\\\n",
       "\t103 & ASV\\_678                           &    11.240197                        &  -6.692233                          & 2.4631138                           & -2.716981                           & 6.588044e-03                        & Normal>Sectio                       & 4.941033e-02                        & DESeq2 man. geoMeans (ds2)          & Bacteria                            & Actinobacteria                      & Coriobacteriia                      & Coriobacteriales                    & Coriobacteriaceae                   & Collinsella                         & NA                                 \\\\\n",
       "\t104 & ASV\\_684                           &    15.209696                        & -25.070382                          & 3.0112944                           & -8.325451                           & 8.400857e-17                        & Normal>Sectio                       & 1.890193e-15                        & DESeq2 man. geoMeans (ds2)          & Bacteria                            & Actinobacteria                      & Coriobacteriia                      & Coriobacteriales                    & Eggerthellaceae                     & Slackia                             & NA                                 \\\\\n",
       "\t109 & ASV\\_719                           &   159.864788                        &  -3.343525                          & 1.1000693                           & -3.039377                           & 2.370682e-03                        & Normal>Sectio                       & 2.000263e-02                        & DESeq2 man. geoMeans (ds2)          & Bacteria                            & Actinobacteria                      & Actinobacteria                      & Actinomycetales                     & Actinomycetaceae                    & Actinomyces                         & NA                                 \\\\\n",
       "\t121 & ASV\\_850                               &  2071.301309                            &   2.242941                              & 0.7368953                               &  3.043771                               & 2.336327e-03                            & Sectio>Normal                           & 2.000263e-02                            & DESeq2 man. geoMeans (ds2)              & Bacteria                                & Firmicutes                              & Clostridia                              & Clostridiales                           & Clostridiaceae\\_1                      & Clostridium\\_ss\\_1                    & NA                                     \\\\\n",
       "\t132 & ASV\\_974                           &     7.906359                        &  -6.804497                          & 2.0613183                           & -3.301041                           & 9.632667e-04                        & Normal>Sectio                       & 1.000315e-02                        & DESeq2 man. geoMeans (ds2)          & Bacteria                            & Firmicutes                          & Clostridia                          & Clostridiales                       & Lachnospiraceae                     & Eisenbergiella                      & NA                                 \\\\\n",
       "\t135 & Others                              & 12524.149120                        &  -1.063715                          & 0.3622885                           & -2.936098                           & 3.323691e-03                        & Normal>Sectio                       & 2.639402e-02                        & DESeq2 man. geoMeans (ds2)          & NA                                  & NA                                  & NA                                  & NA                                  & NA                                  & NA                                  & NA                                 \\\\\n",
       "\\end{tabular}\n"
      ],
      "text/markdown": [
       "\n",
       "| <!--/--> | Feature | baseMean | log2FoldChange | lfcSE | stat | pval | ordering | pval.adj | Method | Kingdom | Phylum | Class | Order | Family | Genus | asv_hash |\n",
       "|---|---|---|---|---|---|---|---|---|---|---|---|---|---|---|---|---|\n",
       "| 16 | ASV_1122                            |   203.280943                        | -28.680812                          | 2.8794762                           | -9.960427                           | 2.270855e-23                        | Normal>Sectio                       | 3.065655e-21                        | DESeq2 man. geoMeans (ds2)          | Bacteria                            | Firmicutes                          | Clostridia                          | Clostridiales                       | Ruminococcaceae                     | Flavonifractor                      | NA                                  |\n",
       "| 34 | ASV_128                             |    11.460960                        | -24.826505                          | 2.5490796                           | -9.739399                           | 2.047610e-22                        | Normal>Sectio                       | 1.382136e-20                        | DESeq2 man. geoMeans (ds2)          | Bacteria                            | Bacteroidetes                       | Bacteroidia                         | Bacteroidales                       | Marinifilaceae                      | Odoribacter                         | NA                                  |\n",
       "| 41 | ASV_1329                            |   109.172907                        |  -3.915805                          | 1.2332714                           | -3.175136                           | 1.497662e-03                        | Normal>Sectio                       | 1.444174e-02                        | DESeq2 man. geoMeans (ds2)          | Bacteria                            | Firmicutes                          | Clostridia                          | Clostridiales                       | Lachnospiraceae                     | Roseburia                           | NA                                  |\n",
       "| 44 | ASV_1373                            |    53.428061                        |  -6.907350                          | 1.8051738                           | -3.826419                           | 1.300212e-04                        | Normal>Sectio                       | 1.595714e-03                        | DESeq2 man. geoMeans (ds2)          | Bacteria                            | Firmicutes                          | Clostridia                          | Clostridiales                       | Lachnospiraceae                     | Lachnospiraceae_NK4A136             | NA                                  |\n",
       "| 50 | ASV_143                             |     6.255158                        | -23.898353                          | 2.6680288                           | -8.957307                           | 3.327051e-19                        | Normal>Sectio                       | 8.983038e-18                        | DESeq2 man. geoMeans (ds2)          | Bacteria                            | Bacteroidetes                       | Bacteroidia                         | Bacteroidales                       | Barnesiellaceae                     | Coprobacter                         | NA                                  |\n",
       "| 52 | ASV_166                             |    12.281076                        |  11.524047                          | 2.1528942                           |  5.352816                           | 8.659576e-08                        | Sectio>Normal                       | 1.670061e-06                        | DESeq2 man. geoMeans (ds2)          | Bacteria                            | Bacteroidetes                       | Bacteroidia                         | Sphingobacteriales                  | Sphingobacteriales_S15A_MN91        | Family_Sphingobacteriales_S15A_MN91 | NA                                  |\n",
       "| 53 | ASV_20                              |    19.976497                        |   9.413117                          | 2.4751419                           |  3.803061                           | 1.429190e-04                        | Sectio>Normal                       | 1.607838e-03                        | DESeq2 man. geoMeans (ds2)          | Bacteria                            | Spirochaetes                        | Spirochaetia                        | Brevinematales                      | Brevinemataceae                     | Brevinema                           | NA                                  |\n",
       "| 56 | ASV_24                              |    64.321166                        |   8.867509                          | 2.2816752                           |  3.886403                           | 1.017407e-04                        | Sectio>Normal                       | 1.595714e-03                        | DESeq2 man. geoMeans (ds2)          | Bacteria                            | Epsilonbacteraeota                  | Campylobacteria                     | Campylobacterales                   | Campylobacteraceae                  | Campylobacter                       | NA                                  |\n",
       "| 73 | ASV_436                             |     7.378522                        | -24.329688                          | 2.5340912                           | -9.600952                           | 7.920944e-22                        | Normal>Sectio                       | 2.673319e-20                        | DESeq2 man. geoMeans (ds2)          | Bacteria                            | Proteobacteria                      | Alphaproteobacteria                 | Rhodospirillales                    | Order_Rhodospirillales              | Order_Rhodospirillales              | NA                                  |\n",
       "| 81 | ASV_507                             |   406.927588                        |  -4.174412                          | 1.0896373                           | -3.831010                           | 1.276181e-04                        | Normal>Sectio                       | 1.595714e-03                        | DESeq2 man. geoMeans (ds2)          | Bacteria                            | Acidobacteria                       | Acidobacteriia                      | Solibacterales                      | Solibacteraceae_subgrp_3            | Ca_Solibacter                       | NA                                  |\n",
       "| 86 | ASV_53                              |   288.689956                        |   4.534981                          | 1.1752501                           |  3.858737                           | 1.139744e-04                        | Sectio>Normal                       | 1.595714e-03                        | DESeq2 man. geoMeans (ds2)          | Bacteria                            | Proteobacteria                      | Gammaproteobacteria                 | Betaproteobacteriales               | Burkholderiaceae                    | Sutterella                          | NA                                  |\n",
       "| 102 | ASV_672                             |    16.188594                        | -25.168806                          | 2.6157511                           | -9.622019                           | 6.455173e-22                        | Normal>Sectio                       | 2.673319e-20                        | DESeq2 man. geoMeans (ds2)          | Bacteria                            | Actinobacteria                      | Coriobacteriia                      | Coriobacteriales                    | Atopobiaceae                        | Atopobium                           | NA                                  |\n",
       "| 103 | ASV_678                             |    11.240197                        |  -6.692233                          | 2.4631138                           | -2.716981                           | 6.588044e-03                        | Normal>Sectio                       | 4.941033e-02                        | DESeq2 man. geoMeans (ds2)          | Bacteria                            | Actinobacteria                      | Coriobacteriia                      | Coriobacteriales                    | Coriobacteriaceae                   | Collinsella                         | NA                                  |\n",
       "| 104 | ASV_684                             |    15.209696                        | -25.070382                          | 3.0112944                           | -8.325451                           | 8.400857e-17                        | Normal>Sectio                       | 1.890193e-15                        | DESeq2 man. geoMeans (ds2)          | Bacteria                            | Actinobacteria                      | Coriobacteriia                      | Coriobacteriales                    | Eggerthellaceae                     | Slackia                             | NA                                  |\n",
       "| 109 | ASV_719                             |   159.864788                        |  -3.343525                          | 1.1000693                           | -3.039377                           | 2.370682e-03                        | Normal>Sectio                       | 2.000263e-02                        | DESeq2 man. geoMeans (ds2)          | Bacteria                            | Actinobacteria                      | Actinobacteria                      | Actinomycetales                     | Actinomycetaceae                    | Actinomyces                         | NA                                  |\n",
       "| 121 | ASV_850                             |  2071.301309                        |   2.242941                          | 0.7368953                           |  3.043771                           | 2.336327e-03                        | Sectio>Normal                       | 2.000263e-02                        | DESeq2 man. geoMeans (ds2)          | Bacteria                            | Firmicutes                          | Clostridia                          | Clostridiales                       | Clostridiaceae_1                    | Clostridium_ss_1                    | NA                                  |\n",
       "| 132 | ASV_974                             |     7.906359                        |  -6.804497                          | 2.0613183                           | -3.301041                           | 9.632667e-04                        | Normal>Sectio                       | 1.000315e-02                        | DESeq2 man. geoMeans (ds2)          | Bacteria                            | Firmicutes                          | Clostridia                          | Clostridiales                       | Lachnospiraceae                     | Eisenbergiella                      | NA                                  |\n",
       "| 135 | Others                              | 12524.149120                        |  -1.063715                          | 0.3622885                           | -2.936098                           | 3.323691e-03                        | Normal>Sectio                       | 2.639402e-02                        | DESeq2 man. geoMeans (ds2)          | NA                                  | NA                                  | NA                                  | NA                                  | NA                                  | NA                                  | NA                                  |\n",
       "\n"
      ],
      "text/plain": [
       "    Feature  baseMean     log2FoldChange lfcSE     stat      pval        \n",
       "16  ASV_1122   203.280943 -28.680812     2.8794762 -9.960427 2.270855e-23\n",
       "34  ASV_128     11.460960 -24.826505     2.5490796 -9.739399 2.047610e-22\n",
       "41  ASV_1329   109.172907  -3.915805     1.2332714 -3.175136 1.497662e-03\n",
       "44  ASV_1373    53.428061  -6.907350     1.8051738 -3.826419 1.300212e-04\n",
       "50  ASV_143      6.255158 -23.898353     2.6680288 -8.957307 3.327051e-19\n",
       "52  ASV_166     12.281076  11.524047     2.1528942  5.352816 8.659576e-08\n",
       "53  ASV_20      19.976497   9.413117     2.4751419  3.803061 1.429190e-04\n",
       "56  ASV_24      64.321166   8.867509     2.2816752  3.886403 1.017407e-04\n",
       "73  ASV_436      7.378522 -24.329688     2.5340912 -9.600952 7.920944e-22\n",
       "81  ASV_507    406.927588  -4.174412     1.0896373 -3.831010 1.276181e-04\n",
       "86  ASV_53     288.689956   4.534981     1.1752501  3.858737 1.139744e-04\n",
       "102 ASV_672     16.188594 -25.168806     2.6157511 -9.622019 6.455173e-22\n",
       "103 ASV_678     11.240197  -6.692233     2.4631138 -2.716981 6.588044e-03\n",
       "104 ASV_684     15.209696 -25.070382     3.0112944 -8.325451 8.400857e-17\n",
       "109 ASV_719    159.864788  -3.343525     1.1000693 -3.039377 2.370682e-03\n",
       "121 ASV_850   2071.301309   2.242941     0.7368953  3.043771 2.336327e-03\n",
       "132 ASV_974      7.906359  -6.804497     2.0613183 -3.301041 9.632667e-04\n",
       "135 Others   12524.149120  -1.063715     0.3622885 -2.936098 3.323691e-03\n",
       "    ordering      pval.adj     Method                     Kingdom \n",
       "16  Normal>Sectio 3.065655e-21 DESeq2 man. geoMeans (ds2) Bacteria\n",
       "34  Normal>Sectio 1.382136e-20 DESeq2 man. geoMeans (ds2) Bacteria\n",
       "41  Normal>Sectio 1.444174e-02 DESeq2 man. geoMeans (ds2) Bacteria\n",
       "44  Normal>Sectio 1.595714e-03 DESeq2 man. geoMeans (ds2) Bacteria\n",
       "50  Normal>Sectio 8.983038e-18 DESeq2 man. geoMeans (ds2) Bacteria\n",
       "52  Sectio>Normal 1.670061e-06 DESeq2 man. geoMeans (ds2) Bacteria\n",
       "53  Sectio>Normal 1.607838e-03 DESeq2 man. geoMeans (ds2) Bacteria\n",
       "56  Sectio>Normal 1.595714e-03 DESeq2 man. geoMeans (ds2) Bacteria\n",
       "73  Normal>Sectio 2.673319e-20 DESeq2 man. geoMeans (ds2) Bacteria\n",
       "81  Normal>Sectio 1.595714e-03 DESeq2 man. geoMeans (ds2) Bacteria\n",
       "86  Sectio>Normal 1.595714e-03 DESeq2 man. geoMeans (ds2) Bacteria\n",
       "102 Normal>Sectio 2.673319e-20 DESeq2 man. geoMeans (ds2) Bacteria\n",
       "103 Normal>Sectio 4.941033e-02 DESeq2 man. geoMeans (ds2) Bacteria\n",
       "104 Normal>Sectio 1.890193e-15 DESeq2 man. geoMeans (ds2) Bacteria\n",
       "109 Normal>Sectio 2.000263e-02 DESeq2 man. geoMeans (ds2) Bacteria\n",
       "121 Sectio>Normal 2.000263e-02 DESeq2 man. geoMeans (ds2) Bacteria\n",
       "132 Normal>Sectio 1.000315e-02 DESeq2 man. geoMeans (ds2) Bacteria\n",
       "135 Normal>Sectio 2.639402e-02 DESeq2 man. geoMeans (ds2) NA      \n",
       "    Phylum             Class               Order                \n",
       "16  Firmicutes         Clostridia          Clostridiales        \n",
       "34  Bacteroidetes      Bacteroidia         Bacteroidales        \n",
       "41  Firmicutes         Clostridia          Clostridiales        \n",
       "44  Firmicutes         Clostridia          Clostridiales        \n",
       "50  Bacteroidetes      Bacteroidia         Bacteroidales        \n",
       "52  Bacteroidetes      Bacteroidia         Sphingobacteriales   \n",
       "53  Spirochaetes       Spirochaetia        Brevinematales       \n",
       "56  Epsilonbacteraeota Campylobacteria     Campylobacterales    \n",
       "73  Proteobacteria     Alphaproteobacteria Rhodospirillales     \n",
       "81  Acidobacteria      Acidobacteriia      Solibacterales       \n",
       "86  Proteobacteria     Gammaproteobacteria Betaproteobacteriales\n",
       "102 Actinobacteria     Coriobacteriia      Coriobacteriales     \n",
       "103 Actinobacteria     Coriobacteriia      Coriobacteriales     \n",
       "104 Actinobacteria     Coriobacteriia      Coriobacteriales     \n",
       "109 Actinobacteria     Actinobacteria      Actinomycetales      \n",
       "121 Firmicutes         Clostridia          Clostridiales        \n",
       "132 Firmicutes         Clostridia          Clostridiales        \n",
       "135 NA                 NA                  NA                   \n",
       "    Family                       Genus                               asv_hash\n",
       "16  Ruminococcaceae              Flavonifractor                      NA      \n",
       "34  Marinifilaceae               Odoribacter                         NA      \n",
       "41  Lachnospiraceae              Roseburia                           NA      \n",
       "44  Lachnospiraceae              Lachnospiraceae_NK4A136             NA      \n",
       "50  Barnesiellaceae              Coprobacter                         NA      \n",
       "52  Sphingobacteriales_S15A_MN91 Family_Sphingobacteriales_S15A_MN91 NA      \n",
       "53  Brevinemataceae              Brevinema                           NA      \n",
       "56  Campylobacteraceae           Campylobacter                       NA      \n",
       "73  Order_Rhodospirillales       Order_Rhodospirillales              NA      \n",
       "81  Solibacteraceae_subgrp_3     Ca_Solibacter                       NA      \n",
       "86  Burkholderiaceae             Sutterella                          NA      \n",
       "102 Atopobiaceae                 Atopobium                           NA      \n",
       "103 Coriobacteriaceae            Collinsella                         NA      \n",
       "104 Eggerthellaceae              Slackia                             NA      \n",
       "109 Actinomycetaceae             Actinomyces                         NA      \n",
       "121 Clostridiaceae_1             Clostridium_ss_1                    NA      \n",
       "132 Lachnospiraceae              Eisenbergiella                      NA      \n",
       "135 NA                           NA                                  NA      "
      ]
     },
     "metadata": {},
     "output_type": "display_data"
    }
   ],
   "source": [
    "res_covar[res_covar$pval.adj <= 0.05, ]"
   ]
  },
  {
   "cell_type": "markdown",
   "metadata": {},
   "source": [
    "This does not tells at which time points the different genera are significantly associated with mode of delivery. For this, we would subset the data to the different time points, and conduct the analysis separately for each time point."
   ]
  },
  {
   "cell_type": "markdown",
   "metadata": {},
   "source": [
    "## Plotting<a class=\"anchor\" id=\"plot\"></a>\n",
    "A common way to plot results from a differential abundance analysis is the volcano plot. In a volcano plot we plot the p-value against the log2 fold change. One can then color according to for example taxonomy.\n",
    "\n",
    "To make the plot easier to read, we take the log10 of the p-value and reverse it, such that significant taxa have a high value.\n",
    "\n",
    "Let's plot the Delivery results from above:"
   ]
  },
  {
   "cell_type": "code",
   "execution_count": 29,
   "metadata": {},
   "outputs": [
    {
     "data": {
      "image/png": "[encoded data removed]",
      "text/plain": [
       "plot without title"
      ]
     },
     "metadata": {},
     "output_type": "display_data"
    }
   ],
   "source": [
    "# Plotting package\n",
    "library(ggplot2)\n",
    "\n",
    "# Define plot\n",
    "p <- ggplot(res_covar, aes(x = log2FoldChange, y = -log10(pval.adj))) +\n",
    "    theme_bw() +\n",
    "    geom_point()\n",
    "\n",
    "# View plot\n",
    "p"
   ]
  },
  {
   "cell_type": "markdown",
   "metadata": {},
   "source": [
    "We can add a line to discrimate between significant and non-significant. And we can color by Phylum"
   ]
  },
  {
   "cell_type": "code",
   "execution_count": 30,
   "metadata": {},
   "outputs": [
    {
     "data": {
      "image/png": "[encoded data removed]",
      "text/plain": [
       "plot without title"
      ]
     },
     "metadata": {},
     "output_type": "display_data"
    }
   ],
   "source": [
    "# Define plot\n",
    "p <- ggplot(res_covar, aes(x = log2FoldChange, y = -log10(pval.adj), color = Phylum)) +\n",
    "    theme_bw() +\n",
    "    geom_point() +\n",
    "    geom_hline(yintercept = -log10(0.05))\n",
    "\n",
    "# View plot\n",
    "p"
   ]
  },
  {
   "cell_type": "markdown",
   "metadata": {},
   "source": [
    "Annotate the significant ones:"
   ]
  },
  {
   "cell_type": "code",
   "execution_count": 35,
   "metadata": {},
   "outputs": [
    {
     "data": {
      "image/png": "[encoded data removed]",
      "text/plain": [
       "plot without title"
      ]
     },
     "metadata": {},
     "output_type": "display_data"
    }
   ],
   "source": [
    "# Annotation package (install first time)\n",
    "# install.packages(\"ggrepel\")\n",
    "library(ggrepel)\n",
    "\n",
    "# Subset only highly significant\n",
    "res_covar_sig <- res_covar[res_covar$pval.adj <= 0.01, ]\n",
    "\n",
    "# Define plot\n",
    "p <- ggplot(res_covar, aes(x = log2FoldChange, y = -log10(pval.adj), color = Phylum)) +\n",
    "    theme_bw() +\n",
    "    geom_point() +\n",
    "    geom_hline(yintercept = -log10(0.05)) +\n",
    "    geom_text_repel(data = res_covar_sig,\n",
    "                    aes(x = log2FoldChange, y = -log10(pval.adj), label = Genus),\n",
    "                    size = 3)\n",
    "\n",
    "# View plot\n",
    "p"
   ]
  }
 ],
 "metadata": {
  "kernelspec": {
   "display_name": "R",
   "language": "R",
   "name": "ir"
  },
  "language_info": {
   "codemirror_mode": "r",
   "file_extension": ".r",
   "mimetype": "text/x-r-source",
   "name": "R",
   "pygments_lexer": "r",
   "version": "3.6.3"
  }
 },
 "nbformat": 4,
 "nbformat_minor": 2
}
