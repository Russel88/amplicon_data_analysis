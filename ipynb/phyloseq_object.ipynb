{
 "cells": [
  {
   "cell_type": "markdown",
   "metadata": {},
   "source": [
    "# The phyloseq package"
   ]
  },
  {
   "cell_type": "markdown",
   "metadata": {},
   "source": [
    "Phyloseq is a package made for organizing and working with microbiome data in R. With the phyloseq package we can have all our microbiome amplicon sequence data in a single R object. With functions from the phyloseq package, most common operations for preparing data for analysis is possible with few simple commands.\n",
    "\n",
    "This document is an overview on how phyloseq objects are organized and how they can be accessed and changed.\n",
    "\n",
    "The paper presenting phyloseq:\n",
    "https://journals.plos.org/plosone/article?id=10.1371/journal.pone.0061217\n",
    "\n",
    "A comprehensive documetation of the phyloseq package:\n",
    "https://joey711.github.io/phyloseq/"
   ]
  },
  {
   "cell_type": "markdown",
   "metadata": {},
   "source": [
    "To work with phyloseq objects we first have to load the package"
   ]
  },
  {
   "cell_type": "code",
   "execution_count": 2,
   "metadata": {},
   "outputs": [],
   "source": [
    "library(phyloseq)"
   ]
  },
  {
   "cell_type": "markdown",
   "metadata": {},
   "source": [
    "# Contents\n",
    "* [The phyloseq object](#obj)\n",
    "* [OTU table](#otu)\n",
    "* [Sample data](#samp)\n",
    "* [Taxonomy table](#tax)\n",
    "* [Phylogenetic tree](#tree)\n",
    "* [Reference sequences](#seq)"
   ]
  },
  {
   "cell_type": "markdown",
   "metadata": {},
   "source": [
    "# The phyloseq object<a class=\"anchor\" id=\"obj\"></a>"
   ]
  },
  {
   "cell_type": "markdown",
   "metadata": {},
   "source": [
    "Let's load our test dataset, and see how phyloseq is organized. "
   ]
  },
  {
   "cell_type": "code",
   "execution_count": 3,
   "metadata": {},
   "outputs": [],
   "source": [
    "load(\"../data/physeq.RData\")"
   ]
  },
  {
   "cell_type": "markdown",
   "metadata": {},
   "source": [
    "If we print the name of the phyloseq object, we can see what it contains"
   ]
  },
  {
   "cell_type": "code",
   "execution_count": 4,
   "metadata": {},
   "outputs": [
    {
     "data": {
      "text/plain": [
       "phyloseq-class experiment-level object\n",
       "otu_table()   OTU Table:         [ 1417 taxa and 150 samples ]\n",
       "sample_data() Sample Data:       [ 150 samples by 3 sample variables ]\n",
       "tax_table()   Taxonomy Table:    [ 1417 taxa by 7 taxonomic ranks ]\n",
       "phy_tree()    Phylogenetic Tree: [ 1417 tips and 1414 internal nodes ]\n",
       "refseq()      DNAStringSet:      [ 1417 reference sequences ]"
      ]
     },
     "metadata": {},
     "output_type": "display_data"
    }
   ],
   "source": [
    "phy"
   ]
  },
  {
   "cell_type": "markdown",
   "metadata": {},
   "source": [
    "The *phy* object contains all our data and associated metadata. This is organized in 5 different sub-objects:\n",
    "* **otu_table:** Contains a matrix with the abundance of each taxa (ASV) for each sample\n",
    "* **sample_data:** Contains the metadata for each sample\n",
    "* **tax_table:** Contains the taxonomical annotation for each taxon (ASV)\n",
    "* **phy_tree:** Contains a phylogenetic tree\n",
    "* **refseq:** Contains sequences (16S rRNA gene sequence) for each taxon (ASV)\n",
    "\n",
    "*Note:* \"*phy*\" is an arbitrary name, it could be anything else\n",
    "\n",
    "Below is a section on each of the objects describing what they contain and how to access them."
   ]
  },
  {
   "cell_type": "markdown",
   "metadata": {},
   "source": [
    "## otu_table<a class=\"anchor\" id=\"otu\"></a>\n",
    "The otu_table contains the abundance of each OTU/ASV for each sample. We can see from above that it contains data for 1428 taxa and 150 samples. We can access it with the otu_table() function"
   ]
  },
  {
   "cell_type": "code",
   "execution_count": 5,
   "metadata": {},
   "outputs": [
    {
     "data": {
      "text/html": [
       "<table>\n",
       "<thead><tr><th></th><th scope=col>S_027</th><th scope=col>S_028</th><th scope=col>S_031</th><th scope=col>S_034</th><th scope=col>S_036</th><th scope=col>S_038</th><th scope=col>S_039</th><th scope=col>S_040</th><th scope=col>S_041</th><th scope=col>S_042</th><th scope=col>...</th><th scope=col>S_080</th><th scope=col>S_086</th><th scope=col>S_087</th><th scope=col>S_090</th><th scope=col>S_099</th><th scope=col>S_102</th><th scope=col>S_104</th><th scope=col>S_108</th><th scope=col>S_110</th><th scope=col>S_148</th></tr></thead>\n",
       "<tbody>\n",
       "\t<tr><th scope=row>ASV_1</th><td>0   </td><td>0   </td><td> 0  </td><td>0   </td><td> 0  </td><td>  0 </td><td> 3  </td><td>0   </td><td> 0  </td><td>0   </td><td>... </td><td>  0 </td><td>0   </td><td> 0  </td><td>  0 </td><td>   0</td><td>0   </td><td>0   </td><td>  0 </td><td> 0  </td><td>  0 </td></tr>\n",
       "\t<tr><th scope=row>ASV_2</th><td>0   </td><td>0   </td><td> 0  </td><td>0   </td><td> 0  </td><td>  0 </td><td> 0  </td><td>0   </td><td> 0  </td><td>0   </td><td>... </td><td>  0 </td><td>0   </td><td>19  </td><td>  0 </td><td>   0</td><td>0   </td><td>0   </td><td>  0 </td><td> 0  </td><td>  0 </td></tr>\n",
       "\t<tr><th scope=row>ASV_3</th><td>0   </td><td>0   </td><td> 0  </td><td>0   </td><td> 0  </td><td>  0 </td><td> 0  </td><td>0   </td><td> 0  </td><td>0   </td><td>... </td><td>  0 </td><td>0   </td><td> 0  </td><td>  0 </td><td>   0</td><td>0   </td><td>0   </td><td>  0 </td><td> 0  </td><td>  0 </td></tr>\n",
       "\t<tr><th scope=row>ASV_4</th><td>0   </td><td>0   </td><td> 0  </td><td>0   </td><td>30  </td><td>937 </td><td> 0  </td><td>0   </td><td> 0  </td><td>0   </td><td>... </td><td>  0 </td><td>0   </td><td> 0  </td><td>  0 </td><td>   0</td><td>0   </td><td>0   </td><td>  0 </td><td> 0  </td><td>  0 </td></tr>\n",
       "\t<tr><th scope=row>ASV_5</th><td>0   </td><td>0   </td><td> 0  </td><td>0   </td><td> 0  </td><td>  0 </td><td> 0  </td><td>0   </td><td> 0  </td><td>0   </td><td>... </td><td>  0 </td><td>0   </td><td> 0  </td><td>  0 </td><td>   0</td><td>0   </td><td>0   </td><td>  0 </td><td> 0  </td><td>  0 </td></tr>\n",
       "\t<tr><th scope=row>ASV_6</th><td>0   </td><td>0   </td><td> 0  </td><td>0   </td><td> 0  </td><td>  0 </td><td> 0  </td><td>0   </td><td> 0  </td><td>6   </td><td>... </td><td>  0 </td><td>0   </td><td> 0  </td><td>  0 </td><td>   0</td><td>0   </td><td>0   </td><td>  0 </td><td> 0  </td><td>  0 </td></tr>\n",
       "\t<tr><th scope=row>ASV_7</th><td>0   </td><td>0   </td><td> 0  </td><td>0   </td><td> 0  </td><td>  0 </td><td> 0  </td><td>0   </td><td> 0  </td><td>0   </td><td>... </td><td>  0 </td><td>0   </td><td> 0  </td><td>  0 </td><td>   0</td><td>0   </td><td>0   </td><td>  0 </td><td> 0  </td><td>  0 </td></tr>\n",
       "\t<tr><th scope=row>ASV_8</th><td>0   </td><td>0   </td><td> 0  </td><td>0   </td><td> 0  </td><td>  0 </td><td> 0  </td><td>0   </td><td> 0  </td><td>0   </td><td>... </td><td>  0 </td><td>0   </td><td> 0  </td><td>  0 </td><td>   0</td><td>0   </td><td>0   </td><td>  0 </td><td> 0  </td><td>  0 </td></tr>\n",
       "\t<tr><th scope=row>ASV_9</th><td>0   </td><td>0   </td><td> 0  </td><td>0   </td><td> 0  </td><td>  0 </td><td> 0  </td><td>0   </td><td> 0  </td><td>0   </td><td>... </td><td>  0 </td><td>0   </td><td> 0  </td><td>  0 </td><td>   7</td><td>0   </td><td>0   </td><td>  0 </td><td> 0  </td><td>  0 </td></tr>\n",
       "\t<tr><th scope=row>ASV_10</th><td>0   </td><td>0   </td><td> 0  </td><td>0   </td><td> 0  </td><td> 53 </td><td> 0  </td><td>0   </td><td>31  </td><td>0   </td><td>... </td><td>  0 </td><td>0   </td><td> 0  </td><td>  0 </td><td>   0</td><td>0   </td><td>0   </td><td>  0 </td><td> 0  </td><td>  0 </td></tr>\n",
       "\t<tr><th scope=row>ASV_11</th><td>0   </td><td>0   </td><td> 0  </td><td>0   </td><td> 0  </td><td>  0 </td><td> 0  </td><td>0   </td><td> 0  </td><td>0   </td><td>... </td><td>  0 </td><td>0   </td><td> 0  </td><td>  0 </td><td>   0</td><td>0   </td><td>0   </td><td>  0 </td><td> 0  </td><td>699 </td></tr>\n",
       "\t<tr><th scope=row>ASV_12</th><td>0   </td><td>0   </td><td> 0  </td><td>0   </td><td> 0  </td><td>  0 </td><td> 0  </td><td>0   </td><td> 0  </td><td>0   </td><td>... </td><td>  0 </td><td>0   </td><td> 0  </td><td>  0 </td><td>   0</td><td>0   </td><td>0   </td><td>  0 </td><td> 0  </td><td>  0 </td></tr>\n",
       "\t<tr><th scope=row>ASV_13</th><td>0   </td><td>0   </td><td> 0  </td><td>0   </td><td> 0  </td><td>  0 </td><td> 0  </td><td>0   </td><td> 0  </td><td>0   </td><td>... </td><td>  0 </td><td>0   </td><td> 0  </td><td>  0 </td><td>   0</td><td>0   </td><td>0   </td><td>  0 </td><td> 0  </td><td>  0 </td></tr>\n",
       "\t<tr><th scope=row>ASV_14</th><td>0   </td><td>0   </td><td>13  </td><td>0   </td><td> 0  </td><td>  0 </td><td> 0  </td><td>0   </td><td> 0  </td><td>0   </td><td>... </td><td>  0 </td><td>0   </td><td> 0  </td><td>  0 </td><td>   0</td><td>0   </td><td>0   </td><td>  0 </td><td> 0  </td><td>  0 </td></tr>\n",
       "\t<tr><th scope=row>ASV_15</th><td>0   </td><td>0   </td><td> 0  </td><td>0   </td><td> 0  </td><td>  0 </td><td> 0  </td><td>0   </td><td> 0  </td><td>0   </td><td>... </td><td>  0 </td><td>0   </td><td> 0  </td><td>  0 </td><td>   0</td><td>0   </td><td>0   </td><td>  0 </td><td> 0  </td><td>  0 </td></tr>\n",
       "\t<tr><th scope=row>ASV_16</th><td>0   </td><td>0   </td><td> 0  </td><td>0   </td><td>48  </td><td>  0 </td><td> 0  </td><td>0   </td><td> 0  </td><td>0   </td><td>... </td><td>  0 </td><td>0   </td><td> 0  </td><td>  0 </td><td>   0</td><td>0   </td><td>0   </td><td>  0 </td><td> 0  </td><td>  0 </td></tr>\n",
       "\t<tr><th scope=row>ASV_17</th><td>0   </td><td>0   </td><td> 0  </td><td>0   </td><td> 0  </td><td>  0 </td><td> 0  </td><td>0   </td><td> 0  </td><td>0   </td><td>... </td><td>  0 </td><td>0   </td><td> 0  </td><td>  0 </td><td>  25</td><td>0   </td><td>0   </td><td>  0 </td><td> 0  </td><td>  0 </td></tr>\n",
       "\t<tr><th scope=row>ASV_18</th><td>0   </td><td>0   </td><td> 0  </td><td>0   </td><td> 0  </td><td>  0 </td><td> 0  </td><td>0   </td><td> 0  </td><td>0   </td><td>... </td><td>688 </td><td>0   </td><td> 0  </td><td>  0 </td><td>   0</td><td>0   </td><td>0   </td><td>128 </td><td> 0  </td><td>  0 </td></tr>\n",
       "\t<tr><th scope=row>ASV_19</th><td>0   </td><td>0   </td><td> 0  </td><td>0   </td><td> 0  </td><td>  0 </td><td> 0  </td><td>0   </td><td> 0  </td><td>0   </td><td>... </td><td>  0 </td><td>0   </td><td>20  </td><td>  0 </td><td>   0</td><td>0   </td><td>0   </td><td>  0 </td><td> 0  </td><td>  0 </td></tr>\n",
       "\t<tr><th scope=row>ASV_20</th><td>0   </td><td>0   </td><td> 0  </td><td>0   </td><td> 0  </td><td>  0 </td><td> 0  </td><td>0   </td><td> 0  </td><td>0   </td><td>... </td><td>  0 </td><td>0   </td><td> 0  </td><td>  0 </td><td>   0</td><td>0   </td><td>0   </td><td>  0 </td><td> 0  </td><td>  0 </td></tr>\n",
       "\t<tr><th scope=row>ASV_21</th><td>0   </td><td>0   </td><td> 0  </td><td>0   </td><td> 0  </td><td>  0 </td><td> 0  </td><td>0   </td><td> 0  </td><td>0   </td><td>... </td><td>  0 </td><td>0   </td><td> 0  </td><td>  0 </td><td>   0</td><td>0   </td><td>0   </td><td>  0 </td><td> 0  </td><td>  0 </td></tr>\n",
       "\t<tr><th scope=row>ASV_22</th><td>0   </td><td>0   </td><td> 0  </td><td>0   </td><td> 0  </td><td>  0 </td><td> 0  </td><td>0   </td><td> 0  </td><td>0   </td><td>... </td><td>  0 </td><td>0   </td><td> 0  </td><td>  0 </td><td>   0</td><td>0   </td><td>0   </td><td>  0 </td><td> 0  </td><td>  0 </td></tr>\n",
       "\t<tr><th scope=row>ASV_23</th><td>0   </td><td>0   </td><td> 0  </td><td>0   </td><td> 0  </td><td>  0 </td><td>86  </td><td>0   </td><td> 0  </td><td>0   </td><td>... </td><td>  0 </td><td>0   </td><td> 0  </td><td>  0 </td><td>   0</td><td>0   </td><td>0   </td><td>  0 </td><td> 0  </td><td>  0 </td></tr>\n",
       "\t<tr><th scope=row>ASV_24</th><td>0   </td><td>0   </td><td> 0  </td><td>0   </td><td> 0  </td><td>  0 </td><td> 0  </td><td>0   </td><td> 0  </td><td>0   </td><td>... </td><td>  0 </td><td>0   </td><td> 0  </td><td>  0 </td><td>   0</td><td>0   </td><td>0   </td><td>  0 </td><td> 0  </td><td>  0 </td></tr>\n",
       "\t<tr><th scope=row>ASV_25</th><td>0   </td><td>0   </td><td> 0  </td><td>0   </td><td> 0  </td><td>  0 </td><td> 0  </td><td>0   </td><td> 0  </td><td>0   </td><td>... </td><td>  0 </td><td>0   </td><td> 0  </td><td>  0 </td><td>1197</td><td>0   </td><td>0   </td><td>  0 </td><td> 0  </td><td>  0 </td></tr>\n",
       "\t<tr><th scope=row>ASV_26</th><td>0   </td><td>0   </td><td> 0  </td><td>0   </td><td> 0  </td><td>  0 </td><td> 0  </td><td>0   </td><td> 0  </td><td>0   </td><td>... </td><td>  0 </td><td>0   </td><td> 0  </td><td>  0 </td><td>   0</td><td>0   </td><td>0   </td><td>  0 </td><td> 0  </td><td>  0 </td></tr>\n",
       "\t<tr><th scope=row>ASV_27</th><td>0   </td><td>0   </td><td> 0  </td><td>0   </td><td> 0  </td><td>  0 </td><td> 0  </td><td>0   </td><td> 0  </td><td>0   </td><td>... </td><td>  0 </td><td>0   </td><td> 0  </td><td>  0 </td><td>   0</td><td>0   </td><td>0   </td><td>  0 </td><td> 0  </td><td>  0 </td></tr>\n",
       "\t<tr><th scope=row>ASV_28</th><td>0   </td><td>0   </td><td> 0  </td><td>0   </td><td> 0  </td><td>  0 </td><td> 0  </td><td>0   </td><td> 0  </td><td>0   </td><td>... </td><td>  0 </td><td>0   </td><td> 0  </td><td>  0 </td><td>   0</td><td>0   </td><td>0   </td><td>  0 </td><td> 0  </td><td>  0 </td></tr>\n",
       "\t<tr><th scope=row>ASV_30</th><td>0   </td><td>0   </td><td> 0  </td><td>0   </td><td>25  </td><td>  0 </td><td> 0  </td><td>0   </td><td> 0  </td><td>0   </td><td>... </td><td>  0 </td><td>0   </td><td> 0  </td><td>  0 </td><td>   0</td><td>0   </td><td>0   </td><td>  0 </td><td>21  </td><td>  0 </td></tr>\n",
       "\t<tr><th scope=row>ASV_31</th><td>0   </td><td>0   </td><td> 0  </td><td>0   </td><td> 0  </td><td>  0 </td><td> 0  </td><td>0   </td><td> 0  </td><td>0   </td><td>... </td><td>  0 </td><td>0   </td><td> 0  </td><td>471 </td><td>   0</td><td>0   </td><td>0   </td><td>  0 </td><td> 0  </td><td>  0 </td></tr>\n",
       "\t<tr><th scope=row>...</th><td>...</td><td>...</td><td>...</td><td>...</td><td>...</td><td>...</td><td>...</td><td>...</td><td>...</td><td>...</td><td>   </td><td>...</td><td>...</td><td>...</td><td>...</td><td>...</td><td>...</td><td>...</td><td>...</td><td>...</td><td>...</td></tr>\n",
       "\t<tr><th scope=row>ASV_1399</th><td>0   </td><td>0   </td><td>0   </td><td>0   </td><td>0   </td><td>0   </td><td>0   </td><td>0   </td><td>0   </td><td>  0 </td><td>... </td><td>  0 </td><td>   0</td><td> 0  </td><td>0   </td><td>0   </td><td>  0 </td><td> 0  </td><td>  0 </td><td> 0  </td><td>0   </td></tr>\n",
       "\t<tr><th scope=row>ASV_1400</th><td>0   </td><td>0   </td><td>0   </td><td>0   </td><td>0   </td><td>0   </td><td>0   </td><td>0   </td><td>0   </td><td>  0 </td><td>... </td><td>  0 </td><td>   0</td><td> 0  </td><td>0   </td><td>0   </td><td>  0 </td><td> 0  </td><td>  0 </td><td> 0  </td><td>0   </td></tr>\n",
       "\t<tr><th scope=row>ASV_1401</th><td>0   </td><td>0   </td><td>0   </td><td>0   </td><td>0   </td><td>0   </td><td>0   </td><td>0   </td><td>0   </td><td>  0 </td><td>... </td><td>  0 </td><td>   0</td><td> 0  </td><td>0   </td><td>0   </td><td>  0 </td><td> 0  </td><td>  0 </td><td> 0  </td><td>0   </td></tr>\n",
       "\t<tr><th scope=row>ASV_1402</th><td>0   </td><td>0   </td><td>0   </td><td>0   </td><td>0   </td><td>0   </td><td>0   </td><td>0   </td><td>0   </td><td>  0 </td><td>... </td><td>  0 </td><td>   0</td><td> 0  </td><td>0   </td><td>0   </td><td>  0 </td><td> 0  </td><td>  0 </td><td> 0  </td><td>0   </td></tr>\n",
       "\t<tr><th scope=row>ASV_1403</th><td>0   </td><td>0   </td><td>0   </td><td>0   </td><td>0   </td><td>0   </td><td>0   </td><td>0   </td><td>0   </td><td> 11 </td><td>... </td><td>  0 </td><td>   0</td><td> 0  </td><td>0   </td><td>0   </td><td>  0 </td><td> 0  </td><td>  0 </td><td> 0  </td><td>0   </td></tr>\n",
       "\t<tr><th scope=row>ASV_1404</th><td>0   </td><td>0   </td><td>0   </td><td>0   </td><td>0   </td><td>0   </td><td>0   </td><td>0   </td><td>0   </td><td>  0 </td><td>... </td><td>  0 </td><td>   0</td><td> 0  </td><td>0   </td><td>0   </td><td>  0 </td><td> 0  </td><td>  0 </td><td> 0  </td><td>0   </td></tr>\n",
       "\t<tr><th scope=row>ASV_1405</th><td>0   </td><td>0   </td><td>0   </td><td>0   </td><td>0   </td><td>0   </td><td>0   </td><td>0   </td><td>0   </td><td>  0 </td><td>... </td><td>  0 </td><td>   0</td><td> 0  </td><td>0   </td><td>0   </td><td>  0 </td><td> 0  </td><td>  0 </td><td> 0  </td><td>0   </td></tr>\n",
       "\t<tr><th scope=row>ASV_1406</th><td>0   </td><td>0   </td><td>0   </td><td>0   </td><td>0   </td><td>0   </td><td>0   </td><td>0   </td><td>0   </td><td>  0 </td><td>... </td><td>  0 </td><td>   0</td><td> 0  </td><td>0   </td><td>0   </td><td>  0 </td><td> 0  </td><td>  0 </td><td>89  </td><td>0   </td></tr>\n",
       "\t<tr><th scope=row>ASV_1407</th><td>0   </td><td>0   </td><td>0   </td><td>0   </td><td>0   </td><td>0   </td><td>0   </td><td>0   </td><td>0   </td><td>  0 </td><td>... </td><td>  0 </td><td>   0</td><td> 0  </td><td>0   </td><td>0   </td><td>  0 </td><td> 0  </td><td>  0 </td><td> 0  </td><td>0   </td></tr>\n",
       "\t<tr><th scope=row>ASV_1408</th><td>0   </td><td>0   </td><td>0   </td><td>0   </td><td>0   </td><td>0   </td><td>0   </td><td>0   </td><td>0   </td><td>  0 </td><td>... </td><td>  0 </td><td>   0</td><td> 0  </td><td>0   </td><td>0   </td><td>  0 </td><td> 0  </td><td>  0 </td><td> 0  </td><td>0   </td></tr>\n",
       "\t<tr><th scope=row>ASV_1409</th><td>0   </td><td>0   </td><td>0   </td><td>0   </td><td>0   </td><td>0   </td><td>0   </td><td>0   </td><td>0   </td><td>  0 </td><td>... </td><td>663 </td><td>   0</td><td> 0  </td><td>0   </td><td>0   </td><td>  0 </td><td> 6  </td><td>  0 </td><td> 0  </td><td>0   </td></tr>\n",
       "\t<tr><th scope=row>ASV_1410</th><td>0   </td><td>0   </td><td>0   </td><td>0   </td><td>0   </td><td>0   </td><td>0   </td><td>0   </td><td>0   </td><td>  0 </td><td>... </td><td>  0 </td><td>   0</td><td> 0  </td><td>0   </td><td>0   </td><td>  0 </td><td> 0  </td><td>  0 </td><td> 0  </td><td>0   </td></tr>\n",
       "\t<tr><th scope=row>ASV_1411</th><td>0   </td><td>0   </td><td>0   </td><td>0   </td><td>0   </td><td>0   </td><td>0   </td><td>0   </td><td>0   </td><td>  0 </td><td>... </td><td>  0 </td><td>   0</td><td> 0  </td><td>0   </td><td>0   </td><td>  0 </td><td> 0  </td><td>119 </td><td> 0  </td><td>0   </td></tr>\n",
       "\t<tr><th scope=row>ASV_1412</th><td>0   </td><td>0   </td><td>0   </td><td>0   </td><td>0   </td><td>0   </td><td>0   </td><td>0   </td><td>0   </td><td>  0 </td><td>... </td><td>  0 </td><td>   0</td><td> 0  </td><td>0   </td><td>0   </td><td>  0 </td><td>17  </td><td>  0 </td><td> 0  </td><td>0   </td></tr>\n",
       "\t<tr><th scope=row>ASV_1413</th><td>0   </td><td>0   </td><td>0   </td><td>0   </td><td>0   </td><td>0   </td><td>0   </td><td>0   </td><td>0   </td><td>  0 </td><td>... </td><td>  0 </td><td>   0</td><td> 0  </td><td>0   </td><td>0   </td><td>  0 </td><td> 0  </td><td> 91 </td><td> 0  </td><td>0   </td></tr>\n",
       "\t<tr><th scope=row>ASV_1414</th><td>0   </td><td>0   </td><td>0   </td><td>0   </td><td>0   </td><td>0   </td><td>0   </td><td>0   </td><td>0   </td><td>163 </td><td>... </td><td>  0 </td><td>1843</td><td> 0  </td><td>0   </td><td>0   </td><td>  0 </td><td> 0  </td><td>  0 </td><td> 0  </td><td>0   </td></tr>\n",
       "\t<tr><th scope=row>ASV_1415</th><td>0   </td><td>0   </td><td>0   </td><td>0   </td><td>0   </td><td>0   </td><td>0   </td><td>0   </td><td>0   </td><td>  0 </td><td>... </td><td>  0 </td><td>   0</td><td> 0  </td><td>0   </td><td>0   </td><td>116 </td><td> 0  </td><td>  0 </td><td> 0  </td><td>0   </td></tr>\n",
       "\t<tr><th scope=row>ASV_1416</th><td>0   </td><td>0   </td><td>0   </td><td>0   </td><td>0   </td><td>0   </td><td>0   </td><td>0   </td><td>0   </td><td>  0 </td><td>... </td><td>  0 </td><td>   0</td><td> 0  </td><td>0   </td><td>0   </td><td>  0 </td><td> 0  </td><td>  0 </td><td> 0  </td><td>0   </td></tr>\n",
       "\t<tr><th scope=row>ASV_1417</th><td>0   </td><td>0   </td><td>0   </td><td>0   </td><td>0   </td><td>0   </td><td>0   </td><td>0   </td><td>0   </td><td>  0 </td><td>... </td><td>  0 </td><td>   0</td><td> 0  </td><td>0   </td><td>0   </td><td>  0 </td><td> 0  </td><td>  0 </td><td> 0  </td><td>0   </td></tr>\n",
       "\t<tr><th scope=row>ASV_1418</th><td>0   </td><td>0   </td><td>0   </td><td>0   </td><td>0   </td><td>0   </td><td>0   </td><td>0   </td><td>0   </td><td>  0 </td><td>... </td><td>  0 </td><td>   0</td><td> 0  </td><td>0   </td><td>0   </td><td>  0 </td><td> 0  </td><td>  0 </td><td> 0  </td><td>0   </td></tr>\n",
       "\t<tr><th scope=row>ASV_1419</th><td>0   </td><td>0   </td><td>0   </td><td>0   </td><td>0   </td><td>0   </td><td>0   </td><td>0   </td><td>0   </td><td>  0 </td><td>... </td><td>  0 </td><td>   0</td><td> 0  </td><td>0   </td><td>0   </td><td>  0 </td><td> 0  </td><td>  0 </td><td> 0  </td><td>0   </td></tr>\n",
       "\t<tr><th scope=row>ASV_1420</th><td>0   </td><td>0   </td><td>0   </td><td>0   </td><td>0   </td><td>0   </td><td>0   </td><td>0   </td><td>0   </td><td>  0 </td><td>... </td><td>  0 </td><td>   0</td><td> 0  </td><td>0   </td><td>0   </td><td>  0 </td><td> 0  </td><td>  0 </td><td> 0  </td><td>0   </td></tr>\n",
       "\t<tr><th scope=row>ASV_1421</th><td>0   </td><td>0   </td><td>0   </td><td>0   </td><td>0   </td><td>0   </td><td>0   </td><td>0   </td><td>0   </td><td>  0 </td><td>... </td><td>  0 </td><td>   0</td><td> 0  </td><td>0   </td><td>0   </td><td>  0 </td><td> 0  </td><td>  0 </td><td> 0  </td><td>0   </td></tr>\n",
       "\t<tr><th scope=row>ASV_1422</th><td>0   </td><td>0   </td><td>0   </td><td>0   </td><td>0   </td><td>0   </td><td>0   </td><td>0   </td><td>0   </td><td>  0 </td><td>... </td><td>  0 </td><td>   0</td><td> 0  </td><td>0   </td><td>0   </td><td>  0 </td><td> 0  </td><td>  0 </td><td> 0  </td><td>0   </td></tr>\n",
       "\t<tr><th scope=row>ASV_1423</th><td>0   </td><td>0   </td><td>0   </td><td>0   </td><td>0   </td><td>0   </td><td>0   </td><td>0   </td><td>0   </td><td>  0 </td><td>... </td><td>  0 </td><td>   0</td><td>20  </td><td>0   </td><td>0   </td><td>  0 </td><td> 0  </td><td>  0 </td><td> 0  </td><td>0   </td></tr>\n",
       "\t<tr><th scope=row>ASV_1424</th><td>0   </td><td>0   </td><td>0   </td><td>0   </td><td>0   </td><td>0   </td><td>0   </td><td>0   </td><td>0   </td><td>  0 </td><td>... </td><td>  0 </td><td>   0</td><td> 0  </td><td>0   </td><td>0   </td><td>  0 </td><td> 0  </td><td>  0 </td><td> 0  </td><td>0   </td></tr>\n",
       "\t<tr><th scope=row>ASV_1425</th><td>0   </td><td>0   </td><td>0   </td><td>0   </td><td>0   </td><td>0   </td><td>0   </td><td>0   </td><td>0   </td><td>  0 </td><td>... </td><td>  0 </td><td>   0</td><td> 0  </td><td>0   </td><td>0   </td><td>  0 </td><td> 0  </td><td>  0 </td><td> 0  </td><td>0   </td></tr>\n",
       "\t<tr><th scope=row>ASV_1426</th><td>0   </td><td>0   </td><td>0   </td><td>0   </td><td>0   </td><td>0   </td><td>0   </td><td>0   </td><td>0   </td><td>  0 </td><td>... </td><td>  0 </td><td> 167</td><td> 0  </td><td>0   </td><td>0   </td><td>  0 </td><td> 0  </td><td>  0 </td><td> 0  </td><td>0   </td></tr>\n",
       "\t<tr><th scope=row>ASV_1427</th><td>0   </td><td>0   </td><td>0   </td><td>0   </td><td>0   </td><td>0   </td><td>0   </td><td>0   </td><td>0   </td><td>  0 </td><td>... </td><td>  0 </td><td>   0</td><td> 0  </td><td>0   </td><td>0   </td><td>  0 </td><td> 0  </td><td>  0 </td><td> 0  </td><td>0   </td></tr>\n",
       "\t<tr><th scope=row>ASV_1428</th><td>0   </td><td>0   </td><td>0   </td><td>0   </td><td>0   </td><td>0   </td><td>0   </td><td>0   </td><td>0   </td><td>  0 </td><td>... </td><td>  0 </td><td>   0</td><td> 0  </td><td>0   </td><td>0   </td><td>  0 </td><td> 0  </td><td>  0 </td><td> 0  </td><td>0   </td></tr>\n",
       "</tbody>\n",
       "</table>\n"
      ],
      "text/latex": [
       "\\begin{tabular}{r|llllllllllllllllllllllllllllllllllllllllllllllllllllllllllllllllllllllllllllllllllllllllllllllllllllllllllllllllllllllllllllllllllllllllllllllllllllll}\n",
       "  & S\\_027 & S\\_028 & S\\_031 & S\\_034 & S\\_036 & S\\_038 & S\\_039 & S\\_040 & S\\_041 & S\\_042 & ... & S\\_080 & S\\_086 & S\\_087 & S\\_090 & S\\_099 & S\\_102 & S\\_104 & S\\_108 & S\\_110 & S\\_148\\\\\n",
       "\\hline\n",
       "\tASV\\_1 & 0    & 0    &  0   & 0    &  0   &   0  &  3   & 0    &  0   & 0    & ...  &   0  & 0    &  0   &   0  &    0 & 0    & 0    &   0  &  0   &   0 \\\\\n",
       "\tASV\\_2 & 0    & 0    &  0   & 0    &  0   &   0  &  0   & 0    &  0   & 0    & ...  &   0  & 0    & 19   &   0  &    0 & 0    & 0    &   0  &  0   &   0 \\\\\n",
       "\tASV\\_3 & 0    & 0    &  0   & 0    &  0   &   0  &  0   & 0    &  0   & 0    & ...  &   0  & 0    &  0   &   0  &    0 & 0    & 0    &   0  &  0   &   0 \\\\\n",
       "\tASV\\_4 & 0    & 0    &  0   & 0    & 30   & 937  &  0   & 0    &  0   & 0    & ...  &   0  & 0    &  0   &   0  &    0 & 0    & 0    &   0  &  0   &   0 \\\\\n",
       "\tASV\\_5 & 0    & 0    &  0   & 0    &  0   &   0  &  0   & 0    &  0   & 0    & ...  &   0  & 0    &  0   &   0  &    0 & 0    & 0    &   0  &  0   &   0 \\\\\n",
       "\tASV\\_6 & 0    & 0    &  0   & 0    &  0   &   0  &  0   & 0    &  0   & 6    & ...  &   0  & 0    &  0   &   0  &    0 & 0    & 0    &   0  &  0   &   0 \\\\\n",
       "\tASV\\_7 & 0    & 0    &  0   & 0    &  0   &   0  &  0   & 0    &  0   & 0    & ...  &   0  & 0    &  0   &   0  &    0 & 0    & 0    &   0  &  0   &   0 \\\\\n",
       "\tASV\\_8 & 0    & 0    &  0   & 0    &  0   &   0  &  0   & 0    &  0   & 0    & ...  &   0  & 0    &  0   &   0  &    0 & 0    & 0    &   0  &  0   &   0 \\\\\n",
       "\tASV\\_9 & 0    & 0    &  0   & 0    &  0   &   0  &  0   & 0    &  0   & 0    & ...  &   0  & 0    &  0   &   0  &    7 & 0    & 0    &   0  &  0   &   0 \\\\\n",
       "\tASV\\_10 & 0    & 0    &  0   & 0    &  0   &  53  &  0   & 0    & 31   & 0    & ...  &   0  & 0    &  0   &   0  &    0 & 0    & 0    &   0  &  0   &   0 \\\\\n",
       "\tASV\\_11 & 0    & 0    &  0   & 0    &  0   &   0  &  0   & 0    &  0   & 0    & ...  &   0  & 0    &  0   &   0  &    0 & 0    & 0    &   0  &  0   & 699 \\\\\n",
       "\tASV\\_12 & 0    & 0    &  0   & 0    &  0   &   0  &  0   & 0    &  0   & 0    & ...  &   0  & 0    &  0   &   0  &    0 & 0    & 0    &   0  &  0   &   0 \\\\\n",
       "\tASV\\_13 & 0    & 0    &  0   & 0    &  0   &   0  &  0   & 0    &  0   & 0    & ...  &   0  & 0    &  0   &   0  &    0 & 0    & 0    &   0  &  0   &   0 \\\\\n",
       "\tASV\\_14 & 0    & 0    & 13   & 0    &  0   &   0  &  0   & 0    &  0   & 0    & ...  &   0  & 0    &  0   &   0  &    0 & 0    & 0    &   0  &  0   &   0 \\\\\n",
       "\tASV\\_15 & 0    & 0    &  0   & 0    &  0   &   0  &  0   & 0    &  0   & 0    & ...  &   0  & 0    &  0   &   0  &    0 & 0    & 0    &   0  &  0   &   0 \\\\\n",
       "\tASV\\_16 & 0    & 0    &  0   & 0    & 48   &   0  &  0   & 0    &  0   & 0    & ...  &   0  & 0    &  0   &   0  &    0 & 0    & 0    &   0  &  0   &   0 \\\\\n",
       "\tASV\\_17 & 0    & 0    &  0   & 0    &  0   &   0  &  0   & 0    &  0   & 0    & ...  &   0  & 0    &  0   &   0  &   25 & 0    & 0    &   0  &  0   &   0 \\\\\n",
       "\tASV\\_18 & 0    & 0    &  0   & 0    &  0   &   0  &  0   & 0    &  0   & 0    & ...  & 688  & 0    &  0   &   0  &    0 & 0    & 0    & 128  &  0   &   0 \\\\\n",
       "\tASV\\_19 & 0    & 0    &  0   & 0    &  0   &   0  &  0   & 0    &  0   & 0    & ...  &   0  & 0    & 20   &   0  &    0 & 0    & 0    &   0  &  0   &   0 \\\\\n",
       "\tASV\\_20 & 0    & 0    &  0   & 0    &  0   &   0  &  0   & 0    &  0   & 0    & ...  &   0  & 0    &  0   &   0  &    0 & 0    & 0    &   0  &  0   &   0 \\\\\n",
       "\tASV\\_21 & 0    & 0    &  0   & 0    &  0   &   0  &  0   & 0    &  0   & 0    & ...  &   0  & 0    &  0   &   0  &    0 & 0    & 0    &   0  &  0   &   0 \\\\\n",
       "\tASV\\_22 & 0    & 0    &  0   & 0    &  0   &   0  &  0   & 0    &  0   & 0    & ...  &   0  & 0    &  0   &   0  &    0 & 0    & 0    &   0  &  0   &   0 \\\\\n",
       "\tASV\\_23 & 0    & 0    &  0   & 0    &  0   &   0  & 86   & 0    &  0   & 0    & ...  &   0  & 0    &  0   &   0  &    0 & 0    & 0    &   0  &  0   &   0 \\\\\n",
       "\tASV\\_24 & 0    & 0    &  0   & 0    &  0   &   0  &  0   & 0    &  0   & 0    & ...  &   0  & 0    &  0   &   0  &    0 & 0    & 0    &   0  &  0   &   0 \\\\\n",
       "\tASV\\_25 & 0    & 0    &  0   & 0    &  0   &   0  &  0   & 0    &  0   & 0    & ...  &   0  & 0    &  0   &   0  & 1197 & 0    & 0    &   0  &  0   &   0 \\\\\n",
       "\tASV\\_26 & 0    & 0    &  0   & 0    &  0   &   0  &  0   & 0    &  0   & 0    & ...  &   0  & 0    &  0   &   0  &    0 & 0    & 0    &   0  &  0   &   0 \\\\\n",
       "\tASV\\_27 & 0    & 0    &  0   & 0    &  0   &   0  &  0   & 0    &  0   & 0    & ...  &   0  & 0    &  0   &   0  &    0 & 0    & 0    &   0  &  0   &   0 \\\\\n",
       "\tASV\\_28 & 0    & 0    &  0   & 0    &  0   &   0  &  0   & 0    &  0   & 0    & ...  &   0  & 0    &  0   &   0  &    0 & 0    & 0    &   0  &  0   &   0 \\\\\n",
       "\tASV\\_30 & 0    & 0    &  0   & 0    & 25   &   0  &  0   & 0    &  0   & 0    & ...  &   0  & 0    &  0   &   0  &    0 & 0    & 0    &   0  & 21   &   0 \\\\\n",
       "\tASV\\_31 & 0    & 0    &  0   & 0    &  0   &   0  &  0   & 0    &  0   & 0    & ...  &   0  & 0    &  0   & 471  &    0 & 0    & 0    &   0  &  0   &   0 \\\\\n",
       "\t... & ... & ... & ... & ... & ... & ... & ... & ... & ... & ... &     & ... & ... & ... & ... & ... & ... & ... & ... & ... & ...\\\\\n",
       "\tASV\\_1399 & 0    & 0    & 0    & 0    & 0    & 0    & 0    & 0    & 0    &   0  & ...  &   0  &    0 &  0   & 0    & 0    &   0  &  0   &   0  &  0   & 0   \\\\\n",
       "\tASV\\_1400 & 0    & 0    & 0    & 0    & 0    & 0    & 0    & 0    & 0    &   0  & ...  &   0  &    0 &  0   & 0    & 0    &   0  &  0   &   0  &  0   & 0   \\\\\n",
       "\tASV\\_1401 & 0    & 0    & 0    & 0    & 0    & 0    & 0    & 0    & 0    &   0  & ...  &   0  &    0 &  0   & 0    & 0    &   0  &  0   &   0  &  0   & 0   \\\\\n",
       "\tASV\\_1402 & 0    & 0    & 0    & 0    & 0    & 0    & 0    & 0    & 0    &   0  & ...  &   0  &    0 &  0   & 0    & 0    &   0  &  0   &   0  &  0   & 0   \\\\\n",
       "\tASV\\_1403 & 0    & 0    & 0    & 0    & 0    & 0    & 0    & 0    & 0    &  11  & ...  &   0  &    0 &  0   & 0    & 0    &   0  &  0   &   0  &  0   & 0   \\\\\n",
       "\tASV\\_1404 & 0    & 0    & 0    & 0    & 0    & 0    & 0    & 0    & 0    &   0  & ...  &   0  &    0 &  0   & 0    & 0    &   0  &  0   &   0  &  0   & 0   \\\\\n",
       "\tASV\\_1405 & 0    & 0    & 0    & 0    & 0    & 0    & 0    & 0    & 0    &   0  & ...  &   0  &    0 &  0   & 0    & 0    &   0  &  0   &   0  &  0   & 0   \\\\\n",
       "\tASV\\_1406 & 0    & 0    & 0    & 0    & 0    & 0    & 0    & 0    & 0    &   0  & ...  &   0  &    0 &  0   & 0    & 0    &   0  &  0   &   0  & 89   & 0   \\\\\n",
       "\tASV\\_1407 & 0    & 0    & 0    & 0    & 0    & 0    & 0    & 0    & 0    &   0  & ...  &   0  &    0 &  0   & 0    & 0    &   0  &  0   &   0  &  0   & 0   \\\\\n",
       "\tASV\\_1408 & 0    & 0    & 0    & 0    & 0    & 0    & 0    & 0    & 0    &   0  & ...  &   0  &    0 &  0   & 0    & 0    &   0  &  0   &   0  &  0   & 0   \\\\\n",
       "\tASV\\_1409 & 0    & 0    & 0    & 0    & 0    & 0    & 0    & 0    & 0    &   0  & ...  & 663  &    0 &  0   & 0    & 0    &   0  &  6   &   0  &  0   & 0   \\\\\n",
       "\tASV\\_1410 & 0    & 0    & 0    & 0    & 0    & 0    & 0    & 0    & 0    &   0  & ...  &   0  &    0 &  0   & 0    & 0    &   0  &  0   &   0  &  0   & 0   \\\\\n",
       "\tASV\\_1411 & 0    & 0    & 0    & 0    & 0    & 0    & 0    & 0    & 0    &   0  & ...  &   0  &    0 &  0   & 0    & 0    &   0  &  0   & 119  &  0   & 0   \\\\\n",
       "\tASV\\_1412 & 0    & 0    & 0    & 0    & 0    & 0    & 0    & 0    & 0    &   0  & ...  &   0  &    0 &  0   & 0    & 0    &   0  & 17   &   0  &  0   & 0   \\\\\n",
       "\tASV\\_1413 & 0    & 0    & 0    & 0    & 0    & 0    & 0    & 0    & 0    &   0  & ...  &   0  &    0 &  0   & 0    & 0    &   0  &  0   &  91  &  0   & 0   \\\\\n",
       "\tASV\\_1414 & 0    & 0    & 0    & 0    & 0    & 0    & 0    & 0    & 0    & 163  & ...  &   0  & 1843 &  0   & 0    & 0    &   0  &  0   &   0  &  0   & 0   \\\\\n",
       "\tASV\\_1415 & 0    & 0    & 0    & 0    & 0    & 0    & 0    & 0    & 0    &   0  & ...  &   0  &    0 &  0   & 0    & 0    & 116  &  0   &   0  &  0   & 0   \\\\\n",
       "\tASV\\_1416 & 0    & 0    & 0    & 0    & 0    & 0    & 0    & 0    & 0    &   0  & ...  &   0  &    0 &  0   & 0    & 0    &   0  &  0   &   0  &  0   & 0   \\\\\n",
       "\tASV\\_1417 & 0    & 0    & 0    & 0    & 0    & 0    & 0    & 0    & 0    &   0  & ...  &   0  &    0 &  0   & 0    & 0    &   0  &  0   &   0  &  0   & 0   \\\\\n",
       "\tASV\\_1418 & 0    & 0    & 0    & 0    & 0    & 0    & 0    & 0    & 0    &   0  & ...  &   0  &    0 &  0   & 0    & 0    &   0  &  0   &   0  &  0   & 0   \\\\\n",
       "\tASV\\_1419 & 0    & 0    & 0    & 0    & 0    & 0    & 0    & 0    & 0    &   0  & ...  &   0  &    0 &  0   & 0    & 0    &   0  &  0   &   0  &  0   & 0   \\\\\n",
       "\tASV\\_1420 & 0    & 0    & 0    & 0    & 0    & 0    & 0    & 0    & 0    &   0  & ...  &   0  &    0 &  0   & 0    & 0    &   0  &  0   &   0  &  0   & 0   \\\\\n",
       "\tASV\\_1421 & 0    & 0    & 0    & 0    & 0    & 0    & 0    & 0    & 0    &   0  & ...  &   0  &    0 &  0   & 0    & 0    &   0  &  0   &   0  &  0   & 0   \\\\\n",
       "\tASV\\_1422 & 0    & 0    & 0    & 0    & 0    & 0    & 0    & 0    & 0    &   0  & ...  &   0  &    0 &  0   & 0    & 0    &   0  &  0   &   0  &  0   & 0   \\\\\n",
       "\tASV\\_1423 & 0    & 0    & 0    & 0    & 0    & 0    & 0    & 0    & 0    &   0  & ...  &   0  &    0 & 20   & 0    & 0    &   0  &  0   &   0  &  0   & 0   \\\\\n",
       "\tASV\\_1424 & 0    & 0    & 0    & 0    & 0    & 0    & 0    & 0    & 0    &   0  & ...  &   0  &    0 &  0   & 0    & 0    &   0  &  0   &   0  &  0   & 0   \\\\\n",
       "\tASV\\_1425 & 0    & 0    & 0    & 0    & 0    & 0    & 0    & 0    & 0    &   0  & ...  &   0  &    0 &  0   & 0    & 0    &   0  &  0   &   0  &  0   & 0   \\\\\n",
       "\tASV\\_1426 & 0    & 0    & 0    & 0    & 0    & 0    & 0    & 0    & 0    &   0  & ...  &   0  &  167 &  0   & 0    & 0    &   0  &  0   &   0  &  0   & 0   \\\\\n",
       "\tASV\\_1427 & 0    & 0    & 0    & 0    & 0    & 0    & 0    & 0    & 0    &   0  & ...  &   0  &    0 &  0   & 0    & 0    &   0  &  0   &   0  &  0   & 0   \\\\\n",
       "\tASV\\_1428 & 0    & 0    & 0    & 0    & 0    & 0    & 0    & 0    & 0    &   0  & ...  &   0  &    0 &  0   & 0    & 0    &   0  &  0   &   0  &  0   & 0   \\\\\n",
       "\\end{tabular}\n"
      ],
      "text/markdown": [
       "\n",
       "| <!--/--> | S_027 | S_028 | S_031 | S_034 | S_036 | S_038 | S_039 | S_040 | S_041 | S_042 | ... | S_080 | S_086 | S_087 | S_090 | S_099 | S_102 | S_104 | S_108 | S_110 | S_148 |\n",
       "|---|---|---|---|---|---|---|---|---|---|---|---|---|---|---|---|---|---|---|---|---|---|\n",
       "| ASV_1 | 0    | 0    |  0   | 0    |  0   |   0  |  3   | 0    |  0   | 0    | ...  |   0  | 0    |  0   |   0  |    0 | 0    | 0    |   0  |  0   |   0  |\n",
       "| ASV_2 | 0    | 0    |  0   | 0    |  0   |   0  |  0   | 0    |  0   | 0    | ...  |   0  | 0    | 19   |   0  |    0 | 0    | 0    |   0  |  0   |   0  |\n",
       "| ASV_3 | 0    | 0    |  0   | 0    |  0   |   0  |  0   | 0    |  0   | 0    | ...  |   0  | 0    |  0   |   0  |    0 | 0    | 0    |   0  |  0   |   0  |\n",
       "| ASV_4 | 0    | 0    |  0   | 0    | 30   | 937  |  0   | 0    |  0   | 0    | ...  |   0  | 0    |  0   |   0  |    0 | 0    | 0    |   0  |  0   |   0  |\n",
       "| ASV_5 | 0    | 0    |  0   | 0    |  0   |   0  |  0   | 0    |  0   | 0    | ...  |   0  | 0    |  0   |   0  |    0 | 0    | 0    |   0  |  0   |   0  |\n",
       "| ASV_6 | 0    | 0    |  0   | 0    |  0   |   0  |  0   | 0    |  0   | 6    | ...  |   0  | 0    |  0   |   0  |    0 | 0    | 0    |   0  |  0   |   0  |\n",
       "| ASV_7 | 0    | 0    |  0   | 0    |  0   |   0  |  0   | 0    |  0   | 0    | ...  |   0  | 0    |  0   |   0  |    0 | 0    | 0    |   0  |  0   |   0  |\n",
       "| ASV_8 | 0    | 0    |  0   | 0    |  0   |   0  |  0   | 0    |  0   | 0    | ...  |   0  | 0    |  0   |   0  |    0 | 0    | 0    |   0  |  0   |   0  |\n",
       "| ASV_9 | 0    | 0    |  0   | 0    |  0   |   0  |  0   | 0    |  0   | 0    | ...  |   0  | 0    |  0   |   0  |    7 | 0    | 0    |   0  |  0   |   0  |\n",
       "| ASV_10 | 0    | 0    |  0   | 0    |  0   |  53  |  0   | 0    | 31   | 0    | ...  |   0  | 0    |  0   |   0  |    0 | 0    | 0    |   0  |  0   |   0  |\n",
       "| ASV_11 | 0    | 0    |  0   | 0    |  0   |   0  |  0   | 0    |  0   | 0    | ...  |   0  | 0    |  0   |   0  |    0 | 0    | 0    |   0  |  0   | 699  |\n",
       "| ASV_12 | 0    | 0    |  0   | 0    |  0   |   0  |  0   | 0    |  0   | 0    | ...  |   0  | 0    |  0   |   0  |    0 | 0    | 0    |   0  |  0   |   0  |\n",
       "| ASV_13 | 0    | 0    |  0   | 0    |  0   |   0  |  0   | 0    |  0   | 0    | ...  |   0  | 0    |  0   |   0  |    0 | 0    | 0    |   0  |  0   |   0  |\n",
       "| ASV_14 | 0    | 0    | 13   | 0    |  0   |   0  |  0   | 0    |  0   | 0    | ...  |   0  | 0    |  0   |   0  |    0 | 0    | 0    |   0  |  0   |   0  |\n",
       "| ASV_15 | 0    | 0    |  0   | 0    |  0   |   0  |  0   | 0    |  0   | 0    | ...  |   0  | 0    |  0   |   0  |    0 | 0    | 0    |   0  |  0   |   0  |\n",
       "| ASV_16 | 0    | 0    |  0   | 0    | 48   |   0  |  0   | 0    |  0   | 0    | ...  |   0  | 0    |  0   |   0  |    0 | 0    | 0    |   0  |  0   |   0  |\n",
       "| ASV_17 | 0    | 0    |  0   | 0    |  0   |   0  |  0   | 0    |  0   | 0    | ...  |   0  | 0    |  0   |   0  |   25 | 0    | 0    |   0  |  0   |   0  |\n",
       "| ASV_18 | 0    | 0    |  0   | 0    |  0   |   0  |  0   | 0    |  0   | 0    | ...  | 688  | 0    |  0   |   0  |    0 | 0    | 0    | 128  |  0   |   0  |\n",
       "| ASV_19 | 0    | 0    |  0   | 0    |  0   |   0  |  0   | 0    |  0   | 0    | ...  |   0  | 0    | 20   |   0  |    0 | 0    | 0    |   0  |  0   |   0  |\n",
       "| ASV_20 | 0    | 0    |  0   | 0    |  0   |   0  |  0   | 0    |  0   | 0    | ...  |   0  | 0    |  0   |   0  |    0 | 0    | 0    |   0  |  0   |   0  |\n",
       "| ASV_21 | 0    | 0    |  0   | 0    |  0   |   0  |  0   | 0    |  0   | 0    | ...  |   0  | 0    |  0   |   0  |    0 | 0    | 0    |   0  |  0   |   0  |\n",
       "| ASV_22 | 0    | 0    |  0   | 0    |  0   |   0  |  0   | 0    |  0   | 0    | ...  |   0  | 0    |  0   |   0  |    0 | 0    | 0    |   0  |  0   |   0  |\n",
       "| ASV_23 | 0    | 0    |  0   | 0    |  0   |   0  | 86   | 0    |  0   | 0    | ...  |   0  | 0    |  0   |   0  |    0 | 0    | 0    |   0  |  0   |   0  |\n",
       "| ASV_24 | 0    | 0    |  0   | 0    |  0   |   0  |  0   | 0    |  0   | 0    | ...  |   0  | 0    |  0   |   0  |    0 | 0    | 0    |   0  |  0   |   0  |\n",
       "| ASV_25 | 0    | 0    |  0   | 0    |  0   |   0  |  0   | 0    |  0   | 0    | ...  |   0  | 0    |  0   |   0  | 1197 | 0    | 0    |   0  |  0   |   0  |\n",
       "| ASV_26 | 0    | 0    |  0   | 0    |  0   |   0  |  0   | 0    |  0   | 0    | ...  |   0  | 0    |  0   |   0  |    0 | 0    | 0    |   0  |  0   |   0  |\n",
       "| ASV_27 | 0    | 0    |  0   | 0    |  0   |   0  |  0   | 0    |  0   | 0    | ...  |   0  | 0    |  0   |   0  |    0 | 0    | 0    |   0  |  0   |   0  |\n",
       "| ASV_28 | 0    | 0    |  0   | 0    |  0   |   0  |  0   | 0    |  0   | 0    | ...  |   0  | 0    |  0   |   0  |    0 | 0    | 0    |   0  |  0   |   0  |\n",
       "| ASV_30 | 0    | 0    |  0   | 0    | 25   |   0  |  0   | 0    |  0   | 0    | ...  |   0  | 0    |  0   |   0  |    0 | 0    | 0    |   0  | 21   |   0  |\n",
       "| ASV_31 | 0    | 0    |  0   | 0    |  0   |   0  |  0   | 0    |  0   | 0    | ...  |   0  | 0    |  0   | 471  |    0 | 0    | 0    |   0  |  0   |   0  |\n",
       "| ... | ... | ... | ... | ... | ... | ... | ... | ... | ... | ... |     | ... | ... | ... | ... | ... | ... | ... | ... | ... | ... |\n",
       "| ASV_1399 | 0    | 0    | 0    | 0    | 0    | 0    | 0    | 0    | 0    |   0  | ...  |   0  |    0 |  0   | 0    | 0    |   0  |  0   |   0  |  0   | 0    |\n",
       "| ASV_1400 | 0    | 0    | 0    | 0    | 0    | 0    | 0    | 0    | 0    |   0  | ...  |   0  |    0 |  0   | 0    | 0    |   0  |  0   |   0  |  0   | 0    |\n",
       "| ASV_1401 | 0    | 0    | 0    | 0    | 0    | 0    | 0    | 0    | 0    |   0  | ...  |   0  |    0 |  0   | 0    | 0    |   0  |  0   |   0  |  0   | 0    |\n",
       "| ASV_1402 | 0    | 0    | 0    | 0    | 0    | 0    | 0    | 0    | 0    |   0  | ...  |   0  |    0 |  0   | 0    | 0    |   0  |  0   |   0  |  0   | 0    |\n",
       "| ASV_1403 | 0    | 0    | 0    | 0    | 0    | 0    | 0    | 0    | 0    |  11  | ...  |   0  |    0 |  0   | 0    | 0    |   0  |  0   |   0  |  0   | 0    |\n",
       "| ASV_1404 | 0    | 0    | 0    | 0    | 0    | 0    | 0    | 0    | 0    |   0  | ...  |   0  |    0 |  0   | 0    | 0    |   0  |  0   |   0  |  0   | 0    |\n",
       "| ASV_1405 | 0    | 0    | 0    | 0    | 0    | 0    | 0    | 0    | 0    |   0  | ...  |   0  |    0 |  0   | 0    | 0    |   0  |  0   |   0  |  0   | 0    |\n",
       "| ASV_1406 | 0    | 0    | 0    | 0    | 0    | 0    | 0    | 0    | 0    |   0  | ...  |   0  |    0 |  0   | 0    | 0    |   0  |  0   |   0  | 89   | 0    |\n",
       "| ASV_1407 | 0    | 0    | 0    | 0    | 0    | 0    | 0    | 0    | 0    |   0  | ...  |   0  |    0 |  0   | 0    | 0    |   0  |  0   |   0  |  0   | 0    |\n",
       "| ASV_1408 | 0    | 0    | 0    | 0    | 0    | 0    | 0    | 0    | 0    |   0  | ...  |   0  |    0 |  0   | 0    | 0    |   0  |  0   |   0  |  0   | 0    |\n",
       "| ASV_1409 | 0    | 0    | 0    | 0    | 0    | 0    | 0    | 0    | 0    |   0  | ...  | 663  |    0 |  0   | 0    | 0    |   0  |  6   |   0  |  0   | 0    |\n",
       "| ASV_1410 | 0    | 0    | 0    | 0    | 0    | 0    | 0    | 0    | 0    |   0  | ...  |   0  |    0 |  0   | 0    | 0    |   0  |  0   |   0  |  0   | 0    |\n",
       "| ASV_1411 | 0    | 0    | 0    | 0    | 0    | 0    | 0    | 0    | 0    |   0  | ...  |   0  |    0 |  0   | 0    | 0    |   0  |  0   | 119  |  0   | 0    |\n",
       "| ASV_1412 | 0    | 0    | 0    | 0    | 0    | 0    | 0    | 0    | 0    |   0  | ...  |   0  |    0 |  0   | 0    | 0    |   0  | 17   |   0  |  0   | 0    |\n",
       "| ASV_1413 | 0    | 0    | 0    | 0    | 0    | 0    | 0    | 0    | 0    |   0  | ...  |   0  |    0 |  0   | 0    | 0    |   0  |  0   |  91  |  0   | 0    |\n",
       "| ASV_1414 | 0    | 0    | 0    | 0    | 0    | 0    | 0    | 0    | 0    | 163  | ...  |   0  | 1843 |  0   | 0    | 0    |   0  |  0   |   0  |  0   | 0    |\n",
       "| ASV_1415 | 0    | 0    | 0    | 0    | 0    | 0    | 0    | 0    | 0    |   0  | ...  |   0  |    0 |  0   | 0    | 0    | 116  |  0   |   0  |  0   | 0    |\n",
       "| ASV_1416 | 0    | 0    | 0    | 0    | 0    | 0    | 0    | 0    | 0    |   0  | ...  |   0  |    0 |  0   | 0    | 0    |   0  |  0   |   0  |  0   | 0    |\n",
       "| ASV_1417 | 0    | 0    | 0    | 0    | 0    | 0    | 0    | 0    | 0    |   0  | ...  |   0  |    0 |  0   | 0    | 0    |   0  |  0   |   0  |  0   | 0    |\n",
       "| ASV_1418 | 0    | 0    | 0    | 0    | 0    | 0    | 0    | 0    | 0    |   0  | ...  |   0  |    0 |  0   | 0    | 0    |   0  |  0   |   0  |  0   | 0    |\n",
       "| ASV_1419 | 0    | 0    | 0    | 0    | 0    | 0    | 0    | 0    | 0    |   0  | ...  |   0  |    0 |  0   | 0    | 0    |   0  |  0   |   0  |  0   | 0    |\n",
       "| ASV_1420 | 0    | 0    | 0    | 0    | 0    | 0    | 0    | 0    | 0    |   0  | ...  |   0  |    0 |  0   | 0    | 0    |   0  |  0   |   0  |  0   | 0    |\n",
       "| ASV_1421 | 0    | 0    | 0    | 0    | 0    | 0    | 0    | 0    | 0    |   0  | ...  |   0  |    0 |  0   | 0    | 0    |   0  |  0   |   0  |  0   | 0    |\n",
       "| ASV_1422 | 0    | 0    | 0    | 0    | 0    | 0    | 0    | 0    | 0    |   0  | ...  |   0  |    0 |  0   | 0    | 0    |   0  |  0   |   0  |  0   | 0    |\n",
       "| ASV_1423 | 0    | 0    | 0    | 0    | 0    | 0    | 0    | 0    | 0    |   0  | ...  |   0  |    0 | 20   | 0    | 0    |   0  |  0   |   0  |  0   | 0    |\n",
       "| ASV_1424 | 0    | 0    | 0    | 0    | 0    | 0    | 0    | 0    | 0    |   0  | ...  |   0  |    0 |  0   | 0    | 0    |   0  |  0   |   0  |  0   | 0    |\n",
       "| ASV_1425 | 0    | 0    | 0    | 0    | 0    | 0    | 0    | 0    | 0    |   0  | ...  |   0  |    0 |  0   | 0    | 0    |   0  |  0   |   0  |  0   | 0    |\n",
       "| ASV_1426 | 0    | 0    | 0    | 0    | 0    | 0    | 0    | 0    | 0    |   0  | ...  |   0  |  167 |  0   | 0    | 0    |   0  |  0   |   0  |  0   | 0    |\n",
       "| ASV_1427 | 0    | 0    | 0    | 0    | 0    | 0    | 0    | 0    | 0    |   0  | ...  |   0  |    0 |  0   | 0    | 0    |   0  |  0   |   0  |  0   | 0    |\n",
       "| ASV_1428 | 0    | 0    | 0    | 0    | 0    | 0    | 0    | 0    | 0    |   0  | ...  |   0  |    0 |  0   | 0    | 0    |   0  |  0   |   0  |  0   | 0    |\n",
       "\n"
      ],
      "text/plain": [
       "         S_027 S_028 S_031 S_034 S_036 S_038 S_039 S_040 S_041 S_042 ... S_080\n",
       "ASV_1    0     0      0    0      0      0    3    0      0    0     ...   0  \n",
       "ASV_2    0     0      0    0      0      0    0    0      0    0     ...   0  \n",
       "ASV_3    0     0      0    0      0      0    0    0      0    0     ...   0  \n",
       "ASV_4    0     0      0    0     30    937    0    0      0    0     ...   0  \n",
       "ASV_5    0     0      0    0      0      0    0    0      0    0     ...   0  \n",
       "ASV_6    0     0      0    0      0      0    0    0      0    6     ...   0  \n",
       "ASV_7    0     0      0    0      0      0    0    0      0    0     ...   0  \n",
       "ASV_8    0     0      0    0      0      0    0    0      0    0     ...   0  \n",
       "ASV_9    0     0      0    0      0      0    0    0      0    0     ...   0  \n",
       "ASV_10   0     0      0    0      0     53    0    0     31    0     ...   0  \n",
       "ASV_11   0     0      0    0      0      0    0    0      0    0     ...   0  \n",
       "ASV_12   0     0      0    0      0      0    0    0      0    0     ...   0  \n",
       "ASV_13   0     0      0    0      0      0    0    0      0    0     ...   0  \n",
       "ASV_14   0     0     13    0      0      0    0    0      0    0     ...   0  \n",
       "ASV_15   0     0      0    0      0      0    0    0      0    0     ...   0  \n",
       "ASV_16   0     0      0    0     48      0    0    0      0    0     ...   0  \n",
       "ASV_17   0     0      0    0      0      0    0    0      0    0     ...   0  \n",
       "ASV_18   0     0      0    0      0      0    0    0      0    0     ... 688  \n",
       "ASV_19   0     0      0    0      0      0    0    0      0    0     ...   0  \n",
       "ASV_20   0     0      0    0      0      0    0    0      0    0     ...   0  \n",
       "ASV_21   0     0      0    0      0      0    0    0      0    0     ...   0  \n",
       "ASV_22   0     0      0    0      0      0    0    0      0    0     ...   0  \n",
       "ASV_23   0     0      0    0      0      0   86    0      0    0     ...   0  \n",
       "ASV_24   0     0      0    0      0      0    0    0      0    0     ...   0  \n",
       "ASV_25   0     0      0    0      0      0    0    0      0    0     ...   0  \n",
       "ASV_26   0     0      0    0      0      0    0    0      0    0     ...   0  \n",
       "ASV_27   0     0      0    0      0      0    0    0      0    0     ...   0  \n",
       "ASV_28   0     0      0    0      0      0    0    0      0    0     ...   0  \n",
       "ASV_30   0     0      0    0     25      0    0    0      0    0     ...   0  \n",
       "ASV_31   0     0      0    0      0      0    0    0      0    0     ...   0  \n",
       "...      ...   ...   ...   ...   ...   ...   ...   ...   ...   ...       ...  \n",
       "ASV_1399 0     0     0     0     0     0     0     0     0       0   ...   0  \n",
       "ASV_1400 0     0     0     0     0     0     0     0     0       0   ...   0  \n",
       "ASV_1401 0     0     0     0     0     0     0     0     0       0   ...   0  \n",
       "ASV_1402 0     0     0     0     0     0     0     0     0       0   ...   0  \n",
       "ASV_1403 0     0     0     0     0     0     0     0     0      11   ...   0  \n",
       "ASV_1404 0     0     0     0     0     0     0     0     0       0   ...   0  \n",
       "ASV_1405 0     0     0     0     0     0     0     0     0       0   ...   0  \n",
       "ASV_1406 0     0     0     0     0     0     0     0     0       0   ...   0  \n",
       "ASV_1407 0     0     0     0     0     0     0     0     0       0   ...   0  \n",
       "ASV_1408 0     0     0     0     0     0     0     0     0       0   ...   0  \n",
       "ASV_1409 0     0     0     0     0     0     0     0     0       0   ... 663  \n",
       "ASV_1410 0     0     0     0     0     0     0     0     0       0   ...   0  \n",
       "ASV_1411 0     0     0     0     0     0     0     0     0       0   ...   0  \n",
       "ASV_1412 0     0     0     0     0     0     0     0     0       0   ...   0  \n",
       "ASV_1413 0     0     0     0     0     0     0     0     0       0   ...   0  \n",
       "ASV_1414 0     0     0     0     0     0     0     0     0     163   ...   0  \n",
       "ASV_1415 0     0     0     0     0     0     0     0     0       0   ...   0  \n",
       "ASV_1416 0     0     0     0     0     0     0     0     0       0   ...   0  \n",
       "ASV_1417 0     0     0     0     0     0     0     0     0       0   ...   0  \n",
       "ASV_1418 0     0     0     0     0     0     0     0     0       0   ...   0  \n",
       "ASV_1419 0     0     0     0     0     0     0     0     0       0   ...   0  \n",
       "ASV_1420 0     0     0     0     0     0     0     0     0       0   ...   0  \n",
       "ASV_1421 0     0     0     0     0     0     0     0     0       0   ...   0  \n",
       "ASV_1422 0     0     0     0     0     0     0     0     0       0   ...   0  \n",
       "ASV_1423 0     0     0     0     0     0     0     0     0       0   ...   0  \n",
       "ASV_1424 0     0     0     0     0     0     0     0     0       0   ...   0  \n",
       "ASV_1425 0     0     0     0     0     0     0     0     0       0   ...   0  \n",
       "ASV_1426 0     0     0     0     0     0     0     0     0       0   ...   0  \n",
       "ASV_1427 0     0     0     0     0     0     0     0     0       0   ...   0  \n",
       "ASV_1428 0     0     0     0     0     0     0     0     0       0   ...   0  \n",
       "         S_086 S_087 S_090 S_099 S_102 S_104 S_108 S_110 S_148\n",
       "ASV_1    0      0      0      0  0     0       0    0      0  \n",
       "ASV_2    0     19      0      0  0     0       0    0      0  \n",
       "ASV_3    0      0      0      0  0     0       0    0      0  \n",
       "ASV_4    0      0      0      0  0     0       0    0      0  \n",
       "ASV_5    0      0      0      0  0     0       0    0      0  \n",
       "ASV_6    0      0      0      0  0     0       0    0      0  \n",
       "ASV_7    0      0      0      0  0     0       0    0      0  \n",
       "ASV_8    0      0      0      0  0     0       0    0      0  \n",
       "ASV_9    0      0      0      7  0     0       0    0      0  \n",
       "ASV_10   0      0      0      0  0     0       0    0      0  \n",
       "ASV_11   0      0      0      0  0     0       0    0    699  \n",
       "ASV_12   0      0      0      0  0     0       0    0      0  \n",
       "ASV_13   0      0      0      0  0     0       0    0      0  \n",
       "ASV_14   0      0      0      0  0     0       0    0      0  \n",
       "ASV_15   0      0      0      0  0     0       0    0      0  \n",
       "ASV_16   0      0      0      0  0     0       0    0      0  \n",
       "ASV_17   0      0      0     25  0     0       0    0      0  \n",
       "ASV_18   0      0      0      0  0     0     128    0      0  \n",
       "ASV_19   0     20      0      0  0     0       0    0      0  \n",
       "ASV_20   0      0      0      0  0     0       0    0      0  \n",
       "ASV_21   0      0      0      0  0     0       0    0      0  \n",
       "ASV_22   0      0      0      0  0     0       0    0      0  \n",
       "ASV_23   0      0      0      0  0     0       0    0      0  \n",
       "ASV_24   0      0      0      0  0     0       0    0      0  \n",
       "ASV_25   0      0      0   1197  0     0       0    0      0  \n",
       "ASV_26   0      0      0      0  0     0       0    0      0  \n",
       "ASV_27   0      0      0      0  0     0       0    0      0  \n",
       "ASV_28   0      0      0      0  0     0       0    0      0  \n",
       "ASV_30   0      0      0      0  0     0       0   21      0  \n",
       "ASV_31   0      0    471      0  0     0       0    0      0  \n",
       "...      ...   ...   ...   ...   ...   ...   ...   ...   ...  \n",
       "ASV_1399    0   0    0     0       0    0      0    0    0    \n",
       "ASV_1400    0   0    0     0       0    0      0    0    0    \n",
       "ASV_1401    0   0    0     0       0    0      0    0    0    \n",
       "ASV_1402    0   0    0     0       0    0      0    0    0    \n",
       "ASV_1403    0   0    0     0       0    0      0    0    0    \n",
       "ASV_1404    0   0    0     0       0    0      0    0    0    \n",
       "ASV_1405    0   0    0     0       0    0      0    0    0    \n",
       "ASV_1406    0   0    0     0       0    0      0   89    0    \n",
       "ASV_1407    0   0    0     0       0    0      0    0    0    \n",
       "ASV_1408    0   0    0     0       0    0      0    0    0    \n",
       "ASV_1409    0   0    0     0       0    6      0    0    0    \n",
       "ASV_1410    0   0    0     0       0    0      0    0    0    \n",
       "ASV_1411    0   0    0     0       0    0    119    0    0    \n",
       "ASV_1412    0   0    0     0       0   17      0    0    0    \n",
       "ASV_1413    0   0    0     0       0    0     91    0    0    \n",
       "ASV_1414 1843   0    0     0       0    0      0    0    0    \n",
       "ASV_1415    0   0    0     0     116    0      0    0    0    \n",
       "ASV_1416    0   0    0     0       0    0      0    0    0    \n",
       "ASV_1417    0   0    0     0       0    0      0    0    0    \n",
       "ASV_1418    0   0    0     0       0    0      0    0    0    \n",
       "ASV_1419    0   0    0     0       0    0      0    0    0    \n",
       "ASV_1420    0   0    0     0       0    0      0    0    0    \n",
       "ASV_1421    0   0    0     0       0    0      0    0    0    \n",
       "ASV_1422    0   0    0     0       0    0      0    0    0    \n",
       "ASV_1423    0  20    0     0       0    0      0    0    0    \n",
       "ASV_1424    0   0    0     0       0    0      0    0    0    \n",
       "ASV_1425    0   0    0     0       0    0      0    0    0    \n",
       "ASV_1426  167   0    0     0       0    0      0    0    0    \n",
       "ASV_1427    0   0    0     0       0    0      0    0    0    \n",
       "ASV_1428    0   0    0     0       0    0      0    0    0    "
      ]
     },
     "metadata": {},
     "output_type": "display_data"
    }
   ],
   "source": [
    "otu_table(phy)"
   ]
  },
  {
   "cell_type": "markdown",
   "metadata": {},
   "source": [
    "Here we can see that ASV_4 was not detected in sample S_034, but that 30 reads from sample S_036 was assigned to ASV_4, and so on."
   ]
  },
  {
   "cell_type": "markdown",
   "metadata": {},
   "source": [
    "We can subset specific taxa with the **object**[subset] notation"
   ]
  },
  {
   "cell_type": "code",
   "execution_count": 6,
   "metadata": {},
   "outputs": [
    {
     "data": {
      "text/html": [
       "<table>\n",
       "<thead><tr><th></th><th scope=col>S_027</th><th scope=col>S_028</th><th scope=col>S_031</th><th scope=col>S_034</th><th scope=col>S_036</th><th scope=col>S_038</th><th scope=col>S_039</th><th scope=col>S_040</th><th scope=col>S_041</th><th scope=col>S_042</th><th scope=col>...</th><th scope=col>S_080</th><th scope=col>S_086</th><th scope=col>S_087</th><th scope=col>S_090</th><th scope=col>S_099</th><th scope=col>S_102</th><th scope=col>S_104</th><th scope=col>S_108</th><th scope=col>S_110</th><th scope=col>S_148</th></tr></thead>\n",
       "<tbody>\n",
       "\t<tr><th scope=row>ASV_3</th><td>0  </td><td>0  </td><td>0  </td><td>0  </td><td>0  </td><td>0  </td><td>0  </td><td>0  </td><td>0  </td><td>0  </td><td>...</td><td>0  </td><td>0  </td><td>0  </td><td>0  </td><td>0  </td><td>0  </td><td>0  </td><td>0  </td><td>0  </td><td>0  </td></tr>\n",
       "</tbody>\n",
       "</table>\n"
      ],
      "text/latex": [
       "\\begin{tabular}{r|llllllllllllllllllllllllllllllllllllllllllllllllllllllllllllllllllllllllllllllllllllllllllllllllllllllllllllllllllllllllllllllllllllllllllllllllllllll}\n",
       "  & S\\_027 & S\\_028 & S\\_031 & S\\_034 & S\\_036 & S\\_038 & S\\_039 & S\\_040 & S\\_041 & S\\_042 & ... & S\\_080 & S\\_086 & S\\_087 & S\\_090 & S\\_099 & S\\_102 & S\\_104 & S\\_108 & S\\_110 & S\\_148\\\\\n",
       "\\hline\n",
       "\tASV\\_3 & 0   & 0   & 0   & 0   & 0   & 0   & 0   & 0   & 0   & 0   & ... & 0   & 0   & 0   & 0   & 0   & 0   & 0   & 0   & 0   & 0  \\\\\n",
       "\\end{tabular}\n"
      ],
      "text/markdown": [
       "\n",
       "| <!--/--> | S_027 | S_028 | S_031 | S_034 | S_036 | S_038 | S_039 | S_040 | S_041 | S_042 | ... | S_080 | S_086 | S_087 | S_090 | S_099 | S_102 | S_104 | S_108 | S_110 | S_148 |\n",
       "|---|---|---|---|---|---|---|---|---|---|---|---|---|---|---|---|---|---|---|---|---|---|\n",
       "| ASV_3 | 0   | 0   | 0   | 0   | 0   | 0   | 0   | 0   | 0   | 0   | ... | 0   | 0   | 0   | 0   | 0   | 0   | 0   | 0   | 0   | 0   |\n",
       "\n"
      ],
      "text/plain": [
       "      S_027 S_028 S_031 S_034 S_036 S_038 S_039 S_040 S_041 S_042 ... S_080\n",
       "ASV_3 0     0     0     0     0     0     0     0     0     0     ... 0    \n",
       "      S_086 S_087 S_090 S_099 S_102 S_104 S_108 S_110 S_148\n",
       "ASV_3 0     0     0     0     0     0     0     0     0    "
      ]
     },
     "metadata": {},
     "output_type": "display_data"
    }
   ],
   "source": [
    "otu_table(phy)[\"ASV_3\"]"
   ]
  },
  {
   "cell_type": "code",
   "execution_count": 7,
   "metadata": {},
   "outputs": [
    {
     "data": {
      "text/html": [
       "<table>\n",
       "<thead><tr><th></th><th scope=col>S_027</th><th scope=col>S_028</th><th scope=col>S_031</th><th scope=col>S_034</th><th scope=col>S_036</th><th scope=col>S_038</th><th scope=col>S_039</th><th scope=col>S_040</th><th scope=col>S_041</th><th scope=col>S_042</th><th scope=col>...</th><th scope=col>S_080</th><th scope=col>S_086</th><th scope=col>S_087</th><th scope=col>S_090</th><th scope=col>S_099</th><th scope=col>S_102</th><th scope=col>S_104</th><th scope=col>S_108</th><th scope=col>S_110</th><th scope=col>S_148</th></tr></thead>\n",
       "<tbody>\n",
       "\t<tr><th scope=row>ASV_2</th><td>0  </td><td>0  </td><td>0  </td><td>0  </td><td>0  </td><td>0  </td><td>0  </td><td>0  </td><td>0  </td><td>0  </td><td>...</td><td>0  </td><td>0  </td><td>19 </td><td>0  </td><td>0  </td><td>0  </td><td>0  </td><td>0  </td><td>0  </td><td>0  </td></tr>\n",
       "\t<tr><th scope=row>ASV_15</th><td>0  </td><td>0  </td><td>0  </td><td>0  </td><td>0  </td><td>0  </td><td>0  </td><td>0  </td><td>0  </td><td>0  </td><td>...</td><td>0  </td><td>0  </td><td> 0 </td><td>0  </td><td>0  </td><td>0  </td><td>0  </td><td>0  </td><td>0  </td><td>0  </td></tr>\n",
       "</tbody>\n",
       "</table>\n"
      ],
      "text/latex": [
       "\\begin{tabular}{r|llllllllllllllllllllllllllllllllllllllllllllllllllllllllllllllllllllllllllllllllllllllllllllllllllllllllllllllllllllllllllllllllllllllllllllllllllllll}\n",
       "  & S\\_027 & S\\_028 & S\\_031 & S\\_034 & S\\_036 & S\\_038 & S\\_039 & S\\_040 & S\\_041 & S\\_042 & ... & S\\_080 & S\\_086 & S\\_087 & S\\_090 & S\\_099 & S\\_102 & S\\_104 & S\\_108 & S\\_110 & S\\_148\\\\\n",
       "\\hline\n",
       "\tASV\\_2 & 0   & 0   & 0   & 0   & 0   & 0   & 0   & 0   & 0   & 0   & ... & 0   & 0   & 19  & 0   & 0   & 0   & 0   & 0   & 0   & 0  \\\\\n",
       "\tASV\\_15 & 0   & 0   & 0   & 0   & 0   & 0   & 0   & 0   & 0   & 0   & ... & 0   & 0   &  0  & 0   & 0   & 0   & 0   & 0   & 0   & 0  \\\\\n",
       "\\end{tabular}\n"
      ],
      "text/markdown": [
       "\n",
       "| <!--/--> | S_027 | S_028 | S_031 | S_034 | S_036 | S_038 | S_039 | S_040 | S_041 | S_042 | ... | S_080 | S_086 | S_087 | S_090 | S_099 | S_102 | S_104 | S_108 | S_110 | S_148 |\n",
       "|---|---|---|---|---|---|---|---|---|---|---|---|---|---|---|---|---|---|---|---|---|---|\n",
       "| ASV_2 | 0   | 0   | 0   | 0   | 0   | 0   | 0   | 0   | 0   | 0   | ... | 0   | 0   | 19  | 0   | 0   | 0   | 0   | 0   | 0   | 0   |\n",
       "| ASV_15 | 0   | 0   | 0   | 0   | 0   | 0   | 0   | 0   | 0   | 0   | ... | 0   | 0   |  0  | 0   | 0   | 0   | 0   | 0   | 0   | 0   |\n",
       "\n"
      ],
      "text/plain": [
       "       S_027 S_028 S_031 S_034 S_036 S_038 S_039 S_040 S_041 S_042 ... S_080\n",
       "ASV_2  0     0     0     0     0     0     0     0     0     0     ... 0    \n",
       "ASV_15 0     0     0     0     0     0     0     0     0     0     ... 0    \n",
       "       S_086 S_087 S_090 S_099 S_102 S_104 S_108 S_110 S_148\n",
       "ASV_2  0     19    0     0     0     0     0     0     0    \n",
       "ASV_15 0      0    0     0     0     0     0     0     0    "
      ]
     },
     "metadata": {},
     "output_type": "display_data"
    }
   ],
   "source": [
    "otu_table(phy)[c(\"ASV_2\", \"ASV_15\")]"
   ]
  },
  {
   "cell_type": "markdown",
   "metadata": {},
   "source": [
    "Similarly for samples by preceeding a , inside the [ ]. (For the sake of this tutoial, we use head() to only print the first 6 rows)"
   ]
  },
  {
   "cell_type": "code",
   "execution_count": 8,
   "metadata": {},
   "outputs": [
    {
     "data": {
      "text/html": [
       "<table>\n",
       "<thead><tr><th></th><th scope=col>S_006</th></tr></thead>\n",
       "<tbody>\n",
       "\t<tr><th scope=row>ASV_1</th><td>0</td></tr>\n",
       "\t<tr><th scope=row>ASV_2</th><td>0</td></tr>\n",
       "\t<tr><th scope=row>ASV_3</th><td>0</td></tr>\n",
       "\t<tr><th scope=row>ASV_4</th><td>0</td></tr>\n",
       "\t<tr><th scope=row>ASV_5</th><td>0</td></tr>\n",
       "\t<tr><th scope=row>ASV_6</th><td>0</td></tr>\n",
       "</tbody>\n",
       "</table>\n"
      ],
      "text/latex": [
       "\\begin{tabular}{r|l}\n",
       "  & S\\_006\\\\\n",
       "\\hline\n",
       "\tASV\\_1 & 0\\\\\n",
       "\tASV\\_2 & 0\\\\\n",
       "\tASV\\_3 & 0\\\\\n",
       "\tASV\\_4 & 0\\\\\n",
       "\tASV\\_5 & 0\\\\\n",
       "\tASV\\_6 & 0\\\\\n",
       "\\end{tabular}\n"
      ],
      "text/markdown": [
       "\n",
       "| <!--/--> | S_006 |\n",
       "|---|---|\n",
       "| ASV_1 | 0 |\n",
       "| ASV_2 | 0 |\n",
       "| ASV_3 | 0 |\n",
       "| ASV_4 | 0 |\n",
       "| ASV_5 | 0 |\n",
       "| ASV_6 | 0 |\n",
       "\n"
      ],
      "text/plain": [
       "      S_006\n",
       "ASV_1 0    \n",
       "ASV_2 0    \n",
       "ASV_3 0    \n",
       "ASV_4 0    \n",
       "ASV_5 0    \n",
       "ASV_6 0    "
      ]
     },
     "metadata": {},
     "output_type": "display_data"
    }
   ],
   "source": [
    "head(otu_table(phy)[, \"S_006\"])"
   ]
  },
  {
   "cell_type": "markdown",
   "metadata": {},
   "source": [
    "These operations can be combined:"
   ]
  },
  {
   "cell_type": "code",
   "execution_count": 9,
   "metadata": {},
   "outputs": [
    {
     "data": {
      "text/html": [
       "<table>\n",
       "<thead><tr><th></th><th scope=col>S_006</th><th scope=col>S_144</th></tr></thead>\n",
       "<tbody>\n",
       "\t<tr><th scope=row>ASV_2</th><td>0</td><td>0</td></tr>\n",
       "</tbody>\n",
       "</table>\n"
      ],
      "text/latex": [
       "\\begin{tabular}{r|ll}\n",
       "  & S\\_006 & S\\_144\\\\\n",
       "\\hline\n",
       "\tASV\\_2 & 0 & 0\\\\\n",
       "\\end{tabular}\n"
      ],
      "text/markdown": [
       "\n",
       "| <!--/--> | S_006 | S_144 |\n",
       "|---|---|---|\n",
       "| ASV_2 | 0 | 0 |\n",
       "\n"
      ],
      "text/plain": [
       "      S_006 S_144\n",
       "ASV_2 0     0    "
      ]
     },
     "metadata": {},
     "output_type": "display_data"
    }
   ],
   "source": [
    "otu_table(phy)[\"ASV_2\", c(\"S_006\", \"S_144\")]"
   ]
  },
  {
   "cell_type": "markdown",
   "metadata": {},
   "source": [
    "## sample_data<a class=\"anchor\" id=\"samp\"></a>\n",
    "The sample_data object contains metadata for our samples. We can access it with the sample_data() function. (For the sake of this tutoial, we use head() to only print the first 6 rows)"
   ]
  },
  {
   "cell_type": "code",
   "execution_count": 10,
   "metadata": {},
   "outputs": [
    {
     "data": {
      "text/html": [
       "<table>\n",
       "<thead><tr><th></th><th scope=col>Patient</th><th scope=col>Time</th><th scope=col>Delivery</th></tr></thead>\n",
       "<tbody>\n",
       "\t<tr><th scope=row>S_027</th><td>e22   </td><td>1w    </td><td>Normal</td></tr>\n",
       "\t<tr><th scope=row>S_028</th><td>e57   </td><td>1w    </td><td>Normal</td></tr>\n",
       "\t<tr><th scope=row>S_031</th><td>0eb   </td><td>1w    </td><td>Normal</td></tr>\n",
       "\t<tr><th scope=row>S_034</th><td>2d7   </td><td>1w    </td><td>Normal</td></tr>\n",
       "\t<tr><th scope=row>S_036</th><td>751   </td><td>1w    </td><td>Normal</td></tr>\n",
       "\t<tr><th scope=row>S_038</th><td>d7c   </td><td>1w    </td><td>Normal</td></tr>\n",
       "</tbody>\n",
       "</table>\n"
      ],
      "text/latex": [
       "\\begin{tabular}{r|lll}\n",
       "  & Patient & Time & Delivery\\\\\n",
       "\\hline\n",
       "\tS\\_027 & e22    & 1w     & Normal\\\\\n",
       "\tS\\_028 & e57    & 1w     & Normal\\\\\n",
       "\tS\\_031 & 0eb    & 1w     & Normal\\\\\n",
       "\tS\\_034 & 2d7    & 1w     & Normal\\\\\n",
       "\tS\\_036 & 751    & 1w     & Normal\\\\\n",
       "\tS\\_038 & d7c    & 1w     & Normal\\\\\n",
       "\\end{tabular}\n"
      ],
      "text/markdown": [
       "\n",
       "| <!--/--> | Patient | Time | Delivery |\n",
       "|---|---|---|---|\n",
       "| S_027 | e22    | 1w     | Normal |\n",
       "| S_028 | e57    | 1w     | Normal |\n",
       "| S_031 | 0eb    | 1w     | Normal |\n",
       "| S_034 | 2d7    | 1w     | Normal |\n",
       "| S_036 | 751    | 1w     | Normal |\n",
       "| S_038 | d7c    | 1w     | Normal |\n",
       "\n"
      ],
      "text/plain": [
       "      Patient Time Delivery\n",
       "S_027 e22     1w   Normal  \n",
       "S_028 e57     1w   Normal  \n",
       "S_031 0eb     1w   Normal  \n",
       "S_034 2d7     1w   Normal  \n",
       "S_036 751     1w   Normal  \n",
       "S_038 d7c     1w   Normal  "
      ]
     },
     "metadata": {},
     "output_type": "display_data"
    }
   ],
   "source": [
    "head(sample_data(phy))"
   ]
  },
  {
   "cell_type": "markdown",
   "metadata": {},
   "source": [
    "We can subset it in the same way as we did with the otu_table."
   ]
  },
  {
   "cell_type": "code",
   "execution_count": 11,
   "metadata": {},
   "outputs": [
    {
     "data": {
      "text/html": [
       "<table>\n",
       "<thead><tr><th></th><th scope=col>Patient</th><th scope=col>Time</th><th scope=col>Delivery</th></tr></thead>\n",
       "<tbody>\n",
       "\t<tr><th scope=row>S_001</th><td>e22   </td><td>1m    </td><td>Normal</td></tr>\n",
       "</tbody>\n",
       "</table>\n"
      ],
      "text/latex": [
       "\\begin{tabular}{r|lll}\n",
       "  & Patient & Time & Delivery\\\\\n",
       "\\hline\n",
       "\tS\\_001 & e22    & 1m     & Normal\\\\\n",
       "\\end{tabular}\n"
      ],
      "text/markdown": [
       "\n",
       "| <!--/--> | Patient | Time | Delivery |\n",
       "|---|---|---|---|\n",
       "| S_001 | e22    | 1m     | Normal |\n",
       "\n"
      ],
      "text/plain": [
       "      Patient Time Delivery\n",
       "S_001 e22     1m   Normal  "
      ]
     },
     "metadata": {},
     "output_type": "display_data"
    }
   ],
   "source": [
    "sample_data(phy)[\"S_001\",]"
   ]
  },
  {
   "cell_type": "code",
   "execution_count": 12,
   "metadata": {},
   "outputs": [
    {
     "data": {
      "text/html": [
       "<table>\n",
       "<thead><tr><th></th><th scope=col>Patient</th><th scope=col>Time</th></tr></thead>\n",
       "<tbody>\n",
       "\t<tr><th scope=row>S_002</th><td>e57</td><td>1m </td></tr>\n",
       "\t<tr><th scope=row>S_150</th><td>c42</td><td>1m </td></tr>\n",
       "</tbody>\n",
       "</table>\n"
      ],
      "text/latex": [
       "\\begin{tabular}{r|ll}\n",
       "  & Patient & Time\\\\\n",
       "\\hline\n",
       "\tS\\_002 & e57 & 1m \\\\\n",
       "\tS\\_150 & c42 & 1m \\\\\n",
       "\\end{tabular}\n"
      ],
      "text/markdown": [
       "\n",
       "| <!--/--> | Patient | Time |\n",
       "|---|---|---|\n",
       "| S_002 | e57 | 1m  |\n",
       "| S_150 | c42 | 1m  |\n",
       "\n"
      ],
      "text/plain": [
       "      Patient Time\n",
       "S_002 e57     1m  \n",
       "S_150 c42     1m  "
      ]
     },
     "metadata": {},
     "output_type": "display_data"
    }
   ],
   "source": [
    "sample_data(phy)[c(\"S_002\", \"S_150\"), c(\"Patient\", \"Time\")]"
   ]
  },
  {
   "cell_type": "markdown",
   "metadata": {},
   "source": [
    "## tax_table<a class=\"anchor\" id=\"tax\"></a>"
   ]
  },
  {
   "cell_type": "markdown",
   "metadata": {},
   "source": [
    "The tax_table contains the taxonomical annotations of our taxa/ASVs. \n",
    "It can optionally also contain other metadata on our taxa/ASVs.\n",
    "We can access it with the tax_table() function.\n",
    "\n",
    "Subsetting is done as with the other objects"
   ]
  },
  {
   "cell_type": "code",
   "execution_count": 13,
   "metadata": {},
   "outputs": [
    {
     "data": {
      "text/html": [
       "<table>\n",
       "<thead><tr><th></th><th scope=col>Kingdom</th><th scope=col>Phylum</th><th scope=col>Class</th><th scope=col>Order</th><th scope=col>Family</th><th scope=col>Genus</th><th scope=col>asv_hash</th></tr></thead>\n",
       "<tbody>\n",
       "\t<tr><th scope=row>ASV_1</th><td>Bacteria                        </td><td>Lentisphaerae                   </td><td>Lentisphaeria                   </td><td>Victivallales                   </td><td>Victivallaceae                  </td><td>Victivallis                     </td><td>445e7db900b2da8cd3545bd36e512f51</td></tr>\n",
       "\t<tr><th scope=row>ASV_10</th><td>Bacteria                        </td><td>Fusobacteria                    </td><td>Fusobacteriia                   </td><td>Fusobacteriales                 </td><td>Fusobacteriaceae                </td><td>Fusobacterium                   </td><td>2ea17744c7eeab459b7f41d4f9e22894</td></tr>\n",
       "</tbody>\n",
       "</table>\n"
      ],
      "text/latex": [
       "\\begin{tabular}{r|lllllll}\n",
       "  & Kingdom & Phylum & Class & Order & Family & Genus & asv\\_hash\\\\\n",
       "\\hline\n",
       "\tASV\\_1 & Bacteria                         & Lentisphaerae                    & Lentisphaeria                    & Victivallales                    & Victivallaceae                   & Victivallis                      & 445e7db900b2da8cd3545bd36e512f51\\\\\n",
       "\tASV\\_10 & Bacteria                         & Fusobacteria                     & Fusobacteriia                    & Fusobacteriales                  & Fusobacteriaceae                 & Fusobacterium                    & 2ea17744c7eeab459b7f41d4f9e22894\\\\\n",
       "\\end{tabular}\n"
      ],
      "text/markdown": [
       "\n",
       "| <!--/--> | Kingdom | Phylum | Class | Order | Family | Genus | asv_hash |\n",
       "|---|---|---|---|---|---|---|---|\n",
       "| ASV_1 | Bacteria                         | Lentisphaerae                    | Lentisphaeria                    | Victivallales                    | Victivallaceae                   | Victivallis                      | 445e7db900b2da8cd3545bd36e512f51 |\n",
       "| ASV_10 | Bacteria                         | Fusobacteria                     | Fusobacteriia                    | Fusobacteriales                  | Fusobacteriaceae                 | Fusobacterium                    | 2ea17744c7eeab459b7f41d4f9e22894 |\n",
       "\n"
      ],
      "text/plain": [
       "       Kingdom  Phylum        Class         Order           Family          \n",
       "ASV_1  Bacteria Lentisphaerae Lentisphaeria Victivallales   Victivallaceae  \n",
       "ASV_10 Bacteria Fusobacteria  Fusobacteriia Fusobacteriales Fusobacteriaceae\n",
       "       Genus         asv_hash                        \n",
       "ASV_1  Victivallis   445e7db900b2da8cd3545bd36e512f51\n",
       "ASV_10 Fusobacterium 2ea17744c7eeab459b7f41d4f9e22894"
      ]
     },
     "metadata": {},
     "output_type": "display_data"
    }
   ],
   "source": [
    "tax_table(phy)[c(\"ASV_1\", \"ASV_10\")]"
   ]
  },
  {
   "cell_type": "markdown",
   "metadata": {},
   "source": [
    "## phy_tree<a class=\"anchor\" id=\"tree\"></a>"
   ]
  },
  {
   "cell_type": "markdown",
   "metadata": {},
   "source": [
    "The phy_tree contains our phylogenetic tree, constructed from an aligment of the 16S rRNA gene sequences of our ASVs. We can access it with the phy_tree() function."
   ]
  },
  {
   "cell_type": "code",
   "execution_count": 14,
   "metadata": {},
   "outputs": [
    {
     "data": {
      "text/plain": [
       "\n",
       "Phylogenetic tree with 1417 tips and 1414 internal nodes.\n",
       "\n",
       "Tip labels:\n",
       "\tASV_1, ASV_2, ASV_3, ASV_4, ASV_5, ASV_6, ...\n",
       "Node labels:\n",
       "\troot, , 0.860, 0.887, 0.879, 0.994, ...\n",
       "\n",
       "Rooted; includes branch lengths."
      ]
     },
     "metadata": {},
     "output_type": "display_data"
    }
   ],
   "source": [
    "phy_tree(phy)"
   ]
  },
  {
   "cell_type": "markdown",
   "metadata": {},
   "source": [
    "This prints some basic info about our tree, which we can access with the $ notation"
   ]
  },
  {
   "cell_type": "code",
   "execution_count": 15,
   "metadata": {},
   "outputs": [
    {
     "data": {
      "text/html": [
       "<ol class=list-inline>\n",
       "\t<li>'ASV_1'</li>\n",
       "\t<li>'ASV_2'</li>\n",
       "\t<li>'ASV_3'</li>\n",
       "\t<li>'ASV_4'</li>\n",
       "\t<li>'ASV_5'</li>\n",
       "\t<li>'ASV_6'</li>\n",
       "\t<li>'ASV_7'</li>\n",
       "\t<li>'ASV_8'</li>\n",
       "\t<li>'ASV_9'</li>\n",
       "\t<li>'ASV_10'</li>\n",
       "</ol>\n"
      ],
      "text/latex": [
       "\\begin{enumerate*}\n",
       "\\item 'ASV\\_1'\n",
       "\\item 'ASV\\_2'\n",
       "\\item 'ASV\\_3'\n",
       "\\item 'ASV\\_4'\n",
       "\\item 'ASV\\_5'\n",
       "\\item 'ASV\\_6'\n",
       "\\item 'ASV\\_7'\n",
       "\\item 'ASV\\_8'\n",
       "\\item 'ASV\\_9'\n",
       "\\item 'ASV\\_10'\n",
       "\\end{enumerate*}\n"
      ],
      "text/markdown": [
       "1. 'ASV_1'\n",
       "2. 'ASV_2'\n",
       "3. 'ASV_3'\n",
       "4. 'ASV_4'\n",
       "5. 'ASV_5'\n",
       "6. 'ASV_6'\n",
       "7. 'ASV_7'\n",
       "8. 'ASV_8'\n",
       "9. 'ASV_9'\n",
       "10. 'ASV_10'\n",
       "\n",
       "\n"
      ],
      "text/plain": [
       " [1] \"ASV_1\"  \"ASV_2\"  \"ASV_3\"  \"ASV_4\"  \"ASV_5\"  \"ASV_6\"  \"ASV_7\"  \"ASV_8\" \n",
       " [9] \"ASV_9\"  \"ASV_10\""
      ]
     },
     "metadata": {},
     "output_type": "display_data"
    }
   ],
   "source": [
    "# The 10 first labels:\n",
    "phy_tree(phy)$tip.label[1:10]"
   ]
  },
  {
   "cell_type": "markdown",
   "metadata": {},
   "source": [
    "and we can plot it (*cex* sets the size of the labels):"
   ]
  },
  {
   "cell_type": "code",
   "execution_count": 16,
   "metadata": {},
   "outputs": [
    {
     "data": {
      "image/png": "[encoded data removed]",
      "text/plain": [
       "plot without title"
      ]
     },
     "metadata": {},
     "output_type": "display_data"
    }
   ],
   "source": [
    "plot(phy_tree(phy), cex = 0.5)"
   ]
  },
  {
   "cell_type": "markdown",
   "metadata": {},
   "source": [
    "## refseq<a class=\"anchor\" id=\"seq\"></a>\n",
    "refseq contains the actual DNA sequences of our ASVs (or alternatively the reference sequences of OTUs). We can access it with the refseq() function."
   ]
  },
  {
   "cell_type": "code",
   "execution_count": 17,
   "metadata": {},
   "outputs": [
    {
     "data": {
      "text/plain": [
       "  A DNAStringSet instance of length 1417\n",
       "       width seq                                            names               \n",
       "   [1]   237 TGGCGAGCGTTGTTCGGATTTA...GAAAGACGAAAGCATGGGGAG ASV_1\n",
       "   [2]   236 TCACAAGCGTTATCCGGATTTA...GAAGCGCGAAAGCGTGGGTAG ASV_2\n",
       "   [3]   236 TCACAAGCGTTATCCGGATTTA...GAAGCGCGAAAGCGTGGGTAG ASV_3\n",
       "   [4]   236 TCACAAGCGTTATCCGGATTTA...GAAGCGCGAAAGCGTGGGTAG ASV_4\n",
       "   [5]   236 TCACAAGCGTTATCCGGATTTA...GAAGCGCGAAAGCGTGGGTAG ASV_5\n",
       "   ...   ... ...\n",
       "[1413]   237 GGGCAAGCGTTATCCGGATTTA...GAGGCTCGAAAGCGTGGGGAG ASV_1424\n",
       "[1414]   237 GGGCAAGCGTTATCCGGATTTA...GAGGCTCGAAAGCGTGGGGAG ASV_1425\n",
       "[1415]   237 GGGCAAGCGTTATCCGGATTTA...GAGGCTCGAAAGCGTGGGGAG ASV_1426\n",
       "[1416]   237 GGGCAAGCGTTATCCGGATTTA...GAGGCTCGAAAGCGTGGGGAG ASV_1427\n",
       "[1417]   237 GGGCAAGCGTTATCCGGATTTA...GAGGCTCGAAAGCGTGGGGAG ASV_1428"
      ]
     },
     "metadata": {},
     "output_type": "display_data"
    }
   ],
   "source": [
    "refseq(phy)"
   ]
  },
  {
   "cell_type": "markdown",
   "metadata": {},
   "source": [
    "Again, we can subset with the [ ] notation"
   ]
  },
  {
   "cell_type": "code",
   "execution_count": 18,
   "metadata": {},
   "outputs": [
    {
     "data": {
      "text/plain": [
       "  A DNAStringSet instance of length 1\n",
       "    width seq                                               names               \n",
       "[1]   237 TGGCGAGCGTTGTTCGGATTTAT...CTGAAAGACGAAAGCATGGGGAG ASV_1"
      ]
     },
     "metadata": {},
     "output_type": "display_data"
    }
   ],
   "source": [
    "refseq(phy)[\"ASV_1\"]"
   ]
  },
  {
   "cell_type": "markdown",
   "metadata": {},
   "source": [
    "To see the entire sequence, convert it to a string (\"character\" in R jargon)"
   ]
  },
  {
   "cell_type": "code",
   "execution_count": 19,
   "metadata": {},
   "outputs": [
    {
     "data": {
      "text/html": [
       "<dl class=dl-horizontal>\n",
       "\t<dt>ASV_10</dt>\n",
       "\t\t<dd>'TCACAAGCGTTATCCGGATTTATTGGGCGTAAAGCGCGTCTAGGTGGTTATGTAAGTCTGATGTGAAAATGCAGGGCTCAACTCTGTATTGCGTTGGAAACTGCATGACTAGAGTACTGGAGAGGTAAGCGGAACTACAAGTGTAGAGGTGAAATTCGTAGATATTTGTAGGAATGCCGATGGGGAAGCCAGCTTACTGGACAGATACTGACGCTAAAGCGCGAAAGCGTGGGTAG'</dd>\n",
       "\t<dt>ASV_2</dt>\n",
       "\t\t<dd>'TCACAAGCGTTATCCGGATTTATTGGGCGTAAAGCGCGTCTAGGTGGTTATATAAGTCTGATGTGAAAATGCAGGGCTCAACTCTGTATTGCGTTGGAAACTGTGTAACTAGAGTACTGGAGAGGTAAGCGGAACTACAAGTGTAGAGGTGAAATTCGTAGATATTTGTAGGAATGCCGATGGGGAAGCCAGCTTACTGGACAGATACTGACGCTGAAGCGCGAAAGCGTGGGTAG'</dd>\n",
       "</dl>\n"
      ],
      "text/latex": [
       "\\begin{description*}\n",
       "\\item[ASV\\textbackslash{}\\_10] 'TCACAAGCGTTATCCGGATTTATTGGGCGTAAAGCGCGTCTAGGTGGTTATGTAAGTCTGATGTGAAAATGCAGGGCTCAACTCTGTATTGCGTTGGAAACTGCATGACTAGAGTACTGGAGAGGTAAGCGGAACTACAAGTGTAGAGGTGAAATTCGTAGATATTTGTAGGAATGCCGATGGGGAAGCCAGCTTACTGGACAGATACTGACGCTAAAGCGCGAAAGCGTGGGTAG'\n",
       "\\item[ASV\\textbackslash{}\\_2] 'TCACAAGCGTTATCCGGATTTATTGGGCGTAAAGCGCGTCTAGGTGGTTATATAAGTCTGATGTGAAAATGCAGGGCTCAACTCTGTATTGCGTTGGAAACTGTGTAACTAGAGTACTGGAGAGGTAAGCGGAACTACAAGTGTAGAGGTGAAATTCGTAGATATTTGTAGGAATGCCGATGGGGAAGCCAGCTTACTGGACAGATACTGACGCTGAAGCGCGAAAGCGTGGGTAG'\n",
       "\\end{description*}\n"
      ],
      "text/markdown": [
       "ASV_10\n",
       ":   'TCACAAGCGTTATCCGGATTTATTGGGCGTAAAGCGCGTCTAGGTGGTTATGTAAGTCTGATGTGAAAATGCAGGGCTCAACTCTGTATTGCGTTGGAAACTGCATGACTAGAGTACTGGAGAGGTAAGCGGAACTACAAGTGTAGAGGTGAAATTCGTAGATATTTGTAGGAATGCCGATGGGGAAGCCAGCTTACTGGACAGATACTGACGCTAAAGCGCGAAAGCGTGGGTAG'ASV_2\n",
       ":   'TCACAAGCGTTATCCGGATTTATTGGGCGTAAAGCGCGTCTAGGTGGTTATATAAGTCTGATGTGAAAATGCAGGGCTCAACTCTGTATTGCGTTGGAAACTGTGTAACTAGAGTACTGGAGAGGTAAGCGGAACTACAAGTGTAGAGGTGAAATTCGTAGATATTTGTAGGAATGCCGATGGGGAAGCCAGCTTACTGGACAGATACTGACGCTGAAGCGCGAAAGCGTGGGTAG'\n",
       "\n"
      ],
      "text/plain": [
       "                                                                                                                                                                                                                                        ASV_10 \n",
       "\"TCACAAGCGTTATCCGGATTTATTGGGCGTAAAGCGCGTCTAGGTGGTTATGTAAGTCTGATGTGAAAATGCAGGGCTCAACTCTGTATTGCGTTGGAAACTGCATGACTAGAGTACTGGAGAGGTAAGCGGAACTACAAGTGTAGAGGTGAAATTCGTAGATATTTGTAGGAATGCCGATGGGGAAGCCAGCTTACTGGACAGATACTGACGCTAAAGCGCGAAAGCGTGGGTAG\" \n",
       "                                                                                                                                                                                                                                         ASV_2 \n",
       "\"TCACAAGCGTTATCCGGATTTATTGGGCGTAAAGCGCGTCTAGGTGGTTATATAAGTCTGATGTGAAAATGCAGGGCTCAACTCTGTATTGCGTTGGAAACTGTGTAACTAGAGTACTGGAGAGGTAAGCGGAACTACAAGTGTAGAGGTGAAATTCGTAGATATTTGTAGGAATGCCGATGGGGAAGCCAGCTTACTGGACAGATACTGACGCTGAAGCGCGAAAGCGTGGGTAG\" "
      ]
     },
     "metadata": {},
     "output_type": "display_data"
    }
   ],
   "source": [
    "as.character(refseq(phy)[c(\"ASV_10\", \"ASV_2\")])"
   ]
  },
  {
   "cell_type": "code",
   "execution_count": null,
   "metadata": {},
   "outputs": [],
   "source": []
  }
 ],
 "metadata": {
  "kernelspec": {
   "display_name": "R",
   "language": "R",
   "name": "ir"
  },
  "language_info": {
   "codemirror_mode": "r",
   "file_extension": ".r",
   "mimetype": "text/x-r-source",
   "name": "R",
   "pygments_lexer": "r",
   "version": "3.6.1"
  }
 },
 "nbformat": 4,
 "nbformat_minor": 2
}
