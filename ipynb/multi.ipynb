{
 "cells": [
  {
   "cell_type": "markdown",
   "metadata": {},
   "source": [
    "# Multiple correction"
   ]
  },
  {
   "cell_type": "markdown",
   "metadata": {},
   "source": [
    "If we wanted to know which taxa were associated with a certain variable in our dataset, we could conduct a test for each taxa, one by one, and check the p-value. All the ones with low p-values (<0.05) we would call significantly associated with our variable. The problem is that the p-value is misleading when conducting multiple statistical tests. If the Null Hypothesis (H0) is true the p-value is expected to be anywhere between 0 and 1 (uniform distribution). As such, if enough statistical tests are conducted, some (~5%) of the p-values will, by chance, be lower than 0.05, even if there are no true associations in the data.\n",
    "\n",
    "Therefore, when conducting multiple tests it is best practice to adjust the p-values.\n",
    "\n",
    "### Getting in-depth:\n",
    "* [This paper](https://www.nature.com/articles/nmeth.2900) explains the concept of multiple correction in-depth for a non-statistical reader.\n",
    "* [This paper](https://www.nature.com/articles/nmeth.4120) goes further into interpretation of p-values when many tests are conducted."
   ]
  },
  {
   "cell_type": "markdown",
   "metadata": {},
   "source": [
    "### Simulation\n",
    "Let's try to simulate some random data, and see how the p-value look like."
   ]
  },
  {
   "cell_type": "code",
   "execution_count": 1,
   "metadata": {},
   "outputs": [
    {
     "data": {
      "text/html": [
       "<ol class=list-inline>\n",
       "\t<li>0.1896231175583</li>\n",
       "\t<li>0.343192617061056</li>\n",
       "\t<li>-0.639514815854891</li>\n",
       "\t<li>-0.177844249708566</li>\n",
       "\t<li>0.412621527903008</li>\n",
       "\t<li>-0.40763002124982</li>\n",
       "\t<li>-1.37194815003488</li>\n",
       "\t<li>-0.746991473247294</li>\n",
       "\t<li>-0.102182780358529</li>\n",
       "\t<li>-0.34138074771322</li>\n",
       "\t<li>0.286103124913779</li>\n",
       "\t<li>-0.74566922411082</li>\n",
       "\t<li>-0.0175347784658954</li>\n",
       "\t<li>1.04465208465475</li>\n",
       "\t<li>-0.296964142052866</li>\n",
       "\t<li>0.244704531987884</li>\n",
       "\t<li>-0.372233012639495</li>\n",
       "\t<li>0.15926402143357</li>\n",
       "\t<li>-0.45830828624451</li>\n",
       "\t<li>-1.30092569136799</li>\n",
       "</ol>\n"
      ],
      "text/latex": [
       "\\begin{enumerate*}\n",
       "\\item 0.1896231175583\n",
       "\\item 0.343192617061056\n",
       "\\item -0.639514815854891\n",
       "\\item -0.177844249708566\n",
       "\\item 0.412621527903008\n",
       "\\item -0.40763002124982\n",
       "\\item -1.37194815003488\n",
       "\\item -0.746991473247294\n",
       "\\item -0.102182780358529\n",
       "\\item -0.34138074771322\n",
       "\\item 0.286103124913779\n",
       "\\item -0.74566922411082\n",
       "\\item -0.0175347784658954\n",
       "\\item 1.04465208465475\n",
       "\\item -0.296964142052866\n",
       "\\item 0.244704531987884\n",
       "\\item -0.372233012639495\n",
       "\\item 0.15926402143357\n",
       "\\item -0.45830828624451\n",
       "\\item -1.30092569136799\n",
       "\\end{enumerate*}\n"
      ],
      "text/markdown": [
       "1. 0.1896231175583\n",
       "2. 0.343192617061056\n",
       "3. -0.639514815854891\n",
       "4. -0.177844249708566\n",
       "5. 0.412621527903008\n",
       "6. -0.40763002124982\n",
       "7. -1.37194815003488\n",
       "8. -0.746991473247294\n",
       "9. -0.102182780358529\n",
       "10. -0.34138074771322\n",
       "11. 0.286103124913779\n",
       "12. -0.74566922411082\n",
       "13. -0.0175347784658954\n",
       "14. 1.04465208465475\n",
       "15. -0.296964142052866\n",
       "16. 0.244704531987884\n",
       "17. -0.372233012639495\n",
       "18. 0.15926402143357\n",
       "19. -0.45830828624451\n",
       "20. -1.30092569136799\n",
       "\n",
       "\n"
      ],
      "text/plain": [
       " [1]  0.18962312  0.34319262 -0.63951482 -0.17784425  0.41262153 -0.40763002\n",
       " [7] -1.37194815 -0.74699147 -0.10218278 -0.34138075  0.28610312 -0.74566922\n",
       "[13] -0.01753478  1.04465208 -0.29696414  0.24470453 -0.37223301  0.15926402\n",
       "[19] -0.45830829 -1.30092569"
      ]
     },
     "metadata": {},
     "output_type": "display_data"
    }
   ],
   "source": [
    "# We use the rnorm() function to generate random normally distributed data with a mean of 0 and standard deviation of 1\n",
    "# Here is an example with 20 random (normallly distributed) numbers:\n",
    "rnorm(20)"
   ]
  },
  {
   "cell_type": "markdown",
   "metadata": {},
   "source": [
    "If we do a t-test comparing two randomlly created sets of numbers, they should not be significantly different (at least 95% of the time)."
   ]
  },
  {
   "cell_type": "code",
   "execution_count": 2,
   "metadata": {},
   "outputs": [
    {
     "data": {
      "text/plain": [
       "\n",
       "\tWelch Two Sample t-test\n",
       "\n",
       "data:  rnorm(20) and rnorm(20)\n",
       "t = 1.2044, df = 36.976, p-value = 0.2361\n",
       "alternative hypothesis: true difference in means is not equal to 0\n",
       "95 percent confidence interval:\n",
       " -0.3158495  1.2416732\n",
       "sample estimates:\n",
       " mean of x  mean of y \n",
       " 0.1919200 -0.2709918 \n"
      ]
     },
     "metadata": {},
     "output_type": "display_data"
    }
   ],
   "source": [
    "# Set seed (for reproducibility)\n",
    "set.seed(42)\n",
    "\n",
    "t.test(rnorm(20), rnorm(20))"
   ]
  },
  {
   "cell_type": "markdown",
   "metadata": {},
   "source": [
    "As expected, not significant. However, let's try to do this 10000 times, and plot a histogram of the p-values:"
   ]
  },
  {
   "cell_type": "code",
   "execution_count": 3,
   "metadata": {},
   "outputs": [],
   "source": [
    "# Set seed (for reproducibility)\n",
    "set.seed(42)\n",
    "\n",
    "# 10000 t-tests with random data\n",
    "random_ttests <- sapply(1:10000, function(x) t.test(rnorm(20), rnorm(20))$p.value)"
   ]
  },
  {
   "cell_type": "code",
   "execution_count": 4,
   "metadata": {},
   "outputs": [
    {
     "data": {
      "image/png": "[encoded data removed]",
      "text/plain": [
       "Plot with title \"Histogram of random_ttests\""
      ]
     },
     "metadata": {},
     "output_type": "display_data"
    }
   ],
   "source": [
    "# Histogram\n",
    "hist(random_ttests, breaks = 20)"
   ]
  },
  {
   "cell_type": "markdown",
   "metadata": {},
   "source": [
    "Let's count how many of the p-values are below 0.05:"
   ]
  },
  {
   "cell_type": "code",
   "execution_count": 5,
   "metadata": {},
   "outputs": [
    {
     "data": {
      "text/html": [
       "0.0483"
      ],
      "text/latex": [
       "0.0483"
      ],
      "text/markdown": [
       "0.0483"
      ],
      "text/plain": [
       "[1] 0.0483"
      ]
     },
     "metadata": {},
     "output_type": "display_data"
    }
   ],
   "source": [
    "sum(random_ttests <= 0.05)/length(random_ttests)"
   ]
  },
  {
   "cell_type": "markdown",
   "metadata": {},
   "source": [
    "Around 5% of the p-values are lower than 0.05"
   ]
  },
  {
   "cell_type": "markdown",
   "metadata": {},
   "source": [
    "### FDR correction\n",
    "The most common way to adjust the p-values for this problem in the microbiome field is to control the False Discovery Rate (FDR) with method developed by Benjamini and Hochberg (BH), see details on this method in the paper linked above. Assuming a cutoff of 0.05 for assigning statistical significance, then for the orginal p-values we accept a 5% chance of falsely denoting **a single test** significant even though it is not. With the FDR correction we accept that 5% of **all the tests we call significant** are not truely significant.\n",
    "\n",
    "#### In R:"
   ]
  },
  {
   "cell_type": "code",
   "execution_count": 6,
   "metadata": {},
   "outputs": [],
   "source": [
    "adjusted_pvals <- p.adjust(random_ttests, method = \"BH\")"
   ]
  },
  {
   "cell_type": "code",
   "execution_count": 7,
   "metadata": {},
   "outputs": [
    {
     "data": {
      "image/png": "[encoded data removed]",
      "text/plain": [
       "Plot with title \"Histogram of adjusted_pvals\""
      ]
     },
     "metadata": {},
     "output_type": "display_data"
    }
   ],
   "source": [
    "# Histogram\n",
    "hist(adjusted_pvals)"
   ]
  },
  {
   "cell_type": "markdown",
   "metadata": {},
   "source": [
    "All adjusted p-values are close to 1 (not significant)"
   ]
  },
  {
   "cell_type": "markdown",
   "metadata": {},
   "source": [
    "##### Let's try to add a single t-test which should be significant and check if it is still significant after adjustment"
   ]
  },
  {
   "cell_type": "code",
   "execution_count": 8,
   "metadata": {},
   "outputs": [
    {
     "name": "stdout",
     "output_type": "stream",
     "text": [
      "[1] \"Original p-value:\"\n"
     ]
    },
    {
     "data": {
      "text/html": [
       "1.67203944302941e-08"
      ],
      "text/latex": [
       "1.67203944302941e-08"
      ],
      "text/markdown": [
       "1.67203944302941e-08"
      ],
      "text/plain": [
       "[1] 1.672039e-08"
      ]
     },
     "metadata": {},
     "output_type": "display_data"
    },
    {
     "name": "stdout",
     "output_type": "stream",
     "text": [
      "[1] \"FDR-adjusted p-value:\"\n"
     ]
    },
    {
     "data": {
      "text/html": [
       "0.000167220664697372"
      ],
      "text/latex": [
       "0.000167220664697372"
      ],
      "text/markdown": [
       "0.000167220664697372"
      ],
      "text/plain": [
       "[1] 0.0001672207"
      ]
     },
     "metadata": {},
     "output_type": "display_data"
    }
   ],
   "source": [
    "# Set seed (for reproducibility)\n",
    "set.seed(4)\n",
    "\n",
    "# Low p-value\n",
    "ttest_sig <- t.test(rnorm(20, mean = 0), rnorm(20, mean = 2))$p.value\n",
    "\n",
    "# Append to the 10000 p-values\n",
    "random_ttests_plus1 <- c(random_ttests, ttest_sig)\n",
    "\n",
    "# Adjust p-values\n",
    "adjusted_pvals_plus1 <- p.adjust(random_ttests_plus1, method = \"BH\")\n",
    "\n",
    "# Print\n",
    "print(\"Original p-value:\")\n",
    "ttest_sig\n",
    "print(\"FDR-adjusted p-value:\")\n",
    "adjusted_pvals_plus1[length(adjusted_pvals_plus1)]"
   ]
  },
  {
   "cell_type": "markdown",
   "metadata": {},
   "source": [
    "The p-value is higher, but still significant."
   ]
  },
  {
   "cell_type": "markdown",
   "metadata": {},
   "source": [
    "### FWER correction\n",
    "A simpler correction than BH is the Bonferroni correction. It is rarely used in the microbiome field, as it is much more strict and less powerful, but it is common in the field of **G**enome-**w**ide **a**ssociation **s**tudies (GWAS).\n",
    "\n",
    "FWER is the abbreviation for **F**amily**w**ise **e**rror **r**ate, and it is the rate at which we find **at least 1** false positive among a series of hypothesis tests. With Bonferroni we simply multiply all p-values with the number of tests that were conducted\n",
    "\n",
    "#### In R:"
   ]
  },
  {
   "cell_type": "code",
   "execution_count": 10,
   "metadata": {},
   "outputs": [
    {
     "name": "stdout",
     "output_type": "stream",
     "text": [
      "[1] \"FWER-adjusted p-value:\"\n"
     ]
    },
    {
     "data": {
      "text/html": [
       "0.000167220664697372"
      ],
      "text/latex": [
       "0.000167220664697372"
      ],
      "text/markdown": [
       "0.000167220664697372"
      ],
      "text/plain": [
       "[1] 0.0001672207"
      ]
     },
     "metadata": {},
     "output_type": "display_data"
    }
   ],
   "source": [
    "# Adjust p-values\n",
    "adjusted_pvals_plus1_FWER <- p.adjust(random_ttests_plus1, method = \"bonferroni\")\n",
    "\n",
    "print(\"FWER-adjusted p-value:\")\n",
    "adjusted_pvals_plus1_FWER[length(adjusted_pvals_plus1_FWER)]"
   ]
  },
  {
   "cell_type": "markdown",
   "metadata": {},
   "source": [
    "In this rare case with only 1 highly significant test among of series of random tests, the FDR and FWER correction results in the same adjusted p-value, but in most real-world cases the FWER correction will result in higher adjusted p-values."
   ]
  }
 ],
 "metadata": {
  "kernelspec": {
   "display_name": "R",
   "language": "R",
   "name": "ir"
  },
  "language_info": {
   "codemirror_mode": "r",
   "file_extension": ".r",
   "mimetype": "text/x-r-source",
   "name": "R",
   "pygments_lexer": "r",
   "version": "3.6.3"
  }
 },
 "nbformat": 4,
 "nbformat_minor": 2
}
