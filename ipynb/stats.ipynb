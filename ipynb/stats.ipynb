{
 "cells": [
  {
   "cell_type": "markdown",
   "metadata": {},
   "source": [
    "# Statistics summary\n",
    "This notebook is a brief introduction to various statistical analyses commonly used for amplicon data analysis - including some basic theory, links to more in-depth explanations, how to run them in R, and how to ensure the assumptions hold.\n",
    "\n",
    "### Getting more in-depth\n",
    "Excellent introductions to various statistical concepts and analysis can be found in a [Nature Methods collection of 2-page letters aimed at biologists](https://www.nature.com/collections/qghhqm/pointsofsignificance).\n",
    "\n",
    "The first paper, [Importance of being uncertain](http://www.nature.com/doifinder/10.1038/nmeth.2613), is a must read for anyone new to statistics."
   ]
  },
  {
   "cell_type": "markdown",
   "metadata": {},
   "source": [
    "# Contents\n",
    "* [Example datasets](#data)\n",
    "* [Two sample T-test](#t-test)\n",
    "* [Wilcoxon Rank Sum test](#wilcoxon)\n",
    "* [Paired two-sample tests](#paired)\n",
    "* [Correlation](#correlation)\n",
    "* [Linear regression](#regression)\n",
    "* [ANOVA](#anova)\n",
    "* [Linear model](#linear_model)\n",
    "* [Homogeneity of variance](#variance)"
   ]
  },
  {
   "cell_type": "code",
   "execution_count": 1,
   "metadata": {},
   "outputs": [],
   "source": [
    "# Load packages\n",
    "library(ggplot2) # Plotting"
   ]
  },
  {
   "cell_type": "markdown",
   "metadata": {},
   "source": [
    "# Example datasets<a class=\"anchor\" id=\"data\"></a>\n",
    "**mtcars:** The data was extracted from the 1974 Motor Trend US magazine, and comprises fuel consumption and 10 aspects of automobile design and performance for 32 automobiles"
   ]
  },
  {
   "cell_type": "code",
   "execution_count": 2,
   "metadata": {},
   "outputs": [],
   "source": [
    "data(mtcars)"
   ]
  },
  {
   "cell_type": "markdown",
   "metadata": {},
   "source": [
    "**pairedData**: A data.frame with randomly generated paired data"
   ]
  },
  {
   "cell_type": "code",
   "execution_count": 3,
   "metadata": {},
   "outputs": [],
   "source": [
    "# Set seed (for reproducibility when doing things that involves randomness)\n",
    "set.seed(42)\n",
    "# Set number of samples\n",
    "nSamples <- 10\n",
    "# Build data.frame with random measurements\n",
    "pairedData <- data.frame(sampletime = c(rep(\"before\", nSamples), rep(\"after\", nSamples)),\n",
    "                        subject = rep(LETTERS[1:nSamples], 2),\n",
    "                         measurement = rnorm(nSamples * 2))\n",
    "# Shuffle data.frame\n",
    "pairedData <- pairedData[sample(1:nrow(pairedData)), ]"
   ]
  },
  {
   "cell_type": "markdown",
   "metadata": {},
   "source": [
    "# Two sample T-test <a class=\"anchor\" id=\"t-test\"></a>\n",
    "The two-sample t-test is used for comparing the means of two samples; for example comparing a control condition with a treatment.\n",
    "\n",
    "### Assumptions\n",
    "1. Samples are uncorrelated. This is the most crucial assumption: Samples should be independent. If the samples are paired, for example with before and after measurements, or in other ways correlated one-to-one, use the paired t-test.\n",
    "\n",
    "2. Samples come from a population that have an approximately normal shape. It is quite robust to deviations, but will have higher chance of false positives/negatives with highly non-normal distributions. Transformations (e.g. log transform) can sometimes solve this problem.\n",
    "\n",
    "3. Variance is equal in the two samples. The t-test is however robust to deviations from this assumption. In R the default t-test is the Welch variant, which solves the problem of unequal variances from unequal sample sizes.\n",
    "\n",
    "### In R\n",
    "Let's compare the engine displacement of cars with automatic transmission (am = 1) compared to manual transmission (am = 0)\n",
    "\n",
    "First plot boxplots:"
   ]
  },
  {
   "cell_type": "code",
   "execution_count": 4,
   "metadata": {
    "scrolled": false
   },
   "outputs": [
    {
     "data": {
      "image/png": "[encoded data removed]",
      "text/plain": [
       "plot without title"
      ]
     },
     "metadata": {},
     "output_type": "display_data"
    }
   ],
   "source": [
    "ggplot(mtcars, aes(factor(am), disp)) + geom_boxplot()"
   ]
  },
  {
   "cell_type": "markdown",
   "metadata": {},
   "source": [
    "Then run the t-test:"
   ]
  },
  {
   "cell_type": "code",
   "execution_count": 5,
   "metadata": {},
   "outputs": [
    {
     "data": {
      "text/plain": [
       "\n",
       "\tWelch Two Sample t-test\n",
       "\n",
       "data:  disp by am\n",
       "t = 4.1977, df = 29.258, p-value = 0.00023\n",
       "alternative hypothesis: true difference in means is not equal to 0\n",
       "95 percent confidence interval:\n",
       "  75.32779 218.36857\n",
       "sample estimates:\n",
       "mean in group 0 mean in group 1 \n",
       "       290.3789        143.5308 \n"
      ]
     },
     "metadata": {},
     "output_type": "display_data"
    }
   ],
   "source": [
    "t.test(disp ~ am, data = mtcars) "
   ]
  },
  {
   "cell_type": "markdown",
   "metadata": {},
   "source": [
    "We can see that the average displacement in cars with manual transmission (group 0) is 290, and in cars with automatic transmission (group 1) is 144. This difference is significant with a p-value of 0.00023. The difference between the two is between 75 and 218 (95% confidence interval)"
   ]
  },
  {
   "cell_type": "markdown",
   "metadata": {},
   "source": [
    "# Wilcoxon Rank Sum test <a class=\"anchor\" id=\"wilcoxon\"></a>\n",
    "The Wilcoxon Rank Sum test is used to compare the medians of two samples, similar to a two sample t-test. This test is however non-parametric and therefore has (almost) no assumptions on the distributions of the populations. It is less powerful than the t-test, especially for small (n<10) sample sizes.\n",
    "\n",
    "### Assumptions\n",
    "1. Similar to the t-test, the samples should be uncorrelated and independent. A paired version of this test is the Wilcoxon Signed Rank test.\n",
    "\n",
    "2. The two samples should come from populations with approximately similar shape. \n",
    "\n",
    "### In R:\n",
    "Let's compare the engine displacement of cars with automatic transmission (am = 1) compared to manual transmission (am = 0)"
   ]
  },
  {
   "cell_type": "code",
   "execution_count": 6,
   "metadata": {},
   "outputs": [
    {
     "name": "stderr",
     "output_type": "stream",
     "text": [
      "Warning message in wilcox.test.default(x = c(258, 360, 225, 360, 146.7, 140.8, 167.6, :\n",
      "\"cannot compute exact p-value with ties\""
     ]
    },
    {
     "data": {
      "text/plain": [
       "\n",
       "\tWilcoxon rank sum test with continuity correction\n",
       "\n",
       "data:  disp by am\n",
       "W = 214, p-value = 0.0005493\n",
       "alternative hypothesis: true location shift is not equal to 0\n"
      ]
     },
     "metadata": {},
     "output_type": "display_data"
    }
   ],
   "source": [
    "wilcox.test(disp ~ am, data = mtcars) "
   ]
  },
  {
   "cell_type": "markdown",
   "metadata": {},
   "source": [
    "We can see that the average displacement in cars with manual transmission (group 0) is different than in cars with automatic transmission (group 1) a p-value of 0.0005493. The warnings tells us that some displacement values are similar, which means the p-value is an approximation. This is not problematic unless there are many ties."
   ]
  },
  {
   "cell_type": "markdown",
   "metadata": {},
   "source": [
    "# Paired two sample tests <a class=\"anchor\" id=\"paired\"></a>\n",
    "If samples are paired, a paired test should be used. This should be used with for example before and after measurements on the same subjects. See the above two sections for assumptions.\n",
    "\n",
    "In R it is crucial that the observations are in correct order, as the samples are paired according to the input order.\n",
    "\n",
    "### Ordering data in R"
   ]
  },
  {
   "cell_type": "markdown",
   "metadata": {},
   "source": [
    "If we look at the dataset, we can see that it is not ordered according to the subject, as it should:"
   ]
  },
  {
   "cell_type": "code",
   "execution_count": 7,
   "metadata": {},
   "outputs": [
    {
     "data": {
      "text/html": [
       "<table>\n",
       "<thead><tr><th></th><th scope=col>sampletime</th><th scope=col>subject</th><th scope=col>measurement</th></tr></thead>\n",
       "<tbody>\n",
       "\t<tr><th scope=row>11</th><td>after      </td><td>A          </td><td> 1.30486965</td></tr>\n",
       "\t<tr><th scope=row>15</th><td>after      </td><td>E          </td><td>-0.13332134</td></tr>\n",
       "\t<tr><th scope=row>8</th><td>before     </td><td>H          </td><td>-0.09465904</td></tr>\n",
       "\t<tr><th scope=row>4</th><td>before     </td><td>D          </td><td> 0.63286260</td></tr>\n",
       "\t<tr><th scope=row>17</th><td>after      </td><td>G          </td><td>-0.28425292</td></tr>\n",
       "\t<tr><th scope=row>6</th><td>before     </td><td>F          </td><td>-0.10612452</td></tr>\n",
       "\t<tr><th scope=row>2</th><td>before     </td><td>B          </td><td>-0.56469817</td></tr>\n",
       "\t<tr><th scope=row>13</th><td>after      </td><td>C          </td><td>-1.38886070</td></tr>\n",
       "\t<tr><th scope=row>12</th><td>after      </td><td>B          </td><td> 2.28664539</td></tr>\n",
       "\t<tr><th scope=row>5</th><td>before     </td><td>E          </td><td> 0.40426832</td></tr>\n",
       "\t<tr><th scope=row>16</th><td>after      </td><td>F          </td><td> 0.63595040</td></tr>\n",
       "\t<tr><th scope=row>14</th><td>after      </td><td>D          </td><td>-0.27878877</td></tr>\n",
       "\t<tr><th scope=row>18</th><td>after      </td><td>H          </td><td>-2.65645542</td></tr>\n",
       "\t<tr><th scope=row>9</th><td>before     </td><td>I          </td><td> 2.01842371</td></tr>\n",
       "\t<tr><th scope=row>3</th><td>before     </td><td>C          </td><td> 0.36312841</td></tr>\n",
       "\t<tr><th scope=row>1</th><td>before     </td><td>A          </td><td> 1.37095845</td></tr>\n",
       "\t<tr><th scope=row>20</th><td>after      </td><td>J          </td><td> 1.32011335</td></tr>\n",
       "\t<tr><th scope=row>7</th><td>before     </td><td>G          </td><td> 1.51152200</td></tr>\n",
       "\t<tr><th scope=row>19</th><td>after      </td><td>I          </td><td>-2.44046693</td></tr>\n",
       "\t<tr><th scope=row>10</th><td>before     </td><td>J          </td><td>-0.06271410</td></tr>\n",
       "</tbody>\n",
       "</table>\n"
      ],
      "text/latex": [
       "\\begin{tabular}{r|lll}\n",
       "  & sampletime & subject & measurement\\\\\n",
       "\\hline\n",
       "\t11 & after       & A           &  1.30486965\\\\\n",
       "\t15 & after       & E           & -0.13332134\\\\\n",
       "\t8 & before      & H           & -0.09465904\\\\\n",
       "\t4 & before      & D           &  0.63286260\\\\\n",
       "\t17 & after       & G           & -0.28425292\\\\\n",
       "\t6 & before      & F           & -0.10612452\\\\\n",
       "\t2 & before      & B           & -0.56469817\\\\\n",
       "\t13 & after       & C           & -1.38886070\\\\\n",
       "\t12 & after       & B           &  2.28664539\\\\\n",
       "\t5 & before      & E           &  0.40426832\\\\\n",
       "\t16 & after       & F           &  0.63595040\\\\\n",
       "\t14 & after       & D           & -0.27878877\\\\\n",
       "\t18 & after       & H           & -2.65645542\\\\\n",
       "\t9 & before      & I           &  2.01842371\\\\\n",
       "\t3 & before      & C           &  0.36312841\\\\\n",
       "\t1 & before      & A           &  1.37095845\\\\\n",
       "\t20 & after       & J           &  1.32011335\\\\\n",
       "\t7 & before      & G           &  1.51152200\\\\\n",
       "\t19 & after       & I           & -2.44046693\\\\\n",
       "\t10 & before      & J           & -0.06271410\\\\\n",
       "\\end{tabular}\n"
      ],
      "text/markdown": [
       "\n",
       "| <!--/--> | sampletime | subject | measurement |\n",
       "|---|---|---|---|\n",
       "| 11 | after       | A           |  1.30486965 |\n",
       "| 15 | after       | E           | -0.13332134 |\n",
       "| 8 | before      | H           | -0.09465904 |\n",
       "| 4 | before      | D           |  0.63286260 |\n",
       "| 17 | after       | G           | -0.28425292 |\n",
       "| 6 | before      | F           | -0.10612452 |\n",
       "| 2 | before      | B           | -0.56469817 |\n",
       "| 13 | after       | C           | -1.38886070 |\n",
       "| 12 | after       | B           |  2.28664539 |\n",
       "| 5 | before      | E           |  0.40426832 |\n",
       "| 16 | after       | F           |  0.63595040 |\n",
       "| 14 | after       | D           | -0.27878877 |\n",
       "| 18 | after       | H           | -2.65645542 |\n",
       "| 9 | before      | I           |  2.01842371 |\n",
       "| 3 | before      | C           |  0.36312841 |\n",
       "| 1 | before      | A           |  1.37095845 |\n",
       "| 20 | after       | J           |  1.32011335 |\n",
       "| 7 | before      | G           |  1.51152200 |\n",
       "| 19 | after       | I           | -2.44046693 |\n",
       "| 10 | before      | J           | -0.06271410 |\n",
       "\n"
      ],
      "text/plain": [
       "   sampletime subject measurement\n",
       "11 after      A        1.30486965\n",
       "15 after      E       -0.13332134\n",
       "8  before     H       -0.09465904\n",
       "4  before     D        0.63286260\n",
       "17 after      G       -0.28425292\n",
       "6  before     F       -0.10612452\n",
       "2  before     B       -0.56469817\n",
       "13 after      C       -1.38886070\n",
       "12 after      B        2.28664539\n",
       "5  before     E        0.40426832\n",
       "16 after      F        0.63595040\n",
       "14 after      D       -0.27878877\n",
       "18 after      H       -2.65645542\n",
       "9  before     I        2.01842371\n",
       "3  before     C        0.36312841\n",
       "1  before     A        1.37095845\n",
       "20 after      J        1.32011335\n",
       "7  before     G        1.51152200\n",
       "19 after      I       -2.44046693\n",
       "10 before     J       -0.06271410"
      ]
     },
     "metadata": {},
     "output_type": "display_data"
    }
   ],
   "source": [
    "pairedData"
   ]
  },
  {
   "cell_type": "markdown",
   "metadata": {},
   "source": [
    "Let's order it by subject:"
   ]
  },
  {
   "cell_type": "code",
   "execution_count": 8,
   "metadata": {},
   "outputs": [
    {
     "data": {
      "text/html": [
       "<table>\n",
       "<thead><tr><th></th><th scope=col>sampletime</th><th scope=col>subject</th><th scope=col>measurement</th></tr></thead>\n",
       "<tbody>\n",
       "\t<tr><th scope=row>11</th><td>after      </td><td>A          </td><td> 1.30486965</td></tr>\n",
       "\t<tr><th scope=row>1</th><td>before     </td><td>A          </td><td> 1.37095845</td></tr>\n",
       "\t<tr><th scope=row>2</th><td>before     </td><td>B          </td><td>-0.56469817</td></tr>\n",
       "\t<tr><th scope=row>12</th><td>after      </td><td>B          </td><td> 2.28664539</td></tr>\n",
       "\t<tr><th scope=row>13</th><td>after      </td><td>C          </td><td>-1.38886070</td></tr>\n",
       "\t<tr><th scope=row>3</th><td>before     </td><td>C          </td><td> 0.36312841</td></tr>\n",
       "\t<tr><th scope=row>4</th><td>before     </td><td>D          </td><td> 0.63286260</td></tr>\n",
       "\t<tr><th scope=row>14</th><td>after      </td><td>D          </td><td>-0.27878877</td></tr>\n",
       "\t<tr><th scope=row>15</th><td>after      </td><td>E          </td><td>-0.13332134</td></tr>\n",
       "\t<tr><th scope=row>5</th><td>before     </td><td>E          </td><td> 0.40426832</td></tr>\n",
       "\t<tr><th scope=row>6</th><td>before     </td><td>F          </td><td>-0.10612452</td></tr>\n",
       "\t<tr><th scope=row>16</th><td>after      </td><td>F          </td><td> 0.63595040</td></tr>\n",
       "\t<tr><th scope=row>17</th><td>after      </td><td>G          </td><td>-0.28425292</td></tr>\n",
       "\t<tr><th scope=row>7</th><td>before     </td><td>G          </td><td> 1.51152200</td></tr>\n",
       "\t<tr><th scope=row>8</th><td>before     </td><td>H          </td><td>-0.09465904</td></tr>\n",
       "\t<tr><th scope=row>18</th><td>after      </td><td>H          </td><td>-2.65645542</td></tr>\n",
       "\t<tr><th scope=row>9</th><td>before     </td><td>I          </td><td> 2.01842371</td></tr>\n",
       "\t<tr><th scope=row>19</th><td>after      </td><td>I          </td><td>-2.44046693</td></tr>\n",
       "\t<tr><th scope=row>20</th><td>after      </td><td>J          </td><td> 1.32011335</td></tr>\n",
       "\t<tr><th scope=row>10</th><td>before     </td><td>J          </td><td>-0.06271410</td></tr>\n",
       "</tbody>\n",
       "</table>\n"
      ],
      "text/latex": [
       "\\begin{tabular}{r|lll}\n",
       "  & sampletime & subject & measurement\\\\\n",
       "\\hline\n",
       "\t11 & after       & A           &  1.30486965\\\\\n",
       "\t1 & before      & A           &  1.37095845\\\\\n",
       "\t2 & before      & B           & -0.56469817\\\\\n",
       "\t12 & after       & B           &  2.28664539\\\\\n",
       "\t13 & after       & C           & -1.38886070\\\\\n",
       "\t3 & before      & C           &  0.36312841\\\\\n",
       "\t4 & before      & D           &  0.63286260\\\\\n",
       "\t14 & after       & D           & -0.27878877\\\\\n",
       "\t15 & after       & E           & -0.13332134\\\\\n",
       "\t5 & before      & E           &  0.40426832\\\\\n",
       "\t6 & before      & F           & -0.10612452\\\\\n",
       "\t16 & after       & F           &  0.63595040\\\\\n",
       "\t17 & after       & G           & -0.28425292\\\\\n",
       "\t7 & before      & G           &  1.51152200\\\\\n",
       "\t8 & before      & H           & -0.09465904\\\\\n",
       "\t18 & after       & H           & -2.65645542\\\\\n",
       "\t9 & before      & I           &  2.01842371\\\\\n",
       "\t19 & after       & I           & -2.44046693\\\\\n",
       "\t20 & after       & J           &  1.32011335\\\\\n",
       "\t10 & before      & J           & -0.06271410\\\\\n",
       "\\end{tabular}\n"
      ],
      "text/markdown": [
       "\n",
       "| <!--/--> | sampletime | subject | measurement |\n",
       "|---|---|---|---|\n",
       "| 11 | after       | A           |  1.30486965 |\n",
       "| 1 | before      | A           |  1.37095845 |\n",
       "| 2 | before      | B           | -0.56469817 |\n",
       "| 12 | after       | B           |  2.28664539 |\n",
       "| 13 | after       | C           | -1.38886070 |\n",
       "| 3 | before      | C           |  0.36312841 |\n",
       "| 4 | before      | D           |  0.63286260 |\n",
       "| 14 | after       | D           | -0.27878877 |\n",
       "| 15 | after       | E           | -0.13332134 |\n",
       "| 5 | before      | E           |  0.40426832 |\n",
       "| 6 | before      | F           | -0.10612452 |\n",
       "| 16 | after       | F           |  0.63595040 |\n",
       "| 17 | after       | G           | -0.28425292 |\n",
       "| 7 | before      | G           |  1.51152200 |\n",
       "| 8 | before      | H           | -0.09465904 |\n",
       "| 18 | after       | H           | -2.65645542 |\n",
       "| 9 | before      | I           |  2.01842371 |\n",
       "| 19 | after       | I           | -2.44046693 |\n",
       "| 20 | after       | J           |  1.32011335 |\n",
       "| 10 | before      | J           | -0.06271410 |\n",
       "\n"
      ],
      "text/plain": [
       "   sampletime subject measurement\n",
       "11 after      A        1.30486965\n",
       "1  before     A        1.37095845\n",
       "2  before     B       -0.56469817\n",
       "12 after      B        2.28664539\n",
       "13 after      C       -1.38886070\n",
       "3  before     C        0.36312841\n",
       "4  before     D        0.63286260\n",
       "14 after      D       -0.27878877\n",
       "15 after      E       -0.13332134\n",
       "5  before     E        0.40426832\n",
       "6  before     F       -0.10612452\n",
       "16 after      F        0.63595040\n",
       "17 after      G       -0.28425292\n",
       "7  before     G        1.51152200\n",
       "8  before     H       -0.09465904\n",
       "18 after      H       -2.65645542\n",
       "9  before     I        2.01842371\n",
       "19 after      I       -2.44046693\n",
       "20 after      J        1.32011335\n",
       "10 before     J       -0.06271410"
      ]
     },
     "metadata": {},
     "output_type": "display_data"
    }
   ],
   "source": [
    "pairedDataOrder <- pairedData[order(pairedData$subject), ]\n",
    "pairedDataOrder"
   ]
  },
  {
   "cell_type": "markdown",
   "metadata": {},
   "source": [
    "### Paired t-test in R"
   ]
  },
  {
   "cell_type": "code",
   "execution_count": 9,
   "metadata": {},
   "outputs": [
    {
     "data": {
      "text/plain": [
       "\n",
       "\tPaired t-test\n",
       "\n",
       "data:  after and before\n",
       "t = -1.0742, df = 9, p-value = 0.3107\n",
       "alternative hypothesis: true difference in means is not equal to 0\n",
       "95 percent confidence interval:\n",
       " -2.2075921  0.7860851\n",
       "sample estimates:\n",
       "mean of the differences \n",
       "             -0.7107535 \n"
      ]
     },
     "metadata": {},
     "output_type": "display_data"
    }
   ],
   "source": [
    "before <- pairedDataOrder[pairedDataOrder$sampletime == \"before\", \"measurement\"]\n",
    "after <- pairedDataOrder[pairedDataOrder$sampletime == \"after\", \"measurement\"]\n",
    "\n",
    "t.test(after, before, paired = TRUE)"
   ]
  },
  {
   "cell_type": "markdown",
   "metadata": {},
   "source": [
    "The average difference between before and after measurements is -0.71 (-2.21 to 0.79, 95% CI) and this is not statistically significant, p-value = 0.3107. \n",
    "\n",
    "Also notice that we only have 9 degrees of freedom, despite having 20 observations in the input data.frame. This is because we have repeated measurements within subjects, and we actually only have 10 independent measurements. A paired t-test is therefore equivalent to finding the difference between before and after measuremnts and then running a one-sample t-test.\n",
    "\n",
    "#### Let's try the same analysis with a one-sample t-test:"
   ]
  },
  {
   "cell_type": "code",
   "execution_count": 10,
   "metadata": {},
   "outputs": [
    {
     "data": {
      "text/html": [
       "<ol class=list-inline>\n",
       "\t<li>-0.0660887929231833</li>\n",
       "\t<li>2.8513435640972</li>\n",
       "\t<li>-1.75198911244968</li>\n",
       "\t<li>-0.911651371778412</li>\n",
       "\t<li>-0.537589659534657</li>\n",
       "\t<li>0.742074914161558</li>\n",
       "\t<li>-1.79577491885501</li>\n",
       "\t<li>-2.56179638249168</li>\n",
       "\t<li>-4.45889064245256</li>\n",
       "\t<li>1.38282744478261</li>\n",
       "</ol>\n"
      ],
      "text/latex": [
       "\\begin{enumerate*}\n",
       "\\item -0.0660887929231833\n",
       "\\item 2.8513435640972\n",
       "\\item -1.75198911244968\n",
       "\\item -0.911651371778412\n",
       "\\item -0.537589659534657\n",
       "\\item 0.742074914161558\n",
       "\\item -1.79577491885501\n",
       "\\item -2.56179638249168\n",
       "\\item -4.45889064245256\n",
       "\\item 1.38282744478261\n",
       "\\end{enumerate*}\n"
      ],
      "text/markdown": [
       "1. -0.0660887929231833\n",
       "2. 2.8513435640972\n",
       "3. -1.75198911244968\n",
       "4. -0.911651371778412\n",
       "5. -0.537589659534657\n",
       "6. 0.742074914161558\n",
       "7. -1.79577491885501\n",
       "8. -2.56179638249168\n",
       "9. -4.45889064245256\n",
       "10. 1.38282744478261\n",
       "\n",
       "\n"
      ],
      "text/plain": [
       " [1] -0.06608879  2.85134356 -1.75198911 -0.91165137 -0.53758966  0.74207491\n",
       " [7] -1.79577492 -2.56179638 -4.45889064  1.38282744"
      ]
     },
     "metadata": {},
     "output_type": "display_data"
    }
   ],
   "source": [
    "# Find the difference\n",
    "difference <- after - before\n",
    "difference"
   ]
  },
  {
   "cell_type": "code",
   "execution_count": 11,
   "metadata": {},
   "outputs": [
    {
     "data": {
      "text/plain": [
       "\n",
       "\tOne Sample t-test\n",
       "\n",
       "data:  difference\n",
       "t = -1.0742, df = 9, p-value = 0.3107\n",
       "alternative hypothesis: true mean is not equal to 0\n",
       "95 percent confidence interval:\n",
       " -2.2075921  0.7860851\n",
       "sample estimates:\n",
       " mean of x \n",
       "-0.7107535 \n"
      ]
     },
     "metadata": {},
     "output_type": "display_data"
    }
   ],
   "source": [
    "# One-sample t-test\n",
    "t.test(difference, mu = 0)"
   ]
  },
  {
   "cell_type": "markdown",
   "metadata": {},
   "source": [
    "This result is exactly identical to the paired two-sample test."
   ]
  },
  {
   "cell_type": "markdown",
   "metadata": {},
   "source": [
    "### Challenge: \n",
    "Try to run the above analysis with a Wilcoxon Signed Rank test instead of the paired t-test."
   ]
  },
  {
   "cell_type": "markdown",
   "metadata": {},
   "source": [
    "# Correlation <a class=\"anchor\" id=\"correlation\"></a>\n",
    "It is advised to read [this excellent introduction on the difference between correlation, association, and causation](https://www.nature.com/articles/nmeth.3587).\n",
    "\n",
    "As the above paper states: *two variables are correlated when they display an increasing or decreasing trend*\n",
    "\n",
    "Correlation values range between 1 for perfect positive trend, 0 for no trend, to -1 for perfect negative trend. There are two types of correlation metrics that are typically used. Pearson's *r* and and Spearman's *rho*. Pearsons is used for linear trends. See collection of scatter plots and associated pearson correlations:"
   ]
  },
  {
   "cell_type": "markdown",
   "metadata": {},
   "source": [
    "![Pearson](../img/pearson.png)\n",
    "and Spearmans is used for monotonic trends. See the below graph from the Wikipedia page on Spearmans correlation:\n",
    "![Pearson vs Spearman](../img/spearman_pearson.png)"
   ]
  },
  {
   "cell_type": "markdown",
   "metadata": {},
   "source": [
    "### Assumptions\n",
    "Pearsons assume linearity between variables that both variables are (somewhat) normally distributed and homoscedastic. See [this section](#variance) for details.\n",
    "\n",
    "Spearmans assumes a monotonic trend between variables. A non-monotonic trend is for example a U-shape or ∩-shape when plotting the two variables in scatter plot as above."
   ]
  },
  {
   "cell_type": "markdown",
   "metadata": {},
   "source": [
    "### In R:"
   ]
  },
  {
   "cell_type": "markdown",
   "metadata": {},
   "source": [
    "Pearson's is calculated with the cor function. Here we find the correlation between horsepower and engine displacement from the car data:"
   ]
  },
  {
   "cell_type": "code",
   "execution_count": 12,
   "metadata": {},
   "outputs": [
    {
     "data": {
      "text/html": [
       "0.790948586369806"
      ],
      "text/latex": [
       "0.790948586369806"
      ],
      "text/markdown": [
       "0.790948586369806"
      ],
      "text/plain": [
       "[1] 0.7909486"
      ]
     },
     "metadata": {},
     "output_type": "display_data"
    }
   ],
   "source": [
    "cor(mtcars$disp, mtcars$hp)"
   ]
  },
  {
   "cell_type": "markdown",
   "metadata": {},
   "source": [
    "The order of the variables does not matter:"
   ]
  },
  {
   "cell_type": "code",
   "execution_count": 13,
   "metadata": {},
   "outputs": [
    {
     "data": {
      "text/html": [
       "0.790948586369806"
      ],
      "text/latex": [
       "0.790948586369806"
      ],
      "text/markdown": [
       "0.790948586369806"
      ],
      "text/plain": [
       "[1] 0.7909486"
      ]
     },
     "metadata": {},
     "output_type": "display_data"
    }
   ],
   "source": [
    "cor(mtcars$hp, mtcars$disp)"
   ]
  },
  {
   "cell_type": "markdown",
   "metadata": {},
   "source": [
    "Let's try the same with Spearman's correlation:"
   ]
  },
  {
   "cell_type": "code",
   "execution_count": 14,
   "metadata": {},
   "outputs": [
    {
     "data": {
      "text/html": [
       "0.851042626992907"
      ],
      "text/latex": [
       "0.851042626992907"
      ],
      "text/markdown": [
       "0.851042626992907"
      ],
      "text/plain": [
       "[1] 0.8510426"
      ]
     },
     "metadata": {},
     "output_type": "display_data"
    }
   ],
   "source": [
    "cor(mtcars$disp, mtcars$hp, method=\"spearman\")"
   ]
  },
  {
   "cell_type": "markdown",
   "metadata": {},
   "source": [
    "Spearman is basically a Pearson's correlation on ranked data:"
   ]
  },
  {
   "cell_type": "code",
   "execution_count": 15,
   "metadata": {},
   "outputs": [
    {
     "data": {
      "text/html": [
       "0.851042626992907"
      ],
      "text/latex": [
       "0.851042626992907"
      ],
      "text/markdown": [
       "0.851042626992907"
      ],
      "text/plain": [
       "[1] 0.8510426"
      ]
     },
     "metadata": {},
     "output_type": "display_data"
    }
   ],
   "source": [
    "cor(rank(mtcars$disp), rank(mtcars$hp))"
   ]
  },
  {
   "cell_type": "markdown",
   "metadata": {},
   "source": [
    "Let's make a plot to visualize the trend between the two variables:"
   ]
  },
  {
   "cell_type": "code",
   "execution_count": 16,
   "metadata": {},
   "outputs": [
    {
     "data": {
      "image/png": "[encoded data removed]",
      "text/plain": [
       "plot without title"
      ]
     },
     "metadata": {},
     "output_type": "display_data"
    }
   ],
   "source": [
    "plot(mtcars$disp, mtcars$hp)"
   ]
  },
  {
   "cell_type": "markdown",
   "metadata": {},
   "source": [
    "We can get p-values by using the cor.test function with the same input:"
   ]
  },
  {
   "cell_type": "code",
   "execution_count": 17,
   "metadata": {},
   "outputs": [
    {
     "data": {
      "text/plain": [
       "\n",
       "\tPearson's product-moment correlation\n",
       "\n",
       "data:  mtcars$disp and mtcars$hp\n",
       "t = 7.0801, df = 30, p-value = 7.143e-08\n",
       "alternative hypothesis: true correlation is not equal to 0\n",
       "95 percent confidence interval:\n",
       " 0.6106794 0.8932775\n",
       "sample estimates:\n",
       "      cor \n",
       "0.7909486 \n"
      ]
     },
     "metadata": {},
     "output_type": "display_data"
    }
   ],
   "source": [
    "cor.test(mtcars$disp, mtcars$hp)"
   ]
  },
  {
   "cell_type": "code",
   "execution_count": 18,
   "metadata": {},
   "outputs": [
    {
     "name": "stderr",
     "output_type": "stream",
     "text": [
      "Warning message in cor.test.default(mtcars$disp, mtcars$hp, method = \"spearman\"):\n",
      "\"Cannot compute exact p-value with ties\""
     ]
    },
    {
     "data": {
      "text/plain": [
       "\n",
       "\tSpearman's rank correlation rho\n",
       "\n",
       "data:  mtcars$disp and mtcars$hp\n",
       "S = 812.71, p-value = 6.791e-10\n",
       "alternative hypothesis: true rho is not equal to 0\n",
       "sample estimates:\n",
       "      rho \n",
       "0.8510426 \n"
      ]
     },
     "metadata": {},
     "output_type": "display_data"
    }
   ],
   "source": [
    "cor.test(mtcars$disp, mtcars$hp, method=\"spearman\")"
   ]
  },
  {
   "cell_type": "markdown",
   "metadata": {},
   "source": [
    "### Challenge:\n",
    "Spearmans is based on ranked data. Run the rank() function on the data to understand what this does to the data. Why is Spearman better suited than Pearson to data with outliers?"
   ]
  },
  {
   "cell_type": "markdown",
   "metadata": {},
   "source": [
    "# Linear regression <a class=\"anchor\" id=\"regression\"></a>"
   ]
  },
  {
   "cell_type": "markdown",
   "metadata": {},
   "source": [
    "In a simple linear regression we seek to find how changes in one continuous variable (X) impacts the estimation of another continuous variable (Y). In contrast to correlation, linear regression is asymmetrical, such that swapping X and Y will give a different result (the p-value would be the same however). It is based on the assumption that X is fixed (measured perfectly) and that Y is random (measured with error). Furthermore, it is based on the assumption that the residuals (distance between actual data points and the statistical model) are normally distributed. As with Pearsons correlation there is also an assumption of linearity and [homoscedasticity](#variance). "
   ]
  },
  {
   "cell_type": "markdown",
   "metadata": {},
   "source": [
    "### In R:"
   ]
  },
  {
   "cell_type": "markdown",
   "metadata": {},
   "source": [
    "Linear regression with engine displacement as indepedent (explanatory) variable and horsepower as dependent (response) variable.  "
   ]
  },
  {
   "cell_type": "code",
   "execution_count": 19,
   "metadata": {},
   "outputs": [
    {
     "data": {
      "text/plain": [
       "\n",
       "Call:\n",
       "lm(formula = hp ~ disp, data = mtcars)\n",
       "\n",
       "Residuals:\n",
       "    Min      1Q  Median      3Q     Max \n",
       "-48.623 -28.378  -6.558  13.588 157.562 \n",
       "\n",
       "Coefficients:\n",
       "            Estimate Std. Error t value Pr(>|t|)    \n",
       "(Intercept)  45.7345    16.1289   2.836  0.00811 ** \n",
       "disp          0.4375     0.0618   7.080 7.14e-08 ***\n",
       "---\n",
       "Signif. codes:  0 '***' 0.001 '**' 0.01 '*' 0.05 '.' 0.1 ' ' 1\n",
       "\n",
       "Residual standard error: 42.65 on 30 degrees of freedom\n",
       "Multiple R-squared:  0.6256,\tAdjusted R-squared:  0.6131 \n",
       "F-statistic: 50.13 on 1 and 30 DF,  p-value: 7.143e-08\n"
      ]
     },
     "metadata": {},
     "output_type": "display_data"
    }
   ],
   "source": [
    "# Save the model in the fit object\n",
    "fit <- lm(hp ~ disp, data = mtcars)\n",
    "\n",
    "# Get a summary of the model:\n",
    "summary(fit)"
   ]
  },
  {
   "cell_type": "markdown",
   "metadata": {},
   "source": [
    "The important output here are the coefficients and Adjusted R-squared (variance explained). There are two coefficients, one for the Intercept and one for the Y variable (disp). The Estimates are the *estimated* values of the coefficients. As such the model ($Y = a*X + b$) here is estimated as: $hp = 0.4375 * disp + 45.7345$. "
   ]
  },
  {
   "cell_type": "markdown",
   "metadata": {},
   "source": [
    "This result seems to fit with the plot above (see the Correlation section)."
   ]
  },
  {
   "cell_type": "markdown",
   "metadata": {},
   "source": [
    "The p-values (Pr(>|t|)) tests the hypothesis that the Estimate is zero. A low p-value therefore suggests that the Estimate is unlikely to be zero, given the assumptions of the linear regression. We can therefore see that the engine displacement is significantly associated with the horsepower. Also notice that the p-value is similar to the one from Pearson correlation. The adjusted R-squared tells us that our model *explains* 61.3% of the variance in the horsepower variable."
   ]
  },
  {
   "cell_type": "markdown",
   "metadata": {},
   "source": [
    "### Challenge:\n",
    "Based on the above linear model, what would our estimate of horsepower be for a car with an engine displacement of 200?"
   ]
  },
  {
   "cell_type": "markdown",
   "metadata": {},
   "source": [
    "### Check assumptions in R:"
   ]
  },
  {
   "cell_type": "markdown",
   "metadata": {},
   "source": [
    "The easiest way to check the assumptions of a linear regression is to plot the fitted model. This produces four plots, which should be used to ensure that the assumptions hold."
   ]
  },
  {
   "cell_type": "code",
   "execution_count": 20,
   "metadata": {},
   "outputs": [
    {
     "data": {
      "image/png": "[encoded data removed]",
      "text/plain": [
       "Plot with title \"\""
      ]
     },
     "metadata": {},
     "output_type": "display_data"
    }
   ],
   "source": [
    "par(mfrow=c(2,2)) # Plot in a 2x2 grid\n",
    "plot(fit)"
   ]
  },
  {
   "cell_type": "markdown",
   "metadata": {},
   "source": [
    "#### Residuals vs Fitted\n",
    "This plot should be used to check for non-linearities in the residuals. The red line should be approximately linear. This is to ensure that there is not some hidden non-linearity that our model does not capture.\n",
    "\n",
    "#### Normal Q-Q\n",
    "This plot should be used to check for normality of residuals. The points should approximately follow the line. If you are unsure how it should look, you can simulate random normally distributed data to get a feel of it. Try to run the below several times with different samples sizes and check the output:  \n",
    "`n_samples <- 20\n",
    "residuals_simulated <- rnorm(n_samples)\n",
    "qqnorm(residuals_simulated)\n",
    "qqline(residuals_simulated)`"
   ]
  },
  {
   "cell_type": "markdown",
   "metadata": {},
   "source": [
    "#### Scale-Location\n",
    "This plot should be used to check that residuals are [homoscedastistic](#variance). The points should have an equal spread across the range of fitted values. If, for example, points were further from each other at high fitted values than lower fitted values, it could help re-running the model with a log-transformed response variable.\n",
    "\n",
    "#### Residuals vs Leverage\n",
    "This plot should be used to identify outliers. The Cook's distance (dotted lines) measures the impact of a data point on a model, specifically how much the predicted estiamte of y would change if the data point was omitted from the model. An outlier is a data point which has a substantially higher Cook's distance than most of the other observations. We can see that the data point with the *Maserati Bora* is maybe an outlier, but Cook's distances below 1 are usually not a problem.\n",
    "\n",
    "If the above is unclear, details can be found in [this article](https://www.nature.com/articles/nmeth.3854)"
   ]
  },
  {
   "cell_type": "markdown",
   "metadata": {},
   "source": [
    "# ANOVA <a class=\"anchor\" id=\"anova\"></a>\n",
    "An ANOVA can be seen as an extension of a t-test. In the t-test you are only comparing two groups of samples. ANOVA is for variables with more than two groups. "
   ]
  },
  {
   "cell_type": "markdown",
   "metadata": {},
   "source": [
    "### Assumptions\n",
    "Assumptions are as with the linear regression, and should be checked in a similar way."
   ]
  },
  {
   "cell_type": "markdown",
   "metadata": {},
   "source": [
    "### In R:\n",
    "Let's check if cars with different number of gears have different horsepower:"
   ]
  },
  {
   "cell_type": "code",
   "execution_count": 21,
   "metadata": {},
   "outputs": [
    {
     "data": {
      "text/plain": [
       "            Df Sum Sq Mean Sq F value  Pr(>F)    \n",
       "gear         2  64213   32106   11.42 0.00022 ***\n",
       "Residuals   29  81514    2811                    \n",
       "---\n",
       "Signif. codes:  0 '***' 0.001 '**' 0.01 '*' 0.05 '.' 0.1 ' ' 1"
      ]
     },
     "metadata": {},
     "output_type": "display_data"
    }
   ],
   "source": [
    "mtcars$gear <- as.factor(mtcars$gear)\n",
    "\n",
    "# Define model\n",
    "fit <- aov(hp ~ gear, data = mtcars)\n",
    "\n",
    "# Get a summary of the model\n",
    "summary(fit)"
   ]
  },
  {
   "cell_type": "markdown",
   "metadata": {},
   "source": [
    "The number of gears seems to have an effect on the horsepower.\n",
    "#### Note on as.factor()\n",
    "We want to treat the 'gear' variable as categorical, which we tell R by converting it into a factor. This is crucial since this variable just consists of numbers (3, 4, or 5) and would by default therefore be treated as a continuous variable."
   ]
  },
  {
   "cell_type": "markdown",
   "metadata": {},
   "source": [
    "#### Multiple predictors in ANOVA\n",
    "It is possible to add multiple predictors to ANOVA's (they can be added with +'s on the right-hand side of the formula). It important to note that the default ANOVA in R is using Type I Sums of Squares (SS), hence the order of the predictors will produce different results (unless the design is fully factorial). See [this excellent blog](https://mcfromnz.wordpress.com/2011/03/02/anova-type-iiiiii-ss-explained/) for details on differences between Type I/II/III SS in ANOVA."
   ]
  },
  {
   "cell_type": "markdown",
   "metadata": {},
   "source": [
    "#### TukeyHSD post-hoc\n",
    "We can run a TukeyHSD to get all pairwise comparisons"
   ]
  },
  {
   "cell_type": "code",
   "execution_count": 22,
   "metadata": {},
   "outputs": [
    {
     "data": {
      "text/plain": [
       "  Tukey multiple comparisons of means\n",
       "    95% family-wise confidence level\n",
       "\n",
       "Fit: aov(formula = hp ~ gear, data = mtcars)\n",
       "\n",
       "$gear\n",
       "         diff        lwr       upr     p adj\n",
       "4-3 -86.63333 -137.34379 -35.92288 0.0006267\n",
       "5-3  19.46667  -48.14727  87.08061 0.7589758\n",
       "5-4 106.10000   36.40514 175.79486 0.0021447\n"
      ]
     },
     "metadata": {},
     "output_type": "display_data"
    }
   ],
   "source": [
    "fitTukey <- TukeyHSD(fit)\n",
    "fitTukey"
   ]
  },
  {
   "cell_type": "markdown",
   "metadata": {},
   "source": [
    "and we can see that cars with 4 gears have lower horsepower than cars with 3 or 5 gears.\n",
    "\n",
    "### Challenge:\n",
    "*p adj* are the P-values (TukeyHSD is adjusting them internally, hence the adj). Try to plot the *fitTukey* object to understand the remainder of the output. For example, how can we see in this output that cars with 4 gears have lower horsepower than those with 3 or 5 gears?"
   ]
  },
  {
   "cell_type": "markdown",
   "metadata": {},
   "source": [
    "# Linear model <a class=\"anchor\" id=\"linear_model\"></a>"
   ]
  },
  {
   "cell_type": "markdown",
   "metadata": {},
   "source": [
    "A linear model is a general term which includes both linear regression and ANOVA. A linear regression is for continuous indepedent variables and ANOVA is for categorical independent variables. A linear model can be used for both, and a combination of both. "
   ]
  },
  {
   "cell_type": "markdown",
   "metadata": {},
   "source": [
    "### Assumptions\n",
    "Assumptions are as with the linear regression, and should be checked in a similar way.\n",
    "\n",
    "Furthermore, if there are more than one independent variable, they should not correlate strongly. Correlated predictors is called collinearity and can highly skew the results ([See here for details](https://www.nature.com/articles/nmeth.3665))\n",
    "\n",
    "### In R:\n",
    "Let's try to run the same model, as for the ANOVA above."
   ]
  },
  {
   "cell_type": "code",
   "execution_count": 23,
   "metadata": {},
   "outputs": [
    {
     "data": {
      "text/plain": [
       "\n",
       "Call:\n",
       "lm(formula = hp ~ gear, data = mtcars)\n",
       "\n",
       "Residuals:\n",
       "     Min       1Q   Median       3Q      Max \n",
       "-104.600  -26.133    3.683   30.025  139.400 \n",
       "\n",
       "Coefficients:\n",
       "            Estimate Std. Error t value Pr(>|t|)    \n",
       "(Intercept)   176.13      13.69  12.867 1.63e-13 ***\n",
       "gear4         -86.63      20.53  -4.219  0.00022 ***\n",
       "gear5          19.47      27.38   0.711  0.48274    \n",
       "---\n",
       "Signif. codes:  0 '***' 0.001 '**' 0.01 '*' 0.05 '.' 0.1 ' ' 1\n",
       "\n",
       "Residual standard error: 53.02 on 29 degrees of freedom\n",
       "Multiple R-squared:  0.4406,\tAdjusted R-squared:  0.4021 \n",
       "F-statistic: 11.42 on 2 and 29 DF,  p-value: 0.0002196\n"
      ]
     },
     "metadata": {},
     "output_type": "display_data"
    }
   ],
   "source": [
    "# Define model\n",
    "fit <- lm(hp ~ gear, data = mtcars)\n",
    "\n",
    "# Get a summary of the model\n",
    "summary(fit)"
   ]
  },
  {
   "cell_type": "markdown",
   "metadata": {},
   "source": [
    "The \"gear\" variable is split into so-called dummy variables. The first category (3 gears) is set as the Intercept, and we get estimates for the other categories (4 gears and 5 gears). The values next to \"gear4\" is the difference between the Intercept (3 gears) and the 4 gear category. The values next to \"gear5\" is the difference between the Intercept (3 gears) and the 5 gear category."
   ]
  },
  {
   "cell_type": "markdown",
   "metadata": {},
   "source": [
    "#### Pairwise comparisons\n",
    "Similar to the ANOVA where we ran TukeyHSD, we can get comparisons between all pairs of categories for a linear model. For this we use the multcomp package:"
   ]
  },
  {
   "cell_type": "code",
   "execution_count": 24,
   "metadata": {},
   "outputs": [
    {
     "name": "stderr",
     "output_type": "stream",
     "text": [
      "Loading required package: mvtnorm\n",
      "Loading required package: survival\n",
      "Loading required package: TH.data\n",
      "Loading required package: MASS\n",
      "\n",
      "Attaching package: 'TH.data'\n",
      "\n",
      "The following object is masked from 'package:MASS':\n",
      "\n",
      "    geyser\n",
      "\n"
     ]
    },
    {
     "data": {
      "text/plain": [
       "\n",
       "\t Simultaneous Tests for General Linear Hypotheses\n",
       "\n",
       "Multiple Comparisons of Means: Tukey Contrasts\n",
       "\n",
       "\n",
       "Fit: lm(formula = hp ~ gear, data = mtcars)\n",
       "\n",
       "Linear Hypotheses:\n",
       "           Estimate Std. Error t value Pr(>|t|)    \n",
       "4 - 3 == 0   -86.63      20.53  -4.219  < 0.001 ***\n",
       "5 - 3 == 0    19.47      27.38   0.711  0.75635    \n",
       "5 - 4 == 0   106.10      28.22   3.760  0.00207 ** \n",
       "---\n",
       "Signif. codes:  0 '***' 0.001 '**' 0.01 '*' 0.05 '.' 0.1 ' ' 1\n",
       "(Adjusted p values reported -- single-step method)\n"
      ]
     },
     "metadata": {},
     "output_type": "display_data"
    }
   ],
   "source": [
    "library(multcomp)\n",
    "summary(glht(fit, linfct=mcp(gear=\"Tukey\")))"
   ]
  },
  {
   "cell_type": "markdown",
   "metadata": {},
   "source": [
    "The results is similar to the TukeyHSD results from the ANOVA section"
   ]
  },
  {
   "cell_type": "markdown",
   "metadata": {},
   "source": [
    "#### Multiple predictors\n",
    "In the linear model, we can include multiple predictors (as long as they do not correlate too much with each other). It is important to stress that the estimate and p-value of a predictor can change depending on if/which other predictors are included in the model. A model should therefore be interepreted as a whole.\n",
    "\n",
    "\n",
    "Let's include \"disp\" and \"drat\" in the above model"
   ]
  },
  {
   "cell_type": "code",
   "execution_count": 25,
   "metadata": {},
   "outputs": [
    {
     "data": {
      "text/plain": [
       "\n",
       "Call:\n",
       "lm(formula = hp ~ gear + disp + drat, data = mtcars)\n",
       "\n",
       "Residuals:\n",
       "    Min      1Q  Median      3Q     Max \n",
       "-64.755 -18.886  -1.149  13.994  90.693 \n",
       "\n",
       "Coefficients:\n",
       "            Estimate Std. Error t value Pr(>|t|)    \n",
       "(Intercept) -2.29258   77.22139  -0.030  0.97653    \n",
       "gear4       13.33969   25.69638   0.519  0.60790    \n",
       "gear5       79.46678   24.59952   3.230  0.00324 ** \n",
       "disp         0.50930    0.07915   6.435 6.78e-07 ***\n",
       "drat         3.90785   21.20956   0.184  0.85519    \n",
       "---\n",
       "Signif. codes:  0 '***' 0.001 '**' 0.01 '*' 0.05 '.' 0.1 ' ' 1\n",
       "\n",
       "Residual standard error: 34.06 on 27 degrees of freedom\n",
       "Multiple R-squared:  0.785,\tAdjusted R-squared:  0.7532 \n",
       "F-statistic: 24.65 on 4 and 27 DF,  p-value: 1.125e-08\n"
      ]
     },
     "metadata": {},
     "output_type": "display_data"
    }
   ],
   "source": [
    "# Define model\n",
    "fit <- lm(hp ~ gear + disp + drat, data = mtcars)\n",
    "\n",
    "# Get a summary of the model\n",
    "summary(fit)"
   ]
  },
  {
   "cell_type": "markdown",
   "metadata": {},
   "source": [
    "We can check if we have problems with collinearity with the vif function from the car package. A rule of thump is that no vif should be above 5. The first column in the output \"GVIF\" should be used."
   ]
  },
  {
   "cell_type": "code",
   "execution_count": 26,
   "metadata": {},
   "outputs": [
    {
     "data": {
      "text/html": [
       "<table>\n",
       "<thead><tr><th></th><th scope=col>GVIF</th><th scope=col>Df</th><th scope=col>GVIF^(1/(2*Df))</th></tr></thead>\n",
       "<tbody>\n",
       "\t<tr><th scope=row>gear</th><td>4.138276</td><td>2       </td><td>1.426280</td></tr>\n",
       "\t<tr><th scope=row>disp</th><td>2.571156</td><td>1       </td><td>1.603482</td></tr>\n",
       "\t<tr><th scope=row>drat</th><td>3.436313</td><td>1       </td><td>1.853729</td></tr>\n",
       "</tbody>\n",
       "</table>\n"
      ],
      "text/latex": [
       "\\begin{tabular}{r|lll}\n",
       "  & GVIF & Df & GVIF\\textasciicircum{}(1/(2*Df))\\\\\n",
       "\\hline\n",
       "\tgear & 4.138276 & 2        & 1.426280\\\\\n",
       "\tdisp & 2.571156 & 1        & 1.603482\\\\\n",
       "\tdrat & 3.436313 & 1        & 1.853729\\\\\n",
       "\\end{tabular}\n"
      ],
      "text/markdown": [
       "\n",
       "| <!--/--> | GVIF | Df | GVIF^(1/(2*Df)) |\n",
       "|---|---|---|---|\n",
       "| gear | 4.138276 | 2        | 1.426280 |\n",
       "| disp | 2.571156 | 1        | 1.603482 |\n",
       "| drat | 3.436313 | 1        | 1.853729 |\n",
       "\n"
      ],
      "text/plain": [
       "     GVIF     Df GVIF^(1/(2*Df))\n",
       "gear 4.138276 2  1.426280       \n",
       "disp 2.571156 1  1.603482       \n",
       "drat 3.436313 1  1.853729       "
      ]
     },
     "metadata": {},
     "output_type": "display_data"
    }
   ],
   "source": [
    "car::vif(fit)"
   ]
  },
  {
   "cell_type": "markdown",
   "metadata": {},
   "source": [
    "We can run an ANOVA on this linear model, which will combine categorical predictors into one p-value:"
   ]
  },
  {
   "cell_type": "code",
   "execution_count": 27,
   "metadata": {},
   "outputs": [
    {
     "data": {
      "text/html": [
       "<table>\n",
       "<thead><tr><th></th><th scope=col>Df</th><th scope=col>Sum Sq</th><th scope=col>Mean Sq</th><th scope=col>F value</th><th scope=col>Pr(&gt;F)</th></tr></thead>\n",
       "<tbody>\n",
       "\t<tr><th scope=row>gear</th><td> 2          </td><td>64212.94167 </td><td>32106.47083 </td><td>27.67414599 </td><td>2.897836e-07</td></tr>\n",
       "\t<tr><th scope=row>disp</th><td> 1          </td><td>50150.19545 </td><td>50150.19545 </td><td>43.22691950 </td><td>4.723861e-07</td></tr>\n",
       "\t<tr><th scope=row>drat</th><td> 1          </td><td>   39.38508 </td><td>   39.38508 </td><td> 0.03394793 </td><td>8.551945e-01</td></tr>\n",
       "\t<tr><th scope=row>Residuals</th><td>27          </td><td>31324.35281 </td><td> 1160.16122 </td><td>         NA </td><td>          NA</td></tr>\n",
       "</tbody>\n",
       "</table>\n"
      ],
      "text/latex": [
       "\\begin{tabular}{r|lllll}\n",
       "  & Df & Sum Sq & Mean Sq & F value & Pr(>F)\\\\\n",
       "\\hline\n",
       "\tgear &  2           & 64212.94167  & 32106.47083  & 27.67414599  & 2.897836e-07\\\\\n",
       "\tdisp &  1           & 50150.19545  & 50150.19545  & 43.22691950  & 4.723861e-07\\\\\n",
       "\tdrat &  1           &    39.38508  &    39.38508  &  0.03394793  & 8.551945e-01\\\\\n",
       "\tResiduals & 27           & 31324.35281  &  1160.16122  &          NA  &           NA\\\\\n",
       "\\end{tabular}\n"
      ],
      "text/markdown": [
       "\n",
       "| <!--/--> | Df | Sum Sq | Mean Sq | F value | Pr(>F) |\n",
       "|---|---|---|---|---|---|\n",
       "| gear |  2           | 64212.94167  | 32106.47083  | 27.67414599  | 2.897836e-07 |\n",
       "| disp |  1           | 50150.19545  | 50150.19545  | 43.22691950  | 4.723861e-07 |\n",
       "| drat |  1           |    39.38508  |    39.38508  |  0.03394793  | 8.551945e-01 |\n",
       "| Residuals | 27           | 31324.35281  |  1160.16122  |          NA  |           NA |\n",
       "\n"
      ],
      "text/plain": [
       "          Df Sum Sq      Mean Sq     F value     Pr(>F)      \n",
       "gear       2 64212.94167 32106.47083 27.67414599 2.897836e-07\n",
       "disp       1 50150.19545 50150.19545 43.22691950 4.723861e-07\n",
       "drat       1    39.38508    39.38508  0.03394793 8.551945e-01\n",
       "Residuals 27 31324.35281  1160.16122          NA           NA"
      ]
     },
     "metadata": {},
     "output_type": "display_data"
    }
   ],
   "source": [
    "anova(fit)"
   ]
  },
  {
   "cell_type": "markdown",
   "metadata": {},
   "source": [
    "# Homogeneity of variance <a class=\"anchor\" id=\"variance\"></a>\n",
    "It is an assumption of all linear models (including linear regression and ANOVA) and for Pearson's correlation that there is homogeneity of variance (also called homoscedasticity, as opposed to heteroscedasticity). This means that the spread (variance) of the data points should not have any association with the mean. \n",
    "\n",
    "Let's try to simulate some heteroscedastic data to visualize the problem"
   ]
  },
  {
   "cell_type": "code",
   "execution_count": 28,
   "metadata": {},
   "outputs": [
    {
     "data": {
      "image/png": "[encoded data removed]",
      "text/plain": [
       "plot without title"
      ]
     },
     "metadata": {},
     "output_type": "display_data"
    }
   ],
   "source": [
    "# Simulate heteroscedastic data\n",
    "set.seed(1)\n",
    "df <- data.frame(Group = c(rep(\"A\", 20), rep(\"B\", 20), rep(\"C\", 20)),\n",
    "                Value = c(rpois(20, 20), rpois(20, 100), rpois(20, 200)))\n",
    "\n",
    "p <- ggplot(df, aes(Group, Value)) +\n",
    "    theme_bw() +\n",
    "    geom_point()\n",
    "p"
   ]
  },
  {
   "cell_type": "markdown",
   "metadata": {},
   "source": [
    "Let's try to run an ANOVA on the above data, and plot the diagnostics"
   ]
  },
  {
   "cell_type": "code",
   "execution_count": 29,
   "metadata": {},
   "outputs": [
    {
     "data": {
      "image/png": "[encoded data removed]",
      "text/plain": [
       "Plot with title \"\""
      ]
     },
     "metadata": {},
     "output_type": "display_data"
    }
   ],
   "source": [
    "fit <- aov(Value ~ Group, data = df)\n",
    "plot(fit, which=1)"
   ]
  },
  {
   "cell_type": "markdown",
   "metadata": {},
   "source": [
    "We can see that the spread is increasing as the fitted values increase. The p-values of this model will be highly biased. When variance increases with the mean, it often helps to log-transform the response variable. Let's try that:"
   ]
  },
  {
   "cell_type": "code",
   "execution_count": 30,
   "metadata": {},
   "outputs": [
    {
     "data": {
      "image/png": "[encoded data removed]",
      "text/plain": [
       "Plot with title \"\""
      ]
     },
     "metadata": {},
     "output_type": "display_data"
    }
   ],
   "source": [
    "fit_log <- aov(log10(Value) ~ Group, data = df)\n",
    "plot(fit_log, which=1)"
   ]
  },
  {
   "cell_type": "markdown",
   "metadata": {},
   "source": [
    "It helps somewhat, but partially creates the reverse problem; variance is higher with lower fitted values, but much better than the raw data.\n",
    "\n",
    "Alternatively, one could use permutation, robust methods, or you could use another distibution than the normal ditribution. The details of these alternatives are beyond the scope of this notebook."
   ]
  }
 ],
 "metadata": {
  "kernelspec": {
   "display_name": "R",
   "language": "R",
   "name": "ir"
  },
  "language_info": {
   "codemirror_mode": "r",
   "file_extension": ".r",
   "mimetype": "text/x-r-source",
   "name": "R",
   "pygments_lexer": "r",
   "version": "3.6.3"
  }
 },
 "nbformat": 4,
 "nbformat_minor": 2
}
