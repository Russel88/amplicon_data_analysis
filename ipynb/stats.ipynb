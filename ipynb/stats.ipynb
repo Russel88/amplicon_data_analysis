{
 "cells": [
  {
   "cell_type": "markdown",
   "metadata": {},
   "source": [
    "# Statistics summary\n",
    "This notebook is a brief introduction to various statistical analyses commonly used for amplicon data analysis - including some basic theory, links to more in-depth explanations, how to run them in R, and how to ensure the assumptions hold.\n",
    "\n",
    "### Getting more in-depth\n",
    "Excellent introductions to various statistical concepts and analysis can be found in a [Nature Methods collection of 2-page letters aimed at biologists](https://www.nature.com/collections/qghhqm/pointsofsignificance).\n",
    "\n",
    "The first paper, [Importance of being uncertain](http://www.nature.com/doifinder/10.1038/nmeth.2613), is a must read for anyone new to statistics.\n",
    "\n",
    "The [GUSTA ME website](https://mb3is.megx.net/gustame) contains descriptions of many multivariate analyses aimed at microbial ecologists using R.\n"
   ]
  },
  {
   "cell_type": "markdown",
   "metadata": {},
   "source": [
    "# Contents\n",
    "* [Two sample T-test](#t-test)\n",
    "* [Wilcoxon Rank Sum test](#wilcoxon)\n",
    "* [Paired two-sample tests](#paired)\n",
    "* [Correlation](#correlation)\n",
    "* [Linear regression](#regression)\n",
    "* [ANOVA](#anova)\n",
    "* [Linear model](#linear_model)\n",
    "* [Mixed-effect linear model](#mixed)\n",
    "* [Interactions](#interactions)\n",
    "* [Ordinations](#ordination)\n",
    "* [PCA](#pca)\n",
    "* [PCoA](#pcoa)\n",
    "* [PERMANOVA](#permanova)\n",
    "* [Corrections for multiple comparisons](#multiple)\n"
   ]
  },
  {
   "cell_type": "code",
   "execution_count": 30,
   "metadata": {},
   "outputs": [],
   "source": [
    "# Load packages\n",
    "library(ggplot2) # Plotting"
   ]
  },
  {
   "cell_type": "markdown",
   "metadata": {},
   "source": [
    "# Example datasets\n",
    "**mtcars:** The data was extracted from the 1974 Motor Trend US magazine, and comprises fuel consumption and 10 aspects of automobile design and performance for 32 automobiles"
   ]
  },
  {
   "cell_type": "code",
   "execution_count": 21,
   "metadata": {},
   "outputs": [],
   "source": [
    "data(mtcars)"
   ]
  },
  {
   "cell_type": "markdown",
   "metadata": {},
   "source": [
    "# Two sample T-test <a class=\"anchor\" id=\"t-test\"></a>\n",
    "The two-sample t-test is used for comparing the means of two samples; for example comparing a control condition with a treatment.\n",
    "\n",
    "### Assumptions\n",
    "1. Samples are uncorrelated. This is the most crucial assumption: Samples should be independent. If the samples are paired, for example with before and after measurements, or in other ways correlated one-to-one, use the paired t-test.\n",
    "\n",
    "2. Samples come from a population that have an approximately normal shape. It is quite robust to deviations, but will have higher chance of false positives/negatives with highly non-normal distributions. Transformations (e.g. log transform) can sometimes solve this problem.\n",
    "\n",
    "3. Variance is equal in the two samples. The t-test is however very robust to deviations from this assumption. In R the default t-test is the Welch variant, which solves the problem of unequal variances from unequal sample sizes.\n",
    "\n",
    "### In R\n",
    "Let's compare the engine displacement of cars with automatic transmission (am = 1) compared to manual transmission (am = 0)"
   ]
  },
  {
   "cell_type": "code",
   "execution_count": 31,
   "metadata": {},
   "outputs": [
    {
     "data": {
      "image/png": "[encoded data removed]",
      "text/plain": [
       "plot without title"
      ]
     },
     "metadata": {
      "image/png": {
       "height": 420,
       "width": 420
      },
      "text/plain": {
       "height": 420,
       "width": 420
      }
     },
     "output_type": "display_data"
    }
   ],
   "source": [
    "ggplot(mtcars, aes(disp)) + facet_grid(am ~ .) + geom_histogram(bins = 10)"
   ]
  },
  {
   "cell_type": "code",
   "execution_count": 23,
   "metadata": {},
   "outputs": [
    {
     "data": {
      "text/plain": [
       "\n",
       "\tWelch Two Sample t-test\n",
       "\n",
       "data:  disp by am\n",
       "t = 4.1977, df = 29.258, p-value = 0.00023\n",
       "alternative hypothesis: true difference in means is not equal to 0\n",
       "95 percent confidence interval:\n",
       "  75.32779 218.36857\n",
       "sample estimates:\n",
       "mean in group 0 mean in group 1 \n",
       "       290.3789        143.5308 \n"
      ]
     },
     "metadata": {},
     "output_type": "display_data"
    }
   ],
   "source": [
    "t.test(disp ~ am, data = mtcars) "
   ]
  },
  {
   "cell_type": "markdown",
   "metadata": {},
   "source": [
    "We can see that the average displacement in cars with manual transmission (group 0) is 290, and in cars with automatic transmission (group 1) is 144. This difference is significant with a p-value of 0.00023. The difference between the two is between 75 and 218 (95% confidence interval)"
   ]
  },
  {
   "cell_type": "markdown",
   "metadata": {},
   "source": [
    "# Wilcoxon Rank Sum test <a class=\"anchor\" id=\"wilcoxon\"></a>\n",
    "The Wilcoxon Rank Sum test is used to compare the medians of two samples, similar to a two sample t-test. This test is however non-parametric and therefore has (almost) no assumptions on the distributions of the populations. It is less powerful than the t-test, especially for small (n<10) sample sizes.\n",
    "\n",
    "### Assumptions\n",
    "1. Similar to the t-test, the samples should be uncorrelated and independent. A paired version of this test is the Wilcoxon Signed Rank test.\n",
    "\n",
    "2. The two samples should be drawn from populations with approximately similar shape. \n",
    "\n",
    "### In R:\n",
    "Let's compare the engine displacement of cars with automatic transmission (am = 1) compared to manual transmission (am = 0)"
   ]
  },
  {
   "cell_type": "code",
   "execution_count": 32,
   "metadata": {},
   "outputs": [
    {
     "name": "stderr",
     "output_type": "stream",
     "text": [
      "Warning message in wilcox.test.default(x = c(258, 360, 225, 360, 146.7, 140.8, 167.6, :\n",
      "“cannot compute exact p-value with ties”\n"
     ]
    },
    {
     "data": {
      "text/plain": [
       "\n",
       "\tWilcoxon rank sum test with continuity correction\n",
       "\n",
       "data:  disp by am\n",
       "W = 214, p-value = 0.0005493\n",
       "alternative hypothesis: true location shift is not equal to 0\n"
      ]
     },
     "metadata": {},
     "output_type": "display_data"
    }
   ],
   "source": [
    "wilcox.test(disp ~ am, data = mtcars) "
   ]
  },
  {
   "cell_type": "markdown",
   "metadata": {},
   "source": [
    "We can see that the average displacement in cars with manual transmission (group 0) is different than in cars with automatic transmission (group 1) a p-value of 0.0005493. The warnings tells us that some displacement values are similar, which means the p-value is an approximation. This is not problematic unless there are many ties."
   ]
  },
  {
   "cell_type": "markdown",
   "metadata": {},
   "source": [
    "# Paired two sample tests <a class=\"anchor\" id=\"paired\"></a>\n",
    "If samples are paired, a paired test should be used. This should be used to for example before and after measurements on the same subjects. See the above two sections for assumptions.\n",
    "\n",
    "In R it is crucial that the observations are in correct order, as the samples are paired according to the input order.\n",
    "\n",
    "### Ordering data in R\n",
    "First we make an example dataset"
   ]
  },
  {
   "cell_type": "code",
   "execution_count": 6,
   "metadata": {},
   "outputs": [],
   "source": [
    "# Set seed (for reproducibility when doing things that involves randomness)\n",
    "set.seed(42)\n",
    "# Set number of samples\n",
    "nSamples <- 10\n",
    "# Build data.frame with random measurements\n",
    "pairedData <- data.frame(sampletime = c(rep(\"before\", nSamples), rep(\"after\", nSamples)),\n",
    "                        subject = rep(LETTERS[1:nSamples], 2),\n",
    "                         measurement = rnorm(nSamples * 2))\n",
    "# Shuffle data.frame\n",
    "pairedData <- pairedData[sample(1:nrow(pairedData)), ]"
   ]
  },
  {
   "cell_type": "markdown",
   "metadata": {},
   "source": [
    "If we look at the dataset, we can see that it is unordered:"
   ]
  },
  {
   "cell_type": "code",
   "execution_count": 7,
   "metadata": {},
   "outputs": [
    {
     "data": {
      "text/html": [
       "<table>\n",
       "<thead><tr><th></th><th scope=col>sampletime</th><th scope=col>subject</th><th scope=col>measurement</th></tr></thead>\n",
       "<tbody>\n",
       "\t<tr><th scope=row>11</th><td>after      </td><td>A          </td><td> 1.30486965</td></tr>\n",
       "\t<tr><th scope=row>15</th><td>after      </td><td>E          </td><td>-0.13332134</td></tr>\n",
       "\t<tr><th scope=row>8</th><td>before     </td><td>H          </td><td>-0.09465904</td></tr>\n",
       "\t<tr><th scope=row>4</th><td>before     </td><td>D          </td><td> 0.63286260</td></tr>\n",
       "\t<tr><th scope=row>17</th><td>after      </td><td>G          </td><td>-0.28425292</td></tr>\n",
       "\t<tr><th scope=row>6</th><td>before     </td><td>F          </td><td>-0.10612452</td></tr>\n",
       "\t<tr><th scope=row>2</th><td>before     </td><td>B          </td><td>-0.56469817</td></tr>\n",
       "\t<tr><th scope=row>13</th><td>after      </td><td>C          </td><td>-1.38886070</td></tr>\n",
       "\t<tr><th scope=row>12</th><td>after      </td><td>B          </td><td> 2.28664539</td></tr>\n",
       "\t<tr><th scope=row>5</th><td>before     </td><td>E          </td><td> 0.40426832</td></tr>\n",
       "\t<tr><th scope=row>16</th><td>after      </td><td>F          </td><td> 0.63595040</td></tr>\n",
       "\t<tr><th scope=row>14</th><td>after      </td><td>D          </td><td>-0.27878877</td></tr>\n",
       "\t<tr><th scope=row>18</th><td>after      </td><td>H          </td><td>-2.65645542</td></tr>\n",
       "\t<tr><th scope=row>9</th><td>before     </td><td>I          </td><td> 2.01842371</td></tr>\n",
       "\t<tr><th scope=row>3</th><td>before     </td><td>C          </td><td> 0.36312841</td></tr>\n",
       "\t<tr><th scope=row>1</th><td>before     </td><td>A          </td><td> 1.37095845</td></tr>\n",
       "\t<tr><th scope=row>20</th><td>after      </td><td>J          </td><td> 1.32011335</td></tr>\n",
       "\t<tr><th scope=row>7</th><td>before     </td><td>G          </td><td> 1.51152200</td></tr>\n",
       "\t<tr><th scope=row>19</th><td>after      </td><td>I          </td><td>-2.44046693</td></tr>\n",
       "\t<tr><th scope=row>10</th><td>before     </td><td>J          </td><td>-0.06271410</td></tr>\n",
       "</tbody>\n",
       "</table>\n"
      ],
      "text/latex": [
       "\\begin{tabular}{r|lll}\n",
       "  & sampletime & subject & measurement\\\\\n",
       "\\hline\n",
       "\t11 & after       & A           &  1.30486965\\\\\n",
       "\t15 & after       & E           & -0.13332134\\\\\n",
       "\t8 & before      & H           & -0.09465904\\\\\n",
       "\t4 & before      & D           &  0.63286260\\\\\n",
       "\t17 & after       & G           & -0.28425292\\\\\n",
       "\t6 & before      & F           & -0.10612452\\\\\n",
       "\t2 & before      & B           & -0.56469817\\\\\n",
       "\t13 & after       & C           & -1.38886070\\\\\n",
       "\t12 & after       & B           &  2.28664539\\\\\n",
       "\t5 & before      & E           &  0.40426832\\\\\n",
       "\t16 & after       & F           &  0.63595040\\\\\n",
       "\t14 & after       & D           & -0.27878877\\\\\n",
       "\t18 & after       & H           & -2.65645542\\\\\n",
       "\t9 & before      & I           &  2.01842371\\\\\n",
       "\t3 & before      & C           &  0.36312841\\\\\n",
       "\t1 & before      & A           &  1.37095845\\\\\n",
       "\t20 & after       & J           &  1.32011335\\\\\n",
       "\t7 & before      & G           &  1.51152200\\\\\n",
       "\t19 & after       & I           & -2.44046693\\\\\n",
       "\t10 & before      & J           & -0.06271410\\\\\n",
       "\\end{tabular}\n"
      ],
      "text/markdown": [
       "\n",
       "| <!--/--> | sampletime | subject | measurement |\n",
       "|---|---|---|---|\n",
       "| 11 | after       | A           |  1.30486965 |\n",
       "| 15 | after       | E           | -0.13332134 |\n",
       "| 8 | before      | H           | -0.09465904 |\n",
       "| 4 | before      | D           |  0.63286260 |\n",
       "| 17 | after       | G           | -0.28425292 |\n",
       "| 6 | before      | F           | -0.10612452 |\n",
       "| 2 | before      | B           | -0.56469817 |\n",
       "| 13 | after       | C           | -1.38886070 |\n",
       "| 12 | after       | B           |  2.28664539 |\n",
       "| 5 | before      | E           |  0.40426832 |\n",
       "| 16 | after       | F           |  0.63595040 |\n",
       "| 14 | after       | D           | -0.27878877 |\n",
       "| 18 | after       | H           | -2.65645542 |\n",
       "| 9 | before      | I           |  2.01842371 |\n",
       "| 3 | before      | C           |  0.36312841 |\n",
       "| 1 | before      | A           |  1.37095845 |\n",
       "| 20 | after       | J           |  1.32011335 |\n",
       "| 7 | before      | G           |  1.51152200 |\n",
       "| 19 | after       | I           | -2.44046693 |\n",
       "| 10 | before      | J           | -0.06271410 |\n",
       "\n"
      ],
      "text/plain": [
       "   sampletime subject measurement\n",
       "11 after      A        1.30486965\n",
       "15 after      E       -0.13332134\n",
       "8  before     H       -0.09465904\n",
       "4  before     D        0.63286260\n",
       "17 after      G       -0.28425292\n",
       "6  before     F       -0.10612452\n",
       "2  before     B       -0.56469817\n",
       "13 after      C       -1.38886070\n",
       "12 after      B        2.28664539\n",
       "5  before     E        0.40426832\n",
       "16 after      F        0.63595040\n",
       "14 after      D       -0.27878877\n",
       "18 after      H       -2.65645542\n",
       "9  before     I        2.01842371\n",
       "3  before     C        0.36312841\n",
       "1  before     A        1.37095845\n",
       "20 after      J        1.32011335\n",
       "7  before     G        1.51152200\n",
       "19 after      I       -2.44046693\n",
       "10 before     J       -0.06271410"
      ]
     },
     "metadata": {},
     "output_type": "display_data"
    }
   ],
   "source": [
    "pairedData"
   ]
  },
  {
   "cell_type": "markdown",
   "metadata": {},
   "source": [
    "Let's order it by subject:"
   ]
  },
  {
   "cell_type": "code",
   "execution_count": 8,
   "metadata": {},
   "outputs": [
    {
     "data": {
      "text/html": [
       "<table>\n",
       "<thead><tr><th></th><th scope=col>sampletime</th><th scope=col>subject</th><th scope=col>measurement</th></tr></thead>\n",
       "<tbody>\n",
       "\t<tr><th scope=row>11</th><td>after      </td><td>A          </td><td> 1.30486965</td></tr>\n",
       "\t<tr><th scope=row>1</th><td>before     </td><td>A          </td><td> 1.37095845</td></tr>\n",
       "\t<tr><th scope=row>2</th><td>before     </td><td>B          </td><td>-0.56469817</td></tr>\n",
       "\t<tr><th scope=row>12</th><td>after      </td><td>B          </td><td> 2.28664539</td></tr>\n",
       "\t<tr><th scope=row>13</th><td>after      </td><td>C          </td><td>-1.38886070</td></tr>\n",
       "\t<tr><th scope=row>3</th><td>before     </td><td>C          </td><td> 0.36312841</td></tr>\n",
       "\t<tr><th scope=row>4</th><td>before     </td><td>D          </td><td> 0.63286260</td></tr>\n",
       "\t<tr><th scope=row>14</th><td>after      </td><td>D          </td><td>-0.27878877</td></tr>\n",
       "\t<tr><th scope=row>15</th><td>after      </td><td>E          </td><td>-0.13332134</td></tr>\n",
       "\t<tr><th scope=row>5</th><td>before     </td><td>E          </td><td> 0.40426832</td></tr>\n",
       "\t<tr><th scope=row>6</th><td>before     </td><td>F          </td><td>-0.10612452</td></tr>\n",
       "\t<tr><th scope=row>16</th><td>after      </td><td>F          </td><td> 0.63595040</td></tr>\n",
       "\t<tr><th scope=row>17</th><td>after      </td><td>G          </td><td>-0.28425292</td></tr>\n",
       "\t<tr><th scope=row>7</th><td>before     </td><td>G          </td><td> 1.51152200</td></tr>\n",
       "\t<tr><th scope=row>8</th><td>before     </td><td>H          </td><td>-0.09465904</td></tr>\n",
       "\t<tr><th scope=row>18</th><td>after      </td><td>H          </td><td>-2.65645542</td></tr>\n",
       "\t<tr><th scope=row>9</th><td>before     </td><td>I          </td><td> 2.01842371</td></tr>\n",
       "\t<tr><th scope=row>19</th><td>after      </td><td>I          </td><td>-2.44046693</td></tr>\n",
       "\t<tr><th scope=row>20</th><td>after      </td><td>J          </td><td> 1.32011335</td></tr>\n",
       "\t<tr><th scope=row>10</th><td>before     </td><td>J          </td><td>-0.06271410</td></tr>\n",
       "</tbody>\n",
       "</table>\n"
      ],
      "text/latex": [
       "\\begin{tabular}{r|lll}\n",
       "  & sampletime & subject & measurement\\\\\n",
       "\\hline\n",
       "\t11 & after       & A           &  1.30486965\\\\\n",
       "\t1 & before      & A           &  1.37095845\\\\\n",
       "\t2 & before      & B           & -0.56469817\\\\\n",
       "\t12 & after       & B           &  2.28664539\\\\\n",
       "\t13 & after       & C           & -1.38886070\\\\\n",
       "\t3 & before      & C           &  0.36312841\\\\\n",
       "\t4 & before      & D           &  0.63286260\\\\\n",
       "\t14 & after       & D           & -0.27878877\\\\\n",
       "\t15 & after       & E           & -0.13332134\\\\\n",
       "\t5 & before      & E           &  0.40426832\\\\\n",
       "\t6 & before      & F           & -0.10612452\\\\\n",
       "\t16 & after       & F           &  0.63595040\\\\\n",
       "\t17 & after       & G           & -0.28425292\\\\\n",
       "\t7 & before      & G           &  1.51152200\\\\\n",
       "\t8 & before      & H           & -0.09465904\\\\\n",
       "\t18 & after       & H           & -2.65645542\\\\\n",
       "\t9 & before      & I           &  2.01842371\\\\\n",
       "\t19 & after       & I           & -2.44046693\\\\\n",
       "\t20 & after       & J           &  1.32011335\\\\\n",
       "\t10 & before      & J           & -0.06271410\\\\\n",
       "\\end{tabular}\n"
      ],
      "text/markdown": [
       "\n",
       "| <!--/--> | sampletime | subject | measurement |\n",
       "|---|---|---|---|\n",
       "| 11 | after       | A           |  1.30486965 |\n",
       "| 1 | before      | A           |  1.37095845 |\n",
       "| 2 | before      | B           | -0.56469817 |\n",
       "| 12 | after       | B           |  2.28664539 |\n",
       "| 13 | after       | C           | -1.38886070 |\n",
       "| 3 | before      | C           |  0.36312841 |\n",
       "| 4 | before      | D           |  0.63286260 |\n",
       "| 14 | after       | D           | -0.27878877 |\n",
       "| 15 | after       | E           | -0.13332134 |\n",
       "| 5 | before      | E           |  0.40426832 |\n",
       "| 6 | before      | F           | -0.10612452 |\n",
       "| 16 | after       | F           |  0.63595040 |\n",
       "| 17 | after       | G           | -0.28425292 |\n",
       "| 7 | before      | G           |  1.51152200 |\n",
       "| 8 | before      | H           | -0.09465904 |\n",
       "| 18 | after       | H           | -2.65645542 |\n",
       "| 9 | before      | I           |  2.01842371 |\n",
       "| 19 | after       | I           | -2.44046693 |\n",
       "| 20 | after       | J           |  1.32011335 |\n",
       "| 10 | before      | J           | -0.06271410 |\n",
       "\n"
      ],
      "text/plain": [
       "   sampletime subject measurement\n",
       "11 after      A        1.30486965\n",
       "1  before     A        1.37095845\n",
       "2  before     B       -0.56469817\n",
       "12 after      B        2.28664539\n",
       "13 after      C       -1.38886070\n",
       "3  before     C        0.36312841\n",
       "4  before     D        0.63286260\n",
       "14 after      D       -0.27878877\n",
       "15 after      E       -0.13332134\n",
       "5  before     E        0.40426832\n",
       "6  before     F       -0.10612452\n",
       "16 after      F        0.63595040\n",
       "17 after      G       -0.28425292\n",
       "7  before     G        1.51152200\n",
       "8  before     H       -0.09465904\n",
       "18 after      H       -2.65645542\n",
       "9  before     I        2.01842371\n",
       "19 after      I       -2.44046693\n",
       "20 after      J        1.32011335\n",
       "10 before     J       -0.06271410"
      ]
     },
     "metadata": {},
     "output_type": "display_data"
    }
   ],
   "source": [
    "pairedDataOrder <- pairedData[order(pairedData$subject), ]\n",
    "pairedDataOrder"
   ]
  },
  {
   "cell_type": "markdown",
   "metadata": {},
   "source": [
    "### Paired t-test in R"
   ]
  },
  {
   "cell_type": "code",
   "execution_count": 12,
   "metadata": {},
   "outputs": [
    {
     "data": {
      "text/plain": [
       "\n",
       "\tPaired t-test\n",
       "\n",
       "data:  after and before\n",
       "t = -1.0742, df = 9, p-value = 0.3107\n",
       "alternative hypothesis: true difference in means is not equal to 0\n",
       "95 percent confidence interval:\n",
       " -2.2075921  0.7860851\n",
       "sample estimates:\n",
       "mean of the differences \n",
       "             -0.7107535 \n"
      ]
     },
     "metadata": {},
     "output_type": "display_data"
    }
   ],
   "source": [
    "before <- pairedDataOrder[pairedDataOrder$sampletime == \"before\", \"measurement\"]\n",
    "after <- pairedDataOrder[pairedDataOrder$sampletime == \"after\", \"measurement\"]\n",
    "\n",
    "t.test(after, before, paired = TRUE)"
   ]
  },
  {
   "cell_type": "markdown",
   "metadata": {},
   "source": [
    "The average difference between before and after measurements is -0.71 (-2.21 to 0.79, 95% CI) and this is not statistically significant, p-value = 0.3107. \n",
    "\n",
    "Also notice that we only have 9 degrees of freedom, despite having 20 observations in the input data.frame. This is because we have repeated measurements within subjects, and we actually only have 10 independent measurements. A paired t-test is therefore equivalent to finding the difference between before and after measuremnts and then running a one-sample t-test:"
   ]
  },
  {
   "cell_type": "code",
   "execution_count": 13,
   "metadata": {},
   "outputs": [
    {
     "data": {
      "text/html": [
       "<ol class=list-inline>\n",
       "\t<li>-0.0660887929231833</li>\n",
       "\t<li>2.8513435640972</li>\n",
       "\t<li>-1.75198911244968</li>\n",
       "\t<li>-0.911651371778412</li>\n",
       "\t<li>-0.537589659534657</li>\n",
       "\t<li>0.742074914161558</li>\n",
       "\t<li>-1.79577491885501</li>\n",
       "\t<li>-2.56179638249168</li>\n",
       "\t<li>-4.45889064245256</li>\n",
       "\t<li>1.38282744478261</li>\n",
       "</ol>\n"
      ],
      "text/latex": [
       "\\begin{enumerate*}\n",
       "\\item -0.0660887929231833\n",
       "\\item 2.8513435640972\n",
       "\\item -1.75198911244968\n",
       "\\item -0.911651371778412\n",
       "\\item -0.537589659534657\n",
       "\\item 0.742074914161558\n",
       "\\item -1.79577491885501\n",
       "\\item -2.56179638249168\n",
       "\\item -4.45889064245256\n",
       "\\item 1.38282744478261\n",
       "\\end{enumerate*}\n"
      ],
      "text/markdown": [
       "1. -0.0660887929231833\n",
       "2. 2.8513435640972\n",
       "3. -1.75198911244968\n",
       "4. -0.911651371778412\n",
       "5. -0.537589659534657\n",
       "6. 0.742074914161558\n",
       "7. -1.79577491885501\n",
       "8. -2.56179638249168\n",
       "9. -4.45889064245256\n",
       "10. 1.38282744478261\n",
       "\n",
       "\n"
      ],
      "text/plain": [
       " [1] -0.06608879  2.85134356 -1.75198911 -0.91165137 -0.53758966  0.74207491\n",
       " [7] -1.79577492 -2.56179638 -4.45889064  1.38282744"
      ]
     },
     "metadata": {},
     "output_type": "display_data"
    }
   ],
   "source": [
    "# Find the difference\n",
    "difference <- after - before\n",
    "difference"
   ]
  },
  {
   "cell_type": "code",
   "execution_count": 14,
   "metadata": {},
   "outputs": [
    {
     "data": {
      "text/plain": [
       "\n",
       "\tOne Sample t-test\n",
       "\n",
       "data:  difference\n",
       "t = -1.0742, df = 9, p-value = 0.3107\n",
       "alternative hypothesis: true mean is not equal to 0\n",
       "95 percent confidence interval:\n",
       " -2.2075921  0.7860851\n",
       "sample estimates:\n",
       " mean of x \n",
       "-0.7107535 \n"
      ]
     },
     "metadata": {},
     "output_type": "display_data"
    }
   ],
   "source": [
    "# One-sample t-test\n",
    "t.test(difference, mu = 0)"
   ]
  },
  {
   "cell_type": "markdown",
   "metadata": {},
   "source": [
    "This result is exactly identical to the paired two-sample test."
   ]
  },
  {
   "cell_type": "markdown",
   "metadata": {},
   "source": [
    "# Correlation <a class=\"anchor\" id=\"correlation\"></a>\n",
    "It is advised to read [this excellent introduction to the difference between correlation, association, and causation](https://www.nature.com/articles/nmeth.3587).\n",
    "\n",
    "As the paper states: *two variables are correlated when they display an increasing or decreasing trend*\n",
    "\n"
   ]
  },
  {
   "cell_type": "code",
   "execution_count": null,
   "metadata": {},
   "outputs": [],
   "source": []
  },
  {
   "cell_type": "markdown",
   "metadata": {},
   "source": [
    "# Linear regression <a class=\"anchor\" id=\"regression\"></a>"
   ]
  },
  {
   "cell_type": "markdown",
   "metadata": {},
   "source": [
    "# ANOVA <a class=\"anchor\" id=\"anova\"></a>"
   ]
  },
  {
   "cell_type": "markdown",
   "metadata": {},
   "source": [
    "# Linear model <a class=\"anchor\" id=\"linear_model\"></a>"
   ]
  },
  {
   "cell_type": "markdown",
   "metadata": {},
   "source": [
    "# Mixed-effect linear model <a class=\"anchor\" id=\"mixed\"></a>"
   ]
  },
  {
   "cell_type": "markdown",
   "metadata": {},
   "source": [
    "# Interactions in linear models <a class=\"anchor\" id=\"interactions\"></a>"
   ]
  },
  {
   "cell_type": "markdown",
   "metadata": {},
   "source": [
    "# Ordination <a class=\"anchor\" id=\"ordination\"></a>"
   ]
  },
  {
   "cell_type": "markdown",
   "metadata": {},
   "source": [
    "# PCA <a class=\"anchor\" id=\"pca\"></a>"
   ]
  },
  {
   "cell_type": "markdown",
   "metadata": {},
   "source": [
    "# PCoA <a class=\"anchor\" id=\"pcoa\"></a>"
   ]
  },
  {
   "cell_type": "markdown",
   "metadata": {},
   "source": [
    "# PERMANOVA <a class=\"anchor\" id=\"permanova\"></a>"
   ]
  },
  {
   "cell_type": "markdown",
   "metadata": {},
   "source": [
    "# Corrections for multiple comparisons  <a class=\"anchor\" id=\"multiple\"></a>"
   ]
  },
  {
   "cell_type": "code",
   "execution_count": null,
   "metadata": {},
   "outputs": [],
   "source": []
  }
 ],
 "metadata": {
  "kernelspec": {
   "display_name": "R",
   "language": "R",
   "name": "ir"
  },
  "language_info": {
   "codemirror_mode": "r",
   "file_extension": ".r",
   "mimetype": "text/x-r-source",
   "name": "R",
   "pygments_lexer": "r",
   "version": "3.6.1"
  }
 },
 "nbformat": 4,
 "nbformat_minor": 2
}
