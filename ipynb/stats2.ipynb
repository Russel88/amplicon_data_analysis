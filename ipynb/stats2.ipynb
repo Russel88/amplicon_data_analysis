{
 "cells": [
  {
   "cell_type": "markdown",
   "metadata": {},
   "source": [
    "# Statistics 102\n",
    "This notebook is a continuation of the Statistics 101\n",
    "\n",
    "### Getting more in-depth\n",
    "The [GUSTA ME website](https://mb3is.megx.net/gustame) contains descriptions of many multivariate analyses aimed at microbial ecologists using R."
   ]
  },
  {
   "cell_type": "markdown",
   "metadata": {},
   "source": [
    "# Contents\n",
    "* [Example datasets](#data)\n",
    "* [PCA](#pca)\n",
    "* [PCoA](#pcoa)\n",
    "* [PERMANOVA](#permanova)\n",
    "* [Multiple comparisons](#multiple)"
   ]
  },
  {
   "cell_type": "code",
   "execution_count": 2,
   "metadata": {},
   "outputs": [],
   "source": [
    "# Load packages\n",
    "library(ggplot2) # Plotting\n",
    "library(phyloseq)\n",
    "library(vegan) # PERMANOVA"
   ]
  },
  {
   "cell_type": "markdown",
   "metadata": {},
   "source": [
    "# Example datasets<a class=\"anchor\" id=\"data\"></a>\n",
    "**iris:** Data on plant characteristics"
   ]
  },
  {
   "cell_type": "code",
   "execution_count": 3,
   "metadata": {},
   "outputs": [
    {
     "data": {
      "text/html": [
       "<table>\n",
       "<thead><tr><th scope=col>Sepal.Length</th><th scope=col>Sepal.Width</th><th scope=col>Petal.Length</th><th scope=col>Petal.Width</th><th scope=col>Species</th></tr></thead>\n",
       "<tbody>\n",
       "\t<tr><td>5.1   </td><td>3.5   </td><td>1.4   </td><td>0.2   </td><td>setosa</td></tr>\n",
       "\t<tr><td>4.9   </td><td>3.0   </td><td>1.4   </td><td>0.2   </td><td>setosa</td></tr>\n",
       "\t<tr><td>4.7   </td><td>3.2   </td><td>1.3   </td><td>0.2   </td><td>setosa</td></tr>\n",
       "\t<tr><td>4.6   </td><td>3.1   </td><td>1.5   </td><td>0.2   </td><td>setosa</td></tr>\n",
       "\t<tr><td>5.0   </td><td>3.6   </td><td>1.4   </td><td>0.2   </td><td>setosa</td></tr>\n",
       "\t<tr><td>5.4   </td><td>3.9   </td><td>1.7   </td><td>0.4   </td><td>setosa</td></tr>\n",
       "</tbody>\n",
       "</table>\n"
      ],
      "text/latex": [
       "\\begin{tabular}{r|lllll}\n",
       " Sepal.Length & Sepal.Width & Petal.Length & Petal.Width & Species\\\\\n",
       "\\hline\n",
       "\t 5.1    & 3.5    & 1.4    & 0.2    & setosa\\\\\n",
       "\t 4.9    & 3.0    & 1.4    & 0.2    & setosa\\\\\n",
       "\t 4.7    & 3.2    & 1.3    & 0.2    & setosa\\\\\n",
       "\t 4.6    & 3.1    & 1.5    & 0.2    & setosa\\\\\n",
       "\t 5.0    & 3.6    & 1.4    & 0.2    & setosa\\\\\n",
       "\t 5.4    & 3.9    & 1.7    & 0.4    & setosa\\\\\n",
       "\\end{tabular}\n"
      ],
      "text/markdown": [
       "\n",
       "| Sepal.Length | Sepal.Width | Petal.Length | Petal.Width | Species |\n",
       "|---|---|---|---|---|\n",
       "| 5.1    | 3.5    | 1.4    | 0.2    | setosa |\n",
       "| 4.9    | 3.0    | 1.4    | 0.2    | setosa |\n",
       "| 4.7    | 3.2    | 1.3    | 0.2    | setosa |\n",
       "| 4.6    | 3.1    | 1.5    | 0.2    | setosa |\n",
       "| 5.0    | 3.6    | 1.4    | 0.2    | setosa |\n",
       "| 5.4    | 3.9    | 1.7    | 0.4    | setosa |\n",
       "\n"
      ],
      "text/plain": [
       "  Sepal.Length Sepal.Width Petal.Length Petal.Width Species\n",
       "1 5.1          3.5         1.4          0.2         setosa \n",
       "2 4.9          3.0         1.4          0.2         setosa \n",
       "3 4.7          3.2         1.3          0.2         setosa \n",
       "4 4.6          3.1         1.5          0.2         setosa \n",
       "5 5.0          3.6         1.4          0.2         setosa \n",
       "6 5.4          3.9         1.7          0.4         setosa "
      ]
     },
     "metadata": {},
     "output_type": "display_data"
    }
   ],
   "source": [
    "data(iris)\n",
    "head(iris)"
   ]
  },
  {
   "cell_type": "markdown",
   "metadata": {},
   "source": [
    "**phy:** Our simulated gut microbiome dataset"
   ]
  },
  {
   "cell_type": "code",
   "execution_count": 4,
   "metadata": {},
   "outputs": [
    {
     "data": {
      "text/plain": [
       "phyloseq-class experiment-level object\n",
       "otu_table()   OTU Table:         [ 1417 taxa and 150 samples ]\n",
       "sample_data() Sample Data:       [ 150 samples by 3 sample variables ]\n",
       "tax_table()   Taxonomy Table:    [ 1417 taxa by 7 taxonomic ranks ]\n",
       "phy_tree()    Phylogenetic Tree: [ 1417 tips and 1414 internal nodes ]\n",
       "refseq()      DNAStringSet:      [ 1417 reference sequences ]"
      ]
     },
     "metadata": {},
     "output_type": "display_data"
    }
   ],
   "source": [
    "load(\"physeq.RData\")\n",
    "phy"
   ]
  },
  {
   "cell_type": "markdown",
   "metadata": {},
   "source": [
    "# PCA <a class=\"anchor\" id=\"pca\"></a>\n",
    "Principle component analysis (PCA) is a way of projecting your high-dimensional data into lower dimensions. While this sounds obscure, it is extremely powerful. Imagine a dataset with 20 samples and 1000 variables (e.g. ASVs), how would you make a plot showing whether your samples are different? PCA transforms the data, and creates new axes (known as principle components (PCs)), these PCs are created such that PC1 spans as much variation as posssible in the dataset, PC2 spans as much variance as possible while being orthogonal (90 degree angle) to PC1, PC3 spans as much variance as possible while being orthogonal to PC1 and PC2, and so on.\n",
    "\n",
    "The output from running a PCA is:\n",
    "* The PCs, the new axes\n",
    "* Eigenvalues for each PC, which denote how much variation each PC span\n",
    "* Loadings (Eigenvectors): How much does each variable contribute to each PC\n",
    "\n",
    "Is it confusing?:\n",
    "* [Read the first answer to this Stack Exchange question](https://stats.stackexchange.com/questions/2691/making-sense-of-principal-component-analysis-eigenvectors-eigenvalues/140579#140579)\n",
    "* [or read this excellent article](https://www.nature.com/articles/nmeth.4346)\n",
    "\n",
    "\n",
    "### In R\n",
    "Let's run a PCA on the plant data, plot the first two axes, and color the points by the plant species "
   ]
  },
  {
   "cell_type": "code",
   "execution_count": 5,
   "metadata": {},
   "outputs": [],
   "source": [
    "# We only use the first 4 columns\n",
    "iris_sub <- iris[, 1:4]\n",
    "# Always set center and scale. to TRUE\n",
    "pca <- prcomp(iris_sub, center=TRUE, scale.=TRUE)"
   ]
  },
  {
   "cell_type": "code",
   "execution_count": 6,
   "metadata": {},
   "outputs": [
    {
     "name": "stdout",
     "output_type": "stream",
     "text": [
      "List of 5\n",
      " $ sdev    : num [1:4] 1.708 0.956 0.383 0.144\n",
      " $ rotation: num [1:4, 1:4] 0.521 -0.269 0.58 0.565 -0.377 ...\n",
      "  ..- attr(*, \"dimnames\")=List of 2\n",
      "  .. ..$ : chr [1:4] \"Sepal.Length\" \"Sepal.Width\" \"Petal.Length\" \"Petal.Width\"\n",
      "  .. ..$ : chr [1:4] \"PC1\" \"PC2\" \"PC3\" \"PC4\"\n",
      " $ center  : Named num [1:4] 5.84 3.06 3.76 1.2\n",
      "  ..- attr(*, \"names\")= chr [1:4] \"Sepal.Length\" \"Sepal.Width\" \"Petal.Length\" \"Petal.Width\"\n",
      " $ scale   : Named num [1:4] 0.828 0.436 1.765 0.762\n",
      "  ..- attr(*, \"names\")= chr [1:4] \"Sepal.Length\" \"Sepal.Width\" \"Petal.Length\" \"Petal.Width\"\n",
      " $ x       : num [1:150, 1:4] -2.26 -2.07 -2.36 -2.29 -2.38 ...\n",
      "  ..- attr(*, \"dimnames\")=List of 2\n",
      "  .. ..$ : NULL\n",
      "  .. ..$ : chr [1:4] \"PC1\" \"PC2\" \"PC3\" \"PC4\"\n",
      " - attr(*, \"class\")= chr \"prcomp\"\n"
     ]
    }
   ],
   "source": [
    "str(pca)\n",
    "# pca$sdev contains the standard deviation of the PCs (used to calculate eigenvalues and thereby variance explained)\n",
    "# pca$x contains the PCs\n",
    "# pca$rotation contains loadings: How much the original variables contribute to each PCs"
   ]
  },
  {
   "cell_type": "code",
   "execution_count": 7,
   "metadata": {},
   "outputs": [],
   "source": [
    "# Turn new columns into a dataframe\n",
    "pc_df <- data.frame(pca$x)\n",
    "# Add the species column\n",
    "pc_df$Species <- iris$Species"
   ]
  },
  {
   "cell_type": "markdown",
   "metadata": {},
   "source": [
    "Now the dataframe looks like this:"
   ]
  },
  {
   "cell_type": "code",
   "execution_count": 8,
   "metadata": {},
   "outputs": [
    {
     "data": {
      "text/html": [
       "<table>\n",
       "<thead><tr><th scope=col>PC1</th><th scope=col>PC2</th><th scope=col>PC3</th><th scope=col>PC4</th><th scope=col>Species</th></tr></thead>\n",
       "<tbody>\n",
       "\t<tr><td>-2.257141   </td><td>-0.4784238  </td><td> 0.12727962 </td><td> 0.024087508</td><td>setosa      </td></tr>\n",
       "\t<tr><td>-2.074013   </td><td> 0.6718827  </td><td> 0.23382552 </td><td> 0.102662845</td><td>setosa      </td></tr>\n",
       "\t<tr><td>-2.356335   </td><td> 0.3407664  </td><td>-0.04405390 </td><td> 0.028282305</td><td>setosa      </td></tr>\n",
       "\t<tr><td>-2.291707   </td><td> 0.5953999  </td><td>-0.09098530 </td><td>-0.065735340</td><td>setosa      </td></tr>\n",
       "\t<tr><td>-2.381863   </td><td>-0.6446757  </td><td>-0.01568565 </td><td>-0.035802870</td><td>setosa      </td></tr>\n",
       "\t<tr><td>-2.068701   </td><td>-1.4842053  </td><td>-0.02687825 </td><td> 0.006586116</td><td>setosa      </td></tr>\n",
       "</tbody>\n",
       "</table>\n"
      ],
      "text/latex": [
       "\\begin{tabular}{r|lllll}\n",
       " PC1 & PC2 & PC3 & PC4 & Species\\\\\n",
       "\\hline\n",
       "\t -2.257141    & -0.4784238   &  0.12727962  &  0.024087508 & setosa      \\\\\n",
       "\t -2.074013    &  0.6718827   &  0.23382552  &  0.102662845 & setosa      \\\\\n",
       "\t -2.356335    &  0.3407664   & -0.04405390  &  0.028282305 & setosa      \\\\\n",
       "\t -2.291707    &  0.5953999   & -0.09098530  & -0.065735340 & setosa      \\\\\n",
       "\t -2.381863    & -0.6446757   & -0.01568565  & -0.035802870 & setosa      \\\\\n",
       "\t -2.068701    & -1.4842053   & -0.02687825  &  0.006586116 & setosa      \\\\\n",
       "\\end{tabular}\n"
      ],
      "text/markdown": [
       "\n",
       "| PC1 | PC2 | PC3 | PC4 | Species |\n",
       "|---|---|---|---|---|\n",
       "| -2.257141    | -0.4784238   |  0.12727962  |  0.024087508 | setosa       |\n",
       "| -2.074013    |  0.6718827   |  0.23382552  |  0.102662845 | setosa       |\n",
       "| -2.356335    |  0.3407664   | -0.04405390  |  0.028282305 | setosa       |\n",
       "| -2.291707    |  0.5953999   | -0.09098530  | -0.065735340 | setosa       |\n",
       "| -2.381863    | -0.6446757   | -0.01568565  | -0.035802870 | setosa       |\n",
       "| -2.068701    | -1.4842053   | -0.02687825  |  0.006586116 | setosa       |\n",
       "\n"
      ],
      "text/plain": [
       "  PC1       PC2        PC3         PC4          Species\n",
       "1 -2.257141 -0.4784238  0.12727962  0.024087508 setosa \n",
       "2 -2.074013  0.6718827  0.23382552  0.102662845 setosa \n",
       "3 -2.356335  0.3407664 -0.04405390  0.028282305 setosa \n",
       "4 -2.291707  0.5953999 -0.09098530 -0.065735340 setosa \n",
       "5 -2.381863 -0.6446757 -0.01568565 -0.035802870 setosa \n",
       "6 -2.068701 -1.4842053 -0.02687825  0.006586116 setosa "
      ]
     },
     "metadata": {},
     "output_type": "display_data"
    }
   ],
   "source": [
    "head(pc_df)"
   ]
  },
  {
   "cell_type": "markdown",
   "metadata": {},
   "source": [
    "We can only get as many PCs as we have samples or variables, whichever is lowest."
   ]
  },
  {
   "cell_type": "code",
   "execution_count": 9,
   "metadata": {},
   "outputs": [
    {
     "data": {
      "image/png": "[encoded data removed]",
      "text/plain": [
       "plot without title"
      ]
     },
     "metadata": {},
     "output_type": "display_data"
    }
   ],
   "source": [
    "# Plot it\n",
    "p <- ggplot(pc_df, aes(x = PC1, y = PC2, color = Species)) +\n",
    "    theme_bw() +\n",
    "    geom_point()\n",
    "p"
   ]
  },
  {
   "cell_type": "markdown",
   "metadata": {},
   "source": [
    "Let's look at which variables drive the PCs (loadings). "
   ]
  },
  {
   "cell_type": "code",
   "execution_count": 10,
   "metadata": {},
   "outputs": [
    {
     "data": {
      "text/html": [
       "<table>\n",
       "<thead><tr><th></th><th scope=col>PC1</th><th scope=col>PC2</th><th scope=col>PC3</th><th scope=col>PC4</th></tr></thead>\n",
       "<tbody>\n",
       "\t<tr><th scope=row>Sepal.Length</th><td> 0.5210659 </td><td>-0.37741762</td><td> 0.7195664 </td><td> 0.2612863 </td></tr>\n",
       "\t<tr><th scope=row>Sepal.Width</th><td>-0.2693474 </td><td>-0.92329566</td><td>-0.2443818 </td><td>-0.1235096 </td></tr>\n",
       "\t<tr><th scope=row>Petal.Length</th><td> 0.5804131 </td><td>-0.02449161</td><td>-0.1421264 </td><td>-0.8014492 </td></tr>\n",
       "\t<tr><th scope=row>Petal.Width</th><td> 0.5648565 </td><td>-0.06694199</td><td>-0.6342727 </td><td> 0.5235971 </td></tr>\n",
       "</tbody>\n",
       "</table>\n"
      ],
      "text/latex": [
       "\\begin{tabular}{r|llll}\n",
       "  & PC1 & PC2 & PC3 & PC4\\\\\n",
       "\\hline\n",
       "\tSepal.Length &  0.5210659  & -0.37741762 &  0.7195664  &  0.2612863 \\\\\n",
       "\tSepal.Width & -0.2693474  & -0.92329566 & -0.2443818  & -0.1235096 \\\\\n",
       "\tPetal.Length &  0.5804131  & -0.02449161 & -0.1421264  & -0.8014492 \\\\\n",
       "\tPetal.Width &  0.5648565  & -0.06694199 & -0.6342727  &  0.5235971 \\\\\n",
       "\\end{tabular}\n"
      ],
      "text/markdown": [
       "\n",
       "| <!--/--> | PC1 | PC2 | PC3 | PC4 |\n",
       "|---|---|---|---|---|\n",
       "| Sepal.Length |  0.5210659  | -0.37741762 |  0.7195664  |  0.2612863  |\n",
       "| Sepal.Width | -0.2693474  | -0.92329566 | -0.2443818  | -0.1235096  |\n",
       "| Petal.Length |  0.5804131  | -0.02449161 | -0.1421264  | -0.8014492  |\n",
       "| Petal.Width |  0.5648565  | -0.06694199 | -0.6342727  |  0.5235971  |\n",
       "\n"
      ],
      "text/plain": [
       "             PC1        PC2         PC3        PC4       \n",
       "Sepal.Length  0.5210659 -0.37741762  0.7195664  0.2612863\n",
       "Sepal.Width  -0.2693474 -0.92329566 -0.2443818 -0.1235096\n",
       "Petal.Length  0.5804131 -0.02449161 -0.1421264 -0.8014492\n",
       "Petal.Width   0.5648565 -0.06694199 -0.6342727  0.5235971"
      ]
     },
     "metadata": {},
     "output_type": "display_data"
    }
   ],
   "source": [
    "pca$rotation"
   ]
  },
  {
   "cell_type": "markdown",
   "metadata": {},
   "source": [
    "PC1 is mostly a combination of Sepal.Length, Petal.Length, and Petal.Width. PC2 is mostly driven by Sepal.Width."
   ]
  },
  {
   "cell_type": "markdown",
   "metadata": {},
   "source": [
    "We can get the eigenvalues from the sdev:"
   ]
  },
  {
   "cell_type": "code",
   "execution_count": 11,
   "metadata": {},
   "outputs": [
    {
     "data": {
      "text/html": [
       "<ol class=list-inline>\n",
       "\t<li>2.918497816532</li>\n",
       "\t<li>0.914030471468069</li>\n",
       "\t<li>0.146756875571315</li>\n",
       "\t<li>0.0207148364286192</li>\n",
       "</ol>\n"
      ],
      "text/latex": [
       "\\begin{enumerate*}\n",
       "\\item 2.918497816532\n",
       "\\item 0.914030471468069\n",
       "\\item 0.146756875571315\n",
       "\\item 0.0207148364286192\n",
       "\\end{enumerate*}\n"
      ],
      "text/markdown": [
       "1. 2.918497816532\n",
       "2. 0.914030471468069\n",
       "3. 0.146756875571315\n",
       "4. 0.0207148364286192\n",
       "\n",
       "\n"
      ],
      "text/plain": [
       "[1] 2.91849782 0.91403047 0.14675688 0.02071484"
      ]
     },
     "metadata": {},
     "output_type": "display_data"
    }
   ],
   "source": [
    "eigen <- pca$sdev^2\n",
    "eigen"
   ]
  },
  {
   "cell_type": "markdown",
   "metadata": {},
   "source": [
    "From the eigenvalues we can get the variance explained:"
   ]
  },
  {
   "cell_type": "code",
   "execution_count": 12,
   "metadata": {},
   "outputs": [
    {
     "data": {
      "text/html": [
       "<ol class=list-inline>\n",
       "\t<li>0.729624454132999</li>\n",
       "\t<li>0.228507617867017</li>\n",
       "\t<li>0.0366892188928288</li>\n",
       "\t<li>0.0051787091071548</li>\n",
       "</ol>\n"
      ],
      "text/latex": [
       "\\begin{enumerate*}\n",
       "\\item 0.729624454132999\n",
       "\\item 0.228507617867017\n",
       "\\item 0.0366892188928288\n",
       "\\item 0.0051787091071548\n",
       "\\end{enumerate*}\n"
      ],
      "text/markdown": [
       "1. 0.729624454132999\n",
       "2. 0.228507617867017\n",
       "3. 0.0366892188928288\n",
       "4. 0.0051787091071548\n",
       "\n",
       "\n"
      ],
      "text/plain": [
       "[1] 0.729624454 0.228507618 0.036689219 0.005178709"
      ]
     },
     "metadata": {},
     "output_type": "display_data"
    }
   ],
   "source": [
    "ve <- eigen/sum(eigen)\n",
    "ve"
   ]
  },
  {
   "cell_type": "markdown",
   "metadata": {},
   "source": [
    "We can put this on the plot"
   ]
  },
  {
   "cell_type": "code",
   "execution_count": 13,
   "metadata": {},
   "outputs": [
    {
     "data": {
      "image/png": "[encoded data removed]",
      "text/plain": [
       "plot without title"
      ]
     },
     "metadata": {},
     "output_type": "display_data"
    }
   ],
   "source": [
    "p + \n",
    "    xlab(paste0(\"PC1 (\", round(100*ve[1]), \"%)\")) +\n",
    "    ylab(paste0(\"PC2 (\", round(100*ve[2]), \"%)\"))"
   ]
  },
  {
   "cell_type": "markdown",
   "metadata": {},
   "source": [
    "## PCoA<a class=\"anchor\" id=\"pcoa\"></a>\n",
    "PCA is based on linear combinations of the variables, and therefore assumes that data is not too skewed, and relatively normally distributed. Principle Coordinate Analysis (PCoA) is a generalized version of PCA. The input is a dissimilarity matrix. If this dissimilarity matrix is based on euclidean distances between samples, the PCs are the same as the PCA. The strength with PCoA is that we can use any dissimilarity metric as input. Various dissimilarity metrics appropriate for amplicon data are explained in the Beta diversity notebook.\n",
    "\n",
    "### In R:\n",
    "Let's calculate the Bray-Curtis distance between samples, and then plot a PCoA"
   ]
  },
  {
   "cell_type": "code",
   "execution_count": 14,
   "metadata": {},
   "outputs": [],
   "source": [
    "library(vegan)\n",
    "dd <- vegdist(iris_sub, method = \"bray\")"
   ]
  },
  {
   "cell_type": "markdown",
   "metadata": {},
   "source": [
    "Have a look at the dissimilarity matrix (only 5 first samples). Each value is the dissimilarity between a pair of samples. The diagonal is the dissimilarity between the same samples, and is, as expected, equal to zero. "
   ]
  },
  {
   "cell_type": "code",
   "execution_count": 15,
   "metadata": {},
   "outputs": [
    {
     "data": {
      "text/html": [
       "<table>\n",
       "<thead><tr><th scope=col>1</th><th scope=col>2</th><th scope=col>3</th><th scope=col>4</th><th scope=col>5</th></tr></thead>\n",
       "<tbody>\n",
       "\t<tr><td>0.000000000</td><td>0.03553299 </td><td>0.04081633 </td><td>0.05102041 </td><td>0.009803922</td></tr>\n",
       "\t<tr><td>0.035532995</td><td>0.00000000 </td><td>0.02645503 </td><td>0.02645503 </td><td>0.035532995</td></tr>\n",
       "\t<tr><td>0.040816327</td><td>0.02645503 </td><td>0.00000000 </td><td>0.02127660 </td><td>0.040816327</td></tr>\n",
       "\t<tr><td>0.051020408</td><td>0.02645503 </td><td>0.02127660 </td><td>0.00000000 </td><td>0.051020408</td></tr>\n",
       "\t<tr><td>0.009803922</td><td>0.03553299 </td><td>0.04081633 </td><td>0.05102041 </td><td>0.000000000</td></tr>\n",
       "</tbody>\n",
       "</table>\n"
      ],
      "text/latex": [
       "\\begin{tabular}{r|lllll}\n",
       " 1 & 2 & 3 & 4 & 5\\\\\n",
       "\\hline\n",
       "\t 0.000000000 & 0.03553299  & 0.04081633  & 0.05102041  & 0.009803922\\\\\n",
       "\t 0.035532995 & 0.00000000  & 0.02645503  & 0.02645503  & 0.035532995\\\\\n",
       "\t 0.040816327 & 0.02645503  & 0.00000000  & 0.02127660  & 0.040816327\\\\\n",
       "\t 0.051020408 & 0.02645503  & 0.02127660  & 0.00000000  & 0.051020408\\\\\n",
       "\t 0.009803922 & 0.03553299  & 0.04081633  & 0.05102041  & 0.000000000\\\\\n",
       "\\end{tabular}\n"
      ],
      "text/markdown": [
       "\n",
       "| 1 | 2 | 3 | 4 | 5 |\n",
       "|---|---|---|---|---|\n",
       "| 0.000000000 | 0.03553299  | 0.04081633  | 0.05102041  | 0.009803922 |\n",
       "| 0.035532995 | 0.00000000  | 0.02645503  | 0.02645503  | 0.035532995 |\n",
       "| 0.040816327 | 0.02645503  | 0.00000000  | 0.02127660  | 0.040816327 |\n",
       "| 0.051020408 | 0.02645503  | 0.02127660  | 0.00000000  | 0.051020408 |\n",
       "| 0.009803922 | 0.03553299  | 0.04081633  | 0.05102041  | 0.000000000 |\n",
       "\n"
      ],
      "text/plain": [
       "  1           2          3          4          5          \n",
       "1 0.000000000 0.03553299 0.04081633 0.05102041 0.009803922\n",
       "2 0.035532995 0.00000000 0.02645503 0.02645503 0.035532995\n",
       "3 0.040816327 0.02645503 0.00000000 0.02127660 0.040816327\n",
       "4 0.051020408 0.02645503 0.02127660 0.00000000 0.051020408\n",
       "5 0.009803922 0.03553299 0.04081633 0.05102041 0.000000000"
      ]
     },
     "metadata": {},
     "output_type": "display_data"
    }
   ],
   "source": [
    "as.matrix(dd)[1:5,1:5]"
   ]
  },
  {
   "cell_type": "code",
   "execution_count": 16,
   "metadata": {},
   "outputs": [],
   "source": [
    "# PCoA\n",
    "pcoa_data <- cmdscale(dd, eig = TRUE)\n",
    "\n",
    "# Collect in data.frame\n",
    "pcoa_df <- data.frame(PC1 = c(pcoa_data$points[,1]),\n",
    "                      PC2 = c(pcoa_data$points[,2]),\n",
    "                      Species = iris$Species)"
   ]
  },
  {
   "cell_type": "code",
   "execution_count": 17,
   "metadata": {},
   "outputs": [
    {
     "data": {
      "image/png": "[encoded data removed]",
      "text/plain": [
       "plot without title"
      ]
     },
     "metadata": {},
     "output_type": "display_data"
    }
   ],
   "source": [
    "# Variance explained\n",
    "ve <- pcoa_data$eig/sum(pcoa_data$eig)\n",
    "\n",
    "# Plot it\n",
    "p <- ggplot(pcoa_df, aes(x = PC1, y = PC2, color = Species)) +\n",
    "    theme_bw() +\n",
    "    geom_point() +\n",
    "    xlab(paste0(\"PCoA 1 (\",round(ve[1]*100,1),\"%)\")) +\n",
    "    ylab(paste0(\"PCoA 2 (\",round(ve[2]*100,1),\"%)\"))\n",
    "p"
   ]
  },
  {
   "cell_type": "markdown",
   "metadata": {},
   "source": [
    "## PERMANOVA <a class=\"anchor\" id=\"permanova\"></a>\n",
    "PERmutational Multivariate ANalysis Of VAriance (PERMANOVA) is a method to estimate the effect a variable has on the entire microbial community. For example, for our gut microbiome dataset, we could ask whether the microbial community is different at different time points. PERMANOVA does not tell us HOW the microbial communities differ; if we want to know specifically which taxa are different between different time points we would run a Differential Abundance analysis (see notebook on this topic).\n",
    "\n",
    "The input to PERMANOVA is a dissimilarity matrix. The results of the PERMANOVA is therefore very contingent on the dissimilarity metric that is used.\n",
    "\n",
    "**Note:** The p-values are calculated by permutation, which is a random process, and will therefore vary a little each time you run it.\n",
    "\n",
    "### In R:"
   ]
  },
  {
   "cell_type": "code",
   "execution_count": 18,
   "metadata": {},
   "outputs": [
    {
     "data": {
      "text/plain": [
       "\n",
       "Call:\n",
       "adonis(formula = UF ~ Time, data = Samp) \n",
       "\n",
       "Permutation: free\n",
       "Number of permutations: 999\n",
       "\n",
       "Terms added sequentially (first to last)\n",
       "\n",
       "           Df SumsOfSqs MeanSqs F.Model      R2 Pr(>F)    \n",
       "Time        2     1.187 0.59362  1.3759 0.01838  0.001 ***\n",
       "Residuals 147    63.421 0.43143         0.98162           \n",
       "Total     149    64.608                 1.00000           \n",
       "---\n",
       "Signif. codes:  0 '***' 0.001 '**' 0.01 '*' 0.05 '.' 0.1 ' ' 1"
      ]
     },
     "metadata": {},
     "output_type": "display_data"
    }
   ],
   "source": [
    "# Calculate unweighted UniFrac (our dissimilarity matrix)\n",
    "UF <- UniFrac(phy, weighted = FALSE)\n",
    "\n",
    "# Extract sample data\n",
    "Samp <- data.frame(sample_data(phy))\n",
    "\n",
    "# We use the adonis function from the vegan package to run PERMANOVA\n",
    "adonis(UF ~ Time, data = Samp)"
   ]
  },
  {
   "cell_type": "markdown",
   "metadata": {},
   "source": [
    "We can see that *Time* has a significant effect (P-value = 0.001) on the microbial community (as summarized by unweighted UniFrac). The variance explained (R2) by the *Time* variable is 1.8%."
   ]
  },
  {
   "cell_type": "markdown",
   "metadata": {},
   "source": [
    "#### We can add additional variables:\n",
    "Here we add Delivery"
   ]
  },
  {
   "cell_type": "code",
   "execution_count": 19,
   "metadata": {},
   "outputs": [
    {
     "data": {
      "text/plain": [
       "\n",
       "Call:\n",
       "adonis(formula = UF ~ Time + Delivery, data = Samp) \n",
       "\n",
       "Permutation: free\n",
       "Number of permutations: 999\n",
       "\n",
       "Terms added sequentially (first to last)\n",
       "\n",
       "           Df SumsOfSqs MeanSqs F.Model      R2 Pr(>F)    \n",
       "Time        2     1.187 0.59362 1.37514 0.01838  0.001 ***\n",
       "Delivery    1     0.396 0.39592 0.91718 0.00613  0.804    \n",
       "Residuals 146    63.025 0.43168         0.97550           \n",
       "Total     149    64.608                 1.00000           \n",
       "---\n",
       "Signif. codes:  0 '***' 0.001 '**' 0.01 '*' 0.05 '.' 0.1 ' ' 1"
      ]
     },
     "metadata": {},
     "output_type": "display_data"
    }
   ],
   "source": [
    "adonis(UF ~ Time + Delivery, data = Samp)"
   ]
  },
  {
   "cell_type": "markdown",
   "metadata": {},
   "source": [
    "#### We can also add interactions between variables\n",
    "For example, here we test whether the effect of Delivery changes depending on the time point, or vice versa (Time:Delivery)."
   ]
  },
  {
   "cell_type": "code",
   "execution_count": 20,
   "metadata": {},
   "outputs": [
    {
     "data": {
      "text/plain": [
       "\n",
       "Call:\n",
       "adonis(formula = UF ~ Time * Delivery, data = Samp) \n",
       "\n",
       "Permutation: free\n",
       "Number of permutations: 999\n",
       "\n",
       "Terms added sequentially (first to last)\n",
       "\n",
       "               Df SumsOfSqs MeanSqs F.Model      R2 Pr(>F)    \n",
       "Time            2     1.187 0.59362 1.37401 0.01838  0.001 ***\n",
       "Delivery        1     0.396 0.39592 0.91642 0.00613  0.788    \n",
       "Time:Delivery   2     0.812 0.40603 0.93982 0.01257  0.803    \n",
       "Residuals     144    62.213 0.43203         0.96293           \n",
       "Total         149    64.608                 1.00000           \n",
       "---\n",
       "Signif. codes:  0 '***' 0.001 '**' 0.01 '*' 0.05 '.' 0.1 ' ' 1"
      ]
     },
     "metadata": {},
     "output_type": "display_data"
    }
   ],
   "source": [
    "adonis(UF ~ Time * Delivery, data = Samp)"
   ]
  },
  {
   "cell_type": "markdown",
   "metadata": {},
   "source": [
    "## Multiple correction<a class=\"anchor\" id=\"multiple\"></a>\n",
    "If we wanted to know which taxa were associated with a certain variable in our dataset, we could conduct a test for each taxa, one by one, and check the p-value. All the ones with low p-values (<0.05) we would call significantly associated with our variable. The problem is that the p-value is misleading when conducting multiple statistical tests. If the Null Hypothesis is true the p-value is expected to be anywhere between 0 and 1 (uniform distribution). As such, if enough statistical tests are conducted, some (~5%) of the p-values will, by chance, be lower than 0.05, even if there are no true associations in the data. \n",
    "\n",
    "### Getting in-depth:\n",
    "[This paper](https://www.nature.com/articles/nmeth.2900) explains the concept more in-depth for a non-statistical reader"
   ]
  },
  {
   "cell_type": "markdown",
   "metadata": {},
   "source": [
    "### Simulation\n",
    "Let's try to simulate some random data, and see how the p-value look like."
   ]
  },
  {
   "cell_type": "code",
   "execution_count": 21,
   "metadata": {},
   "outputs": [
    {
     "data": {
      "text/html": [
       "<ol class=list-inline>\n",
       "\t<li>-1.02259829017788</li>\n",
       "\t<li>0.334313482112616</li>\n",
       "\t<li>-1.02870593487954</li>\n",
       "\t<li>-1.80445662957056</li>\n",
       "\t<li>-0.592458607773531</li>\n",
       "\t<li>0.526699150846975</li>\n",
       "\t<li>-0.494443509864372</li>\n",
       "\t<li>1.90911987882607</li>\n",
       "\t<li>-0.123357190996144</li>\n",
       "\t<li>-1.5147712636903</li>\n",
       "\t<li>0.44027932560846</li>\n",
       "\t<li>0.260163423015873</li>\n",
       "\t<li>0.902079571143846</li>\n",
       "\t<li>0.473720963740097</li>\n",
       "\t<li>-1.27214078018413</li>\n",
       "\t<li>0.139103209186846</li>\n",
       "\t<li>2.40990965059518</li>\n",
       "\t<li>-1.49828444259401</li>\n",
       "\t<li>0.571366027555373</li>\n",
       "\t<li>0.279043665247828</li>\n",
       "</ol>\n"
      ],
      "text/latex": [
       "\\begin{enumerate*}\n",
       "\\item -1.02259829017788\n",
       "\\item 0.334313482112616\n",
       "\\item -1.02870593487954\n",
       "\\item -1.80445662957056\n",
       "\\item -0.592458607773531\n",
       "\\item 0.526699150846975\n",
       "\\item -0.494443509864372\n",
       "\\item 1.90911987882607\n",
       "\\item -0.123357190996144\n",
       "\\item -1.5147712636903\n",
       "\\item 0.44027932560846\n",
       "\\item 0.260163423015873\n",
       "\\item 0.902079571143846\n",
       "\\item 0.473720963740097\n",
       "\\item -1.27214078018413\n",
       "\\item 0.139103209186846\n",
       "\\item 2.40990965059518\n",
       "\\item -1.49828444259401\n",
       "\\item 0.571366027555373\n",
       "\\item 0.279043665247828\n",
       "\\end{enumerate*}\n"
      ],
      "text/markdown": [
       "1. -1.02259829017788\n",
       "2. 0.334313482112616\n",
       "3. -1.02870593487954\n",
       "4. -1.80445662957056\n",
       "5. -0.592458607773531\n",
       "6. 0.526699150846975\n",
       "7. -0.494443509864372\n",
       "8. 1.90911987882607\n",
       "9. -0.123357190996144\n",
       "10. -1.5147712636903\n",
       "11. 0.44027932560846\n",
       "12. 0.260163423015873\n",
       "13. 0.902079571143846\n",
       "14. 0.473720963740097\n",
       "15. -1.27214078018413\n",
       "16. 0.139103209186846\n",
       "17. 2.40990965059518\n",
       "18. -1.49828444259401\n",
       "19. 0.571366027555373\n",
       "20. 0.279043665247828\n",
       "\n",
       "\n"
      ],
      "text/plain": [
       " [1] -1.0225983  0.3343135 -1.0287059 -1.8044566 -0.5924586  0.5266992\n",
       " [7] -0.4944435  1.9091199 -0.1233572 -1.5147713  0.4402793  0.2601634\n",
       "[13]  0.9020796  0.4737210 -1.2721408  0.1391032  2.4099097 -1.4982844\n",
       "[19]  0.5713660  0.2790437"
      ]
     },
     "metadata": {},
     "output_type": "display_data"
    }
   ],
   "source": [
    "# We use the rnorm() function to generate random normally distributed data with a mean of 0 and standard deviation of 1\n",
    "# Here is an example with 20 random (normallly distributed) numbers:\n",
    "rnorm(20)"
   ]
  },
  {
   "cell_type": "markdown",
   "metadata": {},
   "source": [
    "If we do a t-test comparing two randomlly created sets of numbers, they should not be significantly different."
   ]
  },
  {
   "cell_type": "code",
   "execution_count": 22,
   "metadata": {},
   "outputs": [
    {
     "data": {
      "text/plain": [
       "\n",
       "\tWelch Two Sample t-test\n",
       "\n",
       "data:  rnorm(20) and rnorm(20)\n",
       "t = -0.42984, df = 37.975, p-value = 0.6697\n",
       "alternative hypothesis: true difference in means is not equal to 0\n",
       "95 percent confidence interval:\n",
       " -0.6984759  0.4538160\n",
       "sample estimates:\n",
       "   mean of x    mean of y \n",
       "-0.120406679  0.001923246 \n"
      ]
     },
     "metadata": {},
     "output_type": "display_data"
    }
   ],
   "source": [
    "t.test(rnorm(20), rnorm(20))"
   ]
  },
  {
   "cell_type": "markdown",
   "metadata": {},
   "source": [
    "As expected, not significant. However, let's try to do this 10000 times, and plot a histogram of the p-values:"
   ]
  },
  {
   "cell_type": "code",
   "execution_count": 23,
   "metadata": {},
   "outputs": [],
   "source": [
    "# 10000 t-tests with random data\n",
    "random_ttests <- sapply(1:10000, function(x) t.test(rnorm(20), rnorm(20))$p.value)"
   ]
  },
  {
   "cell_type": "code",
   "execution_count": 24,
   "metadata": {},
   "outputs": [
    {
     "data": {
      "image/png": "[encoded data removed]",
      "text/plain": [
       "Plot with title \"Histogram of random_ttests\""
      ]
     },
     "metadata": {},
     "output_type": "display_data"
    }
   ],
   "source": [
    "# Histogram\n",
    "hist(random_ttests, breaks = 20)"
   ]
  },
  {
   "cell_type": "markdown",
   "metadata": {},
   "source": [
    "Let's count how many of the p-values are below 0.05:"
   ]
  },
  {
   "cell_type": "code",
   "execution_count": 25,
   "metadata": {},
   "outputs": [
    {
     "data": {
      "text/html": [
       "0.0503"
      ],
      "text/latex": [
       "0.0503"
      ],
      "text/markdown": [
       "0.0503"
      ],
      "text/plain": [
       "[1] 0.0503"
      ]
     },
     "metadata": {},
     "output_type": "display_data"
    }
   ],
   "source": [
    "sum(random_ttests <= 0.05)/length(random_ttests)"
   ]
  },
  {
   "cell_type": "markdown",
   "metadata": {},
   "source": [
    "Around 5% of the p-values are lower than 0.05"
   ]
  },
  {
   "cell_type": "markdown",
   "metadata": {},
   "source": [
    "### FDR correction\n",
    "The most common way to adjust the p-values for this problem in the microbiome field is to use the False Discovery Rate (FDR) method developed by Benjamini and Hochberg (BH), see details on this method in the paper linked above. Assuming a cutoff of 0.05 for assigning statistical significance, then for the orginal p-values we accept a 5% chance of falsely denoting **a single test** significant even though it is not. With the FDR we accept that 5% of **all the tests we call significant** are not truely significant. The difference is subtle, but crucial.\n",
    "\n",
    "#### In R:"
   ]
  },
  {
   "cell_type": "code",
   "execution_count": 26,
   "metadata": {},
   "outputs": [],
   "source": [
    "adjusted_pvals <- p.adjust(random_ttests, method = \"BH\")"
   ]
  },
  {
   "cell_type": "code",
   "execution_count": 27,
   "metadata": {},
   "outputs": [
    {
     "data": {
      "image/png": "[encoded data removed]",
      "text/plain": [
       "Plot with title \"Histogram of adjusted_pvals\""
      ]
     },
     "metadata": {},
     "output_type": "display_data"
    }
   ],
   "source": [
    "# Histogram\n",
    "hist(adjusted_pvals)"
   ]
  },
  {
   "cell_type": "markdown",
   "metadata": {},
   "source": [
    "All adjusted p-values are close to 1 (not significant)"
   ]
  },
  {
   "cell_type": "markdown",
   "metadata": {},
   "source": [
    "##### Let's try to add a single t-test which should be significant and check if it is still significant after adjustment"
   ]
  },
  {
   "cell_type": "code",
   "execution_count": 28,
   "metadata": {},
   "outputs": [
    {
     "name": "stdout",
     "output_type": "stream",
     "text": [
      "[1] \"Original p-value:\"\n"
     ]
    },
    {
     "data": {
      "text/html": [
       "2.35450753741616e-06"
      ],
      "text/latex": [
       "2.35450753741616e-06"
      ],
      "text/markdown": [
       "2.35450753741616e-06"
      ],
      "text/plain": [
       "[1] 2.354508e-06"
      ]
     },
     "metadata": {},
     "output_type": "display_data"
    },
    {
     "name": "stdout",
     "output_type": "stream",
     "text": [
      "[1] \"FDR-adjusted p-value:\"\n"
     ]
    },
    {
     "data": {
      "text/html": [
       "0.023547429881699"
      ],
      "text/latex": [
       "0.023547429881699"
      ],
      "text/markdown": [
       "0.023547429881699"
      ],
      "text/plain": [
       "[1] 0.02354743"
      ]
     },
     "metadata": {},
     "output_type": "display_data"
    }
   ],
   "source": [
    "# Low p-value\n",
    "ttest_sig <- t.test(rnorm(20, mean = 0), rnorm(20, mean = 2))$p.value\n",
    "\n",
    "# Append to the 10000 p-values\n",
    "random_ttests_plus1 <- c(random_ttests, ttest_sig)\n",
    "\n",
    "# Adjust p-values\n",
    "adjusted_pvals_plus1 <- p.adjust(random_ttests_plus1, method = \"BH\")\n",
    "\n",
    "# Print\n",
    "print(\"Original p-value:\")\n",
    "ttest_sig\n",
    "print(\"FDR-adjusted p-value:\")\n",
    "adjusted_pvals_plus1[length(adjusted_pvals_plus1)]"
   ]
  },
  {
   "cell_type": "markdown",
   "metadata": {},
   "source": [
    "The p-value is higher, but still significant."
   ]
  }
 ],
 "metadata": {
  "kernelspec": {
   "display_name": "R",
   "language": "R",
   "name": "ir"
  },
  "language_info": {
   "codemirror_mode": "r",
   "file_extension": ".r",
   "mimetype": "text/x-r-source",
   "name": "R",
   "pygments_lexer": "r",
   "version": "3.6.1"
  }
 },
 "nbformat": 4,
 "nbformat_minor": 2
}
