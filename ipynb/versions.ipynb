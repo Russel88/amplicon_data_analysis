{
 "cells": [
  {
   "cell_type": "code",
   "execution_count": 2,
   "metadata": {},
   "outputs": [],
   "source": [
    "library(phyloseq)\n",
    "library(picante)\n",
    "library(ggplot2)\n",
    "library(multcomp)\n",
    "library(nlme)\n",
    "library(vegan)\n",
    "library(DAtest)\n",
    "library(edgeR)\n",
    "library(DESeq2)\n",
    "library(metagenomeSeq)\n",
    "library(limma)\n",
    "library(baySeq)\n",
    "library(ALDEx2)\n",
    "library(MicEco)"
   ]
  },
  {
   "cell_type": "code",
   "execution_count": 3,
   "metadata": {},
   "outputs": [
    {
     "data": {
      "text/plain": [
       "R version 3.6.1 (2019-07-05)\n",
       "Platform: x86_64-w64-mingw32/x64 (64-bit)\n",
       "Running under: Windows 10 x64 (build 18363)\n",
       "\n",
       "Matrix products: default\n",
       "\n",
       "locale:\n",
       "[1] LC_COLLATE=Danish_Denmark.1252  LC_CTYPE=Danish_Denmark.1252   \n",
       "[3] LC_MONETARY=Danish_Denmark.1252 LC_NUMERIC=C                   \n",
       "[5] LC_TIME=Danish_Denmark.1252    \n",
       "\n",
       "attached base packages:\n",
       "[1] parallel  stats4    stats     graphics  grDevices utils     datasets \n",
       "[8] methods   base     \n",
       "\n",
       "other attached packages:\n",
       " [1] MicEco_0.9.8                ALDEx2_1.18.0              \n",
       " [3] baySeq_2.20.0               abind_1.4-5                \n",
       " [5] metagenomeSeq_1.28.0        RColorBrewer_1.1-2         \n",
       " [7] glmnet_3.0-2                Matrix_1.2-18              \n",
       " [9] DESeq2_1.26.0               SummarizedExperiment_1.16.1\n",
       "[11] DelayedArray_0.12.1         BiocParallel_1.20.1        \n",
       "[13] matrixStats_0.55.0          Biobase_2.46.0             \n",
       "[15] GenomicRanges_1.38.0        GenomeInfoDb_1.22.0        \n",
       "[17] IRanges_2.20.1              S4Vectors_0.24.1           \n",
       "[19] BiocGenerics_0.32.0         edgeR_3.28.0               \n",
       "[21] limma_3.42.0                DAtest_2.7.15              \n",
       "[23] multcomp_1.4-11             TH.data_1.0-10             \n",
       "[25] MASS_7.3-51.5               survival_3.1-8             \n",
       "[27] mvtnorm_1.0-11              ggplot2_3.2.1              \n",
       "[29] picante_1.8                 nlme_3.1-143               \n",
       "[31] vegan_2.5-6                 lattice_0.20-38            \n",
       "[33] permute_0.9-5               ape_5.3                    \n",
       "[35] phyloseq_1.30.0            \n",
       "\n",
       "loaded via a namespace (and not attached):\n",
       "  [1] uuid_0.1-2             snow_0.4-3             backports_1.1.5       \n",
       "  [4] Hmisc_4.3-0            plyr_1.8.5             igraph_1.2.4.2        \n",
       "  [7] repr_0.19.2            lazyeval_0.2.2         splines_3.6.1         \n",
       " [10] lpsymphony_1.14.0      digest_0.6.23          foreach_1.4.7         \n",
       " [13] htmltools_0.4.0        gdata_2.18.0           magrittr_1.5          \n",
       " [16] checkmate_1.9.4        memoise_1.1.0          cluster_2.1.0         \n",
       " [19] doParallel_1.0.15      Biostrings_2.54.0      annotate_1.64.0       \n",
       " [22] sandwich_2.5-1         bdsmatrix_1.3-4        jpeg_0.1-8.1          \n",
       " [25] colorspace_1.4-1       blob_1.2.0             xfun_0.11             \n",
       " [28] dplyr_0.8.3            crayon_1.3.4           RCurl_1.95-4.12       \n",
       " [31] jsonlite_1.6           genefilter_1.68.0      lme4_1.1-21           \n",
       " [34] zeallot_0.1.0          zoo_1.8-6              iterators_1.0.12      \n",
       " [37] glue_1.3.1             gtable_0.3.0           zlibbioc_1.32.0       \n",
       " [40] XVector_0.26.0         Rhdf5lib_1.8.0         shape_1.4.4           \n",
       " [43] scales_1.1.0           DBI_1.1.0              IHW_1.14.0            \n",
       " [46] Rcpp_1.0.3             xtable_1.8-4           htmlTable_1.13.3      \n",
       " [49] foreign_0.8-74         bit_1.1-14             Formula_1.2-3         \n",
       " [52] htmlwidgets_1.5.1      gplots_3.0.1.1         acepack_1.4.1         \n",
       " [55] pkgconfig_2.0.3        XML_3.98-1.20          nnet_7.3-12           \n",
       " [58] locfit_1.5-9.1         tidyselect_0.2.5       rlang_0.4.2           \n",
       " [61] reshape2_1.4.3         AnnotationDbi_1.48.0   munsell_0.5.0         \n",
       " [64] tools_3.6.1            RSQLite_2.1.5          ade4_1.7-13           \n",
       " [67] fdrtool_1.2.15         evaluate_0.14          biomformat_1.14.0     \n",
       " [70] stringr_1.4.0          knitr_1.26             bit64_0.9-7           \n",
       " [73] caTools_1.17.1.3       purrr_0.3.3            slam_0.1-47           \n",
       " [76] compiler_3.6.1         rstudioapi_0.10        png_0.1-7             \n",
       " [79] tibble_2.1.3           geneplotter_1.64.0     stringi_1.4.5         \n",
       " [82] IRdisplay_0.7.0        nloptr_1.2.1           multtest_2.42.0       \n",
       " [85] vctrs_0.2.1            pillar_1.4.3           lifecycle_0.1.0       \n",
       " [88] eulerr_6.0.0           data.table_1.12.8      cowplot_1.0.0         \n",
       " [91] bitops_1.0-6           R6_2.4.1               latticeExtra_0.6-29   \n",
       " [94] KernSmooth_2.23-16     gridExtra_2.3          codetools_0.2-16      \n",
       " [97] boot_1.3-24            gtools_3.8.1           assertthat_0.2.1      \n",
       "[100] Wrench_1.4.0           rhdf5_2.30.1           withr_2.1.2           \n",
       "[103] GenomeInfoDbData_1.2.2 mgcv_1.8-31            doSNOW_1.0.18         \n",
       "[106] grid_3.6.1             rpart_4.1-15           IRkernel_0.8.15       \n",
       "[109] minqa_1.2.4            bbmle_1.0.23.1         pbdZMQ_0.3-3          \n",
       "[112] pROC_1.15.3            numDeriv_2016.8-1.1    base64enc_0.1-3       "
      ]
     },
     "metadata": {},
     "output_type": "display_data"
    }
   ],
   "source": [
    "sessionInfo()"
   ]
  },
  {
   "cell_type": "code",
   "execution_count": null,
   "metadata": {},
   "outputs": [],
   "source": []
  }
 ],
 "metadata": {
  "kernelspec": {
   "display_name": "R",
   "language": "R",
   "name": "ir"
  },
  "language_info": {
   "codemirror_mode": "r",
   "file_extension": ".r",
   "mimetype": "text/x-r-source",
   "name": "R",
   "pygments_lexer": "r",
   "version": "3.6.1"
  }
 },
 "nbformat": 4,
 "nbformat_minor": 2
}
