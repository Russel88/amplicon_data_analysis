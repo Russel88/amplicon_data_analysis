{
 "cells": [
  {
   "cell_type": "code",
   "execution_count": 2,
   "metadata": {},
   "outputs": [],
   "source": [
    "library(DESeq2)\n",
    "library(ggplot2)\n",
    "library(multcomp)\n",
    "library(phyloseq)\n",
    "library(vegan)\n",
    "library(DAtest)\n",
    "library(MicEco)\n",
    "library(dada2)\n",
    "library(ips)\n",
    "library(nlme)\n",
    "library(picante)\n",
    "library(ggrepel)\n",
    "library(SpiecEasi)\n",
    "library(glmnet)\n",
    "library(cluster)\n",
    "library(randomForest)"
   ]
  },
  {
   "cell_type": "code",
   "execution_count": 3,
   "metadata": {},
   "outputs": [
    {
     "data": {
      "text/plain": [
       "R version 3.6.3 (2020-02-29)\n",
       "Platform: x86_64-w64-mingw32/x64 (64-bit)\n",
       "Running under: Windows 10 x64 (build 18363)\n",
       "\n",
       "Matrix products: default\n",
       "\n",
       "locale:\n",
       "[1] LC_COLLATE=Danish_Denmark.1252  LC_CTYPE=Danish_Denmark.1252   \n",
       "[3] LC_MONETARY=Danish_Denmark.1252 LC_NUMERIC=C                   \n",
       "[5] LC_TIME=Danish_Denmark.1252    \n",
       "\n",
       "attached base packages:\n",
       "[1] parallel  stats4    stats     graphics  grDevices utils     datasets \n",
       "[8] methods   base     \n",
       "\n",
       "other attached packages:\n",
       " [1] randomForest_4.6-14         cluster_2.1.0              \n",
       " [3] glmnet_3.0-2                Matrix_1.2-18              \n",
       " [5] SpiecEasi_1.0.7             ggrepel_0.8.2              \n",
       " [7] picante_1.8.1               nlme_3.1-145               \n",
       " [9] ips_0.0.11                  ape_5.3                    \n",
       "[11] dada2_1.14.1                Rcpp_1.0.4.6               \n",
       "[13] MicEco_0.9.14               DAtest_2.7.18              \n",
       "[15] vegan_2.5-6                 lattice_0.20-41            \n",
       "[17] permute_0.9-5               phyloseq_1.30.0            \n",
       "[19] multcomp_1.4-13             TH.data_1.0-10             \n",
       "[21] MASS_7.3-51.5               survival_3.1-11            \n",
       "[23] mvtnorm_1.1-0               ggplot2_3.3.0              \n",
       "[25] DESeq2_1.26.0               SummarizedExperiment_1.16.1\n",
       "[27] DelayedArray_0.12.3         BiocParallel_1.20.1        \n",
       "[29] matrixStats_0.56.0          Biobase_2.46.0             \n",
       "[31] GenomicRanges_1.38.0        GenomeInfoDb_1.22.1        \n",
       "[33] IRanges_2.20.2              S4Vectors_0.24.4           \n",
       "[35] BiocGenerics_0.32.0        \n",
       "\n",
       "loaded via a namespace (and not attached):\n",
       "  [1] uuid_0.1-4               snow_0.4-3               backports_1.1.6         \n",
       "  [4] fastmatch_1.1-0          Hmisc_4.4-0              VGAM_1.1-2              \n",
       "  [7] plyr_1.8.6               igraph_1.2.5             repr_0.19.2             \n",
       " [10] splines_3.6.3            digest_0.6.25            foreach_1.5.0           \n",
       " [13] htmltools_0.4.0          fansi_0.4.1              magrittr_1.5            \n",
       " [16] checkmate_2.0.0          memoise_1.1.0            doParallel_1.0.15       \n",
       " [19] Biostrings_2.54.0        annotate_1.64.0          RcppParallel_5.0.0      \n",
       " [22] sandwich_2.5-1           bdsmatrix_1.3-4          jpeg_0.1-8.1            \n",
       " [25] colorspace_1.4-1         blob_1.2.1               xfun_0.13               \n",
       " [28] dplyr_0.8.5              crayon_1.3.4             RCurl_1.98-1.1          \n",
       " [31] jsonlite_1.6.1           genefilter_1.68.0        lme4_1.1-21             \n",
       " [34] phangorn_2.5.5           zoo_1.8-7                iterators_1.0.12        \n",
       " [37] glue_1.4.0               gtable_0.3.0             zlibbioc_1.32.0         \n",
       " [40] XVector_0.26.0           Rhdf5lib_1.8.0           shape_1.4.4             \n",
       " [43] abind_1.4-5              scales_1.1.0             pheatmap_1.0.12         \n",
       " [46] DBI_1.1.0                xtable_1.8-4             htmlTable_1.13.3        \n",
       " [49] foreign_0.8-76           bit_1.1-15.2             Formula_1.2-3           \n",
       " [52] htmlwidgets_1.5.1        pulsar_0.3.6             RColorBrewer_1.1-2      \n",
       " [55] acepack_1.4.1            ellipsis_0.3.0           pkgconfig_2.0.3         \n",
       " [58] XML_3.99-0.3             nnet_7.3-13              locfit_1.5-9.4          \n",
       " [61] tidyselect_1.0.0         rlang_0.4.5              reshape2_1.4.3          \n",
       " [64] AnnotationDbi_1.48.0     munsell_0.5.0            tools_3.6.3             \n",
       " [67] cli_2.0.2                RSQLite_2.2.0            ade4_1.7-15             \n",
       " [70] evaluate_0.14            biomformat_1.14.0        stringr_1.4.0           \n",
       " [73] knitr_1.28               bit64_0.9-7              purrr_0.3.3             \n",
       " [76] compiler_3.6.3           rstudioapi_0.11          png_0.1-7               \n",
       " [79] huge_1.3.4.1             tibble_3.0.0             geneplotter_1.64.0      \n",
       " [82] stringi_1.4.6            IRdisplay_0.7.0          nloptr_1.2.2.1          \n",
       " [85] multtest_2.42.0          vctrs_0.2.4              pillar_1.4.3            \n",
       " [88] lifecycle_0.2.0          eulerr_6.1.0             data.table_1.12.8       \n",
       " [91] cowplot_1.0.0            bitops_1.0-6             hwriter_1.3.2           \n",
       " [94] R6_2.4.1                 latticeExtra_0.6-29      ShortRead_1.44.3        \n",
       " [97] gridExtra_2.3            codetools_0.2-16         boot_1.3-24             \n",
       "[100] assertthat_0.2.1         rhdf5_2.30.1             withr_2.1.2             \n",
       "[103] Rsamtools_2.2.3          GenomicAlignments_1.22.1 GenomeInfoDbData_1.2.2  \n",
       "[106] mgcv_1.8-31              doSNOW_1.0.18            quadprog_1.5-8          \n",
       "[109] grid_3.6.3               rpart_4.1-15             IRkernel_0.8.15         \n",
       "[112] minqa_1.2.4              pbdZMQ_0.3-3             bbmle_1.0.23.1          \n",
       "[115] pROC_1.16.2              numDeriv_2016.8-1.1      base64enc_0.1-3         "
      ]
     },
     "metadata": {},
     "output_type": "display_data"
    }
   ],
   "source": [
    "sessionInfo()"
   ]
  }
 ],
 "metadata": {
  "kernelspec": {
   "display_name": "R",
   "language": "R",
   "name": "ir"
  },
  "language_info": {
   "codemirror_mode": "r",
   "file_extension": ".r",
   "mimetype": "text/x-r-source",
   "name": "R",
   "pygments_lexer": "r",
   "version": "3.6.3"
  }
 },
 "nbformat": 4,
 "nbformat_minor": 2
}
