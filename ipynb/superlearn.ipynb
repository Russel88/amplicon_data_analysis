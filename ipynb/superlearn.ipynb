{
 "cells": [
  {
   "cell_type": "markdown",
   "metadata": {},
   "source": [
    "# Supervised learning - a short primer"
   ]
  },
  {
   "cell_type": "markdown",
   "metadata": {},
   "source": [
    "This notebook covers some basic supervised learning techniques, which can be used in microbiome science.\n",
    "\n",
    "The following methods can be used to find features (for example ASVs) that can predict some outcome of interest, for example whether a sample comes from a control or treatment group, or some other metadata associated with the samples. In some sense, the methods have the same outcome as in [Differential abundance analysis](https://microucph.github.io/amplicon_data_analysis/html/da.html), but with supervised machine learning the purpose is not of inference (based on p-values), but it is prediction. \n",
    "\n",
    "### Getting in-depth\n",
    "If you want to learn more about machine learning I can highly recommend [The Elements of Statistical Learning](https://web.stanford.edu/~hastie/Papers/ESLII.pdf) by Hastie, Tibshirani, and Friedman.\n",
    "\n",
    "#### Short primers:\n",
    "* [Paper on machine learning in general](https://www.nature.com/articles/nmeth.4526)\n",
    "* [Paper on supervised learning](https://www.nature.com/articles/nmeth.4551)\n",
    "* [Paper on statistics versus machine learning](https://www.nature.com/articles/nmeth.4642)"
   ]
  },
  {
   "cell_type": "markdown",
   "metadata": {},
   "source": [
    "# Contents\n",
    "* [The dataset](#data)\n",
    "* [Training, validating, and testing](#train)\n",
    "* [Regularized linear models](#lasso)\n",
    "* [Random forests](#rf)"
   ]
  },
  {
   "cell_type": "markdown",
   "metadata": {},
   "source": [
    "## Dataset<a class=\"anchor\" id=\"data\"></a>"
   ]
  },
  {
   "cell_type": "markdown",
   "metadata": {},
   "source": [
    "Let's load our example dataset"
   ]
  },
  {
   "cell_type": "code",
   "execution_count": 1,
   "metadata": {},
   "outputs": [],
   "source": [
    "library(phyloseq)\n",
    "load(\"../data/physeq.RData\")"
   ]
  },
  {
   "cell_type": "markdown",
   "metadata": {},
   "source": [
    "## Train, validate, and test<a class=\"anchor\" id=\"train\"></a>\n",
    "To ensure our model is not overfitting (having a good fit in our dataset, but cannot be generalized to other similar datasets), we need to split our dataset into 3 parts to ensure proper fitting. The **train** set of the dataset is used to train a specific model, the **validation** set is used compare models to choose hyperparameters of the model, and the **test** set is used only to check how good our final model works.\n",
    "\n",
    "### Cross-validation\n",
    "A widely used method for choosing hyperparameters is to use cross-validation. With cross-validation the train and validation datasets are combined and are split into k parts. Then the model is fit k times using a different part of the dataset each time as validation set, and the remainder as train set.\n",
    "\n",
    "### To use a test set or not\n",
    "If you want to know how good your model is, you should use a test set which has not been used for training at all. It's actually uncommon to see a test set in microbiome science, but because it is best practice we will use it in this notebook\n",
    "\n",
    "#### [In-depth paper on overfitting](https://www.nature.com/articles/nmeth.3968)"
   ]
  },
  {
   "cell_type": "code",
   "execution_count": 2,
   "metadata": {},
   "outputs": [],
   "source": [
    "# Split in test and train/validate (30 random samples are used a test set)\n",
    "set.seed(42)\n",
    "test_set <- sample(sample_names(phy), 30)"
   ]
  },
  {
   "cell_type": "code",
   "execution_count": 3,
   "metadata": {},
   "outputs": [],
   "source": [
    "phy_train <- subset_samples(phy, !sample_names(phy) %in% test_set)\n",
    "phy_test <- subset_samples(phy, sample_names(phy) %in% test_set)"
   ]
  },
  {
   "cell_type": "code",
   "execution_count": 4,
   "metadata": {},
   "outputs": [
    {
     "data": {
      "text/plain": [
       "phyloseq-class experiment-level object\n",
       "otu_table()   OTU Table:         [ 1310 taxa and 120 samples ]\n",
       "sample_data() Sample Data:       [ 120 samples by 3 sample variables ]\n",
       "tax_table()   Taxonomy Table:    [ 1310 taxa by 7 taxonomic ranks ]\n",
       "phy_tree()    Phylogenetic Tree: [ 1310 tips and 1309 internal nodes ]\n",
       "refseq()      DNAStringSet:      [ 1310 reference sequences ]"
      ]
     },
     "metadata": {},
     "output_type": "display_data"
    }
   ],
   "source": [
    "phy_train"
   ]
  },
  {
   "cell_type": "code",
   "execution_count": 5,
   "metadata": {},
   "outputs": [
    {
     "data": {
      "text/plain": [
       "phyloseq-class experiment-level object\n",
       "otu_table()   OTU Table:         [ 1310 taxa and 30 samples ]\n",
       "sample_data() Sample Data:       [ 30 samples by 3 sample variables ]\n",
       "tax_table()   Taxonomy Table:    [ 1310 taxa by 7 taxonomic ranks ]\n",
       "phy_tree()    Phylogenetic Tree: [ 1310 tips and 1309 internal nodes ]\n",
       "refseq()      DNAStringSet:      [ 1310 reference sequences ]"
      ]
     },
     "metadata": {},
     "output_type": "display_data"
    }
   ],
   "source": [
    "phy_test"
   ]
  },
  {
   "cell_type": "markdown",
   "metadata": {},
   "source": [
    "## Sparse regularized linear models<a class=\"anchor\" id=\"lasso\"></a>\n",
    "A simple supervised learning method would be to use multiple linear regression, and simply add all features as independent variables. However, the problem with microbiome datasets is that we usually have many more features than samples (p > n problem), which means we cannot fit these models. A way to fix this problem is to use sparse regularization; the idea is that we penalize the model when it adds features, meaning that we try to force the model to only use features that are *important* enough for the prediction. \n",
    "\n",
    "#### [In-depth paper on regularization](https://www.nature.com/articles/nmeth.4014)\n",
    "\n",
    "### L1 - LASSO\n",
    "L1 penalty or LASSO, is a penalty which sets the estimates of \"non-important\" features to zero, that is, it selectes which features are most important for predicting the outcome. If there are highly correlating features, it will choose randomly among these.\n",
    "\n",
    "### L2 - Ridge\n",
    "L2 penalty or Ridge, is a penalty which reduces the estimates of all features as more features are added. It will therefore not select features (all estimates will be non-zero), but it will regularize the model. It is better fitted than LASSO if highly correlated features are included in the model\n",
    "\n",
    "### Elastic net\n",
    "Elastic net is a generalized penalty which introduces an *alpha* parameter. When *alpha=1* it is a LASSO penalty, when *alpha=0* it is Ridge, and with *alpha* between 0 and 1 it is a mix of the two.\n",
    "\n",
    "### Hyperparameters\n",
    "All these sparse regularization methods needs a *lamda* hyperparameter, which controls how strong the penalty is. Elastic net additionally needs the *alpha* hyperparameter.\n",
    "\n",
    "### In R:\n",
    "Let's fit a LASSO model. We use logistic regression as we want to predict whether our sample comes from a child which has been born by C-section (1) or vaginal birth (0).\n",
    "#### [In-depth paper on logistic regression](https://www.nature.com/articles/nmeth.3904)"
   ]
  },
  {
   "cell_type": "code",
   "execution_count": 6,
   "metadata": {},
   "outputs": [
    {
     "name": "stderr",
     "output_type": "stream",
     "text": [
      "Loading required package: Matrix\n",
      "Loaded glmnet 3.0-2\n",
      "\n"
     ]
    }
   ],
   "source": [
    "library(glmnet)"
   ]
  },
  {
   "cell_type": "code",
   "execution_count": 7,
   "metadata": {},
   "outputs": [],
   "source": [
    "# Extract outcome and make it binary\n",
    "y <- ifelse(unlist(sample_data(phy_train)[,\"Delivery\"]) == \"Sectio\", 1, 0)\n",
    "\n",
    "# Extract features and normalize and transform them\n",
    "X <- otu_table(phy_train)\n",
    "X <- apply(X, 2, function(x) x+1/sum(x+1))\n",
    "X <- t(log10(X))"
   ]
  },
  {
   "cell_type": "markdown",
   "metadata": {},
   "source": [
    "**Note on transformation:** As the model assume linearity we log-transform the relative abundances to make them more *normal*. Alternatively, one could do a CLR transformation of the abundances."
   ]
  },
  {
   "cell_type": "markdown",
   "metadata": {},
   "source": [
    "Fit the model (with 5 cross-validation folds, 5-10 are usually recommended)"
   ]
  },
  {
   "cell_type": "code",
   "execution_count": 8,
   "metadata": {},
   "outputs": [],
   "source": [
    "cvfit <- cv.glmnet(X, y, family = \"binomial\", alpha = 1, nfolds = 5)"
   ]
  },
  {
   "cell_type": "markdown",
   "metadata": {},
   "source": [
    "We can plot the lambda parameter against the deviance. Low deviance means it's a good fit."
   ]
  },
  {
   "cell_type": "code",
   "execution_count": 9,
   "metadata": {},
   "outputs": [
    {
     "data": {
      "image/png": "[encoded data removed]",
      "text/plain": [
       "plot without title"
      ]
     },
     "metadata": {},
     "output_type": "display_data"
    }
   ],
   "source": [
    "plot(cvfit)"
   ]
  },
  {
   "cell_type": "markdown",
   "metadata": {},
   "source": [
    "If we start reading the plot from the left, we have many features in the model (84), as lambda increases (moving to the right), we get fewer features and the deviance is getting smaller. At some point the deviance starts rising again as we get even fewer features. The first vertical line denotes the best model (lowest deviance), the second vertical line denotes the simplest model of which the deviance is within 1 standard error of the mean of the best model. \n",
    "\n",
    "#### Why is the deviance curve U-shaped?\n",
    "With few features in the model (high lambda, right in the plot) we simply don't have enough information to make good predictions. With many features (low lambda, left in the plot) we start overfitting; features are added that only contributes variance to the model, so they might correlate with the outcome in the training set, but not in the validation set, and are therefore probably noise.\n",
    "\n",
    "Let's see the coefficients of the simplest (but still good) model:"
   ]
  },
  {
   "cell_type": "code",
   "execution_count": 10,
   "metadata": {},
   "outputs": [
    {
     "data": {
      "text/html": [
       "<dl class=dl-horizontal>\n",
       "\t<dt>(Intercept)</dt>\n",
       "\t\t<dd>1.49100719856145</dd>\n",
       "\t<dt>2424186d5cc0b7c749f3645004df6a17</dt>\n",
       "\t\t<dd>0.0653777787604116</dd>\n",
       "\t<dt>e19d099ae7e7587eaa48af0f58917a0f</dt>\n",
       "\t\t<dd>0.0585232901384771</dd>\n",
       "\t<dt>1f685887ffe789e817d581f37aa3cfab</dt>\n",
       "\t\t<dd>0.0465210763409769</dd>\n",
       "\t<dt>43f3f2e3459e11bed9c3b5c187767fcf</dt>\n",
       "\t\t<dd>0.0179657537606648</dd>\n",
       "\t<dt>d4f4f46ec402280ae29751a0c0029f51</dt>\n",
       "\t\t<dd>0.0710826617909787</dd>\n",
       "\t<dt>7bc7407c94d7043a80982998cbac426d</dt>\n",
       "\t\t<dd>0.0269666262793848</dd>\n",
       "\t<dt>01afdaa62d29c7baa9d60216b0ea90c1</dt>\n",
       "\t\t<dd>0.0249499682384017</dd>\n",
       "\t<dt>aa0d9eb04bfc40cf6079830cf147dea2</dt>\n",
       "\t\t<dd>0.049157129205169</dd>\n",
       "\t<dt>b411bdf72ff49585b1b1d6058244f6ee</dt>\n",
       "\t\t<dd>0.108437852270884</dd>\n",
       "\t<dt>eae785b902cef8893ff591183dfa4efd</dt>\n",
       "\t\t<dd>0.0630101250214731</dd>\n",
       "\t<dt>9dece060ffcff93473a7023dcee0defd</dt>\n",
       "\t\t<dd>0.0382871318249964</dd>\n",
       "\t<dt>bb44afa4a4d1bf473bb3fa1c5427e8de</dt>\n",
       "\t\t<dd>0.0185049655630583</dd>\n",
       "\t<dt>50d6182d5d321721f2d223d9757415e2</dt>\n",
       "\t\t<dd>0.000616705223342962</dd>\n",
       "\t<dt>c1cb63a49b75a357d6fa0766f159baa3</dt>\n",
       "\t\t<dd>0.0317236590063324</dd>\n",
       "\t<dt>097c0e27d72b6830014897b90dd3f899</dt>\n",
       "\t\t<dd>0.0151250926216182</dd>\n",
       "</dl>\n"
      ],
      "text/latex": [
       "\\begin{description*}\n",
       "\\item[(Intercept)] 1.49100719856145\n",
       "\\item[2424186d5cc0b7c749f3645004df6a17] 0.0653777787604116\n",
       "\\item[e19d099ae7e7587eaa48af0f58917a0f] 0.0585232901384771\n",
       "\\item[1f685887ffe789e817d581f37aa3cfab] 0.0465210763409769\n",
       "\\item[43f3f2e3459e11bed9c3b5c187767fcf] 0.0179657537606648\n",
       "\\item[d4f4f46ec402280ae29751a0c0029f51] 0.0710826617909787\n",
       "\\item[7bc7407c94d7043a80982998cbac426d] 0.0269666262793848\n",
       "\\item[01afdaa62d29c7baa9d60216b0ea90c1] 0.0249499682384017\n",
       "\\item[aa0d9eb04bfc40cf6079830cf147dea2] 0.049157129205169\n",
       "\\item[b411bdf72ff49585b1b1d6058244f6ee] 0.108437852270884\n",
       "\\item[eae785b902cef8893ff591183dfa4efd] 0.0630101250214731\n",
       "\\item[9dece060ffcff93473a7023dcee0defd] 0.0382871318249964\n",
       "\\item[bb44afa4a4d1bf473bb3fa1c5427e8de] 0.0185049655630583\n",
       "\\item[50d6182d5d321721f2d223d9757415e2] 0.000616705223342962\n",
       "\\item[c1cb63a49b75a357d6fa0766f159baa3] 0.0317236590063324\n",
       "\\item[097c0e27d72b6830014897b90dd3f899] 0.0151250926216182\n",
       "\\end{description*}\n"
      ],
      "text/markdown": [
       "(Intercept)\n",
       ":   1.491007198561452424186d5cc0b7c749f3645004df6a17\n",
       ":   0.0653777787604116e19d099ae7e7587eaa48af0f58917a0f\n",
       ":   0.05852329013847711f685887ffe789e817d581f37aa3cfab\n",
       ":   0.046521076340976943f3f2e3459e11bed9c3b5c187767fcf\n",
       ":   0.0179657537606648d4f4f46ec402280ae29751a0c0029f51\n",
       ":   0.07108266179097877bc7407c94d7043a80982998cbac426d\n",
       ":   0.026966626279384801afdaa62d29c7baa9d60216b0ea90c1\n",
       ":   0.0249499682384017aa0d9eb04bfc40cf6079830cf147dea2\n",
       ":   0.049157129205169b411bdf72ff49585b1b1d6058244f6ee\n",
       ":   0.108437852270884eae785b902cef8893ff591183dfa4efd\n",
       ":   0.06301012502147319dece060ffcff93473a7023dcee0defd\n",
       ":   0.0382871318249964bb44afa4a4d1bf473bb3fa1c5427e8de\n",
       ":   0.018504965563058350d6182d5d321721f2d223d9757415e2\n",
       ":   0.000616705223342962c1cb63a49b75a357d6fa0766f159baa3\n",
       ":   0.0317236590063324097c0e27d72b6830014897b90dd3f899\n",
       ":   0.0151250926216182\n",
       "\n"
      ],
      "text/plain": [
       "                     (Intercept) 2424186d5cc0b7c749f3645004df6a17 \n",
       "                    1.4910071986                     0.0653777788 \n",
       "e19d099ae7e7587eaa48af0f58917a0f 1f685887ffe789e817d581f37aa3cfab \n",
       "                    0.0585232901                     0.0465210763 \n",
       "43f3f2e3459e11bed9c3b5c187767fcf d4f4f46ec402280ae29751a0c0029f51 \n",
       "                    0.0179657538                     0.0710826618 \n",
       "7bc7407c94d7043a80982998cbac426d 01afdaa62d29c7baa9d60216b0ea90c1 \n",
       "                    0.0269666263                     0.0249499682 \n",
       "aa0d9eb04bfc40cf6079830cf147dea2 b411bdf72ff49585b1b1d6058244f6ee \n",
       "                    0.0491571292                     0.1084378523 \n",
       "eae785b902cef8893ff591183dfa4efd 9dece060ffcff93473a7023dcee0defd \n",
       "                    0.0630101250                     0.0382871318 \n",
       "bb44afa4a4d1bf473bb3fa1c5427e8de 50d6182d5d321721f2d223d9757415e2 \n",
       "                    0.0185049656                     0.0006167052 \n",
       "c1cb63a49b75a357d6fa0766f159baa3 097c0e27d72b6830014897b90dd3f899 \n",
       "                    0.0317236590                     0.0151250926 "
      ]
     },
     "metadata": {},
     "output_type": "display_data"
    }
   ],
   "source": [
    "all_1se <- as.matrix(coef(cvfit, s = \"lambda.1se\"))\n",
    "chosen_1se <- all_1se[all_1se > 0, ]\n",
    "chosen_1se"
   ]
  },
  {
   "cell_type": "markdown",
   "metadata": {},
   "source": [
    "Above we have our chosen features and associated estimates for the model. As glmnet by default is standardizing the features, the estimates can be compared directly, and the highest estimate (in absolute terms) can be said to be most important for the prediction. Positive estimates would mean that higher abundance results in increase odds of being in the 1 group (C-section) compared to the 0 group (vaginal birth), and *vice versa* for negative estimates. This a strength of linear models compared to for example decision trees (e.g. random forest) where the associations can be non-linear and therefore not necesarrily easily interpretable.\n",
    "\n",
    "\n",
    "Let's check how good the model is on the test set"
   ]
  },
  {
   "cell_type": "code",
   "execution_count": 11,
   "metadata": {},
   "outputs": [],
   "source": [
    "# Extract outcome and make it binary\n",
    "y_test <- ifelse(unlist(sample_data(phy_test)[,\"Delivery\"]) == \"Sectio\", 1, 0)\n",
    "\n",
    "# Extract features and normalize and transform them\n",
    "X_test <- otu_table(phy_test)\n",
    "X_test <- apply(X_test, 2, function(x) x+1/sum(x+1))\n",
    "X_test <- t(log10(X_test))"
   ]
  },
  {
   "cell_type": "code",
   "execution_count": 12,
   "metadata": {},
   "outputs": [
    {
     "data": {
      "text/plain": [
       "      \n",
       "y_test  0  1\n",
       "     0 11  3\n",
       "     1  4 12"
      ]
     },
     "metadata": {},
     "output_type": "display_data"
    }
   ],
   "source": [
    "table(y_test, predict(object = cvfit, s = \"lambda.1se\", newx = X_test, type = \"class\"))"
   ]
  },
  {
   "cell_type": "markdown",
   "metadata": {},
   "source": [
    "The rows are the truths (test set) and the columns are the predicted. So of the 14 samples that were 0 (vaginal birth), 11 were correctly predicted as such and 3 were false predicted as 1 (C-section). Of the 16 samples that were 1 (C-section), 12 were correctly predicted as such and 4 were false predicted as 0 (vaginal birth). The accuracy is 77%.\n",
    "\n",
    "Let's test our model on our train/validation set:"
   ]
  },
  {
   "cell_type": "code",
   "execution_count": 14,
   "metadata": {},
   "outputs": [
    {
     "data": {
      "text/plain": [
       "   \n",
       "y    0  1\n",
       "  0 57  4\n",
       "  1  3 56"
      ]
     },
     "metadata": {},
     "output_type": "display_data"
    }
   ],
   "source": [
    "table(y, predict(object = cvfit, s = \"lambda.1se\", newx = X, type = \"class\"))"
   ]
  },
  {
   "cell_type": "markdown",
   "metadata": {},
   "source": [
    "Now the accuracy is 94%. So we can see that the accuracy becomes falsely inflated if we were to test it on the same dataset as we used to training."
   ]
  },
  {
   "cell_type": "markdown",
   "metadata": {},
   "source": [
    "For more details on sparse regularized linear models, [see here](https://web.stanford.edu/~hastie/glmnet/glmnet_alpha.html)"
   ]
  },
  {
   "cell_type": "markdown",
   "metadata": {},
   "source": [
    "## Random forests<a class=\"anchor\" id=\"rf\"></a>\n",
    "Random forests is a model based on an ensemble of decision trees based on bagging (bootstrap aggregating) and random subsets of the features.\n",
    "\n",
    "#### Decision tree\n",
    "A decision tree is a type of model that splits the samples into groups (leaves on the tree) based on the features. For example, a simple tree could contain a single split such that samples in which an ASV is less abundant than 1% are in branch A and samples in which this ASV is more abundant than 1% are in branch B. The decision trees can have multiple splits, such that they are based on multiple features.\n",
    "#### [In-depth paper on decision trees](https://www.nature.com/articles/nmeth.4370)\n",
    "\n",
    "#### Bootstrapping\n",
    "With bootstrapping one does a random sampling with replacement of the samples. That is, instead of using the raw data as input to the model, the model randomly chooses the same number of samples, but the some samples can be included more than one time (and some might be excluded). Bootstrapping is crucial, as without bootstrapping the trees would be highly similar (correlated), which would bias the final model.\n",
    "#### [In-depth paper in the bootstrap](https://www.nature.com/articles/nmeth.3414)\n",
    "\n",
    "#### Random feature subset\n",
    "To create more variation among the decision trees, only a random subset of features are used at each split. \n",
    "\n",
    "#### In essence\n",
    "Random forest is fitting multiple decision trees, each tree is trained on bootstrapped samples, and each split in the trees are using random subsets of the features. Each tree is actually a bad predictor, but aggregating a lot of trees will produce good predictions. For classification problems they are aggregated by majority vote, and for regression problems the aggregation is simply the mean predictions across all trees.\n",
    "#### [In-depth paper on bagging and random forest](https://www.nature.com/articles/nmeth.4438)\n",
    "\n",
    "#### Hyperparameters\n",
    "There are 2 main hyperparameters for random forests, the number of trees, and the number of randomly chosen features at each split (AKA mtry). The last one has some widely used recommendations; sqrt(n_features) for classification problems and n_features/3 for regression problems. As for the number of trees, a few hundred usually works well, but this number could also be tuned through cross-validation.\n",
    "\n",
    "### In R:\n",
    "Below we simply use the default parameters for random forest, and we therefore only have a training and test set."
   ]
  },
  {
   "cell_type": "code",
   "execution_count": 18,
   "metadata": {},
   "outputs": [
    {
     "name": "stderr",
     "output_type": "stream",
     "text": [
      "randomForest 4.6-14\n",
      "Type rfNews() to see new features/changes/bug fixes.\n"
     ]
    }
   ],
   "source": [
    "library(randomForest)"
   ]
  },
  {
   "cell_type": "code",
   "execution_count": 20,
   "metadata": {},
   "outputs": [],
   "source": [
    "fit <- randomForest(y = factor(y), x = X, \n",
    "                    ytest = factor(y_test), xtest = X_test, \n",
    "                    importance = TRUE)"
   ]
  },
  {
   "cell_type": "code",
   "execution_count": 23,
   "metadata": {},
   "outputs": [
    {
     "data": {
      "text/plain": [
       "\n",
       "Call:\n",
       " randomForest(x = X, y = factor(y), xtest = X_test, ytest = factor(y_test),      importance = TRUE) \n",
       "               Type of random forest: classification\n",
       "                     Number of trees: 500\n",
       "No. of variables tried at each split: 36\n",
       "\n",
       "        OOB estimate of  error rate: 34.17%\n",
       "Confusion matrix:\n",
       "   0  1 class.error\n",
       "0 46 15   0.2459016\n",
       "1 26 33   0.4406780\n",
       "                Test set error rate: 26.67%\n",
       "Confusion matrix:\n",
       "   0  1 class.error\n",
       "0 10  4   0.2857143\n",
       "1  4 12   0.2500000"
      ]
     },
     "metadata": {},
     "output_type": "display_data"
    }
   ],
   "source": [
    "fit"
   ]
  },
  {
   "cell_type": "markdown",
   "metadata": {},
   "source": [
    "So the model has a test accuracy of 73%, a little worse than the LASSO linear model used above. The OOB estimate of error rate means Out-Of-Bag, and is using the samples not included by the bootstrap procedure as a validation set.\n",
    "\n",
    "We can see which features are important for the model:"
   ]
  },
  {
   "cell_type": "code",
   "execution_count": 31,
   "metadata": {},
   "outputs": [
    {
     "data": {
      "text/html": [
       "<table>\n",
       "<thead><tr><th></th><th scope=col>0</th><th scope=col>1</th><th scope=col>MeanDecreaseAccuracy</th><th scope=col>MeanDecreaseGini</th></tr></thead>\n",
       "<tbody>\n",
       "\t<tr><th scope=row>50d6182d5d321721f2d223d9757415e2</th><td> 4.595782e-03</td><td>0.0080896927 </td><td>0.006084129  </td><td>0.9691596    </td></tr>\n",
       "\t<tr><th scope=row>7bc7407c94d7043a80982998cbac426d</th><td> 2.564962e-03</td><td>0.0048516019 </td><td>0.003735242  </td><td>0.5816319    </td></tr>\n",
       "\t<tr><th scope=row>d20d3658de331c939f54d8acaed7c4c1</th><td> 1.083455e-03</td><td>0.0059658141 </td><td>0.003296391  </td><td>0.6288101    </td></tr>\n",
       "\t<tr><th scope=row>ccc3cce7144df93b827dc9a9fd18dfaf</th><td> 1.840538e-03</td><td>0.0046999348 </td><td>0.003180322  </td><td>0.7116479    </td></tr>\n",
       "\t<tr><th scope=row>c1cb63a49b75a357d6fa0766f159baa3</th><td> 1.251969e-03</td><td>0.0052874265 </td><td>0.003171126  </td><td>0.4696363    </td></tr>\n",
       "\t<tr><th scope=row>45c4f6f269ec95ff0c8dd594104519e9</th><td> 3.355472e-03</td><td>0.0027159174 </td><td>0.003008589  </td><td>0.7680543    </td></tr>\n",
       "\t<tr><th scope=row>1099aa16dc16f656847f5ff1158f67f2</th><td> 2.713631e-03</td><td>0.0034250676 </td><td>0.002965024  </td><td>0.5246058    </td></tr>\n",
       "\t<tr><th scope=row>d44ac2ef51574f366f2223bb95cde111</th><td> 2.079637e-03</td><td>0.0034934538 </td><td>0.002816690  </td><td>0.4534805    </td></tr>\n",
       "\t<tr><th scope=row>eae785b902cef8893ff591183dfa4efd</th><td> 3.418841e-03</td><td>0.0023722740 </td><td>0.002719060  </td><td>0.3640536    </td></tr>\n",
       "\t<tr><th scope=row>ca5152dd2313e7fe7d25872f10c57f6d</th><td> 1.283390e-03</td><td>0.0037807953 </td><td>0.002336694  </td><td>0.3954313    </td></tr>\n",
       "\t<tr><th scope=row>57face48ec571894748b66cab7c52d5e</th><td> 1.905575e-03</td><td>0.0029863916 </td><td>0.002289096  </td><td>0.3919650    </td></tr>\n",
       "\t<tr><th scope=row>bb44afa4a4d1bf473bb3fa1c5427e8de</th><td> 2.614955e-03</td><td>0.0019515843 </td><td>0.002195193  </td><td>0.3286086    </td></tr>\n",
       "\t<tr><th scope=row>8b6432496d22947e776670c0e6d2cc70</th><td> 1.735717e-03</td><td>0.0023584767 </td><td>0.002067006  </td><td>0.3556019    </td></tr>\n",
       "\t<tr><th scope=row>8c3ff6c4c4b125d5e72f5276d57be4d0</th><td> 1.850822e-03</td><td>0.0021571416 </td><td>0.002024467  </td><td>0.2981209    </td></tr>\n",
       "\t<tr><th scope=row>2424186d5cc0b7c749f3645004df6a17</th><td> 1.592690e-03</td><td>0.0026609670 </td><td>0.001954968  </td><td>0.3899109    </td></tr>\n",
       "\t<tr><th scope=row>d4f4f46ec402280ae29751a0c0029f51</th><td> 2.615208e-03</td><td>0.0009429456 </td><td>0.001842945  </td><td>0.3378742    </td></tr>\n",
       "\t<tr><th scope=row>72bda5561e865a5539c4f19f992ee830</th><td> 2.342603e-03</td><td>0.0012161196 </td><td>0.001839156  </td><td>0.4434367    </td></tr>\n",
       "\t<tr><th scope=row>e19d099ae7e7587eaa48af0f58917a0f</th><td> 1.200127e-03</td><td>0.0023269627 </td><td>0.001792155  </td><td>0.2965612    </td></tr>\n",
       "\t<tr><th scope=row>deb0bdec6009f88d3cb68e762aa28ae2</th><td>-5.382788e-05</td><td>0.0037189194 </td><td>0.001636262  </td><td>0.3926354    </td></tr>\n",
       "\t<tr><th scope=row>1f685887ffe789e817d581f37aa3cfab</th><td> 1.194843e-03</td><td>0.0020641291 </td><td>0.001623646  </td><td>0.1897116    </td></tr>\n",
       "\t<tr><th scope=row>9dea95654e4733e7960e6ea0957d0842</th><td> 1.966881e-03</td><td>0.0013486454 </td><td>0.001593099  </td><td>0.2006787    </td></tr>\n",
       "\t<tr><th scope=row>a3f2abd64e462dc86f8242a90d98ee66</th><td> 9.862389e-04</td><td>0.0021190521 </td><td>0.001454575  </td><td>0.2916461    </td></tr>\n",
       "\t<tr><th scope=row>3fe60a0670280b071f93d770e1ff16ee</th><td> 1.081272e-03</td><td>0.0018401282 </td><td>0.001380064  </td><td>0.1913835    </td></tr>\n",
       "\t<tr><th scope=row>9dece060ffcff93473a7023dcee0defd</th><td> 1.307590e-03</td><td>0.0016044331 </td><td>0.001354475  </td><td>0.2884361    </td></tr>\n",
       "\t<tr><th scope=row>e89deffbf236ceb5b5715a75ff565362</th><td> 2.446792e-03</td><td>0.0006756268 </td><td>0.001337228  </td><td>0.2655726    </td></tr>\n",
       "\t<tr><th scope=row>44cec8943a6e384a4f1abadc3e9b7930</th><td> 2.165516e-03</td><td>0.0003834661 </td><td>0.001307219  </td><td>0.1315238    </td></tr>\n",
       "\t<tr><th scope=row>0c4ba36f81a215044822bfc2b6533315</th><td> 1.448237e-03</td><td>0.0010105772 </td><td>0.001261469  </td><td>0.1454400    </td></tr>\n",
       "\t<tr><th scope=row>b411bdf72ff49585b1b1d6058244f6ee</th><td> 2.072249e-03</td><td>0.0003040276 </td><td>0.001240764  </td><td>0.3460639    </td></tr>\n",
       "\t<tr><th scope=row>cffa38ea99aa64b408c7c8fb9943f050</th><td> 1.112125e-03</td><td>0.0013915198 </td><td>0.001195903  </td><td>0.2059848    </td></tr>\n",
       "\t<tr><th scope=row>f1a143b32b57cf1c09456885687780f4</th><td> 1.557545e-03</td><td>0.0009030400 </td><td>0.001175220  </td><td>0.2864170    </td></tr>\n",
       "\t<tr><th scope=row>...</th><td>...</td><td>...</td><td>...</td><td>...</td></tr>\n",
       "\t<tr><th scope=row>df14d983733d22eb0b0709465e25c792</th><td>-2.777778e-05</td><td>-5.374828e-04</td><td>-0.0002960566</td><td>0.02295874   </td></tr>\n",
       "\t<tr><th scope=row>aacb4ac207f6515cb73c56fa4a1e8956</th><td>-1.005846e-04</td><td>-3.911919e-04</td><td>-0.0003039365</td><td>0.15380255   </td></tr>\n",
       "\t<tr><th scope=row>ac4542fbbec7c56c631ffae36dfe2361</th><td>-5.145701e-04</td><td>-4.848485e-05</td><td>-0.0003083826</td><td>0.05162313   </td></tr>\n",
       "\t<tr><th scope=row>fe0590d05624ad20b5ec4214fd2619a2</th><td>-1.931037e-04</td><td>-3.833656e-04</td><td>-0.0003131313</td><td>0.05423322   </td></tr>\n",
       "\t<tr><th scope=row>8e7c76a6c0f29d85c590e67213adaa0f</th><td>-4.120083e-04</td><td>-1.507071e-04</td><td>-0.0003217835</td><td>0.03813274   </td></tr>\n",
       "\t<tr><th scope=row>2211b98408a8a486e07682e2793811c4</th><td>-1.642036e-04</td><td>-4.028277e-04</td><td>-0.0003235185</td><td>0.04713868   </td></tr>\n",
       "\t<tr><th scope=row>aec516ac1da23d74219178fd7d3a3860</th><td>-6.362953e-05</td><td>-6.644047e-04</td><td>-0.0003286664</td><td>0.21606220   </td></tr>\n",
       "\t<tr><th scope=row>6b0488185a6df551b5c35beb141ea91d</th><td>-2.228571e-04</td><td>-4.723627e-04</td><td>-0.0003322200</td><td>0.04778915   </td></tr>\n",
       "\t<tr><th scope=row>06618917cf1355f1f0a33962e2413531</th><td>-1.687278e-04</td><td>-4.248778e-04</td><td>-0.0003386266</td><td>0.10502405   </td></tr>\n",
       "\t<tr><th scope=row>50b01b5a1d570c4e88b07e72b4c26677</th><td>-4.304762e-04</td><td>-1.980676e-04</td><td>-0.0003401876</td><td>0.03136154   </td></tr>\n",
       "\t<tr><th scope=row>6240890bf6b2ba7e0149ee678cd96cd6</th><td>-5.457856e-04</td><td>-2.248804e-04</td><td>-0.0003487547</td><td>0.07420876   </td></tr>\n",
       "\t<tr><th scope=row>01c397b844b2fb2f9550ea629cda5a0e</th><td>-8.779246e-04</td><td> 1.836062e-04</td><td>-0.0003514877</td><td>0.07811209   </td></tr>\n",
       "\t<tr><th scope=row>23fd935effd62858dd84fbd5ecf064e6</th><td>-3.408696e-04</td><td>-3.785166e-04</td><td>-0.0003525362</td><td>0.03991150   </td></tr>\n",
       "\t<tr><th scope=row>f19f6eb0e557605030b949da68e33a3d</th><td>-4.813335e-04</td><td>-1.639526e-04</td><td>-0.0003591738</td><td>0.04342041   </td></tr>\n",
       "\t<tr><th scope=row>73149531a5afc4626fa3ed9c61335512</th><td>-3.526745e-04</td><td>-3.423232e-04</td><td>-0.0003625391</td><td>0.06229121   </td></tr>\n",
       "\t<tr><th scope=row>dc3a2a4865bff0d28ed5077769102f2e</th><td>-6.563636e-04</td><td>-6.314700e-05</td><td>-0.0003699789</td><td>0.03009863   </td></tr>\n",
       "\t<tr><th scope=row>6e0bb02a24abd77cd495209f712fa0de</th><td>-2.630619e-04</td><td>-4.231915e-04</td><td>-0.0003714687</td><td>0.12249329   </td></tr>\n",
       "\t<tr><th scope=row>54fe524342380c8bf7ed42580bd17deb</th><td>-6.320513e-04</td><td>-1.006209e-04</td><td>-0.0004093127</td><td>0.07357201   </td></tr>\n",
       "\t<tr><th scope=row>e8c0f8c73ce984d11e89e3e13b6b21e4</th><td>-6.839338e-04</td><td>-1.581030e-04</td><td>-0.0004314182</td><td>0.12078268   </td></tr>\n",
       "\t<tr><th scope=row>848c5f08a0a08680e0f2783a9088fc53</th><td> 3.715499e-04</td><td>-1.224539e-03</td><td>-0.0004331653</td><td>0.07900426   </td></tr>\n",
       "\t<tr><th scope=row>27173f924739008c702777cab685aa97</th><td>-4.603361e-04</td><td>-3.575758e-04</td><td>-0.0004379682</td><td>0.04241731   </td></tr>\n",
       "\t<tr><th scope=row>02985759c1ee39be5cc8ca5d48054b1c</th><td>-5.839959e-04</td><td>-3.391329e-04</td><td>-0.0004380044</td><td>0.12162767   </td></tr>\n",
       "\t<tr><th scope=row>937adf1c894c8c2a88e154ec45ffff5f</th><td>-2.874578e-04</td><td>-5.834904e-04</td><td>-0.0004392420</td><td>0.05333742   </td></tr>\n",
       "\t<tr><th scope=row>26c7825c9b112306d7cb81260345a6b0</th><td>-4.370563e-04</td><td>-4.320359e-04</td><td>-0.0004484805</td><td>0.05624773   </td></tr>\n",
       "\t<tr><th scope=row>95b523dacb244bb891da4c48923d8788</th><td>-1.116299e-04</td><td>-8.599494e-04</td><td>-0.0004497526</td><td>0.18839251   </td></tr>\n",
       "\t<tr><th scope=row>a600fd96dfa563a51e8e70a101cb6fb2</th><td>-3.593372e-04</td><td>-6.054884e-04</td><td>-0.0004729172</td><td>0.11382520   </td></tr>\n",
       "\t<tr><th scope=row>eff22d490541422627e546be4f44601f</th><td>-1.824048e-03</td><td> 9.723615e-04</td><td>-0.0005801425</td><td>0.23833533   </td></tr>\n",
       "\t<tr><th scope=row>03a722bba911de891254934069dc8959</th><td>-1.522398e-03</td><td> 2.373262e-04</td><td>-0.0006229193</td><td>0.17779814   </td></tr>\n",
       "\t<tr><th scope=row>08ebf8ebcd399cae9a4bed0ea2720970</th><td>-1.018318e-03</td><td>-4.524091e-04</td><td>-0.0007467102</td><td>0.15670587   </td></tr>\n",
       "\t<tr><th scope=row>55d978414b76a8a1485be2e42c6703a8</th><td>-5.052346e-04</td><td>-1.056841e-03</td><td>-0.0008372852</td><td>0.32662836   </td></tr>\n",
       "</tbody>\n",
       "</table>\n"
      ],
      "text/latex": [
       "\\begin{tabular}{r|llll}\n",
       "  & 0 & 1 & MeanDecreaseAccuracy & MeanDecreaseGini\\\\\n",
       "\\hline\n",
       "\t50d6182d5d321721f2d223d9757415e2 &  4.595782e-03 & 0.0080896927  & 0.006084129   & 0.9691596    \\\\\n",
       "\t7bc7407c94d7043a80982998cbac426d &  2.564962e-03 & 0.0048516019  & 0.003735242   & 0.5816319    \\\\\n",
       "\td20d3658de331c939f54d8acaed7c4c1 &  1.083455e-03 & 0.0059658141  & 0.003296391   & 0.6288101    \\\\\n",
       "\tccc3cce7144df93b827dc9a9fd18dfaf &  1.840538e-03 & 0.0046999348  & 0.003180322   & 0.7116479    \\\\\n",
       "\tc1cb63a49b75a357d6fa0766f159baa3 &  1.251969e-03 & 0.0052874265  & 0.003171126   & 0.4696363    \\\\\n",
       "\t45c4f6f269ec95ff0c8dd594104519e9 &  3.355472e-03 & 0.0027159174  & 0.003008589   & 0.7680543    \\\\\n",
       "\t1099aa16dc16f656847f5ff1158f67f2 &  2.713631e-03 & 0.0034250676  & 0.002965024   & 0.5246058    \\\\\n",
       "\td44ac2ef51574f366f2223bb95cde111 &  2.079637e-03 & 0.0034934538  & 0.002816690   & 0.4534805    \\\\\n",
       "\teae785b902cef8893ff591183dfa4efd &  3.418841e-03 & 0.0023722740  & 0.002719060   & 0.3640536    \\\\\n",
       "\tca5152dd2313e7fe7d25872f10c57f6d &  1.283390e-03 & 0.0037807953  & 0.002336694   & 0.3954313    \\\\\n",
       "\t57face48ec571894748b66cab7c52d5e &  1.905575e-03 & 0.0029863916  & 0.002289096   & 0.3919650    \\\\\n",
       "\tbb44afa4a4d1bf473bb3fa1c5427e8de &  2.614955e-03 & 0.0019515843  & 0.002195193   & 0.3286086    \\\\\n",
       "\t8b6432496d22947e776670c0e6d2cc70 &  1.735717e-03 & 0.0023584767  & 0.002067006   & 0.3556019    \\\\\n",
       "\t8c3ff6c4c4b125d5e72f5276d57be4d0 &  1.850822e-03 & 0.0021571416  & 0.002024467   & 0.2981209    \\\\\n",
       "\t2424186d5cc0b7c749f3645004df6a17 &  1.592690e-03 & 0.0026609670  & 0.001954968   & 0.3899109    \\\\\n",
       "\td4f4f46ec402280ae29751a0c0029f51 &  2.615208e-03 & 0.0009429456  & 0.001842945   & 0.3378742    \\\\\n",
       "\t72bda5561e865a5539c4f19f992ee830 &  2.342603e-03 & 0.0012161196  & 0.001839156   & 0.4434367    \\\\\n",
       "\te19d099ae7e7587eaa48af0f58917a0f &  1.200127e-03 & 0.0023269627  & 0.001792155   & 0.2965612    \\\\\n",
       "\tdeb0bdec6009f88d3cb68e762aa28ae2 & -5.382788e-05 & 0.0037189194  & 0.001636262   & 0.3926354    \\\\\n",
       "\t1f685887ffe789e817d581f37aa3cfab &  1.194843e-03 & 0.0020641291  & 0.001623646   & 0.1897116    \\\\\n",
       "\t9dea95654e4733e7960e6ea0957d0842 &  1.966881e-03 & 0.0013486454  & 0.001593099   & 0.2006787    \\\\\n",
       "\ta3f2abd64e462dc86f8242a90d98ee66 &  9.862389e-04 & 0.0021190521  & 0.001454575   & 0.2916461    \\\\\n",
       "\t3fe60a0670280b071f93d770e1ff16ee &  1.081272e-03 & 0.0018401282  & 0.001380064   & 0.1913835    \\\\\n",
       "\t9dece060ffcff93473a7023dcee0defd &  1.307590e-03 & 0.0016044331  & 0.001354475   & 0.2884361    \\\\\n",
       "\te89deffbf236ceb5b5715a75ff565362 &  2.446792e-03 & 0.0006756268  & 0.001337228   & 0.2655726    \\\\\n",
       "\t44cec8943a6e384a4f1abadc3e9b7930 &  2.165516e-03 & 0.0003834661  & 0.001307219   & 0.1315238    \\\\\n",
       "\t0c4ba36f81a215044822bfc2b6533315 &  1.448237e-03 & 0.0010105772  & 0.001261469   & 0.1454400    \\\\\n",
       "\tb411bdf72ff49585b1b1d6058244f6ee &  2.072249e-03 & 0.0003040276  & 0.001240764   & 0.3460639    \\\\\n",
       "\tcffa38ea99aa64b408c7c8fb9943f050 &  1.112125e-03 & 0.0013915198  & 0.001195903   & 0.2059848    \\\\\n",
       "\tf1a143b32b57cf1c09456885687780f4 &  1.557545e-03 & 0.0009030400  & 0.001175220   & 0.2864170    \\\\\n",
       "\t... & ... & ... & ... & ...\\\\\n",
       "\tdf14d983733d22eb0b0709465e25c792 & -2.777778e-05 & -5.374828e-04 & -0.0002960566 & 0.02295874   \\\\\n",
       "\taacb4ac207f6515cb73c56fa4a1e8956 & -1.005846e-04 & -3.911919e-04 & -0.0003039365 & 0.15380255   \\\\\n",
       "\tac4542fbbec7c56c631ffae36dfe2361 & -5.145701e-04 & -4.848485e-05 & -0.0003083826 & 0.05162313   \\\\\n",
       "\tfe0590d05624ad20b5ec4214fd2619a2 & -1.931037e-04 & -3.833656e-04 & -0.0003131313 & 0.05423322   \\\\\n",
       "\t8e7c76a6c0f29d85c590e67213adaa0f & -4.120083e-04 & -1.507071e-04 & -0.0003217835 & 0.03813274   \\\\\n",
       "\t2211b98408a8a486e07682e2793811c4 & -1.642036e-04 & -4.028277e-04 & -0.0003235185 & 0.04713868   \\\\\n",
       "\taec516ac1da23d74219178fd7d3a3860 & -6.362953e-05 & -6.644047e-04 & -0.0003286664 & 0.21606220   \\\\\n",
       "\t6b0488185a6df551b5c35beb141ea91d & -2.228571e-04 & -4.723627e-04 & -0.0003322200 & 0.04778915   \\\\\n",
       "\t06618917cf1355f1f0a33962e2413531 & -1.687278e-04 & -4.248778e-04 & -0.0003386266 & 0.10502405   \\\\\n",
       "\t50b01b5a1d570c4e88b07e72b4c26677 & -4.304762e-04 & -1.980676e-04 & -0.0003401876 & 0.03136154   \\\\\n",
       "\t6240890bf6b2ba7e0149ee678cd96cd6 & -5.457856e-04 & -2.248804e-04 & -0.0003487547 & 0.07420876   \\\\\n",
       "\t01c397b844b2fb2f9550ea629cda5a0e & -8.779246e-04 &  1.836062e-04 & -0.0003514877 & 0.07811209   \\\\\n",
       "\t23fd935effd62858dd84fbd5ecf064e6 & -3.408696e-04 & -3.785166e-04 & -0.0003525362 & 0.03991150   \\\\\n",
       "\tf19f6eb0e557605030b949da68e33a3d & -4.813335e-04 & -1.639526e-04 & -0.0003591738 & 0.04342041   \\\\\n",
       "\t73149531a5afc4626fa3ed9c61335512 & -3.526745e-04 & -3.423232e-04 & -0.0003625391 & 0.06229121   \\\\\n",
       "\tdc3a2a4865bff0d28ed5077769102f2e & -6.563636e-04 & -6.314700e-05 & -0.0003699789 & 0.03009863   \\\\\n",
       "\t6e0bb02a24abd77cd495209f712fa0de & -2.630619e-04 & -4.231915e-04 & -0.0003714687 & 0.12249329   \\\\\n",
       "\t54fe524342380c8bf7ed42580bd17deb & -6.320513e-04 & -1.006209e-04 & -0.0004093127 & 0.07357201   \\\\\n",
       "\te8c0f8c73ce984d11e89e3e13b6b21e4 & -6.839338e-04 & -1.581030e-04 & -0.0004314182 & 0.12078268   \\\\\n",
       "\t848c5f08a0a08680e0f2783a9088fc53 &  3.715499e-04 & -1.224539e-03 & -0.0004331653 & 0.07900426   \\\\\n",
       "\t27173f924739008c702777cab685aa97 & -4.603361e-04 & -3.575758e-04 & -0.0004379682 & 0.04241731   \\\\\n",
       "\t02985759c1ee39be5cc8ca5d48054b1c & -5.839959e-04 & -3.391329e-04 & -0.0004380044 & 0.12162767   \\\\\n",
       "\t937adf1c894c8c2a88e154ec45ffff5f & -2.874578e-04 & -5.834904e-04 & -0.0004392420 & 0.05333742   \\\\\n",
       "\t26c7825c9b112306d7cb81260345a6b0 & -4.370563e-04 & -4.320359e-04 & -0.0004484805 & 0.05624773   \\\\\n",
       "\t95b523dacb244bb891da4c48923d8788 & -1.116299e-04 & -8.599494e-04 & -0.0004497526 & 0.18839251   \\\\\n",
       "\ta600fd96dfa563a51e8e70a101cb6fb2 & -3.593372e-04 & -6.054884e-04 & -0.0004729172 & 0.11382520   \\\\\n",
       "\teff22d490541422627e546be4f44601f & -1.824048e-03 &  9.723615e-04 & -0.0005801425 & 0.23833533   \\\\\n",
       "\t03a722bba911de891254934069dc8959 & -1.522398e-03 &  2.373262e-04 & -0.0006229193 & 0.17779814   \\\\\n",
       "\t08ebf8ebcd399cae9a4bed0ea2720970 & -1.018318e-03 & -4.524091e-04 & -0.0007467102 & 0.15670587   \\\\\n",
       "\t55d978414b76a8a1485be2e42c6703a8 & -5.052346e-04 & -1.056841e-03 & -0.0008372852 & 0.32662836   \\\\\n",
       "\\end{tabular}\n"
      ],
      "text/markdown": [
       "\n",
       "| <!--/--> | 0 | 1 | MeanDecreaseAccuracy | MeanDecreaseGini |\n",
       "|---|---|---|---|---|\n",
       "| 50d6182d5d321721f2d223d9757415e2 |  4.595782e-03 | 0.0080896927  | 0.006084129   | 0.9691596     |\n",
       "| 7bc7407c94d7043a80982998cbac426d |  2.564962e-03 | 0.0048516019  | 0.003735242   | 0.5816319     |\n",
       "| d20d3658de331c939f54d8acaed7c4c1 |  1.083455e-03 | 0.0059658141  | 0.003296391   | 0.6288101     |\n",
       "| ccc3cce7144df93b827dc9a9fd18dfaf |  1.840538e-03 | 0.0046999348  | 0.003180322   | 0.7116479     |\n",
       "| c1cb63a49b75a357d6fa0766f159baa3 |  1.251969e-03 | 0.0052874265  | 0.003171126   | 0.4696363     |\n",
       "| 45c4f6f269ec95ff0c8dd594104519e9 |  3.355472e-03 | 0.0027159174  | 0.003008589   | 0.7680543     |\n",
       "| 1099aa16dc16f656847f5ff1158f67f2 |  2.713631e-03 | 0.0034250676  | 0.002965024   | 0.5246058     |\n",
       "| d44ac2ef51574f366f2223bb95cde111 |  2.079637e-03 | 0.0034934538  | 0.002816690   | 0.4534805     |\n",
       "| eae785b902cef8893ff591183dfa4efd |  3.418841e-03 | 0.0023722740  | 0.002719060   | 0.3640536     |\n",
       "| ca5152dd2313e7fe7d25872f10c57f6d |  1.283390e-03 | 0.0037807953  | 0.002336694   | 0.3954313     |\n",
       "| 57face48ec571894748b66cab7c52d5e |  1.905575e-03 | 0.0029863916  | 0.002289096   | 0.3919650     |\n",
       "| bb44afa4a4d1bf473bb3fa1c5427e8de |  2.614955e-03 | 0.0019515843  | 0.002195193   | 0.3286086     |\n",
       "| 8b6432496d22947e776670c0e6d2cc70 |  1.735717e-03 | 0.0023584767  | 0.002067006   | 0.3556019     |\n",
       "| 8c3ff6c4c4b125d5e72f5276d57be4d0 |  1.850822e-03 | 0.0021571416  | 0.002024467   | 0.2981209     |\n",
       "| 2424186d5cc0b7c749f3645004df6a17 |  1.592690e-03 | 0.0026609670  | 0.001954968   | 0.3899109     |\n",
       "| d4f4f46ec402280ae29751a0c0029f51 |  2.615208e-03 | 0.0009429456  | 0.001842945   | 0.3378742     |\n",
       "| 72bda5561e865a5539c4f19f992ee830 |  2.342603e-03 | 0.0012161196  | 0.001839156   | 0.4434367     |\n",
       "| e19d099ae7e7587eaa48af0f58917a0f |  1.200127e-03 | 0.0023269627  | 0.001792155   | 0.2965612     |\n",
       "| deb0bdec6009f88d3cb68e762aa28ae2 | -5.382788e-05 | 0.0037189194  | 0.001636262   | 0.3926354     |\n",
       "| 1f685887ffe789e817d581f37aa3cfab |  1.194843e-03 | 0.0020641291  | 0.001623646   | 0.1897116     |\n",
       "| 9dea95654e4733e7960e6ea0957d0842 |  1.966881e-03 | 0.0013486454  | 0.001593099   | 0.2006787     |\n",
       "| a3f2abd64e462dc86f8242a90d98ee66 |  9.862389e-04 | 0.0021190521  | 0.001454575   | 0.2916461     |\n",
       "| 3fe60a0670280b071f93d770e1ff16ee |  1.081272e-03 | 0.0018401282  | 0.001380064   | 0.1913835     |\n",
       "| 9dece060ffcff93473a7023dcee0defd |  1.307590e-03 | 0.0016044331  | 0.001354475   | 0.2884361     |\n",
       "| e89deffbf236ceb5b5715a75ff565362 |  2.446792e-03 | 0.0006756268  | 0.001337228   | 0.2655726     |\n",
       "| 44cec8943a6e384a4f1abadc3e9b7930 |  2.165516e-03 | 0.0003834661  | 0.001307219   | 0.1315238     |\n",
       "| 0c4ba36f81a215044822bfc2b6533315 |  1.448237e-03 | 0.0010105772  | 0.001261469   | 0.1454400     |\n",
       "| b411bdf72ff49585b1b1d6058244f6ee |  2.072249e-03 | 0.0003040276  | 0.001240764   | 0.3460639     |\n",
       "| cffa38ea99aa64b408c7c8fb9943f050 |  1.112125e-03 | 0.0013915198  | 0.001195903   | 0.2059848     |\n",
       "| f1a143b32b57cf1c09456885687780f4 |  1.557545e-03 | 0.0009030400  | 0.001175220   | 0.2864170     |\n",
       "| ... | ... | ... | ... | ... |\n",
       "| df14d983733d22eb0b0709465e25c792 | -2.777778e-05 | -5.374828e-04 | -0.0002960566 | 0.02295874    |\n",
       "| aacb4ac207f6515cb73c56fa4a1e8956 | -1.005846e-04 | -3.911919e-04 | -0.0003039365 | 0.15380255    |\n",
       "| ac4542fbbec7c56c631ffae36dfe2361 | -5.145701e-04 | -4.848485e-05 | -0.0003083826 | 0.05162313    |\n",
       "| fe0590d05624ad20b5ec4214fd2619a2 | -1.931037e-04 | -3.833656e-04 | -0.0003131313 | 0.05423322    |\n",
       "| 8e7c76a6c0f29d85c590e67213adaa0f | -4.120083e-04 | -1.507071e-04 | -0.0003217835 | 0.03813274    |\n",
       "| 2211b98408a8a486e07682e2793811c4 | -1.642036e-04 | -4.028277e-04 | -0.0003235185 | 0.04713868    |\n",
       "| aec516ac1da23d74219178fd7d3a3860 | -6.362953e-05 | -6.644047e-04 | -0.0003286664 | 0.21606220    |\n",
       "| 6b0488185a6df551b5c35beb141ea91d | -2.228571e-04 | -4.723627e-04 | -0.0003322200 | 0.04778915    |\n",
       "| 06618917cf1355f1f0a33962e2413531 | -1.687278e-04 | -4.248778e-04 | -0.0003386266 | 0.10502405    |\n",
       "| 50b01b5a1d570c4e88b07e72b4c26677 | -4.304762e-04 | -1.980676e-04 | -0.0003401876 | 0.03136154    |\n",
       "| 6240890bf6b2ba7e0149ee678cd96cd6 | -5.457856e-04 | -2.248804e-04 | -0.0003487547 | 0.07420876    |\n",
       "| 01c397b844b2fb2f9550ea629cda5a0e | -8.779246e-04 |  1.836062e-04 | -0.0003514877 | 0.07811209    |\n",
       "| 23fd935effd62858dd84fbd5ecf064e6 | -3.408696e-04 | -3.785166e-04 | -0.0003525362 | 0.03991150    |\n",
       "| f19f6eb0e557605030b949da68e33a3d | -4.813335e-04 | -1.639526e-04 | -0.0003591738 | 0.04342041    |\n",
       "| 73149531a5afc4626fa3ed9c61335512 | -3.526745e-04 | -3.423232e-04 | -0.0003625391 | 0.06229121    |\n",
       "| dc3a2a4865bff0d28ed5077769102f2e | -6.563636e-04 | -6.314700e-05 | -0.0003699789 | 0.03009863    |\n",
       "| 6e0bb02a24abd77cd495209f712fa0de | -2.630619e-04 | -4.231915e-04 | -0.0003714687 | 0.12249329    |\n",
       "| 54fe524342380c8bf7ed42580bd17deb | -6.320513e-04 | -1.006209e-04 | -0.0004093127 | 0.07357201    |\n",
       "| e8c0f8c73ce984d11e89e3e13b6b21e4 | -6.839338e-04 | -1.581030e-04 | -0.0004314182 | 0.12078268    |\n",
       "| 848c5f08a0a08680e0f2783a9088fc53 |  3.715499e-04 | -1.224539e-03 | -0.0004331653 | 0.07900426    |\n",
       "| 27173f924739008c702777cab685aa97 | -4.603361e-04 | -3.575758e-04 | -0.0004379682 | 0.04241731    |\n",
       "| 02985759c1ee39be5cc8ca5d48054b1c | -5.839959e-04 | -3.391329e-04 | -0.0004380044 | 0.12162767    |\n",
       "| 937adf1c894c8c2a88e154ec45ffff5f | -2.874578e-04 | -5.834904e-04 | -0.0004392420 | 0.05333742    |\n",
       "| 26c7825c9b112306d7cb81260345a6b0 | -4.370563e-04 | -4.320359e-04 | -0.0004484805 | 0.05624773    |\n",
       "| 95b523dacb244bb891da4c48923d8788 | -1.116299e-04 | -8.599494e-04 | -0.0004497526 | 0.18839251    |\n",
       "| a600fd96dfa563a51e8e70a101cb6fb2 | -3.593372e-04 | -6.054884e-04 | -0.0004729172 | 0.11382520    |\n",
       "| eff22d490541422627e546be4f44601f | -1.824048e-03 |  9.723615e-04 | -0.0005801425 | 0.23833533    |\n",
       "| 03a722bba911de891254934069dc8959 | -1.522398e-03 |  2.373262e-04 | -0.0006229193 | 0.17779814    |\n",
       "| 08ebf8ebcd399cae9a4bed0ea2720970 | -1.018318e-03 | -4.524091e-04 | -0.0007467102 | 0.15670587    |\n",
       "| 55d978414b76a8a1485be2e42c6703a8 | -5.052346e-04 | -1.056841e-03 | -0.0008372852 | 0.32662836    |\n",
       "\n"
      ],
      "text/plain": [
       "                                 0             1            \n",
       "50d6182d5d321721f2d223d9757415e2  4.595782e-03 0.0080896927 \n",
       "7bc7407c94d7043a80982998cbac426d  2.564962e-03 0.0048516019 \n",
       "d20d3658de331c939f54d8acaed7c4c1  1.083455e-03 0.0059658141 \n",
       "ccc3cce7144df93b827dc9a9fd18dfaf  1.840538e-03 0.0046999348 \n",
       "c1cb63a49b75a357d6fa0766f159baa3  1.251969e-03 0.0052874265 \n",
       "45c4f6f269ec95ff0c8dd594104519e9  3.355472e-03 0.0027159174 \n",
       "1099aa16dc16f656847f5ff1158f67f2  2.713631e-03 0.0034250676 \n",
       "d44ac2ef51574f366f2223bb95cde111  2.079637e-03 0.0034934538 \n",
       "eae785b902cef8893ff591183dfa4efd  3.418841e-03 0.0023722740 \n",
       "ca5152dd2313e7fe7d25872f10c57f6d  1.283390e-03 0.0037807953 \n",
       "57face48ec571894748b66cab7c52d5e  1.905575e-03 0.0029863916 \n",
       "bb44afa4a4d1bf473bb3fa1c5427e8de  2.614955e-03 0.0019515843 \n",
       "8b6432496d22947e776670c0e6d2cc70  1.735717e-03 0.0023584767 \n",
       "8c3ff6c4c4b125d5e72f5276d57be4d0  1.850822e-03 0.0021571416 \n",
       "2424186d5cc0b7c749f3645004df6a17  1.592690e-03 0.0026609670 \n",
       "d4f4f46ec402280ae29751a0c0029f51  2.615208e-03 0.0009429456 \n",
       "72bda5561e865a5539c4f19f992ee830  2.342603e-03 0.0012161196 \n",
       "e19d099ae7e7587eaa48af0f58917a0f  1.200127e-03 0.0023269627 \n",
       "deb0bdec6009f88d3cb68e762aa28ae2 -5.382788e-05 0.0037189194 \n",
       "1f685887ffe789e817d581f37aa3cfab  1.194843e-03 0.0020641291 \n",
       "9dea95654e4733e7960e6ea0957d0842  1.966881e-03 0.0013486454 \n",
       "a3f2abd64e462dc86f8242a90d98ee66  9.862389e-04 0.0021190521 \n",
       "3fe60a0670280b071f93d770e1ff16ee  1.081272e-03 0.0018401282 \n",
       "9dece060ffcff93473a7023dcee0defd  1.307590e-03 0.0016044331 \n",
       "e89deffbf236ceb5b5715a75ff565362  2.446792e-03 0.0006756268 \n",
       "44cec8943a6e384a4f1abadc3e9b7930  2.165516e-03 0.0003834661 \n",
       "0c4ba36f81a215044822bfc2b6533315  1.448237e-03 0.0010105772 \n",
       "b411bdf72ff49585b1b1d6058244f6ee  2.072249e-03 0.0003040276 \n",
       "cffa38ea99aa64b408c7c8fb9943f050  1.112125e-03 0.0013915198 \n",
       "f1a143b32b57cf1c09456885687780f4  1.557545e-03 0.0009030400 \n",
       "...                              ...           ...          \n",
       "df14d983733d22eb0b0709465e25c792 -2.777778e-05 -5.374828e-04\n",
       "aacb4ac207f6515cb73c56fa4a1e8956 -1.005846e-04 -3.911919e-04\n",
       "ac4542fbbec7c56c631ffae36dfe2361 -5.145701e-04 -4.848485e-05\n",
       "fe0590d05624ad20b5ec4214fd2619a2 -1.931037e-04 -3.833656e-04\n",
       "8e7c76a6c0f29d85c590e67213adaa0f -4.120083e-04 -1.507071e-04\n",
       "2211b98408a8a486e07682e2793811c4 -1.642036e-04 -4.028277e-04\n",
       "aec516ac1da23d74219178fd7d3a3860 -6.362953e-05 -6.644047e-04\n",
       "6b0488185a6df551b5c35beb141ea91d -2.228571e-04 -4.723627e-04\n",
       "06618917cf1355f1f0a33962e2413531 -1.687278e-04 -4.248778e-04\n",
       "50b01b5a1d570c4e88b07e72b4c26677 -4.304762e-04 -1.980676e-04\n",
       "6240890bf6b2ba7e0149ee678cd96cd6 -5.457856e-04 -2.248804e-04\n",
       "01c397b844b2fb2f9550ea629cda5a0e -8.779246e-04  1.836062e-04\n",
       "23fd935effd62858dd84fbd5ecf064e6 -3.408696e-04 -3.785166e-04\n",
       "f19f6eb0e557605030b949da68e33a3d -4.813335e-04 -1.639526e-04\n",
       "73149531a5afc4626fa3ed9c61335512 -3.526745e-04 -3.423232e-04\n",
       "dc3a2a4865bff0d28ed5077769102f2e -6.563636e-04 -6.314700e-05\n",
       "6e0bb02a24abd77cd495209f712fa0de -2.630619e-04 -4.231915e-04\n",
       "54fe524342380c8bf7ed42580bd17deb -6.320513e-04 -1.006209e-04\n",
       "e8c0f8c73ce984d11e89e3e13b6b21e4 -6.839338e-04 -1.581030e-04\n",
       "848c5f08a0a08680e0f2783a9088fc53  3.715499e-04 -1.224539e-03\n",
       "27173f924739008c702777cab685aa97 -4.603361e-04 -3.575758e-04\n",
       "02985759c1ee39be5cc8ca5d48054b1c -5.839959e-04 -3.391329e-04\n",
       "937adf1c894c8c2a88e154ec45ffff5f -2.874578e-04 -5.834904e-04\n",
       "26c7825c9b112306d7cb81260345a6b0 -4.370563e-04 -4.320359e-04\n",
       "95b523dacb244bb891da4c48923d8788 -1.116299e-04 -8.599494e-04\n",
       "a600fd96dfa563a51e8e70a101cb6fb2 -3.593372e-04 -6.054884e-04\n",
       "eff22d490541422627e546be4f44601f -1.824048e-03  9.723615e-04\n",
       "03a722bba911de891254934069dc8959 -1.522398e-03  2.373262e-04\n",
       "08ebf8ebcd399cae9a4bed0ea2720970 -1.018318e-03 -4.524091e-04\n",
       "55d978414b76a8a1485be2e42c6703a8 -5.052346e-04 -1.056841e-03\n",
       "                                 MeanDecreaseAccuracy MeanDecreaseGini\n",
       "50d6182d5d321721f2d223d9757415e2 0.006084129          0.9691596       \n",
       "7bc7407c94d7043a80982998cbac426d 0.003735242          0.5816319       \n",
       "d20d3658de331c939f54d8acaed7c4c1 0.003296391          0.6288101       \n",
       "ccc3cce7144df93b827dc9a9fd18dfaf 0.003180322          0.7116479       \n",
       "c1cb63a49b75a357d6fa0766f159baa3 0.003171126          0.4696363       \n",
       "45c4f6f269ec95ff0c8dd594104519e9 0.003008589          0.7680543       \n",
       "1099aa16dc16f656847f5ff1158f67f2 0.002965024          0.5246058       \n",
       "d44ac2ef51574f366f2223bb95cde111 0.002816690          0.4534805       \n",
       "eae785b902cef8893ff591183dfa4efd 0.002719060          0.3640536       \n",
       "ca5152dd2313e7fe7d25872f10c57f6d 0.002336694          0.3954313       \n",
       "57face48ec571894748b66cab7c52d5e 0.002289096          0.3919650       \n",
       "bb44afa4a4d1bf473bb3fa1c5427e8de 0.002195193          0.3286086       \n",
       "8b6432496d22947e776670c0e6d2cc70 0.002067006          0.3556019       \n",
       "8c3ff6c4c4b125d5e72f5276d57be4d0 0.002024467          0.2981209       \n",
       "2424186d5cc0b7c749f3645004df6a17 0.001954968          0.3899109       \n",
       "d4f4f46ec402280ae29751a0c0029f51 0.001842945          0.3378742       \n",
       "72bda5561e865a5539c4f19f992ee830 0.001839156          0.4434367       \n",
       "e19d099ae7e7587eaa48af0f58917a0f 0.001792155          0.2965612       \n",
       "deb0bdec6009f88d3cb68e762aa28ae2 0.001636262          0.3926354       \n",
       "1f685887ffe789e817d581f37aa3cfab 0.001623646          0.1897116       \n",
       "9dea95654e4733e7960e6ea0957d0842 0.001593099          0.2006787       \n",
       "a3f2abd64e462dc86f8242a90d98ee66 0.001454575          0.2916461       \n",
       "3fe60a0670280b071f93d770e1ff16ee 0.001380064          0.1913835       \n",
       "9dece060ffcff93473a7023dcee0defd 0.001354475          0.2884361       \n",
       "e89deffbf236ceb5b5715a75ff565362 0.001337228          0.2655726       \n",
       "44cec8943a6e384a4f1abadc3e9b7930 0.001307219          0.1315238       \n",
       "0c4ba36f81a215044822bfc2b6533315 0.001261469          0.1454400       \n",
       "b411bdf72ff49585b1b1d6058244f6ee 0.001240764          0.3460639       \n",
       "cffa38ea99aa64b408c7c8fb9943f050 0.001195903          0.2059848       \n",
       "f1a143b32b57cf1c09456885687780f4 0.001175220          0.2864170       \n",
       "...                              ...                  ...             \n",
       "df14d983733d22eb0b0709465e25c792 -0.0002960566        0.02295874      \n",
       "aacb4ac207f6515cb73c56fa4a1e8956 -0.0003039365        0.15380255      \n",
       "ac4542fbbec7c56c631ffae36dfe2361 -0.0003083826        0.05162313      \n",
       "fe0590d05624ad20b5ec4214fd2619a2 -0.0003131313        0.05423322      \n",
       "8e7c76a6c0f29d85c590e67213adaa0f -0.0003217835        0.03813274      \n",
       "2211b98408a8a486e07682e2793811c4 -0.0003235185        0.04713868      \n",
       "aec516ac1da23d74219178fd7d3a3860 -0.0003286664        0.21606220      \n",
       "6b0488185a6df551b5c35beb141ea91d -0.0003322200        0.04778915      \n",
       "06618917cf1355f1f0a33962e2413531 -0.0003386266        0.10502405      \n",
       "50b01b5a1d570c4e88b07e72b4c26677 -0.0003401876        0.03136154      \n",
       "6240890bf6b2ba7e0149ee678cd96cd6 -0.0003487547        0.07420876      \n",
       "01c397b844b2fb2f9550ea629cda5a0e -0.0003514877        0.07811209      \n",
       "23fd935effd62858dd84fbd5ecf064e6 -0.0003525362        0.03991150      \n",
       "f19f6eb0e557605030b949da68e33a3d -0.0003591738        0.04342041      \n",
       "73149531a5afc4626fa3ed9c61335512 -0.0003625391        0.06229121      \n",
       "dc3a2a4865bff0d28ed5077769102f2e -0.0003699789        0.03009863      \n",
       "6e0bb02a24abd77cd495209f712fa0de -0.0003714687        0.12249329      \n",
       "54fe524342380c8bf7ed42580bd17deb -0.0004093127        0.07357201      \n",
       "e8c0f8c73ce984d11e89e3e13b6b21e4 -0.0004314182        0.12078268      \n",
       "848c5f08a0a08680e0f2783a9088fc53 -0.0004331653        0.07900426      \n",
       "27173f924739008c702777cab685aa97 -0.0004379682        0.04241731      \n",
       "02985759c1ee39be5cc8ca5d48054b1c -0.0004380044        0.12162767      \n",
       "937adf1c894c8c2a88e154ec45ffff5f -0.0004392420        0.05333742      \n",
       "26c7825c9b112306d7cb81260345a6b0 -0.0004484805        0.05624773      \n",
       "95b523dacb244bb891da4c48923d8788 -0.0004497526        0.18839251      \n",
       "a600fd96dfa563a51e8e70a101cb6fb2 -0.0004729172        0.11382520      \n",
       "eff22d490541422627e546be4f44601f -0.0005801425        0.23833533      \n",
       "03a722bba911de891254934069dc8959 -0.0006229193        0.17779814      \n",
       "08ebf8ebcd399cae9a4bed0ea2720970 -0.0007467102        0.15670587      \n",
       "55d978414b76a8a1485be2e42c6703a8 -0.0008372852        0.32662836      "
      ]
     },
     "metadata": {},
     "output_type": "display_data"
    }
   ],
   "source": [
    "fit$importance[rev(order(fit$importance[, \"MeanDecreaseAccuracy\"])), ]"
   ]
  }
 ],
 "metadata": {
  "kernelspec": {
   "display_name": "R",
   "language": "R",
   "name": "ir"
  },
  "language_info": {
   "codemirror_mode": "r",
   "file_extension": ".r",
   "mimetype": "text/x-r-source",
   "name": "R",
   "pygments_lexer": "r",
   "version": "3.6.3"
  }
 },
 "nbformat": 4,
 "nbformat_minor": 2
}
