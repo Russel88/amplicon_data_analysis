{
 "cells": [
  {
   "cell_type": "markdown",
   "metadata": {},
   "source": [
    "# Alpha diversity"
   ]
  },
  {
   "cell_type": "markdown",
   "metadata": {},
   "source": [
    "Alpha diversity is the diversity **within** a sample/community. There are tons of different metrics for estimating alpha diversity, and only a small subset of the metrics will be presented here. **It is crucial that the dataset is not trimmed/pruned prior to calculating the alpha diversity.**"
   ]
  },
  {
   "cell_type": "code",
   "execution_count": 2,
   "metadata": {},
   "outputs": [],
   "source": [
    "# Load phyloseq object and phyloseq package\n",
    "library(phyloseq)\n",
    "load(\"physeq.RData\")"
   ]
  },
  {
   "cell_type": "markdown",
   "metadata": {},
   "source": [
    "## Observed richness\n",
    "Richness is the number of different taxa in a community. Observed richness is therefore simply the observed number of different taxa in a sample, the simplest alpha diversity metric.\n",
    "\n",
    "In R:"
   ]
  },
  {
   "cell_type": "code",
   "execution_count": 3,
   "metadata": {},
   "outputs": [
    {
     "data": {
      "text/html": [
       "<table>\n",
       "<thead><tr><th></th><th scope=col>Observed</th></tr></thead>\n",
       "<tbody>\n",
       "\t<tr><th scope=row>S_027</th><td>41</td></tr>\n",
       "\t<tr><th scope=row>S_028</th><td>42</td></tr>\n",
       "\t<tr><th scope=row>S_031</th><td>38</td></tr>\n",
       "\t<tr><th scope=row>S_034</th><td>34</td></tr>\n",
       "\t<tr><th scope=row>S_036</th><td>40</td></tr>\n",
       "\t<tr><th scope=row>S_038</th><td>36</td></tr>\n",
       "</tbody>\n",
       "</table>\n"
      ],
      "text/latex": [
       "\\begin{tabular}{r|l}\n",
       "  & Observed\\\\\n",
       "\\hline\n",
       "\tS\\_027 & 41\\\\\n",
       "\tS\\_028 & 42\\\\\n",
       "\tS\\_031 & 38\\\\\n",
       "\tS\\_034 & 34\\\\\n",
       "\tS\\_036 & 40\\\\\n",
       "\tS\\_038 & 36\\\\\n",
       "\\end{tabular}\n"
      ],
      "text/markdown": [
       "\n",
       "| <!--/--> | Observed |\n",
       "|---|---|\n",
       "| S_027 | 41 |\n",
       "| S_028 | 42 |\n",
       "| S_031 | 38 |\n",
       "| S_034 | 34 |\n",
       "| S_036 | 40 |\n",
       "| S_038 | 36 |\n",
       "\n"
      ],
      "text/plain": [
       "      Observed\n",
       "S_027 41      \n",
       "S_028 42      \n",
       "S_031 38      \n",
       "S_034 34      \n",
       "S_036 40      \n",
       "S_038 36      "
      ]
     },
     "metadata": {},
     "output_type": "display_data"
    }
   ],
   "source": [
    "obs_rich <- estimate_richness(phy, measures = \"Observed\")\n",
    "head(obs_rich)"
   ]
  },
  {
   "cell_type": "markdown",
   "metadata": {},
   "source": [
    "or with apply:"
   ]
  },
  {
   "cell_type": "code",
   "execution_count": 4,
   "metadata": {},
   "outputs": [
    {
     "data": {
      "text/html": [
       "<dl class=dl-horizontal>\n",
       "\t<dt>S_027</dt>\n",
       "\t\t<dd>41</dd>\n",
       "\t<dt>S_028</dt>\n",
       "\t\t<dd>42</dd>\n",
       "\t<dt>S_031</dt>\n",
       "\t\t<dd>38</dd>\n",
       "\t<dt>S_034</dt>\n",
       "\t\t<dd>34</dd>\n",
       "\t<dt>S_036</dt>\n",
       "\t\t<dd>40</dd>\n",
       "\t<dt>S_038</dt>\n",
       "\t\t<dd>36</dd>\n",
       "</dl>\n"
      ],
      "text/latex": [
       "\\begin{description*}\n",
       "\\item[S\\textbackslash{}\\_027] 41\n",
       "\\item[S\\textbackslash{}\\_028] 42\n",
       "\\item[S\\textbackslash{}\\_031] 38\n",
       "\\item[S\\textbackslash{}\\_034] 34\n",
       "\\item[S\\textbackslash{}\\_036] 40\n",
       "\\item[S\\textbackslash{}\\_038] 36\n",
       "\\end{description*}\n"
      ],
      "text/markdown": [
       "S_027\n",
       ":   41S_028\n",
       ":   42S_031\n",
       ":   38S_034\n",
       ":   34S_036\n",
       ":   40S_038\n",
       ":   36\n",
       "\n"
      ],
      "text/plain": [
       "S_027 S_028 S_031 S_034 S_036 S_038 \n",
       "   41    42    38    34    40    36 "
      ]
     },
     "metadata": {},
     "output_type": "display_data"
    }
   ],
   "source": [
    "obs_rich <- apply(otu_table(phy), MARGIN = 2, function(x) sum(x > 0))\n",
    "head(obs_rich)"
   ]
  },
  {
   "cell_type": "markdown",
   "metadata": {},
   "source": [
    "### Note on R code\n",
    "*apply* in R does something on each row (MARGIN = 1) or column (MARGIN = 2) of a matrix. The otu_table(phy) we give as input contains counts of taxa with one column per sample. We therefore run the function on each sample. sum(x > 0) means that we find all counts that are larger than zero and we sum (count) those. This is the observed richness; the number of taxa that are present (abundance > 0) in a sample."
   ]
  },
  {
   "cell_type": "markdown",
   "metadata": {},
   "source": [
    "## Shannon diversity\n",
    "Shannon diversity (AKA Shannon entropy, AKA Shannon index), is a widely used alpha diversity metric. This metric is a combination of the richness (see above) and the evenness in sample, where the evenness is a measure of how equally abundant different taxa are in a sample. If all taxa have the same abundance then evenness is high, if one or few taxa dominates evenness is low.\n",
    "\n",
    "Shannon diversity is calcualted as:\n",
    "\\begin{equation*}\n",
    "H' = - \\sum_{i=1}^R p_i ln \\left( p_i \\right) \n",
    "\\end{equation*}\n",
    "\n",
    "where *p*<sub>i</sub> is the relative abundance of taxa *i*. *ln* is the natural log, and R is the richness.\n",
    "\n",
    "It was developed as a measure of information, and can be thought of as the uncertainty in whether two random individuals in a sample/community are similar. Therefore, the more different taxa are observed in a sample, and the more even their abundance is, the higher is the Shannon diversity. \n",
    "\n",
    "##### Effective number of taxa\n",
    "From the Shannon diversity we can calculate the effective number of taxa, also called true diversity of order 1 (<sup>1</sup>D), as follows: <sup>1</sup>D=exp(H'). The <sup>1</sup>D can be seen as an abundance-corrected observed richness, based on the assumption that microbial communities with high evenness are effectively more diverse than communities with low evenness due to a supposed higher stability. The observed richness is true diversity of order 0 (<sup>0</sup>D), since it is ignoring relative abundance altogether. There are diveristy indices of higher orders than 1, which weigh the relative abundance more than Shannon diversity, effectively weighing the common (as opposed to the rare) taxa even more.\n",
    "\n",
    "In R:"
   ]
  },
  {
   "cell_type": "code",
   "execution_count": 5,
   "metadata": {},
   "outputs": [
    {
     "data": {
      "text/html": [
       "<table>\n",
       "<thead><tr><th></th><th scope=col>Shannon</th></tr></thead>\n",
       "<tbody>\n",
       "\t<tr><th scope=row>S_027</th><td>2.551245</td></tr>\n",
       "\t<tr><th scope=row>S_028</th><td>1.476669</td></tr>\n",
       "\t<tr><th scope=row>S_031</th><td>0.926933</td></tr>\n",
       "\t<tr><th scope=row>S_034</th><td>1.821306</td></tr>\n",
       "\t<tr><th scope=row>S_036</th><td>1.120686</td></tr>\n",
       "\t<tr><th scope=row>S_038</th><td>1.810183</td></tr>\n",
       "</tbody>\n",
       "</table>\n"
      ],
      "text/latex": [
       "\\begin{tabular}{r|l}\n",
       "  & Shannon\\\\\n",
       "\\hline\n",
       "\tS\\_027 & 2.551245\\\\\n",
       "\tS\\_028 & 1.476669\\\\\n",
       "\tS\\_031 & 0.926933\\\\\n",
       "\tS\\_034 & 1.821306\\\\\n",
       "\tS\\_036 & 1.120686\\\\\n",
       "\tS\\_038 & 1.810183\\\\\n",
       "\\end{tabular}\n"
      ],
      "text/markdown": [
       "\n",
       "| <!--/--> | Shannon |\n",
       "|---|---|\n",
       "| S_027 | 2.551245 |\n",
       "| S_028 | 1.476669 |\n",
       "| S_031 | 0.926933 |\n",
       "| S_034 | 1.821306 |\n",
       "| S_036 | 1.120686 |\n",
       "| S_038 | 1.810183 |\n",
       "\n"
      ],
      "text/plain": [
       "      Shannon \n",
       "S_027 2.551245\n",
       "S_028 1.476669\n",
       "S_031 0.926933\n",
       "S_034 1.821306\n",
       "S_036 1.120686\n",
       "S_038 1.810183"
      ]
     },
     "metadata": {},
     "output_type": "display_data"
    }
   ],
   "source": [
    "shannon <- estimate_richness(phy, measures = \"Shannon\")\n",
    "head(shannon)"
   ]
  },
  {
   "cell_type": "markdown",
   "metadata": {},
   "source": [
    "or directly with the formula above:"
   ]
  },
  {
   "cell_type": "code",
   "execution_count": 6,
   "metadata": {},
   "outputs": [
    {
     "data": {
      "text/html": [
       "<dl class=dl-horizontal>\n",
       "\t<dt>S_027</dt>\n",
       "\t\t<dd>2.55124482098489</dd>\n",
       "\t<dt>S_028</dt>\n",
       "\t\t<dd>1.47666912877366</dd>\n",
       "\t<dt>S_031</dt>\n",
       "\t\t<dd>0.926933011834673</dd>\n",
       "\t<dt>S_034</dt>\n",
       "\t\t<dd>1.82130593105905</dd>\n",
       "\t<dt>S_036</dt>\n",
       "\t\t<dd>1.1206861273353</dd>\n",
       "\t<dt>S_038</dt>\n",
       "\t\t<dd>1.81018316028165</dd>\n",
       "</dl>\n"
      ],
      "text/latex": [
       "\\begin{description*}\n",
       "\\item[S\\textbackslash{}\\_027] 2.55124482098489\n",
       "\\item[S\\textbackslash{}\\_028] 1.47666912877366\n",
       "\\item[S\\textbackslash{}\\_031] 0.926933011834673\n",
       "\\item[S\\textbackslash{}\\_034] 1.82130593105905\n",
       "\\item[S\\textbackslash{}\\_036] 1.1206861273353\n",
       "\\item[S\\textbackslash{}\\_038] 1.81018316028165\n",
       "\\end{description*}\n"
      ],
      "text/markdown": [
       "S_027\n",
       ":   2.55124482098489S_028\n",
       ":   1.47666912877366S_031\n",
       ":   0.926933011834673S_034\n",
       ":   1.82130593105905S_036\n",
       ":   1.1206861273353S_038\n",
       ":   1.81018316028165\n",
       "\n"
      ],
      "text/plain": [
       "   S_027    S_028    S_031    S_034    S_036    S_038 \n",
       "2.551245 1.476669 0.926933 1.821306 1.120686 1.810183 "
      ]
     },
     "metadata": {},
     "output_type": "display_data"
    }
   ],
   "source": [
    "shannon <- apply(otu_table(phy), MARGIN = 2, function(x) -sum(x/sum(x)*log(x/sum(x)), na.rm = TRUE))\n",
    "head(shannon)"
   ]
  },
  {
   "cell_type": "markdown",
   "metadata": {},
   "source": [
    "### Note on R code\n",
    "As with the observed richness, we apply a function on each column (sample) of the otu_table. The function is the formula above, where x/sum(x) is a way to calculate the relative abundance. The log function will return NA for many taxa if their abundance is 0 (you cannot take the log of zero), and the na.rm = TRUE tells the function to ignore NA's in the final summation."
   ]
  },
  {
   "cell_type": "markdown",
   "metadata": {},
   "source": [
    "**Calculate effective number of taxa:**"
   ]
  },
  {
   "cell_type": "code",
   "execution_count": 11,
   "metadata": {},
   "outputs": [
    {
     "data": {
      "text/html": [
       "<dl class=dl-horizontal>\n",
       "\t<dt>S_027</dt>\n",
       "\t\t<dd>12.8230562611374</dd>\n",
       "\t<dt>S_028</dt>\n",
       "\t\t<dd>4.37833768673102</dd>\n",
       "\t<dt>S_031</dt>\n",
       "\t\t<dd>2.52674777611238</dd>\n",
       "\t<dt>S_034</dt>\n",
       "\t\t<dd>6.17992373673337</dd>\n",
       "\t<dt>S_036</dt>\n",
       "\t\t<dd>3.06695780512743</dd>\n",
       "\t<dt>S_038</dt>\n",
       "\t\t<dd>6.11156672600528</dd>\n",
       "</dl>\n"
      ],
      "text/latex": [
       "\\begin{description*}\n",
       "\\item[S\\textbackslash{}\\_027] 12.8230562611374\n",
       "\\item[S\\textbackslash{}\\_028] 4.37833768673102\n",
       "\\item[S\\textbackslash{}\\_031] 2.52674777611238\n",
       "\\item[S\\textbackslash{}\\_034] 6.17992373673337\n",
       "\\item[S\\textbackslash{}\\_036] 3.06695780512743\n",
       "\\item[S\\textbackslash{}\\_038] 6.11156672600528\n",
       "\\end{description*}\n"
      ],
      "text/markdown": [
       "S_027\n",
       ":   12.8230562611374S_028\n",
       ":   4.37833768673102S_031\n",
       ":   2.52674777611238S_034\n",
       ":   6.17992373673337S_036\n",
       ":   3.06695780512743S_038\n",
       ":   6.11156672600528\n",
       "\n"
      ],
      "text/plain": [
       "    S_027     S_028     S_031     S_034     S_036     S_038 \n",
       "12.823056  4.378338  2.526748  6.179924  3.066958  6.111567 "
      ]
     },
     "metadata": {},
     "output_type": "display_data"
    }
   ],
   "source": [
    "D1 = exp(shannon)\n",
    "head(D1)"
   ]
  },
  {
   "cell_type": "markdown",
   "metadata": {},
   "source": [
    "## Faith's phylogenetic diversity\n",
    "Phylogenetic diversity (PD) is an alpha diversity metric which incorporates the phylogenetic tree of the taxa. Faith's PD is the sum of all the branch lengths that are connecting all taxa observed in the sample through the shortest path in the tree.\n",
    "\n",
    "In the tree below, the cyan circles marks the taxa present in a given sample. The red line is the path connecting these taxa (usually the root is also included if present). Faith's PD of this sample is then the branch length spanned by the red path; that is, all the red horizontal lines."
   ]
  },
  {
   "cell_type": "markdown",
   "metadata": {},
   "source": [
    "![PD example](../img/PD.png)"
   ]
  },
  {
   "cell_type": "markdown",
   "metadata": {},
   "source": [
    "In R:"
   ]
  },
  {
   "cell_type": "code",
   "execution_count": null,
   "metadata": {},
   "outputs": [],
   "source": [
    "# We need the picante package\n",
    "library(picante)"
   ]
  },
  {
   "cell_type": "code",
   "execution_count": null,
   "metadata": {},
   "outputs": [],
   "source": [
    "# PD: Phylogenetic Diversity\n",
    "# SR: Species Richness (aka Observed richness)\n",
    "fpd <- pd(t(otu_table(phy)), phy_tree(phy))\n",
    "head(fpd)"
   ]
  },
  {
   "cell_type": "markdown",
   "metadata": {},
   "source": [
    "### Note on R code\n",
    "The *pd* function of course needs our phylogenetic tree as input, but it also needs the otu_table to know which taxa are present in which samples. The *picante* package assumes that input tables have samples as rows, we therefore have to transpose our otu_table with the t() function."
   ]
  },
  {
   "cell_type": "markdown",
   "metadata": {},
   "source": [
    "# Plotting\n",
    "We will use the ggplot2 package for plotting. "
   ]
  },
  {
   "cell_type": "code",
   "execution_count": null,
   "metadata": {},
   "outputs": [],
   "source": [
    "library(ggplot2)"
   ]
  },
  {
   "cell_type": "markdown",
   "metadata": {},
   "source": [
    "First, we will calculate observed richness and shannon diversity in one line, then we will add our sample metadata:"
   ]
  },
  {
   "cell_type": "code",
   "execution_count": null,
   "metadata": {},
   "outputs": [],
   "source": [
    "alpha <- estimate_richness(phy, measures = c(\"Observed\", \"Shannon\"))\n",
    "alpha <- merge(alpha, sample_data(phy), by = \"row.names\")"
   ]
  },
  {
   "cell_type": "markdown",
   "metadata": {},
   "source": [
    "The *alpha* data.frame now looks like this:"
   ]
  },
  {
   "cell_type": "code",
   "execution_count": null,
   "metadata": {},
   "outputs": [],
   "source": [
    "head(alpha)"
   ]
  },
  {
   "cell_type": "code",
   "execution_count": null,
   "metadata": {},
   "outputs": [],
   "source": [
    "# Define plot\n",
    "plot_alpha <- ggplot(alpha, aes(x = Time, y = Observed)) +\n",
    "    geom_point()\n",
    "\n",
    "# Show plot\n",
    "plot_alpha"
   ]
  },
  {
   "cell_type": "markdown",
   "metadata": {},
   "source": [
    "We can plot as boxplots with a black and white theme and with custom labels:"
   ]
  },
  {
   "cell_type": "code",
   "execution_count": null,
   "metadata": {},
   "outputs": [],
   "source": [
    "# Define plot\n",
    "plot_alpha <- ggplot(alpha, aes(x = Time, y = Observed)) +\n",
    "    theme_bw() +\n",
    "    geom_boxplot() +\n",
    "    xlab(\"Time point\") +\n",
    "    ylab(\"Observed richness\")\n",
    "    \n",
    "# Show plot\n",
    "plot_alpha"
   ]
  },
  {
   "cell_type": "markdown",
   "metadata": {},
   "source": [
    "# Statistics\n",
    "From the plots above it appears as the richness is higher at 1 year (1y) than the other time points. Can this be supported statistically?"
   ]
  },
  {
   "cell_type": "markdown",
   "metadata": {},
   "source": [
    "To test if the richness differs between the time points we would run an ANOVA.\n",
    "\n",
    "The first step in R is to define the anova model:\n",
    "\n",
    "**A note on notation:** The left-hand side of the formula (y ~ x) is the response (AKA dependent variable) and the right-hand side are the features (AKA independent variables, AKA covariates)"
   ]
  },
  {
   "cell_type": "code",
   "execution_count": null,
   "metadata": {},
   "outputs": [],
   "source": [
    "model <- aov(Observed ~ Time, data = alpha)"
   ]
  },
  {
   "cell_type": "markdown",
   "metadata": {},
   "source": [
    "We can then get a summary of our model, and see that the time variable is highly significant."
   ]
  },
  {
   "cell_type": "code",
   "execution_count": null,
   "metadata": {},
   "outputs": [],
   "source": [
    "summary(model)"
   ]
  },
  {
   "cell_type": "markdown",
   "metadata": {},
   "source": [
    "We can also run the Tukey's Honest Significant Different test as a post-hoc test to compare all time points pairwise:"
   ]
  },
  {
   "cell_type": "code",
   "execution_count": null,
   "metadata": {},
   "outputs": [],
   "source": [
    "TukeyHSD(model)"
   ]
  },
  {
   "cell_type": "markdown",
   "metadata": {},
   "source": [
    "This result fits with what we see in plot. The richness at 1 year is higher than at 1 month and 1 week. \n",
    "\n",
    "The left-hand side of the output are the pairwise comparisons. Diff is the difference in means. Lwr and upr are lower and upper 95% confidence intervals (of the difference). p adj is the adjusted p-value."
   ]
  },
  {
   "cell_type": "markdown",
   "metadata": {},
   "source": [
    "## Library size\n",
    "If the dataset is not rarefied (see notebook on rarefaction for details), we should include the library size (the total number of reads in a given sample) in the model, as this could have substantial effect on the alpha diversity estimation. As the library size is a continuous variable we should run a linear model instead of an anova."
   ]
  },
  {
   "cell_type": "code",
   "execution_count": null,
   "metadata": {},
   "outputs": [],
   "source": [
    "# First we include the library size in our 'alpha' data.frame\n",
    "libSize <- data.frame(LibSize = sample_sums(phy))\n",
    "alpha <- merge(alpha, libSize, by.x = \"Row.names\", by.y = \"row.names\")"
   ]
  },
  {
   "cell_type": "code",
   "execution_count": null,
   "metadata": {},
   "outputs": [],
   "source": [
    "# Then define the new model\n",
    "model2 <- lm(Observed ~ Time + log10(LibSize), data = alpha)"
   ]
  },
  {
   "cell_type": "markdown",
   "metadata": {},
   "source": [
    "In this linear model the time variable is split in three so-called dummy variables, one for each level, the first being the intercept. The interpretation here is that: the intercept represents the 1 week time point. The estimate next to Time1m shows that the richness at 1 month is 3.4 lower than at 1 week. The estimate next to Time1y shows that the richness at 1 year is 32.2 higher than at 1 week. The difference between 1 year and 1 week is significant (p < 2e-16), and so is the difference between 1 week and 1 month (p = 0.01531).\n",
    "Furthermore, the log10(LibSize) variable shows that every time the library size gets 10 times larger the richness increases by 4.4, and this is significant (p = 0.00281)."
   ]
  },
  {
   "cell_type": "code",
   "execution_count": null,
   "metadata": {},
   "outputs": [],
   "source": [
    "summary(model2)"
   ]
  },
  {
   "cell_type": "markdown",
   "metadata": {},
   "source": [
    "If we want to compare 1 month with 1 year, we can test all pairwise time points, as with the TukeyHSD above. We just need to use another function from the multcomp pacage."
   ]
  },
  {
   "cell_type": "code",
   "execution_count": null,
   "metadata": {},
   "outputs": [],
   "source": [
    "# Load package\n",
    "library(multcomp)"
   ]
  },
  {
   "cell_type": "code",
   "execution_count": null,
   "metadata": {},
   "outputs": [],
   "source": [
    "# Run Tukey contrasts on the time variable on our model2\n",
    "summary(glht(model2, linfct=mcp(Time=\"Tukey\")))"
   ]
  },
  {
   "cell_type": "markdown",
   "metadata": {},
   "source": [
    "This result agrees with our first model; 1 month and 1 week have slightly different richness, and at 1 year the richness is higher."
   ]
  },
  {
   "cell_type": "markdown",
   "metadata": {},
   "source": [
    "## Repeated measures (mixed-effect model)\n",
    "In this dataset we have repeated measurements from the same patients; we have samples from the same children at 1 week, 1 month, and 1 year. We should therefore take this into account in our statistical model. The best way is to include the subject (child) as a random effect (see details in the Statistics notebook)."
   ]
  },
  {
   "cell_type": "code",
   "execution_count": null,
   "metadata": {},
   "outputs": [],
   "source": [
    "# Load package\n",
    "library(nlme)"
   ]
  },
  {
   "cell_type": "code",
   "execution_count": null,
   "metadata": {},
   "outputs": [],
   "source": [
    "# Define model\n",
    "model3 <- lme(Observed ~ Time + log10(LibSize), random=~1|Patient, data=alpha)"
   ]
  },
  {
   "cell_type": "markdown",
   "metadata": {},
   "source": [
    "The lme function runs mixed-effect models. The only difference between our previous model and this, is that we have know added Patient as a random intercept. "
   ]
  },
  {
   "cell_type": "code",
   "execution_count": null,
   "metadata": {},
   "outputs": [],
   "source": [
    "summary(model3)"
   ]
  },
  {
   "cell_type": "markdown",
   "metadata": {},
   "source": [
    "We can see that the results are almost similar to our first model (see under Fixed Effects:). Under Random Effects in the output we can see that the standard deviation of the intercept is 2.7. This number tells us that there is some variation in richness across children, independent of Time and Library Size."
   ]
  },
  {
   "cell_type": "code",
   "execution_count": null,
   "metadata": {},
   "outputs": [],
   "source": []
  }
 ],
 "metadata": {
  "kernelspec": {
   "display_name": "R",
   "language": "R",
   "name": "ir"
  },
  "language_info": {
   "codemirror_mode": "r",
   "file_extension": ".r",
   "mimetype": "text/x-r-source",
   "name": "R",
   "pygments_lexer": "r",
   "version": "3.6.1"
  }
 },
 "nbformat": 4,
 "nbformat_minor": 2
}
