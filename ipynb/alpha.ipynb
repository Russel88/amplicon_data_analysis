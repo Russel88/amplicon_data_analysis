{
 "cells": [
  {
   "cell_type": "markdown",
   "metadata": {},
   "source": [
    "# Alpha diversity"
   ]
  },
  {
   "cell_type": "markdown",
   "metadata": {},
   "source": [
    "Alpha diversity is the diversity **within** a sample/community. There are tons of different metrics for estimating alpha diversity, and only a small subset of the metrics will be presented here. **It is crucial that the dataset is not trimmed/pruned prior to calculating the alpha diversity.**"
   ]
  },
  {
   "cell_type": "code",
   "execution_count": 1,
   "metadata": {},
   "outputs": [],
   "source": [
    "# Load phyloseq object and phyloseq package\n",
    "library(phyloseq)\n",
    "load(\"../data/physeq.RData\")"
   ]
  },
  {
   "cell_type": "markdown",
   "metadata": {},
   "source": [
    "# Contents\n",
    "* [Observed richness](#o)\n",
    "* [Shannon diversity](#s)\n",
    "* [Phylogenetic diversity](#pd)\n",
    "* [Plotting](#plot)\n",
    "* [Statistics](#stats)"
   ]
  },
  {
   "cell_type": "markdown",
   "metadata": {},
   "source": [
    "## Observed richness<a class=\"anchor\" id=\"o\"></a>\n",
    "Richness is the number of different taxa in a community. Observed richness is therefore simply the observed number of different taxa in a sample, the simplest alpha diversity metric.\n",
    "\n",
    "In R:"
   ]
  },
  {
   "cell_type": "code",
   "execution_count": 2,
   "metadata": {},
   "outputs": [
    {
     "data": {
      "text/html": [
       "<table>\n",
       "<thead><tr><th></th><th scope=col>Observed</th></tr></thead>\n",
       "<tbody>\n",
       "\t<tr><th scope=row>S_027</th><td>41</td></tr>\n",
       "\t<tr><th scope=row>S_028</th><td>42</td></tr>\n",
       "\t<tr><th scope=row>S_031</th><td>38</td></tr>\n",
       "\t<tr><th scope=row>S_034</th><td>34</td></tr>\n",
       "\t<tr><th scope=row>S_036</th><td>40</td></tr>\n",
       "\t<tr><th scope=row>S_038</th><td>36</td></tr>\n",
       "</tbody>\n",
       "</table>\n"
      ],
      "text/latex": [
       "\\begin{tabular}{r|l}\n",
       "  & Observed\\\\\n",
       "\\hline\n",
       "\tS\\_027 & 41\\\\\n",
       "\tS\\_028 & 42\\\\\n",
       "\tS\\_031 & 38\\\\\n",
       "\tS\\_034 & 34\\\\\n",
       "\tS\\_036 & 40\\\\\n",
       "\tS\\_038 & 36\\\\\n",
       "\\end{tabular}\n"
      ],
      "text/markdown": [
       "\n",
       "| <!--/--> | Observed |\n",
       "|---|---|\n",
       "| S_027 | 41 |\n",
       "| S_028 | 42 |\n",
       "| S_031 | 38 |\n",
       "| S_034 | 34 |\n",
       "| S_036 | 40 |\n",
       "| S_038 | 36 |\n",
       "\n"
      ],
      "text/plain": [
       "      Observed\n",
       "S_027 41      \n",
       "S_028 42      \n",
       "S_031 38      \n",
       "S_034 34      \n",
       "S_036 40      \n",
       "S_038 36      "
      ]
     },
     "metadata": {},
     "output_type": "display_data"
    }
   ],
   "source": [
    "obs_rich <- estimate_richness(phy, measures = \"Observed\")\n",
    "head(obs_rich)"
   ]
  },
  {
   "cell_type": "markdown",
   "metadata": {},
   "source": [
    "or with apply:"
   ]
  },
  {
   "cell_type": "code",
   "execution_count": 3,
   "metadata": {},
   "outputs": [
    {
     "data": {
      "text/html": [
       "<dl class=dl-horizontal>\n",
       "\t<dt>S_027</dt>\n",
       "\t\t<dd>41</dd>\n",
       "\t<dt>S_028</dt>\n",
       "\t\t<dd>42</dd>\n",
       "\t<dt>S_031</dt>\n",
       "\t\t<dd>38</dd>\n",
       "\t<dt>S_034</dt>\n",
       "\t\t<dd>34</dd>\n",
       "\t<dt>S_036</dt>\n",
       "\t\t<dd>40</dd>\n",
       "\t<dt>S_038</dt>\n",
       "\t\t<dd>36</dd>\n",
       "</dl>\n"
      ],
      "text/latex": [
       "\\begin{description*}\n",
       "\\item[S\\textbackslash{}\\_027] 41\n",
       "\\item[S\\textbackslash{}\\_028] 42\n",
       "\\item[S\\textbackslash{}\\_031] 38\n",
       "\\item[S\\textbackslash{}\\_034] 34\n",
       "\\item[S\\textbackslash{}\\_036] 40\n",
       "\\item[S\\textbackslash{}\\_038] 36\n",
       "\\end{description*}\n"
      ],
      "text/markdown": [
       "S_027\n",
       ":   41S_028\n",
       ":   42S_031\n",
       ":   38S_034\n",
       ":   34S_036\n",
       ":   40S_038\n",
       ":   36\n",
       "\n"
      ],
      "text/plain": [
       "S_027 S_028 S_031 S_034 S_036 S_038 \n",
       "   41    42    38    34    40    36 "
      ]
     },
     "metadata": {},
     "output_type": "display_data"
    }
   ],
   "source": [
    "obs_rich <- apply(otu_table(phy), MARGIN = 2, function(x) sum(x > 0))\n",
    "head(obs_rich)"
   ]
  },
  {
   "cell_type": "markdown",
   "metadata": {},
   "source": [
    "### Note on R code\n",
    "*apply* in R does something on each row (MARGIN = 1) or column (MARGIN = 2) of a matrix. The otu_table(phy) we give as input contains counts of taxa with one column per sample. We therefore run the function on each sample. sum(x > 0) means that we find all counts that are larger than zero and we sum (count) those. This is the observed richness; the number of taxa that are present (abundance > 0) in a sample."
   ]
  },
  {
   "cell_type": "markdown",
   "metadata": {},
   "source": [
    "## Shannon diversity<a class=\"anchor\" id=\"s\"></a>\n",
    "Shannon diversity (AKA Shannon entropy, AKA Shannon index), is a widely used alpha diversity metric. This metric is a combination of the richness (see above) and the evenness in sample, where the evenness is a measure of how equally abundant different taxa are in a sample. If all taxa have the same abundance then evenness is high, if one or few taxa dominates evenness is low.\n",
    "\n",
    "Shannon diversity is calcualted as:\n",
    "\\begin{equation*}\n",
    "H' = - \\sum_{i=1}^R p_i ln \\left( p_i \\right) \n",
    "\\end{equation*}\n",
    "\n",
    "where *p*<sub>i</sub> is the relative abundance of taxa *i*. *ln* is the natural log, and R is the richness.\n",
    "\n",
    "It was developed as a measure of information, and can be thought of as the uncertainty in whether two random individuals in a sample/community are similar. Therefore, the more different taxa are observed in a sample, and the more even their abundance is, the higher is the Shannon diversity. \n",
    "\n",
    "##### Effective number of taxa\n",
    "From the Shannon diversity we can calculate the effective number of taxa, also called true diversity of order 1 (<sup>1</sup>D), as follows: <sup>1</sup>D=exp(H'). The <sup>1</sup>D can be seen as an abundance-corrected observed richness, based on the assumption that microbial communities with high evenness are effectively more diverse than communities with low evenness. The observed richness is true diversity of order 0 (<sup>0</sup>D), since it is ignoring relative abundance altogether. There are diveristy indices of higher orders than 1, which weigh the relative abundance more than Shannon diversity, effectively weighing the common (as opposed to the rare) taxa even more.\n",
    "\n",
    "In R:"
   ]
  },
  {
   "cell_type": "code",
   "execution_count": 4,
   "metadata": {},
   "outputs": [
    {
     "data": {
      "text/html": [
       "<table>\n",
       "<thead><tr><th></th><th scope=col>Shannon</th></tr></thead>\n",
       "<tbody>\n",
       "\t<tr><th scope=row>S_027</th><td>2.551245</td></tr>\n",
       "\t<tr><th scope=row>S_028</th><td>1.476669</td></tr>\n",
       "\t<tr><th scope=row>S_031</th><td>0.926933</td></tr>\n",
       "\t<tr><th scope=row>S_034</th><td>1.821306</td></tr>\n",
       "\t<tr><th scope=row>S_036</th><td>1.120686</td></tr>\n",
       "\t<tr><th scope=row>S_038</th><td>1.810183</td></tr>\n",
       "</tbody>\n",
       "</table>\n"
      ],
      "text/latex": [
       "\\begin{tabular}{r|l}\n",
       "  & Shannon\\\\\n",
       "\\hline\n",
       "\tS\\_027 & 2.551245\\\\\n",
       "\tS\\_028 & 1.476669\\\\\n",
       "\tS\\_031 & 0.926933\\\\\n",
       "\tS\\_034 & 1.821306\\\\\n",
       "\tS\\_036 & 1.120686\\\\\n",
       "\tS\\_038 & 1.810183\\\\\n",
       "\\end{tabular}\n"
      ],
      "text/markdown": [
       "\n",
       "| <!--/--> | Shannon |\n",
       "|---|---|\n",
       "| S_027 | 2.551245 |\n",
       "| S_028 | 1.476669 |\n",
       "| S_031 | 0.926933 |\n",
       "| S_034 | 1.821306 |\n",
       "| S_036 | 1.120686 |\n",
       "| S_038 | 1.810183 |\n",
       "\n"
      ],
      "text/plain": [
       "      Shannon \n",
       "S_027 2.551245\n",
       "S_028 1.476669\n",
       "S_031 0.926933\n",
       "S_034 1.821306\n",
       "S_036 1.120686\n",
       "S_038 1.810183"
      ]
     },
     "metadata": {},
     "output_type": "display_data"
    }
   ],
   "source": [
    "shannon <- estimate_richness(phy, measures = \"Shannon\")\n",
    "head(shannon)"
   ]
  },
  {
   "cell_type": "markdown",
   "metadata": {},
   "source": [
    "or directly with the formula above:"
   ]
  },
  {
   "cell_type": "code",
   "execution_count": 5,
   "metadata": {},
   "outputs": [
    {
     "data": {
      "text/html": [
       "<dl class=dl-horizontal>\n",
       "\t<dt>S_027</dt>\n",
       "\t\t<dd>2.55124482098489</dd>\n",
       "\t<dt>S_028</dt>\n",
       "\t\t<dd>1.47666912877366</dd>\n",
       "\t<dt>S_031</dt>\n",
       "\t\t<dd>0.926933011834673</dd>\n",
       "\t<dt>S_034</dt>\n",
       "\t\t<dd>1.82130593105905</dd>\n",
       "\t<dt>S_036</dt>\n",
       "\t\t<dd>1.1206861273353</dd>\n",
       "\t<dt>S_038</dt>\n",
       "\t\t<dd>1.81018316028165</dd>\n",
       "</dl>\n"
      ],
      "text/latex": [
       "\\begin{description*}\n",
       "\\item[S\\textbackslash{}\\_027] 2.55124482098489\n",
       "\\item[S\\textbackslash{}\\_028] 1.47666912877366\n",
       "\\item[S\\textbackslash{}\\_031] 0.926933011834673\n",
       "\\item[S\\textbackslash{}\\_034] 1.82130593105905\n",
       "\\item[S\\textbackslash{}\\_036] 1.1206861273353\n",
       "\\item[S\\textbackslash{}\\_038] 1.81018316028165\n",
       "\\end{description*}\n"
      ],
      "text/markdown": [
       "S_027\n",
       ":   2.55124482098489S_028\n",
       ":   1.47666912877366S_031\n",
       ":   0.926933011834673S_034\n",
       ":   1.82130593105905S_036\n",
       ":   1.1206861273353S_038\n",
       ":   1.81018316028165\n",
       "\n"
      ],
      "text/plain": [
       "   S_027    S_028    S_031    S_034    S_036    S_038 \n",
       "2.551245 1.476669 0.926933 1.821306 1.120686 1.810183 "
      ]
     },
     "metadata": {},
     "output_type": "display_data"
    }
   ],
   "source": [
    "shannon <- apply(otu_table(phy), MARGIN = 2, function(x) -sum(x/sum(x)*log(x/sum(x)), na.rm = TRUE))\n",
    "head(shannon)"
   ]
  },
  {
   "cell_type": "markdown",
   "metadata": {},
   "source": [
    "**Calculate effective number of taxa:**"
   ]
  },
  {
   "cell_type": "code",
   "execution_count": 6,
   "metadata": {},
   "outputs": [
    {
     "data": {
      "text/html": [
       "<dl class=dl-horizontal>\n",
       "\t<dt>S_027</dt>\n",
       "\t\t<dd>12.8230562611374</dd>\n",
       "\t<dt>S_028</dt>\n",
       "\t\t<dd>4.37833768673102</dd>\n",
       "\t<dt>S_031</dt>\n",
       "\t\t<dd>2.52674777611238</dd>\n",
       "\t<dt>S_034</dt>\n",
       "\t\t<dd>6.17992373673337</dd>\n",
       "\t<dt>S_036</dt>\n",
       "\t\t<dd>3.06695780512743</dd>\n",
       "\t<dt>S_038</dt>\n",
       "\t\t<dd>6.11156672600528</dd>\n",
       "</dl>\n"
      ],
      "text/latex": [
       "\\begin{description*}\n",
       "\\item[S\\textbackslash{}\\_027] 12.8230562611374\n",
       "\\item[S\\textbackslash{}\\_028] 4.37833768673102\n",
       "\\item[S\\textbackslash{}\\_031] 2.52674777611238\n",
       "\\item[S\\textbackslash{}\\_034] 6.17992373673337\n",
       "\\item[S\\textbackslash{}\\_036] 3.06695780512743\n",
       "\\item[S\\textbackslash{}\\_038] 6.11156672600528\n",
       "\\end{description*}\n"
      ],
      "text/markdown": [
       "S_027\n",
       ":   12.8230562611374S_028\n",
       ":   4.37833768673102S_031\n",
       ":   2.52674777611238S_034\n",
       ":   6.17992373673337S_036\n",
       ":   3.06695780512743S_038\n",
       ":   6.11156672600528\n",
       "\n"
      ],
      "text/plain": [
       "    S_027     S_028     S_031     S_034     S_036     S_038 \n",
       "12.823056  4.378338  2.526748  6.179924  3.066958  6.111567 "
      ]
     },
     "metadata": {},
     "output_type": "display_data"
    }
   ],
   "source": [
    "D1 = exp(shannon)\n",
    "head(D1)"
   ]
  },
  {
   "cell_type": "markdown",
   "metadata": {},
   "source": [
    "### Note on R code\n",
    "As with the observed richness, we apply a function on each column (sample) of the otu_table. The function is the formula above, where x/sum(x) is a way to calculate the relative abundance. The log function will return NA for many taxa if their abundance is 0 (you cannot take the log of zero), and the na.rm = TRUE tells the function to ignore NA's in the final summation."
   ]
  },
  {
   "cell_type": "markdown",
   "metadata": {},
   "source": [
    "## Faith's phylogenetic diversity<a class=\"anchor\" id=\"pd\"></a>\n",
    "Phylogenetic diversity (PD) is an alpha diversity metric which incorporates the phylogenetic tree of the taxa. Faith's PD is the sum of all the branch lengths that are connecting all taxa observed in the sample through the shortest path in the tree.\n",
    "\n",
    "In the tree below, the cyan circles marks the taxa present in a given sample. The red line is the path connecting these taxa (usually the root is also included if present). Faith's PD of this sample is then the branch length spanned by the red path; that is, all the red horizontal lines."
   ]
  },
  {
   "cell_type": "markdown",
   "metadata": {},
   "source": [
    "![PD example](../img/PD.png)"
   ]
  },
  {
   "cell_type": "markdown",
   "metadata": {},
   "source": [
    "In R:"
   ]
  },
  {
   "cell_type": "code",
   "execution_count": 7,
   "metadata": {},
   "outputs": [
    {
     "name": "stderr",
     "output_type": "stream",
     "text": [
      "Loading required package: ape\n",
      "Loading required package: vegan\n",
      "Loading required package: permute\n",
      "Loading required package: lattice\n",
      "This is vegan 2.5-6\n",
      "Loading required package: nlme\n"
     ]
    }
   ],
   "source": [
    "# We need the picante package\n",
    "library(picante)"
   ]
  },
  {
   "cell_type": "code",
   "execution_count": 8,
   "metadata": {},
   "outputs": [
    {
     "data": {
      "text/html": [
       "<table>\n",
       "<thead><tr><th></th><th scope=col>PD</th><th scope=col>SR</th></tr></thead>\n",
       "<tbody>\n",
       "\t<tr><th scope=row>S_027</th><td>5.790207</td><td>41      </td></tr>\n",
       "\t<tr><th scope=row>S_028</th><td>6.555121</td><td>42      </td></tr>\n",
       "\t<tr><th scope=row>S_031</th><td>6.628393</td><td>38      </td></tr>\n",
       "\t<tr><th scope=row>S_034</th><td>4.683574</td><td>34      </td></tr>\n",
       "\t<tr><th scope=row>S_036</th><td>5.695487</td><td>40      </td></tr>\n",
       "\t<tr><th scope=row>S_038</th><td>6.017600</td><td>36      </td></tr>\n",
       "</tbody>\n",
       "</table>\n"
      ],
      "text/latex": [
       "\\begin{tabular}{r|ll}\n",
       "  & PD & SR\\\\\n",
       "\\hline\n",
       "\tS\\_027 & 5.790207 & 41      \\\\\n",
       "\tS\\_028 & 6.555121 & 42      \\\\\n",
       "\tS\\_031 & 6.628393 & 38      \\\\\n",
       "\tS\\_034 & 4.683574 & 34      \\\\\n",
       "\tS\\_036 & 5.695487 & 40      \\\\\n",
       "\tS\\_038 & 6.017600 & 36      \\\\\n",
       "\\end{tabular}\n"
      ],
      "text/markdown": [
       "\n",
       "| <!--/--> | PD | SR |\n",
       "|---|---|---|\n",
       "| S_027 | 5.790207 | 41       |\n",
       "| S_028 | 6.555121 | 42       |\n",
       "| S_031 | 6.628393 | 38       |\n",
       "| S_034 | 4.683574 | 34       |\n",
       "| S_036 | 5.695487 | 40       |\n",
       "| S_038 | 6.017600 | 36       |\n",
       "\n"
      ],
      "text/plain": [
       "      PD       SR\n",
       "S_027 5.790207 41\n",
       "S_028 6.555121 42\n",
       "S_031 6.628393 38\n",
       "S_034 4.683574 34\n",
       "S_036 5.695487 40\n",
       "S_038 6.017600 36"
      ]
     },
     "metadata": {},
     "output_type": "display_data"
    }
   ],
   "source": [
    "# PD: Phylogenetic Diversity\n",
    "# SR: Species Richness (aka Observed richness)\n",
    "fpd <- pd(t(otu_table(phy)), phy_tree(phy))\n",
    "head(fpd)"
   ]
  },
  {
   "cell_type": "markdown",
   "metadata": {},
   "source": [
    "### Note on R code\n",
    "The *pd* function of course needs our phylogenetic tree as input, but it also needs the otu_table to know which taxa are present in which samples. The *picante* package assumes that input tables have samples as rows, we therefore have to transpose our otu_table with the t() function."
   ]
  },
  {
   "cell_type": "markdown",
   "metadata": {},
   "source": [
    "# Plotting<a class=\"anchor\" id=\"plot\"></a>\n",
    "We will use the ggplot2 package for plotting. "
   ]
  },
  {
   "cell_type": "code",
   "execution_count": 9,
   "metadata": {},
   "outputs": [],
   "source": [
    "library(ggplot2)"
   ]
  },
  {
   "cell_type": "markdown",
   "metadata": {},
   "source": [
    "First, we will calculate observed richness and shannon diversity in one line, then we will add our sample metadata:"
   ]
  },
  {
   "cell_type": "code",
   "execution_count": 10,
   "metadata": {},
   "outputs": [],
   "source": [
    "alpha <- estimate_richness(phy, measures = c(\"Observed\", \"Shannon\"))\n",
    "alpha <- merge(alpha, sample_data(phy), by = \"row.names\")"
   ]
  },
  {
   "cell_type": "markdown",
   "metadata": {},
   "source": [
    "The *alpha* data.frame now looks like this:"
   ]
  },
  {
   "cell_type": "code",
   "execution_count": 11,
   "metadata": {},
   "outputs": [
    {
     "data": {
      "text/html": [
       "<table>\n",
       "<thead><tr><th scope=col>Row.names</th><th scope=col>Observed</th><th scope=col>Shannon</th><th scope=col>Patient</th><th scope=col>Time</th><th scope=col>Delivery</th></tr></thead>\n",
       "<tbody>\n",
       "\t<tr><td>S_001    </td><td>32       </td><td>0.9229701</td><td>e22      </td><td>1m       </td><td>Normal   </td></tr>\n",
       "\t<tr><td>S_002    </td><td>29       </td><td>0.9936260</td><td>e57      </td><td>1m       </td><td>Normal   </td></tr>\n",
       "\t<tr><td>S_003    </td><td>39       </td><td>2.3707236</td><td>389      </td><td>1m       </td><td>Normal   </td></tr>\n",
       "\t<tr><td>S_004    </td><td>29       </td><td>0.2549708</td><td>87c      </td><td>1m       </td><td>Sectio   </td></tr>\n",
       "\t<tr><td>S_005    </td><td>29       </td><td>2.0501637</td><td>d7c      </td><td>1m       </td><td>Normal   </td></tr>\n",
       "\t<tr><td>S_006    </td><td>31       </td><td>2.2676366</td><td>5ef      </td><td>1m       </td><td>Normal   </td></tr>\n",
       "</tbody>\n",
       "</table>\n"
      ],
      "text/latex": [
       "\\begin{tabular}{r|llllll}\n",
       " Row.names & Observed & Shannon & Patient & Time & Delivery\\\\\n",
       "\\hline\n",
       "\t S\\_001   & 32        & 0.9229701 & e22       & 1m        & Normal   \\\\\n",
       "\t S\\_002   & 29        & 0.9936260 & e57       & 1m        & Normal   \\\\\n",
       "\t S\\_003   & 39        & 2.3707236 & 389       & 1m        & Normal   \\\\\n",
       "\t S\\_004   & 29        & 0.2549708 & 87c       & 1m        & Sectio   \\\\\n",
       "\t S\\_005   & 29        & 2.0501637 & d7c       & 1m        & Normal   \\\\\n",
       "\t S\\_006   & 31        & 2.2676366 & 5ef       & 1m        & Normal   \\\\\n",
       "\\end{tabular}\n"
      ],
      "text/markdown": [
       "\n",
       "| Row.names | Observed | Shannon | Patient | Time | Delivery |\n",
       "|---|---|---|---|---|---|\n",
       "| S_001     | 32        | 0.9229701 | e22       | 1m        | Normal    |\n",
       "| S_002     | 29        | 0.9936260 | e57       | 1m        | Normal    |\n",
       "| S_003     | 39        | 2.3707236 | 389       | 1m        | Normal    |\n",
       "| S_004     | 29        | 0.2549708 | 87c       | 1m        | Sectio    |\n",
       "| S_005     | 29        | 2.0501637 | d7c       | 1m        | Normal    |\n",
       "| S_006     | 31        | 2.2676366 | 5ef       | 1m        | Normal    |\n",
       "\n"
      ],
      "text/plain": [
       "  Row.names Observed Shannon   Patient Time Delivery\n",
       "1 S_001     32       0.9229701 e22     1m   Normal  \n",
       "2 S_002     29       0.9936260 e57     1m   Normal  \n",
       "3 S_003     39       2.3707236 389     1m   Normal  \n",
       "4 S_004     29       0.2549708 87c     1m   Sectio  \n",
       "5 S_005     29       2.0501637 d7c     1m   Normal  \n",
       "6 S_006     31       2.2676366 5ef     1m   Normal  "
      ]
     },
     "metadata": {},
     "output_type": "display_data"
    }
   ],
   "source": [
    "head(alpha)"
   ]
  },
  {
   "cell_type": "code",
   "execution_count": 12,
   "metadata": {},
   "outputs": [
    {
     "data": {
      "image/png": "[encoded data removed]",
      "text/plain": [
       "plot without title"
      ]
     },
     "metadata": {},
     "output_type": "display_data"
    }
   ],
   "source": [
    "# Define plot\n",
    "plot_alpha <- ggplot(alpha, aes(x = Time, y = Observed)) +\n",
    "    geom_point()\n",
    "\n",
    "# Show plot\n",
    "plot_alpha"
   ]
  },
  {
   "cell_type": "markdown",
   "metadata": {},
   "source": [
    "We can plot as boxplots with a black and white theme and with custom labels:"
   ]
  },
  {
   "cell_type": "code",
   "execution_count": 13,
   "metadata": {},
   "outputs": [
    {
     "data": {
      "image/png": "[encoded data removed]",
      "text/plain": [
       "plot without title"
      ]
     },
     "metadata": {},
     "output_type": "display_data"
    }
   ],
   "source": [
    "# Define plot\n",
    "plot_alpha <- ggplot(alpha, aes(x = Time, y = Observed)) +\n",
    "    theme_bw() +\n",
    "    geom_boxplot() +\n",
    "    xlab(\"Time point\") +\n",
    "    ylab(\"Observed richness\")\n",
    "    \n",
    "# Show plot\n",
    "plot_alpha"
   ]
  },
  {
   "cell_type": "markdown",
   "metadata": {},
   "source": [
    "# Statistics<a class=\"anchor\" id=\"stats\"></a>\n",
    "From the plots above it appears as the richness is higher at 1 year (1y) than the other time points. Can this be supported statistically?"
   ]
  },
  {
   "cell_type": "markdown",
   "metadata": {},
   "source": [
    "To test if the richness differs between the time points we would run an ANOVA.\n",
    "\n",
    "The first step in R is to define the anova model:\n",
    "\n",
    "**A note on notation:** The left-hand side of the formula (y ~ x) is the response (AKA dependent variable) and the right-hand side are the features (AKA independent variables, AKA covariates)"
   ]
  },
  {
   "cell_type": "code",
   "execution_count": 14,
   "metadata": {},
   "outputs": [],
   "source": [
    "model <- aov(Observed ~ Time, data = alpha)"
   ]
  },
  {
   "cell_type": "markdown",
   "metadata": {},
   "source": [
    "We can then get a summary of our model, and see that the time variable is highly significant."
   ]
  },
  {
   "cell_type": "code",
   "execution_count": 15,
   "metadata": {},
   "outputs": [
    {
     "data": {
      "text/plain": [
       "             Df Sum Sq Mean Sq F value Pr(>F)    \n",
       "Time          2  38192   19096   383.2 <2e-16 ***\n",
       "Residuals   147   7325      50                   \n",
       "---\n",
       "Signif. codes:  0 '***' 0.001 '**' 0.01 '*' 0.05 '.' 0.1 ' ' 1"
      ]
     },
     "metadata": {},
     "output_type": "display_data"
    }
   ],
   "source": [
    "summary(model)"
   ]
  },
  {
   "cell_type": "markdown",
   "metadata": {},
   "source": [
    "We can also run the Tukey's Honest Significant Different test as a post-hoc test to compare all time points pairwise:"
   ]
  },
  {
   "cell_type": "code",
   "execution_count": 16,
   "metadata": {},
   "outputs": [
    {
     "data": {
      "text/plain": [
       "  Tukey multiple comparisons of means\n",
       "    95% family-wise confidence level\n",
       "\n",
       "Fit: aov(formula = Observed ~ Time, data = alpha)\n",
       "\n",
       "$Time\n",
       "       diff      lwr      upr     p adj\n",
       "1m-1w -3.54 -6.88272 -0.19728 0.0351608\n",
       "1y-1w 31.94 28.59728 35.28272 0.0000000\n",
       "1y-1m 35.48 32.13728 38.82272 0.0000000\n"
      ]
     },
     "metadata": {},
     "output_type": "display_data"
    }
   ],
   "source": [
    "TukeyHSD(model)"
   ]
  },
  {
   "cell_type": "markdown",
   "metadata": {},
   "source": [
    "This result fits with what we see in plot. The richness at 1 year is higher than at 1 month and 1 week. \n",
    "\n",
    "The left-hand side of the output are the pairwise comparisons. Diff is the difference in means. Lwr and upr are lower and upper 95% confidence intervals (of the difference). p adj is the adjusted p-value."
   ]
  },
  {
   "cell_type": "markdown",
   "metadata": {},
   "source": [
    "## Library size\n",
    "If the dataset is not rarefied (see notebook on rarefaction for details), we should include the library size (the total number of reads in a given sample) in the model, as this could have substantial effect on the alpha diversity estimation. As the library size is a continuous variable we should run a linear model instead of an anova."
   ]
  },
  {
   "cell_type": "code",
   "execution_count": 17,
   "metadata": {},
   "outputs": [],
   "source": [
    "# First we include the library size in our 'alpha' data.frame\n",
    "libSize <- data.frame(LibSize = sample_sums(phy))\n",
    "alpha <- merge(alpha, libSize, by.x = \"Row.names\", by.y = \"row.names\")"
   ]
  },
  {
   "cell_type": "code",
   "execution_count": 18,
   "metadata": {},
   "outputs": [],
   "source": [
    "# Then define the new model\n",
    "model2 <- lm(Observed ~ Time + log10(LibSize), data = alpha)"
   ]
  },
  {
   "cell_type": "markdown",
   "metadata": {},
   "source": [
    "In this linear model the time variable is split in three so-called dummy variables, one for each level, the first being the intercept. The interpretation here is that: the intercept represents the 1 week time point. The estimate next to Time1m shows that the richness at 1 month is 3.4 lower than at 1 week. The estimate next to Time1y shows that the richness at 1 year is 32.2 higher than at 1 week. The difference between 1 year and 1 week is significant (p < 2e-16), and so is the difference between 1 week and 1 month (p = 0.01531).\n",
    "Furthermore, the log10(LibSize) variable shows that every time the library size gets 10 times larger the richness increases by 4.4, and this is significant (p = 0.00281)."
   ]
  },
  {
   "cell_type": "code",
   "execution_count": 19,
   "metadata": {},
   "outputs": [
    {
     "data": {
      "text/plain": [
       "\n",
       "Call:\n",
       "lm(formula = Observed ~ Time + log10(LibSize), data = alpha)\n",
       "\n",
       "Residuals:\n",
       "     Min       1Q   Median       3Q      Max \n",
       "-20.8212  -3.8027   0.0014   3.8647  30.4371 \n",
       "\n",
       "Coefficients:\n",
       "               Estimate Std. Error t value Pr(>|t|)    \n",
       "(Intercept)      15.282      6.879   2.221  0.02786 *  \n",
       "Time1m           -3.374      1.375  -2.454  0.01531 *  \n",
       "Time1y           32.166      1.376  23.379  < 2e-16 ***\n",
       "log10(LibSize)    4.358      1.434   3.039  0.00281 ** \n",
       "---\n",
       "Signif. codes:  0 '***' 0.001 '**' 0.01 '*' 0.05 '.' 0.1 ' ' 1\n",
       "\n",
       "Residual standard error: 6.869 on 146 degrees of freedom\n",
       "Multiple R-squared:  0.8486,\tAdjusted R-squared:  0.8455 \n",
       "F-statistic: 272.9 on 3 and 146 DF,  p-value: < 2.2e-16\n"
      ]
     },
     "metadata": {},
     "output_type": "display_data"
    }
   ],
   "source": [
    "summary(model2)"
   ]
  },
  {
   "cell_type": "markdown",
   "metadata": {},
   "source": [
    "If we want to compare 1 month with 1 year, we can test all pairwise time points, as with the TukeyHSD above. We just need to use another function from the multcomp pacage."
   ]
  },
  {
   "cell_type": "code",
   "execution_count": 20,
   "metadata": {},
   "outputs": [
    {
     "name": "stderr",
     "output_type": "stream",
     "text": [
      "Loading required package: mvtnorm\n",
      "Loading required package: survival\n",
      "Loading required package: TH.data\n",
      "Loading required package: MASS\n",
      "\n",
      "Attaching package: 'TH.data'\n",
      "\n",
      "The following object is masked from 'package:MASS':\n",
      "\n",
      "    geyser\n",
      "\n"
     ]
    }
   ],
   "source": [
    "# Load package\n",
    "library(multcomp)"
   ]
  },
  {
   "cell_type": "code",
   "execution_count": 21,
   "metadata": {},
   "outputs": [
    {
     "data": {
      "text/plain": [
       "\n",
       "\t Simultaneous Tests for General Linear Hypotheses\n",
       "\n",
       "Multiple Comparisons of Means: Tukey Contrasts\n",
       "\n",
       "\n",
       "Fit: lm(formula = Observed ~ Time + log10(LibSize), data = alpha)\n",
       "\n",
       "Linear Hypotheses:\n",
       "             Estimate Std. Error t value Pr(>|t|)    \n",
       "1m - 1w == 0   -3.374      1.375  -2.454   0.0403 *  \n",
       "1y - 1w == 0   32.166      1.376  23.379   <1e-04 ***\n",
       "1y - 1m == 0   35.540      1.374  25.866   <1e-04 ***\n",
       "---\n",
       "Signif. codes:  0 '***' 0.001 '**' 0.01 '*' 0.05 '.' 0.1 ' ' 1\n",
       "(Adjusted p values reported -- single-step method)\n"
      ]
     },
     "metadata": {},
     "output_type": "display_data"
    }
   ],
   "source": [
    "# Run Tukey contrasts on the time variable on our model2\n",
    "summary(glht(model2, linfct=mcp(Time=\"Tukey\")))"
   ]
  },
  {
   "cell_type": "markdown",
   "metadata": {},
   "source": [
    "This result agrees with our first model; 1 month and 1 week have slightly different richness, and at 1 year the richness is higher."
   ]
  },
  {
   "cell_type": "markdown",
   "metadata": {},
   "source": [
    "## Repeated measures (mixed-effect model)\n",
    "In this dataset we have repeated measurements from the same patients; we have samples from the same children at 1 week, 1 month, and 1 year. We should therefore take this into account in our statistical model. The best way is to include the subject (child) as a random effect (see details in the Statistics notebook)."
   ]
  },
  {
   "cell_type": "code",
   "execution_count": 22,
   "metadata": {},
   "outputs": [],
   "source": [
    "# Load package\n",
    "library(nlme)"
   ]
  },
  {
   "cell_type": "code",
   "execution_count": 23,
   "metadata": {},
   "outputs": [],
   "source": [
    "# Define model\n",
    "model3 <- lme(Observed ~ Time + log10(LibSize), random=~1|Patient, data=alpha)"
   ]
  },
  {
   "cell_type": "markdown",
   "metadata": {},
   "source": [
    "The lme function runs mixed-effect models. The only difference between our previous model and this, is that we have know added Patient as a random intercept. "
   ]
  },
  {
   "cell_type": "code",
   "execution_count": 24,
   "metadata": {},
   "outputs": [
    {
     "data": {
      "text/plain": [
       "Linear mixed-effects model fit by REML\n",
       " Data: alpha \n",
       "       AIC      BIC    logLik\n",
       "  1000.583 1018.484 -494.2914\n",
       "\n",
       "Random effects:\n",
       " Formula: ~1 | Patient\n",
       "        (Intercept) Residual\n",
       "StdDev:    2.717138 6.308815\n",
       "\n",
       "Fixed effects: Observed ~ Time + log10(LibSize) \n",
       "                  Value Std.Error DF   t-value p-value\n",
       "(Intercept)    16.21992  6.793048 97  2.387724  0.0189\n",
       "Time1m         -3.38128  1.262918 97 -2.677359  0.0087\n",
       "Time1y         32.15556  1.263893 97 25.441683  0.0000\n",
       "log10(LibSize)  4.16028  1.415507 97  2.939075  0.0041\n",
       " Correlation: \n",
       "               (Intr) Time1m Time1y\n",
       "Time1m         -0.135              \n",
       "Time1y         -0.150  0.501       \n",
       "log10(LibSize) -0.990  0.043  0.058\n",
       "\n",
       "Standardized Within-Group Residuals:\n",
       "        Min          Q1         Med          Q3         Max \n",
       "-2.81668398 -0.56047080  0.05244971  0.48680848  4.15815919 \n",
       "\n",
       "Number of Observations: 150\n",
       "Number of Groups: 50 "
      ]
     },
     "metadata": {},
     "output_type": "display_data"
    }
   ],
   "source": [
    "summary(model3)"
   ]
  },
  {
   "cell_type": "markdown",
   "metadata": {},
   "source": [
    "We can see that the results are almost similar to our first model (see under Fixed Effects:). Under Random Effects in the output we can see that the standard deviation of the intercept is 2.7. This number tells us that there is some variation in richness across children, independent of Time and Library Size."
   ]
  }
 ],
 "metadata": {
  "kernelspec": {
   "display_name": "R",
   "language": "R",
   "name": "ir"
  },
  "language_info": {
   "codemirror_mode": "r",
   "file_extension": ".r",
   "mimetype": "text/x-r-source",
   "name": "R",
   "pygments_lexer": "r",
   "version": "3.6.3"
  }
 },
 "nbformat": 4,
 "nbformat_minor": 2
}
