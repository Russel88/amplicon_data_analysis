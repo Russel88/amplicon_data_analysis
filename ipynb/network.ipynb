{
 "cells": [
  {
   "cell_type": "markdown",
   "metadata": {},
   "source": [
    "# Microbial association networks\n",
    "With a large set of samples we can infer co-occurrence and co-exclusion patterns between taxa. The interpretation of these associations depends on the experimental design. Say we include oral and fecal samples from human subjects, then the associations would largely be dominated by the environmental preference of the taxa, and the network would likely have two clusters; an oral cluster and a fecal cluster. These networks are often created to infer microbial interactions, but it is difficult to dicern between the effects of interactions on co-occurrence and the effect of shared environment (microbes preferring the same nutrients or aboitic condititions are likely to co-exist). Association networks can probably only be used to infer interactions if great care is taken in the experimental design. Read more [here](https://www.nature.com/articles/s41396-019-0463-3).  \n",
    "\n",
    "## Types of networks\n",
    "#### Correlation network\n",
    "Networks can be based on correlations where we calculate the correlation between each pair of taxa, independent of all the other taxa. These correlations are not affected by which taxa we include in the network, except that the p-value multiple correction is affected by the number of included taxa.\n",
    "\n",
    "Examples of correlation network methods:\n",
    "* Spearman on relative abundance\n",
    "* [Proportionality](https://journals.plos.org/ploscompbiol/article?id=10.1371/journal.pcbi.1004075)\n",
    "* [SparCC](https://journals.plos.org/ploscompbiol/article?id=10.1371/journal.pcbi.1002687)\n",
    "\n",
    "#### Inverse covariance network\n",
    "With inverse covariance we seek to remove indirect associations. Say that taxa A has a positive effect on taxa B, and taxa B has a positive effect on taxa C, but taxa A has no effect on taxa C, and vice versa. Taxa A and C would look to be associated, but this is an indirect effect, mediated by taxa B. Inverse covariance seeks to remove these, and all associations are therefore contingent on which taxa are included in the network\n",
    "\n",
    "Examples of inverse covariance methods:\n",
    "* [SPIEC-EASI with glasso](https://journals.plos.org/ploscompbiol/article?id=10.1371/journal.pcbi.1004226)\n",
    "\n",
    "\n",
    "## Contents\n",
    "* [Spearman](#spearman)\n",
    "* [Proportionality](#prop)\n",
    "* [SparCC](#sparcc)\n",
    "* [SPEIC-EASI with glasso](#spiec)\n",
    "\n",
    "## Data"
   ]
  },
  {
   "cell_type": "code",
   "execution_count": 1,
   "metadata": {},
   "outputs": [
    {
     "name": "stderr",
     "output_type": "stream",
     "text": [
      "DAtest version 2.7.18\n",
      "204 features grouped as 'Others' in the output\n"
     ]
    }
   ],
   "source": [
    "library(phyloseq)\n",
    "library(DAtest)\n",
    "load(\"../data/physeq.RData\")\n",
    "\n",
    "# Agglomorate to Genus level\n",
    "phy_genus <- tax_glom(phy, \"Genus\")\n",
    "\n",
    "# Only keep genera present in at least 10 samples\n",
    "phy_genus_pre <- preDA(phy_genus, min.samples = 10)\n",
    "\n",
    "# Extract count table:\n",
    "otu <- data.frame(otu_table(phy_genus_pre))"
   ]
  },
  {
   "cell_type": "markdown",
   "metadata": {},
   "source": [
    "## Spearman<a class=\"anchor\" id=\"spearman\"></a>\n",
    "The simplest network is to run spearman correlations on all pairs of taxa on relative abundances. "
   ]
  },
  {
   "cell_type": "markdown",
   "metadata": {},
   "source": [
    "Transform to relative abundances"
   ]
  },
  {
   "cell_type": "code",
   "execution_count": 2,
   "metadata": {},
   "outputs": [],
   "source": [
    "otu_rel <- apply(otu, 2, function(x) x/sum(x))"
   ]
  },
  {
   "cell_type": "markdown",
   "metadata": {},
   "source": [
    "Calculate correlations"
   ]
  },
  {
   "cell_type": "code",
   "execution_count": 3,
   "metadata": {},
   "outputs": [],
   "source": [
    "net <- cor(t(otu_rel), method = \"spearman\")"
   ]
  },
  {
   "cell_type": "markdown",
   "metadata": {},
   "source": [
    "Set redundant correlations to NA"
   ]
  },
  {
   "cell_type": "code",
   "execution_count": 4,
   "metadata": {},
   "outputs": [],
   "source": [
    "net[lower.tri(net)] <- NA"
   ]
  },
  {
   "cell_type": "markdown",
   "metadata": {},
   "source": [
    "Transform the correlation matrix to a data.frame:"
   ]
  },
  {
   "cell_type": "code",
   "execution_count": 5,
   "metadata": {},
   "outputs": [],
   "source": [
    "net_df <- as.data.frame.table(net)"
   ]
  },
  {
   "cell_type": "markdown",
   "metadata": {},
   "source": [
    "Remove correlations between similar taxa, and the redundant ones:"
   ]
  },
  {
   "cell_type": "code",
   "execution_count": 6,
   "metadata": {},
   "outputs": [],
   "source": [
    "net_df <- net_df[net_df$Var1 != net_df$Var2 & !is.na(net_df$Freq), ]"
   ]
  },
  {
   "cell_type": "markdown",
   "metadata": {},
   "source": [
    "Remove correlations below 0.6."
   ]
  },
  {
   "cell_type": "code",
   "execution_count": 7,
   "metadata": {},
   "outputs": [],
   "source": [
    "net_df <- net_df[abs(net_df$Freq) > 0.6, ]"
   ]
  },
  {
   "cell_type": "markdown",
   "metadata": {},
   "source": [
    "This data.frame can then be used to plot the network in for example Gephi, CytoScape, or with ggnet2 in R"
   ]
  },
  {
   "cell_type": "code",
   "execution_count": 8,
   "metadata": {},
   "outputs": [
    {
     "data": {
      "text/html": [
       "<table>\n",
       "<thead><tr><th></th><th scope=col>Source</th><th scope=col>Target</th><th scope=col>Cor</th><th scope=col>Weight</th><th scope=col>Sign</th></tr></thead>\n",
       "<tbody>\n",
       "\t<tr><th scope=row>6310</th><td>2dc26dda3a7735af9bf29c6bc37c2ecc</td><td>f5ab8244460d1988b40f85a9347297c7</td><td>0.6010385                       </td><td>0.6010385                       </td><td>Positive                        </td></tr>\n",
       "\t<tr><th scope=row>7561</th><td>f5ab8244460d1988b40f85a9347297c7</td><td>8036a70608aff1a11c728ceaeabb7342</td><td>0.6428284                       </td><td>0.6428284                       </td><td>Positive                        </td></tr>\n",
       "\t<tr><th scope=row>7897</th><td>f5ab8244460d1988b40f85a9347297c7</td><td>0978d7032689ab3eeef2fc60e4490e11</td><td>0.7690596                       </td><td>0.7690596                       </td><td>Positive                        </td></tr>\n",
       "\t<tr><th scope=row>8919</th><td>0978d7032689ab3eeef2fc60e4490e11</td><td>b6592341b951857fdd6c3889f7c90e92</td><td>0.6100780                       </td><td>0.6100780                       </td><td>Positive                        </td></tr>\n",
       "\t<tr><th scope=row>9129</th><td>f5ab8244460d1988b40f85a9347297c7</td><td>b6b05223adf86d071fd279f79dc2533c</td><td>0.6830970                       </td><td>0.6830970                       </td><td>Positive                        </td></tr>\n",
       "\t<tr><th scope=row>9143</th><td>0978d7032689ab3eeef2fc60e4490e11</td><td>b6b05223adf86d071fd279f79dc2533c</td><td>0.6361042                       </td><td>0.6361042                       </td><td>Positive                        </td></tr>\n",
       "\t<tr><th scope=row>9353</th><td>f5ab8244460d1988b40f85a9347297c7</td><td>9676d0bf5f8468ad67ed9525f3320aee</td><td>0.7671811                       </td><td>0.7671811                       </td><td>Positive                        </td></tr>\n",
       "\t<tr><th scope=row>9367</th><td>0978d7032689ab3eeef2fc60e4490e11</td><td>9676d0bf5f8468ad67ed9525f3320aee</td><td>0.6951679                       </td><td>0.6951679                       </td><td>Positive                        </td></tr>\n",
       "\t<tr><th scope=row>9378</th><td>b6b05223adf86d071fd279f79dc2533c</td><td>9676d0bf5f8468ad67ed9525f3320aee</td><td>0.6468734                       </td><td>0.6468734                       </td><td>Positive                        </td></tr>\n",
       "\t<tr><th scope=row>10025</th><td>f5ab8244460d1988b40f85a9347297c7</td><td>333fc718c6bccdbf0fd4e4f84d0dd38e</td><td>0.7413874                       </td><td>0.7413874                       </td><td>Positive                        </td></tr>\n",
       "\t<tr><th scope=row>10036</th><td>8036a70608aff1a11c728ceaeabb7342</td><td>333fc718c6bccdbf0fd4e4f84d0dd38e</td><td>0.6081522                       </td><td>0.6081522                       </td><td>Positive                        </td></tr>\n",
       "\t<tr><th scope=row>10039</th><td>0978d7032689ab3eeef2fc60e4490e11</td><td>333fc718c6bccdbf0fd4e4f84d0dd38e</td><td>0.6446276                       </td><td>0.6446276                       </td><td>Positive                        </td></tr>\n",
       "\t<tr><th scope=row>10052</th><td>9676d0bf5f8468ad67ed9525f3320aee</td><td>333fc718c6bccdbf0fd4e4f84d0dd38e</td><td>0.6741227                       </td><td>0.6741227                       </td><td>Positive                        </td></tr>\n",
       "\t<tr><th scope=row>10697</th><td>f5ab8244460d1988b40f85a9347297c7</td><td>57face48ec571894748b66cab7c52d5e</td><td>0.6161806                       </td><td>0.6161806                       </td><td>Positive                        </td></tr>\n",
       "\t<tr><th scope=row>10809</th><td>f5ab8244460d1988b40f85a9347297c7</td><td>62392dc20bb4fd6c46d3cb038b13cb9e</td><td>0.7764203                       </td><td>0.7764203                       </td><td>Positive                        </td></tr>\n",
       "\t<tr><th scope=row>10823</th><td>0978d7032689ab3eeef2fc60e4490e11</td><td>62392dc20bb4fd6c46d3cb038b13cb9e</td><td>0.6286443                       </td><td>0.6286443                       </td><td>Positive                        </td></tr>\n",
       "\t<tr><th scope=row>10836</th><td>9676d0bf5f8468ad67ed9525f3320aee</td><td>62392dc20bb4fd6c46d3cb038b13cb9e</td><td>0.7074352                       </td><td>0.7074352                       </td><td>Positive                        </td></tr>\n",
       "\t<tr><th scope=row>10842</th><td>333fc718c6bccdbf0fd4e4f84d0dd38e</td><td>62392dc20bb4fd6c46d3cb038b13cb9e</td><td>0.6622997                       </td><td>0.6622997                       </td><td>Positive                        </td></tr>\n",
       "\t<tr><th scope=row>10848</th><td>57face48ec571894748b66cab7c52d5e</td><td>62392dc20bb4fd6c46d3cb038b13cb9e</td><td>0.6170107                       </td><td>0.6170107                       </td><td>Positive                        </td></tr>\n",
       "\t<tr><th scope=row>11145</th><td>f5ab8244460d1988b40f85a9347297c7</td><td>7ce4e4dc201a6701bff5771bfcfa6d29</td><td>0.6463964                       </td><td>0.6463964                       </td><td>Positive                        </td></tr>\n",
       "\t<tr><th scope=row>11159</th><td>0978d7032689ab3eeef2fc60e4490e11</td><td>7ce4e4dc201a6701bff5771bfcfa6d29</td><td>0.6315947                       </td><td>0.6315947                       </td><td>Positive                        </td></tr>\n",
       "\t<tr><th scope=row>11172</th><td>9676d0bf5f8468ad67ed9525f3320aee</td><td>7ce4e4dc201a6701bff5771bfcfa6d29</td><td>0.6259473                       </td><td>0.6259473                       </td><td>Positive                        </td></tr>\n",
       "\t<tr><th scope=row>11593</th><td>f5ab8244460d1988b40f85a9347297c7</td><td>bfe0ef267b9437cc26842e05f6c3e13e</td><td>0.6855413                       </td><td>0.6855413                       </td><td>Positive                        </td></tr>\n",
       "\t<tr><th scope=row>11607</th><td>0978d7032689ab3eeef2fc60e4490e11</td><td>bfe0ef267b9437cc26842e05f6c3e13e</td><td>0.6877867                       </td><td>0.6877867                       </td><td>Positive                        </td></tr>\n",
       "\t<tr><th scope=row>11620</th><td>9676d0bf5f8468ad67ed9525f3320aee</td><td>bfe0ef267b9437cc26842e05f6c3e13e</td><td>0.6606211                       </td><td>0.6606211                       </td><td>Positive                        </td></tr>\n",
       "\t<tr><th scope=row>11633</th><td>62392dc20bb4fd6c46d3cb038b13cb9e</td><td>bfe0ef267b9437cc26842e05f6c3e13e</td><td>0.6652148                       </td><td>0.6652148                       </td><td>Positive                        </td></tr>\n",
       "\t<tr><th scope=row>11817</th><td>f5ab8244460d1988b40f85a9347297c7</td><td>1c88ca8aa0ed62fb2fb8bebb8cb25670</td><td>0.7637661                       </td><td>0.7637661                       </td><td>Positive                        </td></tr>\n",
       "\t<tr><th scope=row>11831</th><td>0978d7032689ab3eeef2fc60e4490e11</td><td>1c88ca8aa0ed62fb2fb8bebb8cb25670</td><td>0.7170273                       </td><td>0.7170273                       </td><td>Positive                        </td></tr>\n",
       "\t<tr><th scope=row>11842</th><td>b6b05223adf86d071fd279f79dc2533c</td><td>1c88ca8aa0ed62fb2fb8bebb8cb25670</td><td>0.6155295                       </td><td>0.6155295                       </td><td>Positive                        </td></tr>\n",
       "\t<tr><th scope=row>11844</th><td>9676d0bf5f8468ad67ed9525f3320aee</td><td>1c88ca8aa0ed62fb2fb8bebb8cb25670</td><td>0.6880714                       </td><td>0.6880714                       </td><td>Positive                        </td></tr>\n",
       "\t<tr><th scope=row>11850</th><td>333fc718c6bccdbf0fd4e4f84d0dd38e</td><td>1c88ca8aa0ed62fb2fb8bebb8cb25670</td><td>0.6944623                       </td><td>0.6944623                       </td><td>Positive                        </td></tr>\n",
       "\t<tr><th scope=row>11857</th><td>62392dc20bb4fd6c46d3cb038b13cb9e</td><td>1c88ca8aa0ed62fb2fb8bebb8cb25670</td><td>0.7311514                       </td><td>0.7311514                       </td><td>Positive                        </td></tr>\n",
       "\t<tr><th scope=row>11864</th><td>bfe0ef267b9437cc26842e05f6c3e13e</td><td>1c88ca8aa0ed62fb2fb8bebb8cb25670</td><td>0.6149376                       </td><td>0.6149376                       </td><td>Positive                        </td></tr>\n",
       "</tbody>\n",
       "</table>\n"
      ],
      "text/latex": [
       "\\begin{tabular}{r|lllll}\n",
       "  & Source & Target & Cor & Weight & Sign\\\\\n",
       "\\hline\n",
       "\t6310 & 2dc26dda3a7735af9bf29c6bc37c2ecc & f5ab8244460d1988b40f85a9347297c7 & 0.6010385                        & 0.6010385                        & Positive                        \\\\\n",
       "\t7561 & f5ab8244460d1988b40f85a9347297c7 & 8036a70608aff1a11c728ceaeabb7342 & 0.6428284                        & 0.6428284                        & Positive                        \\\\\n",
       "\t7897 & f5ab8244460d1988b40f85a9347297c7 & 0978d7032689ab3eeef2fc60e4490e11 & 0.7690596                        & 0.7690596                        & Positive                        \\\\\n",
       "\t8919 & 0978d7032689ab3eeef2fc60e4490e11 & b6592341b951857fdd6c3889f7c90e92 & 0.6100780                        & 0.6100780                        & Positive                        \\\\\n",
       "\t9129 & f5ab8244460d1988b40f85a9347297c7 & b6b05223adf86d071fd279f79dc2533c & 0.6830970                        & 0.6830970                        & Positive                        \\\\\n",
       "\t9143 & 0978d7032689ab3eeef2fc60e4490e11 & b6b05223adf86d071fd279f79dc2533c & 0.6361042                        & 0.6361042                        & Positive                        \\\\\n",
       "\t9353 & f5ab8244460d1988b40f85a9347297c7 & 9676d0bf5f8468ad67ed9525f3320aee & 0.7671811                        & 0.7671811                        & Positive                        \\\\\n",
       "\t9367 & 0978d7032689ab3eeef2fc60e4490e11 & 9676d0bf5f8468ad67ed9525f3320aee & 0.6951679                        & 0.6951679                        & Positive                        \\\\\n",
       "\t9378 & b6b05223adf86d071fd279f79dc2533c & 9676d0bf5f8468ad67ed9525f3320aee & 0.6468734                        & 0.6468734                        & Positive                        \\\\\n",
       "\t10025 & f5ab8244460d1988b40f85a9347297c7 & 333fc718c6bccdbf0fd4e4f84d0dd38e & 0.7413874                        & 0.7413874                        & Positive                        \\\\\n",
       "\t10036 & 8036a70608aff1a11c728ceaeabb7342 & 333fc718c6bccdbf0fd4e4f84d0dd38e & 0.6081522                        & 0.6081522                        & Positive                        \\\\\n",
       "\t10039 & 0978d7032689ab3eeef2fc60e4490e11 & 333fc718c6bccdbf0fd4e4f84d0dd38e & 0.6446276                        & 0.6446276                        & Positive                        \\\\\n",
       "\t10052 & 9676d0bf5f8468ad67ed9525f3320aee & 333fc718c6bccdbf0fd4e4f84d0dd38e & 0.6741227                        & 0.6741227                        & Positive                        \\\\\n",
       "\t10697 & f5ab8244460d1988b40f85a9347297c7 & 57face48ec571894748b66cab7c52d5e & 0.6161806                        & 0.6161806                        & Positive                        \\\\\n",
       "\t10809 & f5ab8244460d1988b40f85a9347297c7 & 62392dc20bb4fd6c46d3cb038b13cb9e & 0.7764203                        & 0.7764203                        & Positive                        \\\\\n",
       "\t10823 & 0978d7032689ab3eeef2fc60e4490e11 & 62392dc20bb4fd6c46d3cb038b13cb9e & 0.6286443                        & 0.6286443                        & Positive                        \\\\\n",
       "\t10836 & 9676d0bf5f8468ad67ed9525f3320aee & 62392dc20bb4fd6c46d3cb038b13cb9e & 0.7074352                        & 0.7074352                        & Positive                        \\\\\n",
       "\t10842 & 333fc718c6bccdbf0fd4e4f84d0dd38e & 62392dc20bb4fd6c46d3cb038b13cb9e & 0.6622997                        & 0.6622997                        & Positive                        \\\\\n",
       "\t10848 & 57face48ec571894748b66cab7c52d5e & 62392dc20bb4fd6c46d3cb038b13cb9e & 0.6170107                        & 0.6170107                        & Positive                        \\\\\n",
       "\t11145 & f5ab8244460d1988b40f85a9347297c7 & 7ce4e4dc201a6701bff5771bfcfa6d29 & 0.6463964                        & 0.6463964                        & Positive                        \\\\\n",
       "\t11159 & 0978d7032689ab3eeef2fc60e4490e11 & 7ce4e4dc201a6701bff5771bfcfa6d29 & 0.6315947                        & 0.6315947                        & Positive                        \\\\\n",
       "\t11172 & 9676d0bf5f8468ad67ed9525f3320aee & 7ce4e4dc201a6701bff5771bfcfa6d29 & 0.6259473                        & 0.6259473                        & Positive                        \\\\\n",
       "\t11593 & f5ab8244460d1988b40f85a9347297c7 & bfe0ef267b9437cc26842e05f6c3e13e & 0.6855413                        & 0.6855413                        & Positive                        \\\\\n",
       "\t11607 & 0978d7032689ab3eeef2fc60e4490e11 & bfe0ef267b9437cc26842e05f6c3e13e & 0.6877867                        & 0.6877867                        & Positive                        \\\\\n",
       "\t11620 & 9676d0bf5f8468ad67ed9525f3320aee & bfe0ef267b9437cc26842e05f6c3e13e & 0.6606211                        & 0.6606211                        & Positive                        \\\\\n",
       "\t11633 & 62392dc20bb4fd6c46d3cb038b13cb9e & bfe0ef267b9437cc26842e05f6c3e13e & 0.6652148                        & 0.6652148                        & Positive                        \\\\\n",
       "\t11817 & f5ab8244460d1988b40f85a9347297c7 & 1c88ca8aa0ed62fb2fb8bebb8cb25670 & 0.7637661                        & 0.7637661                        & Positive                        \\\\\n",
       "\t11831 & 0978d7032689ab3eeef2fc60e4490e11 & 1c88ca8aa0ed62fb2fb8bebb8cb25670 & 0.7170273                        & 0.7170273                        & Positive                        \\\\\n",
       "\t11842 & b6b05223adf86d071fd279f79dc2533c & 1c88ca8aa0ed62fb2fb8bebb8cb25670 & 0.6155295                        & 0.6155295                        & Positive                        \\\\\n",
       "\t11844 & 9676d0bf5f8468ad67ed9525f3320aee & 1c88ca8aa0ed62fb2fb8bebb8cb25670 & 0.6880714                        & 0.6880714                        & Positive                        \\\\\n",
       "\t11850 & 333fc718c6bccdbf0fd4e4f84d0dd38e & 1c88ca8aa0ed62fb2fb8bebb8cb25670 & 0.6944623                        & 0.6944623                        & Positive                        \\\\\n",
       "\t11857 & 62392dc20bb4fd6c46d3cb038b13cb9e & 1c88ca8aa0ed62fb2fb8bebb8cb25670 & 0.7311514                        & 0.7311514                        & Positive                        \\\\\n",
       "\t11864 & bfe0ef267b9437cc26842e05f6c3e13e & 1c88ca8aa0ed62fb2fb8bebb8cb25670 & 0.6149376                        & 0.6149376                        & Positive                        \\\\\n",
       "\\end{tabular}\n"
      ],
      "text/markdown": [
       "\n",
       "| <!--/--> | Source | Target | Cor | Weight | Sign |\n",
       "|---|---|---|---|---|---|\n",
       "| 6310 | 2dc26dda3a7735af9bf29c6bc37c2ecc | f5ab8244460d1988b40f85a9347297c7 | 0.6010385                        | 0.6010385                        | Positive                         |\n",
       "| 7561 | f5ab8244460d1988b40f85a9347297c7 | 8036a70608aff1a11c728ceaeabb7342 | 0.6428284                        | 0.6428284                        | Positive                         |\n",
       "| 7897 | f5ab8244460d1988b40f85a9347297c7 | 0978d7032689ab3eeef2fc60e4490e11 | 0.7690596                        | 0.7690596                        | Positive                         |\n",
       "| 8919 | 0978d7032689ab3eeef2fc60e4490e11 | b6592341b951857fdd6c3889f7c90e92 | 0.6100780                        | 0.6100780                        | Positive                         |\n",
       "| 9129 | f5ab8244460d1988b40f85a9347297c7 | b6b05223adf86d071fd279f79dc2533c | 0.6830970                        | 0.6830970                        | Positive                         |\n",
       "| 9143 | 0978d7032689ab3eeef2fc60e4490e11 | b6b05223adf86d071fd279f79dc2533c | 0.6361042                        | 0.6361042                        | Positive                         |\n",
       "| 9353 | f5ab8244460d1988b40f85a9347297c7 | 9676d0bf5f8468ad67ed9525f3320aee | 0.7671811                        | 0.7671811                        | Positive                         |\n",
       "| 9367 | 0978d7032689ab3eeef2fc60e4490e11 | 9676d0bf5f8468ad67ed9525f3320aee | 0.6951679                        | 0.6951679                        | Positive                         |\n",
       "| 9378 | b6b05223adf86d071fd279f79dc2533c | 9676d0bf5f8468ad67ed9525f3320aee | 0.6468734                        | 0.6468734                        | Positive                         |\n",
       "| 10025 | f5ab8244460d1988b40f85a9347297c7 | 333fc718c6bccdbf0fd4e4f84d0dd38e | 0.7413874                        | 0.7413874                        | Positive                         |\n",
       "| 10036 | 8036a70608aff1a11c728ceaeabb7342 | 333fc718c6bccdbf0fd4e4f84d0dd38e | 0.6081522                        | 0.6081522                        | Positive                         |\n",
       "| 10039 | 0978d7032689ab3eeef2fc60e4490e11 | 333fc718c6bccdbf0fd4e4f84d0dd38e | 0.6446276                        | 0.6446276                        | Positive                         |\n",
       "| 10052 | 9676d0bf5f8468ad67ed9525f3320aee | 333fc718c6bccdbf0fd4e4f84d0dd38e | 0.6741227                        | 0.6741227                        | Positive                         |\n",
       "| 10697 | f5ab8244460d1988b40f85a9347297c7 | 57face48ec571894748b66cab7c52d5e | 0.6161806                        | 0.6161806                        | Positive                         |\n",
       "| 10809 | f5ab8244460d1988b40f85a9347297c7 | 62392dc20bb4fd6c46d3cb038b13cb9e | 0.7764203                        | 0.7764203                        | Positive                         |\n",
       "| 10823 | 0978d7032689ab3eeef2fc60e4490e11 | 62392dc20bb4fd6c46d3cb038b13cb9e | 0.6286443                        | 0.6286443                        | Positive                         |\n",
       "| 10836 | 9676d0bf5f8468ad67ed9525f3320aee | 62392dc20bb4fd6c46d3cb038b13cb9e | 0.7074352                        | 0.7074352                        | Positive                         |\n",
       "| 10842 | 333fc718c6bccdbf0fd4e4f84d0dd38e | 62392dc20bb4fd6c46d3cb038b13cb9e | 0.6622997                        | 0.6622997                        | Positive                         |\n",
       "| 10848 | 57face48ec571894748b66cab7c52d5e | 62392dc20bb4fd6c46d3cb038b13cb9e | 0.6170107                        | 0.6170107                        | Positive                         |\n",
       "| 11145 | f5ab8244460d1988b40f85a9347297c7 | 7ce4e4dc201a6701bff5771bfcfa6d29 | 0.6463964                        | 0.6463964                        | Positive                         |\n",
       "| 11159 | 0978d7032689ab3eeef2fc60e4490e11 | 7ce4e4dc201a6701bff5771bfcfa6d29 | 0.6315947                        | 0.6315947                        | Positive                         |\n",
       "| 11172 | 9676d0bf5f8468ad67ed9525f3320aee | 7ce4e4dc201a6701bff5771bfcfa6d29 | 0.6259473                        | 0.6259473                        | Positive                         |\n",
       "| 11593 | f5ab8244460d1988b40f85a9347297c7 | bfe0ef267b9437cc26842e05f6c3e13e | 0.6855413                        | 0.6855413                        | Positive                         |\n",
       "| 11607 | 0978d7032689ab3eeef2fc60e4490e11 | bfe0ef267b9437cc26842e05f6c3e13e | 0.6877867                        | 0.6877867                        | Positive                         |\n",
       "| 11620 | 9676d0bf5f8468ad67ed9525f3320aee | bfe0ef267b9437cc26842e05f6c3e13e | 0.6606211                        | 0.6606211                        | Positive                         |\n",
       "| 11633 | 62392dc20bb4fd6c46d3cb038b13cb9e | bfe0ef267b9437cc26842e05f6c3e13e | 0.6652148                        | 0.6652148                        | Positive                         |\n",
       "| 11817 | f5ab8244460d1988b40f85a9347297c7 | 1c88ca8aa0ed62fb2fb8bebb8cb25670 | 0.7637661                        | 0.7637661                        | Positive                         |\n",
       "| 11831 | 0978d7032689ab3eeef2fc60e4490e11 | 1c88ca8aa0ed62fb2fb8bebb8cb25670 | 0.7170273                        | 0.7170273                        | Positive                         |\n",
       "| 11842 | b6b05223adf86d071fd279f79dc2533c | 1c88ca8aa0ed62fb2fb8bebb8cb25670 | 0.6155295                        | 0.6155295                        | Positive                         |\n",
       "| 11844 | 9676d0bf5f8468ad67ed9525f3320aee | 1c88ca8aa0ed62fb2fb8bebb8cb25670 | 0.6880714                        | 0.6880714                        | Positive                         |\n",
       "| 11850 | 333fc718c6bccdbf0fd4e4f84d0dd38e | 1c88ca8aa0ed62fb2fb8bebb8cb25670 | 0.6944623                        | 0.6944623                        | Positive                         |\n",
       "| 11857 | 62392dc20bb4fd6c46d3cb038b13cb9e | 1c88ca8aa0ed62fb2fb8bebb8cb25670 | 0.7311514                        | 0.7311514                        | Positive                         |\n",
       "| 11864 | bfe0ef267b9437cc26842e05f6c3e13e | 1c88ca8aa0ed62fb2fb8bebb8cb25670 | 0.6149376                        | 0.6149376                        | Positive                         |\n",
       "\n"
      ],
      "text/plain": [
       "      Source                           Target                          \n",
       "6310  2dc26dda3a7735af9bf29c6bc37c2ecc f5ab8244460d1988b40f85a9347297c7\n",
       "7561  f5ab8244460d1988b40f85a9347297c7 8036a70608aff1a11c728ceaeabb7342\n",
       "7897  f5ab8244460d1988b40f85a9347297c7 0978d7032689ab3eeef2fc60e4490e11\n",
       "8919  0978d7032689ab3eeef2fc60e4490e11 b6592341b951857fdd6c3889f7c90e92\n",
       "9129  f5ab8244460d1988b40f85a9347297c7 b6b05223adf86d071fd279f79dc2533c\n",
       "9143  0978d7032689ab3eeef2fc60e4490e11 b6b05223adf86d071fd279f79dc2533c\n",
       "9353  f5ab8244460d1988b40f85a9347297c7 9676d0bf5f8468ad67ed9525f3320aee\n",
       "9367  0978d7032689ab3eeef2fc60e4490e11 9676d0bf5f8468ad67ed9525f3320aee\n",
       "9378  b6b05223adf86d071fd279f79dc2533c 9676d0bf5f8468ad67ed9525f3320aee\n",
       "10025 f5ab8244460d1988b40f85a9347297c7 333fc718c6bccdbf0fd4e4f84d0dd38e\n",
       "10036 8036a70608aff1a11c728ceaeabb7342 333fc718c6bccdbf0fd4e4f84d0dd38e\n",
       "10039 0978d7032689ab3eeef2fc60e4490e11 333fc718c6bccdbf0fd4e4f84d0dd38e\n",
       "10052 9676d0bf5f8468ad67ed9525f3320aee 333fc718c6bccdbf0fd4e4f84d0dd38e\n",
       "10697 f5ab8244460d1988b40f85a9347297c7 57face48ec571894748b66cab7c52d5e\n",
       "10809 f5ab8244460d1988b40f85a9347297c7 62392dc20bb4fd6c46d3cb038b13cb9e\n",
       "10823 0978d7032689ab3eeef2fc60e4490e11 62392dc20bb4fd6c46d3cb038b13cb9e\n",
       "10836 9676d0bf5f8468ad67ed9525f3320aee 62392dc20bb4fd6c46d3cb038b13cb9e\n",
       "10842 333fc718c6bccdbf0fd4e4f84d0dd38e 62392dc20bb4fd6c46d3cb038b13cb9e\n",
       "10848 57face48ec571894748b66cab7c52d5e 62392dc20bb4fd6c46d3cb038b13cb9e\n",
       "11145 f5ab8244460d1988b40f85a9347297c7 7ce4e4dc201a6701bff5771bfcfa6d29\n",
       "11159 0978d7032689ab3eeef2fc60e4490e11 7ce4e4dc201a6701bff5771bfcfa6d29\n",
       "11172 9676d0bf5f8468ad67ed9525f3320aee 7ce4e4dc201a6701bff5771bfcfa6d29\n",
       "11593 f5ab8244460d1988b40f85a9347297c7 bfe0ef267b9437cc26842e05f6c3e13e\n",
       "11607 0978d7032689ab3eeef2fc60e4490e11 bfe0ef267b9437cc26842e05f6c3e13e\n",
       "11620 9676d0bf5f8468ad67ed9525f3320aee bfe0ef267b9437cc26842e05f6c3e13e\n",
       "11633 62392dc20bb4fd6c46d3cb038b13cb9e bfe0ef267b9437cc26842e05f6c3e13e\n",
       "11817 f5ab8244460d1988b40f85a9347297c7 1c88ca8aa0ed62fb2fb8bebb8cb25670\n",
       "11831 0978d7032689ab3eeef2fc60e4490e11 1c88ca8aa0ed62fb2fb8bebb8cb25670\n",
       "11842 b6b05223adf86d071fd279f79dc2533c 1c88ca8aa0ed62fb2fb8bebb8cb25670\n",
       "11844 9676d0bf5f8468ad67ed9525f3320aee 1c88ca8aa0ed62fb2fb8bebb8cb25670\n",
       "11850 333fc718c6bccdbf0fd4e4f84d0dd38e 1c88ca8aa0ed62fb2fb8bebb8cb25670\n",
       "11857 62392dc20bb4fd6c46d3cb038b13cb9e 1c88ca8aa0ed62fb2fb8bebb8cb25670\n",
       "11864 bfe0ef267b9437cc26842e05f6c3e13e 1c88ca8aa0ed62fb2fb8bebb8cb25670\n",
       "      Cor       Weight    Sign    \n",
       "6310  0.6010385 0.6010385 Positive\n",
       "7561  0.6428284 0.6428284 Positive\n",
       "7897  0.7690596 0.7690596 Positive\n",
       "8919  0.6100780 0.6100780 Positive\n",
       "9129  0.6830970 0.6830970 Positive\n",
       "9143  0.6361042 0.6361042 Positive\n",
       "9353  0.7671811 0.7671811 Positive\n",
       "9367  0.6951679 0.6951679 Positive\n",
       "9378  0.6468734 0.6468734 Positive\n",
       "10025 0.7413874 0.7413874 Positive\n",
       "10036 0.6081522 0.6081522 Positive\n",
       "10039 0.6446276 0.6446276 Positive\n",
       "10052 0.6741227 0.6741227 Positive\n",
       "10697 0.6161806 0.6161806 Positive\n",
       "10809 0.7764203 0.7764203 Positive\n",
       "10823 0.6286443 0.6286443 Positive\n",
       "10836 0.7074352 0.7074352 Positive\n",
       "10842 0.6622997 0.6622997 Positive\n",
       "10848 0.6170107 0.6170107 Positive\n",
       "11145 0.6463964 0.6463964 Positive\n",
       "11159 0.6315947 0.6315947 Positive\n",
       "11172 0.6259473 0.6259473 Positive\n",
       "11593 0.6855413 0.6855413 Positive\n",
       "11607 0.6877867 0.6877867 Positive\n",
       "11620 0.6606211 0.6606211 Positive\n",
       "11633 0.6652148 0.6652148 Positive\n",
       "11817 0.7637661 0.7637661 Positive\n",
       "11831 0.7170273 0.7170273 Positive\n",
       "11842 0.6155295 0.6155295 Positive\n",
       "11844 0.6880714 0.6880714 Positive\n",
       "11850 0.6944623 0.6944623 Positive\n",
       "11857 0.7311514 0.7311514 Positive\n",
       "11864 0.6149376 0.6149376 Positive"
      ]
     },
     "metadata": {},
     "output_type": "display_data"
    }
   ],
   "source": [
    "colnames(net_df) <- c(\"Source\", \"Target\", \"Cor\")\n",
    "net_df$Weight <- ifelse(net_df$Cor > 0, net_df$Cor, 0)\n",
    "net_df$Sign <- ifelse(net_df$Cor > 0, \"Positive\", \"Negative\")\n",
    "net_df"
   ]
  },
  {
   "cell_type": "markdown",
   "metadata": {},
   "source": [
    "The weight can be used for clustering algorithms, for example Force Atlas in Gephi. In Gephi, negative weights are not supported, so we set all negative correlations to zero (they have no influence on clustering)."
   ]
  },
  {
   "cell_type": "markdown",
   "metadata": {},
   "source": [
    "## Proportionality<a class=\"anchor\" id=\"prop\"></a>\n",
    "Proportionality is a correlation method specifically developed for compositional microbial data. It is included in the MicEco package and can be run directly on a phyloseq object:"
   ]
  },
  {
   "cell_type": "code",
   "execution_count": 9,
   "metadata": {},
   "outputs": [],
   "source": [
    "library(MicEco)\n",
    "net <- proportionality(phy_genus_pre)"
   ]
  },
  {
   "cell_type": "markdown",
   "metadata": {},
   "source": [
    "We can then run the same steps as for the Spearman correlation:"
   ]
  },
  {
   "cell_type": "code",
   "execution_count": 10,
   "metadata": {},
   "outputs": [],
   "source": [
    "net_df <- as.data.frame.table(net)\n",
    "net_df <- net_df[net_df$Var1 != net_df$Var2, ]\n",
    "net_df <- net_df[abs(net_df$Freq) > 0.6, ]"
   ]
  },
  {
   "cell_type": "markdown",
   "metadata": {},
   "source": [
    "As for the Spearman correaltion, you can choose to just set an arbitrary correlation cut-off for including correlations, for example 0.6. It is also possible to calculate p-values through permutations if this is prefered."
   ]
  },
  {
   "cell_type": "code",
   "execution_count": 11,
   "metadata": {},
   "outputs": [
    {
     "data": {
      "text/html": [
       "<table>\n",
       "<thead><tr><th></th><th scope=col>Source</th><th scope=col>Target</th><th scope=col>Cor</th><th scope=col>Weight</th><th scope=col>Sign</th></tr></thead>\n",
       "<tbody>\n",
       "\t<tr><th scope=row>261</th><td>95b523dacb244bb891da4c48923d8788</td><td>8e61d77c1f6555e76891ac27d58707c6</td><td> 0.6028116                      </td><td>0.6028116                       </td><td>Positive                        </td></tr>\n",
       "\t<tr><th scope=row>4035</th><td>8e61d77c1f6555e76891ac27d58707c6</td><td>95b523dacb244bb891da4c48923d8788</td><td> 0.6028116                      </td><td>0.6028116                       </td><td>Positive                        </td></tr>\n",
       "\t<tr><th scope=row>6343</th><td>0978d7032689ab3eeef2fc60e4490e11</td><td>f5ab8244460d1988b40f85a9347297c7</td><td> 0.6632213                      </td><td>0.6632213                       </td><td>Positive                        </td></tr>\n",
       "\t<tr><th scope=row>6353</th><td>cde00646e8aecf8aaac49a9bb9c96729</td><td>f5ab8244460d1988b40f85a9347297c7</td><td>-0.6170330                      </td><td>0.0000000                       </td><td>Negative                        </td></tr>\n",
       "\t<tr><th scope=row>6354</th><td>b6b05223adf86d071fd279f79dc2533c</td><td>f5ab8244460d1988b40f85a9347297c7</td><td> 0.6927975                      </td><td>0.6927975                       </td><td>Positive                        </td></tr>\n",
       "\t<tr><th scope=row>6356</th><td>9676d0bf5f8468ad67ed9525f3320aee</td><td>f5ab8244460d1988b40f85a9347297c7</td><td> 0.7786187                      </td><td>0.7786187                       </td><td>Positive                        </td></tr>\n",
       "\t<tr><th scope=row>6362</th><td>333fc718c6bccdbf0fd4e4f84d0dd38e</td><td>f5ab8244460d1988b40f85a9347297c7</td><td> 0.7192486                      </td><td>0.7192486                       </td><td>Positive                        </td></tr>\n",
       "\t<tr><th scope=row>6378</th><td>1c88ca8aa0ed62fb2fb8bebb8cb25670</td><td>f5ab8244460d1988b40f85a9347297c7</td><td> 0.6727880                      </td><td>0.6727880                       </td><td>Positive                        </td></tr>\n",
       "\t<tr><th scope=row>7897</th><td>f5ab8244460d1988b40f85a9347297c7</td><td>0978d7032689ab3eeef2fc60e4490e11</td><td> 0.6632213                      </td><td>0.6632213                       </td><td>Positive                        </td></tr>\n",
       "\t<tr><th scope=row>9017</th><td>f5ab8244460d1988b40f85a9347297c7</td><td>cde00646e8aecf8aaac49a9bb9c96729</td><td>-0.6170330                      </td><td>0.0000000                       </td><td>Negative                        </td></tr>\n",
       "\t<tr><th scope=row>9129</th><td>f5ab8244460d1988b40f85a9347297c7</td><td>b6b05223adf86d071fd279f79dc2533c</td><td> 0.6927975                      </td><td>0.6927975                       </td><td>Positive                        </td></tr>\n",
       "\t<tr><th scope=row>9156</th><td>9676d0bf5f8468ad67ed9525f3320aee</td><td>b6b05223adf86d071fd279f79dc2533c</td><td> 0.6460149                      </td><td>0.6460149                       </td><td>Positive                        </td></tr>\n",
       "\t<tr><th scope=row>9353</th><td>f5ab8244460d1988b40f85a9347297c7</td><td>9676d0bf5f8468ad67ed9525f3320aee</td><td> 0.7786187                      </td><td>0.7786187                       </td><td>Positive                        </td></tr>\n",
       "\t<tr><th scope=row>9378</th><td>b6b05223adf86d071fd279f79dc2533c</td><td>9676d0bf5f8468ad67ed9525f3320aee</td><td> 0.6460149                      </td><td>0.6460149                       </td><td>Positive                        </td></tr>\n",
       "\t<tr><th scope=row>9386</th><td>333fc718c6bccdbf0fd4e4f84d0dd38e</td><td>9676d0bf5f8468ad67ed9525f3320aee</td><td> 0.6399607                      </td><td>0.6399607                       </td><td>Positive                        </td></tr>\n",
       "\t<tr><th scope=row>10025</th><td>f5ab8244460d1988b40f85a9347297c7</td><td>333fc718c6bccdbf0fd4e4f84d0dd38e</td><td> 0.7192486                      </td><td>0.7192486                       </td><td>Positive                        </td></tr>\n",
       "\t<tr><th scope=row>10052</th><td>9676d0bf5f8468ad67ed9525f3320aee</td><td>333fc718c6bccdbf0fd4e4f84d0dd38e</td><td> 0.6399607                      </td><td>0.6399607                       </td><td>Positive                        </td></tr>\n",
       "\t<tr><th scope=row>10074</th><td>1c88ca8aa0ed62fb2fb8bebb8cb25670</td><td>333fc718c6bccdbf0fd4e4f84d0dd38e</td><td> 0.6288676                      </td><td>0.6288676                       </td><td>Positive                        </td></tr>\n",
       "\t<tr><th scope=row>10858</th><td>1c88ca8aa0ed62fb2fb8bebb8cb25670</td><td>62392dc20bb4fd6c46d3cb038b13cb9e</td><td> 0.6069013                      </td><td>0.6069013                       </td><td>Positive                        </td></tr>\n",
       "\t<tr><th scope=row>11817</th><td>f5ab8244460d1988b40f85a9347297c7</td><td>1c88ca8aa0ed62fb2fb8bebb8cb25670</td><td> 0.6727880                      </td><td>0.6727880                       </td><td>Positive                        </td></tr>\n",
       "\t<tr><th scope=row>11850</th><td>333fc718c6bccdbf0fd4e4f84d0dd38e</td><td>1c88ca8aa0ed62fb2fb8bebb8cb25670</td><td> 0.6288676                      </td><td>0.6288676                       </td><td>Positive                        </td></tr>\n",
       "\t<tr><th scope=row>11857</th><td>62392dc20bb4fd6c46d3cb038b13cb9e</td><td>1c88ca8aa0ed62fb2fb8bebb8cb25670</td><td> 0.6069013                      </td><td>0.6069013                       </td><td>Positive                        </td></tr>\n",
       "</tbody>\n",
       "</table>\n"
      ],
      "text/latex": [
       "\\begin{tabular}{r|lllll}\n",
       "  & Source & Target & Cor & Weight & Sign\\\\\n",
       "\\hline\n",
       "\t261 & 95b523dacb244bb891da4c48923d8788 & 8e61d77c1f6555e76891ac27d58707c6 &  0.6028116                       & 0.6028116                        & Positive                        \\\\\n",
       "\t4035 & 8e61d77c1f6555e76891ac27d58707c6 & 95b523dacb244bb891da4c48923d8788 &  0.6028116                       & 0.6028116                        & Positive                        \\\\\n",
       "\t6343 & 0978d7032689ab3eeef2fc60e4490e11 & f5ab8244460d1988b40f85a9347297c7 &  0.6632213                       & 0.6632213                        & Positive                        \\\\\n",
       "\t6353 & cde00646e8aecf8aaac49a9bb9c96729 & f5ab8244460d1988b40f85a9347297c7 & -0.6170330                       & 0.0000000                        & Negative                        \\\\\n",
       "\t6354 & b6b05223adf86d071fd279f79dc2533c & f5ab8244460d1988b40f85a9347297c7 &  0.6927975                       & 0.6927975                        & Positive                        \\\\\n",
       "\t6356 & 9676d0bf5f8468ad67ed9525f3320aee & f5ab8244460d1988b40f85a9347297c7 &  0.7786187                       & 0.7786187                        & Positive                        \\\\\n",
       "\t6362 & 333fc718c6bccdbf0fd4e4f84d0dd38e & f5ab8244460d1988b40f85a9347297c7 &  0.7192486                       & 0.7192486                        & Positive                        \\\\\n",
       "\t6378 & 1c88ca8aa0ed62fb2fb8bebb8cb25670 & f5ab8244460d1988b40f85a9347297c7 &  0.6727880                       & 0.6727880                        & Positive                        \\\\\n",
       "\t7897 & f5ab8244460d1988b40f85a9347297c7 & 0978d7032689ab3eeef2fc60e4490e11 &  0.6632213                       & 0.6632213                        & Positive                        \\\\\n",
       "\t9017 & f5ab8244460d1988b40f85a9347297c7 & cde00646e8aecf8aaac49a9bb9c96729 & -0.6170330                       & 0.0000000                        & Negative                        \\\\\n",
       "\t9129 & f5ab8244460d1988b40f85a9347297c7 & b6b05223adf86d071fd279f79dc2533c &  0.6927975                       & 0.6927975                        & Positive                        \\\\\n",
       "\t9156 & 9676d0bf5f8468ad67ed9525f3320aee & b6b05223adf86d071fd279f79dc2533c &  0.6460149                       & 0.6460149                        & Positive                        \\\\\n",
       "\t9353 & f5ab8244460d1988b40f85a9347297c7 & 9676d0bf5f8468ad67ed9525f3320aee &  0.7786187                       & 0.7786187                        & Positive                        \\\\\n",
       "\t9378 & b6b05223adf86d071fd279f79dc2533c & 9676d0bf5f8468ad67ed9525f3320aee &  0.6460149                       & 0.6460149                        & Positive                        \\\\\n",
       "\t9386 & 333fc718c6bccdbf0fd4e4f84d0dd38e & 9676d0bf5f8468ad67ed9525f3320aee &  0.6399607                       & 0.6399607                        & Positive                        \\\\\n",
       "\t10025 & f5ab8244460d1988b40f85a9347297c7 & 333fc718c6bccdbf0fd4e4f84d0dd38e &  0.7192486                       & 0.7192486                        & Positive                        \\\\\n",
       "\t10052 & 9676d0bf5f8468ad67ed9525f3320aee & 333fc718c6bccdbf0fd4e4f84d0dd38e &  0.6399607                       & 0.6399607                        & Positive                        \\\\\n",
       "\t10074 & 1c88ca8aa0ed62fb2fb8bebb8cb25670 & 333fc718c6bccdbf0fd4e4f84d0dd38e &  0.6288676                       & 0.6288676                        & Positive                        \\\\\n",
       "\t10858 & 1c88ca8aa0ed62fb2fb8bebb8cb25670 & 62392dc20bb4fd6c46d3cb038b13cb9e &  0.6069013                       & 0.6069013                        & Positive                        \\\\\n",
       "\t11817 & f5ab8244460d1988b40f85a9347297c7 & 1c88ca8aa0ed62fb2fb8bebb8cb25670 &  0.6727880                       & 0.6727880                        & Positive                        \\\\\n",
       "\t11850 & 333fc718c6bccdbf0fd4e4f84d0dd38e & 1c88ca8aa0ed62fb2fb8bebb8cb25670 &  0.6288676                       & 0.6288676                        & Positive                        \\\\\n",
       "\t11857 & 62392dc20bb4fd6c46d3cb038b13cb9e & 1c88ca8aa0ed62fb2fb8bebb8cb25670 &  0.6069013                       & 0.6069013                        & Positive                        \\\\\n",
       "\\end{tabular}\n"
      ],
      "text/markdown": [
       "\n",
       "| <!--/--> | Source | Target | Cor | Weight | Sign |\n",
       "|---|---|---|---|---|---|\n",
       "| 261 | 95b523dacb244bb891da4c48923d8788 | 8e61d77c1f6555e76891ac27d58707c6 |  0.6028116                       | 0.6028116                        | Positive                         |\n",
       "| 4035 | 8e61d77c1f6555e76891ac27d58707c6 | 95b523dacb244bb891da4c48923d8788 |  0.6028116                       | 0.6028116                        | Positive                         |\n",
       "| 6343 | 0978d7032689ab3eeef2fc60e4490e11 | f5ab8244460d1988b40f85a9347297c7 |  0.6632213                       | 0.6632213                        | Positive                         |\n",
       "| 6353 | cde00646e8aecf8aaac49a9bb9c96729 | f5ab8244460d1988b40f85a9347297c7 | -0.6170330                       | 0.0000000                        | Negative                         |\n",
       "| 6354 | b6b05223adf86d071fd279f79dc2533c | f5ab8244460d1988b40f85a9347297c7 |  0.6927975                       | 0.6927975                        | Positive                         |\n",
       "| 6356 | 9676d0bf5f8468ad67ed9525f3320aee | f5ab8244460d1988b40f85a9347297c7 |  0.7786187                       | 0.7786187                        | Positive                         |\n",
       "| 6362 | 333fc718c6bccdbf0fd4e4f84d0dd38e | f5ab8244460d1988b40f85a9347297c7 |  0.7192486                       | 0.7192486                        | Positive                         |\n",
       "| 6378 | 1c88ca8aa0ed62fb2fb8bebb8cb25670 | f5ab8244460d1988b40f85a9347297c7 |  0.6727880                       | 0.6727880                        | Positive                         |\n",
       "| 7897 | f5ab8244460d1988b40f85a9347297c7 | 0978d7032689ab3eeef2fc60e4490e11 |  0.6632213                       | 0.6632213                        | Positive                         |\n",
       "| 9017 | f5ab8244460d1988b40f85a9347297c7 | cde00646e8aecf8aaac49a9bb9c96729 | -0.6170330                       | 0.0000000                        | Negative                         |\n",
       "| 9129 | f5ab8244460d1988b40f85a9347297c7 | b6b05223adf86d071fd279f79dc2533c |  0.6927975                       | 0.6927975                        | Positive                         |\n",
       "| 9156 | 9676d0bf5f8468ad67ed9525f3320aee | b6b05223adf86d071fd279f79dc2533c |  0.6460149                       | 0.6460149                        | Positive                         |\n",
       "| 9353 | f5ab8244460d1988b40f85a9347297c7 | 9676d0bf5f8468ad67ed9525f3320aee |  0.7786187                       | 0.7786187                        | Positive                         |\n",
       "| 9378 | b6b05223adf86d071fd279f79dc2533c | 9676d0bf5f8468ad67ed9525f3320aee |  0.6460149                       | 0.6460149                        | Positive                         |\n",
       "| 9386 | 333fc718c6bccdbf0fd4e4f84d0dd38e | 9676d0bf5f8468ad67ed9525f3320aee |  0.6399607                       | 0.6399607                        | Positive                         |\n",
       "| 10025 | f5ab8244460d1988b40f85a9347297c7 | 333fc718c6bccdbf0fd4e4f84d0dd38e |  0.7192486                       | 0.7192486                        | Positive                         |\n",
       "| 10052 | 9676d0bf5f8468ad67ed9525f3320aee | 333fc718c6bccdbf0fd4e4f84d0dd38e |  0.6399607                       | 0.6399607                        | Positive                         |\n",
       "| 10074 | 1c88ca8aa0ed62fb2fb8bebb8cb25670 | 333fc718c6bccdbf0fd4e4f84d0dd38e |  0.6288676                       | 0.6288676                        | Positive                         |\n",
       "| 10858 | 1c88ca8aa0ed62fb2fb8bebb8cb25670 | 62392dc20bb4fd6c46d3cb038b13cb9e |  0.6069013                       | 0.6069013                        | Positive                         |\n",
       "| 11817 | f5ab8244460d1988b40f85a9347297c7 | 1c88ca8aa0ed62fb2fb8bebb8cb25670 |  0.6727880                       | 0.6727880                        | Positive                         |\n",
       "| 11850 | 333fc718c6bccdbf0fd4e4f84d0dd38e | 1c88ca8aa0ed62fb2fb8bebb8cb25670 |  0.6288676                       | 0.6288676                        | Positive                         |\n",
       "| 11857 | 62392dc20bb4fd6c46d3cb038b13cb9e | 1c88ca8aa0ed62fb2fb8bebb8cb25670 |  0.6069013                       | 0.6069013                        | Positive                         |\n",
       "\n"
      ],
      "text/plain": [
       "      Source                           Target                          \n",
       "261   95b523dacb244bb891da4c48923d8788 8e61d77c1f6555e76891ac27d58707c6\n",
       "4035  8e61d77c1f6555e76891ac27d58707c6 95b523dacb244bb891da4c48923d8788\n",
       "6343  0978d7032689ab3eeef2fc60e4490e11 f5ab8244460d1988b40f85a9347297c7\n",
       "6353  cde00646e8aecf8aaac49a9bb9c96729 f5ab8244460d1988b40f85a9347297c7\n",
       "6354  b6b05223adf86d071fd279f79dc2533c f5ab8244460d1988b40f85a9347297c7\n",
       "6356  9676d0bf5f8468ad67ed9525f3320aee f5ab8244460d1988b40f85a9347297c7\n",
       "6362  333fc718c6bccdbf0fd4e4f84d0dd38e f5ab8244460d1988b40f85a9347297c7\n",
       "6378  1c88ca8aa0ed62fb2fb8bebb8cb25670 f5ab8244460d1988b40f85a9347297c7\n",
       "7897  f5ab8244460d1988b40f85a9347297c7 0978d7032689ab3eeef2fc60e4490e11\n",
       "9017  f5ab8244460d1988b40f85a9347297c7 cde00646e8aecf8aaac49a9bb9c96729\n",
       "9129  f5ab8244460d1988b40f85a9347297c7 b6b05223adf86d071fd279f79dc2533c\n",
       "9156  9676d0bf5f8468ad67ed9525f3320aee b6b05223adf86d071fd279f79dc2533c\n",
       "9353  f5ab8244460d1988b40f85a9347297c7 9676d0bf5f8468ad67ed9525f3320aee\n",
       "9378  b6b05223adf86d071fd279f79dc2533c 9676d0bf5f8468ad67ed9525f3320aee\n",
       "9386  333fc718c6bccdbf0fd4e4f84d0dd38e 9676d0bf5f8468ad67ed9525f3320aee\n",
       "10025 f5ab8244460d1988b40f85a9347297c7 333fc718c6bccdbf0fd4e4f84d0dd38e\n",
       "10052 9676d0bf5f8468ad67ed9525f3320aee 333fc718c6bccdbf0fd4e4f84d0dd38e\n",
       "10074 1c88ca8aa0ed62fb2fb8bebb8cb25670 333fc718c6bccdbf0fd4e4f84d0dd38e\n",
       "10858 1c88ca8aa0ed62fb2fb8bebb8cb25670 62392dc20bb4fd6c46d3cb038b13cb9e\n",
       "11817 f5ab8244460d1988b40f85a9347297c7 1c88ca8aa0ed62fb2fb8bebb8cb25670\n",
       "11850 333fc718c6bccdbf0fd4e4f84d0dd38e 1c88ca8aa0ed62fb2fb8bebb8cb25670\n",
       "11857 62392dc20bb4fd6c46d3cb038b13cb9e 1c88ca8aa0ed62fb2fb8bebb8cb25670\n",
       "      Cor        Weight    Sign    \n",
       "261    0.6028116 0.6028116 Positive\n",
       "4035   0.6028116 0.6028116 Positive\n",
       "6343   0.6632213 0.6632213 Positive\n",
       "6353  -0.6170330 0.0000000 Negative\n",
       "6354   0.6927975 0.6927975 Positive\n",
       "6356   0.7786187 0.7786187 Positive\n",
       "6362   0.7192486 0.7192486 Positive\n",
       "6378   0.6727880 0.6727880 Positive\n",
       "7897   0.6632213 0.6632213 Positive\n",
       "9017  -0.6170330 0.0000000 Negative\n",
       "9129   0.6927975 0.6927975 Positive\n",
       "9156   0.6460149 0.6460149 Positive\n",
       "9353   0.7786187 0.7786187 Positive\n",
       "9378   0.6460149 0.6460149 Positive\n",
       "9386   0.6399607 0.6399607 Positive\n",
       "10025  0.7192486 0.7192486 Positive\n",
       "10052  0.6399607 0.6399607 Positive\n",
       "10074  0.6288676 0.6288676 Positive\n",
       "10858  0.6069013 0.6069013 Positive\n",
       "11817  0.6727880 0.6727880 Positive\n",
       "11850  0.6288676 0.6288676 Positive\n",
       "11857  0.6069013 0.6069013 Positive"
      ]
     },
     "metadata": {},
     "output_type": "display_data"
    }
   ],
   "source": [
    "colnames(net_df) <- c(\"Source\", \"Target\", \"Cor\")\n",
    "net_df$Weight <- ifelse(net_df$Cor > 0, net_df$Cor, 0)\n",
    "net_df$Sign <- ifelse(net_df$Cor > 0, \"Positive\", \"Negative\")\n",
    "net_df"
   ]
  },
  {
   "cell_type": "markdown",
   "metadata": {},
   "source": [
    "## SparCC<a class=\"anchor\" id=\"sparcc\"></a>\n",
    "SparCC is a correlation method which is using various compositional transformations and bootstrapping methods to give reliable correlations on compositional data. The original implemetation is in python, but it is included in the SPIEC-EASI R package."
   ]
  },
  {
   "cell_type": "code",
   "execution_count": 12,
   "metadata": {},
   "outputs": [
    {
     "name": "stderr",
     "output_type": "stream",
     "text": [
      "Registered S3 methods overwritten by 'huge':\n",
      "  method    from\n",
      "  plot.roc  pROC\n",
      "  print.roc pROC\n",
      "\n",
      "Attaching package: 'SpiecEasi'\n",
      "\n",
      "The following object is masked from 'package:MicEco':\n",
      "\n",
      "    clr\n",
      "\n"
     ]
    }
   ],
   "source": [
    "library(SpiecEasi)"
   ]
  },
  {
   "cell_type": "markdown",
   "metadata": {},
   "source": [
    "SparCC bootstraps (be patient..., it is best to use 1000 or 10000 bootstraps, but it takes too long for this example)"
   ]
  },
  {
   "cell_type": "code",
   "execution_count": 13,
   "metadata": {},
   "outputs": [],
   "source": [
    "sparcc_boot <- sparccboot(t(otu), R = 100)"
   ]
  },
  {
   "cell_type": "markdown",
   "metadata": {},
   "source": [
    "SparCC p-values"
   ]
  },
  {
   "cell_type": "code",
   "execution_count": 14,
   "metadata": {},
   "outputs": [],
   "source": [
    "sparcc_pval <- pval.sparccboot(sparcc_boot)"
   ]
  },
  {
   "cell_type": "markdown",
   "metadata": {},
   "source": [
    "Turn into a data.frame with taxa names"
   ]
  },
  {
   "cell_type": "code",
   "execution_count": 15,
   "metadata": {},
   "outputs": [],
   "source": [
    "# Correlation data.frame\n",
    "net <- matrix(NA, nrow(otu), nrow(otu))\n",
    "net[upper.tri(net, diag=FALSE)] <- sparcc_pval$cors\n",
    "rownames(net) <- colnames(net) <- rownames(otu)\n",
    "net_df <- as.data.frame.table(net)\n",
    "\n",
    "# P-value data.frame\n",
    "netp <- matrix(NA, nrow(otu), nrow(otu))\n",
    "netp[upper.tri(netp, diag=FALSE)] <- sparcc_pval$pval\n",
    "rownames(netp) <- colnames(netp) <- rownames(otu)\n",
    "netp_df <- as.data.frame.table(netp)\n",
    "\n",
    "# Combine\n",
    "sparcc_df <- merge(net_df, netp_df, by = c(\"Var1\", \"Var2\"))\n",
    "colnames(sparcc_df) <- c(\"Source\", \"Target\", \"Cor\", \"Pval\")\n",
    "\n",
    "# Remove redundant\n",
    "sparcc_df <- sparcc_df[!is.na(sparcc_df$Cor), ]"
   ]
  },
  {
   "cell_type": "markdown",
   "metadata": {},
   "source": [
    "Add adjusted p-values"
   ]
  },
  {
   "cell_type": "code",
   "execution_count": 16,
   "metadata": {},
   "outputs": [],
   "source": [
    "sparcc_df$Pval_adj <- p.adjust(sparcc_df$Pval, method = \"fdr\")"
   ]
  },
  {
   "cell_type": "markdown",
   "metadata": {},
   "source": [
    "Keep only significant"
   ]
  },
  {
   "cell_type": "code",
   "execution_count": 17,
   "metadata": {},
   "outputs": [],
   "source": [
    "sparcc_df <- sparcc_df[sparcc_df$Pval_adj <= 0.05, ]"
   ]
  },
  {
   "cell_type": "markdown",
   "metadata": {},
   "source": [
    "## SPIEC-EASI<a class=\"anchor\" id=\"speic\"></a>\n",
    "SPIEC-EASI is a method based on graphical model inference developed specifically for microbial sequence data. There are 3 steps in the SPIEC-EASI analysis: data transformation, graphical model inference, model selection.\n",
    "\n",
    "SPIEC-EASI might at first seem much more complicated than the other methods, but it has a big strength in that one does not have to choose an arbitrary correlation or p-value cut-off for determning inclusion of edges, SPIEC-EASI tries to estimate this for us automatically.\n",
    "\n",
    "### Data transformation\n",
    "Data are CLR-transformed, similar to what is done prior to calculating Proportionality.\n",
    "\n",
    "### Graphical model inference\n",
    "The graphical model can be inferred through either neighborhood selection (mb) or inverse covariance selection (glasso). Inverse covariance is in itself simple to estimate, but since we are usually having many more taxa than samples, we cannot infer inverse covariance through the usual calculations. We therefore use methods for sparse inverse covariance estimation, relying on the assumption that most covariances are small or zero. The amount of sparsity is controlled with a lambda parameter. Both the mb and the glasso methods estimate models over a range of lambda values, and we need a way to pick the final model to use.\n",
    "\n",
    "### Model selection\n",
    "SPIEC-EASI uses the (bounded) stars criterion for model selection, to choose the lambda parameter which produces the best graphical model.\n",
    "\n",
    "### In R:"
   ]
  },
  {
   "cell_type": "code",
   "execution_count": 18,
   "metadata": {},
   "outputs": [
    {
     "name": "stderr",
     "output_type": "stream",
     "text": [
      "Applying data transformations...\n",
      "Selecting model with pulsar using bstars...\n",
      "Fitting final estimate with glasso...\n",
      "done\n"
     ]
    }
   ],
   "source": [
    "se <- spiec.easi(phy_genus_pre, method='glasso', lambda.min.ratio=1e-3, nlambda=30,\n",
    "               sel.criterion='bstars', pulsar.select=TRUE, pulsar.params=list(rep.num=50, seed=42))"
   ]
  },
  {
   "cell_type": "code",
   "execution_count": 19,
   "metadata": {},
   "outputs": [],
   "source": [
    "# Get covariances and transform to correlations\n",
    "netc <- cov2cor(as.matrix(getOptCov(se)))\n",
    "rownames(netc) <- colnames(netc) <- taxa_names(phy_genus_pre)\n",
    "netc_df <- as.data.frame.table(netc)\n",
    "\n",
    "# Get chosen edges\n",
    "net <- as.matrix(getRefit(se))\n",
    "rownames(net) <- colnames(net) <- taxa_names(phy_genus_pre)\n",
    "net_df <- as.data.frame.table(net)\n",
    "\n",
    "# Combine\n",
    "se_df <- merge(netc_df, net_df, by = c(\"Var1\", \"Var2\"))\n",
    "colnames(se_df) <- c(\"Source\", \"Target\", \"Cor\", \"Selected\")"
   ]
  },
  {
   "cell_type": "markdown",
   "metadata": {},
   "source": [
    "Subset to only the chosen edges"
   ]
  },
  {
   "cell_type": "code",
   "execution_count": 20,
   "metadata": {},
   "outputs": [],
   "source": [
    "se_df <- se_df[se_df$Selected == 1, ]"
   ]
  },
  {
   "cell_type": "markdown",
   "metadata": {},
   "source": [
    "Note that since the covariances are penalized, they are much smaller than from the other methods, and not directly comparable. They can, however, still be used as weights when plotting the network."
   ]
  }
 ],
 "metadata": {
  "kernelspec": {
   "display_name": "R",
   "language": "R",
   "name": "ir"
  },
  "language_info": {
   "codemirror_mode": "r",
   "file_extension": ".r",
   "mimetype": "text/x-r-source",
   "name": "R",
   "pygments_lexer": "r",
   "version": "3.6.3"
  }
 },
 "nbformat": 4,
 "nbformat_minor": 2
}
