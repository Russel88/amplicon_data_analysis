{
 "cells": [
  {
   "cell_type": "markdown",
   "metadata": {},
   "source": [
    "# Microbial association networks\n",
    "With a large set of samples we can infer co-occurrence and co-exclusion patterns between taxa. The interpretation of these associations depends on the experimental design. Say we include oral and fecal samples from human subjects, then the associations would largely be dominated by the environmental preference of the taxa, and the network would likely have two clusters; an oral cluster and a fecal cluster. These networks are often created to infer microbial interactions, but to ensure that the patterns are driven by microbial interactions one would need: Small-scale samples, at a scale where we think the microbes could affect the abundance of the other microbes at that scale. And we would need either samples from similar environments or from many different environments, to ensure the associations are independent of environment.\n",
    "\n",
    "## Types of networks\n",
    "#### Correlation network\n",
    "Networks can be based on correlations where we calculate the correlation between each pair of taxa, independent of all the other taxa. These correlations are not affected by which taxa we include in the network, except that the p-value multiple correction is affected by the number of included taxa.\n",
    "\n",
    "Examples of correlation network methods:\n",
    "* Spearman on relative abundance\n",
    "* [Proportionality](https://journals.plos.org/ploscompbiol/article?id=10.1371/journal.pcbi.1004075)\n",
    "* [SparCC](https://journals.plos.org/ploscompbiol/article?id=10.1371/journal.pcbi.1002687)\n",
    "\n",
    "#### Inverse covariance network\n",
    "With inverse covariance we seek to remove indirect associations. Say that taxa A has a positive effect of taxa B, and taxa B has a positive effect on taxa C, but taxa A has no effect on taxa C, and vice versa. Taxa A and C would look to be associated, but this is an indirect effect, mediated by taxa B. Inverse covariance seeks to remove these, and all associations are therefore contingent on which taxa are included in the network\n",
    "\n",
    "Examples of inverse covariance methods:\n",
    "* [SPIEC-EASI with glasso](https://journals.plos.org/ploscompbiol/article?id=10.1371/journal.pcbi.1004226)\n",
    "\n",
    "\n",
    "## Contents\n",
    "* [Spearman](#spearman)\n",
    "* [Proportionality](#prop)\n",
    "* [SparCC](#sparcc)\n",
    "* [SPEIC-EASI with glasso](#spiec)\n",
    "\n",
    "## Data"
   ]
  },
  {
   "cell_type": "code",
   "execution_count": 1,
   "metadata": {},
   "outputs": [
    {
     "name": "stderr",
     "output_type": "stream",
     "text": [
      "DAtest version 2.7.15\n",
      "213 features grouped as 'Others' in the output\n"
     ]
    }
   ],
   "source": [
    "library(phyloseq)\n",
    "library(DAtest)\n",
    "load(\"../data/physeq.RData\")\n",
    "\n",
    "# Agglomorate to Genus level\n",
    "phy_genus <- tax_glom(phy, \"Genus\")\n",
    "\n",
    "# Only keep genera present in at least 10 samples\n",
    "phy_genus_pre <- preDA(phy_genus, min.samples = 10)\n",
    "\n",
    "# Extract count table:\n",
    "otu <- data.frame(otu_table(phy_genus_pre))"
   ]
  },
  {
   "cell_type": "markdown",
   "metadata": {},
   "source": [
    "## Spearman<a class=\"anchor\" id=\"spearman\"></a>\n",
    "The simplest network is to run spearman correlations on all pairs of taxa on relative abundances. "
   ]
  },
  {
   "cell_type": "markdown",
   "metadata": {},
   "source": [
    "Transform to relative abundances"
   ]
  },
  {
   "cell_type": "code",
   "execution_count": 2,
   "metadata": {},
   "outputs": [],
   "source": [
    "otu_rel <- apply(otu, 2, function(x) x/sum(x))"
   ]
  },
  {
   "cell_type": "markdown",
   "metadata": {},
   "source": [
    "Calculate correlations"
   ]
  },
  {
   "cell_type": "code",
   "execution_count": 3,
   "metadata": {},
   "outputs": [],
   "source": [
    "net <- cor(t(otu_rel), method = \"spearman\")"
   ]
  },
  {
   "cell_type": "markdown",
   "metadata": {},
   "source": [
    "Set redundant correlations to NA"
   ]
  },
  {
   "cell_type": "code",
   "execution_count": 4,
   "metadata": {},
   "outputs": [],
   "source": [
    "net[lower.tri(net)] <- NA"
   ]
  },
  {
   "cell_type": "markdown",
   "metadata": {},
   "source": [
    "Transform the correlation matrix to a data.frame:"
   ]
  },
  {
   "cell_type": "code",
   "execution_count": 5,
   "metadata": {},
   "outputs": [],
   "source": [
    "net_df <- as.data.frame.table(net)"
   ]
  },
  {
   "cell_type": "markdown",
   "metadata": {},
   "source": [
    "Remove correlations between similar taxa, and the redundant ones:"
   ]
  },
  {
   "cell_type": "code",
   "execution_count": 6,
   "metadata": {},
   "outputs": [],
   "source": [
    "net_df <- net_df[net_df$Var1 != net_df$Var2 & !is.na(net_df$Freq), ]"
   ]
  },
  {
   "cell_type": "markdown",
   "metadata": {},
   "source": [
    "Remove correlations below 0.3. (Usually this should be set at 0.6 or similar, but this example data has no strong correlations)"
   ]
  },
  {
   "cell_type": "code",
   "execution_count": 7,
   "metadata": {},
   "outputs": [],
   "source": [
    "net_df <- net_df[abs(net_df$Freq) > 0.3, ]"
   ]
  },
  {
   "cell_type": "markdown",
   "metadata": {},
   "source": [
    "This data.frame can then be used to plot the network in for example Gephi, CytoScape, or with ggnet2 in R"
   ]
  },
  {
   "cell_type": "code",
   "execution_count": 8,
   "metadata": {},
   "outputs": [
    {
     "data": {
      "text/html": [
       "<table>\n",
       "<thead><tr><th></th><th scope=col>Source</th><th scope=col>Target</th><th scope=col>Cor</th><th scope=col>Weight</th><th scope=col>Sign</th></tr></thead>\n",
       "<tbody>\n",
       "\t<tr><th scope=row>1622</th><td>ASV_20   </td><td>ASV_120  </td><td>0.3028239</td><td>0.3028239</td><td>Positive </td></tr>\n",
       "\t<tr><th scope=row>4482</th><td>ASV_344  </td><td>ASV_431  </td><td>0.3325956</td><td>0.3325956</td><td>Positive </td></tr>\n",
       "\t<tr><th scope=row>6086</th><td>ASV_101  </td><td>ASV_521  </td><td>0.3230301</td><td>0.3230301</td><td>Positive </td></tr>\n",
       "\t<tr><th scope=row>7705</th><td>ASV_92   </td><td>ASV_653  </td><td>0.3124427</td><td>0.3124427</td><td>Positive </td></tr>\n",
       "\t<tr><th scope=row>8248</th><td>ASV_120  </td><td>ASV_678  </td><td>0.3198945</td><td>0.3198945</td><td>Positive </td></tr>\n",
       "\t<tr><th scope=row>9650</th><td>ASV_691  </td><td>ASV_775  </td><td>0.3066593</td><td>0.3066593</td><td>Positive </td></tr>\n",
       "\t<tr><th scope=row>9734</th><td>ASV_124  </td><td>ASV_777  </td><td>0.3033164</td><td>0.3033164</td><td>Positive </td></tr>\n",
       "\t<tr><th scope=row>10128</th><td>ASV_22   </td><td>ASV_802  </td><td>0.3140431</td><td>0.3140431</td><td>Positive </td></tr>\n",
       "\t<tr><th scope=row>11515</th><td>ASV_467  </td><td>ASV_941  </td><td>0.3145360</td><td>0.3145360</td><td>Positive </td></tr>\n",
       "\t<tr><th scope=row>11806</th><td>ASV_672  </td><td>ASV_952  </td><td>0.3007031</td><td>0.3007031</td><td>Positive </td></tr>\n",
       "\t<tr><th scope=row>13690</th><td>ASV_626  </td><td>ASV_1103 </td><td>0.3108115</td><td>0.3108115</td><td>Positive </td></tr>\n",
       "\t<tr><th scope=row>15431</th><td>ASV_483  </td><td>ASV_1226 </td><td>0.3144590</td><td>0.3144590</td><td>Positive </td></tr>\n",
       "\t<tr><th scope=row>16003</th><td>ASV_777  </td><td>ASV_1252 </td><td>0.3000040</td><td>0.3000040</td><td>Positive </td></tr>\n",
       "\t<tr><th scope=row>16607</th><td>ASV_20   </td><td>ASV_1307 </td><td>0.3175703</td><td>0.3175703</td><td>Positive </td></tr>\n",
       "\t<tr><th scope=row>17289</th><td>ASV_62   </td><td>ASV_1373 </td><td>0.3590512</td><td>0.3590512</td><td>Positive </td></tr>\n",
       "\t<tr><th scope=row>17359</th><td>ASV_848  </td><td>ASV_1373 </td><td>0.3318028</td><td>0.3318028</td><td>Positive </td></tr>\n",
       "</tbody>\n",
       "</table>\n"
      ],
      "text/latex": [
       "\\begin{tabular}{r|lllll}\n",
       "  & Source & Target & Cor & Weight & Sign\\\\\n",
       "\\hline\n",
       "\t1622 & ASV\\_20   & ASV\\_120  & 0.3028239  & 0.3028239  & Positive  \\\\\n",
       "\t4482 & ASV\\_344  & ASV\\_431  & 0.3325956  & 0.3325956  & Positive  \\\\\n",
       "\t6086 & ASV\\_101  & ASV\\_521  & 0.3230301  & 0.3230301  & Positive  \\\\\n",
       "\t7705 & ASV\\_92   & ASV\\_653  & 0.3124427  & 0.3124427  & Positive  \\\\\n",
       "\t8248 & ASV\\_120  & ASV\\_678  & 0.3198945  & 0.3198945  & Positive  \\\\\n",
       "\t9650 & ASV\\_691  & ASV\\_775  & 0.3066593  & 0.3066593  & Positive  \\\\\n",
       "\t9734 & ASV\\_124  & ASV\\_777  & 0.3033164  & 0.3033164  & Positive  \\\\\n",
       "\t10128 & ASV\\_22   & ASV\\_802  & 0.3140431  & 0.3140431  & Positive  \\\\\n",
       "\t11515 & ASV\\_467  & ASV\\_941  & 0.3145360  & 0.3145360  & Positive  \\\\\n",
       "\t11806 & ASV\\_672  & ASV\\_952  & 0.3007031  & 0.3007031  & Positive  \\\\\n",
       "\t13690 & ASV\\_626  & ASV\\_1103 & 0.3108115  & 0.3108115  & Positive  \\\\\n",
       "\t15431 & ASV\\_483  & ASV\\_1226 & 0.3144590  & 0.3144590  & Positive  \\\\\n",
       "\t16003 & ASV\\_777  & ASV\\_1252 & 0.3000040  & 0.3000040  & Positive  \\\\\n",
       "\t16607 & ASV\\_20   & ASV\\_1307 & 0.3175703  & 0.3175703  & Positive  \\\\\n",
       "\t17289 & ASV\\_62   & ASV\\_1373 & 0.3590512  & 0.3590512  & Positive  \\\\\n",
       "\t17359 & ASV\\_848  & ASV\\_1373 & 0.3318028  & 0.3318028  & Positive  \\\\\n",
       "\\end{tabular}\n"
      ],
      "text/markdown": [
       "\n",
       "| <!--/--> | Source | Target | Cor | Weight | Sign |\n",
       "|---|---|---|---|---|---|\n",
       "| 1622 | ASV_20    | ASV_120   | 0.3028239 | 0.3028239 | Positive  |\n",
       "| 4482 | ASV_344   | ASV_431   | 0.3325956 | 0.3325956 | Positive  |\n",
       "| 6086 | ASV_101   | ASV_521   | 0.3230301 | 0.3230301 | Positive  |\n",
       "| 7705 | ASV_92    | ASV_653   | 0.3124427 | 0.3124427 | Positive  |\n",
       "| 8248 | ASV_120   | ASV_678   | 0.3198945 | 0.3198945 | Positive  |\n",
       "| 9650 | ASV_691   | ASV_775   | 0.3066593 | 0.3066593 | Positive  |\n",
       "| 9734 | ASV_124   | ASV_777   | 0.3033164 | 0.3033164 | Positive  |\n",
       "| 10128 | ASV_22    | ASV_802   | 0.3140431 | 0.3140431 | Positive  |\n",
       "| 11515 | ASV_467   | ASV_941   | 0.3145360 | 0.3145360 | Positive  |\n",
       "| 11806 | ASV_672   | ASV_952   | 0.3007031 | 0.3007031 | Positive  |\n",
       "| 13690 | ASV_626   | ASV_1103  | 0.3108115 | 0.3108115 | Positive  |\n",
       "| 15431 | ASV_483   | ASV_1226  | 0.3144590 | 0.3144590 | Positive  |\n",
       "| 16003 | ASV_777   | ASV_1252  | 0.3000040 | 0.3000040 | Positive  |\n",
       "| 16607 | ASV_20    | ASV_1307  | 0.3175703 | 0.3175703 | Positive  |\n",
       "| 17289 | ASV_62    | ASV_1373  | 0.3590512 | 0.3590512 | Positive  |\n",
       "| 17359 | ASV_848   | ASV_1373  | 0.3318028 | 0.3318028 | Positive  |\n",
       "\n"
      ],
      "text/plain": [
       "      Source  Target   Cor       Weight    Sign    \n",
       "1622  ASV_20  ASV_120  0.3028239 0.3028239 Positive\n",
       "4482  ASV_344 ASV_431  0.3325956 0.3325956 Positive\n",
       "6086  ASV_101 ASV_521  0.3230301 0.3230301 Positive\n",
       "7705  ASV_92  ASV_653  0.3124427 0.3124427 Positive\n",
       "8248  ASV_120 ASV_678  0.3198945 0.3198945 Positive\n",
       "9650  ASV_691 ASV_775  0.3066593 0.3066593 Positive\n",
       "9734  ASV_124 ASV_777  0.3033164 0.3033164 Positive\n",
       "10128 ASV_22  ASV_802  0.3140431 0.3140431 Positive\n",
       "11515 ASV_467 ASV_941  0.3145360 0.3145360 Positive\n",
       "11806 ASV_672 ASV_952  0.3007031 0.3007031 Positive\n",
       "13690 ASV_626 ASV_1103 0.3108115 0.3108115 Positive\n",
       "15431 ASV_483 ASV_1226 0.3144590 0.3144590 Positive\n",
       "16003 ASV_777 ASV_1252 0.3000040 0.3000040 Positive\n",
       "16607 ASV_20  ASV_1307 0.3175703 0.3175703 Positive\n",
       "17289 ASV_62  ASV_1373 0.3590512 0.3590512 Positive\n",
       "17359 ASV_848 ASV_1373 0.3318028 0.3318028 Positive"
      ]
     },
     "metadata": {},
     "output_type": "display_data"
    }
   ],
   "source": [
    "colnames(net_df) <- c(\"Source\", \"Target\", \"Cor\")\n",
    "net_df$Weight <- ifelse(net_df$Cor > 0, net_df$Cor, 0)\n",
    "net_df$Sign <- ifelse(net_df$Cor > 0, \"Positive\", \"Negative\")\n",
    "net_df"
   ]
  },
  {
   "cell_type": "markdown",
   "metadata": {},
   "source": [
    "The weight can be used for clustering algorithms, for example Force Atlas in Gephi. In Gephi, negative weights are not supported, so we set all negative correlations to zero (they have no influence on clustering)."
   ]
  },
  {
   "cell_type": "markdown",
   "metadata": {},
   "source": [
    "## Proportionality<a class=\"anchor\" id=\"prop\"></a>\n",
    "Proportionality is a correlation method specifically developed for compositional microbial data. It is included in the MicEco package and can be run directly on a phyloseq object:"
   ]
  },
  {
   "cell_type": "code",
   "execution_count": 9,
   "metadata": {},
   "outputs": [],
   "source": [
    "library(MicEco)\n",
    "net <- proportionality(phy_genus_pre)"
   ]
  },
  {
   "cell_type": "markdown",
   "metadata": {},
   "source": [
    "We can then run the same steps as for the Spearman correlation:"
   ]
  },
  {
   "cell_type": "code",
   "execution_count": 10,
   "metadata": {},
   "outputs": [],
   "source": [
    "net_df <- as.data.frame.table(net)\n",
    "net_df <- net_df[net_df$Var1 != net_df$Var2, ]\n",
    "net_df <- net_df[abs(net_df$Freq) > 0.3, ]"
   ]
  },
  {
   "cell_type": "markdown",
   "metadata": {},
   "source": [
    "As for the Spearman correaltion, you can choose to just set an arbitrary correlation cut-off for including correlations, for example 0.6. It is also possible to calculate p-values through permutations if this is prefered."
   ]
  },
  {
   "cell_type": "code",
   "execution_count": 11,
   "metadata": {},
   "outputs": [
    {
     "data": {
      "text/html": [
       "<table>\n",
       "<thead><tr><th></th><th scope=col>Source</th><th scope=col>Target</th><th scope=col>Cor</th><th scope=col>Weight</th><th scope=col>Sign</th></tr></thead>\n",
       "<tbody>\n",
       "\t<tr><th scope=row>303</th><td>ASV_430  </td><td>ASV_22   </td><td>0.3142544</td><td>0.3142544</td><td>Positive </td></tr>\n",
       "\t<tr><th scope=row>496</th><td>ASV_981  </td><td>ASV_24   </td><td>0.3035461</td><td>0.3035461</td><td>Positive </td></tr>\n",
       "\t<tr><th scope=row>1209</th><td>ASV_1373 </td><td>ASV_62   </td><td>0.3239744</td><td>0.3239744</td><td>Positive </td></tr>\n",
       "\t<tr><th scope=row>1396</th><td>ASV_521  </td><td>ASV_101  </td><td>0.3232395</td><td>0.3232395</td><td>Positive </td></tr>\n",
       "\t<tr><th scope=row>2215</th><td>ASV_626  </td><td>ASV_143  </td><td>0.3667985</td><td>0.3667985</td><td>Positive </td></tr>\n",
       "\t<tr><th scope=row>3544</th><td>ASV_431  </td><td>ASV_344  </td><td>0.3312334</td><td>0.3312334</td><td>Positive </td></tr>\n",
       "\t<tr><th scope=row>3825</th><td>ASV_516  </td><td>ASV_353  </td><td>0.4125093</td><td>0.4125093</td><td>Positive </td></tr>\n",
       "\t<tr><th scope=row>4323</th><td>ASV_22   </td><td>ASV_430  </td><td>0.3142544</td><td>0.3142544</td><td>Positive </td></tr>\n",
       "\t<tr><th scope=row>4482</th><td>ASV_344  </td><td>ASV_431  </td><td>0.3312334</td><td>0.3312334</td><td>Positive </td></tr>\n",
       "\t<tr><th scope=row>5353</th><td>ASV_952  </td><td>ASV_467  </td><td>0.3006734</td><td>0.3006734</td><td>Positive </td></tr>\n",
       "\t<tr><th scope=row>5969</th><td>ASV_353  </td><td>ASV_516  </td><td>0.4125093</td><td>0.4125093</td><td>Positive </td></tr>\n",
       "\t<tr><th scope=row>5998</th><td>ASV_653  </td><td>ASV_516  </td><td>0.3030857</td><td>0.3030857</td><td>Positive </td></tr>\n",
       "\t<tr><th scope=row>6086</th><td>ASV_101  </td><td>ASV_521  </td><td>0.3232395</td><td>0.3232395</td><td>Positive </td></tr>\n",
       "\t<tr><th scope=row>6694</th><td>ASV_848  </td><td>ASV_535  </td><td>0.3407589</td><td>0.3407589</td><td>Positive </td></tr>\n",
       "\t<tr><th scope=row>6702</th><td>ASV_950  </td><td>ASV_535  </td><td>0.3442057</td><td>0.3442057</td><td>Positive </td></tr>\n",
       "\t<tr><th scope=row>7219</th><td>ASV_685  </td><td>ASV_616  </td><td>0.3629121</td><td>0.3629121</td><td>Positive </td></tr>\n",
       "\t<tr><th scope=row>7307</th><td>ASV_143  </td><td>ASV_626  </td><td>0.3667985</td><td>0.3667985</td><td>Positive </td></tr>\n",
       "\t<tr><th scope=row>7740</th><td>ASV_516  </td><td>ASV_653  </td><td>0.3030857</td><td>0.3030857</td><td>Positive </td></tr>\n",
       "\t<tr><th scope=row>8559</th><td>ASV_616  </td><td>ASV_685  </td><td>0.3629121</td><td>0.3629121</td><td>Positive </td></tr>\n",
       "\t<tr><th scope=row>8875</th><td>ASV_1090 </td><td>ASV_702  </td><td>0.3390034</td><td>0.3390034</td><td>Positive </td></tr>\n",
       "\t<tr><th scope=row>9682</th><td>ASV_1072 </td><td>ASV_775  </td><td>0.3101569</td><td>0.3101569</td><td>Positive </td></tr>\n",
       "\t<tr><th scope=row>10580</th><td>ASV_535  </td><td>ASV_848  </td><td>0.3407589</td><td>0.3407589</td><td>Positive </td></tr>\n",
       "\t<tr><th scope=row>11605</th><td>ASV_1379 </td><td>ASV_941  </td><td>0.3057805</td><td>0.3057805</td><td>Positive </td></tr>\n",
       "\t<tr><th scope=row>11660</th><td>ASV_535  </td><td>ASV_950  </td><td>0.3442057</td><td>0.3442057</td><td>Positive </td></tr>\n",
       "\t<tr><th scope=row>11785</th><td>ASV_467  </td><td>ASV_952  </td><td>0.3006734</td><td>0.3006734</td><td>Positive </td></tr>\n",
       "\t<tr><th scope=row>12154</th><td>ASV_24   </td><td>ASV_981  </td><td>0.3035461</td><td>0.3035461</td><td>Positive </td></tr>\n",
       "\t<tr><th scope=row>12273</th><td>ASV_1304 </td><td>ASV_981  </td><td>0.3189079</td><td>0.3189079</td><td>Positive </td></tr>\n",
       "\t<tr><th scope=row>13032</th><td>ASV_775  </td><td>ASV_1072 </td><td>0.3101569</td><td>0.3101569</td><td>Positive </td></tr>\n",
       "\t<tr><th scope=row>13431</th><td>ASV_702  </td><td>ASV_1090 </td><td>0.3390034</td><td>0.3390034</td><td>Positive </td></tr>\n",
       "\t<tr><th scope=row>16561</th><td>ASV_981  </td><td>ASV_1304 </td><td>0.3189079</td><td>0.3189079</td><td>Positive </td></tr>\n",
       "\t<tr><th scope=row>17289</th><td>ASV_62   </td><td>ASV_1373 </td><td>0.3239744</td><td>0.3239744</td><td>Positive </td></tr>\n",
       "\t<tr><th scope=row>17501</th><td>ASV_941  </td><td>ASV_1379 </td><td>0.3057805</td><td>0.3057805</td><td>Positive </td></tr>\n",
       "</tbody>\n",
       "</table>\n"
      ],
      "text/latex": [
       "\\begin{tabular}{r|lllll}\n",
       "  & Source & Target & Cor & Weight & Sign\\\\\n",
       "\\hline\n",
       "\t303 & ASV\\_430  & ASV\\_22   & 0.3142544  & 0.3142544  & Positive  \\\\\n",
       "\t496 & ASV\\_981  & ASV\\_24   & 0.3035461  & 0.3035461  & Positive  \\\\\n",
       "\t1209 & ASV\\_1373 & ASV\\_62   & 0.3239744  & 0.3239744  & Positive  \\\\\n",
       "\t1396 & ASV\\_521  & ASV\\_101  & 0.3232395  & 0.3232395  & Positive  \\\\\n",
       "\t2215 & ASV\\_626  & ASV\\_143  & 0.3667985  & 0.3667985  & Positive  \\\\\n",
       "\t3544 & ASV\\_431  & ASV\\_344  & 0.3312334  & 0.3312334  & Positive  \\\\\n",
       "\t3825 & ASV\\_516  & ASV\\_353  & 0.4125093  & 0.4125093  & Positive  \\\\\n",
       "\t4323 & ASV\\_22   & ASV\\_430  & 0.3142544  & 0.3142544  & Positive  \\\\\n",
       "\t4482 & ASV\\_344  & ASV\\_431  & 0.3312334  & 0.3312334  & Positive  \\\\\n",
       "\t5353 & ASV\\_952  & ASV\\_467  & 0.3006734  & 0.3006734  & Positive  \\\\\n",
       "\t5969 & ASV\\_353  & ASV\\_516  & 0.4125093  & 0.4125093  & Positive  \\\\\n",
       "\t5998 & ASV\\_653  & ASV\\_516  & 0.3030857  & 0.3030857  & Positive  \\\\\n",
       "\t6086 & ASV\\_101  & ASV\\_521  & 0.3232395  & 0.3232395  & Positive  \\\\\n",
       "\t6694 & ASV\\_848  & ASV\\_535  & 0.3407589  & 0.3407589  & Positive  \\\\\n",
       "\t6702 & ASV\\_950  & ASV\\_535  & 0.3442057  & 0.3442057  & Positive  \\\\\n",
       "\t7219 & ASV\\_685  & ASV\\_616  & 0.3629121  & 0.3629121  & Positive  \\\\\n",
       "\t7307 & ASV\\_143  & ASV\\_626  & 0.3667985  & 0.3667985  & Positive  \\\\\n",
       "\t7740 & ASV\\_516  & ASV\\_653  & 0.3030857  & 0.3030857  & Positive  \\\\\n",
       "\t8559 & ASV\\_616  & ASV\\_685  & 0.3629121  & 0.3629121  & Positive  \\\\\n",
       "\t8875 & ASV\\_1090 & ASV\\_702  & 0.3390034  & 0.3390034  & Positive  \\\\\n",
       "\t9682 & ASV\\_1072 & ASV\\_775  & 0.3101569  & 0.3101569  & Positive  \\\\\n",
       "\t10580 & ASV\\_535  & ASV\\_848  & 0.3407589  & 0.3407589  & Positive  \\\\\n",
       "\t11605 & ASV\\_1379 & ASV\\_941  & 0.3057805  & 0.3057805  & Positive  \\\\\n",
       "\t11660 & ASV\\_535  & ASV\\_950  & 0.3442057  & 0.3442057  & Positive  \\\\\n",
       "\t11785 & ASV\\_467  & ASV\\_952  & 0.3006734  & 0.3006734  & Positive  \\\\\n",
       "\t12154 & ASV\\_24   & ASV\\_981  & 0.3035461  & 0.3035461  & Positive  \\\\\n",
       "\t12273 & ASV\\_1304 & ASV\\_981  & 0.3189079  & 0.3189079  & Positive  \\\\\n",
       "\t13032 & ASV\\_775  & ASV\\_1072 & 0.3101569  & 0.3101569  & Positive  \\\\\n",
       "\t13431 & ASV\\_702  & ASV\\_1090 & 0.3390034  & 0.3390034  & Positive  \\\\\n",
       "\t16561 & ASV\\_981  & ASV\\_1304 & 0.3189079  & 0.3189079  & Positive  \\\\\n",
       "\t17289 & ASV\\_62   & ASV\\_1373 & 0.3239744  & 0.3239744  & Positive  \\\\\n",
       "\t17501 & ASV\\_941  & ASV\\_1379 & 0.3057805  & 0.3057805  & Positive  \\\\\n",
       "\\end{tabular}\n"
      ],
      "text/markdown": [
       "\n",
       "| <!--/--> | Source | Target | Cor | Weight | Sign |\n",
       "|---|---|---|---|---|---|\n",
       "| 303 | ASV_430   | ASV_22    | 0.3142544 | 0.3142544 | Positive  |\n",
       "| 496 | ASV_981   | ASV_24    | 0.3035461 | 0.3035461 | Positive  |\n",
       "| 1209 | ASV_1373  | ASV_62    | 0.3239744 | 0.3239744 | Positive  |\n",
       "| 1396 | ASV_521   | ASV_101   | 0.3232395 | 0.3232395 | Positive  |\n",
       "| 2215 | ASV_626   | ASV_143   | 0.3667985 | 0.3667985 | Positive  |\n",
       "| 3544 | ASV_431   | ASV_344   | 0.3312334 | 0.3312334 | Positive  |\n",
       "| 3825 | ASV_516   | ASV_353   | 0.4125093 | 0.4125093 | Positive  |\n",
       "| 4323 | ASV_22    | ASV_430   | 0.3142544 | 0.3142544 | Positive  |\n",
       "| 4482 | ASV_344   | ASV_431   | 0.3312334 | 0.3312334 | Positive  |\n",
       "| 5353 | ASV_952   | ASV_467   | 0.3006734 | 0.3006734 | Positive  |\n",
       "| 5969 | ASV_353   | ASV_516   | 0.4125093 | 0.4125093 | Positive  |\n",
       "| 5998 | ASV_653   | ASV_516   | 0.3030857 | 0.3030857 | Positive  |\n",
       "| 6086 | ASV_101   | ASV_521   | 0.3232395 | 0.3232395 | Positive  |\n",
       "| 6694 | ASV_848   | ASV_535   | 0.3407589 | 0.3407589 | Positive  |\n",
       "| 6702 | ASV_950   | ASV_535   | 0.3442057 | 0.3442057 | Positive  |\n",
       "| 7219 | ASV_685   | ASV_616   | 0.3629121 | 0.3629121 | Positive  |\n",
       "| 7307 | ASV_143   | ASV_626   | 0.3667985 | 0.3667985 | Positive  |\n",
       "| 7740 | ASV_516   | ASV_653   | 0.3030857 | 0.3030857 | Positive  |\n",
       "| 8559 | ASV_616   | ASV_685   | 0.3629121 | 0.3629121 | Positive  |\n",
       "| 8875 | ASV_1090  | ASV_702   | 0.3390034 | 0.3390034 | Positive  |\n",
       "| 9682 | ASV_1072  | ASV_775   | 0.3101569 | 0.3101569 | Positive  |\n",
       "| 10580 | ASV_535   | ASV_848   | 0.3407589 | 0.3407589 | Positive  |\n",
       "| 11605 | ASV_1379  | ASV_941   | 0.3057805 | 0.3057805 | Positive  |\n",
       "| 11660 | ASV_535   | ASV_950   | 0.3442057 | 0.3442057 | Positive  |\n",
       "| 11785 | ASV_467   | ASV_952   | 0.3006734 | 0.3006734 | Positive  |\n",
       "| 12154 | ASV_24    | ASV_981   | 0.3035461 | 0.3035461 | Positive  |\n",
       "| 12273 | ASV_1304  | ASV_981   | 0.3189079 | 0.3189079 | Positive  |\n",
       "| 13032 | ASV_775   | ASV_1072  | 0.3101569 | 0.3101569 | Positive  |\n",
       "| 13431 | ASV_702   | ASV_1090  | 0.3390034 | 0.3390034 | Positive  |\n",
       "| 16561 | ASV_981   | ASV_1304  | 0.3189079 | 0.3189079 | Positive  |\n",
       "| 17289 | ASV_62    | ASV_1373  | 0.3239744 | 0.3239744 | Positive  |\n",
       "| 17501 | ASV_941   | ASV_1379  | 0.3057805 | 0.3057805 | Positive  |\n",
       "\n"
      ],
      "text/plain": [
       "      Source   Target   Cor       Weight    Sign    \n",
       "303   ASV_430  ASV_22   0.3142544 0.3142544 Positive\n",
       "496   ASV_981  ASV_24   0.3035461 0.3035461 Positive\n",
       "1209  ASV_1373 ASV_62   0.3239744 0.3239744 Positive\n",
       "1396  ASV_521  ASV_101  0.3232395 0.3232395 Positive\n",
       "2215  ASV_626  ASV_143  0.3667985 0.3667985 Positive\n",
       "3544  ASV_431  ASV_344  0.3312334 0.3312334 Positive\n",
       "3825  ASV_516  ASV_353  0.4125093 0.4125093 Positive\n",
       "4323  ASV_22   ASV_430  0.3142544 0.3142544 Positive\n",
       "4482  ASV_344  ASV_431  0.3312334 0.3312334 Positive\n",
       "5353  ASV_952  ASV_467  0.3006734 0.3006734 Positive\n",
       "5969  ASV_353  ASV_516  0.4125093 0.4125093 Positive\n",
       "5998  ASV_653  ASV_516  0.3030857 0.3030857 Positive\n",
       "6086  ASV_101  ASV_521  0.3232395 0.3232395 Positive\n",
       "6694  ASV_848  ASV_535  0.3407589 0.3407589 Positive\n",
       "6702  ASV_950  ASV_535  0.3442057 0.3442057 Positive\n",
       "7219  ASV_685  ASV_616  0.3629121 0.3629121 Positive\n",
       "7307  ASV_143  ASV_626  0.3667985 0.3667985 Positive\n",
       "7740  ASV_516  ASV_653  0.3030857 0.3030857 Positive\n",
       "8559  ASV_616  ASV_685  0.3629121 0.3629121 Positive\n",
       "8875  ASV_1090 ASV_702  0.3390034 0.3390034 Positive\n",
       "9682  ASV_1072 ASV_775  0.3101569 0.3101569 Positive\n",
       "10580 ASV_535  ASV_848  0.3407589 0.3407589 Positive\n",
       "11605 ASV_1379 ASV_941  0.3057805 0.3057805 Positive\n",
       "11660 ASV_535  ASV_950  0.3442057 0.3442057 Positive\n",
       "11785 ASV_467  ASV_952  0.3006734 0.3006734 Positive\n",
       "12154 ASV_24   ASV_981  0.3035461 0.3035461 Positive\n",
       "12273 ASV_1304 ASV_981  0.3189079 0.3189079 Positive\n",
       "13032 ASV_775  ASV_1072 0.3101569 0.3101569 Positive\n",
       "13431 ASV_702  ASV_1090 0.3390034 0.3390034 Positive\n",
       "16561 ASV_981  ASV_1304 0.3189079 0.3189079 Positive\n",
       "17289 ASV_62   ASV_1373 0.3239744 0.3239744 Positive\n",
       "17501 ASV_941  ASV_1379 0.3057805 0.3057805 Positive"
      ]
     },
     "metadata": {},
     "output_type": "display_data"
    }
   ],
   "source": [
    "colnames(net_df) <- c(\"Source\", \"Target\", \"Cor\")\n",
    "net_df$Weight <- ifelse(net_df$Cor > 0, net_df$Cor, 0)\n",
    "net_df$Sign <- ifelse(net_df$Cor > 0, \"Positive\", \"Negative\")\n",
    "net_df"
   ]
  },
  {
   "cell_type": "markdown",
   "metadata": {},
   "source": [
    "## SparCC<a class=\"anchor\" id=\"sparcc\"></a>\n",
    "SparCC is a correlation method which is using various compositional transformations and bootstrapping methods to give reliable correlations on compositional data. The original implemetation is in python, but it is included in the SPIEC-EASI R package."
   ]
  },
  {
   "cell_type": "code",
   "execution_count": 12,
   "metadata": {},
   "outputs": [
    {
     "name": "stderr",
     "output_type": "stream",
     "text": [
      "Registered S3 methods overwritten by 'huge':\n",
      "  method    from\n",
      "  plot.roc  pROC\n",
      "  print.roc pROC\n"
     ]
    }
   ],
   "source": [
    "library(SpiecEasi)"
   ]
  },
  {
   "cell_type": "markdown",
   "metadata": {},
   "source": [
    "SparCC bootstraps (be patient..., it is best to use 1000 or 10000 bootstraps, but it takes too long for this example)"
   ]
  },
  {
   "cell_type": "code",
   "execution_count": 13,
   "metadata": {},
   "outputs": [],
   "source": [
    "sparcc_boot <- sparccboot(t(otu), R = 100)"
   ]
  },
  {
   "cell_type": "markdown",
   "metadata": {},
   "source": [
    "SparCC p-values"
   ]
  },
  {
   "cell_type": "code",
   "execution_count": 14,
   "metadata": {},
   "outputs": [],
   "source": [
    "sparcc_pval <- pval.sparccboot(sparcc_boot)"
   ]
  },
  {
   "cell_type": "markdown",
   "metadata": {},
   "source": [
    "Turn into a data.frame with taxa names"
   ]
  },
  {
   "cell_type": "code",
   "execution_count": 15,
   "metadata": {},
   "outputs": [],
   "source": [
    "# Correlation data.frame\n",
    "net <- matrix(NA, nrow(otu), nrow(otu))\n",
    "net[upper.tri(net, diag=FALSE)] <- sparcc_pval$cors\n",
    "rownames(net) <- colnames(net) <- rownames(otu)\n",
    "net_df <- as.data.frame.table(net)\n",
    "\n",
    "# P-value data.frame\n",
    "netp <- matrix(NA, nrow(otu), nrow(otu))\n",
    "netp[upper.tri(netp, diag=FALSE)] <- sparcc_pval$pval\n",
    "rownames(netp) <- colnames(netp) <- rownames(otu)\n",
    "netp_df <- as.data.frame.table(netp)\n",
    "\n",
    "# Combine\n",
    "sparcc_df <- merge(net_df, netp_df, by = c(\"Var1\", \"Var2\"))\n",
    "colnames(sparcc_df) <- c(\"Source\", \"Target\", \"Cor\", \"Pval\")\n",
    "\n",
    "# Remove redundant\n",
    "sparcc_df <- sparcc_df[!is.na(sparcc_df$Cor), ]"
   ]
  },
  {
   "cell_type": "markdown",
   "metadata": {},
   "source": [
    "Add adjusted p-values"
   ]
  },
  {
   "cell_type": "code",
   "execution_count": 16,
   "metadata": {},
   "outputs": [],
   "source": [
    "sparcc_df$Pval_adj <- p.adjust(sparcc_df$Pval, method = \"fdr\")"
   ]
  },
  {
   "cell_type": "markdown",
   "metadata": {},
   "source": [
    "Keep only significant"
   ]
  },
  {
   "cell_type": "code",
   "execution_count": 17,
   "metadata": {},
   "outputs": [],
   "source": [
    "sparcc_df <- sparcc_df[sparcc_df$Pval_adj <= 0.05, ]"
   ]
  },
  {
   "cell_type": "markdown",
   "metadata": {},
   "source": [
    "## SPIEC-EASI<a class=\"anchor\" id=\"speic\"></a>\n",
    "SPIEC-EASI is a method based on graphical model inference developed specifically for microbial sequence data. There are 3 steps in the SPIEC-EASI analysis: data transformation, graphical model inference, model selection.\n",
    "\n",
    "SPIEC-EASI might at first seem much more complicated than the other methods, but it has a big strength in that one does not have to choose an arbitrary correlation or p-value cut-off for determning inclusion of edges, SPIEC-EASI tries to estimate this for us automatically.\n",
    "\n",
    "### Data transformation\n",
    "Data are CLR-transformed, similar to what is done prior to calculating Proportionality.\n",
    "\n",
    "### Graphical model inference\n",
    "The graphical model can be inferred through either neighborhood selection (mb) or inverse covariance selection (glasso). Inverse covariance is in itself simple to estimate, but since we are usually having many more taxa than samples, we cannot infer inverse covariance through the usual calculations. We therefore use methods for sparse inverse covariance estimation, relying on the assumption that most covariances are small or zero. The amount of sparsity is controlled with a lambda parameter. Both the mb and the glasso methods estimate models over a range of lambda values, and we need a way to pick the final model to use.\n",
    "\n",
    "### Model selection\n",
    "SPIEC-EASI uses the (bounded) stars criterion for model selection, to choose the lambda parameter which produces the best graphical model.\n",
    "\n",
    "### In R:"
   ]
  },
  {
   "cell_type": "code",
   "execution_count": 18,
   "metadata": {},
   "outputs": [
    {
     "name": "stderr",
     "output_type": "stream",
     "text": [
      "Applying data transformations...\n",
      "Selecting model with pulsar using bstars...\n",
      "Fitting final estimate with glasso...\n",
      "done\n"
     ]
    }
   ],
   "source": [
    "se <- spiec.easi(phy_genus_pre, method='glasso', lambda.min.ratio=1e-3, nlambda=30,\n",
    "               sel.criterion='bstars', pulsar.select=TRUE, pulsar.params=list(rep.num=50, seed=42))"
   ]
  },
  {
   "cell_type": "code",
   "execution_count": 19,
   "metadata": {},
   "outputs": [],
   "source": [
    "# Get covariances and transform to correlations\n",
    "netc <- cov2cor(as.matrix(getOptCov(se)))\n",
    "rownames(netc) <- colnames(netc) <- taxa_names(phy_genus_pre)\n",
    "netc_df <- as.data.frame.table(netc)\n",
    "\n",
    "# Get chosen edges\n",
    "net <- as.matrix(getRefit(se))\n",
    "rownames(net) <- colnames(net) <- taxa_names(phy_genus_pre)\n",
    "net_df <- as.data.frame.table(net)\n",
    "\n",
    "# Combine\n",
    "se_df <- merge(netc_df, net_df, by = c(\"Var1\", \"Var2\"))\n",
    "colnames(se_df) <- c(\"Source\", \"Target\", \"Cor\", \"Selected\")"
   ]
  },
  {
   "cell_type": "markdown",
   "metadata": {},
   "source": [
    "Subset to only the chosen edges"
   ]
  },
  {
   "cell_type": "code",
   "execution_count": 20,
   "metadata": {},
   "outputs": [],
   "source": [
    "se_df <- se_df[se_df$Selected == 1, ]"
   ]
  },
  {
   "cell_type": "markdown",
   "metadata": {},
   "source": [
    "Note that since the covariances are penalized, they are much smaller than from the other methods, and not directly comparable. They can, however, still be used as weights when plotting the network."
   ]
  }
 ],
 "metadata": {
  "kernelspec": {
   "display_name": "R",
   "language": "R",
   "name": "ir"
  },
  "language_info": {
   "codemirror_mode": "r",
   "file_extension": ".r",
   "mimetype": "text/x-r-source",
   "name": "R",
   "pygments_lexer": "r",
   "version": "3.6.3"
  }
 },
 "nbformat": 4,
 "nbformat_minor": 2
}
