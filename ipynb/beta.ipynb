{
 "cells": [
  {
   "cell_type": "markdown",
   "metadata": {},
   "source": [
    "# Beta diversity"
   ]
  },
  {
   "cell_type": "markdown",
   "metadata": {},
   "source": [
    "Beta diversity is the diversity **between** communities. Whereas alpha diversity is the *local* diversity, that is the diversity within a community, beta diversity is the diversity which differentiates communities. In microbiome science a community is almost a synonym with sample.\n",
    "\n",
    "The output from running a beta diversity analysis is matrix with dissimilarities/distances between samples, such that for each pair of samples we will have 1 value denoting how similar or dissimilar the two samples are.\n",
    "\n",
    "There are tons of different metrics for estimating beta diversity, and only a small subset (the most used) of the metrics will be presented here. \n",
    "\n",
    "The three metrics included in this notebook, can be seen as equivalent to the three metrics presented in the alpha diversity notebook:\n",
    "\n",
    "|**Alpha diversity**| |**Beta diversity**|**Similarities**\n",
    "|---|---|---|---|\n",
    "|Observed richness|equivalent to|Jaccard|Based on presence/absence of taxa|\n",
    "|Shannon diversity|equivalent to|Bray-curtis|Based on relative abundances of taxa|\n",
    "|Phylogenetic diversity|equivalent to|UniFrac|Uses the phylogenetic tree|"
   ]
  },
  {
   "cell_type": "code",
   "execution_count": 1,
   "metadata": {},
   "outputs": [],
   "source": [
    "# Load phyloseq object and phyloseq package\n",
    "library(phyloseq)\n",
    "load(\"../data/physeq.RData\")"
   ]
  },
  {
   "cell_type": "markdown",
   "metadata": {},
   "source": [
    "# Contents\n",
    "* [Jaccard](#jc)\n",
    "* [Bray-Curtis](#bc)\n",
    "* [UniFrac](#uf)\n",
    "* [Ordination](#ord)\n",
    "* [Clustering](#hc)\n",
    "* [PERMANOVA](#adonis)"
   ]
  },
  {
   "cell_type": "markdown",
   "metadata": {},
   "source": [
    "## Jaccard<a class=\"anchor\" id=\"jc\"></a>\n",
    "Jaccard dissimilarity is a simple dissimilarity metric, which is based solely on presence and absence of taxa:\n",
    "\n",
    "Jaccard similarity is the the number of taxa that are shared in the two samples, divided by the number of taxa found in either of the two samples. Jaccard dissimilarity is then 1 minus jaccard dissimilarity. Or more formally:\n",
    "\\begin{equation*}\n",
    "D_{jaccard} = 1 - \\frac {|A \\cap B|} {|A \\cup B|}\n",
    "\\end{equation*}\n",
    "where A and B are the sets of taxa in the samples.\n",
    "\n",
    "If the two samples have the exact same taxa, Jaccard dissimilarity will be 0. If the two samples do not share any taxa, Jaccard dissimilarity will be 1.\n",
    "\n",
    "Note that as Jaccard is based on presence/absence of taxa, it is sensitive to the sequencing depth of the samples. If sequencing depths vary alot it is advised to rarefy before using the Jaccard dissimilarity, or in other ways account for the bias created by varying sequencing depths.\n",
    "\n",
    "In R:"
   ]
  },
  {
   "cell_type": "code",
   "execution_count": 2,
   "metadata": {},
   "outputs": [],
   "source": [
    "jac <- distance(phy, method=\"binary\")"
   ]
  },
  {
   "cell_type": "markdown",
   "metadata": {},
   "source": [
    "Let's look at the first five samples:"
   ]
  },
  {
   "cell_type": "markdown",
   "metadata": {},
   "source": [
    "(the output is a dist object. It is easier to look at if we convert it to a matrix)"
   ]
  },
  {
   "cell_type": "code",
   "execution_count": 3,
   "metadata": {},
   "outputs": [
    {
     "data": {
      "text/html": [
       "<table>\n",
       "<thead><tr><th></th><th scope=col>S_027</th><th scope=col>S_028</th><th scope=col>S_031</th><th scope=col>S_034</th><th scope=col>S_036</th></tr></thead>\n",
       "<tbody>\n",
       "\t<tr><th scope=row>S_027</th><td>0.0000000</td><td>1.0000000</td><td>0.9871795</td><td>0.9864865</td><td>1.000000 </td></tr>\n",
       "\t<tr><th scope=row>S_028</th><td>1.0000000</td><td>0.0000000</td><td>0.9873418</td><td>0.9589041</td><td>1.000000 </td></tr>\n",
       "\t<tr><th scope=row>S_031</th><td>0.9871795</td><td>0.9873418</td><td>0.0000000</td><td>0.9859155</td><td>0.987013 </td></tr>\n",
       "\t<tr><th scope=row>S_034</th><td>0.9864865</td><td>0.9589041</td><td>0.9859155</td><td>0.0000000</td><td>1.000000 </td></tr>\n",
       "\t<tr><th scope=row>S_036</th><td>1.0000000</td><td>1.0000000</td><td>0.9870130</td><td>1.0000000</td><td>0.000000 </td></tr>\n",
       "</tbody>\n",
       "</table>\n"
      ],
      "text/latex": [
       "\\begin{tabular}{r|lllll}\n",
       "  & S\\_027 & S\\_028 & S\\_031 & S\\_034 & S\\_036\\\\\n",
       "\\hline\n",
       "\tS\\_027 & 0.0000000 & 1.0000000 & 0.9871795 & 0.9864865 & 1.000000 \\\\\n",
       "\tS\\_028 & 1.0000000 & 0.0000000 & 0.9873418 & 0.9589041 & 1.000000 \\\\\n",
       "\tS\\_031 & 0.9871795 & 0.9873418 & 0.0000000 & 0.9859155 & 0.987013 \\\\\n",
       "\tS\\_034 & 0.9864865 & 0.9589041 & 0.9859155 & 0.0000000 & 1.000000 \\\\\n",
       "\tS\\_036 & 1.0000000 & 1.0000000 & 0.9870130 & 1.0000000 & 0.000000 \\\\\n",
       "\\end{tabular}\n"
      ],
      "text/markdown": [
       "\n",
       "| <!--/--> | S_027 | S_028 | S_031 | S_034 | S_036 |\n",
       "|---|---|---|---|---|---|\n",
       "| S_027 | 0.0000000 | 1.0000000 | 0.9871795 | 0.9864865 | 1.000000  |\n",
       "| S_028 | 1.0000000 | 0.0000000 | 0.9873418 | 0.9589041 | 1.000000  |\n",
       "| S_031 | 0.9871795 | 0.9873418 | 0.0000000 | 0.9859155 | 0.987013  |\n",
       "| S_034 | 0.9864865 | 0.9589041 | 0.9859155 | 0.0000000 | 1.000000  |\n",
       "| S_036 | 1.0000000 | 1.0000000 | 0.9870130 | 1.0000000 | 0.000000  |\n",
       "\n"
      ],
      "text/plain": [
       "      S_027     S_028     S_031     S_034     S_036   \n",
       "S_027 0.0000000 1.0000000 0.9871795 0.9864865 1.000000\n",
       "S_028 1.0000000 0.0000000 0.9873418 0.9589041 1.000000\n",
       "S_031 0.9871795 0.9873418 0.0000000 0.9859155 0.987013\n",
       "S_034 0.9864865 0.9589041 0.9859155 0.0000000 1.000000\n",
       "S_036 1.0000000 1.0000000 0.9870130 1.0000000 0.000000"
      ]
     },
     "metadata": {},
     "output_type": "display_data"
    }
   ],
   "source": [
    "as.matrix(jac)[1:5, 1:5]"
   ]
  },
  {
   "cell_type": "markdown",
   "metadata": {},
   "source": [
    "As expected, the diagonals are 0, because it is the Jaccard dissimilarity for each sample with itself.\n",
    "The remaining are quite high, showing that few taxa are shared across these samples."
   ]
  },
  {
   "cell_type": "markdown",
   "metadata": {},
   "source": [
    "## Bray-Curtis<a class=\"anchor\" id=\"bc\"></a>\n",
    "Bray-Curtis is a commonly used dissimilarity metric, which is based on the shared relative abundance of taxa between the samples.\n",
    "\n",
    "It is calculated using the formula:\n",
    "\\begin{equation*}\n",
    "D_{bray-curtis} = 1 - \\frac {2*C_{ij}} {S_i + S_j}\n",
    "\\end{equation*}\n",
    "where Si is the number of taxa in sample i, Sj is the number of taxa in sample j. To calculate Cij, all the shared taxa are found, then for each shared taxa the lowest relative abundance is found, and Cij is the sum of these relative abundances. \n",
    "\n",
    "We can see that with Bray-Curtis two samples can have a high dissimilarity, even though they share most taxa, if the shared taxa have low relative abundance in any of the two samples.\n",
    "\n",
    "Conversely, two samples can have a low Bray-Curtis dissimilarity, even though they share few taxa, if these shared taxa have high relative abundance in both samples.\n",
    "\n",
    "Bray-Curtis is therefore less sensitive to noise and sequencing depth than Jaccard dissimilarity.\n",
    "\n",
    "\n",
    "In R:"
   ]
  },
  {
   "cell_type": "code",
   "execution_count": 4,
   "metadata": {},
   "outputs": [],
   "source": [
    "bc <- distance(phy, method=\"bray\")"
   ]
  },
  {
   "cell_type": "markdown",
   "metadata": {},
   "source": [
    "Let's look at the first five samples:"
   ]
  },
  {
   "cell_type": "code",
   "execution_count": 5,
   "metadata": {},
   "outputs": [
    {
     "data": {
      "text/html": [
       "<table>\n",
       "<thead><tr><th></th><th scope=col>S_027</th><th scope=col>S_028</th><th scope=col>S_031</th><th scope=col>S_034</th><th scope=col>S_036</th></tr></thead>\n",
       "<tbody>\n",
       "\t<tr><th scope=row>S_027</th><td>0.0000000</td><td>1.0000000</td><td>0.9995761</td><td>0.9993008</td><td>1.0000000</td></tr>\n",
       "\t<tr><th scope=row>S_028</th><td>1.0000000</td><td>0.0000000</td><td>0.9997336</td><td>0.9994667</td><td>1.0000000</td></tr>\n",
       "\t<tr><th scope=row>S_031</th><td>0.9995761</td><td>0.9997336</td><td>0.0000000</td><td>0.9983071</td><td>0.9999566</td></tr>\n",
       "\t<tr><th scope=row>S_034</th><td>0.9993008</td><td>0.9994667</td><td>0.9983071</td><td>0.0000000</td><td>1.0000000</td></tr>\n",
       "\t<tr><th scope=row>S_036</th><td>1.0000000</td><td>1.0000000</td><td>0.9999566</td><td>1.0000000</td><td>0.0000000</td></tr>\n",
       "</tbody>\n",
       "</table>\n"
      ],
      "text/latex": [
       "\\begin{tabular}{r|lllll}\n",
       "  & S\\_027 & S\\_028 & S\\_031 & S\\_034 & S\\_036\\\\\n",
       "\\hline\n",
       "\tS\\_027 & 0.0000000 & 1.0000000 & 0.9995761 & 0.9993008 & 1.0000000\\\\\n",
       "\tS\\_028 & 1.0000000 & 0.0000000 & 0.9997336 & 0.9994667 & 1.0000000\\\\\n",
       "\tS\\_031 & 0.9995761 & 0.9997336 & 0.0000000 & 0.9983071 & 0.9999566\\\\\n",
       "\tS\\_034 & 0.9993008 & 0.9994667 & 0.9983071 & 0.0000000 & 1.0000000\\\\\n",
       "\tS\\_036 & 1.0000000 & 1.0000000 & 0.9999566 & 1.0000000 & 0.0000000\\\\\n",
       "\\end{tabular}\n"
      ],
      "text/markdown": [
       "\n",
       "| <!--/--> | S_027 | S_028 | S_031 | S_034 | S_036 |\n",
       "|---|---|---|---|---|---|\n",
       "| S_027 | 0.0000000 | 1.0000000 | 0.9995761 | 0.9993008 | 1.0000000 |\n",
       "| S_028 | 1.0000000 | 0.0000000 | 0.9997336 | 0.9994667 | 1.0000000 |\n",
       "| S_031 | 0.9995761 | 0.9997336 | 0.0000000 | 0.9983071 | 0.9999566 |\n",
       "| S_034 | 0.9993008 | 0.9994667 | 0.9983071 | 0.0000000 | 1.0000000 |\n",
       "| S_036 | 1.0000000 | 1.0000000 | 0.9999566 | 1.0000000 | 0.0000000 |\n",
       "\n"
      ],
      "text/plain": [
       "      S_027     S_028     S_031     S_034     S_036    \n",
       "S_027 0.0000000 1.0000000 0.9995761 0.9993008 1.0000000\n",
       "S_028 1.0000000 0.0000000 0.9997336 0.9994667 1.0000000\n",
       "S_031 0.9995761 0.9997336 0.0000000 0.9983071 0.9999566\n",
       "S_034 0.9993008 0.9994667 0.9983071 0.0000000 1.0000000\n",
       "S_036 1.0000000 1.0000000 0.9999566 1.0000000 0.0000000"
      ]
     },
     "metadata": {},
     "output_type": "display_data"
    }
   ],
   "source": [
    "as.matrix(bc)[1:5, 1:5]"
   ]
  },
  {
   "cell_type": "markdown",
   "metadata": {},
   "source": [
    "## UniFrac<a class=\"anchor\" id=\"uf\"></a>\n",
    "UniFrac is popular dissimilarity metric, and it is based on the phylogenetic tree. There are two variants of UniFrac, an unweighted and a weighted version. The only difference between these is that the unweighted is based on presence/absence of taxa, and the weighted is incorporating the relative abundances of the taxa.\n",
    "\n",
    "UniFrac measures dissimilarity by finding the total branch length of all taxa that not shared in the two samples, this is divided by the total branch length in the phylogenetic tree: "
   ]
  },
  {
   "cell_type": "markdown",
   "metadata": {},
   "source": [
    "![UniFrac example](../img/uf.jpg)"
   ]
  },
  {
   "cell_type": "markdown",
   "metadata": {},
   "source": [
    "In the weighted UniFrac, the branch lenghts are weighted by the relative abundances of the taxa.\n",
    "\n",
    "With UniFrac, two samples can have a low dissimilarity even though no taxa are shared at all. But if the taxa in the two samples are closely related (close on the phylogenetic tree), the samples will be similar with the UniFrac.\n",
    "\n",
    "Note that with unweighted UniFrac outliers can have a large influence. For example, a single Archaeal taxa in a tree with mostly Bacteria, will have a long branch length and thereby a large influence on the UniFrac dissimilarity.\n",
    "\n",
    "Furthermore, UniFrac will change if the tree is rooted differently. Make sure the tree is correctly rooted before using the UniFrac dissimilarity."
   ]
  },
  {
   "cell_type": "markdown",
   "metadata": {},
   "source": [
    "In R:"
   ]
  },
  {
   "cell_type": "code",
   "execution_count": 6,
   "metadata": {},
   "outputs": [],
   "source": [
    "uf <- UniFrac(phy, weighted=FALSE)"
   ]
  },
  {
   "cell_type": "markdown",
   "metadata": {},
   "source": [
    "Let's look at the first five samples:"
   ]
  },
  {
   "cell_type": "code",
   "execution_count": 7,
   "metadata": {},
   "outputs": [
    {
     "data": {
      "text/html": [
       "<table>\n",
       "<thead><tr><th></th><th scope=col>S_027</th><th scope=col>S_028</th><th scope=col>S_031</th><th scope=col>S_034</th><th scope=col>S_036</th></tr></thead>\n",
       "<tbody>\n",
       "\t<tr><th scope=row>S_027</th><td>0.0000000</td><td>0.9546747</td><td>0.9303890</td><td>0.8777381</td><td>0.9336149</td></tr>\n",
       "\t<tr><th scope=row>S_028</th><td>0.9546747</td><td>0.0000000</td><td>0.9309235</td><td>0.9429186</td><td>0.9262885</td></tr>\n",
       "\t<tr><th scope=row>S_031</th><td>0.9303890</td><td>0.9309235</td><td>0.0000000</td><td>0.9259965</td><td>0.9425261</td></tr>\n",
       "\t<tr><th scope=row>S_034</th><td>0.8777381</td><td>0.9429186</td><td>0.9259965</td><td>0.0000000</td><td>0.9252860</td></tr>\n",
       "\t<tr><th scope=row>S_036</th><td>0.9336149</td><td>0.9262885</td><td>0.9425261</td><td>0.9252860</td><td>0.0000000</td></tr>\n",
       "</tbody>\n",
       "</table>\n"
      ],
      "text/latex": [
       "\\begin{tabular}{r|lllll}\n",
       "  & S\\_027 & S\\_028 & S\\_031 & S\\_034 & S\\_036\\\\\n",
       "\\hline\n",
       "\tS\\_027 & 0.0000000 & 0.9546747 & 0.9303890 & 0.8777381 & 0.9336149\\\\\n",
       "\tS\\_028 & 0.9546747 & 0.0000000 & 0.9309235 & 0.9429186 & 0.9262885\\\\\n",
       "\tS\\_031 & 0.9303890 & 0.9309235 & 0.0000000 & 0.9259965 & 0.9425261\\\\\n",
       "\tS\\_034 & 0.8777381 & 0.9429186 & 0.9259965 & 0.0000000 & 0.9252860\\\\\n",
       "\tS\\_036 & 0.9336149 & 0.9262885 & 0.9425261 & 0.9252860 & 0.0000000\\\\\n",
       "\\end{tabular}\n"
      ],
      "text/markdown": [
       "\n",
       "| <!--/--> | S_027 | S_028 | S_031 | S_034 | S_036 |\n",
       "|---|---|---|---|---|---|\n",
       "| S_027 | 0.0000000 | 0.9546747 | 0.9303890 | 0.8777381 | 0.9336149 |\n",
       "| S_028 | 0.9546747 | 0.0000000 | 0.9309235 | 0.9429186 | 0.9262885 |\n",
       "| S_031 | 0.9303890 | 0.9309235 | 0.0000000 | 0.9259965 | 0.9425261 |\n",
       "| S_034 | 0.8777381 | 0.9429186 | 0.9259965 | 0.0000000 | 0.9252860 |\n",
       "| S_036 | 0.9336149 | 0.9262885 | 0.9425261 | 0.9252860 | 0.0000000 |\n",
       "\n"
      ],
      "text/plain": [
       "      S_027     S_028     S_031     S_034     S_036    \n",
       "S_027 0.0000000 0.9546747 0.9303890 0.8777381 0.9336149\n",
       "S_028 0.9546747 0.0000000 0.9309235 0.9429186 0.9262885\n",
       "S_031 0.9303890 0.9309235 0.0000000 0.9259965 0.9425261\n",
       "S_034 0.8777381 0.9429186 0.9259965 0.0000000 0.9252860\n",
       "S_036 0.9336149 0.9262885 0.9425261 0.9252860 0.0000000"
      ]
     },
     "metadata": {},
     "output_type": "display_data"
    }
   ],
   "source": [
    "as.matrix(uf)[1:5, 1:5]"
   ]
  },
  {
   "cell_type": "markdown",
   "metadata": {},
   "source": [
    "And the weighted UniFrac:"
   ]
  },
  {
   "cell_type": "code",
   "execution_count": 8,
   "metadata": {},
   "outputs": [
    {
     "data": {
      "text/html": [
       "<table>\n",
       "<thead><tr><th></th><th scope=col>S_027</th><th scope=col>S_028</th><th scope=col>S_031</th><th scope=col>S_034</th><th scope=col>S_036</th></tr></thead>\n",
       "<tbody>\n",
       "\t<tr><th scope=row>S_027</th><td>0.0000000 </td><td>0.12221968</td><td>0.2269796 </td><td>0.18372918</td><td>0.17944620</td></tr>\n",
       "\t<tr><th scope=row>S_028</th><td>0.1222197 </td><td>0.00000000</td><td>0.1279469 </td><td>0.07498613</td><td>0.06774706</td></tr>\n",
       "\t<tr><th scope=row>S_031</th><td>0.2269796 </td><td>0.12794687</td><td>0.0000000 </td><td>0.18920615</td><td>0.18609225</td></tr>\n",
       "\t<tr><th scope=row>S_034</th><td>0.1837292 </td><td>0.07498613</td><td>0.1892062 </td><td>0.00000000</td><td>0.12576251</td></tr>\n",
       "\t<tr><th scope=row>S_036</th><td>0.1794462 </td><td>0.06774706</td><td>0.1860923 </td><td>0.12576251</td><td>0.00000000</td></tr>\n",
       "</tbody>\n",
       "</table>\n"
      ],
      "text/latex": [
       "\\begin{tabular}{r|lllll}\n",
       "  & S\\_027 & S\\_028 & S\\_031 & S\\_034 & S\\_036\\\\\n",
       "\\hline\n",
       "\tS\\_027 & 0.0000000  & 0.12221968 & 0.2269796  & 0.18372918 & 0.17944620\\\\\n",
       "\tS\\_028 & 0.1222197  & 0.00000000 & 0.1279469  & 0.07498613 & 0.06774706\\\\\n",
       "\tS\\_031 & 0.2269796  & 0.12794687 & 0.0000000  & 0.18920615 & 0.18609225\\\\\n",
       "\tS\\_034 & 0.1837292  & 0.07498613 & 0.1892062  & 0.00000000 & 0.12576251\\\\\n",
       "\tS\\_036 & 0.1794462  & 0.06774706 & 0.1860923  & 0.12576251 & 0.00000000\\\\\n",
       "\\end{tabular}\n"
      ],
      "text/markdown": [
       "\n",
       "| <!--/--> | S_027 | S_028 | S_031 | S_034 | S_036 |\n",
       "|---|---|---|---|---|---|\n",
       "| S_027 | 0.0000000  | 0.12221968 | 0.2269796  | 0.18372918 | 0.17944620 |\n",
       "| S_028 | 0.1222197  | 0.00000000 | 0.1279469  | 0.07498613 | 0.06774706 |\n",
       "| S_031 | 0.2269796  | 0.12794687 | 0.0000000  | 0.18920615 | 0.18609225 |\n",
       "| S_034 | 0.1837292  | 0.07498613 | 0.1892062  | 0.00000000 | 0.12576251 |\n",
       "| S_036 | 0.1794462  | 0.06774706 | 0.1860923  | 0.12576251 | 0.00000000 |\n",
       "\n"
      ],
      "text/plain": [
       "      S_027     S_028      S_031     S_034      S_036     \n",
       "S_027 0.0000000 0.12221968 0.2269796 0.18372918 0.17944620\n",
       "S_028 0.1222197 0.00000000 0.1279469 0.07498613 0.06774706\n",
       "S_031 0.2269796 0.12794687 0.0000000 0.18920615 0.18609225\n",
       "S_034 0.1837292 0.07498613 0.1892062 0.00000000 0.12576251\n",
       "S_036 0.1794462 0.06774706 0.1860923 0.12576251 0.00000000"
      ]
     },
     "metadata": {},
     "output_type": "display_data"
    }
   ],
   "source": [
    "wuf <- UniFrac(phy, weighted=TRUE)\n",
    "as.matrix(wuf)[1:5, 1:5]"
   ]
  },
  {
   "cell_type": "markdown",
   "metadata": {},
   "source": [
    "It is apparent that the weighted UniFrac dissimilarities are much lower than all the other beta diversity metrics. Even though few taxa are shared across the samples, the most abundant taxa in the samples are closely related, and the samples are therefore phylogenetically similar."
   ]
  },
  {
   "cell_type": "markdown",
   "metadata": {},
   "source": [
    "## Ordination<a class=\"anchor\" id=\"ord\"></a>\n",
    "The usual way to visualize beta diversity is through ordination plots. PCoA is the most common ordination used for dissimilarity matrices and is explained in detail in the Statistics 102 notebook."
   ]
  },
  {
   "cell_type": "markdown",
   "metadata": {},
   "source": [
    "In R:\n",
    "\n",
    "There is a convinient function which does the ordination and plotting for us. Here we ordinate the unweighted UniFrac matrix and color by Time. The ellipses highlight the time points."
   ]
  },
  {
   "cell_type": "code",
   "execution_count": 9,
   "metadata": {},
   "outputs": [
    {
     "data": {
      "image/png": "[encoded data removed]",
      "text/plain": [
       "plot without title"
      ]
     },
     "metadata": {},
     "output_type": "display_data"
    }
   ],
   "source": [
    "library(ggplot2)\n",
    "\n",
    "wuf_ord <- ordinate(phy, \"PCoA\", \"UniFrac\", weighted=FALSE)\n",
    "plot_ordination(phy, wuf_ord, type=\"samples\", color=\"Time\") +\n",
    "    stat_ellipse()"
   ]
  },
  {
   "cell_type": "markdown",
   "metadata": {},
   "source": [
    "# PERMANOVA<a class=\"anchor\" id=\"adonis\"></a>\n",
    "PERMANOVA is the most used method to test statistical hypothesis on beta diversities. See more details in the Statistics 102 notebook.\n",
    "\n",
    "In R:"
   ]
  },
  {
   "cell_type": "code",
   "execution_count": 11,
   "metadata": {},
   "outputs": [
    {
     "data": {
      "text/plain": [
       "\n",
       "Call:\n",
       "adonis(formula = jac ~ Time, data = data.frame(sample_data(phy))) \n",
       "\n",
       "Permutation: free\n",
       "Number of permutations: 999\n",
       "\n",
       "Terms added sequentially (first to last)\n",
       "\n",
       "           Df SumsOfSqs MeanSqs F.Model      R2 Pr(>F)    \n",
       "Time        2     1.111 0.55560  1.1483 0.01538  0.001 ***\n",
       "Residuals 147    71.124 0.48383         0.98462           \n",
       "Total     149    72.235                 1.00000           \n",
       "---\n",
       "Signif. codes:  0 '***' 0.001 '**' 0.01 '*' 0.05 '.' 0.1 ' ' 1"
      ]
     },
     "metadata": {},
     "output_type": "display_data"
    }
   ],
   "source": [
    "library(vegan)\n",
    "adonis(jac ~ Time, data = data.frame(sample_data(phy)))"
   ]
  }
 ],
 "metadata": {
  "kernelspec": {
   "display_name": "R",
   "language": "R",
   "name": "ir"
  },
  "language_info": {
   "codemirror_mode": "r",
   "file_extension": ".r",
   "mimetype": "text/x-r-source",
   "name": "R",
   "pygments_lexer": "r",
   "version": "3.6.3"
  }
 },
 "nbformat": 4,
 "nbformat_minor": 2
}
