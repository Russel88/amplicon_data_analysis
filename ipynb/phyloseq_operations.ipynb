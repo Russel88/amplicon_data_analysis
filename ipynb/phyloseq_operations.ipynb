{
 "cells": [
  {
   "cell_type": "markdown",
   "metadata": {},
   "source": [
    "# Phyloseq operations"
   ]
  },
  {
   "cell_type": "markdown",
   "metadata": {},
   "source": [
    "Phyloseq is a package made for organizing and working with microbiome data in R. With the phyloseq package we can have all our microbiome amplicon sequence data in a single R object. With functions from the phyloseq package, most common operations for preparing data for analysis is possible with few simple commands.\n",
    "\n",
    "This document is an overview on how phyloseq objects are organized and how they can be accessed and changed.\n",
    "\n",
    "The paper presenting phyloseq:\n",
    "https://journals.plos.org/plosone/article?id=10.1371/journal.pone.0061217\n",
    "\n",
    "A comprehensive documetation of the phyloseq package:\n",
    "https://joey711.github.io/phyloseq/"
   ]
  },
  {
   "cell_type": "markdown",
   "metadata": {},
   "source": [
    "# Contents\n",
    "* [Subset samples](#subdata)\n",
    "* [Prune samples](#prunedata)\n",
    "* [Subset taxa](#subtax)\n",
    "* [Prune taxa](#prunetax)\n",
    "* [Transform abundance](#trans)\n",
    "* [Tax agglomoration](#agg)\n",
    "* [Plot abundance](#plot)"
   ]
  },
  {
   "cell_type": "code",
   "execution_count": 2,
   "metadata": {},
   "outputs": [],
   "source": [
    "# Load package and phyloseq object\n",
    "library(phyloseq)\n",
    "load(\"physeq.RData\")"
   ]
  },
  {
   "cell_type": "markdown",
   "metadata": {},
   "source": [
    "# Subset samples<a class=\"anchor\" id=\"subdata\"></a>"
   ]
  },
  {
   "cell_type": "markdown",
   "metadata": {},
   "source": [
    "We can subset the the samples with the subset_samples function. We can subset based on any column in the sample_data:"
   ]
  },
  {
   "cell_type": "code",
   "execution_count": 3,
   "metadata": {},
   "outputs": [
    {
     "data": {
      "text/html": [
       "<ol class=list-inline>\n",
       "\t<li>'Patient'</li>\n",
       "\t<li>'Time'</li>\n",
       "\t<li>'Delivery'</li>\n",
       "</ol>\n"
      ],
      "text/latex": [
       "\\begin{enumerate*}\n",
       "\\item 'Patient'\n",
       "\\item 'Time'\n",
       "\\item 'Delivery'\n",
       "\\end{enumerate*}\n"
      ],
      "text/markdown": [
       "1. 'Patient'\n",
       "2. 'Time'\n",
       "3. 'Delivery'\n",
       "\n",
       "\n"
      ],
      "text/plain": [
       "[1] \"Patient\"  \"Time\"     \"Delivery\""
      ]
     },
     "metadata": {},
     "output_type": "display_data"
    }
   ],
   "source": [
    "sample_variables(phy)"
   ]
  },
  {
   "cell_type": "markdown",
   "metadata": {},
   "source": [
    "First argument to the subset_samples() function is the phyloseq object we want to subset.\n",
    "In the second argument we tell the function how to subset.\n",
    "Here we get the 1 week (1w) samples (always use two = signs)"
   ]
  },
  {
   "cell_type": "code",
   "execution_count": 4,
   "metadata": {},
   "outputs": [],
   "source": [
    "phy_1w <- subset_samples(phy, Time == \"1w\")"
   ]
  },
  {
   "cell_type": "markdown",
   "metadata": {},
   "source": [
    "Now we only have the 50 1 week samples in phy_1w"
   ]
  },
  {
   "cell_type": "code",
   "execution_count": 5,
   "metadata": {},
   "outputs": [
    {
     "data": {
      "text/plain": [
       "phyloseq-class experiment-level object\n",
       "otu_table()   OTU Table:         [ 1417 taxa and 50 samples ]\n",
       "sample_data() Sample Data:       [ 50 samples by 3 sample variables ]\n",
       "tax_table()   Taxonomy Table:    [ 1417 taxa by 7 taxonomic ranks ]\n",
       "phy_tree()    Phylogenetic Tree: [ 1417 tips and 1414 internal nodes ]\n",
       "refseq()      DNAStringSet:      [ 1417 reference sequences ]"
      ]
     },
     "metadata": {},
     "output_type": "display_data"
    }
   ],
   "source": [
    "phy_1w"
   ]
  },
  {
   "cell_type": "markdown",
   "metadata": {},
   "source": [
    "We can also subset both 1 week and 1 month samples:"
   ]
  },
  {
   "cell_type": "code",
   "execution_count": 6,
   "metadata": {},
   "outputs": [
    {
     "data": {
      "text/plain": [
       "phyloseq-class experiment-level object\n",
       "otu_table()   OTU Table:         [ 1417 taxa and 100 samples ]\n",
       "sample_data() Sample Data:       [ 100 samples by 3 sample variables ]\n",
       "tax_table()   Taxonomy Table:    [ 1417 taxa by 7 taxonomic ranks ]\n",
       "phy_tree()    Phylogenetic Tree: [ 1417 tips and 1414 internal nodes ]\n",
       "refseq()      DNAStringSet:      [ 1417 reference sequences ]"
      ]
     },
     "metadata": {},
     "output_type": "display_data"
    }
   ],
   "source": [
    "phy_1w1m <- subset_samples(phy, Time %in% c(\"1w\", \"1m\"))\n",
    "phy_1w1m"
   ]
  },
  {
   "cell_type": "markdown",
   "metadata": {},
   "source": [
    "We can also subset on different variables at the same time. Here we only take 1 week samples from children born by C-section:"
   ]
  },
  {
   "cell_type": "code",
   "execution_count": 7,
   "metadata": {},
   "outputs": [
    {
     "data": {
      "text/plain": [
       "phyloseq-class experiment-level object\n",
       "otu_table()   OTU Table:         [ 1417 taxa and 15 samples ]\n",
       "sample_data() Sample Data:       [ 15 samples by 3 sample variables ]\n",
       "tax_table()   Taxonomy Table:    [ 1417 taxa by 7 taxonomic ranks ]\n",
       "phy_tree()    Phylogenetic Tree: [ 1417 tips and 1414 internal nodes ]\n",
       "refseq()      DNAStringSet:      [ 1417 reference sequences ]"
      ]
     },
     "metadata": {},
     "output_type": "display_data"
    }
   ],
   "source": [
    "phy_1wS <- subset_samples(phy, Time == \"1w\" & Delivery == \"Sectio\")\n",
    "phy_1wS"
   ]
  },
  {
   "cell_type": "markdown",
   "metadata": {},
   "source": [
    "# Prune samples<a class=\"anchor\" id=\"prunedata\"></a>"
   ]
  },
  {
   "cell_type": "markdown",
   "metadata": {},
   "source": [
    "We can also subset samples based on how many reads each sample have. \n",
    "sample_sums(phy) outputs the number of reads for each sample. Here we subset samples that have more than 5000 reads, and we can see that 2 samples have been thrown away:"
   ]
  },
  {
   "cell_type": "code",
   "execution_count": 8,
   "metadata": {},
   "outputs": [
    {
     "data": {
      "text/plain": [
       "phyloseq-class experiment-level object\n",
       "otu_table()   OTU Table:         [ 1417 taxa and 148 samples ]\n",
       "sample_data() Sample Data:       [ 148 samples by 3 sample variables ]\n",
       "tax_table()   Taxonomy Table:    [ 1417 taxa by 7 taxonomic ranks ]\n",
       "phy_tree()    Phylogenetic Tree: [ 1417 tips and 1414 internal nodes ]\n",
       "refseq()      DNAStringSet:      [ 1417 reference sequences ]"
      ]
     },
     "metadata": {},
     "output_type": "display_data"
    }
   ],
   "source": [
    "phy_5k <- prune_samples(sample_sums(phy) > 5000, phy)\n",
    "phy_5k"
   ]
  },
  {
   "cell_type": "markdown",
   "metadata": {},
   "source": [
    "# Subset taxa<a class=\"anchor\" id=\"subtax\"></a>"
   ]
  },
  {
   "cell_type": "markdown",
   "metadata": {},
   "source": [
    "In the same way as we can subset samples, we can also subset taxa. E.g. only Firmicutes:"
   ]
  },
  {
   "cell_type": "code",
   "execution_count": 9,
   "metadata": {},
   "outputs": [],
   "source": [
    "phy_1wfirms <- subset_taxa(phy_1w, Phylum == \"Firmicutes\")"
   ]
  },
  {
   "cell_type": "markdown",
   "metadata": {},
   "source": [
    "We can subset based on all the different taxonomic ranks:"
   ]
  },
  {
   "cell_type": "code",
   "execution_count": 10,
   "metadata": {},
   "outputs": [
    {
     "data": {
      "text/html": [
       "<ol class=list-inline>\n",
       "\t<li>'Kingdom'</li>\n",
       "\t<li>'Phylum'</li>\n",
       "\t<li>'Class'</li>\n",
       "\t<li>'Order'</li>\n",
       "\t<li>'Family'</li>\n",
       "\t<li>'Genus'</li>\n",
       "\t<li>'asv_hash'</li>\n",
       "</ol>\n"
      ],
      "text/latex": [
       "\\begin{enumerate*}\n",
       "\\item 'Kingdom'\n",
       "\\item 'Phylum'\n",
       "\\item 'Class'\n",
       "\\item 'Order'\n",
       "\\item 'Family'\n",
       "\\item 'Genus'\n",
       "\\item 'asv\\_hash'\n",
       "\\end{enumerate*}\n"
      ],
      "text/markdown": [
       "1. 'Kingdom'\n",
       "2. 'Phylum'\n",
       "3. 'Class'\n",
       "4. 'Order'\n",
       "5. 'Family'\n",
       "6. 'Genus'\n",
       "7. 'asv_hash'\n",
       "\n",
       "\n"
      ],
      "text/plain": [
       "[1] \"Kingdom\"  \"Phylum\"   \"Class\"    \"Order\"    \"Family\"   \"Genus\"    \"asv_hash\""
      ]
     },
     "metadata": {},
     "output_type": "display_data"
    }
   ],
   "source": [
    "rank_names(phy)"
   ]
  },
  {
   "cell_type": "markdown",
   "metadata": {},
   "source": [
    "Notice that we ran the above command on the phy_1w object that we created earlier.\n",
    "Now we only have 1 week samples and only Firmicutes ASVs.\n",
    "We can chain together all the different subsetting commands together to get exactly the subset of samples and taxa we want."
   ]
  },
  {
   "cell_type": "markdown",
   "metadata": {},
   "source": [
    "# Prune taxa<a class=\"anchor\" id=\"prunetax\"></a>"
   ]
  },
  {
   "cell_type": "markdown",
   "metadata": {},
   "source": [
    "We can also prune taxa by how abundant they are.\n",
    "A convenient function to do this is preDA from the DAtest package.\n",
    "Load the package first:"
   ]
  },
  {
   "cell_type": "code",
   "execution_count": 12,
   "metadata": {},
   "outputs": [],
   "source": [
    "library(DAtest)"
   ]
  },
  {
   "cell_type": "markdown",
   "metadata": {},
   "source": [
    "We can filter low abundant taxa based on three criteria:\n",
    "* They should be present in a minimum amount of samples (min.samples)\n",
    "* They should have a minimum amount of reads (min.reads)\n",
    "* They should have a minimum average relative abundance (min.abundance)\n",
    "\n",
    "You don't have to use all three criteria.\n",
    "The filtered taxa are grouped in a new taxa called \"Others\".\n",
    "\n",
    "Below we only want taxa that are:\n",
    "* at least present in 5 samples\n",
    "* at least have a total of 10 reads"
   ]
  },
  {
   "cell_type": "code",
   "execution_count": 13,
   "metadata": {},
   "outputs": [
    {
     "name": "stderr",
     "output_type": "stream",
     "text": [
      "669 features grouped as 'Others' in the output\n"
     ]
    },
    {
     "data": {
      "text/plain": [
       "phyloseq-class experiment-level object\n",
       "otu_table()   OTU Table:         [ 749 taxa and 150 samples ]\n",
       "sample_data() Sample Data:       [ 150 samples by 3 sample variables ]\n",
       "tax_table()   Taxonomy Table:    [ 749 taxa by 7 taxonomic ranks ]"
      ]
     },
     "metadata": {},
     "output_type": "display_data"
    }
   ],
   "source": [
    "phy_abund <- preDA(phy, min.samples = 5, min.reads = 10)\n",
    "phy_abund"
   ]
  },
  {
   "cell_type": "markdown",
   "metadata": {},
   "source": [
    "**Note on pruning taxa:** There are, unfortunately, no standards on how to set the thresholds when pruning low abundant ASVs. It is usually done before differential abundance analyses to lower the number of features tested. The thresholds depends on the dataset and the hypotheses you want to test. Pruning low abundant taxa is usually not done prior to alpha or beta-diversity analyses."
   ]
  },
  {
   "cell_type": "markdown",
   "metadata": {},
   "source": [
    "# Transform abundance<a class=\"anchor\" id=\"trans\"></a>"
   ]
  },
  {
   "cell_type": "markdown",
   "metadata": {},
   "source": [
    "Amplicon data is relative data\n",
    "\n",
    "Most of the time, we therefore want to transform the raw read counts.\n",
    "We can transform abundances with transform_sample_counts().\n",
    "We have to give it a function which tells it how to transform the abundance for each sample.\n",
    "The most simple way to do this is relative abundance (everything sums to one):"
   ]
  },
  {
   "cell_type": "code",
   "execution_count": 14,
   "metadata": {},
   "outputs": [],
   "source": [
    "phy_rel <- transform_sample_counts(phy, function(x) x/sum(x))"
   ]
  },
  {
   "cell_type": "markdown",
   "metadata": {},
   "source": [
    "Let's look at the first 5 ASVs and 10 first samples. Now the otu_table contains relative abundances:"
   ]
  },
  {
   "cell_type": "code",
   "execution_count": 15,
   "metadata": {},
   "outputs": [
    {
     "data": {
      "text/html": [
       "<table>\n",
       "<thead><tr><th></th><th scope=col>S_027</th><th scope=col>S_028</th><th scope=col>S_031</th><th scope=col>S_034</th><th scope=col>S_036</th><th scope=col>S_038</th><th scope=col>S_039</th><th scope=col>S_040</th><th scope=col>S_041</th><th scope=col>S_042</th></tr></thead>\n",
       "<tbody>\n",
       "\t<tr><th scope=row>ASV_1</th><td>0           </td><td>0           </td><td>0           </td><td>0           </td><td>0.0000000000</td><td>0.00000000  </td><td>0.0005035247</td><td>0           </td><td>0           </td><td>0           </td></tr>\n",
       "\t<tr><th scope=row>ASV_2</th><td>0           </td><td>0           </td><td>0           </td><td>0           </td><td>0.0000000000</td><td>0.00000000  </td><td>0.0000000000</td><td>0           </td><td>0           </td><td>0           </td></tr>\n",
       "\t<tr><th scope=row>ASV_3</th><td>0           </td><td>0           </td><td>0           </td><td>0           </td><td>0.0000000000</td><td>0.00000000  </td><td>0.0000000000</td><td>0           </td><td>0           </td><td>0           </td></tr>\n",
       "\t<tr><th scope=row>ASV_4</th><td>0           </td><td>0           </td><td>0           </td><td>0           </td><td>0.0001887077</td><td>0.01348046  </td><td>0.0000000000</td><td>0           </td><td>0           </td><td>0           </td></tr>\n",
       "\t<tr><th scope=row>ASV_5</th><td>0           </td><td>0           </td><td>0           </td><td>0           </td><td>0.0000000000</td><td>0.00000000  </td><td>0.0000000000</td><td>0           </td><td>0           </td><td>0           </td></tr>\n",
       "</tbody>\n",
       "</table>\n"
      ],
      "text/latex": [
       "\\begin{tabular}{r|llllllllll}\n",
       "  & S\\_027 & S\\_028 & S\\_031 & S\\_034 & S\\_036 & S\\_038 & S\\_039 & S\\_040 & S\\_041 & S\\_042\\\\\n",
       "\\hline\n",
       "\tASV\\_1 & 0            & 0            & 0            & 0            & 0.0000000000 & 0.00000000   & 0.0005035247 & 0            & 0            & 0           \\\\\n",
       "\tASV\\_2 & 0            & 0            & 0            & 0            & 0.0000000000 & 0.00000000   & 0.0000000000 & 0            & 0            & 0           \\\\\n",
       "\tASV\\_3 & 0            & 0            & 0            & 0            & 0.0000000000 & 0.00000000   & 0.0000000000 & 0            & 0            & 0           \\\\\n",
       "\tASV\\_4 & 0            & 0            & 0            & 0            & 0.0001887077 & 0.01348046   & 0.0000000000 & 0            & 0            & 0           \\\\\n",
       "\tASV\\_5 & 0            & 0            & 0            & 0            & 0.0000000000 & 0.00000000   & 0.0000000000 & 0            & 0            & 0           \\\\\n",
       "\\end{tabular}\n"
      ],
      "text/markdown": [
       "\n",
       "| <!--/--> | S_027 | S_028 | S_031 | S_034 | S_036 | S_038 | S_039 | S_040 | S_041 | S_042 |\n",
       "|---|---|---|---|---|---|---|---|---|---|---|\n",
       "| ASV_1 | 0            | 0            | 0            | 0            | 0.0000000000 | 0.00000000   | 0.0005035247 | 0            | 0            | 0            |\n",
       "| ASV_2 | 0            | 0            | 0            | 0            | 0.0000000000 | 0.00000000   | 0.0000000000 | 0            | 0            | 0            |\n",
       "| ASV_3 | 0            | 0            | 0            | 0            | 0.0000000000 | 0.00000000   | 0.0000000000 | 0            | 0            | 0            |\n",
       "| ASV_4 | 0            | 0            | 0            | 0            | 0.0001887077 | 0.01348046   | 0.0000000000 | 0            | 0            | 0            |\n",
       "| ASV_5 | 0            | 0            | 0            | 0            | 0.0000000000 | 0.00000000   | 0.0000000000 | 0            | 0            | 0            |\n",
       "\n"
      ],
      "text/plain": [
       "      S_027 S_028 S_031 S_034 S_036        S_038      S_039        S_040 S_041\n",
       "ASV_1 0     0     0     0     0.0000000000 0.00000000 0.0005035247 0     0    \n",
       "ASV_2 0     0     0     0     0.0000000000 0.00000000 0.0000000000 0     0    \n",
       "ASV_3 0     0     0     0     0.0000000000 0.00000000 0.0000000000 0     0    \n",
       "ASV_4 0     0     0     0     0.0001887077 0.01348046 0.0000000000 0     0    \n",
       "ASV_5 0     0     0     0     0.0000000000 0.00000000 0.0000000000 0     0    \n",
       "      S_042\n",
       "ASV_1 0    \n",
       "ASV_2 0    \n",
       "ASV_3 0    \n",
       "ASV_4 0    \n",
       "ASV_5 0    "
      ]
     },
     "metadata": {},
     "output_type": "display_data"
    }
   ],
   "source": [
    "otu_table(phy_rel)[1:5, 1:10]"
   ]
  },
  {
   "cell_type": "markdown",
   "metadata": {},
   "source": [
    "and the sum for each sample is 1 (100%):"
   ]
  },
  {
   "cell_type": "code",
   "execution_count": 16,
   "metadata": {},
   "outputs": [
    {
     "data": {
      "text/html": [
       "<dl class=dl-horizontal>\n",
       "\t<dt>S_027</dt>\n",
       "\t\t<dd>1</dd>\n",
       "\t<dt>S_028</dt>\n",
       "\t\t<dd>1</dd>\n",
       "\t<dt>S_031</dt>\n",
       "\t\t<dd>1</dd>\n",
       "\t<dt>S_034</dt>\n",
       "\t\t<dd>1</dd>\n",
       "\t<dt>S_036</dt>\n",
       "\t\t<dd>1</dd>\n",
       "\t<dt>S_038</dt>\n",
       "\t\t<dd>1</dd>\n",
       "\t<dt>S_039</dt>\n",
       "\t\t<dd>1</dd>\n",
       "\t<dt>S_040</dt>\n",
       "\t\t<dd>1</dd>\n",
       "\t<dt>S_041</dt>\n",
       "\t\t<dd>1</dd>\n",
       "\t<dt>S_042</dt>\n",
       "\t\t<dd>1</dd>\n",
       "\t<dt>S_043</dt>\n",
       "\t\t<dd>1</dd>\n",
       "\t<dt>S_045</dt>\n",
       "\t\t<dd>1</dd>\n",
       "\t<dt>S_046</dt>\n",
       "\t\t<dd>1</dd>\n",
       "\t<dt>S_047</dt>\n",
       "\t\t<dd>1</dd>\n",
       "\t<dt>S_050</dt>\n",
       "\t\t<dd>1</dd>\n",
       "\t<dt>S_051</dt>\n",
       "\t\t<dd>1</dd>\n",
       "\t<dt>S_052</dt>\n",
       "\t\t<dd>1</dd>\n",
       "\t<dt>S_053</dt>\n",
       "\t\t<dd>1</dd>\n",
       "\t<dt>S_054</dt>\n",
       "\t\t<dd>1</dd>\n",
       "\t<dt>S_055</dt>\n",
       "\t\t<dd>1</dd>\n",
       "\t<dt>S_057</dt>\n",
       "\t\t<dd>1</dd>\n",
       "\t<dt>S_058</dt>\n",
       "\t\t<dd>1</dd>\n",
       "\t<dt>S_059</dt>\n",
       "\t\t<dd>1</dd>\n",
       "\t<dt>S_060</dt>\n",
       "\t\t<dd>1</dd>\n",
       "\t<dt>S_061</dt>\n",
       "\t\t<dd>1</dd>\n",
       "\t<dt>S_063</dt>\n",
       "\t\t<dd>1</dd>\n",
       "\t<dt>S_065</dt>\n",
       "\t\t<dd>1</dd>\n",
       "\t<dt>S_066</dt>\n",
       "\t\t<dd>1</dd>\n",
       "\t<dt>S_122</dt>\n",
       "\t\t<dd>1</dd>\n",
       "\t<dt>S_123</dt>\n",
       "\t\t<dd>1</dd>\n",
       "\t<dt>S_125</dt>\n",
       "\t\t<dd>1</dd>\n",
       "\t<dt>S_126</dt>\n",
       "\t\t<dd>1</dd>\n",
       "\t<dt>S_127</dt>\n",
       "\t\t<dd>1</dd>\n",
       "\t<dt>S_132</dt>\n",
       "\t\t<dd>1</dd>\n",
       "\t<dt>S_134</dt>\n",
       "\t\t<dd>1</dd>\n",
       "\t<dt>S_001</dt>\n",
       "\t\t<dd>1</dd>\n",
       "\t<dt>S_002</dt>\n",
       "\t\t<dd>1</dd>\n",
       "\t<dt>S_003</dt>\n",
       "\t\t<dd>1</dd>\n",
       "\t<dt>S_005</dt>\n",
       "\t\t<dd>1</dd>\n",
       "\t<dt>S_006</dt>\n",
       "\t\t<dd>1</dd>\n",
       "\t<dt>S_007</dt>\n",
       "\t\t<dd>1</dd>\n",
       "\t<dt>S_008</dt>\n",
       "\t\t<dd>1</dd>\n",
       "\t<dt>S_009</dt>\n",
       "\t\t<dd>1</dd>\n",
       "\t<dt>S_010</dt>\n",
       "\t\t<dd>1</dd>\n",
       "\t<dt>S_013</dt>\n",
       "\t\t<dd>1</dd>\n",
       "\t<dt>S_014</dt>\n",
       "\t\t<dd>1</dd>\n",
       "\t<dt>S_016</dt>\n",
       "\t\t<dd>1</dd>\n",
       "\t<dt>S_019</dt>\n",
       "\t\t<dd>1</dd>\n",
       "\t<dt>S_020</dt>\n",
       "\t\t<dd>1</dd>\n",
       "\t<dt>S_021</dt>\n",
       "\t\t<dd>1</dd>\n",
       "\t<dt>S_022</dt>\n",
       "\t\t<dd>1</dd>\n",
       "\t<dt>S_023</dt>\n",
       "\t\t<dd>1</dd>\n",
       "\t<dt>S_024</dt>\n",
       "\t\t<dd>1</dd>\n",
       "\t<dt>S_026</dt>\n",
       "\t\t<dd>1</dd>\n",
       "\t<dt>S_029</dt>\n",
       "\t\t<dd>1</dd>\n",
       "\t<dt>S_030</dt>\n",
       "\t\t<dd>1</dd>\n",
       "\t<dt>S_078</dt>\n",
       "\t\t<dd>1</dd>\n",
       "\t<dt>S_079</dt>\n",
       "\t\t<dd>1</dd>\n",
       "\t<dt>S_113</dt>\n",
       "\t\t<dd>1</dd>\n",
       "\t<dt>S_114</dt>\n",
       "\t\t<dd>1</dd>\n",
       "\t<dt>S_115</dt>\n",
       "\t\t<dd>1</dd>\n",
       "\t<dt>S_116</dt>\n",
       "\t\t<dd>1</dd>\n",
       "\t<dt>S_117</dt>\n",
       "\t\t<dd>1</dd>\n",
       "\t<dt>S_118</dt>\n",
       "\t\t<dd>1</dd>\n",
       "\t<dt>S_120</dt>\n",
       "\t\t<dd>1</dd>\n",
       "\t<dt>S_130</dt>\n",
       "\t\t<dd>1</dd>\n",
       "\t<dt>S_139</dt>\n",
       "\t\t<dd>1</dd>\n",
       "\t<dt>S_140</dt>\n",
       "\t\t<dd>1</dd>\n",
       "\t<dt>S_141</dt>\n",
       "\t\t<dd>1</dd>\n",
       "\t<dt>S_142</dt>\n",
       "\t\t<dd>1</dd>\n",
       "\t<dt>S_067</dt>\n",
       "\t\t<dd>1</dd>\n",
       "\t<dt>S_068</dt>\n",
       "\t\t<dd>1</dd>\n",
       "\t<dt>S_070</dt>\n",
       "\t\t<dd>1</dd>\n",
       "\t<dt>S_073</dt>\n",
       "\t\t<dd>1</dd>\n",
       "\t<dt>S_075</dt>\n",
       "\t\t<dd>1</dd>\n",
       "\t<dt>S_076</dt>\n",
       "\t\t<dd>1</dd>\n",
       "\t<dt>S_081</dt>\n",
       "\t\t<dd>1</dd>\n",
       "\t<dt>S_082</dt>\n",
       "\t\t<dd>1</dd>\n",
       "\t<dt>S_083</dt>\n",
       "\t\t<dd>1</dd>\n",
       "\t<dt>S_084</dt>\n",
       "\t\t<dd>1</dd>\n",
       "\t<dt>S_085</dt>\n",
       "\t\t<dd>1</dd>\n",
       "\t<dt>S_088</dt>\n",
       "\t\t<dd>1</dd>\n",
       "\t<dt>S_089</dt>\n",
       "\t\t<dd>1</dd>\n",
       "\t<dt>S_091</dt>\n",
       "\t\t<dd>1</dd>\n",
       "\t<dt>S_092</dt>\n",
       "\t\t<dd>1</dd>\n",
       "\t<dt>S_093</dt>\n",
       "\t\t<dd>1</dd>\n",
       "\t<dt>S_094</dt>\n",
       "\t\t<dd>1</dd>\n",
       "\t<dt>S_095</dt>\n",
       "\t\t<dd>1</dd>\n",
       "\t<dt>S_096</dt>\n",
       "\t\t<dd>1</dd>\n",
       "\t<dt>S_097</dt>\n",
       "\t\t<dd>1</dd>\n",
       "\t<dt>S_098</dt>\n",
       "\t\t<dd>1</dd>\n",
       "\t<dt>S_100</dt>\n",
       "\t\t<dd>1</dd>\n",
       "\t<dt>S_101</dt>\n",
       "\t\t<dd>1</dd>\n",
       "\t<dt>S_103</dt>\n",
       "\t\t<dd>1</dd>\n",
       "\t<dt>S_105</dt>\n",
       "\t\t<dd>1</dd>\n",
       "\t<dt>S_106</dt>\n",
       "\t\t<dd>1</dd>\n",
       "\t<dt>S_107</dt>\n",
       "\t\t<dd>1</dd>\n",
       "\t<dt>S_109</dt>\n",
       "\t\t<dd>1</dd>\n",
       "\t<dt>S_111</dt>\n",
       "\t\t<dd>1</dd>\n",
       "\t<dt>S_112</dt>\n",
       "\t\t<dd>1</dd>\n",
       "\t<dt>S_143</dt>\n",
       "\t\t<dd>1</dd>\n",
       "\t<dt>S_144</dt>\n",
       "\t\t<dd>1</dd>\n",
       "\t<dt>S_145</dt>\n",
       "\t\t<dd>1</dd>\n",
       "\t<dt>S_146</dt>\n",
       "\t\t<dd>1</dd>\n",
       "\t<dt>S_147</dt>\n",
       "\t\t<dd>1</dd>\n",
       "\t<dt>S_032</dt>\n",
       "\t\t<dd>1</dd>\n",
       "\t<dt>S_035</dt>\n",
       "\t\t<dd>1</dd>\n",
       "\t<dt>S_037</dt>\n",
       "\t\t<dd>1</dd>\n",
       "\t<dt>S_044</dt>\n",
       "\t\t<dd>1</dd>\n",
       "\t<dt>S_048</dt>\n",
       "\t\t<dd>1</dd>\n",
       "\t<dt>S_049</dt>\n",
       "\t\t<dd>1</dd>\n",
       "\t<dt>S_056</dt>\n",
       "\t\t<dd>1</dd>\n",
       "\t<dt>S_062</dt>\n",
       "\t\t<dd>1</dd>\n",
       "\t<dt>S_064</dt>\n",
       "\t\t<dd>1</dd>\n",
       "\t<dt>S_121</dt>\n",
       "\t\t<dd>1</dd>\n",
       "\t<dt>S_124</dt>\n",
       "\t\t<dd>1</dd>\n",
       "\t<dt>S_128</dt>\n",
       "\t\t<dd>1</dd>\n",
       "\t<dt>S_129</dt>\n",
       "\t\t<dd>1</dd>\n",
       "\t<dt>S_131</dt>\n",
       "\t\t<dd>1</dd>\n",
       "\t<dt>S_133</dt>\n",
       "\t\t<dd>1</dd>\n",
       "\t<dt>S_004</dt>\n",
       "\t\t<dd>1</dd>\n",
       "\t<dt>S_011</dt>\n",
       "\t\t<dd>1</dd>\n",
       "\t<dt>S_012</dt>\n",
       "\t\t<dd>1</dd>\n",
       "\t<dt>S_015</dt>\n",
       "\t\t<dd>1</dd>\n",
       "\t<dt>S_017</dt>\n",
       "\t\t<dd>1</dd>\n",
       "\t<dt>S_018</dt>\n",
       "\t\t<dd>1</dd>\n",
       "\t<dt>S_025</dt>\n",
       "\t\t<dd>1</dd>\n",
       "\t<dt>S_033</dt>\n",
       "\t\t<dd>1</dd>\n",
       "\t<dt>S_119</dt>\n",
       "\t\t<dd>1</dd>\n",
       "\t<dt>S_135</dt>\n",
       "\t\t<dd>1</dd>\n",
       "\t<dt>S_136</dt>\n",
       "\t\t<dd>1</dd>\n",
       "\t<dt>S_137</dt>\n",
       "\t\t<dd>1</dd>\n",
       "\t<dt>S_138</dt>\n",
       "\t\t<dd>1</dd>\n",
       "\t<dt>S_149</dt>\n",
       "\t\t<dd>1</dd>\n",
       "\t<dt>S_150</dt>\n",
       "\t\t<dd>1</dd>\n",
       "\t<dt>S_069</dt>\n",
       "\t\t<dd>1</dd>\n",
       "\t<dt>S_071</dt>\n",
       "\t\t<dd>1</dd>\n",
       "\t<dt>S_072</dt>\n",
       "\t\t<dd>1</dd>\n",
       "\t<dt>S_074</dt>\n",
       "\t\t<dd>1</dd>\n",
       "\t<dt>S_077</dt>\n",
       "\t\t<dd>1</dd>\n",
       "\t<dt>S_080</dt>\n",
       "\t\t<dd>1</dd>\n",
       "\t<dt>S_086</dt>\n",
       "\t\t<dd>1</dd>\n",
       "\t<dt>S_087</dt>\n",
       "\t\t<dd>1</dd>\n",
       "\t<dt>S_090</dt>\n",
       "\t\t<dd>1</dd>\n",
       "\t<dt>S_099</dt>\n",
       "\t\t<dd>1</dd>\n",
       "\t<dt>S_102</dt>\n",
       "\t\t<dd>1</dd>\n",
       "\t<dt>S_104</dt>\n",
       "\t\t<dd>1</dd>\n",
       "\t<dt>S_108</dt>\n",
       "\t\t<dd>1</dd>\n",
       "\t<dt>S_110</dt>\n",
       "\t\t<dd>1</dd>\n",
       "\t<dt>S_148</dt>\n",
       "\t\t<dd>1</dd>\n",
       "</dl>\n"
      ],
      "text/latex": [
       "\\begin{description*}\n",
       "\\item[S\\textbackslash{}\\_027] 1\n",
       "\\item[S\\textbackslash{}\\_028] 1\n",
       "\\item[S\\textbackslash{}\\_031] 1\n",
       "\\item[S\\textbackslash{}\\_034] 1\n",
       "\\item[S\\textbackslash{}\\_036] 1\n",
       "\\item[S\\textbackslash{}\\_038] 1\n",
       "\\item[S\\textbackslash{}\\_039] 1\n",
       "\\item[S\\textbackslash{}\\_040] 1\n",
       "\\item[S\\textbackslash{}\\_041] 1\n",
       "\\item[S\\textbackslash{}\\_042] 1\n",
       "\\item[S\\textbackslash{}\\_043] 1\n",
       "\\item[S\\textbackslash{}\\_045] 1\n",
       "\\item[S\\textbackslash{}\\_046] 1\n",
       "\\item[S\\textbackslash{}\\_047] 1\n",
       "\\item[S\\textbackslash{}\\_050] 1\n",
       "\\item[S\\textbackslash{}\\_051] 1\n",
       "\\item[S\\textbackslash{}\\_052] 1\n",
       "\\item[S\\textbackslash{}\\_053] 1\n",
       "\\item[S\\textbackslash{}\\_054] 1\n",
       "\\item[S\\textbackslash{}\\_055] 1\n",
       "\\item[S\\textbackslash{}\\_057] 1\n",
       "\\item[S\\textbackslash{}\\_058] 1\n",
       "\\item[S\\textbackslash{}\\_059] 1\n",
       "\\item[S\\textbackslash{}\\_060] 1\n",
       "\\item[S\\textbackslash{}\\_061] 1\n",
       "\\item[S\\textbackslash{}\\_063] 1\n",
       "\\item[S\\textbackslash{}\\_065] 1\n",
       "\\item[S\\textbackslash{}\\_066] 1\n",
       "\\item[S\\textbackslash{}\\_122] 1\n",
       "\\item[S\\textbackslash{}\\_123] 1\n",
       "\\item[S\\textbackslash{}\\_125] 1\n",
       "\\item[S\\textbackslash{}\\_126] 1\n",
       "\\item[S\\textbackslash{}\\_127] 1\n",
       "\\item[S\\textbackslash{}\\_132] 1\n",
       "\\item[S\\textbackslash{}\\_134] 1\n",
       "\\item[S\\textbackslash{}\\_001] 1\n",
       "\\item[S\\textbackslash{}\\_002] 1\n",
       "\\item[S\\textbackslash{}\\_003] 1\n",
       "\\item[S\\textbackslash{}\\_005] 1\n",
       "\\item[S\\textbackslash{}\\_006] 1\n",
       "\\item[S\\textbackslash{}\\_007] 1\n",
       "\\item[S\\textbackslash{}\\_008] 1\n",
       "\\item[S\\textbackslash{}\\_009] 1\n",
       "\\item[S\\textbackslash{}\\_010] 1\n",
       "\\item[S\\textbackslash{}\\_013] 1\n",
       "\\item[S\\textbackslash{}\\_014] 1\n",
       "\\item[S\\textbackslash{}\\_016] 1\n",
       "\\item[S\\textbackslash{}\\_019] 1\n",
       "\\item[S\\textbackslash{}\\_020] 1\n",
       "\\item[S\\textbackslash{}\\_021] 1\n",
       "\\item[S\\textbackslash{}\\_022] 1\n",
       "\\item[S\\textbackslash{}\\_023] 1\n",
       "\\item[S\\textbackslash{}\\_024] 1\n",
       "\\item[S\\textbackslash{}\\_026] 1\n",
       "\\item[S\\textbackslash{}\\_029] 1\n",
       "\\item[S\\textbackslash{}\\_030] 1\n",
       "\\item[S\\textbackslash{}\\_078] 1\n",
       "\\item[S\\textbackslash{}\\_079] 1\n",
       "\\item[S\\textbackslash{}\\_113] 1\n",
       "\\item[S\\textbackslash{}\\_114] 1\n",
       "\\item[S\\textbackslash{}\\_115] 1\n",
       "\\item[S\\textbackslash{}\\_116] 1\n",
       "\\item[S\\textbackslash{}\\_117] 1\n",
       "\\item[S\\textbackslash{}\\_118] 1\n",
       "\\item[S\\textbackslash{}\\_120] 1\n",
       "\\item[S\\textbackslash{}\\_130] 1\n",
       "\\item[S\\textbackslash{}\\_139] 1\n",
       "\\item[S\\textbackslash{}\\_140] 1\n",
       "\\item[S\\textbackslash{}\\_141] 1\n",
       "\\item[S\\textbackslash{}\\_142] 1\n",
       "\\item[S\\textbackslash{}\\_067] 1\n",
       "\\item[S\\textbackslash{}\\_068] 1\n",
       "\\item[S\\textbackslash{}\\_070] 1\n",
       "\\item[S\\textbackslash{}\\_073] 1\n",
       "\\item[S\\textbackslash{}\\_075] 1\n",
       "\\item[S\\textbackslash{}\\_076] 1\n",
       "\\item[S\\textbackslash{}\\_081] 1\n",
       "\\item[S\\textbackslash{}\\_082] 1\n",
       "\\item[S\\textbackslash{}\\_083] 1\n",
       "\\item[S\\textbackslash{}\\_084] 1\n",
       "\\item[S\\textbackslash{}\\_085] 1\n",
       "\\item[S\\textbackslash{}\\_088] 1\n",
       "\\item[S\\textbackslash{}\\_089] 1\n",
       "\\item[S\\textbackslash{}\\_091] 1\n",
       "\\item[S\\textbackslash{}\\_092] 1\n",
       "\\item[S\\textbackslash{}\\_093] 1\n",
       "\\item[S\\textbackslash{}\\_094] 1\n",
       "\\item[S\\textbackslash{}\\_095] 1\n",
       "\\item[S\\textbackslash{}\\_096] 1\n",
       "\\item[S\\textbackslash{}\\_097] 1\n",
       "\\item[S\\textbackslash{}\\_098] 1\n",
       "\\item[S\\textbackslash{}\\_100] 1\n",
       "\\item[S\\textbackslash{}\\_101] 1\n",
       "\\item[S\\textbackslash{}\\_103] 1\n",
       "\\item[S\\textbackslash{}\\_105] 1\n",
       "\\item[S\\textbackslash{}\\_106] 1\n",
       "\\item[S\\textbackslash{}\\_107] 1\n",
       "\\item[S\\textbackslash{}\\_109] 1\n",
       "\\item[S\\textbackslash{}\\_111] 1\n",
       "\\item[S\\textbackslash{}\\_112] 1\n",
       "\\item[S\\textbackslash{}\\_143] 1\n",
       "\\item[S\\textbackslash{}\\_144] 1\n",
       "\\item[S\\textbackslash{}\\_145] 1\n",
       "\\item[S\\textbackslash{}\\_146] 1\n",
       "\\item[S\\textbackslash{}\\_147] 1\n",
       "\\item[S\\textbackslash{}\\_032] 1\n",
       "\\item[S\\textbackslash{}\\_035] 1\n",
       "\\item[S\\textbackslash{}\\_037] 1\n",
       "\\item[S\\textbackslash{}\\_044] 1\n",
       "\\item[S\\textbackslash{}\\_048] 1\n",
       "\\item[S\\textbackslash{}\\_049] 1\n",
       "\\item[S\\textbackslash{}\\_056] 1\n",
       "\\item[S\\textbackslash{}\\_062] 1\n",
       "\\item[S\\textbackslash{}\\_064] 1\n",
       "\\item[S\\textbackslash{}\\_121] 1\n",
       "\\item[S\\textbackslash{}\\_124] 1\n",
       "\\item[S\\textbackslash{}\\_128] 1\n",
       "\\item[S\\textbackslash{}\\_129] 1\n",
       "\\item[S\\textbackslash{}\\_131] 1\n",
       "\\item[S\\textbackslash{}\\_133] 1\n",
       "\\item[S\\textbackslash{}\\_004] 1\n",
       "\\item[S\\textbackslash{}\\_011] 1\n",
       "\\item[S\\textbackslash{}\\_012] 1\n",
       "\\item[S\\textbackslash{}\\_015] 1\n",
       "\\item[S\\textbackslash{}\\_017] 1\n",
       "\\item[S\\textbackslash{}\\_018] 1\n",
       "\\item[S\\textbackslash{}\\_025] 1\n",
       "\\item[S\\textbackslash{}\\_033] 1\n",
       "\\item[S\\textbackslash{}\\_119] 1\n",
       "\\item[S\\textbackslash{}\\_135] 1\n",
       "\\item[S\\textbackslash{}\\_136] 1\n",
       "\\item[S\\textbackslash{}\\_137] 1\n",
       "\\item[S\\textbackslash{}\\_138] 1\n",
       "\\item[S\\textbackslash{}\\_149] 1\n",
       "\\item[S\\textbackslash{}\\_150] 1\n",
       "\\item[S\\textbackslash{}\\_069] 1\n",
       "\\item[S\\textbackslash{}\\_071] 1\n",
       "\\item[S\\textbackslash{}\\_072] 1\n",
       "\\item[S\\textbackslash{}\\_074] 1\n",
       "\\item[S\\textbackslash{}\\_077] 1\n",
       "\\item[S\\textbackslash{}\\_080] 1\n",
       "\\item[S\\textbackslash{}\\_086] 1\n",
       "\\item[S\\textbackslash{}\\_087] 1\n",
       "\\item[S\\textbackslash{}\\_090] 1\n",
       "\\item[S\\textbackslash{}\\_099] 1\n",
       "\\item[S\\textbackslash{}\\_102] 1\n",
       "\\item[S\\textbackslash{}\\_104] 1\n",
       "\\item[S\\textbackslash{}\\_108] 1\n",
       "\\item[S\\textbackslash{}\\_110] 1\n",
       "\\item[S\\textbackslash{}\\_148] 1\n",
       "\\end{description*}\n"
      ],
      "text/markdown": [
       "S_027\n",
       ":   1S_028\n",
       ":   1S_031\n",
       ":   1S_034\n",
       ":   1S_036\n",
       ":   1S_038\n",
       ":   1S_039\n",
       ":   1S_040\n",
       ":   1S_041\n",
       ":   1S_042\n",
       ":   1S_043\n",
       ":   1S_045\n",
       ":   1S_046\n",
       ":   1S_047\n",
       ":   1S_050\n",
       ":   1S_051\n",
       ":   1S_052\n",
       ":   1S_053\n",
       ":   1S_054\n",
       ":   1S_055\n",
       ":   1S_057\n",
       ":   1S_058\n",
       ":   1S_059\n",
       ":   1S_060\n",
       ":   1S_061\n",
       ":   1S_063\n",
       ":   1S_065\n",
       ":   1S_066\n",
       ":   1S_122\n",
       ":   1S_123\n",
       ":   1S_125\n",
       ":   1S_126\n",
       ":   1S_127\n",
       ":   1S_132\n",
       ":   1S_134\n",
       ":   1S_001\n",
       ":   1S_002\n",
       ":   1S_003\n",
       ":   1S_005\n",
       ":   1S_006\n",
       ":   1S_007\n",
       ":   1S_008\n",
       ":   1S_009\n",
       ":   1S_010\n",
       ":   1S_013\n",
       ":   1S_014\n",
       ":   1S_016\n",
       ":   1S_019\n",
       ":   1S_020\n",
       ":   1S_021\n",
       ":   1S_022\n",
       ":   1S_023\n",
       ":   1S_024\n",
       ":   1S_026\n",
       ":   1S_029\n",
       ":   1S_030\n",
       ":   1S_078\n",
       ":   1S_079\n",
       ":   1S_113\n",
       ":   1S_114\n",
       ":   1S_115\n",
       ":   1S_116\n",
       ":   1S_117\n",
       ":   1S_118\n",
       ":   1S_120\n",
       ":   1S_130\n",
       ":   1S_139\n",
       ":   1S_140\n",
       ":   1S_141\n",
       ":   1S_142\n",
       ":   1S_067\n",
       ":   1S_068\n",
       ":   1S_070\n",
       ":   1S_073\n",
       ":   1S_075\n",
       ":   1S_076\n",
       ":   1S_081\n",
       ":   1S_082\n",
       ":   1S_083\n",
       ":   1S_084\n",
       ":   1S_085\n",
       ":   1S_088\n",
       ":   1S_089\n",
       ":   1S_091\n",
       ":   1S_092\n",
       ":   1S_093\n",
       ":   1S_094\n",
       ":   1S_095\n",
       ":   1S_096\n",
       ":   1S_097\n",
       ":   1S_098\n",
       ":   1S_100\n",
       ":   1S_101\n",
       ":   1S_103\n",
       ":   1S_105\n",
       ":   1S_106\n",
       ":   1S_107\n",
       ":   1S_109\n",
       ":   1S_111\n",
       ":   1S_112\n",
       ":   1S_143\n",
       ":   1S_144\n",
       ":   1S_145\n",
       ":   1S_146\n",
       ":   1S_147\n",
       ":   1S_032\n",
       ":   1S_035\n",
       ":   1S_037\n",
       ":   1S_044\n",
       ":   1S_048\n",
       ":   1S_049\n",
       ":   1S_056\n",
       ":   1S_062\n",
       ":   1S_064\n",
       ":   1S_121\n",
       ":   1S_124\n",
       ":   1S_128\n",
       ":   1S_129\n",
       ":   1S_131\n",
       ":   1S_133\n",
       ":   1S_004\n",
       ":   1S_011\n",
       ":   1S_012\n",
       ":   1S_015\n",
       ":   1S_017\n",
       ":   1S_018\n",
       ":   1S_025\n",
       ":   1S_033\n",
       ":   1S_119\n",
       ":   1S_135\n",
       ":   1S_136\n",
       ":   1S_137\n",
       ":   1S_138\n",
       ":   1S_149\n",
       ":   1S_150\n",
       ":   1S_069\n",
       ":   1S_071\n",
       ":   1S_072\n",
       ":   1S_074\n",
       ":   1S_077\n",
       ":   1S_080\n",
       ":   1S_086\n",
       ":   1S_087\n",
       ":   1S_090\n",
       ":   1S_099\n",
       ":   1S_102\n",
       ":   1S_104\n",
       ":   1S_108\n",
       ":   1S_110\n",
       ":   1S_148\n",
       ":   1\n",
       "\n"
      ],
      "text/plain": [
       "S_027 S_028 S_031 S_034 S_036 S_038 S_039 S_040 S_041 S_042 S_043 S_045 S_046 \n",
       "    1     1     1     1     1     1     1     1     1     1     1     1     1 \n",
       "S_047 S_050 S_051 S_052 S_053 S_054 S_055 S_057 S_058 S_059 S_060 S_061 S_063 \n",
       "    1     1     1     1     1     1     1     1     1     1     1     1     1 \n",
       "S_065 S_066 S_122 S_123 S_125 S_126 S_127 S_132 S_134 S_001 S_002 S_003 S_005 \n",
       "    1     1     1     1     1     1     1     1     1     1     1     1     1 \n",
       "S_006 S_007 S_008 S_009 S_010 S_013 S_014 S_016 S_019 S_020 S_021 S_022 S_023 \n",
       "    1     1     1     1     1     1     1     1     1     1     1     1     1 \n",
       "S_024 S_026 S_029 S_030 S_078 S_079 S_113 S_114 S_115 S_116 S_117 S_118 S_120 \n",
       "    1     1     1     1     1     1     1     1     1     1     1     1     1 \n",
       "S_130 S_139 S_140 S_141 S_142 S_067 S_068 S_070 S_073 S_075 S_076 S_081 S_082 \n",
       "    1     1     1     1     1     1     1     1     1     1     1     1     1 \n",
       "S_083 S_084 S_085 S_088 S_089 S_091 S_092 S_093 S_094 S_095 S_096 S_097 S_098 \n",
       "    1     1     1     1     1     1     1     1     1     1     1     1     1 \n",
       "S_100 S_101 S_103 S_105 S_106 S_107 S_109 S_111 S_112 S_143 S_144 S_145 S_146 \n",
       "    1     1     1     1     1     1     1     1     1     1     1     1     1 \n",
       "S_147 S_032 S_035 S_037 S_044 S_048 S_049 S_056 S_062 S_064 S_121 S_124 S_128 \n",
       "    1     1     1     1     1     1     1     1     1     1     1     1     1 \n",
       "S_129 S_131 S_133 S_004 S_011 S_012 S_015 S_017 S_018 S_025 S_033 S_119 S_135 \n",
       "    1     1     1     1     1     1     1     1     1     1     1     1     1 \n",
       "S_136 S_137 S_138 S_149 S_150 S_069 S_071 S_072 S_074 S_077 S_080 S_086 S_087 \n",
       "    1     1     1     1     1     1     1     1     1     1     1     1     1 \n",
       "S_090 S_099 S_102 S_104 S_108 S_110 S_148 \n",
       "    1     1     1     1     1     1     1 "
      ]
     },
     "metadata": {},
     "output_type": "display_data"
    }
   ],
   "source": [
    "sample_sums(phy_rel)"
   ]
  },
  {
   "cell_type": "markdown",
   "metadata": {},
   "source": [
    "# Tax agglomoration<a class=\"anchor\" id=\"agg\"></a>"
   ]
  },
  {
   "cell_type": "markdown",
   "metadata": {},
   "source": [
    "It is often necessary to group counts of ASVs according to higher taxonomic levels.\n",
    "E.g. if we want to know how abundant different genera are, or we want to plot the most abundant phyla.\n",
    "We use the tax_glom function to do this\n",
    "\n",
    "Here we agglomorate to Phylum level:"
   ]
  },
  {
   "cell_type": "code",
   "execution_count": 17,
   "metadata": {},
   "outputs": [
    {
     "data": {
      "text/plain": [
       "phyloseq-class experiment-level object\n",
       "otu_table()   OTU Table:         [ 22 taxa and 150 samples ]\n",
       "sample_data() Sample Data:       [ 150 samples by 3 sample variables ]\n",
       "tax_table()   Taxonomy Table:    [ 22 taxa by 7 taxonomic ranks ]\n",
       "phy_tree()    Phylogenetic Tree: [ 22 tips and 21 internal nodes ]\n",
       "refseq()      DNAStringSet:      [ 22 reference sequences ]"
      ]
     },
     "metadata": {},
     "output_type": "display_data"
    }
   ],
   "source": [
    "phy_phylum <- tax_glom(phy, \"Phylum\")\n",
    "phy_phylum"
   ]
  },
  {
   "cell_type": "markdown",
   "metadata": {},
   "source": [
    "We see in the output that we have 22 taxa. This is because we have 22 different phyla.\n",
    "Let's see how the otu_table looks like (only 10 first samples):"
   ]
  },
  {
   "cell_type": "code",
   "execution_count": 18,
   "metadata": {},
   "outputs": [
    {
     "data": {
      "text/html": [
       "<table>\n",
       "<thead><tr><th></th><th scope=col>S_027</th><th scope=col>S_028</th><th scope=col>S_031</th><th scope=col>S_034</th><th scope=col>S_036</th><th scope=col>S_038</th><th scope=col>S_039</th><th scope=col>S_040</th><th scope=col>S_041</th><th scope=col>S_042</th></tr></thead>\n",
       "<tbody>\n",
       "\t<tr><th scope=row>ASV_1</th><td>   0  </td><td>    0 </td><td>    0 </td><td>    0 </td><td>     0</td><td>    0 </td><td>   3  </td><td>    0 </td><td>    0 </td><td>    0 </td></tr>\n",
       "\t<tr><th scope=row>ASV_18</th><td>   0  </td><td>    0 </td><td>   13 </td><td>    0 </td><td>    78</td><td>  990 </td><td>   0  </td><td>    0 </td><td>   31 </td><td>    6 </td></tr>\n",
       "\t<tr><th scope=row>ASV_20</th><td>   0  </td><td>    0 </td><td>    0 </td><td>    0 </td><td>     0</td><td>    0 </td><td>   0  </td><td>    0 </td><td>    0 </td><td>    0 </td></tr>\n",
       "\t<tr><th scope=row>ASV_21</th><td>   0  </td><td>    0 </td><td>    0 </td><td>    0 </td><td>     0</td><td>    0 </td><td>   0  </td><td>    0 </td><td>    0 </td><td>    0 </td></tr>\n",
       "\t<tr><th scope=row>ASV_24</th><td>   0  </td><td>    0 </td><td>    0 </td><td>    0 </td><td>    25</td><td>    0 </td><td>  86  </td><td>    0 </td><td>    0 </td><td>    0 </td></tr>\n",
       "\t<tr><th scope=row>ASV_232</th><td> 513  </td><td>31249 </td><td>10800 </td><td>34524 </td><td> 53213</td><td> 3536 </td><td>1610  </td><td>40899 </td><td>  609 </td><td>11695 </td></tr>\n",
       "\t<tr><th scope=row>ASV_293</th><td>   0  </td><td>    0 </td><td>    0 </td><td>   40 </td><td>     0</td><td>    0 </td><td>   0  </td><td>    0 </td><td>    0 </td><td>    0 </td></tr>\n",
       "\t<tr><th scope=row>ASV_294</th><td>   0  </td><td>    0 </td><td>    0 </td><td>    0 </td><td>     0</td><td>   16 </td><td>   0  </td><td>    0 </td><td>    0 </td><td>    0 </td></tr>\n",
       "\t<tr><th scope=row>ASV_456</th><td>5178  </td><td> 1454 </td><td>56179 </td><td> 2999 </td><td>   529</td><td> 9488 </td><td> 162  </td><td> 3099 </td><td>    0 </td><td>  266 </td></tr>\n",
       "\t<tr><th scope=row>ASV_470</th><td>   0  </td><td>    0 </td><td>    0 </td><td>    0 </td><td>     0</td><td>    0 </td><td>   0  </td><td>    0 </td><td>    0 </td><td>    0 </td></tr>\n",
       "\t<tr><th scope=row>ASV_507</th><td>  28  </td><td>    0 </td><td>   10 </td><td> 3165 </td><td>    18</td><td>17566 </td><td> 471  </td><td>   65 </td><td>    0 </td><td>    0 </td></tr>\n",
       "\t<tr><th scope=row>ASV_636</th><td>   0  </td><td>    0 </td><td>    0 </td><td>    0 </td><td>     0</td><td>    0 </td><td>   0  </td><td>    0 </td><td>    0 </td><td>    0 </td></tr>\n",
       "\t<tr><th scope=row>ASV_637</th><td>   0  </td><td>    0 </td><td>   27 </td><td>    0 </td><td>     0</td><td>   79 </td><td>  17  </td><td>    0 </td><td>    0 </td><td>    0 </td></tr>\n",
       "\t<tr><th scope=row>ASV_658</th><td>   0  </td><td>    0 </td><td>    0 </td><td>    0 </td><td>     0</td><td>    0 </td><td>  61  </td><td>    0 </td><td>    0 </td><td>  407 </td></tr>\n",
       "\t<tr><th scope=row>ASV_663</th><td> 302  </td><td>    0 </td><td>   17 </td><td>    0 </td><td>     0</td><td>    0 </td><td>   0  </td><td>    0 </td><td>    0 </td><td>    0 </td></tr>\n",
       "\t<tr><th scope=row>ASV_666</th><td>   0  </td><td>    0 </td><td>    0 </td><td>    0 </td><td>     0</td><td>    0 </td><td>   0  </td><td>    0 </td><td>    0 </td><td>    0 </td></tr>\n",
       "\t<tr><th scope=row>ASV_730</th><td>1062  </td><td>   47 </td><td>  460 </td><td>  355 </td><td>   653</td><td>   82 </td><td>  54  </td><td>    0 </td><td>17822 </td><td>   91 </td></tr>\n",
       "\t<tr><th scope=row>ASV_755</th><td>   0  </td><td>    0 </td><td>    0 </td><td>    0 </td><td>     0</td><td>    0 </td><td>   0  </td><td> 3680 </td><td>    0 </td><td>    0 </td></tr>\n",
       "\t<tr><th scope=row>ASV_853</th><td>   0  </td><td>    0 </td><td>    0 </td><td>    0 </td><td>     0</td><td>    0 </td><td>   0  </td><td>    0 </td><td>    0 </td><td>    0 </td></tr>\n",
       "\t<tr><th scope=row>ASV_937</th><td>   0  </td><td>    0 </td><td>    0 </td><td>    0 </td><td>     0</td><td>    0 </td><td>  13  </td><td>    0 </td><td>    0 </td><td>    0 </td></tr>\n",
       "\t<tr><th scope=row>ASV_1242</th><td>1591  </td><td>60848 </td><td> 4031 </td><td>30329 </td><td>104460</td><td>37751 </td><td>3466  </td><td> 4314 </td><td>41591 </td><td>17184 </td></tr>\n",
       "\t<tr><th scope=row>ASV_1307</th><td>   0  </td><td>    0 </td><td>    0 </td><td>    0 </td><td>     0</td><td>    0 </td><td>  15  </td><td>    0 </td><td>  525 </td><td>    0 </td></tr>\n",
       "</tbody>\n",
       "</table>\n"
      ],
      "text/latex": [
       "\\begin{tabular}{r|llllllllll}\n",
       "  & S\\_027 & S\\_028 & S\\_031 & S\\_034 & S\\_036 & S\\_038 & S\\_039 & S\\_040 & S\\_041 & S\\_042\\\\\n",
       "\\hline\n",
       "\tASV\\_1 &    0   &     0  &     0  &     0  &      0 &     0  &    3   &     0  &     0  &     0 \\\\\n",
       "\tASV\\_18 &    0   &     0  &    13  &     0  &     78 &   990  &    0   &     0  &    31  &     6 \\\\\n",
       "\tASV\\_20 &    0   &     0  &     0  &     0  &      0 &     0  &    0   &     0  &     0  &     0 \\\\\n",
       "\tASV\\_21 &    0   &     0  &     0  &     0  &      0 &     0  &    0   &     0  &     0  &     0 \\\\\n",
       "\tASV\\_24 &    0   &     0  &     0  &     0  &     25 &     0  &   86   &     0  &     0  &     0 \\\\\n",
       "\tASV\\_232 &  513   & 31249  & 10800  & 34524  &  53213 &  3536  & 1610   & 40899  &   609  & 11695 \\\\\n",
       "\tASV\\_293 &    0   &     0  &     0  &    40  &      0 &     0  &    0   &     0  &     0  &     0 \\\\\n",
       "\tASV\\_294 &    0   &     0  &     0  &     0  &      0 &    16  &    0   &     0  &     0  &     0 \\\\\n",
       "\tASV\\_456 & 5178   &  1454  & 56179  &  2999  &    529 &  9488  &  162   &  3099  &     0  &   266 \\\\\n",
       "\tASV\\_470 &    0   &     0  &     0  &     0  &      0 &     0  &    0   &     0  &     0  &     0 \\\\\n",
       "\tASV\\_507 &   28   &     0  &    10  &  3165  &     18 & 17566  &  471   &    65  &     0  &     0 \\\\\n",
       "\tASV\\_636 &    0   &     0  &     0  &     0  &      0 &     0  &    0   &     0  &     0  &     0 \\\\\n",
       "\tASV\\_637 &    0   &     0  &    27  &     0  &      0 &    79  &   17   &     0  &     0  &     0 \\\\\n",
       "\tASV\\_658 &    0   &     0  &     0  &     0  &      0 &     0  &   61   &     0  &     0  &   407 \\\\\n",
       "\tASV\\_663 &  302   &     0  &    17  &     0  &      0 &     0  &    0   &     0  &     0  &     0 \\\\\n",
       "\tASV\\_666 &    0   &     0  &     0  &     0  &      0 &     0  &    0   &     0  &     0  &     0 \\\\\n",
       "\tASV\\_730 & 1062   &    47  &   460  &   355  &    653 &    82  &   54   &     0  & 17822  &    91 \\\\\n",
       "\tASV\\_755 &    0   &     0  &     0  &     0  &      0 &     0  &    0   &  3680  &     0  &     0 \\\\\n",
       "\tASV\\_853 &    0   &     0  &     0  &     0  &      0 &     0  &    0   &     0  &     0  &     0 \\\\\n",
       "\tASV\\_937 &    0   &     0  &     0  &     0  &      0 &     0  &   13   &     0  &     0  &     0 \\\\\n",
       "\tASV\\_1242 & 1591   & 60848  &  4031  & 30329  & 104460 & 37751  & 3466   &  4314  & 41591  & 17184 \\\\\n",
       "\tASV\\_1307 &    0   &     0  &     0  &     0  &      0 &     0  &   15   &     0  &   525  &     0 \\\\\n",
       "\\end{tabular}\n"
      ],
      "text/markdown": [
       "\n",
       "| <!--/--> | S_027 | S_028 | S_031 | S_034 | S_036 | S_038 | S_039 | S_040 | S_041 | S_042 |\n",
       "|---|---|---|---|---|---|---|---|---|---|---|\n",
       "| ASV_1 |    0   |     0  |     0  |     0  |      0 |     0  |    3   |     0  |     0  |     0  |\n",
       "| ASV_18 |    0   |     0  |    13  |     0  |     78 |   990  |    0   |     0  |    31  |     6  |\n",
       "| ASV_20 |    0   |     0  |     0  |     0  |      0 |     0  |    0   |     0  |     0  |     0  |\n",
       "| ASV_21 |    0   |     0  |     0  |     0  |      0 |     0  |    0   |     0  |     0  |     0  |\n",
       "| ASV_24 |    0   |     0  |     0  |     0  |     25 |     0  |   86   |     0  |     0  |     0  |\n",
       "| ASV_232 |  513   | 31249  | 10800  | 34524  |  53213 |  3536  | 1610   | 40899  |   609  | 11695  |\n",
       "| ASV_293 |    0   |     0  |     0  |    40  |      0 |     0  |    0   |     0  |     0  |     0  |\n",
       "| ASV_294 |    0   |     0  |     0  |     0  |      0 |    16  |    0   |     0  |     0  |     0  |\n",
       "| ASV_456 | 5178   |  1454  | 56179  |  2999  |    529 |  9488  |  162   |  3099  |     0  |   266  |\n",
       "| ASV_470 |    0   |     0  |     0  |     0  |      0 |     0  |    0   |     0  |     0  |     0  |\n",
       "| ASV_507 |   28   |     0  |    10  |  3165  |     18 | 17566  |  471   |    65  |     0  |     0  |\n",
       "| ASV_636 |    0   |     0  |     0  |     0  |      0 |     0  |    0   |     0  |     0  |     0  |\n",
       "| ASV_637 |    0   |     0  |    27  |     0  |      0 |    79  |   17   |     0  |     0  |     0  |\n",
       "| ASV_658 |    0   |     0  |     0  |     0  |      0 |     0  |   61   |     0  |     0  |   407  |\n",
       "| ASV_663 |  302   |     0  |    17  |     0  |      0 |     0  |    0   |     0  |     0  |     0  |\n",
       "| ASV_666 |    0   |     0  |     0  |     0  |      0 |     0  |    0   |     0  |     0  |     0  |\n",
       "| ASV_730 | 1062   |    47  |   460  |   355  |    653 |    82  |   54   |     0  | 17822  |    91  |\n",
       "| ASV_755 |    0   |     0  |     0  |     0  |      0 |     0  |    0   |  3680  |     0  |     0  |\n",
       "| ASV_853 |    0   |     0  |     0  |     0  |      0 |     0  |    0   |     0  |     0  |     0  |\n",
       "| ASV_937 |    0   |     0  |     0  |     0  |      0 |     0  |   13   |     0  |     0  |     0  |\n",
       "| ASV_1242 | 1591   | 60848  |  4031  | 30329  | 104460 | 37751  | 3466   |  4314  | 41591  | 17184  |\n",
       "| ASV_1307 |    0   |     0  |     0  |     0  |      0 |     0  |   15   |     0  |   525  |     0  |\n",
       "\n"
      ],
      "text/plain": [
       "         S_027 S_028 S_031 S_034 S_036  S_038 S_039 S_040 S_041 S_042\n",
       "ASV_1       0      0     0     0      0     0    3      0     0     0\n",
       "ASV_18      0      0    13     0     78   990    0      0    31     6\n",
       "ASV_20      0      0     0     0      0     0    0      0     0     0\n",
       "ASV_21      0      0     0     0      0     0    0      0     0     0\n",
       "ASV_24      0      0     0     0     25     0   86      0     0     0\n",
       "ASV_232   513  31249 10800 34524  53213  3536 1610  40899   609 11695\n",
       "ASV_293     0      0     0    40      0     0    0      0     0     0\n",
       "ASV_294     0      0     0     0      0    16    0      0     0     0\n",
       "ASV_456  5178   1454 56179  2999    529  9488  162   3099     0   266\n",
       "ASV_470     0      0     0     0      0     0    0      0     0     0\n",
       "ASV_507    28      0    10  3165     18 17566  471     65     0     0\n",
       "ASV_636     0      0     0     0      0     0    0      0     0     0\n",
       "ASV_637     0      0    27     0      0    79   17      0     0     0\n",
       "ASV_658     0      0     0     0      0     0   61      0     0   407\n",
       "ASV_663   302      0    17     0      0     0    0      0     0     0\n",
       "ASV_666     0      0     0     0      0     0    0      0     0     0\n",
       "ASV_730  1062     47   460   355    653    82   54      0 17822    91\n",
       "ASV_755     0      0     0     0      0     0    0   3680     0     0\n",
       "ASV_853     0      0     0     0      0     0    0      0     0     0\n",
       "ASV_937     0      0     0     0      0     0   13      0     0     0\n",
       "ASV_1242 1591  60848  4031 30329 104460 37751 3466   4314 41591 17184\n",
       "ASV_1307    0      0     0     0      0     0   15      0   525     0"
      ]
     },
     "metadata": {},
     "output_type": "display_data"
    }
   ],
   "source": [
    "otu_table(phy_phylum)[, 1:10]"
   ]
  },
  {
   "cell_type": "markdown",
   "metadata": {},
   "source": [
    "**Note:** The ASVs are not the same as before. You can see what the new \"Phylum-ASVs\" correspond to in the tax_table:"
   ]
  },
  {
   "cell_type": "code",
   "execution_count": 19,
   "metadata": {},
   "outputs": [
    {
     "data": {
      "text/html": [
       "<table>\n",
       "<thead><tr><th></th><th scope=col>Kingdom</th><th scope=col>Phylum</th><th scope=col>Class</th><th scope=col>Order</th><th scope=col>Family</th><th scope=col>Genus</th><th scope=col>asv_hash</th></tr></thead>\n",
       "<tbody>\n",
       "\t<tr><th scope=row>ASV_1</th><td>Bacteria           </td><td>Lentisphaerae      </td><td>NA                 </td><td>NA                 </td><td>NA                 </td><td>NA                 </td><td>NA                 </td></tr>\n",
       "\t<tr><th scope=row>ASV_18</th><td>Bacteria           </td><td>Fusobacteria       </td><td>NA                 </td><td>NA                 </td><td>NA                 </td><td>NA                 </td><td>NA                 </td></tr>\n",
       "\t<tr><th scope=row>ASV_20</th><td>Bacteria           </td><td>Spirochaetes       </td><td>NA                 </td><td>NA                 </td><td>NA                 </td><td>NA                 </td><td>NA                 </td></tr>\n",
       "\t<tr><th scope=row>ASV_21</th><td>Bacteria           </td><td>Fibrobacteres      </td><td>NA                 </td><td>NA                 </td><td>NA                 </td><td>NA                 </td><td>NA                 </td></tr>\n",
       "\t<tr><th scope=row>ASV_24</th><td>Bacteria           </td><td>Epsilonbacteraeota </td><td>NA                 </td><td>NA                 </td><td>NA                 </td><td>NA                 </td><td>NA                 </td></tr>\n",
       "\t<tr><th scope=row>ASV_232</th><td>Bacteria           </td><td>Bacteroidetes      </td><td>NA                 </td><td>NA                 </td><td>NA                 </td><td>NA                 </td><td>NA                 </td></tr>\n",
       "\t<tr><th scope=row>ASV_293</th><td>Bacteria           </td><td>Patescibacteria    </td><td>NA                 </td><td>NA                 </td><td>NA                 </td><td>NA                 </td><td>NA                 </td></tr>\n",
       "\t<tr><th scope=row>ASV_294</th><td>Bacteria           </td><td>Armatimonadetes    </td><td>NA                 </td><td>NA                 </td><td>NA                 </td><td>NA                 </td><td>NA                 </td></tr>\n",
       "\t<tr><th scope=row>ASV_456</th><td>Bacteria           </td><td>Proteobacteria     </td><td>NA                 </td><td>NA                 </td><td>NA                 </td><td>NA                 </td><td>NA                 </td></tr>\n",
       "\t<tr><th scope=row>ASV_470</th><td>Bacteria           </td><td>Rokubacteria       </td><td>NA                 </td><td>NA                 </td><td>NA                 </td><td>NA                 </td><td>NA                 </td></tr>\n",
       "\t<tr><th scope=row>ASV_507</th><td>Bacteria           </td><td>Acidobacteria      </td><td>NA                 </td><td>NA                 </td><td>NA                 </td><td>NA                 </td><td>NA                 </td></tr>\n",
       "\t<tr><th scope=row>ASV_636</th><td>Bacteria           </td><td>Deinococcus_Thermus</td><td>NA                 </td><td>NA                 </td><td>NA                 </td><td>NA                 </td><td>NA                 </td></tr>\n",
       "\t<tr><th scope=row>ASV_637</th><td>Bacteria           </td><td>Chloroflexi        </td><td>NA                 </td><td>NA                 </td><td>NA                 </td><td>NA                 </td><td>NA                 </td></tr>\n",
       "\t<tr><th scope=row>ASV_658</th><td>Bacteria           </td><td>Cyanobacteria      </td><td>NA                 </td><td>NA                 </td><td>NA                 </td><td>NA                 </td><td>NA                 </td></tr>\n",
       "\t<tr><th scope=row>ASV_663</th><td>Bacteria           </td><td>WPS_2              </td><td>NA                 </td><td>NA                 </td><td>NA                 </td><td>NA                 </td><td>NA                 </td></tr>\n",
       "\t<tr><th scope=row>ASV_666</th><td>Bacteria           </td><td>Planctomycetes     </td><td>NA                 </td><td>NA                 </td><td>NA                 </td><td>NA                 </td><td>NA                 </td></tr>\n",
       "\t<tr><th scope=row>ASV_730</th><td>Bacteria           </td><td>Actinobacteria     </td><td>NA                 </td><td>NA                 </td><td>NA                 </td><td>NA                 </td><td>NA                 </td></tr>\n",
       "\t<tr><th scope=row>ASV_755</th><td>Bacteria           </td><td>Synergistetes      </td><td>NA                 </td><td>NA                 </td><td>NA                 </td><td>NA                 </td><td>NA                 </td></tr>\n",
       "\t<tr><th scope=row>ASV_853</th><td>Bacteria           </td><td>FCPU426            </td><td>NA                 </td><td>NA                 </td><td>NA                 </td><td>NA                 </td><td>NA                 </td></tr>\n",
       "\t<tr><th scope=row>ASV_937</th><td>Bacteria           </td><td>Tenericutes        </td><td>NA                 </td><td>NA                 </td><td>NA                 </td><td>NA                 </td><td>NA                 </td></tr>\n",
       "\t<tr><th scope=row>ASV_1242</th><td>Bacteria           </td><td>Firmicutes         </td><td>NA                 </td><td>NA                 </td><td>NA                 </td><td>NA                 </td><td>NA                 </td></tr>\n",
       "\t<tr><th scope=row>ASV_1307</th><td>Bacteria           </td><td>Verrucomicrobia    </td><td>NA                 </td><td>NA                 </td><td>NA                 </td><td>NA                 </td><td>NA                 </td></tr>\n",
       "</tbody>\n",
       "</table>\n"
      ],
      "text/latex": [
       "\\begin{tabular}{r|lllllll}\n",
       "  & Kingdom & Phylum & Class & Order & Family & Genus & asv\\_hash\\\\\n",
       "\\hline\n",
       "\tASV\\_1 & Bacteria            & Lentisphaerae       & NA                  & NA                  & NA                  & NA                  & NA                 \\\\\n",
       "\tASV\\_18 & Bacteria            & Fusobacteria        & NA                  & NA                  & NA                  & NA                  & NA                 \\\\\n",
       "\tASV\\_20 & Bacteria            & Spirochaetes        & NA                  & NA                  & NA                  & NA                  & NA                 \\\\\n",
       "\tASV\\_21 & Bacteria            & Fibrobacteres       & NA                  & NA                  & NA                  & NA                  & NA                 \\\\\n",
       "\tASV\\_24 & Bacteria            & Epsilonbacteraeota  & NA                  & NA                  & NA                  & NA                  & NA                 \\\\\n",
       "\tASV\\_232 & Bacteria            & Bacteroidetes       & NA                  & NA                  & NA                  & NA                  & NA                 \\\\\n",
       "\tASV\\_293 & Bacteria            & Patescibacteria     & NA                  & NA                  & NA                  & NA                  & NA                 \\\\\n",
       "\tASV\\_294 & Bacteria            & Armatimonadetes     & NA                  & NA                  & NA                  & NA                  & NA                 \\\\\n",
       "\tASV\\_456 & Bacteria            & Proteobacteria      & NA                  & NA                  & NA                  & NA                  & NA                 \\\\\n",
       "\tASV\\_470 & Bacteria            & Rokubacteria        & NA                  & NA                  & NA                  & NA                  & NA                 \\\\\n",
       "\tASV\\_507 & Bacteria            & Acidobacteria       & NA                  & NA                  & NA                  & NA                  & NA                 \\\\\n",
       "\tASV\\_636 & Bacteria              & Deinococcus\\_Thermus & NA                    & NA                    & NA                    & NA                    & NA                   \\\\\n",
       "\tASV\\_637 & Bacteria            & Chloroflexi         & NA                  & NA                  & NA                  & NA                  & NA                 \\\\\n",
       "\tASV\\_658 & Bacteria            & Cyanobacteria       & NA                  & NA                  & NA                  & NA                  & NA                 \\\\\n",
       "\tASV\\_663 & Bacteria              & WPS\\_2               & NA                    & NA                    & NA                    & NA                    & NA                   \\\\\n",
       "\tASV\\_666 & Bacteria            & Planctomycetes      & NA                  & NA                  & NA                  & NA                  & NA                 \\\\\n",
       "\tASV\\_730 & Bacteria            & Actinobacteria      & NA                  & NA                  & NA                  & NA                  & NA                 \\\\\n",
       "\tASV\\_755 & Bacteria            & Synergistetes       & NA                  & NA                  & NA                  & NA                  & NA                 \\\\\n",
       "\tASV\\_853 & Bacteria            & FCPU426             & NA                  & NA                  & NA                  & NA                  & NA                 \\\\\n",
       "\tASV\\_937 & Bacteria            & Tenericutes         & NA                  & NA                  & NA                  & NA                  & NA                 \\\\\n",
       "\tASV\\_1242 & Bacteria            & Firmicutes          & NA                  & NA                  & NA                  & NA                  & NA                 \\\\\n",
       "\tASV\\_1307 & Bacteria            & Verrucomicrobia     & NA                  & NA                  & NA                  & NA                  & NA                 \\\\\n",
       "\\end{tabular}\n"
      ],
      "text/markdown": [
       "\n",
       "| <!--/--> | Kingdom | Phylum | Class | Order | Family | Genus | asv_hash |\n",
       "|---|---|---|---|---|---|---|---|\n",
       "| ASV_1 | Bacteria            | Lentisphaerae       | NA                  | NA                  | NA                  | NA                  | NA                  |\n",
       "| ASV_18 | Bacteria            | Fusobacteria        | NA                  | NA                  | NA                  | NA                  | NA                  |\n",
       "| ASV_20 | Bacteria            | Spirochaetes        | NA                  | NA                  | NA                  | NA                  | NA                  |\n",
       "| ASV_21 | Bacteria            | Fibrobacteres       | NA                  | NA                  | NA                  | NA                  | NA                  |\n",
       "| ASV_24 | Bacteria            | Epsilonbacteraeota  | NA                  | NA                  | NA                  | NA                  | NA                  |\n",
       "| ASV_232 | Bacteria            | Bacteroidetes       | NA                  | NA                  | NA                  | NA                  | NA                  |\n",
       "| ASV_293 | Bacteria            | Patescibacteria     | NA                  | NA                  | NA                  | NA                  | NA                  |\n",
       "| ASV_294 | Bacteria            | Armatimonadetes     | NA                  | NA                  | NA                  | NA                  | NA                  |\n",
       "| ASV_456 | Bacteria            | Proteobacteria      | NA                  | NA                  | NA                  | NA                  | NA                  |\n",
       "| ASV_470 | Bacteria            | Rokubacteria        | NA                  | NA                  | NA                  | NA                  | NA                  |\n",
       "| ASV_507 | Bacteria            | Acidobacteria       | NA                  | NA                  | NA                  | NA                  | NA                  |\n",
       "| ASV_636 | Bacteria            | Deinococcus_Thermus | NA                  | NA                  | NA                  | NA                  | NA                  |\n",
       "| ASV_637 | Bacteria            | Chloroflexi         | NA                  | NA                  | NA                  | NA                  | NA                  |\n",
       "| ASV_658 | Bacteria            | Cyanobacteria       | NA                  | NA                  | NA                  | NA                  | NA                  |\n",
       "| ASV_663 | Bacteria            | WPS_2               | NA                  | NA                  | NA                  | NA                  | NA                  |\n",
       "| ASV_666 | Bacteria            | Planctomycetes      | NA                  | NA                  | NA                  | NA                  | NA                  |\n",
       "| ASV_730 | Bacteria            | Actinobacteria      | NA                  | NA                  | NA                  | NA                  | NA                  |\n",
       "| ASV_755 | Bacteria            | Synergistetes       | NA                  | NA                  | NA                  | NA                  | NA                  |\n",
       "| ASV_853 | Bacteria            | FCPU426             | NA                  | NA                  | NA                  | NA                  | NA                  |\n",
       "| ASV_937 | Bacteria            | Tenericutes         | NA                  | NA                  | NA                  | NA                  | NA                  |\n",
       "| ASV_1242 | Bacteria            | Firmicutes          | NA                  | NA                  | NA                  | NA                  | NA                  |\n",
       "| ASV_1307 | Bacteria            | Verrucomicrobia     | NA                  | NA                  | NA                  | NA                  | NA                  |\n",
       "\n"
      ],
      "text/plain": [
       "         Kingdom  Phylum              Class Order Family Genus asv_hash\n",
       "ASV_1    Bacteria Lentisphaerae       NA    NA    NA     NA    NA      \n",
       "ASV_18   Bacteria Fusobacteria        NA    NA    NA     NA    NA      \n",
       "ASV_20   Bacteria Spirochaetes        NA    NA    NA     NA    NA      \n",
       "ASV_21   Bacteria Fibrobacteres       NA    NA    NA     NA    NA      \n",
       "ASV_24   Bacteria Epsilonbacteraeota  NA    NA    NA     NA    NA      \n",
       "ASV_232  Bacteria Bacteroidetes       NA    NA    NA     NA    NA      \n",
       "ASV_293  Bacteria Patescibacteria     NA    NA    NA     NA    NA      \n",
       "ASV_294  Bacteria Armatimonadetes     NA    NA    NA     NA    NA      \n",
       "ASV_456  Bacteria Proteobacteria      NA    NA    NA     NA    NA      \n",
       "ASV_470  Bacteria Rokubacteria        NA    NA    NA     NA    NA      \n",
       "ASV_507  Bacteria Acidobacteria       NA    NA    NA     NA    NA      \n",
       "ASV_636  Bacteria Deinococcus_Thermus NA    NA    NA     NA    NA      \n",
       "ASV_637  Bacteria Chloroflexi         NA    NA    NA     NA    NA      \n",
       "ASV_658  Bacteria Cyanobacteria       NA    NA    NA     NA    NA      \n",
       "ASV_663  Bacteria WPS_2               NA    NA    NA     NA    NA      \n",
       "ASV_666  Bacteria Planctomycetes      NA    NA    NA     NA    NA      \n",
       "ASV_730  Bacteria Actinobacteria      NA    NA    NA     NA    NA      \n",
       "ASV_755  Bacteria Synergistetes       NA    NA    NA     NA    NA      \n",
       "ASV_853  Bacteria FCPU426             NA    NA    NA     NA    NA      \n",
       "ASV_937  Bacteria Tenericutes         NA    NA    NA     NA    NA      \n",
       "ASV_1242 Bacteria Firmicutes          NA    NA    NA     NA    NA      \n",
       "ASV_1307 Bacteria Verrucomicrobia     NA    NA    NA     NA    NA      "
      ]
     },
     "metadata": {},
     "output_type": "display_data"
    }
   ],
   "source": [
    "tax_table(phy_phylum)"
   ]
  },
  {
   "cell_type": "markdown",
   "metadata": {},
   "source": [
    "#  Plotting abundances<a class=\"anchor\" id=\"plot\"></a>\n",
    "Let's put together some different functions to plot the most abundant families in the 1 week samples"
   ]
  },
  {
   "cell_type": "markdown",
   "metadata": {},
   "source": [
    "Agglomorate to familes:"
   ]
  },
  {
   "cell_type": "code",
   "execution_count": 20,
   "metadata": {},
   "outputs": [],
   "source": [
    "phy_fam <- tax_glom(phy_1w, \"Family\")"
   ]
  },
  {
   "cell_type": "markdown",
   "metadata": {},
   "source": [
    "Transform to relative abundance:"
   ]
  },
  {
   "cell_type": "code",
   "execution_count": 21,
   "metadata": {},
   "outputs": [],
   "source": [
    "phy_fam_rel <- transform_sample_counts(phy_fam, function(x) x/sum(x))"
   ]
  },
  {
   "cell_type": "markdown",
   "metadata": {},
   "source": [
    "Filter low abundant:"
   ]
  },
  {
   "cell_type": "code",
   "execution_count": 22,
   "metadata": {},
   "outputs": [
    {
     "name": "stderr",
     "output_type": "stream",
     "text": [
      "145 features grouped as 'Others' in the output\n"
     ]
    }
   ],
   "source": [
    "phy_fam_rel_abund <- preDA(phy_fam_rel, min.abundance = 0.03)"
   ]
  },
  {
   "cell_type": "markdown",
   "metadata": {},
   "source": [
    "We can transform the whole phyloseq object into a data.frame useful for plotting:"
   ]
  },
  {
   "cell_type": "code",
   "execution_count": 23,
   "metadata": {},
   "outputs": [],
   "source": [
    "phy_df <- psmelt(phy_fam_rel_abund)"
   ]
  },
  {
   "cell_type": "markdown",
   "metadata": {},
   "source": [
    "### Plot bar chart"
   ]
  },
  {
   "cell_type": "code",
   "execution_count": 25,
   "metadata": {},
   "outputs": [],
   "source": [
    "library(ggplot2)"
   ]
  },
  {
   "cell_type": "markdown",
   "metadata": {},
   "source": [
    "* geom_bar makes a barchart\n",
    "* fill tells ggplot how to color the bars\n",
    "* All the filtered taxa are grouped as NA"
   ]
  },
  {
   "cell_type": "code",
   "execution_count": 26,
   "metadata": {},
   "outputs": [
    {
     "data": {
      "image/png": "[encoded data removed]",
      "text/plain": [
       "plot without title"
      ]
     },
     "metadata": {},
     "output_type": "display_data"
    }
   ],
   "source": [
    "p <- ggplot(phy_df, aes(x = Sample, y = Abundance, fill = Family)) +\n",
    "  theme_bw() +\n",
    "  geom_bar(stat = \"identity\")\n",
    "p"
   ]
  },
  {
   "cell_type": "markdown",
   "metadata": {},
   "source": [
    "We can use facet's to split the plot depending on Delivery mode. And we angle the x labels and make them samller."
   ]
  },
  {
   "cell_type": "code",
   "execution_count": 27,
   "metadata": {},
   "outputs": [
    {
     "data": {
      "image/png": "[encoded data removed]",
      "text/plain": [
       "plot without title"
      ]
     },
     "metadata": {},
     "output_type": "display_data"
    }
   ],
   "source": [
    "p <- ggplot(phy_df, aes(x = Sample, y = Abundance, fill = Family)) +\n",
    "  theme_bw() +\n",
    "  geom_bar(stat = \"identity\") +\n",
    "  facet_grid(~ Delivery, space = \"free\", scales = \"free\") +\n",
    "  theme(axis.text.x = element_text(angle=90, size=6))\n",
    "p"
   ]
  }
 ],
 "metadata": {
  "kernelspec": {
   "display_name": "R",
   "language": "R",
   "name": "ir"
  },
  "language_info": {
   "codemirror_mode": "r",
   "file_extension": ".r",
   "mimetype": "text/x-r-source",
   "name": "R",
   "pygments_lexer": "r",
   "version": "3.6.1"
  }
 },
 "nbformat": 4,
 "nbformat_minor": 2
}
